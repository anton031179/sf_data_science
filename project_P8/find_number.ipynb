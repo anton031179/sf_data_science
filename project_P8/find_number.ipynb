{
 "cells": [
  {
   "cell_type": "code",
   "execution_count": 26,
   "metadata": {},
   "outputs": [
    {
     "name": "stdout",
     "output_type": "stream",
     "text": [
      "Ваш алгоритм угадывает число в среднем за: 5 попытки\n"
     ]
    }
   ],
   "source": [
    "import numpy as np\n",
    "\n",
    "def discard_half(number: int = 1) -> int:\n",
    "    \"\"\"Алгоритм поиска случайного числа отбрасыванием половины интервала \n",
    "    Args:\n",
    "        number (int, optional): Случайное число. Defaults to 1.\n",
    "\n",
    "    Returns:\n",
    "        int: Число попыток\n",
    "    \"\"\"\n",
    "    count = 0\n",
    "    mn = 0\n",
    "    mx = 100 \n",
    "    while True:\n",
    "        count += 1\n",
    "        md = round((mn + mx)/2) # делим интервал пополам о отбрасываем часть, где нет искомого числа\n",
    "        if md > number:\n",
    "            mx = md\n",
    "        elif md < number:\n",
    "            mn = md\n",
    "        else:\n",
    "            break \n",
    "        \n",
    "    return count\n",
    "\n",
    "\n",
    "def many_attempts(algoritm_name) -> int:\n",
    "    \"\"\"Проверка алгоритма поиска случайного числа за 1000 подходов\n",
    "\n",
    "    Args:\n",
    "        random_predict ([type]): Алгоритм поиска\n",
    "\n",
    "    Returns:\n",
    "        int: среднее количество попыток для поиска \n",
    "    \"\"\"\n",
    "    count_ls = []\n",
    "    np.random.seed(1) # фиксируем сид \n",
    "    random_array = np.random.randint(1, 100, size=(1000)) # массив случайных целых чисел\n",
    "    for number in random_array:\n",
    "        count_ls.append(algoritm_name(number))\n",
    "        \n",
    "    score = int(np.mean(count_ls))\n",
    "    print(f\"Ваш алгоритм угадывает число в среднем за: {score} попытки\")\n",
    "  \n",
    "many_attempts(discard_half) #запуск проверки алгоритма\n",
    "    "
   ]
  }
 ],
 "metadata": {
  "interpreter": {
   "hash": "4604fddfbe3ec3d9d385c207fa0ddb9a05dfef66380401ad05b04bbd42d45367"
  },
  "kernelspec": {
   "display_name": "Python 3.10.4 64-bit",
   "language": "python",
   "name": "python3"
  },
  "language_info": {
   "codemirror_mode": {
    "name": "ipython",
    "version": 3
   },
   "file_extension": ".py",
   "mimetype": "text/x-python",
   "name": "python",
   "nbconvert_exporter": "python",
   "pygments_lexer": "ipython3",
   "version": "3.10.4"
  },
  "orig_nbformat": 4
 },
 "nbformat": 4,
 "nbformat_minor": 2
}
