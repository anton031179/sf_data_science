{
 "cells": [
  {
   "attachments": {},
   "cell_type": "markdown",
   "metadata": {},
   "source": [
    "### 4. Практика"
   ]
  },
  {
   "attachments": {},
   "cell_type": "markdown",
   "metadata": {},
   "source": [
    "Данные представлены в формате CSV.  Каждая строка представляет молекулу. \n",
    "\n",
    "- Первый столбец Activity содержит экспериментальные данные, описывающие фактический биологический ответ [0, 1]; \n",
    "- Остальные столбцы D1-D1776 представляют собой молекулярные **дескрипторы** — это вычисляемые свойства, которые могут фиксировать некоторые характеристики молекулы, например размер, форму или состав элементов."
   ]
  },
  {
   "attachments": {},
   "cell_type": "markdown",
   "metadata": {},
   "source": [
    "Предварительная обработка не требуется, данные уже закодированы и нормализованы.\n",
    "\n",
    "В качестве метрики будем использовать **F1-score**.\n",
    "\n",
    "Необходимо обучить две модели: **логистическую регрессию и случайный лес**. Далее нужно сделать подбор гиперпараметров с помощью базовых и продвинутых методов оптимизации. Важно использовать **все четыре метода** (GridSeachCV, RandomizedSearchCV, Hyperopt, Optuna) хотя бы по разу, максимальное количество итераций не должно превышать 50."
   ]
  },
  {
   "cell_type": "code",
   "execution_count": 16,
   "metadata": {},
   "outputs": [],
   "source": [
    "#импорт библиотек\n",
    "import numpy as np #для матричных вычислений\n",
    "import pandas as pd #для анализа и предобработки данных\n",
    "import matplotlib.pyplot as plt #для визуализации\n",
    "import seaborn as sns #для визуализации\n",
    "\n",
    "from sklearn import linear_model #линейные моделиё\n",
    "from sklearn import tree #деревья решений\n",
    "from sklearn import ensemble #ансамбли\n",
    "from sklearn import metrics #метрики\n",
    "from sklearn import preprocessing #предобработка\n",
    "from sklearn.model_selection import train_test_split #сплитование выборки\n",
    "from sklearn.model_selection import cross_val_score\n",
    "import hyperopt\n",
    "from hyperopt import hp, fmin, tpe, Trials\n",
    "import optuna\n",
    "import warnings\n",
    "\n",
    "%matplotlib inline\n",
    "plt.style.use('seaborn')"
   ]
  },
  {
   "cell_type": "code",
   "execution_count": 2,
   "metadata": {},
   "outputs": [
    {
     "data": {
      "text/html": [
       "<div>\n",
       "<style scoped>\n",
       "    .dataframe tbody tr th:only-of-type {\n",
       "        vertical-align: middle;\n",
       "    }\n",
       "\n",
       "    .dataframe tbody tr th {\n",
       "        vertical-align: top;\n",
       "    }\n",
       "\n",
       "    .dataframe thead th {\n",
       "        text-align: right;\n",
       "    }\n",
       "</style>\n",
       "<table border=\"1\" class=\"dataframe\">\n",
       "  <thead>\n",
       "    <tr style=\"text-align: right;\">\n",
       "      <th></th>\n",
       "      <th>Activity</th>\n",
       "      <th>D1</th>\n",
       "      <th>D2</th>\n",
       "      <th>D3</th>\n",
       "      <th>D4</th>\n",
       "      <th>D5</th>\n",
       "      <th>D6</th>\n",
       "      <th>D7</th>\n",
       "      <th>D8</th>\n",
       "      <th>D9</th>\n",
       "      <th>...</th>\n",
       "      <th>D1767</th>\n",
       "      <th>D1768</th>\n",
       "      <th>D1769</th>\n",
       "      <th>D1770</th>\n",
       "      <th>D1771</th>\n",
       "      <th>D1772</th>\n",
       "      <th>D1773</th>\n",
       "      <th>D1774</th>\n",
       "      <th>D1775</th>\n",
       "      <th>D1776</th>\n",
       "    </tr>\n",
       "  </thead>\n",
       "  <tbody>\n",
       "    <tr>\n",
       "      <th>0</th>\n",
       "      <td>1</td>\n",
       "      <td>0.000000</td>\n",
       "      <td>0.497009</td>\n",
       "      <td>0.10</td>\n",
       "      <td>0.0</td>\n",
       "      <td>0.132956</td>\n",
       "      <td>0.678031</td>\n",
       "      <td>0.273166</td>\n",
       "      <td>0.585445</td>\n",
       "      <td>0.743663</td>\n",
       "      <td>...</td>\n",
       "      <td>0</td>\n",
       "      <td>0</td>\n",
       "      <td>0</td>\n",
       "      <td>0</td>\n",
       "      <td>0</td>\n",
       "      <td>0</td>\n",
       "      <td>0</td>\n",
       "      <td>0</td>\n",
       "      <td>0</td>\n",
       "      <td>0</td>\n",
       "    </tr>\n",
       "    <tr>\n",
       "      <th>1</th>\n",
       "      <td>1</td>\n",
       "      <td>0.366667</td>\n",
       "      <td>0.606291</td>\n",
       "      <td>0.05</td>\n",
       "      <td>0.0</td>\n",
       "      <td>0.111209</td>\n",
       "      <td>0.803455</td>\n",
       "      <td>0.106105</td>\n",
       "      <td>0.411754</td>\n",
       "      <td>0.836582</td>\n",
       "      <td>...</td>\n",
       "      <td>1</td>\n",
       "      <td>1</td>\n",
       "      <td>1</td>\n",
       "      <td>1</td>\n",
       "      <td>0</td>\n",
       "      <td>1</td>\n",
       "      <td>0</td>\n",
       "      <td>0</td>\n",
       "      <td>1</td>\n",
       "      <td>0</td>\n",
       "    </tr>\n",
       "    <tr>\n",
       "      <th>2</th>\n",
       "      <td>1</td>\n",
       "      <td>0.033300</td>\n",
       "      <td>0.480124</td>\n",
       "      <td>0.00</td>\n",
       "      <td>0.0</td>\n",
       "      <td>0.209791</td>\n",
       "      <td>0.610350</td>\n",
       "      <td>0.356453</td>\n",
       "      <td>0.517720</td>\n",
       "      <td>0.679051</td>\n",
       "      <td>...</td>\n",
       "      <td>0</td>\n",
       "      <td>0</td>\n",
       "      <td>0</td>\n",
       "      <td>0</td>\n",
       "      <td>0</td>\n",
       "      <td>0</td>\n",
       "      <td>0</td>\n",
       "      <td>0</td>\n",
       "      <td>0</td>\n",
       "      <td>0</td>\n",
       "    </tr>\n",
       "    <tr>\n",
       "      <th>3</th>\n",
       "      <td>1</td>\n",
       "      <td>0.000000</td>\n",
       "      <td>0.538825</td>\n",
       "      <td>0.00</td>\n",
       "      <td>0.5</td>\n",
       "      <td>0.196344</td>\n",
       "      <td>0.724230</td>\n",
       "      <td>0.235606</td>\n",
       "      <td>0.288764</td>\n",
       "      <td>0.805110</td>\n",
       "      <td>...</td>\n",
       "      <td>0</td>\n",
       "      <td>0</td>\n",
       "      <td>0</td>\n",
       "      <td>0</td>\n",
       "      <td>0</td>\n",
       "      <td>0</td>\n",
       "      <td>0</td>\n",
       "      <td>0</td>\n",
       "      <td>0</td>\n",
       "      <td>0</td>\n",
       "    </tr>\n",
       "    <tr>\n",
       "      <th>4</th>\n",
       "      <td>0</td>\n",
       "      <td>0.100000</td>\n",
       "      <td>0.517794</td>\n",
       "      <td>0.00</td>\n",
       "      <td>0.0</td>\n",
       "      <td>0.494734</td>\n",
       "      <td>0.781422</td>\n",
       "      <td>0.154361</td>\n",
       "      <td>0.303809</td>\n",
       "      <td>0.812646</td>\n",
       "      <td>...</td>\n",
       "      <td>0</td>\n",
       "      <td>0</td>\n",
       "      <td>0</td>\n",
       "      <td>0</td>\n",
       "      <td>0</td>\n",
       "      <td>0</td>\n",
       "      <td>0</td>\n",
       "      <td>0</td>\n",
       "      <td>0</td>\n",
       "      <td>0</td>\n",
       "    </tr>\n",
       "  </tbody>\n",
       "</table>\n",
       "<p>5 rows × 1777 columns</p>\n",
       "</div>"
      ],
      "text/plain": [
       "   Activity        D1        D2    D3   D4        D5        D6        D7  \\\n",
       "0         1  0.000000  0.497009  0.10  0.0  0.132956  0.678031  0.273166   \n",
       "1         1  0.366667  0.606291  0.05  0.0  0.111209  0.803455  0.106105   \n",
       "2         1  0.033300  0.480124  0.00  0.0  0.209791  0.610350  0.356453   \n",
       "3         1  0.000000  0.538825  0.00  0.5  0.196344  0.724230  0.235606   \n",
       "4         0  0.100000  0.517794  0.00  0.0  0.494734  0.781422  0.154361   \n",
       "\n",
       "         D8        D9  ...  D1767  D1768  D1769  D1770  D1771  D1772  D1773  \\\n",
       "0  0.585445  0.743663  ...      0      0      0      0      0      0      0   \n",
       "1  0.411754  0.836582  ...      1      1      1      1      0      1      0   \n",
       "2  0.517720  0.679051  ...      0      0      0      0      0      0      0   \n",
       "3  0.288764  0.805110  ...      0      0      0      0      0      0      0   \n",
       "4  0.303809  0.812646  ...      0      0      0      0      0      0      0   \n",
       "\n",
       "   D1774  D1775  D1776  \n",
       "0      0      0      0  \n",
       "1      0      1      0  \n",
       "2      0      0      0  \n",
       "3      0      0      0  \n",
       "4      0      0      0  \n",
       "\n",
       "[5 rows x 1777 columns]"
      ]
     },
     "execution_count": 2,
     "metadata": {},
     "output_type": "execute_result"
    }
   ],
   "source": [
    "# прочитаем исходный датасет\n",
    "data = pd.read_csv('data/_train_sem09 (1).csv')\n",
    "data.head()"
   ]
  },
  {
   "cell_type": "code",
   "execution_count": 3,
   "metadata": {},
   "outputs": [],
   "source": [
    "# выделим целевой признак\n",
    "X = data.drop(['Activity'], axis=1)\n",
    "y = data['Activity']\n",
    "# выделим тренировочную и тестовую выборки\n",
    "X_train, X_test, y_train, y_test = train_test_split(X, y, stratify=y, random_state = 1, test_size = 0.2)"
   ]
  },
  {
   "attachments": {},
   "cell_type": "markdown",
   "metadata": {},
   "source": [
    "### Подбор параметров для модели **логистической регресии**"
   ]
  },
  {
   "cell_type": "code",
   "execution_count": 19,
   "metadata": {},
   "outputs": [
    {
     "name": "stdout",
     "output_type": "stream",
     "text": [
      "f1_score на тестовом наборе: 0.79\n"
     ]
    }
   ],
   "source": [
    "warnings.filterwarnings(\"ignore\")\n",
    "#Создаем объект класса логистическая регрессия\n",
    "log_reg = linear_model.LogisticRegression(random_state=42, max_iter=50)\n",
    "#Обучаем модель, минимизируя logloss\n",
    "log_reg.fit(X_train, y_train)\n",
    "y_test_pred = log_reg.predict(X_test)\n",
    "print('f1_score на тестовом наборе: {:.2f}'.format(metrics.f1_score(y_test, y_test_pred)))"
   ]
  },
  {
   "attachments": {},
   "cell_type": "markdown",
   "metadata": {},
   "source": [
    "### GridSearchCV (для логистической регресии)"
   ]
  },
  {
   "cell_type": "code",
   "execution_count": 17,
   "metadata": {},
   "outputs": [
    {
     "name": "stdout",
     "output_type": "stream",
     "text": [
      "CPU times: total: 3.08 s\n",
      "Wall time: 40 s\n",
      "Наилучшие значения гиперпараметров: {'C': 1.12, 'penalty': 'l2', 'solver': 'saga'}\n",
      "f1_score на тестовом наборе: 0.78\n"
     ]
    }
   ],
   "source": [
    "from sklearn.model_selection import GridSearchCV\n",
    "warnings.filterwarnings(\"ignore\")\n",
    "\n",
    "\n",
    "param_grid = {'penalty': ['l2', 'none'] ,#тип регурялизации\n",
    "              'solver': ['lbfgs', 'saga'], #алгоритм оптимизации\n",
    "              'C': list(np.linspace(0.01, 10, 10, dtype=float))}\n",
    "grid_search = GridSearchCV(\n",
    "    estimator=linear_model.LogisticRegression(\n",
    "        random_state=42, #генератор случайных чисел\n",
    "        max_iter=50 #количество итераций на сходимость\n",
    "    ), \n",
    "    param_grid=param_grid, \n",
    "    cv=5, \n",
    "    n_jobs = -1\n",
    ")  \n",
    "%time grid_search.fit(X_train, y_train) \n",
    "#print(\"accuracy на тестовом наборе: {:.2f}\".format(grid_search.score(X_test_scaled, y_test)))\n",
    "y_test_pred = grid_search.predict(X_test)\n",
    "print(\"Наилучшие значения гиперпараметров: {}\".format(grid_search.best_params_))\n",
    "print('f1_score на тестовом наборе: {:.2f}'.format(metrics.f1_score(y_test, y_test_pred)))\n"
   ]
  },
  {
   "attachments": {},
   "cell_type": "markdown",
   "metadata": {},
   "source": [
    "### RandomizedSearchCV (для логистической регресии)"
   ]
  },
  {
   "cell_type": "code",
   "execution_count": 20,
   "metadata": {},
   "outputs": [
    {
     "name": "stdout",
     "output_type": "stream",
     "text": [
      "CPU times: total: 2.75 s\n",
      "Wall time: 14.6 s\n",
      "Наилучшие значения гиперпараметров: {'solver': 'sag', 'penalty': 'l2', 'C': 0.12}\n",
      "f1_score на тестовом наборе: 0.79\n"
     ]
    }
   ],
   "source": [
    "from sklearn.model_selection import RandomizedSearchCV\n",
    "warnings.filterwarnings(\"ignore\")\n",
    "\n",
    "\n",
    "#np.linspace(start(от), stop(до), num=50(количество),dtype- тип данных)\n",
    "param_distributions = {'penalty': ['l2', 'none'] ,\n",
    "              'solver': ['lbfgs', 'sag'],\n",
    "               'C': list(np.linspace(0.01, 1, 10, dtype=float))},\n",
    "            \n",
    "random_search = RandomizedSearchCV(\n",
    "    estimator=linear_model.LogisticRegression(random_state=42, max_iter=50), \n",
    "    param_distributions=param_distributions, \n",
    "    cv=5, \n",
    "    n_iter = 10, \n",
    "    n_jobs = -1\n",
    ")  \n",
    "%time random_search.fit(X_train, y_train) \n",
    "y_test_pred = random_search.predict(X_test)\n",
    "print(\"Наилучшие значения гиперпараметров: {}\".format(random_search.best_params_))\n",
    "print('f1_score на тестовом наборе: {:.2f}'.format(metrics.f1_score(y_test, y_test_pred)))\n"
   ]
  },
  {
   "attachments": {},
   "cell_type": "markdown",
   "metadata": {},
   "source": [
    "### Подбор параметров для модели **случайный лес**"
   ]
  },
  {
   "cell_type": "code",
   "execution_count": 7,
   "metadata": {},
   "outputs": [
    {
     "name": "stdout",
     "output_type": "stream",
     "text": [
      "f1_score на тестовом наборе: 0.81\n"
     ]
    }
   ],
   "source": [
    "#Создаем объект класса случайный лес\n",
    "rf = ensemble.RandomForestClassifier(random_state=42)\n",
    "\n",
    "#Обучаем модель\n",
    "rf.fit(X_train, y_train)\n",
    "#Выводим значения метрики \n",
    "y_test_pred = rf.predict(X_test)\n",
    "print('f1_score на тестовом наборе: {:.2f}'.format(metrics.f1_score(y_test, y_test_pred)))"
   ]
  },
  {
   "attachments": {},
   "cell_type": "markdown",
   "metadata": {},
   "source": [
    "### Hyperopt (для случайного леса)"
   ]
  },
  {
   "cell_type": "code",
   "execution_count": 12,
   "metadata": {},
   "outputs": [
    {
     "name": "stdout",
     "output_type": "stream",
     "text": [
      "100%|██████████| 50/50 [03:56<00:00,  4.73s/trial, best loss: -0.8124203668946883]\n",
      "Наилучшие значения гиперпараметров {'max_depth': 20.0, 'min_samples_leaf': 2.0, 'n_estimators': 158.0}\n",
      "f1_score на тестовом наборе: 0.83\n"
     ]
    }
   ],
   "source": [
    "# зададим пространство поиска гиперпараметров\n",
    "space={'n_estimators': hp.quniform('n_estimators', 100, 200, 1),\n",
    "       'max_depth' : hp.quniform('max_depth', 15, 26, 1),\n",
    "       'min_samples_leaf': hp.quniform('min_samples_leaf', 2, 10, 1)\n",
    "      }\n",
    "\n",
    "# зафксируем random_state\n",
    "random_state = 42\n",
    "def hyperopt_rf(params, cv=5, X=X_train, y=y_train, random_state=random_state):\n",
    "    # функция получает комбинацию гиперпараметров в \"params\"\n",
    "    params = {'n_estimators': int(params['n_estimators']), \n",
    "              'max_depth': int(params['max_depth']), \n",
    "             'min_samples_leaf': int(params['min_samples_leaf'])\n",
    "              }\n",
    "  \n",
    "    # используем эту комбинацию для построения модели\n",
    "    model = ensemble.RandomForestClassifier(**params, random_state=random_state)\n",
    "\n",
    "    # обучаем модель\n",
    "    model.fit(X, y)\n",
    "    #score = metrics.f1_score(y, model.predict(X))\n",
    "    \n",
    "    # применим  cross validation с тем же количеством фолдов\n",
    "    score = cross_val_score(model, X, y, cv=cv, scoring=\"f1\", n_jobs=-1).mean()\n",
    "\n",
    "    # метрику необходимо минимизировать, поэтому ставим знак минус\n",
    "    return -score\n",
    "\n",
    "\n",
    "# начинаем подбор гиперпараметров\n",
    "#%%time\n",
    "\n",
    "trials = Trials() # используется для логирования результатов\n",
    "\n",
    "best=fmin(hyperopt_rf, # наша функция \n",
    "          space=space, # пространство гиперпараметров\n",
    "          algo=tpe.suggest, # алгоритм оптимизации, установлен по умолчанию, задавать необязательно\n",
    "          max_evals=50, # максимальное количество итераций\n",
    "          trials=trials, # логирование результатов\n",
    "          rstate=np.random.default_rng(random_state)# фиксируем для повторяемости результата\n",
    "         )\n",
    "print(\"Наилучшие значения гиперпараметров {}\".format(best))\n",
    "\n",
    "# рассчитаем точность для тестовой выборки\n",
    "model = ensemble.RandomForestClassifier(\n",
    "    random_state=random_state, \n",
    "    n_estimators=int(best['n_estimators']),\n",
    "    max_depth=int(best['max_depth']),\n",
    "    min_samples_leaf=int(best['min_samples_leaf'])\n",
    ")\n",
    "model.fit(X_train, y_train)\n",
    "y_test_pred = model.predict(X_test)\n",
    "print('f1_score на тестовом наборе: {:.2f}'.format(metrics.f1_score(y_test, y_test_pred)))"
   ]
  },
  {
   "attachments": {},
   "cell_type": "markdown",
   "metadata": {},
   "source": [
    "### Optuna (для случайного леса)"
   ]
  },
  {
   "cell_type": "code",
   "execution_count": 13,
   "metadata": {},
   "outputs": [
    {
     "name": "stderr",
     "output_type": "stream",
     "text": [
      "\u001b[32m[I 2022-12-30 19:59:06,881]\u001b[0m A new study created in memory with name: RandomForestClassifier\u001b[0m\n",
      "\u001b[32m[I 2022-12-30 19:59:11,832]\u001b[0m Trial 0 finished with value: 0.8129723801243169 and parameters: {'n_estimators': 148, 'max_depth': 24, 'min_samples_leaf': 3}. Best is trial 0 with value: 0.8129723801243169.\u001b[0m\n",
      "\u001b[32m[I 2022-12-30 19:59:15,880]\u001b[0m Trial 1 finished with value: 0.7964617146396095 and parameters: {'n_estimators': 138, 'max_depth': 12, 'min_samples_leaf': 7}. Best is trial 0 with value: 0.8129723801243169.\u001b[0m\n",
      "\u001b[32m[I 2022-12-30 19:59:21,959]\u001b[0m Trial 2 finished with value: 0.8055778388897814 and parameters: {'n_estimators': 188, 'max_depth': 18, 'min_samples_leaf': 6}. Best is trial 0 with value: 0.8129723801243169.\u001b[0m\n",
      "\u001b[32m[I 2022-12-30 19:59:25,761]\u001b[0m Trial 3 finished with value: 0.8003935858667688 and parameters: {'n_estimators': 100, 'max_depth': 16, 'min_samples_leaf': 8}. Best is trial 0 with value: 0.8129723801243169.\u001b[0m\n",
      "\u001b[32m[I 2022-12-30 19:59:32,162]\u001b[0m Trial 4 finished with value: 0.8092459672789453 and parameters: {'n_estimators': 184, 'max_depth': 15, 'min_samples_leaf': 4}. Best is trial 0 with value: 0.8129723801243169.\u001b[0m\n",
      "\u001b[32m[I 2022-12-30 19:59:35,925]\u001b[0m Trial 5 finished with value: 0.8060781845016696 and parameters: {'n_estimators': 115, 'max_depth': 23, 'min_samples_leaf': 7}. Best is trial 0 with value: 0.8129723801243169.\u001b[0m\n",
      "\u001b[32m[I 2022-12-30 19:59:41,651]\u001b[0m Trial 6 finished with value: 0.8000040714237452 and parameters: {'n_estimators': 177, 'max_depth': 12, 'min_samples_leaf': 9}. Best is trial 0 with value: 0.8129723801243169.\u001b[0m\n",
      "\u001b[32m[I 2022-12-30 19:59:45,709]\u001b[0m Trial 7 finished with value: 0.8014715330666009 and parameters: {'n_estimators': 123, 'max_depth': 25, 'min_samples_leaf': 6}. Best is trial 0 with value: 0.8129723801243169.\u001b[0m\n",
      "\u001b[32m[I 2022-12-30 19:59:50,159]\u001b[0m Trial 8 finished with value: 0.7962862658210103 and parameters: {'n_estimators': 151, 'max_depth': 19, 'min_samples_leaf': 9}. Best is trial 0 with value: 0.8129723801243169.\u001b[0m\n",
      "\u001b[32m[I 2022-12-30 19:59:54,644]\u001b[0m Trial 9 finished with value: 0.8082687758868261 and parameters: {'n_estimators': 127, 'max_depth': 16, 'min_samples_leaf': 4}. Best is trial 0 with value: 0.8129723801243169.\u001b[0m\n",
      "\u001b[32m[I 2022-12-30 20:00:00,736]\u001b[0m Trial 10 finished with value: 0.8170231181628358 and parameters: {'n_estimators': 160, 'max_depth': 29, 'min_samples_leaf': 2}. Best is trial 10 with value: 0.8170231181628358.\u001b[0m\n",
      "\u001b[32m[I 2022-12-30 20:00:06,464]\u001b[0m Trial 11 finished with value: 0.8170231181628358 and parameters: {'n_estimators': 160, 'max_depth': 29, 'min_samples_leaf': 2}. Best is trial 10 with value: 0.8170231181628358.\u001b[0m\n",
      "\u001b[32m[I 2022-12-30 20:00:12,752]\u001b[0m Trial 12 finished with value: 0.8165513055796391 and parameters: {'n_estimators': 159, 'max_depth': 30, 'min_samples_leaf': 2}. Best is trial 10 with value: 0.8170231181628358.\u001b[0m\n",
      "\u001b[32m[I 2022-12-30 20:00:19,076]\u001b[0m Trial 13 finished with value: 0.8172540002365929 and parameters: {'n_estimators': 168, 'max_depth': 30, 'min_samples_leaf': 2}. Best is trial 13 with value: 0.8172540002365929.\u001b[0m\n",
      "\u001b[32m[I 2022-12-30 20:00:24,555]\u001b[0m Trial 14 finished with value: 0.807098232255723 and parameters: {'n_estimators': 170, 'max_depth': 27, 'min_samples_leaf': 4}. Best is trial 13 with value: 0.8172540002365929.\u001b[0m\n",
      "\u001b[32m[I 2022-12-30 20:00:31,541]\u001b[0m Trial 15 finished with value: 0.8146425885606835 and parameters: {'n_estimators': 199, 'max_depth': 27, 'min_samples_leaf': 2}. Best is trial 13 with value: 0.8172540002365929.\u001b[0m\n",
      "\u001b[32m[I 2022-12-30 20:00:36,725]\u001b[0m Trial 16 finished with value: 0.805272746976458 and parameters: {'n_estimators': 170, 'max_depth': 22, 'min_samples_leaf': 5}. Best is trial 13 with value: 0.8172540002365929.\u001b[0m\n",
      "\u001b[32m[I 2022-12-30 20:00:41,729]\u001b[0m Trial 17 finished with value: 0.8116491966007139 and parameters: {'n_estimators': 143, 'max_depth': 27, 'min_samples_leaf': 3}. Best is trial 13 with value: 0.8172540002365929.\u001b[0m\n",
      "\u001b[32m[I 2022-12-30 20:00:47,603]\u001b[0m Trial 18 finished with value: 0.8102825851427701 and parameters: {'n_estimators': 161, 'max_depth': 30, 'min_samples_leaf': 3}. Best is trial 13 with value: 0.8172540002365929.\u001b[0m\n",
      "\u001b[32m[I 2022-12-30 20:00:52,805]\u001b[0m Trial 19 finished with value: 0.7945985015021078 and parameters: {'n_estimators': 193, 'max_depth': 26, 'min_samples_leaf': 10}. Best is trial 13 with value: 0.8172540002365929.\u001b[0m\n",
      "\u001b[32m[I 2022-12-30 20:00:58,420]\u001b[0m Trial 20 finished with value: 0.8049765761088794 and parameters: {'n_estimators': 175, 'max_depth': 21, 'min_samples_leaf': 5}. Best is trial 13 with value: 0.8172540002365929.\u001b[0m\n",
      "\u001b[32m[I 2022-12-30 20:01:04,479]\u001b[0m Trial 21 finished with value: 0.8160714643580629 and parameters: {'n_estimators': 159, 'max_depth': 29, 'min_samples_leaf': 2}. Best is trial 13 with value: 0.8172540002365929.\u001b[0m\n",
      "\u001b[32m[I 2022-12-30 20:01:11,343]\u001b[0m Trial 22 finished with value: 0.8169617765327679 and parameters: {'n_estimators': 163, 'max_depth': 28, 'min_samples_leaf': 2}. Best is trial 13 with value: 0.8172540002365929.\u001b[0m\n",
      "\u001b[32m[I 2022-12-30 20:01:16,900]\u001b[0m Trial 23 finished with value: 0.8088025988574896 and parameters: {'n_estimators': 152, 'max_depth': 30, 'min_samples_leaf': 3}. Best is trial 13 with value: 0.8172540002365929.\u001b[0m\n",
      "\u001b[32m[I 2022-12-30 20:01:22,005]\u001b[0m Trial 24 finished with value: 0.812279149748024 and parameters: {'n_estimators': 136, 'max_depth': 25, 'min_samples_leaf': 2}. Best is trial 13 with value: 0.8172540002365929.\u001b[0m\n",
      "\u001b[32m[I 2022-12-30 20:01:28,344]\u001b[0m Trial 25 finished with value: 0.8105758065925567 and parameters: {'n_estimators': 180, 'max_depth': 28, 'min_samples_leaf': 3}. Best is trial 13 with value: 0.8172540002365929.\u001b[0m\n",
      "\u001b[32m[I 2022-12-30 20:01:33,583]\u001b[0m Trial 26 finished with value: 0.8062414568690748 and parameters: {'n_estimators': 169, 'max_depth': 29, 'min_samples_leaf': 5}. Best is trial 13 with value: 0.8172540002365929.\u001b[0m\n",
      "\u001b[32m[I 2022-12-30 20:01:37,739]\u001b[0m Trial 27 finished with value: 0.8019187150219574 and parameters: {'n_estimators': 154, 'max_depth': 10, 'min_samples_leaf': 4}. Best is trial 13 with value: 0.8172540002365929.\u001b[0m\n",
      "\u001b[32m[I 2022-12-30 20:01:43,683]\u001b[0m Trial 28 finished with value: 0.8133503070599554 and parameters: {'n_estimators': 166, 'max_depth': 25, 'min_samples_leaf': 2}. Best is trial 13 with value: 0.8172540002365929.\u001b[0m\n",
      "\u001b[32m[I 2022-12-30 20:01:48,828]\u001b[0m Trial 29 finished with value: 0.8110900346453448 and parameters: {'n_estimators': 147, 'max_depth': 23, 'min_samples_leaf': 3}. Best is trial 13 with value: 0.8172540002365929.\u001b[0m\n",
      "\u001b[32m[I 2022-12-30 20:01:53,454]\u001b[0m Trial 30 finished with value: 0.804345296990997 and parameters: {'n_estimators': 135, 'max_depth': 28, 'min_samples_leaf': 4}. Best is trial 13 with value: 0.8172540002365929.\u001b[0m\n",
      "\u001b[32m[I 2022-12-30 20:02:01,207]\u001b[0m Trial 31 finished with value: 0.8169617765327679 and parameters: {'n_estimators': 163, 'max_depth': 28, 'min_samples_leaf': 2}. Best is trial 13 with value: 0.8172540002365929.\u001b[0m\n",
      "\u001b[32m[I 2022-12-30 20:02:07,929]\u001b[0m Trial 32 finished with value: 0.816245043613411 and parameters: {'n_estimators': 156, 'max_depth': 29, 'min_samples_leaf': 2}. Best is trial 13 with value: 0.8172540002365929.\u001b[0m\n",
      "\u001b[32m[I 2022-12-30 20:02:14,609]\u001b[0m Trial 33 finished with value: 0.8116631915514063 and parameters: {'n_estimators': 175, 'max_depth': 26, 'min_samples_leaf': 3}. Best is trial 13 with value: 0.8172540002365929.\u001b[0m\n",
      "\u001b[32m[I 2022-12-30 20:02:19,789]\u001b[0m Trial 34 finished with value: 0.8130282936086026 and parameters: {'n_estimators': 144, 'max_depth': 30, 'min_samples_leaf': 2}. Best is trial 13 with value: 0.8172540002365929.\u001b[0m\n",
      "\u001b[32m[I 2022-12-30 20:02:26,178]\u001b[0m Trial 35 finished with value: 0.8107403615618877 and parameters: {'n_estimators': 186, 'max_depth': 28, 'min_samples_leaf': 3}. Best is trial 13 with value: 0.8172540002365929.\u001b[0m\n",
      "\u001b[32m[I 2022-12-30 20:02:31,096]\u001b[0m Trial 36 finished with value: 0.8063312615404306 and parameters: {'n_estimators': 166, 'max_depth': 24, 'min_samples_leaf': 7}. Best is trial 13 with value: 0.8172540002365929.\u001b[0m\n",
      "\u001b[32m[I 2022-12-30 20:02:37,448]\u001b[0m Trial 37 finished with value: 0.8156789053055192 and parameters: {'n_estimators': 173, 'max_depth': 26, 'min_samples_leaf': 2}. Best is trial 13 with value: 0.8172540002365929.\u001b[0m\n",
      "\u001b[32m[I 2022-12-30 20:02:43,288]\u001b[0m Trial 38 finished with value: 0.8078883743951755 and parameters: {'n_estimators': 179, 'max_depth': 29, 'min_samples_leaf': 4}. Best is trial 13 with value: 0.8172540002365929.\u001b[0m\n",
      "\u001b[32m[I 2022-12-30 20:02:47,981]\u001b[0m Trial 39 finished with value: 0.8003574694881624 and parameters: {'n_estimators': 141, 'max_depth': 24, 'min_samples_leaf': 6}. Best is trial 13 with value: 0.8172540002365929.\u001b[0m\n",
      "\u001b[32m[I 2022-12-30 20:02:53,565]\u001b[0m Trial 40 finished with value: 0.799681705922034 and parameters: {'n_estimators': 183, 'max_depth': 20, 'min_samples_leaf': 8}. Best is trial 13 with value: 0.8172540002365929.\u001b[0m\n",
      "\u001b[32m[I 2022-12-30 20:02:59,840]\u001b[0m Trial 41 finished with value: 0.8169617765327679 and parameters: {'n_estimators': 163, 'max_depth': 28, 'min_samples_leaf': 2}. Best is trial 13 with value: 0.8172540002365929.\u001b[0m\n",
      "\u001b[32m[I 2022-12-30 20:03:05,398]\u001b[0m Trial 42 finished with value: 0.8126117644801537 and parameters: {'n_estimators': 164, 'max_depth': 27, 'min_samples_leaf': 3}. Best is trial 13 with value: 0.8172540002365929.\u001b[0m\n",
      "\u001b[32m[I 2022-12-30 20:03:11,465]\u001b[0m Trial 43 finished with value: 0.8171537679723408 and parameters: {'n_estimators': 157, 'max_depth': 30, 'min_samples_leaf': 2}. Best is trial 13 with value: 0.8172540002365929.\u001b[0m\n",
      "\u001b[32m[I 2022-12-30 20:03:16,774]\u001b[0m Trial 44 finished with value: 0.810363083628516 and parameters: {'n_estimators': 149, 'max_depth': 30, 'min_samples_leaf': 3}. Best is trial 13 with value: 0.8172540002365929.\u001b[0m\n",
      "\u001b[32m[I 2022-12-30 20:03:22,772]\u001b[0m Trial 45 finished with value: 0.816245043613411 and parameters: {'n_estimators': 156, 'max_depth': 29, 'min_samples_leaf': 2}. Best is trial 13 with value: 0.8172540002365929.\u001b[0m\n",
      "\u001b[32m[I 2022-12-30 20:03:26,912]\u001b[0m Trial 46 finished with value: 0.815912453809345 and parameters: {'n_estimators': 111, 'max_depth': 17, 'min_samples_leaf': 2}. Best is trial 13 with value: 0.8172540002365929.\u001b[0m\n",
      "\u001b[32m[I 2022-12-30 20:03:32,108]\u001b[0m Trial 47 finished with value: 0.8109779211320488 and parameters: {'n_estimators': 158, 'max_depth': 14, 'min_samples_leaf': 3}. Best is trial 13 with value: 0.8172540002365929.\u001b[0m\n",
      "\u001b[32m[I 2022-12-30 20:03:37,660]\u001b[0m Trial 48 finished with value: 0.807678939642123 and parameters: {'n_estimators': 171, 'max_depth': 30, 'min_samples_leaf': 4}. Best is trial 13 with value: 0.8172540002365929.\u001b[0m\n",
      "\u001b[32m[I 2022-12-30 20:03:43,593]\u001b[0m Trial 49 finished with value: 0.8140602862924089 and parameters: {'n_estimators': 148, 'max_depth': 27, 'min_samples_leaf': 2}. Best is trial 13 with value: 0.8172540002365929.\u001b[0m\n"
     ]
    },
    {
     "name": "stdout",
     "output_type": "stream",
     "text": [
      "Наилучшие значения гиперпараметров {'n_estimators': 168, 'max_depth': 30, 'min_samples_leaf': 2}\n",
      "f1_score на тестовом наборе: 0.82\n"
     ]
    }
   ],
   "source": [
    "# Задание целевой функции\n",
    "def optuna_rf(trial):\n",
    "  # задаем пространства поиска гиперпараметров\n",
    "  n_estimators = trial.suggest_int('n_estimators', 100, 200, 1)\n",
    "  max_depth = trial.suggest_int('max_depth', 10, 30, 1)\n",
    "  min_samples_leaf = trial.suggest_int('min_samples_leaf', 2, 10, 1)\n",
    "\n",
    "  # создаем модель\n",
    "  model = ensemble.RandomForestClassifier(n_estimators=n_estimators,\n",
    "                                          max_depth=max_depth,\n",
    "                                          min_samples_leaf=min_samples_leaf,\n",
    "                                          random_state=random_state)\n",
    "  # обучаем модель\n",
    "  model.fit(X_train, y_train)\n",
    "  # score = metrics.f1_score(y_train, model.predict(X_train))\n",
    "  # применим  cross validation с количеством фолдов = 5\n",
    "  score = cross_val_score(model, X, y, cv=5, scoring=\"f1\", n_jobs=-1).mean()\n",
    "  return score\n",
    "\n",
    "# cоздаем объект исследования\n",
    "# можем напрямую указать, что нам необходимо максимизировать метрику direction=\"maximize\"\n",
    "study = optuna.create_study(study_name=\"RandomForestClassifier\", direction=\"maximize\")\n",
    "# ищем лучшую комбинацию гиперпараметров n_trials раз\n",
    "study.optimize(optuna_rf, n_trials=50)\n",
    "\n",
    "# выводим результаты на обучающей выборке\n",
    "print(\"Наилучшие значения гиперпараметров {}\".format(study.best_params))\n",
    "\n",
    "# рассчитаем точность для тестовой выборки\n",
    "model = ensemble.RandomForestClassifier(**study.best_params,random_state=random_state, )\n",
    "model.fit(X_train, y_train)\n",
    "y_test_pred = model.predict(X_test)\n",
    "print('f1_score на тестовом наборе: {:.2f}'.format(metrics.f1_score(y_test, y_test_pred)))"
   ]
  }
 ],
 "metadata": {
  "kernelspec": {
   "display_name": "Python 3",
   "language": "python",
   "name": "python3"
  },
  "language_info": {
   "codemirror_mode": {
    "name": "ipython",
    "version": 3
   },
   "file_extension": ".py",
   "mimetype": "text/x-python",
   "name": "python",
   "nbconvert_exporter": "python",
   "pygments_lexer": "ipython3",
   "version": "3.10.4"
  },
  "orig_nbformat": 4,
  "vscode": {
   "interpreter": {
    "hash": "4604fddfbe3ec3d9d385c207fa0ddb9a05dfef66380401ad05b04bbd42d45367"
   }
  }
 },
 "nbformat": 4,
 "nbformat_minor": 2
}
