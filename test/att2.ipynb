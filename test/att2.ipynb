{
 "cells": [
  {
   "cell_type": "markdown",
   "metadata": {},
   "source": [
    "Задание 7.\n",
    "\n",
    "\n",
    "    SELECT\n",
    "        m.id,\n",
    "        m.name,\n",
    "        m.rating,\n",
    "        m.year\n",
    "    FROM sqlprotest.movies  m\n",
    "        JOIN sqlprotest.movie_genres mg ON m.id = mg.movie_id\n",
    "        JOIN sqlprotest.genres  g ON mg.genre_id = g.id\n",
    "    EXCEPT\n",
    "    SELECT\n",
    "        m.id,\n",
    "        m.name,\n",
    "        m.rating,\n",
    "        m.year\n",
    "    FROM sqlprotest.movies  m\n",
    "        JOIN sqlprotest.movie_genres mg ON m.id = mg.movie_id\n",
    "        JOIN sqlprotest.genres g ON mg.genre_id = g.id\n",
    "    WHERE g.name = 'Криминал'\n",
    "    ORDER BY 2 ASC \n",
    "\n",
    "    \n"
   ]
  },
  {
   "cell_type": "markdown",
   "metadata": {},
   "source": [
    "    \n",
    "    SELECT\n",
    "        m.*\n",
    "    FROM sqlprotest.movies  m\n",
    "        JOIN sqlprotest.movie_genres mg ON m.id = mg.movie_id\n",
    "        JOIN sqlprotest.genres  g ON mg.genre_id = g.id\n",
    "    EXCEPT\n",
    "    SELECT\n",
    "        m.*\n",
    "    FROM sqlprotest.movies  m\n",
    "        JOIN sqlprotest.movie_genres mg ON m.id = mg.movie_id\n",
    "        JOIN sqlprotest.genres g ON mg.genre_id = g.id\n",
    "    WHERE g.name = 'Криминал'\n",
    "    ORDER BY 2 ASC "
   ]
  },
  {
   "cell_type": "markdown",
   "metadata": {},
   "source": [
    "Задание 8.\n",
    "\n",
    "    SELECT DISTINCT\n",
    "        m.*\n",
    "    FROM sqlprotest.movies  m\n",
    "        JOIN sqlprotest.movie_genres mg ON m.id = mg.movie_id\n",
    "        JOIN sqlprotest.genres g ON mg.genre_id = g.id\n",
    "    WHERE m.rating IS NOT NULL\n",
    "    ORDER BY m.year\n",
    "    LIMIT 3"
   ]
  },
  {
   "cell_type": "markdown",
   "metadata": {},
   "source": [
    "Задание 10\n",
    "\n",
    "Напишите запрос, с помощью которого можно вычислить средний рейтинг фильмов в каждом жанре.\n",
    "Выведите два столбца: genre_name (название жанра) и average_rating (средний рейтинг).\n",
    "\n",
    "Результат отсортируйте по второму полю по убыванию.\n",
    "\n",
    "    SELECT\n",
    "        g.name genre_name, \n",
    "        AVG(m.rating) average_rating\n",
    "    FROM sqlprotest.movies m\n",
    "        JOIN sqlprotest.movie_genres mg ON m.id = mg.movie_id\n",
    "        JOIN sqlprotest.genres  g ON mg.genre_id = g.id\n",
    "    GROUP BY 1\n",
    "    ORDER BY 2 DESC "
   ]
  },
  {
   "cell_type": "markdown",
   "metadata": {},
   "source": [
    "Задание 11\n",
    "\n",
    "Напишите запрос, чтобы вывести все названия фильмов и их рейтинги.\n",
    "Если рейтинга нет, отобразите 0 для такого фильма. Отсортировать по названию фильма по возрастанию.\n",
    "\n",
    "    SELECT\n",
    "        m.name,\n",
    "        m.rating\n",
    "    FROM sqlprotest.movies m\n",
    "    WHERE m.rating IS NOT NULL    \n",
    "\n",
    "    UNION ALL\n",
    "\n",
    "    SELECT\n",
    "        m.name,\n",
    "        0\n",
    "    FROM sqlprotest.movies m\n",
    "    WHERE m.rating IS NULL\n",
    "    ORDER BY 1 ASC \n",
    "\n"
   ]
  },
  {
   "cell_type": "markdown",
   "metadata": {},
   "source": [
    "Задание 4\n",
    "\n",
    "Напишите запрос, который выведет количество фильмов в каждом жанре для случаев, когда в жанре представлено три или больше фильмов.\n",
    "Столбцы к выводу ― genre_name (имя жанра) и movies_count (количество фильмов).\n",
    "\n",
    "Результат отсортируйте по второму полю по убыванию.\n",
    "\n",
    "    SELECT\n",
    "        g.name genre_name, \n",
    "        COUNT(m.ID) movies_count\n",
    "    FROM sqlprotest.movies m\n",
    "        JOIN sqlprotest.movie_genres mg ON m.id = mg.movie_id\n",
    "        JOIN sqlprotest.genres  g ON mg.genre_id = g.id\n",
    "    GROUP BY 1    \n",
    "    HAVING COUNT(m.ID) >= 3\n",
    "    ORDER BY 2 DESC \n",
    "\n"
   ]
  }
 ],
 "metadata": {
  "kernelspec": {
   "display_name": "Python 3.10.5 64-bit",
   "language": "python",
   "name": "python3"
  },
  "language_info": {
   "name": "python",
   "version": "3.10.5"
  },
  "orig_nbformat": 4,
  "vscode": {
   "interpreter": {
    "hash": "722ef51a401571ea5d31114c5f39d03026e92f336ebdc61df902fc724a2c7297"
   }
  }
 },
 "nbformat": 4,
 "nbformat_minor": 2
}
