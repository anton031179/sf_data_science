{
 "cells": [
  {
   "cell_type": "markdown",
   "metadata": {},
   "source": [
    "##### АТРИБУТЫ И МЕТОДЫ"
   ]
  },
  {
   "cell_type": "code",
   "execution_count": 11,
   "metadata": {},
   "outputs": [
    {
     "name": "stdout",
     "output_type": "stream",
     "text": [
      "[1000000, 400000]\n",
      "700000.0\n"
     ]
    }
   ],
   "source": [
    "import pandas as pd\n",
    "# Допишите определение класса DepartmentReport, который выводит отчёт по отделам компании. У него должны быть определены:\n",
    "# атрибут revenues — список, где мы храним значения выручки отделов;\n",
    "# метод add_revenue, который добавляет выручку одного отдела;\n",
    "# метод average_revenue, который возвращает среднюю выручку по всем отделам.\n",
    "\n",
    "class DepartmentReport():\n",
    "    def add_revenue(self, amount): \n",
    "        #Метод для добавления выручки отдела в список revenues.\n",
    "        #Если атрибута revenues ещё не существует, метод должен создавать пустой список перед добавлением выручки. \n",
    "        if not hasattr(self, 'revenues'):  \n",
    "            self.revenues = []  \n",
    "        # Добавим текущую сделку  \n",
    "        self.revenues.append(amount)\n",
    "        # ваш код\n",
    "    \n",
    "    def average_revenue(self):   \n",
    "        # Метод возвращает среднюю выручку по отделам.\n",
    "        return sum(self.revenues)/len(self.revenues)\n",
    "    \n",
    "report = DepartmentReport()\n",
    "report.add_revenue(1_000_000)\n",
    "report.add_revenue(400_000)\n",
    "print(report.revenues)\n",
    "# => [1000000, 400000]\n",
    "print(report.average_revenue())\n",
    "# => 700000.0\n",
    "    \n",
    "    \n",
    "\n",
    "\n"
   ]
  },
  {
   "cell_type": "markdown",
   "metadata": {},
   "source": [
    "##### МЕТОД _INIT_"
   ]
  },
  {
   "cell_type": "code",
   "execution_count": 1,
   "metadata": {},
   "outputs": [
    {
     "name": "stdout",
     "output_type": "stream",
     "text": [
      "[]\n"
     ]
    },
    {
     "data": {
      "text/plain": [
       "0"
      ]
     },
     "execution_count": 1,
     "metadata": {},
     "output_type": "execute_result"
    }
   ],
   "source": [
    "# Если мы вызовем average_revenue (total_amount) до add_revenue (add_deal), то список сделок ещё не будет создан, и мы получим ошибку. \n",
    "# Также проверка на наличие списка в методе add_revenue (add_deal) не кажется оптимальным решением, потому что создать список нужно один раз, а проверять его наличие мы вынуждены на каждой сделке.\n",
    "\n",
    "# Обе проблемы решились бы, если задавать атрибутам исходное значение. \n",
    "# Для этого у классов есть метод инициализации __init__. Если мы определим метод с таким именем, код в нём вызовется при создании объекта.\n",
    "class SalesReport():  \n",
    "    def __init__(self):  \n",
    "        self.deals = []  \n",
    "          \n",
    "    def add_deal(self, amount):   \n",
    "        self.deals.append(amount)  \n",
    "          \n",
    "    def total_amount(self):  \n",
    "        return sum(self.deals)  \n",
    "      \n",
    "    def print_report(self):  \n",
    "        print(\"Total sales:\", self.total_amount())  \n",
    "   \n",
    "report = SalesReport()  \n",
    "print(report.deals)  \n",
    "# => []  \n",
    "report.total_amount()  \n",
    "# => 0  "
   ]
  },
  {
   "cell_type": "code",
   "execution_count": 2,
   "metadata": {},
   "outputs": [
    {
     "name": "stdout",
     "output_type": "stream",
     "text": [
      "Manager: Ivan Taranov\n",
      "Total sales: 40000\n"
     ]
    }
   ],
   "source": [
    "# __init__ — это технический метод, поэтому его имя начинается и заканчивается двумя подчёркиваниями. \n",
    "# Он получает первым аргументом сам объект, в нём могут выполняться любые операции. \n",
    "# Оставшиеся аргументы он получает из вызова при создании: \n",
    "# если мы напишем report = SalesReport(\"Info\", 20), то вторым и третьим аргументом в __init__ передадутся \"Info\" и 20.\n",
    "class SalesReport():  \n",
    "    # Будем принимать в __init__ ещё и имя менеджера  \n",
    "    def __init__(self, manager_name):  \n",
    "        self.deals = []  \n",
    "        self.manager_name = manager_name  \n",
    "          \n",
    "    def add_deal(self, amount):   \n",
    "        self.deals.append(amount)  \n",
    "          \n",
    "    def total_amount(self):  \n",
    "        return sum(self.deals)  \n",
    "      \n",
    "    def print_report(self):  \n",
    "        # И добавлять это имя в отчёт  \n",
    "        print(\"Manager:\", self.manager_name)  \n",
    "        print(\"Total sales:\", self.total_amount())  \n",
    "          \n",
    "   \n",
    "report = SalesReport(\"Ivan Taranov\")  \n",
    "report.add_deal(10_000)  \n",
    "report.add_deal(30_000)  \n",
    "report.print_report()  \n",
    "# =>   \n",
    "# Manager: Ivan Taranov  \n",
    "# Total sales: 40000"
   ]
  },
  {
   "cell_type": "code",
   "execution_count": 6,
   "metadata": {},
   "outputs": [
    {
     "name": "stdout",
     "output_type": "stream",
     "text": [
      "Average department revenue for Danon: 700000\n"
     ]
    }
   ],
   "source": [
    "# Улучшите класс DepartmentReport. Класс при инициализации должен принимать переменную company \n",
    "# и инициализировать её значением атрибут company, а также инициализировать атрибут revenues пустым списком.\n",
    "# Метод average_revenue должен возвращать строку \"Average department revenue for (company_name): (average_revenue)\".\n",
    "class DepartmentReport():\n",
    "\n",
    "    def __init__(self,company):\n",
    "        \n",
    "        #Метод инициализации класса. \n",
    "        #Создаёт атрибуты revenues и company\n",
    "        self.revenues = []  \n",
    "        self.company = company\n",
    "    \n",
    "    def add_revenue(self, amount):\n",
    "\n",
    "        # Метод для добавления выручки отдела в список revenues.\n",
    "        # Если атрибута revenues ещё не существует, метод должен создавать пустой список перед добавлением выручки.\n",
    "        self.revenues.append(amount) \n",
    "    \n",
    "    def average_revenue(self):\n",
    "        # Вычисляет average_revenue — среднюю выручку по отделам — округляя до целого.\n",
    "        # Метод возвращает строку в формате:\n",
    "        # 'Average department revenue for <company>: <average_revenue>' \n",
    "        average_revenue = round(sum(self.revenues)/len(self.revenues))\n",
    "        return (f'Average department revenue for {self.company}: {average_revenue}')\n",
    "    #print(f'Результирующее число записей: {cleaned2.shape[0]}')\n",
    "    \n",
    "report = DepartmentReport(\"Danon\")\n",
    "report.add_revenue(1_000_000)\n",
    "report.add_revenue(400_000)\n",
    "\n",
    "print(report.average_revenue())\n",
    "# => Average department revenue for Danon: 700000\n"
   ]
  },
  {
   "cell_type": "code",
   "execution_count": 7,
   "metadata": {},
   "outputs": [
    {
     "name": "stdout",
     "output_type": "stream",
     "text": [
      "Employee:  Ivan Semenov\n",
      "Total sales: 390000\n",
      "Average sales: 130000.0\n",
      "Companies: ['PepsiCo', 'SkyEng']\n"
     ]
    }
   ],
   "source": [
    "# Допустим, теперь мы хотим получать средний размер сделки и список клиентов, из которого исключены повторения \n",
    "# (в случае, если компания заключала несколько сделок с одним и тем же клиентом).\n",
    "class SalesReport():  \n",
    "    def __init__(self, employee_name):  \n",
    "        self.deals = []  \n",
    "        self.employee_name = employee_name  \n",
    "      \n",
    "    def add_deal(self, company, amount):   \n",
    "        self.deals.append({'company': company, 'amount': amount})  \n",
    "          \n",
    "    def total_amount(self):  \n",
    "        return sum([deal['amount'] for deal in self.deals])  \n",
    "      \n",
    "    def average_deal(self):  \n",
    "        return self.total_amount()/len(self.deals)  \n",
    "      \n",
    "    def all_companies(self):  \n",
    "        return list(set([deal['company'] for deal in self.deals]))  \n",
    "      \n",
    "    def print_report(self):  \n",
    "        print(\"Employee: \", self.employee_name)  \n",
    "        print(\"Total sales:\", self.total_amount())  \n",
    "        print(\"Average sales:\", self.average_deal())  \n",
    "        print(\"Companies:\", self.all_companies())  \n",
    "      \n",
    "      \n",
    "report = SalesReport(\"Ivan Semenov\")  \n",
    "  \n",
    "report.add_deal(\"PepsiCo\", 120_000)  \n",
    "report.add_deal(\"SkyEng\", 250_000)  \n",
    "report.add_deal(\"PepsiCo\", 20_000)  \n",
    "  \n",
    "report.print_report()  \n",
    "# => Employee:  Ivan Semenov  \n",
    "# Total sales: 390000  \n",
    "# Average sales: 130000.0  \n",
    "# Companies: ['PepsiCo', 'SkyEng'] "
   ]
  },
  {
   "cell_type": "code",
   "execution_count": null,
   "metadata": {},
   "outputs": [],
   "source": [
    "# Мы расширили отчёт, но внешний код использования классов не увеличился. \n",
    "# Отчёт, который мы вывели, достаточно простой, но можно автоматически генерировать презентацию с данными и графиками в PDF, \n",
    "# при этом внешний интерфейс не менялся бы. \n",
    "# Мы просто передаём данные на вход и на выходе получаем отчёт."
   ]
  },
  {
   "cell_type": "markdown",
   "metadata": {},
   "source": [
    "##### Практические примеры"
   ]
  },
  {
   "cell_type": "markdown",
   "metadata": {},
   "source": [
    "##### ОТСЛЕЖИВАНИЕ СОСТОЯНИЯ"
   ]
  },
  {
   "cell_type": "code",
   "execution_count": 1,
   "metadata": {},
   "outputs": [
    {
     "name": "stdout",
     "output_type": "stream",
     "text": [
      "Order price for max@gmail.com is 100\n",
      "Order price for lova@yandex.ru is 180.0\n",
      "Order price for german@sberbank.ru is 500\n",
      "Order price for german@sberbank.ru is 450.0\n"
     ]
    }
   ],
   "source": [
    "# Вернёмся к примеру: есть база клиентов с основной информацией; в реальном времени нам приходит информация о покупках. \n",
    "# Запустим промокампанию, чтобы поощрить старых клиентов, которые сделали у нас много заказов, и выдать им скидку:\n",
    "class Client():  \n",
    "    # Базовые данные  \n",
    "    def __init__(self, email, order_num, registration_year):  \n",
    "        self.email = email  \n",
    "        self.order_num = order_num  \n",
    "        self.registration_year = registration_year  \n",
    "        self.discount = 0  \n",
    "          \n",
    "    # Оформление заказа  \n",
    "    def make_order(self, price):  \n",
    "        self.update_discount()  \n",
    "        self.order_num += 1  \n",
    "        # Здесь было бы оформление заказа, но мы просто выведем его цену  \n",
    "        discounted_price = price * (1 - self.discount)   \n",
    "        print(f\"Order price for {self.email} is {discounted_price}\")  \n",
    "              \n",
    "    # Назначение скидки  \n",
    "    def update_discount(self):   \n",
    "        if self.registration_year < 2018 and self.order_num >= 5:  \n",
    "            self.discount = 0.1   \n",
    "              \n",
    "  \n",
    "# Применение  \n",
    "          \n",
    "# Сделаем подобие базы  \n",
    "client_db = [   \n",
    "    Client(\"max@gmail.com\", 2, 2019),  \n",
    "    Client(\"lova@yandex.ru\", 10, 2015),  \n",
    "    Client(\"german@sberbank.ru\", 4, 2017)  \n",
    "]  \n",
    "  \n",
    "  \n",
    "# Сгенерируем заказы  \n",
    "client_db[0].make_order(100)  \n",
    "# => Order price for max@gmail.com is 100  \n",
    "  \n",
    "client_db[1].make_order(200)  \n",
    "# => Order price for lova@yandex.ru is 180.0  \n",
    "  \n",
    "client_db[2].make_order(500)  \n",
    "# => Order price for german@sberbank.ru is 500  \n",
    "  \n",
    "client_db[2].make_order(500)  \n",
    "# => Order price for german@sberbank.ru is 450.0 "
   ]
  },
  {
   "cell_type": "code",
   "execution_count": 6,
   "metadata": {},
   "outputs": [
    {
     "name": "stdout",
     "output_type": "stream",
     "text": [
      "False\n",
      "True\n",
      "19700\n"
     ]
    }
   ],
   "source": [
    "# Определите класс для пользователей User:\n",
    "# у него должны быть атрибуты email, password и balance, которые устанавливаются при инициализации;\n",
    "# у него должен быть метод login, который принимает емайл и пароль. Если они совпадают с атрибутами объекта, он возвращает True, а иначе — False;\n",
    "# должен быть метод update_balance(amount), который изменяет баланс счёта на величину amount.\n",
    "\n",
    "class User():  \n",
    "    # Базовые данные  \n",
    "    def __init__(self, email, password, balance):  \n",
    "        self.email = email  \n",
    "        self.password = password  \n",
    "        self.balance = balance  \n",
    "        #self.discount = 0  \n",
    "          \n",
    "    def login(self, email2, password2): \n",
    "        if self.email == email2 and self.password==password2:  \n",
    "            return True\n",
    "        else:\n",
    "            return False\n",
    "              \n",
    "    def update_balance(self, amount):   \n",
    "        self.balance += amount \n",
    "          \n",
    "# В случае правильного описания класса код, приведённый ниже, должен выдать следующий результат:\n",
    "user = User(\"gosha@roskino.org\", \"qwerty\", 20_000)\n",
    "print(user.login(\"gosha@roskino.org\", \"qwerty123\"))\n",
    "# => False\n",
    "print(user.login(\"gosha@roskino.org\", \"qwerty\"))\n",
    "# => True\n",
    "user.update_balance(200)\n",
    "user.update_balance(-500)\n",
    "print(user.balance)\n",
    "# => 19700"
   ]
  },
  {
   "cell_type": "markdown",
   "metadata": {},
   "source": [
    "##### КОМБИНАЦИЯ ОПЕРАЦИЙ"
   ]
  },
  {
   "cell_type": "code",
   "execution_count": 8,
   "metadata": {},
   "outputs": [
    {
     "name": "stdout",
     "output_type": "stream",
     "text": [
      "[1.0, 17.0, 4.0, 0.0, 8.0]\n",
      "6.892024376045111\n",
      "4.0\n"
     ]
    }
   ],
   "source": [
    "# Классы могут пригодиться, если вы регулярно делаете над данными одну и ту же последовательность разноплановых функций. \n",
    "# Вы можете упаковать их в класс и в дальнейшем сразу получать результат по загруженным данным.\n",
    "\n",
    "# У нас есть численные данные из разных источников. Если они в виде строк, то нужно привести их к числам, а пропуски — заполнить значениями. \n",
    "# Сделаем доступ к медиане, среднему значению и стандартному отклонению:\n",
    "\n",
    "import statistics  \n",
    "  \n",
    "class DataFrame():  \n",
    "    def __init__(self, column, fill_value=0):  \n",
    "        # Инициализируем атрибуты  \n",
    "        self.column = column  \n",
    "        self.fill_value = fill_value  \n",
    "        # Заполним пропуски  \n",
    "        self.fill_missed()  \n",
    "        # Конвертируем все элементы в числа  \n",
    "        self.to_float()  \n",
    "          \n",
    "    def fill_missed(self):  \n",
    "        for i, value in enumerate(self.column):  \n",
    "            if value is None or value == '':  \n",
    "                self.column[i] = self.fill_value  \n",
    "                  \n",
    "    def to_float(self):  \n",
    "        self.column = [float(value) for value in self.column]  \n",
    "      \n",
    "    def median(self):  \n",
    "        return statistics.median(self.column)  \n",
    "      \n",
    "    def mean(self):  \n",
    "        return statistics.mean(self.column)  \n",
    "      \n",
    "    def deviation(self):  \n",
    "        return statistics.stdev(self.column)  \n",
    "      \n",
    "  \n",
    "      \n",
    "# Воспользуемся классом  \n",
    "df = DataFrame([\"1\", 17, 4, None, 8])  \n",
    "  \n",
    "print(df.column)  \n",
    "# => [1.0, 17.0, 4.0, 0.0, 8.0]  \n",
    "print(df.deviation())  \n",
    "# => 6.89  \n",
    "print(df.median())  \n",
    "# => 4.0\n",
    "  "
   ]
  },
  {
   "cell_type": "code",
   "execution_count": null,
   "metadata": {},
   "outputs": [],
   "source": [
    "# Мы получили очень лаконичный интерфейс для использования класса. \n",
    "# В __init__ мы использовали значение по умолчанию для fill_value, а методы позволяют нам определять необязательные параметры."
   ]
  },
  {
   "cell_type": "code",
   "execution_count": 28,
   "metadata": {},
   "outputs": [
    {
     "name": "stdout",
     "output_type": "stream",
     "text": [
      "5\n",
      "4\n"
     ]
    }
   ],
   "source": [
    "# Определите класс IntDataFrame, который принимает список неотрицательных чисел и приводит к целым значениям все числа в этом списке. \n",
    "# После этого становится доступен метод count, который считает количество ненулевых элементов, и метод unique, \n",
    "# который возвращает число уникальных элементов.\n",
    "\n",
    "import statistics  \n",
    "import numpy as np\n",
    "  \n",
    "class IntDataFrame():  \n",
    "    def __init__(self, num_lst=[]):  \n",
    "        # Инициализируем атрибуты  \n",
    "        self.int = [int(a) for a in num_lst]\n",
    "          \n",
    "    def count(self):  \n",
    "        self.count = np.count_nonzero(self.int)\n",
    "        return self.count\n",
    "                  \n",
    "    def unique(self):  \n",
    "        self.unique = len(np.unique(self.int))\n",
    "        return self.unique\n",
    "      \n",
    "# В случае правильного описания класса код, приведённый ниже, должен выдать следующий результат:\n",
    "df = IntDataFrame([4.7, 4, 3, 0, 2.4, 0.3, 4])\n",
    "print(df.count())\n",
    "# => 5\n",
    "print(df.unique())\n",
    "# => 4"
   ]
  },
  {
   "cell_type": "markdown",
   "metadata": {},
   "source": [
    "##### КЛАСС-ОБЁРТКА "
   ]
  },
  {
   "cell_type": "code",
   "execution_count": 30,
   "metadata": {},
   "outputs": [
    {
     "name": "stdout",
     "output_type": "stream",
     "text": [
      "{'perfomance': [10, 20, 10], 'clients': {'Romashka': 10, 'Vector': 34}}\n"
     ]
    }
   ],
   "source": [
    "# Классы можно использовать тогда, когда у вас есть процесс, который требует сложной конфигурации, повторяющейся из раза в раз. \n",
    "# Можно написать класс-обёртку, который сведёт этот процесс к одному-двум методам.\n",
    "# Представим, вы делаете обработку данных и в конце каждого дня сохраняете результат в архив. Вы хотите, чтобы данные каждого дня лежали в отдельном файле для этого дня, при этом можно было бы получить данные за произвольный день. \n",
    "# Перед запуском кода создайте папку с названием archive там же, где находится ноутбук:\n",
    "import pickle  \n",
    "from datetime import datetime  \n",
    "from os import path  \n",
    "  \n",
    "class Dumper():  \n",
    "    def __init__(self, archive_dir=\"archive/\"):  \n",
    "        self.archive_dir = archive_dir  \n",
    "          \n",
    "    def dump(self, data):  \n",
    "        # Библиотека pickle позволяет доставать и класть объекты в файл  \n",
    "        with open(self.get_file_name(), 'wb') as file:  \n",
    "            pickle.dump(data, file)  \n",
    "              \n",
    "    def load_for_day(self, day):  \n",
    "        file_name = path.join(self.archive_dir, day + \".pkl\")   \n",
    "        with open(file_name, 'rb') as file:  \n",
    "            sets = pickle.load(file)  \n",
    "        return sets  \n",
    "          \n",
    "    # возвращает корректное имя для файла   \n",
    "    def get_file_name(self):   \n",
    "        today = datetime.now().strftime(\"%y-%m-%d\")   \n",
    "        return path.join(self.archive_dir, today + \".pkl\")  \n",
    "          \n",
    "# Пример использования  \n",
    "\n",
    "data = {  \n",
    "    'perfomance': [10, 20, 10],  \n",
    "    'clients': {\"Romashka\": 10, \"Vector\": 34}  \n",
    "}  \n",
    "  \n",
    "dumper = Dumper()  \n",
    "  \n",
    "# Сохраним данные  \n",
    "dumper.dump(data)  \n",
    "  \n",
    "# Восстановим для сегодняшней даты  \n",
    "file_name = datetime.now().strftime(\"%y-%m-%d\")\n",
    "restored_data = dumper.load_for_day(file_name)\n",
    "print(restored_data)  \n",
    "# => {'perfomance': [10, 20, 10], 'clients': {'Romashka': 10, 'Vector': 34}} \n",
    " \n",
    "# Сохранение и восстановление работает в пару строк.\n",
    "# В результате мы можем приводить достаточно сложные операции к простому виду."
   ]
  },
  {
   "cell_type": "code",
   "execution_count": 3,
   "metadata": {},
   "outputs": [
    {
     "name": "stdout",
     "output_type": "stream",
     "text": [
      "None\n",
      "Connection lost\n",
      "System started\n"
     ]
    }
   ],
   "source": [
    "# Напишите класс сборщика технических сообщений OwnLogger.\n",
    "# У него должен быть метод log(message, level), который записывает сообщения. \n",
    "# Здесь сообщение message может быть любым, а level — один из \"info\", \"warning\", \"error\".\n",
    "# Также примените метод show_last(level), где level может быть \"info\", \"warning\", \"error\", \"all\". \n",
    "# Для \"all\" он просто возвращает последнее добавленное сообщение, а для остальных — последнее поступившее сообщение соответствующего уровня.\n",
    "# При этом по умолчанию значение именно \"all\". Если подходящего сообщения нет, возвращает None.\n",
    "\n",
    "#import pickle  \n",
    "#from datetime import datetime  \n",
    "#from os import path  \n",
    "  \n",
    "class OwnLogger():   \n",
    "    def __init__(self):\n",
    "        self.messages = []\n",
    "\n",
    "    def log(self, message, level):\n",
    "        self.messages.append((message, level))\n",
    "\n",
    "    def show_last(self, level='all'):\n",
    "        if level == 'all':\n",
    "            return self.messages[-1][0]\n",
    "        else:\n",
    "            for message, lvl in reversed(self.messages):\n",
    "                if lvl == level:\n",
    "                    return message\n",
    "    \n",
    "#В случае правильного описания класса код, приведённый ниже, должен выдать следующий результат:\n",
    "logger = OwnLogger()\n",
    "logger.log(\"System started\", \"info\")\n",
    "print(logger.show_last(\"error\"))\n",
    "# => None\n",
    "# Некоторые интерпретаторы Python могут не выводить None, тогда в этой проверке у вас будет пустая строка\n",
    "logger.log(\"Connection instable\", \"warning\")\n",
    "logger.log(\"Connection lost\", \"error\")\n",
    "\n",
    "print(logger.show_last())\n",
    "# => Connection lost\n",
    "print(logger.show_last(\"info\"))\n",
    "# => System started"
   ]
  },
  {
   "cell_type": "markdown",
   "metadata": {},
   "source": [
    "##### ИМПОРТ И ОРГАНИЗАЦИЯ КОДА"
   ]
  },
  {
   "cell_type": "code",
   "execution_count": 7,
   "metadata": {},
   "outputs": [],
   "source": [
    "# Классы, как и библиотечные функции, можно импортировать в другие программы. \n",
    "# Для этого нужно положить класс в отдельный файл в корне проекта и использовать ключевое слово import.\n",
    "\n",
    "# Например, если мы положим Dumper в файл dumper.py в корне проекта, то его можно импортировать командой:\n",
    "# from dumper import Dumper \n",
    "\n",
    "# Пишем from <имя файла без .py> import <имя класса>. Имя файла должно начинаться с буквы и не совпадать с именами библиотечных модулей. \n",
    "# Если файлов с классами много, их можно складывать в папки, предварительно положив туда пустой файл __init__.py — это требование Python.\n",
    "\n",
    "\n",
    "# Импортируем, соединяя все шаги через точку с помощью того же синтаксиса, что использовался для импорта библиотечных функций.\n",
    "\n",
    "from helpers.dumper import Dumper  \n",
    "from helpers.data_frame import DataFrame  \n",
    "from helpers.client import Client  "
   ]
  },
  {
   "cell_type": "markdown",
   "metadata": {},
   "source": [
    "##### Проверка знаний"
   ]
  },
  {
   "cell_type": "code",
   "execution_count": 9,
   "metadata": {},
   "outputs": [
    {
     "name": "stdout",
     "output_type": "stream",
     "text": [
      "Bark!\n",
      "Paw\n"
     ]
    }
   ],
   "source": [
    "# Определите класс Dog, у которого есть методы bark и give_paw.\n",
    "# bark возвращает строку \"Bark!\"\n",
    "# give_paw возвращает строку \"Paw\"\n",
    "class Dog():\n",
    "    def bark(self): \n",
    "        return 'Bark!'\n",
    "    \n",
    "    def give_paw(self):   \n",
    "        return 'Paw'\n",
    "    \n",
    "cd=Dog()\n",
    "print(cd.bark())\n",
    "print(cd.give_paw())\n"
   ]
  },
  {
   "cell_type": "markdown",
   "metadata": {},
   "source": [
    "##### Применение ООП для работы с файлами"
   ]
  },
  {
   "cell_type": "markdown",
   "metadata": {},
   "source": [
    "##### ПУТЬ К ФАЙЛУ"
   ]
  },
  {
   "cell_type": "code",
   "execution_count": 1,
   "metadata": {},
   "outputs": [
    {
     "name": "stdout",
     "output_type": "stream",
     "text": [
      "c:\\Users\\engineer1\\Documents\\IDE\\PYTHON-15 (OOP)\n"
     ]
    }
   ],
   "source": [
    "# Абсолютный путь — это путь, который указывает на одно и то же место в файловой системе, вне зависимости от текущего рабочего каталога или других обстоятельств. Его ещё называют полным.\n",
    "# Относительный путь — это путь по отношению к текущему рабочему каталогу пользователя.\n",
    "\n",
    "# получить текущий путь\n",
    "start_path = os.getcwd()\n",
    "print(start_path)"
   ]
  },
  {
   "cell_type": "code",
   "execution_count": 2,
   "metadata": {},
   "outputs": [
    {
     "data": {
      "text/plain": [
       "'c:\\\\Users\\\\engineer1\\\\Documents\\\\IDE'"
      ]
     },
     "execution_count": 2,
     "metadata": {},
     "output_type": "execute_result"
    }
   ],
   "source": [
    "os.chdir(\"..\") # подняться на один уровень выше\n",
    "os.getcwd() #"
   ]
  },
  {
   "cell_type": "code",
   "execution_count": 3,
   "metadata": {},
   "outputs": [
    {
     "data": {
      "text/plain": [
       "'c:\\\\Users\\\\engineer1\\\\Documents\\\\IDE\\\\PYTHON-15 (OOP)'"
      ]
     },
     "execution_count": 3,
     "metadata": {},
     "output_type": "execute_result"
    }
   ],
   "source": [
    "# Теперь вернемся в ту директорию, из которой стартовали. Изначально мы сохраняли её в переменной start_path\n",
    "os.chdir(start_path)\n",
    "os.getcwd()"
   ]
  },
  {
   "cell_type": "code",
   "execution_count": 4,
   "metadata": {},
   "outputs": [
    {
     "name": "stdout",
     "output_type": "stream",
     "text": [
      "['archive', 'data', 'helpers', 'python-15.ipynb', '__pycache__']\n",
      "Файл отсутствует в данной директории\n"
     ]
    }
   ],
   "source": [
    "# список файлов и директорий в папке\n",
    "import os\n",
    "\n",
    "print(os.listdir()) # ['SnapchatLoader', 'FBLoader', 'tmp.py', '.gitignore', 'venv', '.git']\n",
    "\n",
    "if 'tmp.py' not in os.listdir():\n",
    "    print(\"Файл отсутствует в данной директории\")"
   ]
  },
  {
   "cell_type": "code",
   "execution_count": 5,
   "metadata": {},
   "outputs": [
    {
     "name": "stdout",
     "output_type": "stream",
     "text": [
      "c:\\Users\\engineer1\\Documents\\IDE\\PYTHON-15 (OOP)\n",
      "c:\\Users\\engineer1\\Documents\\IDE\\PYTHON-15 (OOP)\\test\n"
     ]
    }
   ],
   "source": [
    "# Для того чтобы склеивать пути с учётом особенностей ОС, следует использовать функцию os.path.join(). \n",
    "# Это связано с тем, что в разных операционных системах могут быть разные разделители каталогов, например в ОС Windows этим разделителем является «\\», \n",
    "# а в Linux — «/», как мы и говорили в начале юнита. Поэтому, чтобы поиск файла проходил гладко в обеих системах \n",
    "# (ведь ваш скрипт могут запускать на любой системе в связи с кросс-платформенностью Python), лучше всё-таки использовать os.path.join().\n",
    "\n",
    "# соединяет пути с учётом особенностей операционной системы\n",
    "print(start_path)\n",
    "print(os.path.join(start_path, 'test'))"
   ]
  },
  {
   "cell_type": "code",
   "execution_count": 3,
   "metadata": {},
   "outputs": [
    {
     "name": "stdout",
     "output_type": "stream",
     "text": [
      "Текущая директория c:\\Users\\anton\\source\\IDE\\PYTHON-15 (OOP)\n",
      "---\n",
      "Список папок ['archive', 'data', 'helpers', '__pycache__']\n",
      "---\n",
      "Список файлов ['python-15.ipynb']\n",
      "---\n",
      "Все пути:\n",
      "Файл  c:\\Users\\anton\\source\\IDE\\PYTHON-15 (OOP)\\python-15.ipynb\n",
      "Папка  c:\\Users\\anton\\source\\IDE\\PYTHON-15 (OOP)\\archive\n",
      "Папка  c:\\Users\\anton\\source\\IDE\\PYTHON-15 (OOP)\\data\n",
      "Папка  c:\\Users\\anton\\source\\IDE\\PYTHON-15 (OOP)\\helpers\n",
      "Папка  c:\\Users\\anton\\source\\IDE\\PYTHON-15 (OOP)\\__pycache__\n",
      "===\n",
      "Текущая директория c:\\Users\\anton\\source\\IDE\\PYTHON-15 (OOP)\\archive\n",
      "---\n",
      "Папок нет\n",
      "---\n",
      "Список файлов ['22-06-18.pkl']\n",
      "---\n",
      "Файл  c:\\Users\\anton\\source\\IDE\\PYTHON-15 (OOP)\\archive\\22-06-18.pkl\n",
      "===\n",
      "Текущая директория c:\\Users\\anton\\source\\IDE\\PYTHON-15 (OOP)\\data\n",
      "---\n",
      "Папок нет\n",
      "---\n",
      "Файлов нет\n",
      "---\n",
      "===\n",
      "Текущая директория c:\\Users\\anton\\source\\IDE\\PYTHON-15 (OOP)\\helpers\n",
      "---\n",
      "Список папок ['__pycache__']\n",
      "---\n",
      "Список файлов ['client.py', 'data_frame.py', 'dumper.py', '__init__.py']\n",
      "---\n",
      "Все пути:\n",
      "Файл  c:\\Users\\anton\\source\\IDE\\PYTHON-15 (OOP)\\helpers\\client.py\n",
      "Файл  c:\\Users\\anton\\source\\IDE\\PYTHON-15 (OOP)\\helpers\\data_frame.py\n",
      "Файл  c:\\Users\\anton\\source\\IDE\\PYTHON-15 (OOP)\\helpers\\dumper.py\n",
      "Файл  c:\\Users\\anton\\source\\IDE\\PYTHON-15 (OOP)\\helpers\\__init__.py\n",
      "Папка  c:\\Users\\anton\\source\\IDE\\PYTHON-15 (OOP)\\helpers\\__pycache__\n",
      "===\n",
      "Текущая директория c:\\Users\\anton\\source\\IDE\\PYTHON-15 (OOP)\\helpers\\__pycache__\n",
      "---\n",
      "Папок нет\n",
      "---\n",
      "Список файлов ['client.cpython-310.pyc', 'data_frame.cpython-310.pyc', 'dumper.cpython-310.pyc', '__init__.cpython-310.pyc']\n",
      "---\n",
      "Файл  c:\\Users\\anton\\source\\IDE\\PYTHON-15 (OOP)\\helpers\\__pycache__\\client.cpython-310.pyc\n",
      "Файл  c:\\Users\\anton\\source\\IDE\\PYTHON-15 (OOP)\\helpers\\__pycache__\\data_frame.cpython-310.pyc\n",
      "Файл  c:\\Users\\anton\\source\\IDE\\PYTHON-15 (OOP)\\helpers\\__pycache__\\dumper.cpython-310.pyc\n",
      "Файл  c:\\Users\\anton\\source\\IDE\\PYTHON-15 (OOP)\\helpers\\__pycache__\\__init__.cpython-310.pyc\n",
      "===\n",
      "Текущая директория c:\\Users\\anton\\source\\IDE\\PYTHON-15 (OOP)\\__pycache__\n",
      "---\n",
      "Папок нет\n",
      "---\n",
      "Список файлов ['dumper.cpython-310.pyc']\n",
      "---\n",
      "Файл  c:\\Users\\anton\\source\\IDE\\PYTHON-15 (OOP)\\__pycache__\\dumper.cpython-310.pyc\n",
      "===\n"
     ]
    }
   ],
   "source": [
    "# Сделайте функцию, которая принимает от пользователя путь и выводит всю информацию о содержимом этой папки. \n",
    "# Для реализации используйте функцию встроенного модуля os.walk(). Если путь не указан, то сравнение начинается с текущей директории.\n",
    "import os\n",
    "\n",
    "def walk_desc(path=None):\n",
    "    start_path = path if path is not None else os.getcwd()\n",
    "\n",
    "    for root, dirs, files in os.walk(start_path):\n",
    "        print(\"Текущая директория\", root)\n",
    "        print(\"---\")\n",
    "\n",
    "        if dirs:\n",
    "            print(\"Список папок\", dirs)\n",
    "        else:\n",
    "            print(\"Папок нет\")\n",
    "        print(\"---\")\n",
    "\n",
    "        if files:\n",
    "            print(\"Список файлов\", files)\n",
    "        else:\n",
    "            print(\"Файлов нет\")\n",
    "        print(\"---\")\n",
    "\n",
    "        if files and dirs:\n",
    "            print(\"Все пути:\")\n",
    "        for f in files:\n",
    "            print(\"Файл \", os.path.join(root, f))\n",
    "        for d in dirs:\n",
    "            print(\"Папка \", os.path.join(root, d))\n",
    "        print(\"===\")\n",
    "\n",
    "walk_desc()"
   ]
  },
  {
   "cell_type": "markdown",
   "metadata": {},
   "source": [
    "##### РАБОТА С ФАЙЛАМИ"
   ]
  },
  {
   "cell_type": "code",
   "execution_count": 4,
   "metadata": {},
   "outputs": [
    {
     "ename": "ValueError",
     "evalue": "invalid mode: 'filemode'",
     "output_type": "error",
     "traceback": [
      "\u001b[1;31m---------------------------------------------------------------------------\u001b[0m",
      "\u001b[1;31mValueError\u001b[0m                                Traceback (most recent call last)",
      "\u001b[1;32mc:\\Users\\anton\\source\\IDE\\PYTHON-15 (OOP)\\python-15.ipynb Cell 29'\u001b[0m in \u001b[0;36m<cell line: 3>\u001b[1;34m()\u001b[0m\n\u001b[0;32m      <a href='vscode-notebook-cell:/c%3A/Users/anton/source/IDE/PYTHON-15%20%28OOP%29/python-15.ipynb#ch0000028?line=0'>1</a>\u001b[0m \u001b[39m# Python «из коробки» располагает достаточно широким набором инструментов для работы с файлами. \u001b[39;00m\n\u001b[0;32m      <a href='vscode-notebook-cell:/c%3A/Users/anton/source/IDE/PYTHON-15%20%28OOP%29/python-15.ipynb#ch0000028?line=1'>2</a>\u001b[0m \u001b[39m# Для того чтобы начать работать с файлом, надо его открыть с помощью команды специальной функции open.\u001b[39;00m\n\u001b[1;32m----> <a href='vscode-notebook-cell:/c%3A/Users/anton/source/IDE/PYTHON-15%20%28OOP%29/python-15.ipynb#ch0000028?line=2'>3</a>\u001b[0m f \u001b[39m=\u001b[39m \u001b[39mopen\u001b[39;49m(\u001b[39m'\u001b[39;49m\u001b[39mpath/to/file\u001b[39;49m\u001b[39m'\u001b[39;49m, \u001b[39m'\u001b[39;49m\u001b[39mfilemode\u001b[39;49m\u001b[39m'\u001b[39;49m, encoding\u001b[39m=\u001b[39;49m\u001b[39m'\u001b[39;49m\u001b[39mutf8\u001b[39;49m\u001b[39m'\u001b[39;49m)\n",
      "\u001b[1;31mValueError\u001b[0m: invalid mode: 'filemode'"
     ]
    }
   ],
   "source": [
    "# Python «из коробки» располагает достаточно широким набором инструментов для работы с файлами. \n",
    "# Для того чтобы начать работать с файлом, надо его открыть с помощью команды специальной функции open.\n",
    "f = open('path/to/file', 'filemode', encoding='utf8')\n",
    "# Результатом этой операции будет файл, в котором указатель текущей позиции поставлен на начало или конец файла.\n",
    "\n",
    "# path/to/file — путь к файлу может быть относительным или абсолютным. \n",
    "# Можно указывать в Unix-стиле (path/to/file) или в Windows-стиле (path\\to\\file).\n",
    "# filemode — режим, в котором файл нужно открывать.\n",
    "# Записывается в виде строки, может принимать следующие значения:\n",
    "# r — открыть на чтение (по умолчанию);\n",
    "# w — перезаписать и открыть на запись (если файла нет, то он создастся);\n",
    "# x — создать и открыть на запись (если уже есть — исключение);\n",
    "# a — открыть на дозапись (указатель будет поставлен в конец);\n",
    "# t — открыть в текстовом виде (по умолчанию);\n",
    "# b — открыть в бинарном виде.\n",
    "# encoding — указание, в какой кодировке файл записан (utf8, cp1251 и т. д.) По умолчанию стоит utf-8. При этом можно записывать кодировку как через дефис, так и без: utf-8 или utf8."
   ]
  },
  {
   "cell_type": "code",
   "execution_count": 5,
   "metadata": {},
   "outputs": [
    {
     "data": {
      "text/plain": [
       "21"
      ]
     },
     "execution_count": 5,
     "metadata": {},
     "output_type": "execute_result"
    }
   ],
   "source": [
    "# При открытии файла внутри него ставится указатель текущей позиции для чтения. \n",
    "# При открытии в режиме чтения ('r') или записи ('w') указатель ставится на начало, в режиме 'a' (добавление новых записей в конец файла) — в конец.\n",
    "# Откроем файл на запись и с помощью метода write запишем в него строку. \n",
    "# В качестве результата метод write возвращает количество записанных символов.\n",
    "f = open('test.txt', 'w', encoding='utf8')\n",
    "\n",
    "# Запишем в файл строку\n",
    "f.write(\"This is a test string\\n\")\n",
    "f.write(\"This is a new string\\n\")"
   ]
  },
  {
   "cell_type": "code",
   "execution_count": 6,
   "metadata": {},
   "outputs": [],
   "source": [
    "# После вызова команды write ваши данные не сразу попадут и сохранятся в файл. \n",
    "# Связано это с особенностями внутренней работы операционных систем. \n",
    "# Если для вас критично своевременное попадание информации на жесткий диск компьютера, то после записи вызывайте f.flush() или закрывайте файл. \n",
    "# Закрыть файл можно с помощью метода close().\n",
    "\n",
    "# обязательно нужно закрыть файл иначе он будет заблокирован ОС\n",
    "f.close()"
   ]
  },
  {
   "cell_type": "code",
   "execution_count": 7,
   "metadata": {},
   "outputs": [],
   "source": [
    "# Откроем файл для чтения, в который только что записали две строки:\n",
    "f = open('test.txt', 'r', encoding='utf8')"
   ]
  },
  {
   "cell_type": "code",
   "execution_count": 8,
   "metadata": {},
   "outputs": [
    {
     "name": "stdout",
     "output_type": "stream",
     "text": [
      "This is a \n"
     ]
    }
   ],
   "source": [
    "# После того, как файл открыт для чтения, мы можем читать из него данные.\n",
    "# f.read(n) — операция, читающая с текущего места n символов, если файл открыт в t режиме, или n байт, \n",
    "# если файл открыт в b режиме, и возвращающая прочитанную информацию.\n",
    "print(f.read(10)) # This is a "
   ]
  },
  {
   "cell_type": "code",
   "execution_count": 9,
   "metadata": {},
   "outputs": [
    {
     "data": {
      "text/plain": [
       "'test string\\nThis is a new string\\n'"
      ]
     },
     "execution_count": 9,
     "metadata": {},
     "output_type": "execute_result"
    }
   ],
   "source": [
    "# После прочтения указатель на содержимое остается на той позиции, где чтение закончилось. \n",
    "# Если n не указать, будет прочитано «от печки», то есть от текущего места указателя и до самого конца файла.\n",
    "\n",
    "# считали остаток файла\n",
    "f.read() # test string\\nThis is a new string\\n"
   ]
  },
  {
   "cell_type": "code",
   "execution_count": 10,
   "metadata": {},
   "outputs": [],
   "source": [
    "# обязательно закрываем файл\n",
    "f.close()"
   ]
  },
  {
   "cell_type": "markdown",
   "metadata": {},
   "source": [
    "##### ЧТЕНИЕ И ЗАПИСЬ ПОСТРОЧНО"
   ]
  },
  {
   "cell_type": "code",
   "execution_count": 11,
   "metadata": {},
   "outputs": [],
   "source": [
    "# Зачастую с файлами удобнее работать построчно, поэтому для этого есть отдельные методы:\n",
    "# writelines — записывает список строк в файл;\n",
    "# readline — считывает из файла одну строку и возвращает её;\n",
    "# readlines — считывает из файла все строки в список и возвращает их.\n",
    "# Метод f.writelines(sequence) не будет сам за вас дописывать символ конца строки ('\\n'), поэтому при необходимости его нужно прописать вручную.\n",
    "\n",
    "f = open('test.txt', 'a', encoding='utf8') # открываем файл на дозапись\n",
    "\n",
    "sequence = [\"other string\\n\", \"123\\n\", \"test test\\n\"]\n",
    "f.writelines(sequence) # берет строки из sequence и записывает в файл (без переносов)\n",
    "\n",
    "f.close()"
   ]
  },
  {
   "cell_type": "code",
   "execution_count": 12,
   "metadata": {},
   "outputs": [
    {
     "name": "stdout",
     "output_type": "stream",
     "text": [
      "['This is a test string\\n', 'This is a new string\\n', 'other string\\n', '123\\n', 'test test\\n']\n"
     ]
    }
   ],
   "source": [
    "# Попробуем теперь построчно считать файл с помощью readlines:\n",
    "\n",
    "f = open('test.txt', 'r', encoding='utf8')\n",
    "\n",
    "print(f.readlines()) # считывает все строки в список и возвращает список\n",
    "\n",
    "f.close()"
   ]
  },
  {
   "cell_type": "code",
   "execution_count": 13,
   "metadata": {},
   "outputs": [
    {
     "name": "stdout",
     "output_type": "stream",
     "text": [
      "This is a test string\n",
      "\n",
      "This\n",
      " is a new string\n",
      "\n"
     ]
    }
   ],
   "source": [
    "# Метод f.readline() возвращает строку (символы от текущей позиции до символа переноса строки):\n",
    "\n",
    "f = open('test.txt', 'r', encoding='utf8')\n",
    "\n",
    "print(f.readline()) # This is a test string\n",
    "print(f.read(4)) # This\n",
    "print(f.readline()) # is a new string\n",
    "\n",
    "f.close()"
   ]
  },
  {
   "cell_type": "markdown",
   "metadata": {},
   "source": [
    "##### ФАЙЛ КАК ИТЕРАТОР"
   ]
  },
  {
   "cell_type": "code",
   "execution_count": 14,
   "metadata": {},
   "outputs": [
    {
     "name": "stdout",
     "output_type": "stream",
     "text": [
      "This is a test string\n",
      "This is a new string\n",
      "other string\n",
      "123\n",
      "test test\n"
     ]
    }
   ],
   "source": [
    "# Объект файл является итератором, поэтому его можно использовать в цикле for.\n",
    "# Итераторы представляют собой такой объект, который вычисляет какие-то действия на каждом шаге, а не все сразу. \n",
    "# На примере файла это выглядит примерно так. Предположим, у вас есть огромный текстовый файл, который весит несколько гигабайт. \n",
    "# Если попытаться разом считать его полностью с помощью f.readlines(), то он будет загружен в вашу программу, \n",
    "# в то время как переменная, в которую будет записан файл, станет весить столько же, сколько и объём считанного файла.\n",
    "# В большинстве задач с обработкой текста он весь сразу не нужен, поэтому мы можем, например, \n",
    "# считывать его построчно, обрабатывать строку и забывать из нашей программы, чтобы считать новую. \n",
    "# Тогда весь файл огромного объема не будет «висеть» в памяти компьютера.\n",
    "\n",
    "f = open('test.txt')  # можно перечислять строки в файле\n",
    "for line in f:\n",
    "    print(line, end='')\n",
    "\n",
    "# This is a test string\n",
    "# This is a new string\n",
    "# other string\n",
    "# 123\n",
    "# test test\n",
    "\n",
    "f.close()"
   ]
  },
  {
   "cell_type": "markdown",
   "metadata": {},
   "source": [
    "##### МЕНЕДЖЕР КОНТЕКСТА WITH"
   ]
  },
  {
   "cell_type": "code",
   "execution_count": 15,
   "metadata": {},
   "outputs": [
    {
     "ename": "ValueError",
     "evalue": "read of closed file",
     "output_type": "error",
     "traceback": [
      "\u001b[1;31m---------------------------------------------------------------------------\u001b[0m",
      "\u001b[1;31mValueError\u001b[0m                                Traceback (most recent call last)",
      "\u001b[1;32mc:\\Users\\anton\\source\\IDE\\PYTHON-15 (OOP)\\python-15.ipynb Cell 47'\u001b[0m in \u001b[0;36m<cell line: 11>\u001b[1;34m()\u001b[0m\n\u001b[0;32m      <a href='vscode-notebook-cell:/c%3A/Users/anton/source/IDE/PYTHON-15%20%28OOP%29/python-15.ipynb#ch0000048?line=7'>8</a>\u001b[0m     a \u001b[39m=\u001b[39m f\u001b[39m.\u001b[39mread(\u001b[39m10\u001b[39m)\n\u001b[0;32m      <a href='vscode-notebook-cell:/c%3A/Users/anton/source/IDE/PYTHON-15%20%28OOP%29/python-15.ipynb#ch0000048?line=8'>9</a>\u001b[0m     b \u001b[39m=\u001b[39m f\u001b[39m.\u001b[39mread(\u001b[39m23\u001b[39m)\n\u001b[1;32m---> <a href='vscode-notebook-cell:/c%3A/Users/anton/source/IDE/PYTHON-15%20%28OOP%29/python-15.ipynb#ch0000048?line=10'>11</a>\u001b[0m f\u001b[39m.\u001b[39;49mread(\u001b[39m3\u001b[39;49m)\n",
      "\u001b[1;31mValueError\u001b[0m: read of closed file"
     ]
    }
   ],
   "source": [
    "# После работы с файлом его необходимо закрыть с помощью метода close(). \n",
    "# Файл освобождается для операционной системы (если он был открыт для записи), и другие приложения могут получать к нему доступ. \n",
    "# Если не закрыть файл явно, то информация, записываемая в него, может быть утеряна, или файл может повредиться.\n",
    "# Для явного указания места работы с файлом, а также чтобы не забывать закрывать файл после обработки, существует менеджер контекста with.\n",
    "\n",
    "# В блоке менеджера контекста открытый файл «жив» и с ним можно работать, при выходе из блока - файл закрывается.\n",
    "with open(\"test.txt\", 'rb') as f:\n",
    "    a = f.read(10)\n",
    "    b = f.read(23)\n",
    "\n",
    "f.read(3) # Error!"
   ]
  },
  {
   "cell_type": "code",
   "execution_count": null,
   "metadata": {},
   "outputs": [],
   "source": [
    "# Тело менеджера контекста определяется одним отступом вправо относительно отступов ключевого слова with. \n",
    "# Менеджер контекста неявно вызывает закрытие файла после работы, что освобождает вас от забот о том, закрыли ли вы файл или нет. \n",
    "# Закрытие файла происходит при любом стечении обстоятельств, даже если внутри with будет ошибка. \n"
   ]
  },
  {
   "cell_type": "code",
   "execution_count": 17,
   "metadata": {},
   "outputs": [],
   "source": [
    "# Создайте любой файл на операционной системе под название input.txt и построчно перепишите его в файл output.txt\n",
    "with open(\"input.txt\", \"r\") as input_file:\n",
    "    with open(\"output.txt\", \"w\") as output_file:\n",
    "        for line in input_file:\n",
    "            output_file.write(line)\n"
   ]
  },
  {
   "cell_type": "code",
   "execution_count": 18,
   "metadata": {},
   "outputs": [],
   "source": [
    "# Дан файл numbers.txt, компоненты которого являются действительными числами \n",
    "# (файл создайте самостоятельно и заполните любыми числам, в одной строке одно число). \n",
    "# Найдите сумму наибольшего и наименьшего из значений и запишите результат в файл output.txt\n",
    "\n",
    "filename = 'numbers.txt'\n",
    "output = 'output.txt'\n",
    "\n",
    "with open(filename) as f:\n",
    "    min_ = max_ = float(f.readline())  # считали первое число\n",
    "    for line in f:\n",
    "        num =  float(line)\n",
    "        if num > max_:\n",
    "            max_ = num\n",
    "        elif num < min_:\n",
    "            min_ = num\n",
    "\n",
    "    sum_ = min_ + max_\n",
    "\n",
    "with open(output, 'w') as f:\n",
    "    f.write(str(sum_))\n",
    "    f.write('\\n')"
   ]
  },
  {
   "cell_type": "code",
   "execution_count": 21,
   "metadata": {},
   "outputs": [
    {
     "name": "stdout",
     "output_type": "stream",
     "text": [
      "2\n"
     ]
    }
   ],
   "source": [
    "# В текстовый файл построчно записаны фамилии и имена учащихся класса и их оценки за контрольную. \n",
    "# Подсчитайте количество учащихся, чья оценка меньше 3 баллов. Cодержание файла:\n",
    "count = 0\n",
    "for line in open(\"class.txt\"):\n",
    "    points = int(line.split()[-1])\n",
    "    if points < 3:\n",
    "        count += 1\n",
    "print (count)"
   ]
  },
  {
   "cell_type": "code",
   "execution_count": 22,
   "metadata": {},
   "outputs": [],
   "source": [
    "# Выполните реверсирование строк файла (перестановку строк файла в обратном порядке).\n",
    "with open(\"input.txt\", \"r\") as input_file:\n",
    "    with open(\"output.txt\", \"w\") as output_file:\n",
    "        for line in reversed(input_file.readlines()):\n",
    "            output_file.write(line)"
   ]
  },
  {
   "cell_type": "markdown",
   "metadata": {},
   "source": [
    "#### Исключения"
   ]
  },
  {
   "cell_type": "code",
   "execution_count": 1,
   "metadata": {},
   "outputs": [
    {
     "name": "stdout",
     "output_type": "stream",
     "text": [
      "Перед исключением\n",
      "division by zero\n",
      "После исключения\n",
      "После После исключения\n"
     ]
    }
   ],
   "source": [
    "# После возникновения исключения программа попытается экстренно завершить работу или перейти к обработчику исключения, если такой есть. Поскольку Python — интерпретируемый язык, то, по сути, исключения и вставляют нам палки в колёса, прерывая выполнение программы.\n",
    "# Ошибки бывают двух видов:\n",
    "# отлавливаемые — все, что наследуются от класса Exception;\n",
    "# не отлавливаемые — SystemExit, KeyboardInterrupt и т. д.\n",
    "\n",
    "# Как же сделать так, чтобы программа не вылетала при ошибке и продолжала свою работу? \n",
    "# Очень просто! Для этого и нужна конструкция try-except.\n",
    "\n",
    "try:  # Добавляем конструкцию try-except для отлова нашей ошибки\n",
    "    print(\"Перед исключением\")\n",
    "    # теперь пользователь сам вводит числа для деления\n",
    "    a = int(input(\"a: \"))\n",
    "    b = int(input(\"b: \"))\n",
    "    c = a / b  # здесь может возникнуть исключение деления на ноль\n",
    "    print(c)  # печатаем c = a / b если всё хорошо\n",
    "except ZeroDivisionError as e: # Добавляем тип именно той ошибки, которую хотим отловить.     \n",
    "    print(e)  # Выводим информацию об ошибке\n",
    "    print(\"После исключения\")\n",
    " \n",
    "print(\"После После исключения\")\n",
    "\n",
    "# В данном случае тоже может возникнуть ошибка деления на ноль, если пользователь введёт b = 0. \n",
    "# Поэтому мы отлавливаем ошибку ZeroDivisionError. В блоке try помещается «опасный» кусок кода, который может вызывать исключения, \n",
    "# а в блоке except указывается класс ошибки, которую мы хотим отловить, а затем помещается код, который нужно выполнить в случае возникновении ошибки. \n",
    "# После возникновении ошибки код в блоке try прервётся, перейдёт в блок except, а затем продолжит выполняться дальше — программа не вылетает, \n",
    "# как это было без обработчика исключений. В этом и есть главная суть конструкции try-except.\n",
    "\n"
   ]
  },
  {
   "cell_type": "code",
   "execution_count": null,
   "metadata": {},
   "outputs": [],
   "source": [
    "# Это ещё не всё! Есть также блоки finally и else. Код в блоке else выполнялся после завершения цикла. С try-except есть нечто похожее. Посмотрите на пример кода ниже.\n",
    "# Можно так:\n",
    "\n",
    "# try:\n",
    "    *ваш код*\n",
    "# except Ошибка:\n",
    "    *Код отлова*\n",
    "# else:\n",
    "    *Код, который выполнится если всё хорошо прошло в блоке try*\n",
    "# finally:\n",
    "    *Код, который выполнится по любому*\n",
    "\n",
    "# Важно! Обратите внимание на отступы — код внутри конструкции сдвинут на второй уровень вложенности.\n"
   ]
  },
  {
   "cell_type": "code",
   "execution_count": 2,
   "metadata": {},
   "outputs": [
    {
     "name": "stdout",
     "output_type": "stream",
     "text": [
      "Перед исключением\n",
      "После исключения\n",
      "Finally на месте\n",
      "После После исключения\n"
     ]
    },
    {
     "data": {
      "text/plain": [
       "'\\nПеред исключением\\nПосле исключения\\nFinally на месте\\nПосле После исключения\\n'"
      ]
     },
     "execution_count": 2,
     "metadata": {},
     "output_type": "execute_result"
    }
   ],
   "source": [
    "# Рассмотрим применение этих блоков на примере:\n",
    "\n",
    "try:\n",
    "    print(\"Перед исключением\")\n",
    "    a = int(input(\"a: \"))\n",
    "    b = int(input(\"b: \"))\n",
    "    c = a / b\n",
    "    print(c)  # печатаем c = a / b если всё хорошо\n",
    "except ZeroDivisionError as e:\n",
    "    print(\"После исключения\")\n",
    "else:  # код в блоке else выполняется только в том случае, если код в блоке try выполнился успешно (т.е. не вылетело никакого исключения).\n",
    "    print(\"Всё ништяк\")\n",
    "finally:  # код в блоке finally выполнится в любом случае, при выходе из try-except\n",
    "    print(\"Finally на месте\")\n",
    " \n",
    "print(\"После После исключения\")\n",
    "\n",
    "# Здесь результат работы программы будет зависеть от ввода пользователя. Если пользователь введёт всё правильно, то он должен увидеть следующее:\n",
    "'''''''''\n",
    "Перед исключением\n",
    "*результат деления a/b*\n",
    "Всё ништяк\n",
    "Finally на месте\n",
    "После После исключения\n",
    "'''''''''''\n",
    "\n",
    "# Если же возникнет ошибка, то пользователь увидит следующее:\n",
    "'''''''''\n",
    "Перед исключением\n",
    "После исключения\n",
    "Finally на месте\n",
    "После После исключения\n",
    "'''''''''\n",
    "# Код в блоке else не выполнится, поскольку было исключение, а код в блоке finally выполняется в обоих случаях."
   ]
  },
  {
   "cell_type": "code",
   "execution_count": null,
   "metadata": {},
   "outputs": [],
   "source": [
    "# Конечно, мы можем вызывать ошибки самостоятельно с помощью конструкции raise. Используется это, как правило, для отладки кода и остановки программы в критических ситуациях.\n",
    "# Например:\n",
    "\n",
    "age = int(input(\"Сколько тебе лет?\"))\n",
    "if age > 100 or age <= 0:\n",
    "    raise ValueError(\"Тебе не может быть столько лет\")\n",
    " \n",
    "print(f\"Тебе {age} лет!\") # Возраст выводится только если пользователь ввёл правильный возраст.\n",
    "\n",
    "# Здесь ошибка ValueError возникнет, если пользователь ввёл неправильный возраст, и остановит работу программы, выдав в консоль:\n",
    "\n",
    "raise ValueError(\"Тебе не может быть столько лет\")\n",
    "\n",
    "'''''''''\n",
    "Traceback (most recent call last):\n",
    "File \"<stdin>\", line 1, in <module>\n",
    "ValueError: Тебе не может быть столько лет\n",
    "'''''''''\n",
    "# В консоль выводится именно то сообщение, которое вы передадите в аргумент конструктора класса исключения. Если не хотите никаких сообщений, то просто оставьте скобки пустыми. "
   ]
  },
  {
   "cell_type": "code",
   "execution_count": null,
   "metadata": {},
   "outputs": [],
   "source": [
    "# Стоит отметить, что отлавливать вызываемые с помощью raise ошибки тоже можно.\n",
    "# Например:\n",
    "try:\n",
    "    age = int(input(\"Сколько тебе лет?\"))\n",
    "\n",
    "    if age > 100 or age <= 0:\n",
    "        raise ValueError(\"Тебе не может быть столько лет\")\n",
    "\n",
    "    # Возраст выводится только если пользователь ввёл правильный возраст.\n",
    "    print(f\"Тебе {age} лет!\")\n",
    "except ValueError:\n",
    "    print(\"Неправильный возраст\")\n",
    "\n"
   ]
  },
  {
   "cell_type": "markdown",
   "metadata": {},
   "source": [
    "Давайте кратко подведём итоги:\n",
    "\n",
    "Исключения — это ошибки, которые выбрасываются при неправильной работе программы, и останавливают её выполнение, если они не обработаны.  \n",
    "Конструкция try-except выглядит следующим образом и служит для обработки исключений:  \n",
    "try:  \n",
    "    *код, который может вызвать ту или иную ошибку*  \n",
    "except *ошибка*:  \n",
    "    *код, который выполнится в случае возникновения ошибки*  \n",
    "else:  \n",
    "    *код, который выполнится только в случае если в try ничего не сломалось*  \n",
    "finally:  \n",
    "    *код, который выполнится по любому*  \n",
    "Блоки finally и else являются не обязательными, но могут быть использованы для вашего удобства. Код из блока finally выполняется в любом случае, независимо от исхода в блоках try-except. Код из блока else выполняется только в случае успешного выполнения кода в try.\n",
    "Выбрасывать ошибки можно и по своему желанию с помощью конструкции raise *Тип ошибки* (сообщение, которое нужно вывести в консоль)."
   ]
  },
  {
   "cell_type": "code",
   "execution_count": 3,
   "metadata": {},
   "outputs": [
    {
     "name": "stdout",
     "output_type": "stream",
     "text": [
      "Вы ввели 23\n",
      "Выход из программы\n"
     ]
    }
   ],
   "source": [
    "# Задание на самопроверку.\n",
    "# Создать скрипт, который будет в input() принимать строки, и их необходимо будет конвертировать в числа, добавить try-except на то, чтобы строки могли быть сконвертированы в числа.\n",
    "# В случае удачного выполнения скрипта написать: «Вы ввели <введённое число>».\n",
    "# В конце скрипта обязательно написать: «Выход из программы».\n",
    "try:\n",
    "    i = int(input('Введите число:\\t'))\n",
    "except ValueError as e:\n",
    "    print('Вы ввели неправильное число')\n",
    "else:\n",
    "    print(f'Вы ввели {i}')\n",
    "finally:\n",
    "    print('Выход из программы')"
   ]
  },
  {
   "cell_type": "markdown",
   "metadata": {},
   "source": [
    "##### Тонкости обработки исключений. Собственные классы исключений"
   ]
  },
  {
   "cell_type": "code",
   "execution_count": 4,
   "metadata": {},
   "outputs": [
    {
     "name": "stdout",
     "output_type": "stream",
     "text": [
      "Hello from arithmetic error\n"
     ]
    }
   ],
   "source": [
    "# В блоке except можно не только сам класс, но и его родителя, например:\n",
    "try:\n",
    "    raise ZeroDivisionError  # возбуждаем исключение ZeroDivisionError\n",
    "except ArithmeticError:  # ловим его родителя\n",
    "    print(\"Hello from arithmetic error\")"
   ]
  },
  {
   "cell_type": "code",
   "execution_count": 5,
   "metadata": {},
   "outputs": [
    {
     "name": "stdout",
     "output_type": "stream",
     "text": [
      "Arithmetic error\n"
     ]
    }
   ],
   "source": [
    "# Действуя от обратного, однако, надо быть осторожным. Если, например, надо поймать несколько исключений, то идти следует вверх по дереву.\n",
    "# Например:\n",
    "\n",
    "try:\n",
    "    raise ZeroDivisionError\n",
    "except ArithmeticError:\n",
    "    print(\"Arithmetic error\")\n",
    "except ZeroDivisionError:\n",
    "    print(\"Zero division error\")\n",
    "\n",
    "# "
   ]
  },
  {
   "cell_type": "code",
   "execution_count": 6,
   "metadata": {},
   "outputs": [
    {
     "name": "stdout",
     "output_type": "stream",
     "text": [
      "Zero division error\n"
     ]
    }
   ],
   "source": [
    "# ArithmeticError является более абстрактным (находящимся выше в иерархическом дереве, родительским) классом. \n",
    "# Если вы хотите ловить сначала исключения-потомки, а затем родительские исключения, убедитесь, что в блоке except отлов родительского исключения стоит ниже, чем отлов исключения-потомка. \n",
    "# Иначе говоря, ваша конструкция отлова исключений должна идти от конкретного класса к более абстрактному.\n",
    "\n",
    "# Вот правильный пример для наглядности:\n",
    "try:\n",
    "    raise ZeroDivisionError\n",
    "except ZeroDivisionError:  # сначала пытаемся поймать потомка\n",
    "    print(\"Zero division error\")\n",
    "except ArithmeticError:  # потом ловим родителя\n",
    "    print(\"Arithmetic error\")"
   ]
  },
  {
   "cell_type": "markdown",
   "metadata": {},
   "source": [
    "Если кратко обобщить, то можно сказать так: исключения — это тоже классы. Будучи классами, они могут наследоваться. «Отлавливать» можно как сам класс, так и его родителя (в любом колене). В этом случае надо убедиться в том, чтобы сначала обрабатывались более конкретные исключения, иначе они могут быть перекрыты их родителями и попросту упущены."
   ]
  },
  {
   "cell_type": "code",
   "execution_count": null,
   "metadata": {},
   "outputs": [],
   "source": [
    "# Иногда может понадобиться написать собственное исключение. Например, вы пишете собственную игру и вам нужно обработать ситуацию, \n",
    "# когда ваш персонаж пытается выучить способность, при этом не достигнув нужного уровня. \n",
    "# Или пытается положить в уже заполненный инвентарь ещё какой-то предмет.\n",
    "# Принцип написания и отлова собственного исключения следующий:\n",
    "\n",
    "class MyException(Exception):  # создаём пустой класс исключения \n",
    "    pass\n",
    "\n",
    " \n",
    "try:\n",
    "    raise MyException(\"message\")  # поднимаем наше исключение\n",
    "except MyException as e:  # ловим его\n",
    "    print(e)  # выводим информацию об исключении\n",
    "\n",
    "# Лучше всего, чтобы исключения были связаны между собой, то есть наследовались от общего класса исключения. \n",
    "# Если продолжить пример с игрой из прошлого абзаца, то общим классом был бы GameplayException."
   ]
  },
  {
   "cell_type": "code",
   "execution_count": null,
   "metadata": {},
   "outputs": [],
   "source": [
    "# Наследуются исключения для того, чтобы можно было, продолжая всё тот же пример, отлавливать отдельно игровые исключения и отдельно исключения, \n",
    "# касающиеся ресурсов (закончилась оперативная память, место на диске и так далее.\n",
    "# Давайте теперь попробуем построить собственные исключения с наследованием:\n",
    "\n",
    "class ParentException(Exception):  # создаём пустой класс исключения, наследуемся от exception\n",
    "    pass\n",
    "\n",
    " \n",
    "class ChildException(ParentException):  # создаём пустой класс исключения-потомка, наследуемся от ParentException\n",
    "    pass\n",
    "\n",
    " \n",
    "try:\n",
    "    raise ChildException(\"message\")  # поднимаем исключение-потомок\n",
    "except ParentException as e:  # ловим его родителя\n",
    "    print(e)  # выводим информацию об исключении\n",
    "\n",
    "# В этом случае мы успешно обработали собственный класс-наследник, хотя он и не является ParentException. \n",
    "# Когда исключение возникает, в каждом блоке except по порядку интерпретатор проверяет, является ли исключение наследником или самим классом отлавливаемого исключения, \n",
    "# и если да, то выполняет код в except."
   ]
  },
  {
   "cell_type": "code",
   "execution_count": null,
   "metadata": {},
   "outputs": [],
   "source": [
    "# Кстати говоря, класс с самописным исключением необязательно должен быть пустым. \n",
    "# Если вы хотите добавить собственные аргументы в конструктор, дополнительно произвести какие-либо операции, то можете спокойно это делать, главное — не забыть о нескольких нюансах:\n",
    "\n",
    "class ParentException(Exception):\n",
    "    def __init__(self, message, error):  # допишем к нашему пустому классу конструктор, который будет печатать дополнительно в консоль информацию об ошибке.\n",
    "        super().__init__(message)  # помним про вызов конструктора родительского класса\n",
    "        print(f\"Errors: {error}\")  # печатаем ошибку\n",
    "\n",
    " \n",
    "class ChildException(ParentException): # создаём пустой класс исключения-потомка, наследуемся от ParentException\n",
    "    def __init__(self, message, error):\n",
    "        super().__init__(message, error)\n",
    " \n",
    " \n",
    "try:\n",
    "    raise ChildException(\"message\", \"error\")  # поднимаем исключение-потомок, передаём дополнительный аргумент\n",
    "except ParentException as e:\n",
    "    print(e)  # выводим информацию об исключении\n",
    "\n",
    "# Сначала мы увидим то, что напишет нам конструктор родительского класса, а потом уже —сообщение об ошибке.\n",
    "# Конечно же, собственный класс исключений можно модернизировать как угодно: добавлять дополнительные аргументы, писать собственные методы, \n",
    "# наследоваться хоть до десятого колена и так далее. Суть одна — помните про иерархию и полиморфизм, остальное за вас сделает Python."
   ]
  },
  {
   "cell_type": "markdown",
   "metadata": {},
   "source": [
    "Давайте подведём итоги:  \n",
    "\n",
    "Исключения — это такие особенные классы, которые, как и любые классы, можно наследовать. Если вы хотите ловить несколько исключений, то сначала ловите потомков, а потом родителей, чтобы ничего не упустить.  \n",
    "Чтобы создать собственный класс, нужно просто написать пустой класс и наследовать его от класса Exception, этого будет достаточно.  \n",
    "Необязательно «отлавливать» сам класс. При необходимости можно отлавливать его родителя, это тоже будет работать, но вы можете упустить важную информацию."
   ]
  },
  {
   "cell_type": "code",
   "execution_count": null,
   "metadata": {},
   "outputs": [],
   "source": [
    "# Задание на самопроверку.\n",
    "# Создайте класс Square. Добавьте в конструктор класса Square собственное исключение NonPositiveDigitException, унаследованное от ValueError, \n",
    "# которое будет срабатывать каждый раз, когда сторона квадрата меньше или равна 0.\n",
    "class NonPositiveDigitException(ValueError):\n",
    "    pass\n",
    " \n",
    "class Square:\n",
    "    def __init__(self, a):\n",
    "        if a <= 0:\n",
    "            raise NonPositiveDigitException('Неправильно указана сторона квадрата')"
   ]
  }
 ],
 "metadata": {
  "kernelspec": {
   "display_name": "Python 3.10.4 64-bit",
   "language": "python",
   "name": "python3"
  },
  "language_info": {
   "codemirror_mode": {
    "name": "ipython",
    "version": 3
   },
   "file_extension": ".py",
   "mimetype": "text/x-python",
   "name": "python",
   "nbconvert_exporter": "python",
   "pygments_lexer": "ipython3",
   "version": "3.10.4"
  },
  "orig_nbformat": 4,
  "vscode": {
   "interpreter": {
    "hash": "4604fddfbe3ec3d9d385c207fa0ddb9a05dfef66380401ad05b04bbd42d45367"
   }
  }
 },
 "nbformat": 4,
 "nbformat_minor": 2
}
