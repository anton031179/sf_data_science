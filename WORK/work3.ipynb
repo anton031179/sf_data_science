{
 "cells": [
  {
   "cell_type": "code",
   "execution_count": 50,
   "metadata": {},
   "outputs": [],
   "source": [
    "import pandas as pd\n",
    "import matplotlib.pyplot as plt\n",
    "import seaborn as sns\n",
    "import plotly.express as px"
   ]
  },
  {
   "cell_type": "code",
   "execution_count": 51,
   "metadata": {},
   "outputs": [
    {
     "data": {
      "text/html": [
       "<div>\n",
       "<style scoped>\n",
       "    .dataframe tbody tr th:only-of-type {\n",
       "        vertical-align: middle;\n",
       "    }\n",
       "\n",
       "    .dataframe tbody tr th {\n",
       "        vertical-align: top;\n",
       "    }\n",
       "\n",
       "    .dataframe thead th {\n",
       "        text-align: right;\n",
       "    }\n",
       "</style>\n",
       "<table border=\"1\" class=\"dataframe\">\n",
       "  <thead>\n",
       "    <tr style=\"text-align: right;\">\n",
       "      <th></th>\n",
       "      <th>Период</th>\n",
       "      <th>РБ, УРБ</th>\n",
       "      <th>кол-во проверок</th>\n",
       "      <th>кол-во мер реагирования (РУ)</th>\n",
       "      <th>Хозяйство</th>\n",
       "      <th>Значимость риска</th>\n",
       "    </tr>\n",
       "  </thead>\n",
       "  <tbody>\n",
       "    <tr>\n",
       "      <th>0</th>\n",
       "      <td>2 квартал 2022</td>\n",
       "      <td>РБД, УРБД</td>\n",
       "      <td>110.0</td>\n",
       "      <td>320.0</td>\n",
       "      <td>Д</td>\n",
       "      <td>13.17</td>\n",
       "    </tr>\n",
       "    <tr>\n",
       "      <th>1</th>\n",
       "      <td>2 квартал 2022</td>\n",
       "      <td>РБТ, УРБТ</td>\n",
       "      <td>78.0</td>\n",
       "      <td>179.0</td>\n",
       "      <td>Т</td>\n",
       "      <td>15.94</td>\n",
       "    </tr>\n",
       "    <tr>\n",
       "      <th>2</th>\n",
       "      <td>2 квартал 2022</td>\n",
       "      <td>РБП, УРБП</td>\n",
       "      <td>198.0</td>\n",
       "      <td>418.0</td>\n",
       "      <td>П+ДРП</td>\n",
       "      <td>26.33</td>\n",
       "    </tr>\n",
       "    <tr>\n",
       "      <th>3</th>\n",
       "      <td>2 квартал 2022</td>\n",
       "      <td>РБП ИССО</td>\n",
       "      <td>6.0</td>\n",
       "      <td>2.0</td>\n",
       "      <td>ПЧ ИССО</td>\n",
       "      <td>7.63</td>\n",
       "    </tr>\n",
       "    <tr>\n",
       "      <th>4</th>\n",
       "      <td>2 квартал 2022</td>\n",
       "      <td>РБВ, УРБВ</td>\n",
       "      <td>65.0</td>\n",
       "      <td>73.0</td>\n",
       "      <td>В</td>\n",
       "      <td>14.05</td>\n",
       "    </tr>\n",
       "  </tbody>\n",
       "</table>\n",
       "</div>"
      ],
      "text/plain": [
       "           Период    РБ, УРБ  кол-во проверок  кол-во мер реагирования (РУ)  \\\n",
       "0  2 квартал 2022  РБД, УРБД            110.0                         320.0   \n",
       "1  2 квартал 2022  РБТ, УРБТ             78.0                         179.0   \n",
       "2  2 квартал 2022  РБП, УРБП            198.0                         418.0   \n",
       "3  2 квартал 2022   РБП ИССО              6.0                           2.0   \n",
       "4  2 квартал 2022  РБВ, УРБВ             65.0                          73.0   \n",
       "\n",
       "  Хозяйство  Значимость риска  \n",
       "0         Д             13.17  \n",
       "1         Т             15.94  \n",
       "2     П+ДРП             26.33  \n",
       "3   ПЧ ИССО              7.63  \n",
       "4         В             14.05  "
      ]
     },
     "metadata": {},
     "output_type": "display_data"
    }
   ],
   "source": [
    "df = pd.read_excel('data/rbkr2.xls')\n",
    "display(df.head())"
   ]
  },
  {
   "cell_type": "code",
   "execution_count": 57,
   "metadata": {},
   "outputs": [
    {
     "name": "stdout",
     "output_type": "stream",
     "text": [
      "<class 'pandas.core.frame.DataFrame'>\n",
      "RangeIndex: 60 entries, 0 to 59\n",
      "Data columns (total 6 columns):\n",
      " #   Column                        Non-Null Count  Dtype  \n",
      "---  ------                        --------------  -----  \n",
      " 0   Период                        60 non-null     object \n",
      " 1   РБ, УРБ                       60 non-null     object \n",
      " 2   кол-во проверок               56 non-null     float64\n",
      " 3   кол-во мер реагирования (РУ)  56 non-null     float64\n",
      " 4   Хозяйство                     60 non-null     object \n",
      " 5   Значимость риска              60 non-null     float64\n",
      "dtypes: float64(3), object(3)\n",
      "memory usage: 2.9+ KB\n"
     ]
    }
   ],
   "source": [
    "df.info()"
   ]
  },
  {
   "cell_type": "code",
   "execution_count": 53,
   "metadata": {},
   "outputs": [
    {
     "data": {
      "text/html": [
       "<div>\n",
       "<style scoped>\n",
       "    .dataframe tbody tr th:only-of-type {\n",
       "        vertical-align: middle;\n",
       "    }\n",
       "\n",
       "    .dataframe tbody tr th {\n",
       "        vertical-align: top;\n",
       "    }\n",
       "\n",
       "    .dataframe thead th {\n",
       "        text-align: right;\n",
       "    }\n",
       "</style>\n",
       "<table border=\"1\" class=\"dataframe\">\n",
       "  <thead>\n",
       "    <tr style=\"text-align: right;\">\n",
       "      <th></th>\n",
       "      <th>кол-во проверок</th>\n",
       "      <th>кол-во мер реагирования (РУ)</th>\n",
       "      <th>Значимость риска</th>\n",
       "    </tr>\n",
       "  </thead>\n",
       "  <tbody>\n",
       "    <tr>\n",
       "      <th>кол-во проверок</th>\n",
       "      <td>1.00</td>\n",
       "      <td>0.95</td>\n",
       "      <td>0.77</td>\n",
       "    </tr>\n",
       "    <tr>\n",
       "      <th>кол-во мер реагирования (РУ)</th>\n",
       "      <td>0.95</td>\n",
       "      <td>1.00</td>\n",
       "      <td>0.69</td>\n",
       "    </tr>\n",
       "    <tr>\n",
       "      <th>Значимость риска</th>\n",
       "      <td>0.77</td>\n",
       "      <td>0.69</td>\n",
       "      <td>1.00</td>\n",
       "    </tr>\n",
       "  </tbody>\n",
       "</table>\n",
       "</div>"
      ],
      "text/plain": [
       "                              кол-во проверок  кол-во мер реагирования (РУ)  \\\n",
       "кол-во проверок                          1.00                          0.95   \n",
       "кол-во мер реагирования (РУ)             0.95                          1.00   \n",
       "Значимость риска                         0.77                          0.69   \n",
       "\n",
       "                              Значимость риска  \n",
       "кол-во проверок                           0.77  \n",
       "кол-во мер реагирования (РУ)              0.69  \n",
       "Значимость риска                          1.00  "
      ]
     },
     "execution_count": 53,
     "metadata": {},
     "output_type": "execute_result"
    }
   ],
   "source": [
    "round(df.corr(), 2)"
   ]
  },
  {
   "cell_type": "code",
   "execution_count": 55,
   "metadata": {},
   "outputs": [
    {
     "data": {
      "image/png": "[encoded data removed]",
      "text/plain": [
       "<Figure size 1080x360 with 1 Axes>"
      ]
     },
     "metadata": {
      "needs_background": "light"
     },
     "output_type": "display_data"
    }
   ],
   "source": [
    "fig = plt.figure(figsize=(15,5))\n",
    "sns.scatterplot(data=df, x=\"кол-во мер реагирования (РУ)\", y=\"Значимость риска\")\n",
    "plt.show()"
   ]
  },
  {
   "cell_type": "code",
   "execution_count": null,
   "metadata": {},
   "outputs": [
    {
     "data": {
      "image/png": "[encoded data removed]",
      "text/plain": [
       "<Figure size 1080x360 with 1 Axes>"
      ]
     },
     "metadata": {
      "needs_background": "light"
     },
     "output_type": "display_data"
    }
   ],
   "source": [
    "# use regplot\n",
    "fig = plt.figure(figsize=(15,5))\n",
    "sns.regplot(x = \"кол-во мер реагирования (РУ)\",\n",
    "            y = \"Обобщенное влияние факторов риска хозяйства\", \n",
    "            ci = None,\n",
    "            data = df)\n",
    "plt.show()\n"
   ]
  },
  {
   "cell_type": "code",
   "execution_count": 60,
   "metadata": {},
   "outputs": [],
   "source": [
    "df2=df[df['РБ, УРБ'] == 'РБД, УРБД']\n",
    "df3=df[df['РБ, УРБ'] == 'РБТ, УРБТ']\n",
    "df4=df[df['РБ, УРБ'] == 'РБП, УРБП']\n",
    "df5=df[df['РБ, УРБ'] == 'РБП ИССО']\n",
    "df6=df[df['РБ, УРБ'] == 'РБВ, УРБВ']\n",
    "df7=df[df['РБ, УРБ'] == 'РБШ, УРБШ']\n",
    "df8=df[df['РБ, УРБ'] == 'РБЭ, УРБЭ']\n",
    "df9=df[df['РБ, УРБ'] == 'РБЛ']\n",
    "df10=df[df['РБ, УРБ'] == 'РБС, УРБС']\n",
    "df11=df[df['РБ, УРБ'] == 'РБМ, УРБМ']"
   ]
  },
  {
   "cell_type": "code",
   "execution_count": 61,
   "metadata": {},
   "outputs": [
    {
     "data": {
      "image/png": "[encoded data removed]",
      "text/plain": [
       "<Figure size 1080x360 with 1 Axes>"
      ]
     },
     "metadata": {
      "needs_background": "light"
     },
     "output_type": "display_data"
    }
   ],
   "source": [
    "fig = plt.figure(figsize=(15,5))\n",
    "sns.scatterplot(data=df2, x=\"кол-во мер реагирования (РУ)\", y=\"Значимость риска\")\n",
    "plt.show()"
   ]
  },
  {
   "cell_type": "code",
   "execution_count": 62,
   "metadata": {},
   "outputs": [
    {
     "data": {
      "text/plain": [
       "<AxesSubplot:xlabel='кол-во мер реагирования (РУ)', ylabel='Значимость риска'>"
      ]
     },
     "execution_count": 62,
     "metadata": {},
     "output_type": "execute_result"
    },
    {
     "data": {
      "image/png": "[encoded data removed]",
      "text/plain": [
       "<Figure size 432x288 with 1 Axes>"
      ]
     },
     "metadata": {
      "needs_background": "light"
     },
     "output_type": "display_data"
    }
   ],
   "source": [
    "\n",
    "# use regplot\n",
    "sns.regplot(x = \"кол-во мер реагирования (РУ)\",\n",
    "            y = \"Значимость риска\", \n",
    "            ci = None,\n",
    "            data = df11)"
   ]
  },
  {
   "cell_type": "code",
   "execution_count": 63,
   "metadata": {},
   "outputs": [
    {
     "data": {
      "text/html": [
       "<div>\n",
       "<style scoped>\n",
       "    .dataframe tbody tr th:only-of-type {\n",
       "        vertical-align: middle;\n",
       "    }\n",
       "\n",
       "    .dataframe tbody tr th {\n",
       "        vertical-align: top;\n",
       "    }\n",
       "\n",
       "    .dataframe thead th {\n",
       "        text-align: right;\n",
       "    }\n",
       "</style>\n",
       "<table border=\"1\" class=\"dataframe\">\n",
       "  <thead>\n",
       "    <tr style=\"text-align: right;\">\n",
       "      <th></th>\n",
       "      <th>кол-во проверок</th>\n",
       "      <th>кол-во мер реагирования (РУ)</th>\n",
       "      <th>Значимость риска</th>\n",
       "    </tr>\n",
       "  </thead>\n",
       "  <tbody>\n",
       "    <tr>\n",
       "      <th>кол-во проверок</th>\n",
       "      <td>1.00</td>\n",
       "      <td>0.91</td>\n",
       "      <td>-0.12</td>\n",
       "    </tr>\n",
       "    <tr>\n",
       "      <th>кол-во мер реагирования (РУ)</th>\n",
       "      <td>0.91</td>\n",
       "      <td>1.00</td>\n",
       "      <td>-0.32</td>\n",
       "    </tr>\n",
       "    <tr>\n",
       "      <th>Значимость риска</th>\n",
       "      <td>-0.12</td>\n",
       "      <td>-0.32</td>\n",
       "      <td>1.00</td>\n",
       "    </tr>\n",
       "  </tbody>\n",
       "</table>\n",
       "</div>"
      ],
      "text/plain": [
       "                              кол-во проверок  кол-во мер реагирования (РУ)  \\\n",
       "кол-во проверок                          1.00                          0.91   \n",
       "кол-во мер реагирования (РУ)             0.91                          1.00   \n",
       "Значимость риска                        -0.12                         -0.32   \n",
       "\n",
       "                              Значимость риска  \n",
       "кол-во проверок                          -0.12  \n",
       "кол-во мер реагирования (РУ)             -0.32  \n",
       "Значимость риска                          1.00  "
      ]
     },
     "execution_count": 63,
     "metadata": {},
     "output_type": "execute_result"
    }
   ],
   "source": [
    "round(df11.corr(), 2)"
   ]
  }
 ],
 "metadata": {
  "kernelspec": {
   "display_name": "Python 3.10.4 64-bit",
   "language": "python",
   "name": "python3"
  },
  "language_info": {
   "codemirror_mode": {
    "name": "ipython",
    "version": 3
   },
   "file_extension": ".py",
   "mimetype": "text/x-python",
   "name": "python",
   "nbconvert_exporter": "python",
   "pygments_lexer": "ipython3",
   "version": "3.10.4"
  },
  "orig_nbformat": 4,
  "vscode": {
   "interpreter": {
    "hash": "4604fddfbe3ec3d9d385c207fa0ddb9a05dfef66380401ad05b04bbd42d45367"
   }
  }
 },
 "nbformat": 4,
 "nbformat_minor": 2
}
