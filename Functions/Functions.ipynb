{
 "cells": [
  {
   "cell_type": "code",
   "execution_count": 11,
   "metadata": {},
   "outputs": [
    {
     "name": "stdout",
     "output_type": "stream",
     "text": [
      "Hours: 1\n",
      "Minutes left: 30\n"
     ]
    }
   ],
   "source": [
    "#Пусть функция принимает на вход время в минутах и печатает соответствующее этому числу минут целое число часов и остаток минут\n",
    "def print_hours(minutes):\n",
    "    # // — это оператор целочисленного деления\n",
    "    hours = minutes // 60\n",
    "    # % — это оператор получения остатка от деления\n",
    "    left_minutes = minutes % 60\n",
    "    print(\"Hours:\", hours)\n",
    "    print(\"Minutes left:\", left_minutes)\n",
    "print_hours(90)\n"
   ]
  },
  {
   "cell_type": "code",
   "execution_count": 12,
   "metadata": {},
   "outputs": [
    {
     "name": "stdout",
     "output_type": "stream",
     "text": [
      "(1, 12)\n",
      "Hours to travel: 1\n",
      "Minutes to travel: 12\n",
      "Hours to travel: 1\n",
      "Minutes to travel: 12\n"
     ]
    }
   ],
   "source": [
    "#Давайте напишем функцию, которая принимает на вход расстояние и среднюю скорость и возвращает время в пути:\n",
    "def get_time_tuple(distance, speed):\n",
    "    # Получаем целое число часов в пути\n",
    "    hours = distance // speed\n",
    "    # Получаем остаток км в пути\n",
    "    distance_left = distance % speed\n",
    "    # Переводим скорость из км/ч в км/мин:\n",
    "    # за одну минуту можно проехать расстояние\n",
    "    # в 60 раз меньше, чем за 1 час\n",
    "    kms_per_minute = speed / 60\n",
    "    # Делим оставшееся расстояние на скорость в км/мин.\n",
    "    # и округляем до целого\n",
    "    minutes = round(distance_left / kms_per_minute)\n",
    "    # Перечисляем аргументы через запятую.\n",
    "    # Они будут возвращены функцией в виде кортежа.\n",
    "    return hours, minutes\n",
    "result = get_time_tuple(120, 100)\n",
    "print(result)\n",
    "#Теперь напечатаем полученный результат в более понятном виде:\n",
    "print(\"Hours to travel:\", result[0])\n",
    "print(\"Minutes to travel:\", result[1])\n",
    "# Будет напечатано:\n",
    "# Hours to travel: 1\n",
    "# Minutes to travel: 12\n",
    "#Также мы можем получить результат выполнения функции сразу в две переменные без необходимости обращаться к элементам tuple\n",
    "# Через запятую перечисляем переменные, в которые сохранится результат\n",
    "hours, minutes = get_time_tuple(120, 100)\n",
    "# Красиво напечатаем результат\n",
    "print(\"Hours to travel:\", hours)\n",
    "print(\"Minutes to travel:\", minutes)\n",
    "# Будет напечатано:\n",
    "# Hours to travel: 1\n",
    "# Minutes to travel: 12"
   ]
  },
  {
   "cell_type": "code",
   "execution_count": 13,
   "metadata": {},
   "outputs": [
    {
     "name": "stdout",
     "output_type": "stream",
     "text": [
      "Element is NOT found!\n",
      "False\n",
      "Element is found!\n",
      "True\n"
     ]
    }
   ],
   "source": [
    "#Давайте проверим всё это на примере функции, которая принимает на вход список и объект, который необходимо в нём найти. \n",
    "#Она ищет его в цикле и возвращает True, если объект найден, и False, если его в списке нет.\n",
    "# list_in — список, в котором будем искать объект\n",
    "# Интуитивно хотелось бы назвать аргумент для списка\n",
    "# словом list, однако это привело бы к изменению встроенного\n",
    "# объекта list, что очень нежелательно\n",
    "# obj — аргумент, содержащий объект, который ищет функция\n",
    "def in_list(list_in, obj):\n",
    "    for elem in list_in:\n",
    "        if obj == elem:\n",
    "            print(\"Element is found!\")\n",
    "            return True\n",
    "            print(\"This won’t be printed\")\n",
    "    print(\"Element is NOT found!\")\n",
    "    return False\n",
    "    print(\"This will not be printed either\")\n",
    "my_list = [1,2,5,7,10]\n",
    "result = in_list(my_list, 3)\n",
    "# Element is NOT found!\n",
    "print(result)\n",
    "# False\n",
    "result = in_list(my_list, 7)\n",
    "# Element is found!\n",
    "print(result)\n",
    "# True"
   ]
  },
  {
   "cell_type": "code",
   "execution_count": 14,
   "metadata": {},
   "outputs": [
    {
     "name": "stdout",
     "output_type": "stream",
     "text": [
      "Student’s mark was not found!\n"
     ]
    }
   ],
   "source": [
    "#Вначале посмотрим, какая ошибка возникает, если попробовать получить значение из словаря по ключу, которого в нём нет:\n",
    "# Создадим тот же словарь\n",
    "grades = {'Ivanov': 5, 'Smirnov': 3, 'Kuznetsova': 4, 'Tihonova': 5}\n",
    "# Только попробуем (try — пробовать) напечатать оценку студента,\n",
    "# которого нет в словаре\n",
    "try:\n",
    "    print(grades['Pavlov'])\n",
    "# А если возникнет ошибка в ключе (KeyError), скажем,\n",
    "# что студента нет в словаре\n",
    "except KeyError:\n",
    "    print(\"Student’s mark was not found!\")\n",
    "# Будет напечатано:\n",
    "# Student’s mark was not found!"
   ]
  },
  {
   "cell_type": "code",
   "execution_count": 15,
   "metadata": {},
   "outputs": [],
   "source": [
    "#После встречи с raise, как и в случае с return, интерпретатор прекращает исполнение кода функции.\n",
    "def get_time(distance, speed):\n",
    "    # Если расстояние или скорость отрицательные, то возвращаем ошибку\n",
    "    if distance < 0 or speed < 0:\n",
    "        # Оператор raise возвращает (raise — досл. англ. \"поднимать\")\n",
    "        # объект-исключение. В данном случае ValueError (некорректное значение).\n",
    "        # Дополнительно в скобках после слова ValueError пишем текст сообщения\n",
    "        # об ошибке, чтобы сразу было понятно, чем вызвана ошибка.\n",
    "        raise ValueError(\"Distance or speed cannot be below 0!\")\n",
    "    result = distance / speed\n",
    "    return result\n"
   ]
  },
  {
   "cell_type": "code",
   "execution_count": 16,
   "metadata": {},
   "outputs": [
    {
     "name": "stdout",
     "output_type": "stream",
     "text": [
      "Speed cannot be equal to 0!\n"
     ]
    }
   ],
   "source": [
    "#Попробуйте добавить в новую функцию get_time из примера выше проверку скорости на равенство нулю. \n",
    "#Если скорость равна нулю, верните ValueError с сообщением \"Speed cannot be equal to 0!\".\n",
    "def get_time(distance, speed):\n",
    "    # Добавьте проверку скорости на равенство 0\n",
    "    # Верните ошибку ValueError с текстом\n",
    "    # \"Speed cannot be equal to 0!\"\n",
    "    if distance < 0 or speed < 0:\n",
    "        raise ValueError(\"Distance or speed cannot be below 0!\")\n",
    "    elif speed == 0: \n",
    "        raise ValueError(\"Speed cannot be equal to 0!\")\n",
    "    result = distance / speed\n",
    "    return result\n",
    "#попытка вызвать функцию с некорректными аргументами\n",
    "try:\n",
    "    print(get_time(100, 0))\n",
    "#должна завершиться с ошибкой ValueError, которую мы выведем в блоке except\n",
    "except ValueError as e:\n",
    "    print(e) "
   ]
  },
  {
   "cell_type": "code",
   "execution_count": 17,
   "metadata": {},
   "outputs": [],
   "source": [
    "# С помощью оператора '=' присвоим\n",
    "# переменной ice значение True по умолчанию\n",
    "def get_cola(ice=True):\n",
    "    if ice == True:\n",
    "        print(\"Cola with ice is ready!\")\n",
    "    else:\n",
    "        print(\"Cola without ice is ready!\")"
   ]
  },
  {
   "cell_type": "code",
   "execution_count": 18,
   "metadata": {},
   "outputs": [
    {
     "name": "stdout",
     "output_type": "stream",
     "text": [
      "9.0\n"
     ]
    }
   ],
   "source": [
    "# В функцию должны передаваться 2 значения:\n",
    "# число и степень корня\n",
    "#Модифицируйте функцию root так, чтобы передавать степень корня было необязательно. \n",
    "#Если степень корня не передана, функция должна возвращать значение квадратного корня.\n",
    "#Указывать аргументам значения по умолчанию можно только после того, как в функции перечислены все обязательные аргументы.\n",
    "def root(value, n=2):\n",
    "    # Как мы уже выяснили, чтобы посчитать\n",
    "    # корень степени n из числа, можно возвести это число\n",
    "    # в степень 1/n\n",
    "    result = value ** (1/n)\n",
    "    return result\n",
    "# Посчитаем корень n-ей степени из 81\n",
    "print(root(81))"
   ]
  },
  {
   "cell_type": "code",
   "execution_count": 19,
   "metadata": {},
   "outputs": [
    {
     "name": "stdout",
     "output_type": "stream",
     "text": [
      "{'Smirnov': 3}\n",
      "{'Kuznetsova': 5}\n"
     ]
    }
   ],
   "source": [
    "def add_mark(name, mark, journal=None):\n",
    "    # Если журнал является None\n",
    "    # (напоминание: сравнивать объект с None\n",
    "    # корректнее через оператор is),\n",
    "    # запишем в journal пустой словарь\n",
    "    if journal is None:\n",
    "        journal = {}\n",
    "    journal[name] = mark\n",
    "    return journal\n",
    "group2 = add_mark('Smirnov', 3)\n",
    "print(group2)\n",
    "# Будет напечатано:\n",
    "# {'Smirnov': 3}\n",
    "group3 = add_mark('Kuznetsova', 5)\n",
    "print(group3)\n",
    "# Будет напечатано:\n",
    "# {'Kuznetsova': 5}\n"
   ]
  },
  {
   "cell_type": "code",
   "execution_count": 20,
   "metadata": {},
   "outputs": [
    {
     "name": "stdout",
     "output_type": "stream",
     "text": [
      "Invalid Mark!\n"
     ]
    }
   ],
   "source": [
    "#Дополните её код таким образом, чтобы возникала ошибка ValueError с текстом \"Invalid Mark!\" при попытке поставить оценку не из списка: 2, 3, 4 или 5.\n",
    "def add_mark(name, mark, journal=None):\n",
    "   # Добавьте здесь проверку аргумента mark\n",
    "    lst1=[2, 3, 4, 5]\n",
    "    if mark not in lst1:\n",
    "        raise ValueError(\"Invalid Mark!\")\n",
    "    if journal is None:\n",
    "        journal = {}\n",
    "    journal[name] = mark\n",
    "    return journal\n",
    "#попытка вызвать функцию с некорректными аргументами\n",
    "try:\n",
    "    print(add_mark('Ivanov', 6))\n",
    "#должна завершиться с ошибкой ValueError, которую мы выведем в блоке except\n",
    "except ValueError as e:\n",
    "    print(e)"
   ]
  },
  {
   "cell_type": "code",
   "execution_count": 21,
   "metadata": {},
   "outputs": [
    {
     "name": "stdout",
     "output_type": "stream",
     "text": [
      "Shopping list: bread, butter, eggs\n"
     ]
    }
   ],
   "source": [
    "#Сделайте так, чтобы покупки из предыдущего примера со списком выводились через запятую.\n",
    "print(\"Shopping list:\", end=' ')\n",
    "print(\"bread\", \"butter\", \"eggs\", sep=', ')"
   ]
  },
  {
   "cell_type": "markdown",
   "metadata": {},
   "source": [
    "##### ОБРАБОТКА НЕИЗВЕСТНОГО ЗАРАНЕЕ ЧИСЛА АРГУМЕНТОВ В PYTHON"
   ]
  },
  {
   "cell_type": "code",
   "execution_count": 22,
   "metadata": {},
   "outputs": [
    {
     "name": "stdout",
     "output_type": "stream",
     "text": [
      "4.0\n"
     ]
    }
   ],
   "source": [
    "# В массив args будут записаны все переданные\n",
    "# порядковые аргументы\n",
    "def mean(*args):\n",
    "    # Среднее значение — это сумма всех значений,\n",
    "    # делённая на число этих значений\n",
    "    # Функция sum — встроенная, она возвращает\n",
    "    # сумму чисел\n",
    "    result = sum(args) / len(args)\n",
    "    return result\n",
    " \n",
    "# Передадим аргументы в функцию через запятую,\n",
    "# чтобы посчитать их среднее\n",
    "print(mean(5,4,4,3))\n",
    "# Будет напечатано\n",
    "# 4.0"
   ]
  },
  {
   "cell_type": "code",
   "execution_count": 23,
   "metadata": {},
   "outputs": [
    {
     "name": "stdout",
     "output_type": "stream",
     "text": [
      "Ivanov: 4.75\n",
      "Petrov: 4.25\n"
     ]
    }
   ],
   "source": [
    "# В качестве первого аргумента принимаем фамилию\n",
    "# студента, а затем уже его оценки через запятую\n",
    "def mean_mark(name, *marks):\n",
    "    result = sum(marks) / len(marks)\n",
    "    # Не возвращаем результат, а печатаем его\n",
    "    print(name+':', result)\n",
    " \n",
    "mean_mark(\"Ivanov\", 5, 5, 5, 4)\n",
    "mean_mark(\"Petrov\", 5, 3, 5, 4)\n",
    "# Будет напечатано:\n",
    "# Ivanov: 4.75\n",
    "# Petrov: 4.25"
   ]
  },
  {
   "cell_type": "code",
   "execution_count": 24,
   "metadata": {},
   "outputs": [
    {
     "name": "stdout",
     "output_type": "stream",
     "text": [
      "150\n"
     ]
    }
   ],
   "source": [
    "#Напишите функцию mult, которая считает произведение переданных в неё чисел через запятую.\n",
    "#Особое указание: посчитайте результат с использованием цикла for.\n",
    "def mult(*numbers):\n",
    "    i=1\n",
    "    result=1\n",
    "    len1 = len(numbers)\n",
    "    #print(len1)\n",
    "    for i in range(len1):\n",
    "        result*=numbers[i]\n",
    "    return result\n",
    "print(mult(3,5,10))\n",
    "# Должно быть напечатано:\n",
    "# 150"
   ]
  },
  {
   "cell_type": "code",
   "execution_count": 25,
   "metadata": {},
   "outputs": [
    {
     "name": "stdout",
     "output_type": "stream",
     "text": [
      "Python, SQL, Machine Learning, Statistics\n"
     ]
    }
   ],
   "source": [
    "#Напечатайте список langs с использованием *, как в примере выше, но через запятую с пробелом.\n",
    "langs = ['Python', 'SQL', 'Machine Learning', 'Statistics']\n",
    "print(*langs, sep=', ')\n"
   ]
  },
  {
   "cell_type": "code",
   "execution_count": 26,
   "metadata": {},
   "outputs": [
    {
     "name": "stdout",
     "output_type": "stream",
     "text": [
      "Kuznetsov: 4.454545454545454\n"
     ]
    }
   ],
   "source": [
    "#Передайте в функцию mean_mark, которая была создана в начале данного подраздела юнита, этот список, а также фамилию студента Kuznetsov с помощью оператора распаковки.\n",
    "marks = [4,5,5,5,5,3,4,4,5,4,5]\n",
    "def mean_mark(name, *marks):\n",
    "    result = sum(marks) / len(marks)\n",
    "    # Не возвращаем результат, а печатаем его\n",
    "    print(name+':', result)\n",
    "    #return result\n",
    "mean_mark(\"Kuznetsov\", *marks)\n",
    "# Должно быть напечатано:\n",
    "# Kuznetsov: 4.454545454545454 "
   ]
  },
  {
   "cell_type": "code",
   "execution_count": 27,
   "metadata": {},
   "outputs": [
    {
     "name": "stdout",
     "output_type": "stream",
     "text": [
      "1, 4, 6, 8; 12, 45, 56, 190, 111; Python, Functions; "
     ]
    }
   ],
   "source": [
    "#Напечатаем три списка с помощью print: значения внутри списка разделим запятой, а сами списки — точкой с запятой. \n",
    "#Для этого один раз создадим словарь how, в котором будут храниться значения, присваиваемые в дальнейшем аргументам sep и end.\n",
    "list1 = [1,4,6,8]\n",
    "list2 = [12, 45, 56, 190, 111]\n",
    "list3 = ['Python', 'Functions']\n",
    "# Один раз запишем в словарь параметры для печати\n",
    "# через print: разделитель — запятая,\n",
    "# окончание строки — точка с запятой\n",
    "how = {'sep': ', ', 'end': '; '}\n",
    "# Распаковываем и список, и словарь how\n",
    "print(*list1, **how)\n",
    "print(*list2, **how)\n",
    "print(*list3, **how)"
   ]
  },
  {
   "cell_type": "code",
   "execution_count": 28,
   "metadata": {},
   "outputs": [
    {
     "name": "stdout",
     "output_type": "stream",
     "text": [
      "2.0\n"
     ]
    }
   ],
   "source": [
    "# Для получения корня произвольной степени от числа\n",
    "# (например, корня степени 4) необходимо возвести исходное\n",
    "# число в степень, равную единице, делённой на желаемую\n",
    "# степень корня.\n",
    "nth_root = lambda num, n: num**(1/n)\n",
    "print(nth_root(16,4))\n"
   ]
  },
  {
   "cell_type": "code",
   "execution_count": 29,
   "metadata": {},
   "outputs": [
    {
     "name": "stdout",
     "output_type": "stream",
     "text": [
      "['Kim', 'Ivan', 'Simon', 'German', 'Margarita']\n"
     ]
    }
   ],
   "source": [
    "#Отсортируем список с помощью функции sort() и напечатаем его содержимое:\n",
    "names = ['Ivan', 'Kim', 'German', 'Margarita', 'Simon']\n",
    "names.sort(key=lambda name: len(name))\n",
    "print(names)\n"
   ]
  },
  {
   "cell_type": "code",
   "execution_count": 30,
   "metadata": {},
   "outputs": [
    {
     "name": "stdout",
     "output_type": "stream",
     "text": [
      "['cc', 'bbb', 'aaa', 'ababa', 'aaaaa']\n"
     ]
    }
   ],
   "source": [
    "#В качестве упражнения попробуйте переписать использованную lambda-функцию в классический вид (с def). Назовите её get_length.\n",
    "#Затем воспользуйтесь полученной функцией для сортировки списка:    \n",
    "new_list = ['bbb', 'ababa','aaa', 'aaaaa',  'cc']\n",
    "def get_length(line):\n",
    "    #print(len(line))\n",
    "    return len(line)\n",
    "new_list.sort(key=get_length)\n",
    "print(new_list)\n",
    "# Должно быть напечатано:\n",
    "# ['cc', 'bbb', 'aaa', 'ababa', 'aaaaa']"
   ]
  },
  {
   "cell_type": "code",
   "execution_count": 31,
   "metadata": {},
   "outputs": [
    {
     "name": "stdout",
     "output_type": "stream",
     "text": [
      "['cc', 'aaa', 'bbb', 'aaaaa', 'ababa']\n"
     ]
    }
   ],
   "source": [
    "#Теперь отсортируем этот список с помощью lambda-функции, которая возвращает кортеж, где в качестве первого значения указана длина слова, а в качестве второго — само слово:\n",
    "new_list = ['bbb', 'ababa','aaa', 'aaaaa',  'cc']\n",
    "new_list.sort(key=lambda word: (len(word), word))\n",
    "print(new_list)\n"
   ]
  },
  {
   "cell_type": "code",
   "execution_count": 32,
   "metadata": {},
   "outputs": [
    {
     "name": "stdout",
     "output_type": "stream",
     "text": [
      "5.0\n",
      "9.055385138137417\n"
     ]
    }
   ],
   "source": [
    "#Напишите lambda-функцию для расчёта гипотенузы прямоугольного треугольника: она принимает на вход длины двух катетов и возвращает длину гипотенузы (третьей, самой длинной стороны прямоугольного треугольника).\n",
    "hyp = lambda a, b: (a**2 + b**2)**(1/2)\n",
    "print(hyp(3,4))\n",
    "print(hyp(1,9))\n"
   ]
  },
  {
   "cell_type": "code",
   "execution_count": 33,
   "metadata": {},
   "outputs": [
    {
     "name": "stdout",
     "output_type": "stream",
     "text": [
      "1\n",
      "None\n"
     ]
    }
   ],
   "source": [
    "#Напишите функцию get_less, которая принимает на вход через запятую список, состоящий из чисел, и ещё одно число. \n",
    "#Функция должна вернуть первое найденное число из списка, которое меньше переданного во втором аргументе. \n",
    "#Если такого числа нет, необходимо вернуть None.\n",
    "\n",
    "def get_less(list_in, num):\n",
    "    # Вместо pass напишите тело функции\n",
    "    #pass\n",
    "    result1=None\n",
    "    i=0\n",
    "    for i in range(len(list_in)):\n",
    "        #print (len(list_in))\n",
    "        #print (list_in[i])\n",
    "        #print (num)\n",
    "        if list_in[i] < num:\n",
    "            result1= list_in[i]\n",
    "            #return list_in[i]\n",
    "            break\n",
    "        else:\n",
    "            result1=None\n",
    "            #return None\n",
    "    return result1 \n",
    "l = [1, 5, 8, 10]\n",
    "print(get_less(l, 8))\n",
    "# 1\n",
    "print(get_less(l, 0))\n",
    "# None\n"
   ]
  },
  {
   "cell_type": "code",
   "execution_count": 34,
   "metadata": {},
   "outputs": [
    {
     "name": "stdout",
     "output_type": "stream",
     "text": [
      "(31, 1, 2019)\n"
     ]
    }
   ],
   "source": [
    "#Напишите функцию split_date(date), которая принимает на вход строку, задающую дату, в формате ддммгггг без разделителей. \n",
    "#Функция должна вернуть кортеж из чисел (int): день, месяц, год.\n",
    "def split_date(date):\n",
    "    # Вместо pass напишите тело функции\n",
    "    #pass\n",
    "    day = int(date[0:2])\n",
    "    month = int(date[2:4])\n",
    "    year = int(date[4:8])\n",
    "   #return int_tuple = (day, month, year)\n",
    "    return (day, month, year)\n",
    "print(split_date(\"31012019\"))\n",
    "# (31, 1, 2019)"
   ]
  },
  {
   "cell_type": "code",
   "execution_count": 35,
   "metadata": {},
   "outputs": [
    {
     "name": "stdout",
     "output_type": "stream",
     "text": [
      "False\n",
      "False\n",
      "True\n"
     ]
    }
   ],
   "source": [
    "#Напишите функцию is_prime(num), которая проверяет, является ли число простым.\n",
    "#Функция должна вернуть True, если число простое, иначе — False.\n",
    "\n",
    "def is_prime(num):\n",
    "    result=False\n",
    "    if num > 1:\n",
    "        for i in range(2, int(num/2)+1):\n",
    "            if (num % i) == 0:\n",
    "                return False\n",
    "                break\n",
    "            else:\n",
    "                return True\n",
    "    else:\n",
    "        return False\n",
    "print(is_prime(1))\n",
    "print(is_prime(10))\n",
    "print(is_prime(13))\n",
    "# False\n",
    "# False\n",
    "# True"
   ]
  },
  {
   "cell_type": "code",
   "execution_count": 36,
   "metadata": {},
   "outputs": [
    {
     "name": "stdout",
     "output_type": "stream",
     "text": [
      "10.0\n",
      "3.0\n"
     ]
    }
   ],
   "source": [
    "#Напишите функцию between_min_max(...), которая принимает на вход числа через запятую.\n",
    "#Функция возвращает среднее арифметическое между максимальным и минимальным значением этих чисел, то есть (max + min)/2.\n",
    "def between_min_max(*nums):\n",
    "    # Вместо pass напишите тело функции\n",
    "    mn = min(nums)\n",
    "    mx = max(nums)\n",
    "    return (mn + mx) / 2\n",
    "print(between_min_max(10))\n",
    "print(between_min_max(1,2,3,4,5))\n",
    "# 10.0\n",
    "# 3.0"
   ]
  },
  {
   "cell_type": "code",
   "execution_count": 37,
   "metadata": {},
   "outputs": [
    {
     "name": "stdout",
     "output_type": "stream",
     "text": [
      "no\n",
      "yes\n"
     ]
    }
   ],
   "source": [
    "#Напишите lambda-функцию is_palindrom, которая принимает на вход одну строку и проверяет, является ли она палиндромом, то есть читается ли она слева-направо и справа-налево одинаково.\n",
    "#Функция возвращает 'yes', если строка является палиндромом, иначе — 'no'.\n",
    "is_palindrom = lambda str1: 'yes' if str1==str1[::-1] else 'no'\n",
    "print(is_palindrom('1234'))\n",
    "print(is_palindrom('12321'))\n",
    "# no\n",
    "# yes"
   ]
  },
  {
   "cell_type": "code",
   "execution_count": 38,
   "metadata": {},
   "outputs": [
    {
     "name": "stdout",
     "output_type": "stream",
     "text": [
      "60\n"
     ]
    }
   ],
   "source": [
    "#Напишите lambda-функцию area, которая принимает на вход два числа — стороны прямоугольника — \n",
    "#через запятую и возвращает площадь прямоугольника.\n",
    "area = lambda a, b: a*b\n",
    "print(area(12,5))\n",
    "# 60"
   ]
  },
  {
   "cell_type": "code",
   "execution_count": 39,
   "metadata": {},
   "outputs": [
    {
     "name": "stdout",
     "output_type": "stream",
     "text": [
      "['abc', 'Acc']\n"
     ]
    }
   ],
   "source": [
    "#Напишите функцию sort_ignore_case, которая принимает на вход список и сортирует его без учёта регистра по алфавиту.\n",
    "#Функция возвращает отсортированный список.\n",
    "def sort_ignore_case(ls):\n",
    "    # Вместо pass напишите тело функции\n",
    "    #new_list = ['bbb', 'ababa','aaa', 'aaaaa',  'cc']\n",
    "    ls.sort(key=lambda name: name.lower())\n",
    "    return ls\n",
    "print(sort_ignore_case(['Acc', 'abc']))\n",
    "# ['abc', 'Acc']"
   ]
  },
  {
   "cell_type": "code",
   "execution_count": 40,
   "metadata": {},
   "outputs": [
    {
     "name": "stdout",
     "output_type": "stream",
     "text": [
      "85.0\n",
      "8500\n",
      "11.764705882352942\n"
     ]
    },
    {
     "ename": "ValueError",
     "evalue": "Too many arguments",
     "output_type": "error",
     "traceback": [
      "\u001b[1;31m---------------------------------------------------------------------------\u001b[0m",
      "\u001b[1;31mValueError\u001b[0m                                Traceback (most recent call last)",
      "\u001b[1;32mc:\\Users\\anton\\source\\IDE\\Functions\\Functions.ipynb Ячейка 31\u001b[0m in \u001b[0;36m<cell line: 20>\u001b[1;34m()\u001b[0m\n\u001b[0;32m     <a href='vscode-notebook-cell:/c%3A/Users/anton/source/IDE/Functions/Functions.ipynb#ch0000055?line=15'>16</a>\u001b[0m \u001b[39mprint\u001b[39m(exchange(rub\u001b[39m=\u001b[39m\u001b[39m1000\u001b[39m, rate\u001b[39m=\u001b[39m\u001b[39m85\u001b[39m))\n\u001b[0;32m     <a href='vscode-notebook-cell:/c%3A/Users/anton/source/IDE/Functions/Functions.ipynb#ch0000055?line=16'>17</a>\u001b[0m \u001b[39m# 85.0\u001b[39;00m\n\u001b[0;32m     <a href='vscode-notebook-cell:/c%3A/Users/anton/source/IDE/Functions/Functions.ipynb#ch0000055?line=17'>18</a>\u001b[0m \u001b[39m# 8500\u001b[39;00m\n\u001b[0;32m     <a href='vscode-notebook-cell:/c%3A/Users/anton/source/IDE/Functions/Functions.ipynb#ch0000055?line=18'>19</a>\u001b[0m \u001b[39m# 11.764705882352942\u001b[39;00m\n\u001b[1;32m---> <a href='vscode-notebook-cell:/c%3A/Users/anton/source/IDE/Functions/Functions.ipynb#ch0000055?line=19'>20</a>\u001b[0m \u001b[39mprint\u001b[39m(exchange(rub\u001b[39m=\u001b[39;49m\u001b[39m1000\u001b[39;49m, rate\u001b[39m=\u001b[39;49m\u001b[39m85\u001b[39;49m, usd\u001b[39m=\u001b[39;49m\u001b[39m90\u001b[39;49m))\n\u001b[0;32m     <a href='vscode-notebook-cell:/c%3A/Users/anton/source/IDE/Functions/Functions.ipynb#ch0000055?line=20'>21</a>\u001b[0m \u001b[39m# ValueError: Too many arguments\u001b[39;00m\n\u001b[0;32m     <a href='vscode-notebook-cell:/c%3A/Users/anton/source/IDE/Functions/Functions.ipynb#ch0000055?line=21'>22</a>\u001b[0m \u001b[39mprint\u001b[39m(exchange(rub\u001b[39m=\u001b[39m\u001b[39m1000\u001b[39m))\n",
      "\u001b[1;32mc:\\Users\\anton\\source\\IDE\\Functions\\Functions.ipynb Ячейка 31\u001b[0m in \u001b[0;36mexchange\u001b[1;34m(usd, rub, rate)\u001b[0m\n\u001b[0;32m      <a href='vscode-notebook-cell:/c%3A/Users/anton/source/IDE/Functions/Functions.ipynb#ch0000055?line=0'>1</a>\u001b[0m \u001b[39mdef\u001b[39;00m \u001b[39mexchange\u001b[39m(usd\u001b[39m=\u001b[39m\u001b[39mNone\u001b[39;00m, rub\u001b[39m=\u001b[39m\u001b[39mNone\u001b[39;00m, rate\u001b[39m=\u001b[39m\u001b[39mNone\u001b[39;00m):\n\u001b[0;32m      <a href='vscode-notebook-cell:/c%3A/Users/anton/source/IDE/Functions/Functions.ipynb#ch0000055?line=1'>2</a>\u001b[0m \t\u001b[39mif\u001b[39;00m usd \u001b[39mis\u001b[39;00m \u001b[39mnot\u001b[39;00m \u001b[39mNone\u001b[39;00m \u001b[39mand\u001b[39;00m rub \u001b[39mis\u001b[39;00m \u001b[39mnot\u001b[39;00m \u001b[39mNone\u001b[39;00m \u001b[39mand\u001b[39;00m rate \u001b[39mis\u001b[39;00m \u001b[39mnot\u001b[39;00m \u001b[39mNone\u001b[39;00m:\n\u001b[1;32m----> <a href='vscode-notebook-cell:/c%3A/Users/anton/source/IDE/Functions/Functions.ipynb#ch0000055?line=2'>3</a>\u001b[0m \t\t\u001b[39mraise\u001b[39;00m \u001b[39mValueError\u001b[39;00m(\u001b[39m'\u001b[39m\u001b[39mToo many arguments\u001b[39m\u001b[39m'\u001b[39m)\n\u001b[0;32m      <a href='vscode-notebook-cell:/c%3A/Users/anton/source/IDE/Functions/Functions.ipynb#ch0000055?line=3'>4</a>\u001b[0m \tnot_enough_error \u001b[39m=\u001b[39m \u001b[39mValueError\u001b[39;00m(\u001b[39m'\u001b[39m\u001b[39mNot enough arguments\u001b[39m\u001b[39m'\u001b[39m)\n\u001b[0;32m      <a href='vscode-notebook-cell:/c%3A/Users/anton/source/IDE/Functions/Functions.ipynb#ch0000055?line=4'>5</a>\u001b[0m \t\u001b[39mif\u001b[39;00m usd \u001b[39mis\u001b[39;00m \u001b[39mnot\u001b[39;00m \u001b[39mNone\u001b[39;00m:\n",
      "\u001b[1;31mValueError\u001b[0m: Too many arguments"
     ]
    }
   ],
   "source": [
    "def exchange(usd=None, rub=None, rate=None):\n",
    "\tif usd is not None and rub is not None and rate is not None:\n",
    "\t\traise ValueError('Too many arguments')\n",
    "\tnot_enough_error = ValueError('Not enough arguments')\n",
    "\tif usd is not None:\n",
    "\t\tif rub is not None:\n",
    "\t\t\treturn rub / usd\n",
    "\t\tif rate is not None:\n",
    "\t\t\treturn usd * rate\n",
    "\tif rub is not None:\n",
    "\t\tif rate is not None:\n",
    "\t\t\treturn rub / rate\n",
    "\traise not_enough_error\n",
    "print(exchange(usd=100, rub=8500))\n",
    "print(exchange(usd=100, rate=85))\n",
    "print(exchange(rub=1000, rate=85))\n",
    "# 85.0\n",
    "# 8500\n",
    "# 11.764705882352942\n",
    "print(exchange(rub=1000, rate=85, usd=90))\n",
    "# ValueError: Too many arguments\n",
    "print(exchange(rub=1000))\n",
    "# ValueError: Not enough arguments"
   ]
  },
  {
   "cell_type": "code",
   "execution_count": 41,
   "metadata": {},
   "outputs": [
    {
     "name": "stdout",
     "output_type": "stream",
     "text": [
      "Root of power 2 from 36 equals 6.0\n"
     ]
    }
   ],
   "source": [
    "#Создадим функцию print_root(), которая будет печатать корень степени n (по умолчанию n = 2, то есть вычисляется квадратный корень) из числа value. Внутри себя она будет содержать другую функцию root(), которая будет вычислять корень степени n из числа value. \n",
    "#Напомним, корень степени n из числа — это число в степени 1/n.\n",
    "def print_root(value, n=2):\n",
    "    # Зададим внутреннюю функцию\n",
    "    # Она будет являться вспомогательной\n",
    "    def root(value, n=2):\n",
    "        result = value ** (1/n)\n",
    "        return result\n",
    "    # Получим результат из внутренней функции\n",
    "    res = root(value, n)\n",
    "    # Печатаем результат и не возвращаем его\n",
    "    print('Root of power', n, 'from', value, 'equals', res)\n",
    "print_root(36)"
   ]
  },
  {
   "cell_type": "code",
   "execution_count": 42,
   "metadata": {},
   "outputs": [
    {
     "name": "stdout",
     "output_type": "stream",
     "text": [
      "25\n",
      "125\n",
      "144\n"
     ]
    }
   ],
   "source": [
    "#Напишите функцию-копилку с названием saver(), которая не принимает никаких аргументов. \n",
    "#Она должна возвращать внутреннюю функцию adder(), \n",
    "#которая принимает на вход одно число и возвращает сумму в копилке после прибавления числа.\n",
    "\n",
    "def saver():\n",
    "    # Вместо pass напишите тело функции\n",
    "    #pass\n",
    "    S=0\n",
    "    def adder(n):\n",
    "        nonlocal S\n",
    "        S+=n\n",
    "        return S\n",
    "    return adder\n",
    "pig = saver()\n",
    "print(pig(25))\n",
    "print(pig(100))\n",
    "print(pig(19))"
   ]
  },
  {
   "cell_type": "code",
   "execution_count": 43,
   "metadata": {},
   "outputs": [
    {
     "name": "stdout",
     "output_type": "stream",
     "text": [
      "60480\n"
     ]
    }
   ],
   "source": [
    "# Напишите рекурсивную функцию multiply_lst, которая перемножает элементы заданного списка между собой. \n",
    "def multiply_lst(lst):\n",
    "    # ваш код здесь\n",
    "    if len(lst) == 0:return 1\n",
    "    # Во всех других случаях возвращаем\n",
    "    # сумму первого элемента списка \n",
    "    # и результат суммирования оставшихся\n",
    "    return lst[0] * multiply_lst(lst[1:])\n",
    "my_lst = [10, 21, 24, 12]\n",
    "print(multiply_lst(my_lst))"
   ]
  },
  {
   "cell_type": "code",
   "execution_count": 44,
   "metadata": {},
   "outputs": [
    {
     "name": "stdout",
     "output_type": "stream",
     "text": [
      "1\n",
      "6\n",
      "120\n"
     ]
    }
   ],
   "source": [
    "#Итак, создадим рекурсивную функция factorial для вычисления факториала. Её аргументом будет целое число n. Функция будет рекурсивной, а условий остановки в ней будет сразу два: если n == 0 или n == 1 (в таком случае функция возвращает 1, об этом мы говорили ранее). \n",
    "#Если условия остановки не выполняются, то функция возвращает результат умножения числа n на результат своей же работы для числа n-1: n * (n-1)!.\n",
    "def factorial(n):\n",
    "    # Задаём условия выхода из рекурсии:\n",
    "    if n==0: return 1\n",
    "    if n==1: return 1\n",
    "    # Во всех других случаях возвращаем\n",
    "    # произведение текущего числа n и функции от n-1\n",
    "    return factorial(n-1)*n\n",
    "print(factorial(0))\n",
    "print(factorial(3))\n",
    "print(factorial(5))"
   ]
  },
  {
   "cell_type": "code",
   "execution_count": 45,
   "metadata": {},
   "outputs": [
    {
     "name": "stdout",
     "output_type": "stream",
     "text": [
      "0\n",
      "1\n",
      "8\n"
     ]
    }
   ],
   "source": [
    "\n",
    "#Напишите рекурсивную функцию fib(n), которая считает -ое число Фибоначчи. Будем считать, что fib(0) = 0 и fib(1) = 1.\n",
    "#Как вы могли заметить, каждый n-ый элемент — это сумма n-1 и n-2 элементов.\n",
    "def fib(n):\n",
    "    # Вместо pass напишите тело функции\n",
    "    if n==0: return 0\n",
    "    if n==1: return 1\n",
    "    return fib(n-1)+fib(n-2)\n",
    "print(fib(0))\n",
    "print(fib(2))\n",
    "print(fib(6))\n",
    "# 0\n",
    "# 1\n",
    "# 8\n"
   ]
  },
  {
   "cell_type": "code",
   "execution_count": 46,
   "metadata": {},
   "outputs": [
    {
     "name": "stdout",
     "output_type": "stream",
     "text": [
      "1\n",
      "625\n"
     ]
    }
   ],
   "source": [
    "#Напишите рекурсивную функцию power(val, n), которая возводит число в заданную целую натуральную степень (или в степень 0)\n",
    "#В качестве первого аргумента функция принимает число, в качестве второго — желаемую степень.\n",
    "def power(val, n):\n",
    "    # Вместо pass напишите тело функции\n",
    "    if n==0: return 1\n",
    "    if n==1: return val\n",
    "    return val * power(val, n - 1)\n",
    "print(power(25,0))\n",
    "print(power(-5,4))\n",
    "# 1\n",
    "# 625\n"
   ]
  },
  {
   "cell_type": "code",
   "execution_count": 47,
   "metadata": {},
   "outputs": [
    {
     "name": "stdout",
     "output_type": "stream",
     "text": [
      "True\n",
      "False\n",
      "True\n"
     ]
    }
   ],
   "source": [
    "#Напишите функцию is_leap(year), которая принимает на вход год и возвращает True, если год високосный, иначе — False.\n",
    "def is_leap(year):\n",
    "    # Вместо pass напишите тело функции\n",
    "    if (year % 4 == 0) and (year % 100 != 0) or (year % 400 == 0):\n",
    "        return True\n",
    "    else: return False\n",
    "print(is_leap(2000))\n",
    "print(is_leap(1900))\n",
    "print(is_leap(2020))\n",
    "# True\n",
    "# False\n",
    "# True"
   ]
  },
  {
   "cell_type": "code",
   "execution_count": 48,
   "metadata": {},
   "outputs": [
    {
     "name": "stdout",
     "output_type": "stream",
     "text": [
      "True\n",
      "True\n",
      "False\n",
      "False\n",
      "False\n"
     ]
    }
   ],
   "source": [
    "#Напишите функцию check_date(day, month, year), которая проверяет корректность даты рождения\n",
    "#def check_date(day, month, year):\n",
    "#Все аргументы должны быть целыми числами (проверить с помощью type(day) is int).\n",
    "#Годом рождения не может быть год до 1900 и год после 2022.\n",
    "#Номер месяца не может быть больше 12 и меньше 1.\n",
    "#Номер дня не может быть больше 31 и меньше 1.\n",
    "#В сентябре, апреле, июне и ноябре 30 дней.\n",
    "#Если год является високосным, то в феврале (второймесяц) должно быть 29 дней, в противном случае — 28.  \n",
    "def check_date(day, month, year):\n",
    "    def is_leap(year):\n",
    "        if year % 400 == 0: return True\n",
    "        if year % 100 == 0: return False\n",
    "        if year % 4 == 0: return True\n",
    "        return False\n",
    "    #Проверяем день, месяц и год на целочисленность\n",
    "    if (type(day) is not int) or (type(month) is not int) or (type(year) is not int):\n",
    "        return False\n",
    "    #Проверяем год на заданный диапазон\n",
    "    if (year <= 1900) or (year >= 2022):\n",
    "        return False\n",
    "    #Проверяем месяц на заданный диапазон     \n",
    "    if (month > 12) or (month < 1):\n",
    "        return False\n",
    "    #Проверяем день на заданный диапазон  \n",
    "    if (day < 1) or (day > 31): \n",
    "        return False\n",
    "    #Проверяем апрель, июнь, сентябрь и ноябрь на количество дней\n",
    "    if (month in [4,6,9,11]) and (day > 30):\n",
    "        return False\n",
    "    #Проверяем количество дней в феврале в зависимости от того, високосный ли год\n",
    "    if month == 2:\n",
    "        if is_leap(year):\n",
    "            if day > 29: return False\n",
    "        else:\n",
    "            if day > 28: return False\n",
    "    return True\n",
    "\n",
    "print(check_date(18,9,1999))\n",
    "print(check_date(29,2,2000))\n",
    "print(check_date(29,2,2021))\n",
    "print(check_date(13,13,2021))\n",
    "print(check_date(13.5,12,2021))\n",
    "# True\n",
    "# True\n",
    "# False\n",
    "# False\n",
    "# False"
   ]
  },
  {
   "cell_type": "code",
   "execution_count": 49,
   "metadata": {},
   "outputs": [
    {
     "name": "stdout",
     "output_type": "stream",
     "text": [
      "[('Petrova', 'Maria', 'Ivanovna', 13, 3, 2003), ('Ivanov', 'Sergej', None, 24, 9, 1995), ('Smith', 'John', None, 13, 2, 2003)]\n"
     ]
    },
    {
     "ename": "ValueError",
     "evalue": "Invalid Date!",
     "output_type": "error",
     "traceback": [
      "\u001b[1;31m---------------------------------------------------------------------------\u001b[0m",
      "\u001b[1;31mValueError\u001b[0m                                Traceback (most recent call last)",
      "\u001b[1;32mc:\\Users\\anton\\source\\IDE\\Functions\\Functions.ipynb Ячейка 40\u001b[0m in \u001b[0;36m<cell line: 54>\u001b[1;34m()\u001b[0m\n\u001b[0;32m     <a href='vscode-notebook-cell:/c%3A/Users/anton/source/IDE/Functions/Functions.ipynb#ch0000046?line=51'>52</a>\u001b[0m \u001b[39mprint\u001b[39m(reg)\n\u001b[0;32m     <a href='vscode-notebook-cell:/c%3A/Users/anton/source/IDE/Functions/Functions.ipynb#ch0000046?line=52'>53</a>\u001b[0m \u001b[39m# [('Petrova', 'Maria', 'Ivanovna', 13, 3, 2003), ('Ivanov', 'Sergej', None, 24, 9, 1995), ('Smith', 'John', None, 13, 2, 2003)]\u001b[39;00m\n\u001b[1;32m---> <a href='vscode-notebook-cell:/c%3A/Users/anton/source/IDE/Functions/Functions.ipynb#ch0000046?line=53'>54</a>\u001b[0m reg \u001b[39m=\u001b[39m register(\u001b[39m'\u001b[39;49m\u001b[39mIvanov\u001b[39;49m\u001b[39m'\u001b[39;49m, \u001b[39m'\u001b[39;49m\u001b[39mSergej\u001b[39;49m\u001b[39m'\u001b[39;49m, (\u001b[39m24\u001b[39;49m, \u001b[39m13\u001b[39;49m, \u001b[39m1995\u001b[39;49m))\n",
      "\u001b[1;32mc:\\Users\\anton\\source\\IDE\\Functions\\Functions.ipynb Ячейка 40\u001b[0m in \u001b[0;36mregister\u001b[1;34m(surname, name, date, middle_name, registry)\u001b[0m\n\u001b[0;32m     <a href='vscode-notebook-cell:/c%3A/Users/anton/source/IDE/Functions/Functions.ipynb#ch0000046?line=43'>44</a>\u001b[0m     registry \u001b[39m=\u001b[39m \u001b[39mlist\u001b[39m()\n\u001b[0;32m     <a href='vscode-notebook-cell:/c%3A/Users/anton/source/IDE/Functions/Functions.ipynb#ch0000046?line=44'>45</a>\u001b[0m \u001b[39mif\u001b[39;00m \u001b[39mnot\u001b[39;00m check_date(\u001b[39m*\u001b[39mdate):\n\u001b[1;32m---> <a href='vscode-notebook-cell:/c%3A/Users/anton/source/IDE/Functions/Functions.ipynb#ch0000046?line=45'>46</a>\u001b[0m     \u001b[39mraise\u001b[39;00m \u001b[39mValueError\u001b[39;00m(\u001b[39m\"\u001b[39m\u001b[39mInvalid Date!\u001b[39m\u001b[39m\"\u001b[39m)\n\u001b[0;32m     <a href='vscode-notebook-cell:/c%3A/Users/anton/source/IDE/Functions/Functions.ipynb#ch0000046?line=46'>47</a>\u001b[0m registry\u001b[39m.\u001b[39mappend((surname, name, middle_name, date[\u001b[39m0\u001b[39m], date[\u001b[39m1\u001b[39m], date[\u001b[39m2\u001b[39m]))\n\u001b[0;32m     <a href='vscode-notebook-cell:/c%3A/Users/anton/source/IDE/Functions/Functions.ipynb#ch0000046?line=47'>48</a>\u001b[0m \u001b[39mreturn\u001b[39;00m registry\n",
      "\u001b[1;31mValueError\u001b[0m: Invalid Date!"
     ]
    }
   ],
   "source": [
    "#Представьте, что вы пишете приложение, предусматривающее регистрацию пользователей. Давайте реализуем небольшой функционал регистрации. Не забудем также про «проверку на дурака».\n",
    "#Напишите функцию register(surname, name, date, middle_name, registry).\n",
    "#Функция имеет следующие аргументы:\n",
    "#surname — фамилия;\n",
    "#name — имя;\n",
    "#date — дата рождения (в виде кортежа из трёх чисел — день, месяц, год);\n",
    "#middle_name — отчество ;\n",
    "#registry — список, в который необходимо добавить полученные аргументы в виде кортежа в следующем порядке: фамилия, имя, отчество, день, месяц, год рождения.\n",
    "#Функция должна возвращать список, в который добавила запись. \n",
    "#Указание: сделайте отчество аргументом по умолчанию со значением None, так как отчество может быть не у всех регистрирующихся.\n",
    "#Также сделайте так, чтобы пустой список создавался в том случае, если он не был передан извне. Таким образом, по умолчанию registry имеет значение None, и если при вызове функции список так и не был передан, он создаётся в теле функции.\n",
    "#Наконец, проверьте дату на корректность. Если дата неправильная, верните ошибку ValueError(\"Invalid Date!\"). Для этого вам пригодится функция check_date из предыдущего задания.\n",
    "\n",
    "def check_date(day, month, year):\n",
    "    def is_leap(year):\n",
    "        if year % 400 == 0: return True\n",
    "        if year % 100 == 0: return False\n",
    "        if year % 4 == 0: return True\n",
    "        return False\n",
    "    #Проверяем день, месяц и год на целочисленность\n",
    "    if (type(day) is not int) or (type(month) is not int) or (type(year) is not int):\n",
    "        return False\n",
    "    #Проверяем год на заданный диапазон\n",
    "    if (year <= 1900) or (year >= 2022):\n",
    "        return False\n",
    "    #Проверяем месяц на заданный диапазон     \n",
    "    if (month > 12) or (month < 1):\n",
    "        return False\n",
    "    #Проверяем день на заданный диапазон  \n",
    "    if (day < 1) or (day > 31): \n",
    "        return False\n",
    "    #Проверяем апрель, июнь, сентябрь и ноябрь на количество дней\n",
    "    if (month in [4,6,9,11]) and (day > 30):\n",
    "        return False\n",
    "    #Проверяем количество дней в феврале в зависимости от того, високосный ли год\n",
    "    if month == 2:\n",
    "        if is_leap(year):\n",
    "            if day > 29: return False\n",
    "        else:\n",
    "            if day > 28: return False\n",
    "    return True\n",
    "def register(surname, name, date, middle_name=None, registry=None):\n",
    "    if registry is None:\n",
    "        registry = list()\n",
    "    if not check_date(*date):\n",
    "        raise ValueError(\"Invalid Date!\")\n",
    "    registry.append((surname, name, middle_name, date[0], date[1], date[2]))\n",
    "    return registry\n",
    "reg = register('Petrova', 'Maria', (13, 3, 2003), 'Ivanovna')\n",
    "reg = register('Ivanov', 'Sergej', (24, 9, 1995), registry=reg)\n",
    "reg = register('Smith', 'John', (13, 2, 2003), registry=reg)\n",
    "print(reg)\n",
    "# [('Petrova', 'Maria', 'Ivanovna', 13, 3, 2003), ('Ivanov', 'Sergej', None, 24, 9, 1995), ('Smith', 'John', None, 13, 2, 2003)]\n",
    "reg = register('Ivanov', 'Sergej', (24, 13, 1995))\n",
    "# ValueError: Invalid Date!\n",
    "\n",
    "\n"
   ]
  },
  {
   "cell_type": "code",
   "execution_count": 50,
   "metadata": {},
   "outputs": [
    {
     "name": "stdout",
     "output_type": "stream",
     "text": [
      "[(0, 'admin'), (1, 'guest'), (2, 'root'), (3, 'anonymous')]\n"
     ]
    },
    {
     "ename": "StopIteration",
     "evalue": "",
     "output_type": "error",
     "traceback": [
      "\u001b[1;31m---------------------------------------------------------------------------\u001b[0m",
      "\u001b[1;31mStopIteration\u001b[0m                             Traceback (most recent call last)",
      "\u001b[1;32mc:\\Users\\anton\\source\\IDE\\Functions\\Functions.ipynb Ячейка 41\u001b[0m in \u001b[0;36m<cell line: 18>\u001b[1;34m()\u001b[0m\n\u001b[0;32m     <a href='vscode-notebook-cell:/c%3A/Users/anton/source/IDE/Functions/Functions.ipynb#ch0000045?line=14'>15</a>\u001b[0m     \u001b[39mprint\u001b[39m(i, user, sep\u001b[39m=\u001b[39m\u001b[39m'\u001b[39m\u001b[39m: \u001b[39m\u001b[39m'\u001b[39m)\n\u001b[0;32m     <a href='vscode-notebook-cell:/c%3A/Users/anton/source/IDE/Functions/Functions.ipynb#ch0000045?line=15'>16</a>\u001b[0m \u001b[39m# Ничего не будет напечатано\u001b[39;00m\n\u001b[0;32m     <a href='vscode-notebook-cell:/c%3A/Users/anton/source/IDE/Functions/Functions.ipynb#ch0000045?line=16'>17</a>\u001b[0m \u001b[39m#Почему-то с помощью цикла for ничего не было напечатано. Попробуем метод next():\u001b[39;00m\n\u001b[1;32m---> <a href='vscode-notebook-cell:/c%3A/Users/anton/source/IDE/Functions/Functions.ipynb#ch0000045?line=17'>18</a>\u001b[0m \u001b[39mprint\u001b[39m(\u001b[39mnext\u001b[39;49m(enum_users))\n",
      "\u001b[1;31mStopIteration\u001b[0m: "
     ]
    }
   ],
   "source": [
    "#Можно перебирать объекты из объекта enumerate по одному, как это было сделано выше в цикле for. \n",
    "#При этом можно также собрать все элементы из итератора в список с помощью функции list():\n",
    "users = ['admin', 'guest', 'root', 'anonymous']\n",
    "# Создаём итератор enumerate из списка users\n",
    "enum_users = enumerate(users)\n",
    "# Получаем список из объекта enumerate\n",
    "enum_list = list(enum_users)\n",
    "print(enum_list)\n",
    "# Будет напечатано:\n",
    "# [(0, 'admin'), (1, 'guest'), (2, 'root'), (3, 'anonymous')]\n",
    "#Итак, мы сохранили все пары (номер, значение) в список enum_list. \n",
    "#Предположим, мы захотели продолжить пользоваться объектом enum_users, все значения из которого только что, в коде выше, были сохранены в список enum_list:\n",
    "# Создаём цикл по элементам итератора\n",
    "for i, user in enum_users:\n",
    "    print(i, user, sep=': ')\n",
    "# Ничего не будет напечатано\n",
    "#Почему-то с помощью цикла for ничего не было напечатано. Попробуем метод next():\n",
    "print(next(enum_users))\n",
    "# Возникнет ошибка:\n",
    "# StopIteration:\n",
    "#Возникла ошибка итерации. \n",
    "#Дело в том, что в итераторе закончились элементы в тот момент, как только мы получили из него список в примере выше, поэтому попытка получить из него ещё элементы вызвала ошибку.\n",
    "#Однако в цикле for ошибка не возникла. Это связано с тем, что цикл for не «ругается» на пустой итератор, а просто не совершает с ним никаких действий."
   ]
  },
  {
   "cell_type": "code",
   "execution_count": 51,
   "metadata": {},
   "outputs": [],
   "source": [
    "#Давайте напишем генератор денег — такой генератор, который будет принимать в качестве начальных значений сумму денег и процент по вкладу, \n",
    "#а затем с каждым вызовом генератора будет возвращать состояние вклада через год с учётом капитализации.\n",
    "# Объявляем функцию для расчёта суммы вклада\n",
    "def deposit(money, interest):\n",
    "    # Процент по вкладу преобразуем во множитель:\n",
    "    # делим процент на 100 и прибавляем 1\n",
    "    interest = interest/100 + 1\n",
    "    # Создаем бесконечный цикл\n",
    "    while True:\n",
    "        # Сумма вклада через год — это\n",
    "        # текущая сумма, умноженная на коэффициент и\n",
    "        # округлённая до двух знаков после запятой\n",
    "        money = round(interest * money, 2)\n",
    "        # Выдаём полученную сумму вклада\n",
    "        yield money\n",
    "#Итак, мы создали функцию deposit() с аргументами money и interest. В теле функции мы вычисляем коэффициент (1 + процент/100). \n",
    "#Затем запускаем бесконечный цикл, в теле которого переопределяем переменную money — умножаем текущую сумму на коэффициент и округляем результат до второго знака. \n",
    "#После этого мы с помощью оператора yield выводим текущую сумму на счёте."
   ]
  },
  {
   "cell_type": "code",
   "execution_count": 52,
   "metadata": {},
   "outputs": [
    {
     "name": "stdout",
     "output_type": "stream",
     "text": [
      "<generator object deposit at 0x000002030A309C40>\n",
      "1050.0\n",
      "1102.5\n",
      "1157.62\n"
     ]
    }
   ],
   "source": [
    "# Объявляем функцию для расчёта суммы вклада\n",
    "def deposit(money, interest):\n",
    "    # Процент по вкладу преобразуем во множитель:\n",
    "    # делим процент на 100 и прибавляем 1\n",
    "    interest = interest/100 + 1\n",
    "    # Создаем бесконечный цикл\n",
    "    while True:\n",
    "        # Сумма вклада через год — это\n",
    "        # текущая сумма, умноженная на коэффициент и\n",
    "        # округлённая до двух знаков после запятой\n",
    "        money = round(interest * money, 2)\n",
    "        # Выдаём полученную сумму вклада\n",
    "        yield money\n",
    "print(deposit(1000, 5))\n",
    "#Будет выведено\n",
    "#generator object deposit at 0x0000025DAA415270\n",
    "#Давайте создадим «новый вклад в банке» на 1 000 рублей со ставкой 5% годовых и занесём генератор в переменную bank:\n",
    "bank = deposit(1000, 5)\n",
    "print(next(bank)) # Запускаем генератор bank в первый раз\n",
    "print(next(bank)) # Запускаем генератор bank во второй раз\n",
    "print(next(bank)) # Запускаем генератор bank в третий раз\n",
    "# Будет напечатано:\n",
    "# 1050.0\n",
    "# 1102.5\n",
    "# 1157.62"
   ]
  },
  {
   "cell_type": "code",
   "execution_count": 56,
   "metadata": {},
   "outputs": [
    {
     "name": "stdout",
     "output_type": "stream",
     "text": [
      "1545.0\n",
      "1591.35\n"
     ]
    },
    {
     "ename": "StopIteration",
     "evalue": "",
     "output_type": "error",
     "traceback": [
      "\u001b[1;31m---------------------------------------------------------------------------\u001b[0m",
      "\u001b[1;31mStopIteration\u001b[0m                             Traceback (most recent call last)",
      "\u001b[1;32mc:\\Users\\anton\\source\\IDE\\Functions\\Functions.ipynb Ячейка 44\u001b[0m in \u001b[0;36m<cell line: 14>\u001b[1;34m()\u001b[0m\n\u001b[0;32m     <a href='vscode-notebook-cell:/c%3A/Users/anton/source/IDE/Functions/Functions.ipynb#ch0000042?line=11'>12</a>\u001b[0m \u001b[39mprint\u001b[39m(\u001b[39mnext\u001b[39m(bank2))\n\u001b[0;32m     <a href='vscode-notebook-cell:/c%3A/Users/anton/source/IDE/Functions/Functions.ipynb#ch0000042?line=12'>13</a>\u001b[0m \u001b[39mprint\u001b[39m(\u001b[39mnext\u001b[39m(bank2))\n\u001b[1;32m---> <a href='vscode-notebook-cell:/c%3A/Users/anton/source/IDE/Functions/Functions.ipynb#ch0000042?line=13'>14</a>\u001b[0m \u001b[39mprint\u001b[39m(\u001b[39mnext\u001b[39;49m(bank2))\n",
      "\u001b[1;31mStopIteration\u001b[0m: "
     ]
    }
   ],
   "source": [
    "# Объявляем функцию для расчёта суммы вклада\n",
    "# Аргумент years принимает число лет, на которое рассчитан вклад\n",
    "def deposit_years(money, interest, years):\n",
    "    interest = interest/100 + 1\n",
    "    # Вместо while используем цикл for с range\n",
    "    for year in range(years):\n",
    "        money = round(interest * money, 2)\n",
    "        # Выдаём полученную сумму вклада\n",
    "        yield money\n",
    "#Создадим новый вклад на два года на сумму 1 500 с 3% годовых:\n",
    "bank2 = deposit_years(1500, 3, 2)\n",
    "print(next(bank2))\n",
    "print(next(bank2))\n",
    "print(next(bank2))\n",
    "# Будет напечатано:\n",
    "# 1545.0\n",
    "# 1591.35\n",
    "# StopIteration:\n",
    "\n"
   ]
  },
  {
   "cell_type": "code",
   "execution_count": 54,
   "metadata": {},
   "outputs": [
    {
     "name": "stdout",
     "output_type": "stream",
     "text": [
      "11000.0\n",
      "12100.0\n",
      "13310.0\n"
     ]
    }
   ],
   "source": [
    "#Генераторы — это специальный вид итераторов. Это значит, что генераторы можно обрабатывать в цикле for.\n",
    "#Давайте положим в наш банк 10000 с 10 % ставкой на 3 года. Затем выведем суммы вклада на каждый год на экран:\n",
    "bank3 = deposit_years(10000, 10, 3)\n",
    "for money in bank3:\n",
    "    print(money)\n",
    "# Будет напечатано:\n",
    "# 11000.0\n",
    "# 12100.0\n",
    "# 13310.0\n",
    "#Напомним, что на каждой итерации цикл for невидимо для нас вызывает функцию next(), чтобы получить следующий элемент из итератора (в нашем примере правильнее сказать генератора). \n",
    "#Когда возникает ошибка StopIteration, цикл for её отлавливает и прекращает итерации."
   ]
  },
  {
   "cell_type": "code",
   "execution_count": 55,
   "metadata": {},
   "outputs": [
    {
     "name": "stdout",
     "output_type": "stream",
     "text": [
      "[11000.0, 12100.0, 13310.0]\n"
     ]
    }
   ],
   "source": [
    "#Все значения, которые генерирует функция deposit_years(), можно завернуть в список, просто обернув результат её работы в функцию list():\n",
    "bank3 = deposit_years(10000, 10, 3)\n",
    "sums = list(bank3)\n",
    "print(sums)\n",
    "# Будет напечатано:\n",
    "# [11000.0, 12100.0, 13310.0]\n",
    "#Когда мы обернули генератор в функцию list(), мы заставили его выдать нам все свои значения и занесли их в список.\n",
    "#А вот с бесконечными генераторами так лучше не делать — возникнет бесконечный цикл, поскольку генератор не сможет остановить своё выполнение"
   ]
  },
  {
   "cell_type": "code",
   "execution_count": 57,
   "metadata": {},
   "outputs": [
    {
     "name": "stdout",
     "output_type": "stream",
     "text": [
      "101\n",
      "102\n",
      "103\n",
      "101\n",
      "102\n",
      "103\n",
      "101\n",
      "102\n",
      "103\n",
      "101\n"
     ]
    }
   ],
   "source": [
    "#Напишите бесконечный итератор по списку.\n",
    "#Для этого создайте генератор с названием inf_iter, который принимает на вход список и возвращает элементы из него через yield.\n",
    "#Когда элементы в списке заканчиваются, генератор снова возвращает элементы из списка, начиная с нулевого.\n",
    "def inf_iter(l_in):\n",
    "    while True:  \n",
    "        for i in l_in:\n",
    "            yield i\n",
    "l = [101, 102, 103]\n",
    "gen = inf_iter(l)\n",
    "for i in range(10):\n",
    "    print(next(gen))"
   ]
  },
  {
   "cell_type": "code",
   "execution_count": 58,
   "metadata": {},
   "outputs": [
    {
     "name": "stdout",
     "output_type": "stream",
     "text": [
      "True\n",
      "4\n",
      "6\n",
      "5\n",
      "[4, 6, 5, 9, 8, 3]\n",
      "[4, 6, 5, 9, 8, 3]\n"
     ]
    }
   ],
   "source": [
    "#Пусть нам дан список names с именами. Давайте составим новый список длин имён lens_list из списка names. \n",
    "names = ['Ivan', 'Nikita', 'Simon', 'Margarita', 'Vasilisa', 'Kim']\n",
    "#Напишем функцию get_length, которая возвращает длину переданного в неё слова:\n",
    "def get_length(word):\n",
    "    return len(word)\n",
    "#Теперь применим эту функцию к списку names с помощью специальной встроенной в Python функции map(). Она позволяет преобразовать каждый элемент итерируемого объекта по заданной функции.\n",
    "# Применяем функцию get_length к каждому элементу списка\n",
    "lens = map(get_length, names)\n",
    "# Проверим, что переменная lens — это объект типа map:\n",
    "# Для этого воспользуемся функцией isinstance\n",
    "print(isinstance(lens, map))\n",
    "# Будет напечатано:\n",
    "# True\n",
    "#Объект типа map на самом деле является разновидностью итератора, а значит можно получить его элементы, последовательно применяя функцию next():\n",
    "# Последовательно получаем элементы итератора map\n",
    "print(next(lens))\n",
    "print(next(lens))\n",
    "print(next(lens))\n",
    "# Будет напечатано:\n",
    "# 4\n",
    "# 6\n",
    "# 5\n",
    "# Оборачиваем содержимое итератора map в список\n",
    "lens_list = list(map(get_length, names))\n",
    "print(lens_list)\n",
    "# Будет напечатано:\n",
    "# [4, 6, 5, 9, 8, 3]\n",
    "#Чтобы не создавать такую функцию отдельно в исходном коде скрипта, напишем аналогичную ей lambda-функцию и применим её с помощью map. \n",
    "#Сразу же воспользуемся функцией list(), чтобы получить весь список значений из итератора map:\n",
    "lens = list(map(lambda x: len(x), names))\n",
    "print(lens)\n",
    "# Будет напечатано:\n",
    "# [4, 6, 5, 9, 8, 3]"
   ]
  },
  {
   "cell_type": "code",
   "execution_count": 59,
   "metadata": {},
   "outputs": [
    {
     "name": "stdout",
     "output_type": "stream",
     "text": [
      "True\n",
      "[4, 6, 8]\n"
     ]
    }
   ],
   "source": [
    "#Ранее с помощью функции map() мы получили список длин имён lens_list = [4, 6, 5, 9, 8, 3]. \n",
    "#Теперь давайте создадим новый список even_list, в котором будут содержаться только чётные числа из списка lens_list.\n",
    "#Эту задачу можно решить с помощью специальной встроенной в Python функции filter(). \n",
    "#Она позволит отфильтровать переданный ей итерируемый объект и оставить в нём только те элементы, которые удовлетворяют условию.\n",
    "# Объявляем функцию для проверки чётности числа\n",
    "def is_even(num):\n",
    "    if num % 2 == 0:\n",
    "        return True\n",
    "    return False\n",
    "lens_list = [4, 6, 5, 9, 8, 3]\n",
    "# Применяем функцию is_even к каждому элементу списка\n",
    "even = filter(is_even, lens_list)\n",
    "# Убедимся, что even — объект типа filter\n",
    "print(isinstance(even, filter))\n",
    "# Будет напечатано:\n",
    "# True\n",
    "#Объект filter также является итератором. Сохраним все элементы из него в список и напечатаем этот список:\n",
    "print(list(even))\n",
    "# Будет напечатано:\n",
    "# [4, 6, 8]"
   ]
  },
  {
   "cell_type": "code",
   "execution_count": 60,
   "metadata": {},
   "outputs": [
    {
     "name": "stdout",
     "output_type": "stream",
     "text": [
      "[4, 6, 8]\n"
     ]
    }
   ],
   "source": [
    "#Функция is_even() тоже устроена довольно просто. Мы могли создать её и с помощью lambda-выражения при вызове filter(). \n",
    "#Выражение x % 2 == 0 также возвращает True или False в зависимости от того, является ли число чётным.\n",
    "lens_list = [4, 6, 5, 9, 8, 3] \n",
    "# Применяем lambda-функцию к каждому элементу списка\n",
    "even = filter(lambda x: x % 2 == 0, lens_list)\n",
    "print(list(even))\n",
    "# Будет напечатано:\n",
    "# [4, 6, 8]"
   ]
  },
  {
   "cell_type": "code",
   "execution_count": 61,
   "metadata": {},
   "outputs": [
    {
     "name": "stdout",
     "output_type": "stream",
     "text": [
      "['parking permit', 'maternity capital', 'tax benefit']\n"
     ]
    },
    {
     "data": {
      "text/plain": [
       "['parking permit', 'maternity capital', 'tax benefit']"
      ]
     },
     "execution_count": 61,
     "metadata": {},
     "output_type": "execute_result"
    }
   ],
   "source": [
    "#Определите функцию family(), на вход которой подаётся произвольное количество аргументов (строки с названием услуг МФЦ), а в результате возвращается список услуг, которые могут быть оказаны только многодетной семье.\n",
    "#Для фильтрации входного списка аргументов используйте функцию filter().\n",
    "#В функцию filter() передайте функцию, которая возвращает True, если её аргумент есть в списке family_list, и False — в противном случае.\n",
    "def family(*arg):\n",
    "    family_list = [\n",
    "    'certificate of a large family',\n",
    "    'social card',\n",
    "    'maternity capital',\n",
    "    'parking permit',\n",
    "    'tax benefit',\n",
    "    'reimbursement of expenses',\n",
    "    \"compensation for the purchase of children's goods\"]\n",
    "    return list(filter(lambda x: x in family_list, arg))\n",
    "#вызов функции\n",
    "print(family(\n",
    "    'newborn registration',\n",
    "    'parking permit',\n",
    "    'maternity capital',\n",
    "    'tax benefit',\n",
    "    'medical policy'\n",
    "    )\n",
    ")\n",
    "#Должно быть выведено:\n",
    "['parking permit', 'maternity capital', 'tax benefit']"
   ]
  },
  {
   "cell_type": "code",
   "execution_count": 62,
   "metadata": {},
   "outputs": [
    {
     "name": "stdout",
     "output_type": "stream",
     "text": [
      "[('Nikita', 1), ('Simon', 0), ('Margarita', 3), ('Vasilisa', 2)]\n"
     ]
    }
   ],
   "source": [
    "names = ['Ivan', 'Nikita', 'Simon', 'Margarita', 'Vasilisa', 'Kim']\n",
    "#Допустим, вначале мы хотим отобрать только те имена, которые состоят из пяти и более букв, а затем посчитать, сколько раз в таких словах встречается буква А. \n",
    "# Отбираем имена из пяти и более букв\n",
    "long_names = filter(lambda x: len(x) >= 5, names)\n",
    "# Все отобранные имена переводим в верхний регистр и считаем число букв А в них\n",
    "# Результат сохраняем в виде кортежа (имя, число букв \"A\")\n",
    "count_a = map(lambda x: (x, x.upper().count('A')), long_names)\n",
    "# Переводим объект map в list и печатаем его\n",
    "print(list(count_a))\n",
    " # Будет напечатано:\n",
    "# [('Nikita', 1), ('Simon', 0), ('Margarita', 3), ('Vasilisa', 2)]"
   ]
  },
  {
   "cell_type": "code",
   "execution_count": 63,
   "metadata": {},
   "outputs": [
    {
     "name": "stdout",
     "output_type": "stream",
     "text": [
      "[('Smith J.', 13, 2, 2003), ('Petrova M.', 13, 3, 2003)]\n"
     ]
    }
   ],
   "source": [
    "#Выберите из списка reg только те записи, в которых год рождения пользователя 2000 и больше (2001, 2002 и т. д.). \n",
    "#Из оставшихся записей составьте новый список кортежей, в котором фамилия и имя объединены в одну строку по следующему шаблону Фамилия И. (обратите внимание на точку после сокращения имени).\n",
    "reg = [('Ivanov', 'Sergej', 24, 9, 1995),\n",
    "      ('Smith', 'John', 13, 2, 2003),\n",
    "      ('Petrova', 'Maria', 13, 3, 2003)]\n",
    "def update_tuple(arg):\n",
    "    # Выделяем фамилию из кортежа\n",
    "    surname = arg[0]\n",
    "    # Выделяем имя из кортежа\n",
    "    name = arg[1]\n",
    "    # Создаём новую запись: фамилия + пробел + первая буква имени + точка\n",
    "    new_surname = surname + ' ' + name[0] + '.'\n",
    "    # Возвращаем обновлённый кортеж\n",
    "    return (new_surname, arg[2], arg[3], arg[4])\n",
    "# Фильтруем записи по условию, что последний элемент кортежа > 2000\n",
    "filter_reg = filter(lambda x: x[-1] > 2000, reg)\n",
    "# Применяем функцию-преобразование к каждому кортежу из списка и создаём новый список\n",
    "new_reg = list(map(update_tuple, filter_reg))\n",
    "print (new_reg)"
   ]
  },
  {
   "cell_type": "code",
   "execution_count": 64,
   "metadata": {},
   "outputs": [
    {
     "name": "stdout",
     "output_type": "stream",
     "text": [
      "Smith J. in group 1\n",
      "Petrova M. in group 2\n",
      "Lubimov M. in group 3\n",
      "Holov J. in group 1\n"
     ]
    }
   ],
   "source": [
    "#Перед вами стоит задача разбить пользователей на три группы, чтобы в дальнейшем проводить А/B/C-тестирование. \n",
    "#Например, первой группе вы выдаёте первый вариант интерфейса вашего приложения, второй группе — второй, третьей группе — третий. \n",
    "#Затем вы будете сравнивать реакцию пользователей и делать вывод, какой интерфейс лучше.\n",
    "#Для генерации групп дан генератор group_gen. Аргументом данного генератора является число n — число групп (у нас n = 3). \n",
    "#При каждом вызове  генератора он возвращает число от 1 до n. После достижения n генератор снова возвращает номера групп, начиная с 1.\n",
    "def group_gen(n=3):\n",
    "    while True:\n",
    "        for i in range(1, n+1):\n",
    "            yield i\n",
    "def print_groups(users):\n",
    "    # Создаём цикл по списку и генератору одновременно\n",
    "    for user, group in zip(users, group_gen()):\n",
    "        # Выводим пользователя и его группу в заданном формате\n",
    "        print(user, 'in group', group)\n",
    "users = ['Smith J.', 'Petrova M.', 'Lubimov M.', 'Holov J.']\n",
    "print_groups(users)"
   ]
  },
  {
   "cell_type": "code",
   "execution_count": 65,
   "metadata": {},
   "outputs": [
    {
     "name": "stdout",
     "output_type": "stream",
     "text": [
      "120\n"
     ]
    }
   ],
   "source": [
    "#reduce(), как и map() или filter(), в качестве первого аргумента принимает функцию, в качестве второго — итерируемый объект (например, список).\n",
    "#Рассмотрим работу данной функции на примере — применим с помощью reduce() lambda-функцию произведения двух аргументов к списку чисел от 1 до 5, полученному с помощью функции range(1, 6):\n",
    "# Импортируем модуль functools\n",
    "from functools import reduce\n",
    "\n",
    "iterable = list(range(1, 6))\n",
    "# Применяем lambda-функцию для вычисления к произведения к списку\n",
    "reduced = reduce(lambda x,y: x*y, iterable)\n",
    "print(reduced)\n",
    "# Будет напечатано:\n",
    "# 120\n",
    "#Фактически мы посчитали 5! (факториал числа 5)."
   ]
  },
  {
   "cell_type": "code",
   "execution_count": 66,
   "metadata": {},
   "outputs": [
    {
     "name": "stdout",
     "output_type": "stream",
     "text": [
      "<class 'function'>\n",
      "Input:\n",
      "Positional: (625, 4)\n",
      "Named: {}\n",
      "Result: 5.0\n",
      "5.0\n"
     ]
    }
   ],
   "source": [
    "#Создадим простейшую функцию-декоратор. Она будет изменять переданную в неё функцию следующим образом: \n",
    "#вначале будут печататься переданные на вход аргументы, вычисляться результат, а затем функция будет печатать его на экран и возвращать в исходный код основного скрипта:\n",
    "# Декорирующая функция принимает в качестве\n",
    "# аргумента название функции\n",
    "def simple_decorator(func):\n",
    "    # Функция, в которой происходит модификация поведения\n",
    "    # функции func. Она будет принимать те же аргументы,\n",
    "    # что и функция func, которую декорирует decorated_function.\n",
    "    # Чтобы принять все возможные аргументы, используем сочетание\n",
    "    # *args и *kwargs.\n",
    "    def decorated_function(*args, **kwargs):\n",
    "        # Печатаем принятые аргументы\n",
    "        print(\"Input:\")\n",
    "        print(\"Positional:\", args)\n",
    "        print(\"Named:\", kwargs)\n",
    "        # С помощью конструкции *args/**kwargs\n",
    "        # считаем результат выполнения функции func\n",
    "        result = func(*args, **kwargs)\n",
    "        # Печатаем результат выполнения функции\n",
    "        print(\"Result:\", result)\n",
    "        # Не забываем вернуть результат, чтобы\n",
    "        # не повлиять на поведение декорируемой функции!\n",
    "        return result\n",
    "    # Внешняя функция возвращает функцию\n",
    "    # decorated_function\n",
    "    return decorated_function\n",
    "#Воспользуемся написанным выше декоратором simple_decorator для функции root, которую мы создавали несколькими юнитами ранее:\n",
    "def root(value, n=2):\n",
    "    result = value ** (1/n)\n",
    "    return result\n",
    "# Декорируем функцию root с помощью функции simple_decorator\n",
    "decorated_root = simple_decorator(root)\n",
    "# В decorated_root теперь действительно хранится функция\n",
    "print(type(decorated_root))\n",
    "# Будет напечатано:\n",
    "# <class 'function'>\n",
    "#Запустим функцию decorated_root:\n",
    "print(decorated_root(625, 4))\n",
    "# Будет напечатано:\n",
    "# Input:\n",
    "# Positional: (625, 4)\n",
    "# Named: {}\n",
    "# Result: 5.0\n",
    "# 5.0"
   ]
  },
  {
   "cell_type": "code",
   "execution_count": 67,
   "metadata": {},
   "outputs": [
    {
     "name": "stdout",
     "output_type": "stream",
     "text": [
      "Input:\n",
      "Positional: (625,)\n",
      "Named: {}\n",
      "Result: 25.0\n",
      "25.0\n"
     ]
    }
   ],
   "source": [
    "# В Python декораторы используются довольно часто. Они позволяют значительно упростить жизнь разработчику. \n",
    "#Чтобы применять декораторы было удобнее, используется запись названия декоратора через символ @ прямо над сигнатурой основной функции:\n",
    "@simple_decorator\n",
    "def root(value, n=2):\n",
    "    result = value ** (1/n)\n",
    "    return result\n",
    "print(root(625))\n",
    "# Будет напечатано:\n",
    "# Input:\n",
    "# Positional: (625,)\n",
    "# Named: {}\n",
    "# Result: 25.0\n",
    "# 25.0"
   ]
  },
  {
   "cell_type": "code",
   "execution_count": 68,
   "metadata": {},
   "outputs": [
    {
     "name": "stdout",
     "output_type": "stream",
     "text": [
      "Mean runtime: 5.987238883972168e-07\n",
      "9.0\n",
      "Mean runtime: 6.357970237731934e-07\n",
      "9.0\n",
      "Mean runtime: 6.136400699615479e-07\n",
      "9.0\n",
      "Mean runtime: 6.657719612121582e-07\n",
      "9.0\n"
     ]
    }
   ],
   "source": [
    "#Как передать декоратору, сколько раз необходимо запустить функцию?\n",
    "#Для этого потребуется написать декоратор для декоратора. Вот его полный код:\n",
    "from time import time\n",
    " \n",
    "# Декоратор, который возвращает декоратор. Он принимает число\n",
    "# запусков декорируемой функции для усреднения времени\n",
    "def time_runs(n_runs):\n",
    "    # Декоратор, который уже будет возвращать непосредственно\n",
    "    # декорированную функцию\n",
    "    def time_decorator(func):\n",
    "        # Функция, в которой непосредственно\n",
    "        # происходит запуск основной функции\n",
    "        def decorated_func(*args, **kwargs):\n",
    "            start = time()\n",
    "            # Запускаем основную функцию столько раз,\n",
    "            # сколько передано в n_runs\n",
    "            for i in range(n_runs):\n",
    "                result = func(*args, **kwargs)\n",
    "            end = time()\n",
    "            # Считаем разницу во времени\n",
    "            delta = end - start\n",
    "            # Делим разницу на число запусков, чтобы получить\n",
    "            # среднее время одного запуска\n",
    "            mean_time = delta / n_runs\n",
    "            # Печатаем полученное среднее время\n",
    "            print(\"Mean runtime:\", mean_time)\n",
    "            # Не забываем вернуть сам результат\n",
    "            return result\n",
    "        # Возвращаем функцию, в которой происходит запуск основной функции\n",
    "        return decorated_func\n",
    "    # Возвращаем декоратор, который будет применяться к функции\n",
    "    return time_decorator\n",
    "#Применим декоратор time_runs с параметром n_runs=1000000 к функции root и посчитаем время:\n",
    "# Передадим в декоратор time_runs число запусков для усреднения\n",
    "@time_runs(1000000)\n",
    "def root(value, n=2):\n",
    "    result = value ** (1/n)\n",
    "    return result\n",
    " \n",
    "print(root(81))\n",
    "print(root(81))\n",
    "print(root(81))\n",
    "print(root(81))\n",
    "# Mean runtime: 3.16425085067749e-07\n",
    "# 9.0\n",
    "# Mean runtime: 3.04415225982666e-07\n",
    "# 9.0\n",
    "# Mean runtime: 2.961890697479248e-07\n",
    "# 9.0\n",
    "# Mean runtime: 3.0206298828125e-07\n",
    "# 9.0"
   ]
  },
  {
   "cell_type": "code",
   "execution_count": 69,
   "metadata": {},
   "outputs": [
    {
     "name": "stdout",
     "output_type": "stream",
     "text": [
      "MainLogger: Function root started\n",
      "MainLogger: Function root finished\n",
      "5.0\n"
     ]
    }
   ],
   "source": [
    "#При создании декоратора передаётся имя логгера, которое выводится при каждом запуске декорируемой функции.\n",
    "#Декорированная функция должна печатать:\n",
    "#перед запуском основной:\n",
    "#<имя логгера>: Function <имя декорируемой функции> started\n",
    "#после запуска основной:\n",
    "#<имя логгера>: Function <имя декорируемой функции> finished\n",
    "def logger(name):\n",
    "    def decorator(func):\n",
    "        def decorated_func(*args, **kwargs):\n",
    "            print (name + ':', 'Function', func.__name__, 'started')\n",
    "            res = func(*args, **kwargs)\n",
    "            print (name + ':', 'Function', func.__name__, 'finished')\n",
    "            return res\n",
    "        return decorated_func\n",
    "    return decorator    \n",
    "    \n",
    "@logger('MainLogger')\n",
    "def root(val, n=2):\n",
    "    res = val ** (1/n)\n",
    "    return res\n",
    "print(root(25))\n",
    "# MainLogger: Function root started\n",
    "# MainLogger: Function root finished\n",
    "# 5.0"
   ]
  },
  {
   "cell_type": "markdown",
   "metadata": {},
   "source": [
    "##### ПРОВЕРКА ЗНАНИЙ модуль 6"
   ]
  },
  {
   "cell_type": "code",
   "execution_count": 70,
   "metadata": {},
   "outputs": [
    {
     "name": "stdout",
     "output_type": "stream",
     "text": [
      "['57th', 'a', 'and', 'are', 'arrakis', 'as', 'balances', 'be', 'begin', 'beginning', 'bene', 'born', 'by', 'caladan', 'care', 'correct', 'deceived', 'delicate', 'do', 'dune', 'emperor', 'every', 'fact', 'fifteen', 'first', 'for', 'forever', 'gesserit', 'he', 'him', 'his', 'in', 'is', 'iv', 'known', 'knows', 'life', 'lived', 'locate', 'most', \"muad'dib\", 'not', 'of', 'on', 'padishah', 'place', 'planet', 'shaddam', 'sister', 'special', 'study', 'take', 'taking', 'that', 'the', 'then', 'there', 'this', 'time', 'to', 'was', 'year', 'years', 'you', 'your']\n"
     ]
    }
   ],
   "source": [
    "# Напишите функцию get_unique_words(), которая избавляется от знаков препинаний \n",
    "# и пробелов в тексте и возвращает упорядоченный список \n",
    "# (слова расположены по алфавиту) из уникальных (неповторяющихся) слов.\n",
    "# Можно использовать готовый список со знаками препинания:\n",
    "\n",
    "punctuation_list = ['.', ',', ';', ':', '...', '!', '?', '-', '\"', '(', ')']\n",
    "# Текст, который можно использовать в качестве примера:\n",
    "text_example = \"A beginning is the time for taking the most delicate care that the balances are correct. This every sister of the Bene Gesserit knows. To begin your study of the life of Muad'Dib, then take care that you first place him in his time: born in the 57th year of the Padishah Emperor, Shaddam IV. And take the most special care that you locate Muad'Dib in his place: the planet Arrakis. Do not be deceived by the fact that he was born on Caladan and lived his first fifteen years there. Arrakis, the planet known as Dune, is forever his place.\"\n",
    "\n",
    "def get_unique_words(text):\n",
    "    for i in punctuation_list: \n",
    "        text = text.replace(i, \"\")\n",
    "    str2=text.lower()\n",
    "    str3=str2.split()\n",
    "    str4=sorted(set(str3), key=str.lower)\n",
    "    return str4\n",
    "\n",
    "print(get_unique_words(text_example))"
   ]
  },
  {
   "cell_type": "code",
   "execution_count": 71,
   "metadata": {},
   "outputs": [
    {
     "name": "stdout",
     "output_type": "stream",
     "text": [
      "the\n"
     ]
    }
   ],
   "source": [
    "# Модифицируем предыдущую задачу.\n",
    "# Теперь необходимо написать функцию get_most_frequent_word, которое возвращает самое часто встречающееся слово в тексте.\n",
    "punctuation_list = ['.', ',', ';', ':', '...', '!', '?', '-', '\"', '(', ')']\n",
    "text_example = \"A beginning is the time for taking the most delicate care that the balances are correct. This every sister of the Bene Gesserit knows. To begin your study of the life of Muad'Dib, then take care that you first place him in his time: born in the 57th year of the Padishah Emperor, Shaddam IV. And take the most special care that you locate Muad'Dib in his place: the planet Arrakis. Do not be deceived by the fact that he was born on Caladan and lived his first fifteen years there. Arrakis, the planet known as Dune, is forever his place.\"\n",
    "def get_most_frequent_word(text):\n",
    "    for i in punctuation_list: \n",
    "        text = text.replace(i, \"\")\n",
    "    str2=text.lower()\n",
    "    str3=str2.split()\n",
    "    #str4=sorted(set(str3))\n",
    "    counter = 0\n",
    "    num = str3[0]\n",
    "    for j in str3:\n",
    "        curr_frequency = str3.count(j)\n",
    "        if(curr_frequency> counter):\n",
    "            counter = curr_frequency\n",
    "            num = j\n",
    "    return num\n",
    "print(get_most_frequent_word(text_example))"
   ]
  },
  {
   "cell_type": "code",
   "execution_count": 72,
   "metadata": {},
   "outputs": [
    {
     "name": "stdout",
     "output_type": "stream",
     "text": [
      "0\n",
      "8\n"
     ]
    }
   ],
   "source": [
    "# Разработайте функцию holes_count(), которая подсчитывает количество отверстий \n",
    "# в заданном числе. Например, в цифре 8 два отверстия, в цифре 9 - одно. \n",
    "# В числе 146 - два отверстия. \n",
    "# Подсказка: используйте словарь для записи количества отверстий в цифрах\n",
    "dict1 = {'1': 0, '2': 0, '3': 0, '4': 1, '5': 0, '6': 1,'7': 0, '8': 2, '9': 1,'0': 1}\n",
    "def holes_count(number):\n",
    "    s=0\n",
    "    var1=str(number)\n",
    "#    print (var1)\n",
    "    for i in range(len(var1)):\n",
    "         s+=dict1[var1[i]] \n",
    "    return s\n",
    "print(holes_count(123))\n",
    "print(holes_count(8888))\n",
    "#print(holes_count(6189))"
   ]
  },
  {
   "cell_type": "code",
   "execution_count": 73,
   "metadata": {},
   "outputs": [
    {
     "name": "stdout",
     "output_type": "stream",
     "text": [
      "1\n"
     ]
    }
   ],
   "source": [
    "# Напишите функцию find_min_number(), которая принимает три числа на вход \n",
    "# и возвращает наименьшее из них.\n",
    "# Используйте условия для решения задачи\n",
    "def find_min_number(a, b, c):\n",
    "    lst=[]\n",
    "    lst.extend([a, b, c])\n",
    "    #print (lst)\n",
    "    smallest = lst[0] \n",
    "    for i in lst: \n",
    "        if i<smallest:\n",
    "            smallest=i\n",
    "    return smallest\n",
    "print(find_min_number(1, 2, 3))"
   ]
  },
  {
   "cell_type": "code",
   "execution_count": 74,
   "metadata": {},
   "outputs": [
    {
     "name": "stdout",
     "output_type": "stream",
     "text": [
      "3\n"
     ]
    }
   ],
   "source": [
    "# Усложним предыдущую задачу.\n",
    "# Напишите функцию sum_min_numbers(), которая также принимает три числа на вход \n",
    "# и возвращает сумму двух наименьших.\n",
    "# Можно использовать функцию из предыдущего задания для поиска минимального числа.\n",
    "def find_min_number(a, b, c):\n",
    "    # вставьте сюда код из предыдущего задания\n",
    "    lst1=[]\n",
    "    lst1.extend([a, b, c])\n",
    "    #print (lst)\n",
    "    smallest = lst1[0] \n",
    "    for i in lst1: \n",
    "        if i<smallest:\n",
    "            smallest=i\n",
    "    return smallest\n",
    "def sum_min_numbers(a, b, c):\n",
    "    lst2=[]\n",
    "    lst2.extend([a, b, c]) \n",
    "    lst2.sort()\n",
    "    n1=find_min_number(a, b, c)\n",
    "    n2=lst2[1]\n",
    "    return n1+n2\n",
    "print(sum_min_numbers(1, 2, 3))\n"
   ]
  },
  {
   "cell_type": "code",
   "execution_count": 75,
   "metadata": {},
   "outputs": [
    {
     "name": "stdout",
     "output_type": "stream",
     "text": [
      "3\n"
     ]
    }
   ],
   "source": [
    "# Усложним предыдущую задачу.\n",
    "# Напишите функцию sum_min_numbers(), которая также принимает три числа на вход \n",
    "# и возвращает сумму двух наименьших.\n",
    "# Можно использовать функцию из предыдущего задания для поиска минимального числа.\n",
    "def find_min_number(a, b, c):\n",
    "    # вставьте сюда код из предыдущего задания\n",
    "    lst1=[]\n",
    "    lst1.extend([a, b, c])\n",
    "    #print (lst)\n",
    "    smallest = lst1[0] \n",
    "    for i in lst1: \n",
    "        if i<smallest:\n",
    "            smallest=i\n",
    "    return smallest\n",
    "def sum_min_numbers(a, b, c):\n",
    "    lst2=[]\n",
    "    lst2.extend([a, b, c]) \n",
    "    lst2.sort()\n",
    "    n1=find_min_number(a, b, c)\n",
    "    n2=lst2[1]\n",
    "    return n1+n2\n",
    "print(sum_min_numbers(1, 2, 3))"
   ]
  },
  {
   "cell_type": "code",
   "execution_count": 76,
   "metadata": {},
   "outputs": [
    {
     "name": "stdout",
     "output_type": "stream",
     "text": [
      "True\n",
      "False\n",
      "True\n"
     ]
    }
   ],
   "source": [
    "# Напишите функцию lucky_ticket(), которая проверяет, является ли билетик счастливым.\n",
    "# Памятка: билетик счастливый, если сумма первых трех цифр равна сумме последних трех цифр.\n",
    "# На вход функция получает шестизначное число.\n",
    "def lucky_ticket(ticket_number):\n",
    "    s1=0\n",
    "    s2=0\n",
    "    var1=str(ticket_number)\n",
    "#    print (var1)\n",
    "    for i in range(0, 3):\n",
    "        s1+=int(var1[i])\n",
    "        s2+=int(var1[i+3])\n",
    "    #print (s1)\n",
    "    #print (s2)\n",
    "    if s1==s2:\n",
    "        return True\n",
    "    else:\n",
    "        return False\n",
    "print(lucky_ticket(111111))\n",
    "print(lucky_ticket(123456))\n",
    "print(lucky_ticket(123321))"
   ]
  },
  {
   "cell_type": "code",
   "execution_count": 77,
   "metadata": {},
   "outputs": [
    {
     "name": "stdout",
     "output_type": "stream",
     "text": [
      "False\n",
      "True\n"
     ]
    }
   ],
   "source": [
    "# Напишите функцию is_divided_by_six(), которая проверяет, делится ли число на шесть. \n",
    "# При решении воспользуйтесь тернарным оператором!\n",
    "# Функция должна вернуть True, если число делится на шесть или False в обратном случае.\n",
    "# Подсказка: число делится на шесть, если оно делится на 2 и на 3\n",
    "def is_divided_by_six(number):\n",
    "            six = True if number%3%2==0 else False\n",
    "            return six  \n",
    "print(is_divided_by_six(13))\n",
    "print(is_divided_by_six(12))"
   ]
  },
  {
   "cell_type": "code",
   "execution_count": 78,
   "metadata": {},
   "outputs": [
    {
     "name": "stdout",
     "output_type": "stream",
     "text": [
      "0\n",
      "1\n",
      "-1\n"
     ]
    }
   ],
   "source": [
    "# Напишите функцию check_number_sign(), которая возвращает 1, если число положительное, \n",
    "# -1, если число отрицательное, 0, если число - 0.\n",
    "# Используйте в коде конструкцию if-elif-else.\n",
    "# Функция принимает на вход одно число.\n",
    "def check_number_sign(x):\n",
    "    if x>0:\n",
    "        return (1)\n",
    "    elif x<0:\n",
    "        return (-1)\n",
    "    elif x==0:\n",
    "        return(0)\n",
    "print(check_number_sign(0))\n",
    "print(check_number_sign(100))\n",
    "print(check_number_sign(-1))"
   ]
  },
  {
   "cell_type": "code",
   "execution_count": 79,
   "metadata": {},
   "outputs": [
    {
     "name": "stdout",
     "output_type": "stream",
     "text": [
      "Error! Matrices dimensions are different!\n",
      "None\n",
      "1.0\n"
     ]
    }
   ],
   "source": [
    "# Напишите функцию def division(), которая осуществляет деление двух чисел. \n",
    "# Необходимо реализовать внутри функции отлов исключения ZeroDivisionError, \n",
    "# в случае, если пользователь, при вызове функции, пытается поделить на ноль.\n",
    "# Функция принимает на вход два числа - делимое и делитель.\n",
    "def division(a, b):\n",
    "    try:\n",
    "        c=a/b\n",
    "#должна завершиться с ошибкой ValueError, которую мы выведем в блоке except\n",
    "    except ZeroDivisionError as e:\n",
    "        print('Error! Matrices dimensions are different!')\n",
    "        return None\n",
    "    else: # код в блоке else выполняется только в том случае, если код в блоке try выполнился успешно (т. е. не произошло никакого исключения)\n",
    "        return c \n",
    "print(division(1, 0))\n",
    "print(division(1, 1))"
   ]
  },
  {
   "cell_type": "code",
   "execution_count": 80,
   "metadata": {},
   "outputs": [
    {
     "name": "stdout",
     "output_type": "stream",
     "text": [
      "0\n",
      "1\n",
      "13\n"
     ]
    }
   ],
   "source": [
    "# Числа Фибоначчи. \n",
    "# Напишите функцию def fib_number(), которая получается на вход некоторое \n",
    "# число n и выводит n-e число Фибоначчи. \n",
    "# Задачу можно решить как с помощью цикла for, так и с помощью цикла while\n",
    "# Примечание: числа Фибоначчи определяются так\n",
    "# ```\n",
    "# a0 = 0, a1 = 1, a2 = a1 + a0 = 1, an = a_n-1 + a_n-2\n",
    "# ```\n",
    "# Примечание: в модуле по функциям уже было задание на вычисление чисел Фибоначчи \n",
    "# с помощью рекурсивных функций. Здесь необходимо реализовать те же вычисления, \n",
    "# но без использования рекурсии.\n",
    "def fib_number(n):\n",
    "    fib1=fib2=1\n",
    "    fib_sum=1\n",
    "    if n==0:\n",
    "        return 0\n",
    "    elif n==1:\n",
    "        return 1\n",
    "    else:\n",
    "        for i in range (2, n):\n",
    "            fib_sum = fib2 + fib1\n",
    "            fib1 = fib2\n",
    "            fib2 = fib_sum\n",
    "            i += 1\n",
    "    return fib_sum;\n",
    "print(fib_number(0))\n",
    "print(fib_number(1))\n",
    "print(fib_number(7))"
   ]
  },
  {
   "cell_type": "code",
   "execution_count": 81,
   "metadata": {},
   "outputs": [
    {
     "name": "stdout",
     "output_type": "stream",
     "text": [
      "Current row [1, 5, 4]\n",
      "Current row [4, 2, -2]\n",
      "Current row [7, 65, 88]\n",
      "5\n"
     ]
    }
   ],
   "source": [
    "# Напишите функцию def even_numbers_in_matrix(), \n",
    "# которая получает на вход матрицу (список из списков) \n",
    "# и возвращает количество четных чисел в ней.\n",
    "matrix_example = [\n",
    "          [1, 5, 4],\n",
    "          [4, 2, -2],\n",
    "          [7, 65, 88]\n",
    "]\n",
    "def even_numbers_in_matrix(matrix):\n",
    "    s=0\n",
    "    for row in matrix: #row — текущее значение из списка matrix\n",
    "        print('Current row', row) #выводим содержимое на экран\n",
    "    #создаём цикл по элементам списка row\n",
    "        for elem in row: #elem — текущее значение из списка row\n",
    "            if elem%2==0:\n",
    "                s+=1\n",
    "    return s\n",
    "print(even_numbers_in_matrix(matrix_example))"
   ]
  },
  {
   "cell_type": "code",
   "execution_count": 82,
   "metadata": {},
   "outputs": [
    {
     "name": "stdout",
     "output_type": "stream",
     "text": [
      "Error! Matrices dimensions are different!\n",
      "None\n"
     ]
    }
   ],
   "source": [
    "# МОЙ ВАРИАНТ (ошибка теста)\n",
    "# Напишите функцию def matrix_sum(), которая получает на вход две матрицы \n",
    "# и возвращает их сумму.\n",
    "# Примечание: чтобы найти сумму двух матриц, нужно просуммировать \n",
    "# их соответствующие элементы. Но перед этим необходимо проверить, что размеры \n",
    "# матриц одинаковы (одинаковое количество столбцов и одинаковое количество строк)\n",
    "# Например:\n",
    "# 1 2 3   2 3 4   3 5 7\n",
    "# 2 3 4 + 4 5 6 = 6 8 10\n",
    "# 5 6 7   4 3 2   9 9 9\n",
    "matrix_example = [\n",
    "[1, 5, 4],\n",
    "[4, 2, -2],\n",
    "[7, 65, 88]]        \n",
    "matrix_example2 = [\n",
    "[1, 5],\n",
    "[4, 2], [8, 3]]\n",
    "result = [] \n",
    "def matrix_sum(matrix1, matrix2):\n",
    "    if len(matrix1)==len(matrix2) and len(matrix1[0])==len(matrix2[0]):\n",
    "        for i in range(len(matrix1)):\n",
    "            result.append([0]*len(matrix1[0]))\n",
    "            for j in range(len(matrix1[0])): \n",
    "                result[i][j] = matrix1[i][j] + matrix2[i][j] \n",
    "        return result   \n",
    "    else:\n",
    "      print ('Error! Matrices dimensions are different!')\n",
    "      return  \n",
    "print(matrix_sum(matrix_example2, matrix_example))"
   ]
  },
  {
   "cell_type": "code",
   "execution_count": 83,
   "metadata": {},
   "outputs": [
    {
     "name": "stdout",
     "output_type": "stream",
     "text": [
      "[[2, 10, 8], [8, 4, -4], [14, 130, 176]]\n"
     ]
    }
   ],
   "source": [
    "#ЭТАЛОННЫЙ ВАРИАНТ\n",
    "matrix_example = [\n",
    "[1, 5, 4],\n",
    "[4, 2, -2],\n",
    "[7, 65, 88]]   \n",
    "def matrix_sum(matrix1, matrix2):\n",
    "  # check matrices dimensions\n",
    "    if len(matrix1) != len(matrix2) or len(matrix1[0]) \\\n",
    "        != len(matrix2[0]):\n",
    "        print('Error! Matrices dimensions are different!')\n",
    "        return\n",
    "    matrix_lines = len(matrix1)\n",
    "    matrix_rows = len(matrix1[0])\n",
    "  # find matrix sum\n",
    "    sum_matrix = []\n",
    "    for i in range(matrix_lines):   \n",
    "        line_tmp = []\n",
    "        for j in range(matrix_rows):\n",
    "            line_tmp.append(matrix1[i][j] + matrix2[i][j])\n",
    "        sum_matrix.append(line_tmp)\n",
    "    return sum_matrix\n",
    "print(matrix_sum(matrix_example, matrix_example))"
   ]
  },
  {
   "cell_type": "code",
   "execution_count": 84,
   "metadata": {},
   "outputs": [
    {
     "name": "stdout",
     "output_type": "stream",
     "text": [
      "2.0\n",
      "You should pass list to this function!\n",
      "None\n",
      "List should contain numbers!\n",
      "None\n",
      "3.375\n"
     ]
    }
   ],
   "source": [
    "#Напишите функцию, которая вычисляет среднее арифметическое значений списка.\n",
    "#Не забудьте проверить значение полученного аргумента!\n",
    "def calculate_average(number_list):\n",
    "    try:\n",
    "        if type(number_list) is not list:\n",
    "            raise ValueError(\"You should pass list to this function!\")\n",
    "    except ValueError as err:\n",
    "            print(err)\n",
    "            return\n",
    "    try:\n",
    "        average = sum(number_list) / len(number_list)\n",
    "    except TypeError:\n",
    "        print(\"List should contain numbers!\")\n",
    "        return\n",
    "    return average\n",
    "print(calculate_average([1, 2, 3]))\n",
    "print(calculate_average(1))\n",
    "print(calculate_average([\"a\", 1]))\n",
    "print(calculate_average([1, 2, 3, 7.5]))"
   ]
  },
  {
   "cell_type": "code",
   "execution_count": 85,
   "metadata": {},
   "outputs": [
    {
     "name": "stdout",
     "output_type": "stream",
     "text": [
      "{'a': 0, 'b': 0, 'c': 0, 'd': 0, 'e': 0, 'f': 1, 'g': 0, 'h': 0, 'i': 0, 'j': 0, 'k': 0, 'l': 0, 'm': 0, 'n': 0, 'o': 0, 'p': 0, 'q': 0, 'r': 0, 's': 0, 't': 0, 'u': 0, 'v': 0, 'w': 0, 'y': 0, 'z': 0}\n"
     ]
    }
   ],
   "source": [
    "#Напишите функцию, которая принимает на вход строку и подсчитывает в ней количество слов начинающихся на каждую букву алфавита.\n",
    "#Возвращать функция должна словарь следующего вида:\n",
    "#{'a': 10, 'b': 3, 'c': 0, ...}\n",
    "#Для задания словаря используйте строку с алфавитом:\n",
    "#Словарь с буквами создайте с помощью генератора.\n",
    "def count_words(sentence_str):\n",
    "    alphabet_str = \"abcdefghijklmnopqrstuvwqyz\"\n",
    "    letters_dict = {letter: 0 for letter in alphabet_str}\n",
    "    words_list = sentence_str.lower().split()\n",
    "    for word in words_list:\n",
    "        letters_dict[word[0]] += 1\n",
    "        return letters_dict\n",
    "str_example = \"Fibonacci numbers are strongly related to the golden ratio: Binet's formula expresses thenth Fibonacci number in terms of n and the golden ratio, and implies that the ratio of two consecutiveFibonacci numbers tends to the golden ratio as n increases.\"\n",
    "print(count_words(str_example))"
   ]
  }
 ],
 "metadata": {
  "kernelspec": {
   "display_name": "Python 3.10.4 64-bit",
   "language": "python",
   "name": "python3"
  },
  "language_info": {
   "codemirror_mode": {
    "name": "ipython",
    "version": 3
   },
   "file_extension": ".py",
   "mimetype": "text/x-python",
   "name": "python",
   "nbconvert_exporter": "python",
   "pygments_lexer": "ipython3",
   "version": "3.10.4"
  },
  "orig_nbformat": 4,
  "vscode": {
   "interpreter": {
    "hash": "4604fddfbe3ec3d9d385c207fa0ddb9a05dfef66380401ad05b04bbd42d45367"
   }
  }
 },
 "nbformat": 4,
 "nbformat_minor": 2
}
