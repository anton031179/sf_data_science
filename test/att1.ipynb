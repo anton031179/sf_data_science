{
 "cells": [
  {
   "cell_type": "markdown",
   "metadata": {},
   "source": [
    "#### Выполнено:"
   ]
  },
  {
   "cell_type": "code",
   "execution_count": null,
   "metadata": {},
   "outputs": [],
   "source": [
    "import pandas as pd\n",
    "\n",
    "bronze_path = './Root/data/bronze_top.csv'\n",
    "silver_path = './Root/data/silver_top.csv'\n",
    "\"\"\"\n",
    "Объедините две таблицы по странам таким образом, чтобы в результат вошли данные только о тех странах, которые есть в обоих рейтингах. \n",
    "При этом в качестве суффиксов для столбца c числом медалей укажите строки \"_bronze\" и \"_silver\", чтобы столбцы можно было различать.\n",
    "Результат занесите в переменную merged.\n",
    "\"\"\"\n",
    "data2= pd.read_csv(bronze_path, sep=',')\n",
    "data1= pd.read_csv(silver_path, sep=',')\n",
    "\n",
    "merged = data1.merge(\n",
    "data2,\n",
    "on='Country',\n",
    "how='inner',\n",
    "suffixes=('_silver', '_bronze')\n",
    ")\n",
    "print (merged.tail())"
   ]
  },
  {
   "cell_type": "code",
   "execution_count": 9,
   "metadata": {},
   "outputs": [
    {
     "name": "stdout",
     "output_type": "stream",
     "text": [
      "{'Oranges (packaged)': 114.99, 'Candy (Rotfront)': 280.0, 'Boiled sausage': 133.99, 'Juice J7 (orange)': 105.59, 'Trout (Seven Seas)': 327.99}\n"
     ]
    }
   ],
   "source": [
    "def apply_discounts(products, stocks):\n",
    "    \"\"\"\n",
    "    Напишите функцию apply_discounts(), которая снижает цену продуктов в словаре products на указанный в словаре stocks процент. \n",
    "    Функция должна вернуть результирующий словарь, ключи которого — товары, а значения — новые цены.\n",
    "    Если продукта из словаря stocks нет в словаре products, то его необходимо пропустить. Цены округлите до второго знака после запятой.\n",
    "    \n",
    "    \"\"\"\n",
    "    dict1={}\n",
    "    for key in products:\n",
    "        if key in stocks:\n",
    "            dict1.update({key: round(float(products[key])*(1-float((stocks[key][:2]))/100),2)})\n",
    "            #dict1.update({key: products[key]})\n",
    "        else:\n",
    "            dict1.update({key: products[key]})\n",
    "            #pass\n",
    "    return dict1\n",
    "\n",
    "     \n",
    "if __name__ == '__main__':\n",
    "    products={\n",
    "        \"Oranges (packaged)\": 114.99, \n",
    "        \"Candy (Rotfront)\": 280.00,\n",
    "        \"Boiled sausage\": 199.99,\n",
    "        \"Juice J7 (orange)\": 119.99,\n",
    "        \"Trout (Seven Seas)\": 399.99\n",
    "        }\n",
    "    stocks = {\n",
    "        \"Boiled sausage\": \"33%\",\n",
    "        \"Juice J7 (orange)\": \"12%\",\n",
    "        \"Trout (Seven Seas)\": \"18%\"\n",
    "    }\n",
    "    new_products = apply_discounts(products, stocks)\n",
    "    print(new_products)"
   ]
  },
  {
   "cell_type": "markdown",
   "metadata": {},
   "source": [
    "#### Не выполнено:"
   ]
  },
  {
   "cell_type": "code",
   "execution_count": 5,
   "metadata": {},
   "outputs": [
    {
     "ename": "TypeError",
     "evalue": "'float' object is not iterable",
     "output_type": "error",
     "traceback": [
      "\u001b[1;31m---------------------------------------------------------------------------\u001b[0m",
      "\u001b[1;31mTypeError\u001b[0m                                 Traceback (most recent call last)",
      "\u001b[1;32mc:\\Users\\anton\\source\\IDE\\test\\att1.ipynb Ячейка 1\u001b[0m in \u001b[0;36m<cell line: 23>\u001b[1;34m()\u001b[0m\n\u001b[0;32m     <a href='vscode-notebook-cell:/c%3A/Users/anton/source/IDE/test/att1.ipynb#ch0000000?line=23'>24</a>\u001b[0m products\u001b[39m=\u001b[39m{\n\u001b[0;32m     <a href='vscode-notebook-cell:/c%3A/Users/anton/source/IDE/test/att1.ipynb#ch0000000?line=24'>25</a>\u001b[0m     \u001b[39m\"\u001b[39m\u001b[39mOranges (packaged)\u001b[39m\u001b[39m\"\u001b[39m: \u001b[39m114.99\u001b[39m, \n\u001b[0;32m     <a href='vscode-notebook-cell:/c%3A/Users/anton/source/IDE/test/att1.ipynb#ch0000000?line=25'>26</a>\u001b[0m     \u001b[39m\"\u001b[39m\u001b[39mCandy (Rotfront)\u001b[39m\u001b[39m\"\u001b[39m: \u001b[39m280.00\u001b[39m,\n\u001b[1;32m   (...)\u001b[0m\n\u001b[0;32m     <a href='vscode-notebook-cell:/c%3A/Users/anton/source/IDE/test/att1.ipynb#ch0000000?line=28'>29</a>\u001b[0m     \u001b[39m\"\u001b[39m\u001b[39mTrout (Seven Seas)\u001b[39m\u001b[39m\"\u001b[39m: \u001b[39m399.99\u001b[39m\n\u001b[0;32m     <a href='vscode-notebook-cell:/c%3A/Users/anton/source/IDE/test/att1.ipynb#ch0000000?line=29'>30</a>\u001b[0m     }\n\u001b[0;32m     <a href='vscode-notebook-cell:/c%3A/Users/anton/source/IDE/test/att1.ipynb#ch0000000?line=30'>31</a>\u001b[0m stocks \u001b[39m=\u001b[39m {\n\u001b[0;32m     <a href='vscode-notebook-cell:/c%3A/Users/anton/source/IDE/test/att1.ipynb#ch0000000?line=31'>32</a>\u001b[0m     \u001b[39m\"\u001b[39m\u001b[39mBoiled sausage\u001b[39m\u001b[39m\"\u001b[39m: \u001b[39m\"\u001b[39m\u001b[39m33\u001b[39m\u001b[39m%\u001b[39m\u001b[39m\"\u001b[39m,\n\u001b[0;32m     <a href='vscode-notebook-cell:/c%3A/Users/anton/source/IDE/test/att1.ipynb#ch0000000?line=32'>33</a>\u001b[0m     \u001b[39m\"\u001b[39m\u001b[39mJuice J7 (orange)\u001b[39m\u001b[39m\"\u001b[39m: \u001b[39m\"\u001b[39m\u001b[39m12\u001b[39m\u001b[39m%\u001b[39m\u001b[39m\"\u001b[39m,\n\u001b[0;32m     <a href='vscode-notebook-cell:/c%3A/Users/anton/source/IDE/test/att1.ipynb#ch0000000?line=33'>34</a>\u001b[0m     \u001b[39m\"\u001b[39m\u001b[39mTrout (Seven Seas)\u001b[39m\u001b[39m\"\u001b[39m: \u001b[39m\"\u001b[39m\u001b[39m18\u001b[39m\u001b[39m%\u001b[39m\u001b[39m\"\u001b[39m\n\u001b[0;32m     <a href='vscode-notebook-cell:/c%3A/Users/anton/source/IDE/test/att1.ipynb#ch0000000?line=34'>35</a>\u001b[0m }\n\u001b[1;32m---> <a href='vscode-notebook-cell:/c%3A/Users/anton/source/IDE/test/att1.ipynb#ch0000000?line=35'>36</a>\u001b[0m new_products \u001b[39m=\u001b[39m apply_discounts(products, stocks)\n\u001b[0;32m     <a href='vscode-notebook-cell:/c%3A/Users/anton/source/IDE/test/att1.ipynb#ch0000000?line=36'>37</a>\u001b[0m \u001b[39mprint\u001b[39m(new_products)\n",
      "\u001b[1;32mc:\\Users\\anton\\source\\IDE\\test\\att1.ipynb Ячейка 1\u001b[0m in \u001b[0;36mapply_discounts\u001b[1;34m(products, stocks)\u001b[0m\n\u001b[0;32m     <a href='vscode-notebook-cell:/c%3A/Users/anton/source/IDE/test/att1.ipynb#ch0000000?line=12'>13</a>\u001b[0m         dict1\u001b[39m.\u001b[39mupdate(products[key]\u001b[39m*\u001b[39m(stocks[key])\u001b[39m/\u001b[39m\u001b[39m100\u001b[39m)\n\u001b[0;32m     <a href='vscode-notebook-cell:/c%3A/Users/anton/source/IDE/test/att1.ipynb#ch0000000?line=13'>14</a>\u001b[0m     \u001b[39melse\u001b[39;00m:\n\u001b[1;32m---> <a href='vscode-notebook-cell:/c%3A/Users/anton/source/IDE/test/att1.ipynb#ch0000000?line=14'>15</a>\u001b[0m         dict1\u001b[39m.\u001b[39;49mupdate(products[key])\n\u001b[0;32m     <a href='vscode-notebook-cell:/c%3A/Users/anton/source/IDE/test/att1.ipynb#ch0000000?line=15'>16</a>\u001b[0m \u001b[39mreturn\u001b[39;00m dict1\n",
      "\u001b[1;31mTypeError\u001b[0m: 'float' object is not iterable"
     ]
    }
   ],
   "source": [
    "def apply_discounts(products, stocks):\n",
    "    \"\"\"\n",
    "    Напишите функцию apply_discounts(), которая снижает цену продуктов в словаре products на указанный в словаре stocks процент. \n",
    "    Функция должна вернуть результирующий словарь, ключи которого — товары, а значения — новые цены.\n",
    "    Если продукта из словаря stocks нет в словаре products, то его необходимо пропустить. Цены округлите до второго знака после запятой.\n",
    "    \n",
    "    \"\"\"\n",
    "    dict1={}\n",
    "    for key in products:\n",
    "        if products[key] in stocks:\n",
    "            dict1.update(products[key]*(stocks[key])/100)\n",
    "        else:\n",
    "            dict1.update(products[key])\n",
    "    return dict1\n",
    "\n",
    "\n",
    "\n",
    "# for key in dict_y:\n",
    "#     if key in dict_a:\n",
    "#         print(int(dict_a[key]) * int(dict_y[key]))\n",
    "\n",
    "\n",
    "\n",
    "\n",
    "for title, code in goods.items():\n",
    "    total_quantity = 0\n",
    "    total_cost = 0\n",
    "    for goods in store[code]:\n",
    "        total_quantity += goods['quantity']\n",
    "        total_cost += goods['price']\n",
    "    print(title, \" - \",total_quantity,\" шт, \",total_cost,\" руб\")\n",
    "\n",
    "\n",
    "\n",
    "for k, v in products.items():\n",
    "    products[k] = {m: n*v for m, n in products[k].items()}\n",
    "    \n",
    "    \n",
    "    \n",
    "for i, dynamic in enumerate(user_dynamics): #index — индекс текущего элемента, dymanic — текущее значение из списка\n",
    "    if dynamic < 0:\n",
    "        number_negative = i+1 #перезаписываем значение номера дня\n",
    "        print(\"Churn value: \", dynamic) # выводим количество ушедших в этот день пользователей\n",
    "        print(\"Number day: \", number_negative) # выводим номер дня\n",
    "        \n",
    "        \n",
    "        \n",
    "my_dict = {'a': 15, 'b': 10.5, 'c': '15', 'd': 50, 'e': 15, 'f': '15'} #заданный словарь\n",
    "count = 0 #задаём начальное количество\n",
    "#создаём цикл по ключам словаря my_dict\n",
    "for key in my_dict: #key — текущий ключ из словаря\n",
    "#проверяем условие, что тип данных значения — строка\n",
    "    if type(my_dict[key]) is str: #если условие выполняется,\n",
    "        continue #переходим на следующую итерацию\n",
    "    else: #в противном случае\n",
    "        count += 1 #увеличиваем количество\n",
    "    print(count) #выводим результа\n",
    "        \n",
    "  \n",
    "  \n",
    "str_list = [\"Hello\", \"my\", \"name\", \"is\", \"Ezeikel\", \"I\", \"like\", \"knitting\"] #заданный список\n",
    "cut_str_list = [] #новый список\n",
    "#создаём цикл по индексам и элементам списка str_list\n",
    "for index, word in enumerate(str_list): #index — текущий индекс (номер) элемента, word — текущая строка\n",
    "    cut_str_list.append([index, word[:3]]) #добавляем в список cut_str_list список из номера строки и первых трёх символов из строки\n",
    "        \n",
    "        \n",
    "        \n",
    "        \n",
    "\n",
    "\n",
    "if __name__ == '__main__':\n",
    "    products={\n",
    "        \"Oranges (packaged)\": 114.99, \n",
    "        \"Candy (Rotfront)\": 280.00,\n",
    "        \"Boiled sausage\": 199.99,\n",
    "        \"Juice J7 (orange)\": 119.99,\n",
    "        \"Trout (Seven Seas)\": 399.99\n",
    "        }\n",
    "    stocks = {\n",
    "        \"Boiled sausage\": \"33%\",\n",
    "        \"Juice J7 (orange)\": \"12%\",\n",
    "        \"Trout (Seven Seas)\": \"18%\"\n",
    "    }\n",
    "    new_products = apply_discounts(products, stocks)\n",
    "    print(new_products)"
   ]
  },
  {
   "cell_type": "code",
   "execution_count": 16,
   "metadata": {},
   "outputs": [
    {
     "name": "stdout",
     "output_type": "stream",
     "text": [
      "date         0.0\n",
      "cum_power    0.0\n",
      "dtype: float64\n"
     ]
    }
   ],
   "source": [
    "import pandas as pd\n",
    "solar_data = pd.read_csv('data/solarpower.csv')\n",
    "solar_data.head()\n",
    "print(solar_data.isnull().mean())"
   ]
  },
  {
   "cell_type": "markdown",
   "metadata": {},
   "source": [
    "##  Попытка №2"
   ]
  },
  {
   "cell_type": "code",
   "execution_count": 1,
   "metadata": {},
   "outputs": [
    {
     "name": "stdout",
     "output_type": "stream",
     "text": [
      "True True True False\n"
     ]
    }
   ],
   "source": [
    "a = [1,2,3]\n",
    "b = a\n",
    "c = [1,2,3]\n",
    "print(a == b, a == c, a is b, a is c)"
   ]
  },
  {
   "cell_type": "code",
   "execution_count": 7,
   "metadata": {},
   "outputs": [
    {
     "ename": "TypeError",
     "evalue": "can only concatenate list (not \"tuple\") to list",
     "output_type": "error",
     "traceback": [
      "\u001b[1;31m---------------------------------------------------------------------------\u001b[0m",
      "\u001b[1;31mTypeError\u001b[0m                                 Traceback (most recent call last)",
      "\u001b[1;32mc:\\Users\\anton\\source\\IDE\\test\\att1.ipynb Ячейка 9\u001b[0m in \u001b[0;36m<cell line: 3>\u001b[1;34m()\u001b[0m\n\u001b[0;32m      <a href='vscode-notebook-cell:/c%3A/Users/anton/source/IDE/test/att1.ipynb#X21sZmlsZQ%3D%3D?line=0'>1</a>\u001b[0m one \u001b[39m=\u001b[39m [\u001b[39m1\u001b[39m, \u001b[39m\"\u001b[39m\u001b[39m2\u001b[39m\u001b[39m\"\u001b[39m, \u001b[39m3\u001b[39m, \u001b[39m\"\u001b[39m\u001b[39m4\u001b[39m\u001b[39m\"\u001b[39m]\n\u001b[0;32m      <a href='vscode-notebook-cell:/c%3A/Users/anton/source/IDE/test/att1.ipynb#X21sZmlsZQ%3D%3D?line=1'>2</a>\u001b[0m two \u001b[39m=\u001b[39m (\u001b[39m\"\u001b[39m\u001b[39ma\u001b[39m\u001b[39m\"\u001b[39m, \u001b[39m\"\u001b[39m\u001b[39mb\u001b[39m\u001b[39m\"\u001b[39m, \u001b[39m\"\u001b[39m\u001b[39mc\u001b[39m\u001b[39m\"\u001b[39m, \u001b[39m\"\u001b[39m\u001b[39md\u001b[39m\u001b[39m\"\u001b[39m)\n\u001b[1;32m----> <a href='vscode-notebook-cell:/c%3A/Users/anton/source/IDE/test/att1.ipynb#X21sZmlsZQ%3D%3D?line=2'>3</a>\u001b[0m three \u001b[39m=\u001b[39m one \u001b[39m+\u001b[39;49m two\n",
      "\u001b[1;31mTypeError\u001b[0m: can only concatenate list (not \"tuple\") to list"
     ]
    }
   ],
   "source": [
    "one = [1, \"2\", 3, \"4\"]\n",
    "two = (\"a\", \"b\", \"c\", \"d\")\n",
    "three = one + two"
   ]
  }
 ],
 "metadata": {
  "kernelspec": {
   "display_name": "Python 3.10.4 64-bit",
   "language": "python",
   "name": "python3"
  },
  "language_info": {
   "codemirror_mode": {
    "name": "ipython",
    "version": 3
   },
   "file_extension": ".py",
   "mimetype": "text/x-python",
   "name": "python",
   "nbconvert_exporter": "python",
   "pygments_lexer": "ipython3",
   "version": "3.10.4"
  },
  "orig_nbformat": 4,
  "vscode": {
   "interpreter": {
    "hash": "4604fddfbe3ec3d9d385c207fa0ddb9a05dfef66380401ad05b04bbd42d45367"
   }
  }
 },
 "nbformat": 4,
 "nbformat_minor": 2
}
