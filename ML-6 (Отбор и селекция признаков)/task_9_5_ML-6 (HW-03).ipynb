{
 "cells": [
  {
   "attachments": {},
   "cell_type": "markdown",
   "metadata": {},
   "source": [
    "**ЗАДАНИЕ 9.5. МОДУЛЬ ML-6 (HW-03)**\n",
    "\n",
    "Обучите модель линейной регрессии на найденных двумя способами трёх важных признаках и сравните полученные результаты. "
   ]
  },
  {
   "attachments": {},
   "cell_type": "markdown",
   "metadata": {},
   "source": [
    "Найдем три важнейших признака методами RFE и SelectKBest:"
   ]
  },
  {
   "cell_type": "code",
   "execution_count": 2,
   "metadata": {},
   "outputs": [
    {
     "name": "stdout",
     "output_type": "stream",
     "text": [
      "RFE most important features:  ['year' 'cylinders' 'lat']\n",
      "SelectKBest most important features:  ['year' 'cylinders' 'odometer']\n"
     ]
    }
   ],
   "source": [
    "import pandas as pd\n",
    "from sklearn.model_selection import train_test_split\n",
    "from sklearn.linear_model import LinearRegression\n",
    "from sklearn.metrics import mean_absolute_error\n",
    "from sklearn.feature_selection import RFE\n",
    "from sklearn.feature_selection import SelectKBest, f_regression\n",
    "\n",
    "# прочитаем исходный датасет\n",
    "data = pd.read_excel('data/data_ford_price.xlsx') \n",
    "# оставим только числовые признаки\n",
    "data = data[['price','year', 'cylinders', 'odometer', 'lat', 'long', 'weather']]\n",
    "data.dropna(inplace = True)\n",
    "# выделим целевой признак\n",
    "y = data['price']\n",
    "x = data.drop(columns='price')\n",
    "# выделим тренировочную и тестовую выборки\n",
    "X_train, X_test, y_train, y_test = train_test_split(x, y, test_size=0.3, random_state=42)\n",
    "\n",
    "# найдем три важнейших признака методом RFE\n",
    "estimator = LinearRegression()\n",
    "selector1 = RFE(estimator, n_features_to_select=3, step=1)\n",
    "selector1 = selector1.fit(X_train, y_train)\n",
    "selector1.get_feature_names_out()\n",
    "\n",
    "# найдем три важнейших признака методом SelectKBest\n",
    "selector2 = SelectKBest(f_regression, k=3)\n",
    "selector2.fit(X_train, y_train)\n",
    "selector2.get_feature_names_out()\n",
    "\n",
    "print('RFE most important features: ', selector1.get_feature_names_out())\n",
    "print('SelectKBest most important features: ', selector2.get_feature_names_out())"
   ]
  },
  {
   "attachments": {},
   "cell_type": "markdown",
   "metadata": {},
   "source": [
    "Обучим линейную регрессию на трех важнейших признаках согласно RFE:"
   ]
  },
  {
   "cell_type": "code",
   "execution_count": 3,
   "metadata": {},
   "outputs": [
    {
     "name": "stdout",
     "output_type": "stream",
     "text": [
      "MAE: 5202.281\n"
     ]
    }
   ],
   "source": [
    "# прочитаем исходный датасет\n",
    "data = pd.read_excel('data/data_ford_price.xlsx') \n",
    "data.dropna(inplace = True)\n",
    "x = data[['year', 'cylinders', 'lat']]\n",
    "y = data['price']\n",
    "# выделим тренировочную и тестовую выборки\n",
    "X_train, X_test, y_train, y_test = train_test_split(x, y, test_size=0.3, random_state=42)\n",
    "# обучим линейную регрессию на трех важнейших признаках согласно RFE\n",
    "model = LinearRegression()\n",
    "model.fit(X_train, y_train)\n",
    "y_predicted = model.predict(X_test)\n",
    "# оценим качество модели на тестовой выборке\n",
    "mae = mean_absolute_error(y_test, y_predicted)\n",
    "print('MAE: %.3f' % mae)"
   ]
  },
  {
   "attachments": {},
   "cell_type": "markdown",
   "metadata": {},
   "source": [
    "Обучим линейную регрессию на трех важнейших признаках согласно SelectKBest:"
   ]
  },
  {
   "cell_type": "code",
   "execution_count": 4,
   "metadata": {},
   "outputs": [
    {
     "name": "stdout",
     "output_type": "stream",
     "text": [
      "MAE: 4671.703\n"
     ]
    }
   ],
   "source": [
    "# прочитаем исходный датасет\n",
    "data = pd.read_excel('data/data_ford_price.xlsx') \n",
    "data.dropna(inplace = True)\n",
    "x = data[['year', 'cylinders', 'odometer']]\n",
    "y = data['price']\n",
    "# выделим тренировочную и тестовую выборки\n",
    "X_train, X_test, y_train, y_test = train_test_split(x, y, test_size=0.3, random_state=42)\n",
    "# обучим линейную регрессию на трех важнейших признаках согласно SelectKBest\n",
    "model = LinearRegression()\n",
    "model.fit(X_train, y_train)\n",
    "y_predicted = model.predict(X_test)\n",
    "# оценим качество модели на тестовой выборке\n",
    "mae = mean_absolute_error(y_test, y_predicted)\n",
    "print('MAE: %.3f' % mae)"
   ]
  },
  {
   "attachments": {},
   "cell_type": "markdown",
   "metadata": {},
   "source": [
    "**Вывод:**  \n",
    "Таким образом, с учетом полученной величины средней абсолюютной ошибки (MAE), делаем вывод о том, что наилучший результат показал метод оценки: *выбор k лучших переменных (SelectKBest)*"
   ]
  }
 ],
 "metadata": {
  "kernelspec": {
   "display_name": "Python 3",
   "language": "python",
   "name": "python3"
  },
  "language_info": {
   "codemirror_mode": {
    "name": "ipython",
    "version": 3
   },
   "file_extension": ".py",
   "mimetype": "text/x-python",
   "name": "python",
   "nbconvert_exporter": "python",
   "pygments_lexer": "ipython3",
   "version": "3.10.5"
  },
  "orig_nbformat": 4,
  "vscode": {
   "interpreter": {
    "hash": "722ef51a401571ea5d31114c5f39d03026e92f336ebdc61df902fc724a2c7297"
   }
  }
 },
 "nbformat": 4,
 "nbformat_minor": 2
}
