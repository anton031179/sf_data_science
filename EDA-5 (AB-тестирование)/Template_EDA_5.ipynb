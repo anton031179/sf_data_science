{
 "cells": [
  {
   "cell_type": "markdown",
   "id": "c8a6af25-08d3-487a-bd90-001772ac9161",
   "metadata": {},
   "source": [
    "## <center> **Анализ результатов A/B-тестирования**"
   ]
  },
  {
   "cell_type": "markdown",
   "id": "d7d45571-6545-4904-a86b-9b3b6b8163d3",
   "metadata": {},
   "source": [
    "Компания планирует запустить новую акцию, чтобы продать как можно больше туров. Команда разработала два варианта посадочной страницы официального сайта компании и провела A/B-тестирование. Собранные в результате проведения эксперимента данные вы можете найти здесь.\n",
    "\n",
    "Вам предстоит решить настоящую бизнес-задачу: проанализировать эффективность обоих вариантов посадочной страницы сразу по двум критериям: конверсии покупки и среднему чеку. На основе проведенного анализа вам будет необходимо сделать выводы и принять решение: какой из вариантов дизайна более предпочтительный.\n",
    "\n",
    "Итак, наша фирма предлагает следующие варианты туров и их соответствующие стоимости:\n",
    "* Таиланд — 100000 рублей;\n",
    "* Турция — 60000 рублей;\n",
    "* Мальдивы — 200000 рублей;\n",
    "* Санкт-Петербург — 10000 рублей;\n",
    "* Камчатка — 150000 рублей."
   ]
  },
  {
   "cell_type": "code",
   "execution_count": 25,
   "id": "a974b482-e192-4014-8520-8a5c0c946da6",
   "metadata": {},
   "outputs": [],
   "source": [
    "import pandas as pd\n",
    "import matplotlib.pyplot as plt\n",
    "import seaborn as sns\n",
    "from scipy.stats import norm\n",
    "from scipy.stats import t\n",
    "from scipy.stats import ttest_ind, shapiro, f_oneway, mannwhitneyu\n",
    "from statsmodels.stats.proportion import proportions_ztest"
   ]
  },
  {
   "cell_type": "markdown",
   "id": "55c84550-4162-4325-acc2-7d3c0aafe6f0",
   "metadata": {},
   "source": [
    "Прочитаем наши данные и посмотрим на столбцы таблицы:"
   ]
  },
  {
   "cell_type": "code",
   "execution_count": 26,
   "id": "b0d18245-b9da-44bd-8aea-d272ea74b63a",
   "metadata": {},
   "outputs": [
    {
     "data": {
      "text/html": [
       "<div>\n",
       "<style scoped>\n",
       "    .dataframe tbody tr th:only-of-type {\n",
       "        vertical-align: middle;\n",
       "    }\n",
       "\n",
       "    .dataframe tbody tr th {\n",
       "        vertical-align: top;\n",
       "    }\n",
       "\n",
       "    .dataframe thead th {\n",
       "        text-align: right;\n",
       "    }\n",
       "</style>\n",
       "<table border=\"1\" class=\"dataframe\">\n",
       "  <thead>\n",
       "    <tr style=\"text-align: right;\">\n",
       "      <th></th>\n",
       "      <th>user_id</th>\n",
       "      <th>date</th>\n",
       "      <th>group</th>\n",
       "      <th>purchase</th>\n",
       "      <th>price</th>\n",
       "    </tr>\n",
       "  </thead>\n",
       "  <tbody>\n",
       "    <tr>\n",
       "      <th>0</th>\n",
       "      <td>851104</td>\n",
       "      <td>2021-01-21</td>\n",
       "      <td>A</td>\n",
       "      <td>0</td>\n",
       "      <td>0</td>\n",
       "    </tr>\n",
       "    <tr>\n",
       "      <th>1</th>\n",
       "      <td>804228</td>\n",
       "      <td>2021-01-12</td>\n",
       "      <td>A</td>\n",
       "      <td>0</td>\n",
       "      <td>0</td>\n",
       "    </tr>\n",
       "    <tr>\n",
       "      <th>2</th>\n",
       "      <td>661590</td>\n",
       "      <td>2021-01-11</td>\n",
       "      <td>B</td>\n",
       "      <td>0</td>\n",
       "      <td>0</td>\n",
       "    </tr>\n",
       "    <tr>\n",
       "      <th>3</th>\n",
       "      <td>853541</td>\n",
       "      <td>2021-01-08</td>\n",
       "      <td>B</td>\n",
       "      <td>0</td>\n",
       "      <td>0</td>\n",
       "    </tr>\n",
       "    <tr>\n",
       "      <th>4</th>\n",
       "      <td>864975</td>\n",
       "      <td>2021-01-21</td>\n",
       "      <td>A</td>\n",
       "      <td>1</td>\n",
       "      <td>150000</td>\n",
       "    </tr>\n",
       "  </tbody>\n",
       "</table>\n",
       "</div>"
      ],
      "text/plain": [
       "   user_id        date group  purchase   price\n",
       "0   851104  2021-01-21     A         0       0\n",
       "1   804228  2021-01-12     A         0       0\n",
       "2   661590  2021-01-11     B         0       0\n",
       "3   853541  2021-01-08     B         0       0\n",
       "4   864975  2021-01-21     A         1  150000"
      ]
     },
     "execution_count": 26,
     "metadata": {},
     "output_type": "execute_result"
    }
   ],
   "source": [
    "data = pd.read_csv('data/ab_data_tourist.csv')\n",
    "data.head()"
   ]
  },
  {
   "cell_type": "markdown",
   "id": "2fc48225-26ac-49c4-b99d-8b2a03dd74a1",
   "metadata": {
    "tags": []
   },
   "source": [
    "## **Задание 7.1.**\n",
    "\n",
    "Начнем с исследования структуры наших данных. С помощью метода info() выведите информацию о типах данных и количестве непустых значений. Какой тип данных имеет столбец date?"
   ]
  },
  {
   "cell_type": "code",
   "execution_count": 27,
   "id": "23496521-4878-46e2-ab02-1a98be14884a",
   "metadata": {},
   "outputs": [
    {
     "name": "stdout",
     "output_type": "stream",
     "text": [
      "<class 'pandas.core.frame.DataFrame'>\n",
      "RangeIndex: 294478 entries, 0 to 294477\n",
      "Data columns (total 5 columns):\n",
      " #   Column    Non-Null Count   Dtype \n",
      "---  ------    --------------   ----- \n",
      " 0   user_id   294478 non-null  int64 \n",
      " 1   date      294478 non-null  object\n",
      " 2   group     294478 non-null  object\n",
      " 3   purchase  294478 non-null  int64 \n",
      " 4   price     294478 non-null  int64 \n",
      "dtypes: int64(3), object(2)\n",
      "memory usage: 11.2+ MB\n"
     ]
    }
   ],
   "source": [
    "data.info()"
   ]
  },
  {
   "cell_type": "markdown",
   "id": "21b6a0bd",
   "metadata": {},
   "source": [
    "*Cтолбец date имеет тип данных object*"
   ]
  },
  {
   "cell_type": "markdown",
   "id": "946d017d-b4fe-4a17-b91d-0ce369d1ab2e",
   "metadata": {
    "tags": []
   },
   "source": [
    "## **Задание 7.2.**\n",
    "\n",
    "Приведите столбец date к типу данных datetime. Убедитесь в равной длительности проведения тестирования для каждой из группы. Для этого сгруппируйте данные по признаку группы и определите первую и последнюю дату наблюдения для каждой из групп. \n",
    "\n",
    "В какой промежуток времени проводился A/B-тест?\n"
   ]
  },
  {
   "cell_type": "code",
   "execution_count": 28,
   "id": "87b08501",
   "metadata": {},
   "outputs": [
    {
     "data": {
      "text/html": [
       "<div>\n",
       "<style scoped>\n",
       "    .dataframe tbody tr th:only-of-type {\n",
       "        vertical-align: middle;\n",
       "    }\n",
       "\n",
       "    .dataframe tbody tr th {\n",
       "        vertical-align: top;\n",
       "    }\n",
       "\n",
       "    .dataframe thead th {\n",
       "        text-align: right;\n",
       "    }\n",
       "</style>\n",
       "<table border=\"1\" class=\"dataframe\">\n",
       "  <thead>\n",
       "    <tr style=\"text-align: right;\">\n",
       "      <th></th>\n",
       "      <th>user_id</th>\n",
       "      <th>date</th>\n",
       "      <th>group</th>\n",
       "      <th>purchase</th>\n",
       "      <th>price</th>\n",
       "    </tr>\n",
       "  </thead>\n",
       "  <tbody>\n",
       "    <tr>\n",
       "      <th>0</th>\n",
       "      <td>851104</td>\n",
       "      <td>2021-01-21</td>\n",
       "      <td>A</td>\n",
       "      <td>0</td>\n",
       "      <td>0</td>\n",
       "    </tr>\n",
       "    <tr>\n",
       "      <th>1</th>\n",
       "      <td>804228</td>\n",
       "      <td>2021-01-12</td>\n",
       "      <td>A</td>\n",
       "      <td>0</td>\n",
       "      <td>0</td>\n",
       "    </tr>\n",
       "    <tr>\n",
       "      <th>2</th>\n",
       "      <td>661590</td>\n",
       "      <td>2021-01-11</td>\n",
       "      <td>B</td>\n",
       "      <td>0</td>\n",
       "      <td>0</td>\n",
       "    </tr>\n",
       "    <tr>\n",
       "      <th>3</th>\n",
       "      <td>853541</td>\n",
       "      <td>2021-01-08</td>\n",
       "      <td>B</td>\n",
       "      <td>0</td>\n",
       "      <td>0</td>\n",
       "    </tr>\n",
       "    <tr>\n",
       "      <th>4</th>\n",
       "      <td>864975</td>\n",
       "      <td>2021-01-21</td>\n",
       "      <td>A</td>\n",
       "      <td>1</td>\n",
       "      <td>150000</td>\n",
       "    </tr>\n",
       "  </tbody>\n",
       "</table>\n",
       "</div>"
      ],
      "text/plain": [
       "   user_id        date group  purchase   price\n",
       "0   851104  2021-01-21     A         0       0\n",
       "1   804228  2021-01-12     A         0       0\n",
       "2   661590  2021-01-11     B         0       0\n",
       "3   853541  2021-01-08     B         0       0\n",
       "4   864975  2021-01-21     A         1  150000"
      ]
     },
     "execution_count": 28,
     "metadata": {},
     "output_type": "execute_result"
    }
   ],
   "source": [
    "data.head()"
   ]
  },
  {
   "cell_type": "code",
   "execution_count": 29,
   "id": "604c619d-6338-45c8-8248-ac098a2366bb",
   "metadata": {},
   "outputs": [
    {
     "data": {
      "text/html": [
       "<div>\n",
       "<style scoped>\n",
       "    .dataframe tbody tr th:only-of-type {\n",
       "        vertical-align: middle;\n",
       "    }\n",
       "\n",
       "    .dataframe tbody tr th {\n",
       "        vertical-align: top;\n",
       "    }\n",
       "\n",
       "    .dataframe thead th {\n",
       "        text-align: right;\n",
       "    }\n",
       "</style>\n",
       "<table border=\"1\" class=\"dataframe\">\n",
       "  <thead>\n",
       "    <tr style=\"text-align: right;\">\n",
       "      <th></th>\n",
       "      <th>min</th>\n",
       "      <th>max</th>\n",
       "    </tr>\n",
       "    <tr>\n",
       "      <th>group</th>\n",
       "      <th></th>\n",
       "      <th></th>\n",
       "    </tr>\n",
       "  </thead>\n",
       "  <tbody>\n",
       "    <tr>\n",
       "      <th>A</th>\n",
       "      <td>2021-01-02</td>\n",
       "      <td>2021-01-24</td>\n",
       "    </tr>\n",
       "    <tr>\n",
       "      <th>B</th>\n",
       "      <td>2021-01-02</td>\n",
       "      <td>2021-01-24</td>\n",
       "    </tr>\n",
       "  </tbody>\n",
       "</table>\n",
       "</div>"
      ],
      "text/plain": [
       "             min        max\n",
       "group                      \n",
       "A     2021-01-02 2021-01-24\n",
       "B     2021-01-02 2021-01-24"
      ]
     },
     "execution_count": 29,
     "metadata": {},
     "output_type": "execute_result"
    }
   ],
   "source": [
    "data['date'] = pd.to_datetime(data['date'], format='%Y-%m-%d')\n",
    "data2= data.groupby('group')['date'].agg(['min', 'max'])\n",
    "data2.head()"
   ]
  },
  {
   "cell_type": "markdown",
   "id": "7cfc851d",
   "metadata": {},
   "source": [
    "*Тест проводился в период со 2 января 2021 г.  по 24 января 2021 г.*"
   ]
  },
  {
   "cell_type": "markdown",
   "id": "e04eb341-52ae-48b3-9dc2-0578ca91641a",
   "metadata": {},
   "source": [
    "## **Задание 7.3.**\n",
    "\n",
    "* Чему равно количество посещений сайта в группах А и B?\n",
    "\n",
    "* Чему равно суммарное количество покупок в группах А и B?\n",
    "\n",
    "* Чему равна сумма всех покупок в группах А и B? Ответ приведите в миллионах рублей. Например, 185.52 млн. руб."
   ]
  },
  {
   "cell_type": "code",
   "execution_count": 30,
   "id": "02bf0148-488e-4f34-95bf-37794b2fa98b",
   "metadata": {},
   "outputs": [
    {
     "data": {
      "text/html": [
       "<div>\n",
       "<style scoped>\n",
       "    .dataframe tbody tr th:only-of-type {\n",
       "        vertical-align: middle;\n",
       "    }\n",
       "\n",
       "    .dataframe tbody tr th {\n",
       "        vertical-align: top;\n",
       "    }\n",
       "\n",
       "    .dataframe thead th {\n",
       "        text-align: right;\n",
       "    }\n",
       "</style>\n",
       "<table border=\"1\" class=\"dataframe\">\n",
       "  <thead>\n",
       "    <tr style=\"text-align: right;\">\n",
       "      <th></th>\n",
       "      <th>group</th>\n",
       "      <th>user_id</th>\n",
       "      <th>purchase</th>\n",
       "      <th>price</th>\n",
       "    </tr>\n",
       "  </thead>\n",
       "  <tbody>\n",
       "    <tr>\n",
       "      <th>0</th>\n",
       "      <td>A</td>\n",
       "      <td>147202</td>\n",
       "      <td>17723</td>\n",
       "      <td>1436.26</td>\n",
       "    </tr>\n",
       "    <tr>\n",
       "      <th>1</th>\n",
       "      <td>B</td>\n",
       "      <td>147276</td>\n",
       "      <td>17514</td>\n",
       "      <td>1554.10</td>\n",
       "    </tr>\n",
       "  </tbody>\n",
       "</table>\n",
       "</div>"
      ],
      "text/plain": [
       "  group  user_id  purchase    price\n",
       "0     A   147202     17723  1436.26\n",
       "1     B   147276     17514  1554.10"
      ]
     },
     "execution_count": 30,
     "metadata": {},
     "output_type": "execute_result"
    }
   ],
   "source": [
    "# сгруппируем данные по значению группы\n",
    "data3 = data.groupby(['group']).agg({'user_id': 'count','purchase':'sum','price': 'sum'}).reset_index()\n",
    "data3['price']=data3['price']/1000000\n",
    "data3"
   ]
  },
  {
   "cell_type": "markdown",
   "id": "f94c7c3b",
   "metadata": {},
   "source": [
    "*Количество посещений сайта в группах А и В соответственно равно 147202 и 147276. суммарное количество покупок соответственно 17723 и 17514, сумма всех покупок соответственно 1436.26 млн.руб. и 1554.10 млн.руб.*"
   ]
  },
  {
   "cell_type": "markdown",
   "id": "2434db1b-17e6-4977-8e54-1df875c6f221",
   "metadata": {
    "tags": []
   },
   "source": [
    "## **Задание 7.4.**\n",
    "\n",
    "Проверьте, есть ли пользователи, которые в процессе A/B-теста попали в обе тестовые группы? Если да, то сколько таких уникальных пользователей, если нет - введите в поле для ответа 0?\n",
    "\n",
    "**Подсказка:**\n",
    "\n",
    "*Создайте множество пользователей группы А и множество пользователей группы B. Пересеките два этих множества (операция intersection) и вычислите количество элементов в полученном множестве.*\n"
   ]
  },
  {
   "cell_type": "code",
   "execution_count": 31,
   "id": "57a2d711-057d-4f8b-9f56-df0f772d41c8",
   "metadata": {},
   "outputs": [
    {
     "name": "stdout",
     "output_type": "stream",
     "text": [
      "146195 146284\n",
      "1895\n"
     ]
    }
   ],
   "source": [
    "a_set =set(data[data['group'] == 'A']['user_id'].unique())\n",
    "b_set =set(data[data['group'] == 'B']['user_id'].unique())\n",
    "print (len(a_set), len(b_set))\n",
    "user_intersection = a_set.intersection(b_set)\n",
    "print (len(user_intersection))\n"
   ]
  },
  {
   "cell_type": "markdown",
   "id": "118b1904-7d7a-4935-825e-535da45c611b",
   "metadata": {
    "tags": []
   },
   "source": [
    "## **Исключите пользователей, оказавшихся в обеих группах**\n",
    "\n",
    "Так как мы не можем определить, какая из версий сайта повлияла на принятие решения, исключим этих пользователей. Далее мы будем работать только с очищенными от пересечений данными.\n",
    "\n",
    "Возможный вариант исключения пользователей:"
   ]
  },
  {
   "cell_type": "code",
   "execution_count": 32,
   "id": "f618b34b-35a3-4bf1-8d6d-38b3401930b7",
   "metadata": {},
   "outputs": [
    {
     "name": "stdout",
     "output_type": "stream",
     "text": [
      "<class 'pandas.core.frame.DataFrame'>\n",
      "Int64Index: 290688 entries, 0 to 294477\n",
      "Data columns (total 5 columns):\n",
      " #   Column    Non-Null Count   Dtype         \n",
      "---  ------    --------------   -----         \n",
      " 0   user_id   290688 non-null  int64         \n",
      " 1   date      290688 non-null  datetime64[ns]\n",
      " 2   group     290688 non-null  object        \n",
      " 3   purchase  290688 non-null  int64         \n",
      " 4   price     290688 non-null  int64         \n",
      "dtypes: datetime64[ns](1), int64(3), object(1)\n",
      "memory usage: 13.3+ MB\n"
     ]
    }
   ],
   "source": [
    "updated_data = data[data['user_id'].apply(lambda x: x not in user_intersection)]\n",
    "updated_data.info() "
   ]
  },
  {
   "cell_type": "markdown",
   "id": "2bce6c9a-6580-4250-b280-204d40d20da2",
   "metadata": {},
   "source": [
    "Где user_intersection - множество пересечений пользователей групп А и B."
   ]
  },
  {
   "attachments": {
    "95f235d2-6323-4799-bf69-697fc57f727b.png": {
     "image/png": "[encoded data removed]"
    }
   },
   "cell_type": "markdown",
   "id": "2ddf6b2c-7987-41f3-82b1-8992630ae97b",
   "metadata": {
    "tags": []
   },
   "source": [
    "## **Задание 7.5.**\n",
    "\n",
    "Для первичного анализа результатов A/B-тестирования нам понадобится таблица следующего вида:\n",
    "\n",
    "![image.png](attachment:95f235d2-6323-4799-bf69-697fc57f727b.png)\n",
    " \n",
    " \n",
    "Для того, чтобы получить такую таблицу, сгруппируйте данные по признаку группы. В каждой группе рассчитайте следующие показатели:\n",
    "* количество посещений (количество пользователей)\n",
    "* количество совершенных покупок\n",
    "* сумма всех покупок в группе\n",
    "\n",
    "В полученной сгруппированной таблице переименуйте столбцы на **count_visits, count_purchases и sum_price**.\n",
    "\n",
    "**Подсказка:**\n",
    "\n",
    "*Для переименования столбцов можно использовать метод rename() с параметром columns, в который передается словарь. Ключи этого словаря - старые имена столбцов, а значения - новые.*\n",
    "\n",
    "Чему на этот раз равно количество посещений сайта в группах А и B?\n"
   ]
  },
  {
   "cell_type": "code",
   "execution_count": 33,
   "id": "5c0c018e-a250-48e9-b72a-e3c7be586ebd",
   "metadata": {},
   "outputs": [
    {
     "data": {
      "text/html": [
       "<div>\n",
       "<style scoped>\n",
       "    .dataframe tbody tr th:only-of-type {\n",
       "        vertical-align: middle;\n",
       "    }\n",
       "\n",
       "    .dataframe tbody tr th {\n",
       "        vertical-align: top;\n",
       "    }\n",
       "\n",
       "    .dataframe thead th {\n",
       "        text-align: right;\n",
       "    }\n",
       "</style>\n",
       "<table border=\"1\" class=\"dataframe\">\n",
       "  <thead>\n",
       "    <tr style=\"text-align: right;\">\n",
       "      <th></th>\n",
       "      <th>group</th>\n",
       "      <th>count_visits</th>\n",
       "      <th>count_purchases</th>\n",
       "      <th>sum_price</th>\n",
       "    </tr>\n",
       "  </thead>\n",
       "  <tbody>\n",
       "    <tr>\n",
       "      <th>0</th>\n",
       "      <td>A</td>\n",
       "      <td>145307</td>\n",
       "      <td>17487</td>\n",
       "      <td>1417780000</td>\n",
       "    </tr>\n",
       "    <tr>\n",
       "      <th>1</th>\n",
       "      <td>B</td>\n",
       "      <td>145381</td>\n",
       "      <td>17290</td>\n",
       "      <td>1533010000</td>\n",
       "    </tr>\n",
       "  </tbody>\n",
       "</table>\n",
       "</div>"
      ],
      "text/plain": [
       "  group  count_visits  count_purchases   sum_price\n",
       "0     A        145307            17487  1417780000\n",
       "1     B        145381            17290  1533010000"
      ]
     },
     "execution_count": 33,
     "metadata": {},
     "output_type": "execute_result"
    }
   ],
   "source": [
    "# получение сгруппированной таблицы с переименованием столбцов\n",
    "rename_col = {'user_id': 'count_visits', 'purchase': 'count_purchases', 'price': 'sum_price'}\n",
    "updated_data2 = updated_data.groupby('group').agg({\n",
    "    'user_id':'count',\n",
    "    'purchase':'sum',\n",
    "    'price':'sum'   \n",
    "}).reset_index().rename(columns=rename_col)\n",
    "updated_data2.head()"
   ]
  },
  {
   "cell_type": "markdown",
   "id": "b71e1390-9846-4a8e-b357-f82b847d1952",
   "metadata": {},
   "source": [
    "Приведите промежуточные выводы по построенной таблице. Сопоставимо ли количество посещений обоих вариантов посадочной странице, можно ли говорить о сбалансированности выборок?"
   ]
  },
  {
   "cell_type": "markdown",
   "id": "4ea1b65b-475e-4bff-9460-fac0acdb9620",
   "metadata": {},
   "source": [
    "*На этот раз количество посещений сайта в группах А и В соответственно равно 145307 и 145381. Таким образом количество посещений посадочной страница в обоих вариантах сопоставимо и можно говорить о сбалансированности выборок*"
   ]
  },
  {
   "cell_type": "markdown",
   "id": "afb2ee0a-31d1-45a5-be42-a2bf168b9448",
   "metadata": {
    "tags": []
   },
   "source": [
    "## **Задание 7.6.**\n",
    "\n",
    "Добавьте в сгруппированную таблицу столбцы conversion - конверсия покупки (отношение количества покупок к количеству посещений сайта в каждой группе, выраженное в процентах) и mean_check - средний чек (отношение суммы покупок к количеству покупок в каждой группе).\n",
    "\n",
    "* Чему равна конверсия в группах? Ответ приведите в процентах и округлите до сотых. Например, 75.12 %\n",
    "* Чему равен средний чек в группах? Ответ приведите в рублях и округлите до целых. Например, 120519 рублей."
   ]
  },
  {
   "cell_type": "code",
   "execution_count": 34,
   "id": "bd9c3b3e-5956-41a8-bae0-43693f6de1f2",
   "metadata": {},
   "outputs": [
    {
     "data": {
      "text/html": [
       "<div>\n",
       "<style scoped>\n",
       "    .dataframe tbody tr th:only-of-type {\n",
       "        vertical-align: middle;\n",
       "    }\n",
       "\n",
       "    .dataframe tbody tr th {\n",
       "        vertical-align: top;\n",
       "    }\n",
       "\n",
       "    .dataframe thead th {\n",
       "        text-align: right;\n",
       "    }\n",
       "</style>\n",
       "<table border=\"1\" class=\"dataframe\">\n",
       "  <thead>\n",
       "    <tr style=\"text-align: right;\">\n",
       "      <th></th>\n",
       "      <th>group</th>\n",
       "      <th>count_visits</th>\n",
       "      <th>count_purchases</th>\n",
       "      <th>sum_price</th>\n",
       "      <th>conversion</th>\n",
       "      <th>mean_check</th>\n",
       "    </tr>\n",
       "  </thead>\n",
       "  <tbody>\n",
       "    <tr>\n",
       "      <th>0</th>\n",
       "      <td>A</td>\n",
       "      <td>145307</td>\n",
       "      <td>17487</td>\n",
       "      <td>1417780000</td>\n",
       "      <td>12.03</td>\n",
       "      <td>81076.0</td>\n",
       "    </tr>\n",
       "    <tr>\n",
       "      <th>1</th>\n",
       "      <td>B</td>\n",
       "      <td>145381</td>\n",
       "      <td>17290</td>\n",
       "      <td>1533010000</td>\n",
       "      <td>11.89</td>\n",
       "      <td>88665.0</td>\n",
       "    </tr>\n",
       "  </tbody>\n",
       "</table>\n",
       "</div>"
      ],
      "text/plain": [
       "  group  count_visits  count_purchases   sum_price  conversion  mean_check\n",
       "0     A        145307            17487  1417780000       12.03     81076.0\n",
       "1     B        145381            17290  1533010000       11.89     88665.0"
      ]
     },
     "execution_count": 34,
     "metadata": {},
     "output_type": "execute_result"
    }
   ],
   "source": [
    "updated_data2['conversion'] = round(updated_data2['count_purchases'] / updated_data2['count_visits'] * 100, 2)\n",
    "updated_data2['mean_check'] = round(updated_data2['sum_price'] / updated_data2['count_purchases'])\n",
    "updated_data2"
   ]
  },
  {
   "cell_type": "markdown",
   "id": "1eb6e140-c702-43e0-b301-9914a7f49448",
   "metadata": {},
   "source": [
    "Приведите промежуточные выводы по таблице. По какому(им) показателю(ям) вариант А эффективнее варианта B и наоборот?"
   ]
  },
  {
   "cell_type": "markdown",
   "id": "9e88c883-84f9-44ec-accd-04d5d459b261",
   "metadata": {},
   "source": [
    "*Средняя конверсия в группе А составила 12.03%, а в группе В 11.89%. Таким образом по данному показателю вариант А эффективнее. При этом средний чек выше в группе В (88665 руб.)*"
   ]
  },
  {
   "cell_type": "markdown",
   "id": "7f9f1ae0-f12f-49b3-8b57-1c299c208c49",
   "metadata": {
    "tags": []
   },
   "source": [
    "## **Задание 7.7.**\n",
    "\n",
    "Теперь давайте сравним варианты по покупательской способности туров. Для этого постройте сводную таблицу, которая покажет зависимость количества продаж от группы и цены тура. "
   ]
  },
  {
   "cell_type": "code",
   "execution_count": 35,
   "id": "78d46a02-cc30-4783-9b18-9fc9c6a08012",
   "metadata": {},
   "outputs": [
    {
     "data": {
      "text/html": [
       "<div>\n",
       "<style scoped>\n",
       "    .dataframe tbody tr th:only-of-type {\n",
       "        vertical-align: middle;\n",
       "    }\n",
       "\n",
       "    .dataframe tbody tr th {\n",
       "        vertical-align: top;\n",
       "    }\n",
       "\n",
       "    .dataframe thead th {\n",
       "        text-align: right;\n",
       "    }\n",
       "</style>\n",
       "<table border=\"1\" class=\"dataframe\">\n",
       "  <thead>\n",
       "    <tr style=\"text-align: right;\">\n",
       "      <th>group</th>\n",
       "      <th>A</th>\n",
       "      <th>B</th>\n",
       "    </tr>\n",
       "    <tr>\n",
       "      <th>price</th>\n",
       "      <th></th>\n",
       "      <th></th>\n",
       "    </tr>\n",
       "  </thead>\n",
       "  <tbody>\n",
       "    <tr>\n",
       "      <th>0</th>\n",
       "      <td>127820</td>\n",
       "      <td>128091</td>\n",
       "    </tr>\n",
       "    <tr>\n",
       "      <th>10000</th>\n",
       "      <td>5182</td>\n",
       "      <td>5201</td>\n",
       "    </tr>\n",
       "    <tr>\n",
       "      <th>60000</th>\n",
       "      <td>5271</td>\n",
       "      <td>1730</td>\n",
       "    </tr>\n",
       "    <tr>\n",
       "      <th>100000</th>\n",
       "      <td>1832</td>\n",
       "      <td>5227</td>\n",
       "    </tr>\n",
       "    <tr>\n",
       "      <th>150000</th>\n",
       "      <td>3478</td>\n",
       "      <td>3438</td>\n",
       "    </tr>\n",
       "    <tr>\n",
       "      <th>200000</th>\n",
       "      <td>1724</td>\n",
       "      <td>1694</td>\n",
       "    </tr>\n",
       "  </tbody>\n",
       "</table>\n",
       "</div>"
      ],
      "text/plain": [
       "group        A       B\n",
       "price                 \n",
       "0       127820  128091\n",
       "10000     5182    5201\n",
       "60000     5271    1730\n",
       "100000    1832    5227\n",
       "150000    3478    3438\n",
       "200000    1724    1694"
      ]
     },
     "metadata": {},
     "output_type": "display_data"
    }
   ],
   "source": [
    "# формирование сводной таблицы\n",
    "pivot = updated_data.pivot_table(\n",
    "    values='purchase',\n",
    "    index='price',\n",
    "    columns='group',\n",
    "    aggfunc='count',\n",
    ")\n",
    "display(pivot)"
   ]
  },
  {
   "cell_type": "markdown",
   "id": "977423ed-8f8d-475c-b773-621edd95338d",
   "metadata": {},
   "source": [
    "Визуализируйте полученную сводную таблицу с помощью тепловой карты с аннотацией. \n",
    "Чему равно количество проданных туров за 60000 рублей в группах?"
   ]
  },
  {
   "cell_type": "code",
   "execution_count": 36,
   "id": "f634fa8d-585c-42e3-b7d5-78e8d9eaa8c5",
   "metadata": {},
   "outputs": [
    {
     "data": {
      "text/plain": [
       "<AxesSubplot:xlabel='group', ylabel='price'>"
      ]
     },
     "execution_count": 36,
     "metadata": {},
     "output_type": "execute_result"
    },
    {
     "data": {
      "image/png": "[encoded data removed]",
      "text/plain": [
       "<Figure size 720x432 with 2 Axes>"
      ]
     },
     "metadata": {
      "needs_background": "light"
     },
     "output_type": "display_data"
    }
   ],
   "source": [
    "# Построение тепловой карты\n",
    "fig = plt.subplots(figsize=(10,6))\n",
    "sns.heatmap(pivot, annot=True, vmin=0, vmax=200000, center=100000, cmap='coolwarm', linewidth=1, linecolor='black', fmt='1g')"
   ]
  },
  {
   "cell_type": "markdown",
   "id": "9caa92ca-e261-4b8f-a16c-2abc322c9ffb",
   "metadata": {},
   "source": [
    "Сделайте выводы по построенной таблице. По каким турам покупательская способность участников группы А выше, чем участников группы B и наоборот?"
   ]
  },
  {
   "cell_type": "markdown",
   "id": "6d13fd45-e3df-468f-9d32-1fc45d38b10c",
   "metadata": {},
   "source": [
    "*Покупательская способность участников группы А выше по турам стоимостью 60000, 150000, 200000 руб.; соответственно покупательская способность участников группы В выше для туров стоимостью 10000, 100000 руб.*"
   ]
  },
  {
   "cell_type": "markdown",
   "id": "8f021fb4-d0f6-4e43-b518-1a96c07a4531",
   "metadata": {
    "tags": []
   },
   "source": [
    "## **Задание 7.8.**\n",
    "\n",
    "Настало время поговорить о стабилизации кумулятивных метрик во времени. Но прежде, чем перейти к кумулятивным метрикам, нам необходимо построить таблицу с ежедневными данными результатов проведения A/B-тестирования.\n",
    "\n",
    "Сгруппируйте данные по дате и группе тестирования. В каждой группе вычислите количество посещений страницы, количество покупок и сумму покупок. \n",
    "\n",
    "Добавьте в таблицу информацию о ежедневной конверсии (ежедневное количество покупок / ежедневное количество посещений) в группе и ежедневном среднем чеке (ежедневная сумма покупок / ежедневное количество покупок)\n",
    "* Чему равна конверсия 3 января 2021 года? Ответ приведите в процентах и округлите до сотых.\n",
    "\n",
    "* Чему равен средний чек 3 января 2021 года? Ответ приведите в рублях и округлите до целого."
   ]
  },
  {
   "cell_type": "code",
   "execution_count": 37,
   "id": "4503b528-412e-433a-bc03-da7da52fa1a3",
   "metadata": {},
   "outputs": [
    {
     "data": {
      "text/html": [
       "<div>\n",
       "<style scoped>\n",
       "    .dataframe tbody tr th:only-of-type {\n",
       "        vertical-align: middle;\n",
       "    }\n",
       "\n",
       "    .dataframe tbody tr th {\n",
       "        vertical-align: top;\n",
       "    }\n",
       "\n",
       "    .dataframe thead th {\n",
       "        text-align: right;\n",
       "    }\n",
       "</style>\n",
       "<table border=\"1\" class=\"dataframe\">\n",
       "  <thead>\n",
       "    <tr style=\"text-align: right;\">\n",
       "      <th></th>\n",
       "      <th>date</th>\n",
       "      <th>group</th>\n",
       "      <th>user_id</th>\n",
       "      <th>purchase</th>\n",
       "      <th>price</th>\n",
       "      <th>conversion</th>\n",
       "      <th>mean_check</th>\n",
       "    </tr>\n",
       "  </thead>\n",
       "  <tbody>\n",
       "    <tr>\n",
       "      <th>0</th>\n",
       "      <td>2021-01-02</td>\n",
       "      <td>A</td>\n",
       "      <td>2854</td>\n",
       "      <td>359</td>\n",
       "      <td>29410000</td>\n",
       "      <td>12.58</td>\n",
       "      <td>81922.0</td>\n",
       "    </tr>\n",
       "    <tr>\n",
       "      <th>1</th>\n",
       "      <td>2021-01-02</td>\n",
       "      <td>B</td>\n",
       "      <td>2861</td>\n",
       "      <td>345</td>\n",
       "      <td>29660000</td>\n",
       "      <td>12.06</td>\n",
       "      <td>85971.0</td>\n",
       "    </tr>\n",
       "    <tr>\n",
       "      <th>2</th>\n",
       "      <td>2021-01-03</td>\n",
       "      <td>A</td>\n",
       "      <td>6596</td>\n",
       "      <td>748</td>\n",
       "      <td>62000000</td>\n",
       "      <td>11.34</td>\n",
       "      <td>82888.0</td>\n",
       "    </tr>\n",
       "    <tr>\n",
       "      <th>3</th>\n",
       "      <td>2021-01-03</td>\n",
       "      <td>B</td>\n",
       "      <td>6619</td>\n",
       "      <td>754</td>\n",
       "      <td>65960000</td>\n",
       "      <td>11.39</td>\n",
       "      <td>87480.0</td>\n",
       "    </tr>\n",
       "    <tr>\n",
       "      <th>4</th>\n",
       "      <td>2021-01-04</td>\n",
       "      <td>A</td>\n",
       "      <td>6566</td>\n",
       "      <td>799</td>\n",
       "      <td>64250000</td>\n",
       "      <td>12.17</td>\n",
       "      <td>80413.0</td>\n",
       "    </tr>\n",
       "  </tbody>\n",
       "</table>\n",
       "</div>"
      ],
      "text/plain": [
       "        date group  user_id  purchase     price  conversion  mean_check\n",
       "0 2021-01-02     A     2854       359  29410000       12.58     81922.0\n",
       "1 2021-01-02     B     2861       345  29660000       12.06     85971.0\n",
       "2 2021-01-03     A     6596       748  62000000       11.34     82888.0\n",
       "3 2021-01-03     B     6619       754  65960000       11.39     87480.0\n",
       "4 2021-01-04     A     6566       799  64250000       12.17     80413.0"
      ]
     },
     "execution_count": 37,
     "metadata": {},
     "output_type": "execute_result"
    }
   ],
   "source": [
    "updated_data3 = updated_data.groupby(['date','group']).agg({\n",
    "    'user_id': 'count',\n",
    "    'purchase':'sum',\n",
    "    'price': 'sum'\n",
    "}).reset_index()\n",
    "\n",
    "updated_data3['conversion'] = round(updated_data3['purchase'] / updated_data3['user_id'] * 100, 2)\n",
    "updated_data3['mean_check'] = round(updated_data3['price'] / updated_data3['purchase'])\n",
    "\n",
    "updated_data3.head()"
   ]
  },
  {
   "cell_type": "code",
   "execution_count": 38,
   "id": "03f33284",
   "metadata": {},
   "outputs": [
    {
     "name": "stdout",
     "output_type": "stream",
     "text": [
      "2    11.34\n",
      "Name: conversion, dtype: float64\n",
      "3    11.39\n",
      "Name: conversion, dtype: float64\n",
      "2    82888.0\n",
      "Name: mean_check, dtype: float64\n",
      "3    87480.0\n",
      "Name: mean_check, dtype: float64\n"
     ]
    }
   ],
   "source": [
    "print(updated_data3.loc[(updated_data3['date']=='2021-01-03' ) & (updated_data3['group']=='A'), 'conversion'])\n",
    "print(updated_data3.loc[(updated_data3['date']=='2021-01-03' ) & (updated_data3['group']=='B'), 'conversion'])\n",
    "print(updated_data3.loc[(updated_data3['date']=='2021-01-03' ) & (updated_data3['group']=='A'), 'mean_check'])\n",
    "print(updated_data3.loc[(updated_data3['date']=='2021-01-03' ) & (updated_data3['group']=='B'), 'mean_check'])"
   ]
  },
  {
   "cell_type": "markdown",
   "id": "129a522c",
   "metadata": {},
   "source": [
    "*По итогам расчета ежедневных данных получкены следующие результаты:   \n",
    "конверсия 3 января 2021 года составила: в группе А - 11.34%, в группе В - 11.39%,    \n",
    "средний чек 3 января 2021 года составил: в группе А - 82888 руб., в группе В - 87480 руб.*"
   ]
  },
  {
   "cell_type": "markdown",
   "id": "bc8e241b-1ef1-4f67-ab90-77251889b7f2",
   "metadata": {},
   "source": [
    "## **Задание 7.9.** \n",
    "\n",
    "Добавьте в таблицу с ежедневными показателями кумулятивные признаки:\n",
    "* кумулятивное количество посещений страницы\n",
    "* кумулятивное количество покупок\n",
    "* кумулятивную сумму покупок\n",
    "\n",
    "Не забудьте при расчете кумулятивной суммы сгруппировать данные по группам. \n",
    "\n",
    "Вычислите кумулятивную конверсию и кумулятивный средний чек на основе полученных кумулятивных показателей. \n",
    "\n",
    "* Какая **кумулятивная** конверсия была в группе B на 20 января? Ответ приведите в процентах, округлив до сотых.\n",
    "* Какой **кумулятивный** средний чек был в группе А на 12 января 2021 года? Ответ приведите в рублях, округлив до целых."
   ]
  },
  {
   "cell_type": "code",
   "execution_count": 39,
   "id": "afe59f9a-8d39-45c1-a14f-9f62091d81a1",
   "metadata": {},
   "outputs": [
    {
     "name": "stdout",
     "output_type": "stream",
     "text": [
      "37    11.9\n",
      "Name: cum_conversion, dtype: float64\n",
      "20    81492.0\n",
      "Name: cum_check, dtype: float64\n"
     ]
    },
    {
     "data": {
      "text/html": [
       "<div>\n",
       "<style scoped>\n",
       "    .dataframe tbody tr th:only-of-type {\n",
       "        vertical-align: middle;\n",
       "    }\n",
       "\n",
       "    .dataframe tbody tr th {\n",
       "        vertical-align: top;\n",
       "    }\n",
       "\n",
       "    .dataframe thead th {\n",
       "        text-align: right;\n",
       "    }\n",
       "</style>\n",
       "<table border=\"1\" class=\"dataframe\">\n",
       "  <thead>\n",
       "    <tr style=\"text-align: right;\">\n",
       "      <th></th>\n",
       "      <th>date</th>\n",
       "      <th>group</th>\n",
       "      <th>user_id</th>\n",
       "      <th>purchase</th>\n",
       "      <th>price</th>\n",
       "      <th>conversion</th>\n",
       "      <th>mean_check</th>\n",
       "      <th>cum_users_count</th>\n",
       "      <th>cum_purchase</th>\n",
       "      <th>cum_price</th>\n",
       "      <th>cum_conversion</th>\n",
       "      <th>cum_check</th>\n",
       "    </tr>\n",
       "  </thead>\n",
       "  <tbody>\n",
       "    <tr>\n",
       "      <th>0</th>\n",
       "      <td>2021-01-02</td>\n",
       "      <td>A</td>\n",
       "      <td>2854</td>\n",
       "      <td>359</td>\n",
       "      <td>29410000</td>\n",
       "      <td>12.58</td>\n",
       "      <td>81922.0</td>\n",
       "      <td>2854</td>\n",
       "      <td>359</td>\n",
       "      <td>29410000</td>\n",
       "      <td>12.578837</td>\n",
       "      <td>81922.005571</td>\n",
       "    </tr>\n",
       "    <tr>\n",
       "      <th>1</th>\n",
       "      <td>2021-01-02</td>\n",
       "      <td>B</td>\n",
       "      <td>2861</td>\n",
       "      <td>345</td>\n",
       "      <td>29660000</td>\n",
       "      <td>12.06</td>\n",
       "      <td>85971.0</td>\n",
       "      <td>2861</td>\n",
       "      <td>345</td>\n",
       "      <td>29660000</td>\n",
       "      <td>12.058721</td>\n",
       "      <td>85971.014493</td>\n",
       "    </tr>\n",
       "    <tr>\n",
       "      <th>2</th>\n",
       "      <td>2021-01-03</td>\n",
       "      <td>A</td>\n",
       "      <td>6596</td>\n",
       "      <td>748</td>\n",
       "      <td>62000000</td>\n",
       "      <td>11.34</td>\n",
       "      <td>82888.0</td>\n",
       "      <td>9450</td>\n",
       "      <td>1107</td>\n",
       "      <td>91410000</td>\n",
       "      <td>11.714286</td>\n",
       "      <td>82574.525745</td>\n",
       "    </tr>\n",
       "    <tr>\n",
       "      <th>3</th>\n",
       "      <td>2021-01-03</td>\n",
       "      <td>B</td>\n",
       "      <td>6619</td>\n",
       "      <td>754</td>\n",
       "      <td>65960000</td>\n",
       "      <td>11.39</td>\n",
       "      <td>87480.0</td>\n",
       "      <td>9480</td>\n",
       "      <td>1099</td>\n",
       "      <td>95620000</td>\n",
       "      <td>11.592827</td>\n",
       "      <td>87006.369427</td>\n",
       "    </tr>\n",
       "    <tr>\n",
       "      <th>4</th>\n",
       "      <td>2021-01-04</td>\n",
       "      <td>A</td>\n",
       "      <td>6566</td>\n",
       "      <td>799</td>\n",
       "      <td>64250000</td>\n",
       "      <td>12.17</td>\n",
       "      <td>80413.0</td>\n",
       "      <td>16016</td>\n",
       "      <td>1906</td>\n",
       "      <td>155660000</td>\n",
       "      <td>11.900599</td>\n",
       "      <td>81668.415530</td>\n",
       "    </tr>\n",
       "  </tbody>\n",
       "</table>\n",
       "</div>"
      ],
      "text/plain": [
       "        date group  user_id  purchase     price  conversion  mean_check  \\\n",
       "0 2021-01-02     A     2854       359  29410000       12.58     81922.0   \n",
       "1 2021-01-02     B     2861       345  29660000       12.06     85971.0   \n",
       "2 2021-01-03     A     6596       748  62000000       11.34     82888.0   \n",
       "3 2021-01-03     B     6619       754  65960000       11.39     87480.0   \n",
       "4 2021-01-04     A     6566       799  64250000       12.17     80413.0   \n",
       "\n",
       "   cum_users_count  cum_purchase  cum_price  cum_conversion     cum_check  \n",
       "0             2854           359   29410000       12.578837  81922.005571  \n",
       "1             2861           345   29660000       12.058721  85971.014493  \n",
       "2             9450          1107   91410000       11.714286  82574.525745  \n",
       "3             9480          1099   95620000       11.592827  87006.369427  \n",
       "4            16016          1906  155660000       11.900599  81668.415530  "
      ]
     },
     "execution_count": 39,
     "metadata": {},
     "output_type": "execute_result"
    }
   ],
   "source": [
    "# вычисляем кумулятивные суммы:\n",
    "updated_data3['cum_users_count'] = updated_data3.groupby(['group'])['user_id'].cumsum()\n",
    "updated_data3['cum_purchase'] = updated_data3.groupby(['group'])['purchase'].cumsum()\n",
    "updated_data3['cum_price'] = updated_data3.groupby(['group'])['price'].cumsum()\n",
    "\n",
    "# вычисляем кумулятивную конверсию\n",
    "updated_data3['cum_conversion'] = updated_data3['cum_purchase']/updated_data3['cum_users_count'] * 100\n",
    "\n",
    "# вычисляем кумулятивный средний чек\n",
    "updated_data3['cum_check'] = updated_data3['cum_price']/updated_data3['cum_purchase']\n",
    "\n",
    "# вычисляем кумулятивную конверсию в группе В 20.01.2021 и кумулятивный средний чек в группе А 12.01.2021\n",
    "print(round(updated_data3.loc[(updated_data3['date']=='2021-01-20' ) & (updated_data3['group']=='B'), 'cum_conversion'], 2))\n",
    "print(round(updated_data3.loc[(updated_data3['date']=='2021-01-12' ) & (updated_data3['group']=='A'), 'cum_check']))\n",
    "\n",
    "updated_data3.head()\n"
   ]
  },
  {
   "cell_type": "markdown",
   "id": "c252b8ba-371b-4795-8fc3-a62317e9ba39",
   "metadata": {},
   "source": [
    "Постройте кумулятивные графики конверсии и среднего чека в каждой группе по дням. Сделайте выводы. Можно ли назвать A/B-тест завершенным - стабилизировались ли значения метрик во времени? Как соотносятся кумулятивные показатели в каждой группе?"
   ]
  },
  {
   "cell_type": "code",
   "execution_count": 40,
   "id": "27e23d20-7ed6-4a26-973d-6d0320b81adb",
   "metadata": {},
   "outputs": [
    {
     "data": {
      "image/png": "[encoded data removed]",
      "text/plain": [
       "<Figure size 576x288 with 1 Axes>"
      ]
     },
     "metadata": {
      "needs_background": "light"
     },
     "output_type": "display_data"
    }
   ],
   "source": [
    "# создаём фигуру размером 8x4\n",
    "fig = plt.figure(figsize=(8, 4))\n",
    "# добавляем систему координат\n",
    "ax = fig.add_axes([1, 1, 1, 1])\n",
    "# строим lineplot для кумулятивной конверсии во времени в каждой группе\n",
    "sns.lineplot(x='date', y='cum_conversion', data=updated_data3, hue='group', ax=ax)\n",
    "# задаём подпись к графику\n",
    "ax.set_title('График кумулятивной конверсии по дням')\n",
    "# задаём поворот меток на оси абсцисс\n",
    "ax.xaxis.set_tick_params(rotation = 45)\n",
    "# задаём отображение сетки\n",
    "ax.grid(True);"
   ]
  },
  {
   "cell_type": "markdown",
   "id": "f645f8e5-ad16-4b3b-8228-fbdeeb286833",
   "metadata": {},
   "source": [
    "*Полученный график кумулятивный конверсий по дням указывает на то, что значения м етрик во времени стабилизировались и A/B-тест можно завершенным. При этом значения кумулятивной конверсии для группы А после стабилизации выше аналогичного показателя группы В.*"
   ]
  },
  {
   "cell_type": "markdown",
   "id": "2ecaa382-56e2-47f4-b086-24b4742570a3",
   "metadata": {
    "tags": []
   },
   "source": [
    "## **Задание 7.10.**\n",
    "\n",
    "Настало время переходить к проверке статистической значимости разницы между метриками в группах. Начнем с конверсии.\n",
    "\n",
    "Какой тест вы примените для проверки гипотезы о равенстве конверсий в группах?\n",
    "\n",
    "Проведите тестирование при следующих нулевой и альтернативной гипотезе:\n",
    "* $H_0$: Конверсии в группах А и B равны; \n",
    "* $H_1$: Конверсия в группе А больше чем конверсия в группе B;\n",
    "\n",
    "Вычислите p-value вашего теста для конверсий в группах А и B. Сравните полученное значение p-value с уровнем значимости $\\alpha$=0.05. "
   ]
  },
  {
   "cell_type": "code",
   "execution_count": 41,
   "id": "9dd1f6fd-2fa0-4a2f-8181-dbed4c302bce",
   "metadata": {},
   "outputs": [
    {
     "data": {
      "text/html": [
       "<div>\n",
       "<style scoped>\n",
       "    .dataframe tbody tr th:only-of-type {\n",
       "        vertical-align: middle;\n",
       "    }\n",
       "\n",
       "    .dataframe tbody tr th {\n",
       "        vertical-align: top;\n",
       "    }\n",
       "\n",
       "    .dataframe thead th {\n",
       "        text-align: right;\n",
       "    }\n",
       "</style>\n",
       "<table border=\"1\" class=\"dataframe\">\n",
       "  <thead>\n",
       "    <tr style=\"text-align: right;\">\n",
       "      <th></th>\n",
       "      <th>group</th>\n",
       "      <th>user_id</th>\n",
       "      <th>purchase</th>\n",
       "    </tr>\n",
       "  </thead>\n",
       "  <tbody>\n",
       "    <tr>\n",
       "      <th>0</th>\n",
       "      <td>A</td>\n",
       "      <td>145307</td>\n",
       "      <td>17487</td>\n",
       "    </tr>\n",
       "    <tr>\n",
       "      <th>1</th>\n",
       "      <td>B</td>\n",
       "      <td>145381</td>\n",
       "      <td>17290</td>\n",
       "    </tr>\n",
       "  </tbody>\n",
       "</table>\n",
       "</div>"
      ],
      "text/plain": [
       "  group  user_id  purchase\n",
       "0     A   145307     17487\n",
       "1     B   145381     17290"
      ]
     },
     "metadata": {},
     "output_type": "display_data"
    },
    {
     "name": "stdout",
     "output_type": "stream",
     "text": [
      "p-value:  0.12\n",
      "Принимаем нулевую гипотезу. Конверсии в группах А и B равны\n"
     ]
    }
   ],
   "source": [
    "from statsmodels.stats.proportion import proportions_ztest\n",
    "# сгруппируем данные по признаку группы и рассчитаем количество «успехов» (сумма по столбцу purchase) \n",
    "# и общее количество наблюдений (количество значений в столбце user_id для каждой группы.\n",
    "updated_data4 = updated_data.groupby('group').agg({\n",
    "    'user_id': 'count',\n",
    "    'purchase':'sum'\n",
    "}).reset_index()\n",
    "\n",
    "display(updated_data4)\n",
    "\n",
    "# нулевая и альтернативная гипотезы\n",
    "H0 = 'Конверсии в группах А и B равны'\n",
    "H1 = 'Конверсия в группе А выше, чем конверсия в группе B'\n",
    "alpha = 0.05 # уровень значимости\n",
    "# вычисляем значение p-value для z-теста для пропорций\n",
    "_, p_value = proportions_ztest(\n",
    "    count=updated_data4 ['purchase'], #число \"успехов\"\n",
    "    nobs=updated_data4 ['user_id'], #общее число наблюдений\n",
    "    alternative='larger',\n",
    ")\n",
    "# выводим результат на экран\n",
    "print('p-value: ', round(p_value, 2))\n",
    "# сравниваем полученное p-value с уровнем значимости\n",
    "if (p_value < alpha): \n",
    "    print(\"Отвергаем нулевую гипотезу. {}\".format(H0))\n",
    "    print(\"Альтернативная гипотеза. H1: {}\".format(H1))\n",
    "else:\n",
    "    print(\"Принимаем нулевую гипотезу. {}\".format(H0))"
   ]
  },
  {
   "cell_type": "markdown",
   "id": "da794b48-80e3-47af-aceb-084a1862c86b",
   "metadata": {},
   "source": [
    "Приведите свои выводы по результатам проведенного статистического теста. Есть ли статистическая разница между конверсиями в группах А и B?"
   ]
  },
  {
   "cell_type": "markdown",
   "id": "75dddb06-389d-4d65-92c7-425efa28e51a",
   "metadata": {},
   "source": [
    "*Результаты проведенного теста показали, что статистическая разница между конверсиями в группах А и В отсутствует.*"
   ]
  },
  {
   "cell_type": "markdown",
   "id": "32c5a1af-8cb2-4f3c-a126-410b70fb3ff3",
   "metadata": {
    "tags": []
   },
   "source": [
    "## **Задание 7.11.**\n",
    "Убедитесь в своих рассуждениях, построив 95%-ый доверительный интервал для конверсий и разницы между ними. Используйте $z_{крит}$ в своих расчетах\n",
    "\n",
    "Укажите нижнюю и верхнюю границы доверительных интервалов. Границы приведите в процентах и округлите до 2 знака после запятой. Например: нижняя граница 89.24%, верхняя граница 91.25%."
   ]
  },
  {
   "cell_type": "code",
   "execution_count": 42,
   "id": "abb2e6af",
   "metadata": {},
   "outputs": [
    {
     "name": "stdout",
     "output_type": "stream",
     "text": [
      "Доверительный интервал для конверсии группы А: (11.87, 12.2)\n",
      "Доверительный интервал для конверсии группы B: (11.73, 12.06)\n"
     ]
    }
   ],
   "source": [
    "# построим доверительные интервалы конверсиий в группах\n",
    "# фильтруем данные группы А\n",
    "a_data = updated_data[updated_data['group'] == 'A']\n",
    "# фильтруем данные группы B\n",
    "b_data = updated_data[updated_data['group'] == 'B']\n",
    "\n",
    "#  объявим функцию proportions_conf_interval(), которая будет возвращать границы доверительного интервала\n",
    "def proportions_conf_interval(n, x_p, gamma=0.95):   \n",
    "    alpha = 1 - gamma # уровень значимости\n",
    "    z_crit = -norm.ppf(alpha/2) # z критическое\n",
    "    eps = z_crit * (x_p * (1 - x_p) / n) ** 0.5 #погрешность\n",
    "    lower_bound = x_p - eps # левая (нижняя) граница\n",
    "    upper_bound = x_p + eps # правая (верхняя) граница\n",
    "    # возвращаем кортеж из округлённых границ интервала\n",
    "    return round(lower_bound * 100, 2), round(upper_bound * 100, 2)\n",
    "\n",
    "# Теперь применим нашу функцию к данным группы А и группы B:\n",
    "conf_interval_a = proportions_conf_interval(\n",
    "n=a_data['user_id'].count(), # размер выборки\n",
    "x_p=a_data['purchase'].mean() # выборочная пропорция\n",
    ")\n",
    "conf_interval_b = proportions_conf_interval(\n",
    "n=b_data['user_id'].count(), # размер выборки\n",
    "x_p=b_data['purchase'].mean() # выборочная пропорция\n",
    ")\n",
    "print('Доверительный интервал для конверсии группы А: {}'.format(conf_interval_a))\n",
    "print('Доверительный интервал для конверсии группы B: {}'.format(conf_interval_b))\n"
   ]
  },
  {
   "cell_type": "code",
   "execution_count": 43,
   "id": "407de092",
   "metadata": {},
   "outputs": [
    {
     "name": "stdout",
     "output_type": "stream",
     "text": [
      "Доверительный интервал для разности конверсий: (-0.38, 0.09)\n"
     ]
    }
   ],
   "source": [
    "# построим доверительный интервал для разницы конверсий в группах\n",
    "def diff_proportions_conf_interval(n, xp, gamma=0.95):\n",
    "    alpha = 1 - gamma # уровень значимости\n",
    "    diff = xp[1] - xp[0] # выборочная разница конверсий групп B и A\n",
    "    z_crit = -norm.ppf(alpha/2) # z критическое\n",
    "    eps = z_crit * (xp[0] * (1 - xp[0])/n[0] + xp[1] * (1 - xp[1])/n[1]) ** 0.5 # погрешность\n",
    "    lower_bound = diff - eps # левая (нижняя) граница\n",
    "    upper_bound = diff + eps # правая (верхняя) граница\n",
    "    # возвращаем кортеж из округлённых границ интервала\n",
    "    return round(lower_bound *100, 2), round(upper_bound * 100, 2)\n",
    "\n",
    "\n",
    "# размеры выборок групп А и B\n",
    "n = [a_data['user_id'].count(), b_data['user_id'].count()]\n",
    "# выборочная пропорция групп A и B\n",
    "xp = [a_data['purchase'].mean(), b_data['purchase'].mean()]\n",
    "# строим доверительный интервал для разности конверсий\n",
    "diff_inverval = diff_proportions_conf_interval(n, xp)\n",
    "print('Доверительный интервал для разности конверсий: {}'.format(diff_inverval))"
   ]
  },
  {
   "cell_type": "markdown",
   "id": "9332372d-66b2-45e9-a74c-f5d8b1d44afb",
   "metadata": {},
   "source": [
    "Проинтерпретируйте построенные доверительные интервалы для конверсий в группах. Есть ли перекрытие между доверительными интервалами для групп? Есть ли статистическая разница между конверсиями в группах А и B?"
   ]
  },
  {
   "cell_type": "markdown",
   "id": "2b21ec5f",
   "metadata": {},
   "source": [
    "*Построенный доверительный интервал с 95 %-ой надёжностью говорит нам, что разница в конверсии между вариантом B и вариантом А лежит в интервале от -0.38 % до 0.09 %. То есть разница в конверсии с 95 %-ой надёжностью может быть как положительной, так и отрицательной. \n",
    "Отсюда можно сделать вывод, что статистической разницы в конверсии между вариантами А и B не существует, они являются равнозначными по данной метрике.*"
   ]
  },
  {
   "cell_type": "markdown",
   "id": "73c54883-b919-4889-bbf2-e1bdeb0b7055",
   "metadata": {},
   "source": [
    "## **Задание 7.12.**\n",
    "\n",
    "Ранее мы построили таблицу с ежедневными показателями. Теперь она нам снова понадобится, так как нас интересует ежедневный средний чек.\n",
    "\n",
    "Проверьте гипотезу о нормальности распределения ежедневного среднего чека в каждой из групп тестирования. \n",
    "\n",
    "* Какой тест вы примените  для проверки гипотезы о нормальности распределения ежедневного среднего чека?\n",
    "* Как будут звучать нулевая и альтернативная гипотезы?\n",
    "* Каковы результаты статистического теста с уровнем значимости $\\alpha$ =0.05?"
   ]
  },
  {
   "cell_type": "code",
   "execution_count": 44,
   "id": "898041ae-de7e-4b74-975e-111d494fbb82",
   "metadata": {},
   "outputs": [
    {
     "name": "stdout",
     "output_type": "stream",
     "text": [
      "p-value группы А 0.25\n",
      "p-value группы B 0.09\n",
      "Принимаем нулевую гипотезу. Распределения в обеих группах нормальные\n"
     ]
    }
   ],
   "source": [
    "# для провкерки гипотезы о нормальности распределения ежедневного среднего чека будем использовать критерий Шапиро-Уилка, \n",
    "# пригодный для небольших выборок данных (до тысячи наблюдений)\n",
    "\n",
    "from scipy.stats import shapiro\n",
    "# нулевая и альтернативная гипотезы\n",
    "H0 = 'Распределения в обеих группах нормальные'\n",
    "H1 = 'Распределение в одной или обеих группах отлично от нормального'\n",
    "alpha = 0.05 # уровень значимости\n",
    "# вычисляем результат теста Шапиро-Уилка для выборок\n",
    "shapiro_result_a = shapiro(updated_data3[updated_data3['group'] == 'A']['mean_check'])\n",
    "shapiro_result_b = shapiro(updated_data3[updated_data3['group'] == 'B']['mean_check'])\n",
    "print('p-value группы А', round(shapiro_result_a.pvalue, 2))\n",
    "print('p-value группы B', round(shapiro_result_b.pvalue, 2))\n",
    "# сравниваем полученное p-value с уровнем значимости\n",
    "if shapiro_result_a.pvalue < alpha or shapiro_result_b.pvalue < alpha:\n",
    "    print(\"Отвергаем нулевую гипотезу. {}\".format(H0))\n",
    "    print(\"Альтернативная гипотеза. H1: {}\".format(H1))\n",
    "else:\n",
    "    print(\"Принимаем нулевую гипотезу. {}\".format(H0))"
   ]
  },
  {
   "cell_type": "markdown",
   "id": "94f8ad1d",
   "metadata": {},
   "source": [
    "*Результаты статистического теста свидетельствуют о нормальности распределения ежедневного среднего чека в обоих группах тестирования.*"
   ]
  },
  {
   "cell_type": "markdown",
   "id": "cbddecf9-4d15-4ff1-84e9-46c4d98fc1e0",
   "metadata": {
    "tags": []
   },
   "source": [
    "## **Задание 7.13.**\n",
    "Настало время сравнить варианты дизайна страницы по метрике среднего чека. \n",
    "\n",
    "Какой тест вы примените для проверки гипотезы о равенстве средних чеков по дням в группах?\n",
    "\n",
    "Проведите тестирование при следующих нулевой и альтернативной гипотезе:\n",
    "* $H_0$: Ежедневные средние чеки в группах А и B равны; \n",
    "* $H_1$: Ежедневный средний чек в группе А меньше чем в группе B;\n",
    "\n",
    "Вычислите p-value вашего теста для ежедневного среднего чека в группах А и B. Сравните полученное значение p-value с уровнем значимости $\\alpha$ =0.05. "
   ]
  },
  {
   "cell_type": "code",
   "execution_count": 45,
   "id": "05d43f23-2c2d-4795-bb96-1ffbfe81c391",
   "metadata": {},
   "outputs": [
    {
     "name": "stdout",
     "output_type": "stream",
     "text": [
      "p-value: 0.0\n",
      "Отвергаем нулевую гипотезу. Средний чек в группах одинаков\n",
      "Альтернативная гипотеза. H1: Средний чек в группе А меньше, чем в группе B\n"
     ]
    }
   ],
   "source": [
    "# Итак, распределение в обеих группах нормальное, а значит, мы можем воспользоваться T-тестом для того, \n",
    "# чтобы сравнить средние чеки в группах.\n",
    "\n",
    "from scipy.stats import ttest_ind\n",
    "# нулевая и альтернативная гипотезы\n",
    "H0 = 'Средний чек в группах одинаков'\n",
    "H1 = 'Средний чек в группе А меньше, чем в группе B'\n",
    "alpha = 0.05 #уровень значимости\n",
    "#вычисляем результат T-теста для выборок\n",
    "results = ttest_ind(\n",
    "    a=updated_data3[updated_data3['group'] == 'A']['mean_check'],\n",
    "    b=updated_data3[updated_data3['group'] == 'B']['mean_check'], \n",
    "    alternative='less'\n",
    ")\n",
    "print('p-value:', round(results.pvalue, 2))\n",
    " \n",
    "if results.pvalue < alpha:\n",
    "    print(\"Отвергаем нулевую гипотезу. {}\".format(H0))\n",
    "    print(\"Альтернативная гипотеза. H1: {}\".format(H1))\n",
    "else:\n",
    "    print(\"Принимаем нулевую гипотезу. {}\".format(H0))\n",
    " "
   ]
  },
  {
   "cell_type": "markdown",
   "id": "8534ab25-68b8-48f7-b2c1-ef1b72d8a767",
   "metadata": {},
   "source": [
    " Приведите свои выводы по проведенному статистическому тесту. Есть ли статистическая разница между ежедневными средними чеками в группах А и B?"
   ]
  },
  {
   "cell_type": "markdown",
   "id": "c134931e",
   "metadata": {},
   "source": [
    "*Результаты Т-теста свидетельствуют, что имеется статистическая разница между ежедневными средними чеками в группах (средний чек в группе А меньше, чем в группе B)*"
   ]
  },
  {
   "cell_type": "markdown",
   "id": "5e46c9a6-a943-48b4-ad72-935337469613",
   "metadata": {
    "tags": []
   },
   "source": [
    "## **Задание 7.14.**\n",
    "\n",
    "Постройте 95%-ый доверительный интервал для среднего чека в каждой группе. Так как выборка средних чеков небольшая, используйте  $t_{крит}$ в своих расчетах.\n",
    "\n",
    "Укажите нижнюю границу доверительного интервала для истинного среднего чека каждой из групп. Ответ приведите в процентах и округлите до целого."
   ]
  },
  {
   "cell_type": "code",
   "execution_count": 46,
   "id": "f5e71249",
   "metadata": {},
   "outputs": [
    {
     "name": "stdout",
     "output_type": "stream",
     "text": [
      "<class 'pandas.core.frame.DataFrame'>\n",
      "RangeIndex: 46 entries, 0 to 45\n",
      "Data columns (total 12 columns):\n",
      " #   Column           Non-Null Count  Dtype         \n",
      "---  ------           --------------  -----         \n",
      " 0   date             46 non-null     datetime64[ns]\n",
      " 1   group            46 non-null     object        \n",
      " 2   user_id          46 non-null     int64         \n",
      " 3   purchase         46 non-null     int64         \n",
      " 4   price            46 non-null     int64         \n",
      " 5   conversion       46 non-null     float64       \n",
      " 6   mean_check       46 non-null     float64       \n",
      " 7   cum_users_count  46 non-null     int64         \n",
      " 8   cum_purchase     46 non-null     int64         \n",
      " 9   cum_price        46 non-null     int64         \n",
      " 10  cum_conversion   46 non-null     float64       \n",
      " 11  cum_check        46 non-null     float64       \n",
      "dtypes: datetime64[ns](1), float64(4), int64(6), object(1)\n",
      "memory usage: 4.4+ KB\n"
     ]
    }
   ],
   "source": [
    "# определим размер выборки\n",
    "updated_data3.info()"
   ]
  },
  {
   "cell_type": "code",
   "execution_count": 47,
   "id": "54aacc69",
   "metadata": {},
   "outputs": [],
   "source": [
    "# таким образом всего в выборке 46 значений, \n",
    "# но с учетом разбиения на группы при расчете доверительных интервалов размер выборки n составит 23 значения"
   ]
  },
  {
   "cell_type": "code",
   "execution_count": 48,
   "id": "480430db-ffae-4aad-8e22-f5c70d4800b8",
   "metadata": {},
   "outputs": [
    {
     "name": "stdout",
     "output_type": "stream",
     "text": [
      "Доверительный интервал для выборки А: (79630, 82308)\n",
      "Доверительный интервал для выборки B: (87626, 89526)\n"
     ]
    }
   ],
   "source": [
    "# построим 95% доверительный интервал для групп\n",
    "from scipy.stats import t\n",
    "\n",
    "a=updated_data3[updated_data3['group'] == 'A']['mean_check']\n",
    "b=updated_data3[updated_data3['group'] == 'B']['mean_check']\n",
    "\n",
    "n = 23 # размер выборки\n",
    "k = n - 1 # число степеней свободы\n",
    "x_mean_a = a.mean() # выборочное среднее группы А\n",
    "x_std_a = a.std() # выборочное стандартное отклонение группы А\n",
    "x_mean_b = b.mean() # выборочное среднее группы B\n",
    "x_std_b = b.std() # выборочное стандартное отклонение группы B\n",
    "gamma = 0.95 # уровень надёжности\n",
    "alpha = 1 - gamma # уровень значимости\n",
    "\n",
    "t_crit = -t.ppf(alpha/2, k) # t-критическое\n",
    "\n",
    "eps_a = t_crit * x_std_a/(n ** 0.5) # погрешность для группы А\n",
    "eps_b = t_crit * x_std_b/(n ** 0.5) # погрешность для группы B\n",
    "\n",
    "lower_bound_a = x_mean_a - eps_a # левая (нижняя) граница для группы А\n",
    "upper_bound_a = x_mean_a + eps_a # правая (верхняя) граница для группы А\n",
    "lower_bound_b = x_mean_b - eps_b # левая (нижняя) граница для группы В\n",
    "upper_bound_b = x_mean_b + eps_b # правая (верхняя) граница для группы В\n",
    "\n",
    "# выводим значания округленных границ доверительных интервалов\n",
    "confidence_interval_a = (round(lower_bound_a), round(upper_bound_a)) # создаём кортеж из округлённых границ интервала\n",
    "print('Доверительный интервал для выборки А: {}'.format(confidence_interval_a)) \n",
    "\n",
    "confidence_interval_b = (round(lower_bound_b), round(upper_bound_b)) # создаём кортеж из округлённых границ интервала\n",
    "print('Доверительный интервал для выборки B: {}'.format(confidence_interval_b)) "
   ]
  },
  {
   "cell_type": "markdown",
   "id": "74a78db8-48f7-41d2-94cb-faefb30b8f76",
   "metadata": {},
   "source": [
    "Проинтерпретируйте построенные доверительные интервалы для ежедневных средних чеков в группах. Есть ли между ними пересечения?"
   ]
  },
  {
   "cell_type": "markdown",
   "id": "e9a66fb0",
   "metadata": {},
   "source": [
    "*Рассчитанные доверительные интервалы не имеют пересечений, следовательно отсутствует вероятность, что истинное значение среднего чека в обеих группах может совпасть. То есть мы можем однозначно сказать, что есть разница в средних чеках групп.*"
   ]
  },
  {
   "cell_type": "markdown",
   "id": "c078852f-892f-42ed-8d78-73edf8eb1f5e",
   "metadata": {
    "tags": []
   },
   "source": [
    "## **Сделайте общий вывод по результатам A/B-теста**\n",
    "\n",
    "Какой варианта дизайна посадочной страницы является более эффективным в комплексе по метрикам конверсии и среднего чека и почему? "
   ]
  },
  {
   "cell_type": "markdown",
   "id": "2900380b",
   "metadata": {},
   "source": [
    "*Результаты А/В теста свидетельствуют, что более эффективным в комплексе по метрикам конверсии и среднего чека является дизайн страницы тестируемый группой В, т.к. данная группа показала более высокое значение среднего чека, при этом отсутствует статистическая разница между конверсиями в группах.*"
   ]
  }
 ],
 "metadata": {
  "kernelspec": {
   "display_name": "Python 3.10.4 64-bit",
   "language": "python",
   "name": "python3"
  },
  "language_info": {
   "codemirror_mode": {
    "name": "ipython",
    "version": 3
   },
   "file_extension": ".py",
   "mimetype": "text/x-python",
   "name": "python",
   "nbconvert_exporter": "python",
   "pygments_lexer": "ipython3",
   "version": "3.10.4"
  },
  "vscode": {
   "interpreter": {
    "hash": "4604fddfbe3ec3d9d385c207fa0ddb9a05dfef66380401ad05b04bbd42d45367"
   }
  }
 },
 "nbformat": 4,
 "nbformat_minor": 5
}
