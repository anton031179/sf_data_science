{
 "cells": [
  {
   "cell_type": "code",
   "execution_count": 1,
   "metadata": {},
   "outputs": [
    {
     "name": "stdout",
     "output_type": "stream",
     "text": [
      "Current income 120\n",
      "Current S 0\n",
      "New S 120\n",
      "\n",
      "Current income 38.5\n",
      "Current S 120\n",
      "New S 158.5\n",
      "\n",
      "Current income 40.5\n",
      "Current S 158.5\n",
      "New S 199.0\n",
      "\n",
      "Current income 80\n",
      "Current S 199.0\n",
      "New S 279.0\n",
      "\n",
      "Answer: s= 279.0\n",
      "Answer: s2= 279.0\n"
     ]
    }
   ],
   "source": [
    "# Введите здесь ваш код\n",
    "incomes = [120, 38.5, 40.5, 80] #список доходов семьи Быковых\n",
    "S = 0 #задаём начальное значение суммы доходов\n",
    "#создаём цикл for, в котором будем проходиться по элементам списка incomes\n",
    "for income in incomes: #income — текущее значение элемента списка\n",
    "    print('Current income', income) #выводим текущее значение переменной income\n",
    "    print('Current S', S) #выводим текущее значение переменной S\n",
    "    S += income #увеличиваем сумму доходов на значение income, равносильно S = S + income\n",
    "    print('New S', S) #выводим обновлённое значение переменной S\n",
    "    print() #выводим пустую строку для красивого отображения\n",
    "print('Answer: s=', S) #выводим результат \n",
    "\n",
    "S2 = sum(incomes)\n",
    "print('Answer: s2=', S2) \n"
   ]
  },
  {
   "cell_type": "code",
   "execution_count": 2,
   "metadata": {},
   "outputs": [
    {
     "name": "stdout",
     "output_type": "stream",
     "text": [
      "\n",
      "\n",
      "\n",
      "\n",
      "\n",
      "Answer: s3= 1947456\n"
     ]
    }
   ],
   "source": [
    "lst = [98, 24, 23, 12, 3]\n",
    "S3=1\n",
    "for income in lst: #income — текущее значение элемента списка\n",
    "    #print('Current income', income) #выводим текущее значение переменной income\n",
    "    #print('Current S', S) #выводим текущее значение переменной S\n",
    "    S3 *= income #увеличиваем сумму доходов на значение income, равносильно S = S + income\n",
    "    #print('New S', S) #выводим обновлённое значение переменной S\n",
    "    print() #выводим пустую строку для красивого отображения\n",
    "print('Answer: s3=', S3) #выводим результат \n"
   ]
  },
  {
   "cell_type": "code",
   "execution_count": 3,
   "metadata": {},
   "outputs": [
    {
     "name": "stdout",
     "output_type": "stream",
     "text": [
      "Current S:  0\n",
      "Current number:  1\n",
      "Sum after addition:  1\n",
      "---\n",
      "Current S:  1\n",
      "Current number:  2\n",
      "Sum after addition:  3\n",
      "---\n",
      "Current S:  3\n",
      "Current number:  3\n",
      "Sum after addition:  6\n",
      "---\n",
      "Current S:  6\n",
      "Current number:  4\n",
      "Sum after addition:  10\n",
      "---\n",
      "Current S:  10\n",
      "Current number:  5\n",
      "Sum after addition:  15\n",
      "---\n",
      "Answer: sum =  15\n"
     ]
    }
   ],
   "source": [
    "\n",
    "S = 0  #создаём накопительную переменную, в которой будем считать сумму\n",
    "N = 5 #задаём N — последний элемент последовательности\n",
    "for i in range(1, N + 1):  #равносильно выражению for i in [1, 2, 3, ... , N -1, N]:\n",
    "    print(\"Current S: \", S) #выводим значение суммы на текущем шаге\n",
    "    print(\"Current number: \", i) #выводим текущее число\n",
    "    S += i  #суммируем текущее число i и перезаписываем значение суммы, равносильно S = S + i\n",
    "    print(\"Sum after addition: \", S) #выводим значение суммы после сложения\n",
    "    print(\"---\") #выводим строчку для визуального разделения результатов\n",
    "print(\"Answer: sum = \", S) #выводим ответ в формате ответ: сумма равна ="
   ]
  },
  {
   "cell_type": "code",
   "execution_count": 4,
   "metadata": {},
   "outputs": [
    {
     "name": "stdout",
     "output_type": "stream",
     "text": [
      "*\n",
      "**\n",
      "***\n",
      "****\n",
      "*****\n"
     ]
    }
   ],
   "source": [
    "S = ''  #создаём накопительную переменную, в которой будем считать сумму\n",
    "N = 5 #задаём N — последний элемент последовательности\n",
    "\n",
    "# создаём цикл for, которым мы будем проходить по всем числам от 1 до N (включительно)\n",
    "for i in range(1, N + 1):  #равносильно выражению for i in [1, 2, 3, ... , N -1, N]:\n",
    "    #print(\"Current S: \", S) #выводим значение суммы на текущем шаге\n",
    "    #print(\"Current number: \", i) #выводим текущее число\n",
    "    S += \"*\"  #суммируем текущее число i и перезаписываем значение суммы, равносильно S = S + i\n",
    "    print(S) #выводим значение суммы после сложения\n",
    "    #print(\"---\") #выводим строчку для визуального разделения результатов\n",
    "#print(\"Answer: sum = \", S) #выводим ответ в формате ответ: сумма равна ="
   ]
  },
  {
   "cell_type": "code",
   "execution_count": 5,
   "metadata": {},
   "outputs": [
    {
     "name": "stdout",
     "output_type": "stream",
     "text": [
      "Product 1, weight: 10 -passenger car\n",
      "Product 2, weight: 42.4 -passenger car\n",
      "Product 3, weight: 240.1 -truck\n",
      "Product 4, weight: 101.5 -truck\n",
      "Product 5, weight: 98 -passenger car\n",
      "Product 6, weight: 0.4 -passenger car\n",
      "Product 7, weight: 0.3 -passenger car\n",
      "Product 8, weight: 15 -passenger car\n"
     ]
    }
   ],
   "source": [
    "weight_of_products = [10, 42.4, 240.1, 101.5, 98, 0.4, 0.3, 15] #список масс товаров\n",
    "max_weight = 100 #задаём максимальное значение веса груза\n",
    "num = 1 #задаём начальный номер груза\n",
    "#создаём цикл по элементам списка с массами товаров\n",
    "for weight in weight_of_products: #weight — текущее значение веса\n",
    "    if weight < max_weight: #если текущий вес меньше максимального,\n",
    "        #выводим номер груза, его вес и отправляем его в легковую машину\n",
    "        print('Product {}, weight: {} -passenger car'.format(num, weight)) \n",
    "    else:\n",
    "        #выводим номер груза, его вес и отправляем его в грузовую машину\n",
    "        print('Product {}, weight: {} -truck'.format(num, weight))\n",
    "    num += 1 #увеличиваем значение номера груза на 1"
   ]
  },
  {
   "cell_type": "code",
   "execution_count": 6,
   "metadata": {},
   "outputs": [
    {
     "name": "stdout",
     "output_type": "stream",
     "text": [
      "Product 1, weight: 10 -passenger car\n",
      "Product 2, weight: 42.4 -passenger car\n",
      "Product 3, weight: 240.1 -truck\n",
      "Product 4, weight: 101.5 -truck\n",
      "Product 5, weight: 98 -passenger car\n",
      "Product 6, weight: 0.4 -passenger car\n",
      "Product 7, weight: 0.3 -passenger car\n",
      "Product 8, weight: 15 -passenger car\n"
     ]
    }
   ],
   "source": [
    "weight_of_products = [10, 42.4, 240.1, 101.5, 98, 0.4, 0.3, 15] #список масс товаров\n",
    "max_weight = 100 #задаём максимальное значение веса груза\n",
    "N = len(weight_of_products) #вычисляем длина списка\n",
    "#создаём цикл по последовательности чисел от 0 до N (не включая N)\n",
    "for i in range(N): #i — текущее значение последовательности\n",
    "    #обращаемся к элементу по индексу и сравниваем его с максимумом\n",
    "    if weight_of_products[i] < max_weight: #если текущий вес меньше максимального,\n",
    "        #выводим номер груза, массу и отправляем его в легковую машину\n",
    "        print('Product {}, weight: {} -passenger car'.format(i+1, weight_of_products[i])) \n",
    "    else:\n",
    "        #выводим номер груза, массу и отправляем его в грузовую машину\n",
    "        print('Product {}, weight: {} -truck'.format(i+1, weight_of_products[i]))    \n",
    "    "
   ]
  },
  {
   "cell_type": "code",
   "execution_count": 7,
   "metadata": {},
   "outputs": [
    {
     "name": "stdout",
     "output_type": "stream",
     "text": [
      "My name is Anton \n",
      "-5 1 3 10 \n"
     ]
    }
   ],
   "source": [
    "str1=''\n",
    "word_list = ['My', 'name', 'is', 'Anton']\n",
    "N=len(word_list)\n",
    "for i in range(N):\n",
    "    str1+=str(word_list[i])\n",
    "    str1+=' '\n",
    "print(str1)\n",
    "        \n",
    "num_list = [1, 10, 3, -5]\n",
    "num_list.sort()\n",
    "str2=''\n",
    "N = len(num_list)\n",
    "for i in range(N):\n",
    "    str2+=str(num_list[i])+' '\n",
    "print(str2)"
   ]
  },
  {
   "cell_type": "code",
   "execution_count": 8,
   "metadata": {},
   "outputs": [
    {
     "name": "stdout",
     "output_type": "stream",
     "text": [
      "17\n",
      "3\n"
     ]
    }
   ],
   "source": [
    "my_list = list(range(0, 100, 3))\n",
    "N=len(my_list)\n",
    "s=0\n",
    "for i in range(N):\n",
    "    if int(my_list[i]%2==0):\n",
    "        s+=1\n",
    "print(s)\n",
    "\n",
    "my_list = [True, 1, -10, 'hello', False, 'string_1', 123, 2.5, [1, 2], 'another']\n",
    "N=len(my_list)\n",
    "s=0\n",
    "for i in range(N):   \n",
    "    #if type(my_list[i])=='str':\n",
    "    if isinstance(my_list[i], str):\n",
    "        s+=1\n",
    "print(s)"
   ]
  },
  {
   "cell_type": "code",
   "execution_count": 9,
   "metadata": {},
   "outputs": [
    {
     "name": "stdout",
     "output_type": "stream",
     "text": [
      "Current sum weight 67\n",
      "Current sum weight 134\n",
      "Current sum weight 201\n",
      "Current sum weight 268\n",
      "Current sum weight 335\n",
      "Current sum weight 402\n",
      "\n",
      "Overweight 2 kg\n"
     ]
    }
   ],
   "source": [
    "weight = 67 #заданный вес входящего в лифт человека\n",
    "max_weight = 400 #задаём грузоподъёмность\n",
    "S = 0 #задаём суммарный вес людей в лифте\n",
    "#создаём цикл, который будет работать, пока S не превысит max_weight \n",
    "while S < max_weight: #делай, пока...\n",
    "    S += weight #увеличиваем суммарный вес, равносильно S = S + weight \n",
    "    print('Current sum weight', S) #выводим значение суммарного веса после обновления\n",
    "print() #отделяем промежуточный вывод от результата пустой строкой\n",
    "print('Overweight {} kg'.format(S-max_weight)) #выводим итоговое значение перевеса"
   ]
  },
  {
   "cell_type": "code",
   "execution_count": 10,
   "metadata": {},
   "outputs": [
    {
     "name": "stdout",
     "output_type": "stream",
     "text": [
      "Still counting ...\n",
      "Still counting ...\n",
      "Still counting ...\n",
      "Still counting ...\n",
      "Still counting ...\n",
      "Still counting ...\n",
      "Still counting ...\n",
      "Still counting ...\n",
      "Still counting ...\n",
      "Still counting ...\n",
      "Still counting ...\n",
      "Still counting ...\n",
      "Still counting ...\n",
      "Still counting ...\n",
      "Still counting ...\n",
      "Still counting ...\n",
      "Still counting ...\n",
      "Still counting ...\n",
      "Still counting ...\n",
      "Still counting ...\n",
      "Still counting ...\n",
      "Still counting ...\n",
      "Still counting ...\n",
      "Still counting ...\n",
      "Still counting ...\n",
      "Still counting ...\n",
      "Still counting ...\n",
      "Still counting ...\n",
      "Still counting ...\n",
      "Still counting ...\n",
      "Still counting ...\n",
      "Still counting ...\n",
      "\n",
      "Sum is:  528\n",
      "Numbers total:  32\n"
     ]
    }
   ],
   "source": [
    "S = 0  # создаём накопительную переменную, в которой будем считать сумму\n",
    "n = 1  # задаём текущее натуральное число\n",
    " \n",
    "# создаём цикл, который будет работать, пока сумма не превысит 500\n",
    "while S < 500:  # делай, пока ...\n",
    "    S += n  # увеличиваем сумму, равносильно S = S + n\n",
    "    n += 1  # увеличиваем значение натурального числа\n",
    "    print(\"Still counting ...\") #выводим строку ожидания\n",
    "print() #отделяем промежуточный вывод от результата пустой строкой\n",
    "print(\"Sum is: \", S) #выводим результирующую сумму\n",
    "print(\"Numbers total: \", n-1) #выводим результирующее количество чисел"
   ]
  },
  {
   "cell_type": "code",
   "execution_count": 11,
   "metadata": {},
   "outputs": [
    {
     "name": "stdout",
     "output_type": "stream",
     "text": [
      "Wrong name\n",
      "Wrong name\n",
      "Wrong name\n",
      "Wrong name\n",
      "Wrong name\n",
      "Wrong name\n",
      "Wrong name\n",
      "Wrong name\n",
      "Wrong name\n",
      "Wrong name\n",
      "Wrong name\n",
      "Wrong name\n",
      "Wrong name\n",
      "Wrong name\n",
      "Wrong name\n",
      "Wrong name\n",
      "Wrong name\n",
      "Wrong name\n",
      "Wrong name\n",
      "Wrong name\n",
      "Welcome\n"
     ]
    }
   ],
   "source": [
    "secret_passwords = {\n",
    "    'Enot': 'ulybaka',\n",
    "    'Agent12': '1password1',\n",
    "    'MouseLulu': 'myshkanaruhka'\n",
    "} #база позывных и паролей\n",
    "#создаём бесконечный цикл\n",
    "while True:\n",
    "    name = input('Enter your name: ') #запрашиваем у пользователя позывной\n",
    "    #проверяем, что позывной есть среди ключей словаря\n",
    "    if name in secret_passwords: #если позывной верный\n",
    "        password = input('Enter your password: ') #запрашиваем у пользователя пароль\n",
    "        #проверяем, что введённый пароль совпадает со значением по ключу позывного\n",
    "        if password == secret_passwords[name]: #если пароль верный,\n",
    "            print('Welcome') #выводим приветственное сообщение\n",
    "            break #завершаем цикл\n",
    "        else: #если пароль неверный,\n",
    "            print('Wrong password') #выводим сообщение об ошибке\n",
    "    else: #если позывной неверный,\n",
    "        print('Wrong name') #выводим сообщение об ошибке"
   ]
  },
  {
   "cell_type": "code",
   "execution_count": 12,
   "metadata": {},
   "outputs": [
    {
     "name": "stdout",
     "output_type": "stream",
     "text": [
      "10\n"
     ]
    }
   ],
   "source": [
    "temperature=[[13, 15, 10], [14, 13, 9], [8, 9, 6]]\n",
    "print(temperature[0][2])"
   ]
  },
  {
   "cell_type": "code",
   "execution_count": 13,
   "metadata": {},
   "outputs": [
    {
     "name": "stdout",
     "output_type": "stream",
     "text": [
      "Current row [1, 2]\n",
      "Current elem 1\n",
      "Current elem 2\n",
      "\n",
      "Current row [3, 4]\n",
      "Current elem 3\n",
      "Current elem 4\n",
      "\n",
      "Current row [5, 6]\n",
      "Current elem 5\n",
      "Current elem 6\n",
      "\n"
     ]
    }
   ],
   "source": [
    "matrix = [[1, 2], [3, 4], [5, 6]]\n",
    "for row1 in matrix: #row — текущее значение из списка matrix\n",
    "    print('Current row', row1) #выводим содержимое на экран\n",
    "    #создаём цикл по элементам списка row\n",
    "    for elem in row1: #elem — текущее значение из списка row\n",
    "        print('Current elem', elem)\n",
    "    print() #отделяем вывод на экран пустой строкой"
   ]
  },
  {
   "cell_type": "code",
   "execution_count": 14,
   "metadata": {},
   "outputs": [
    {
     "name": "stdout",
     "output_type": "stream",
     "text": [
      "Current i 0\n",
      "Current row [1, 2]\n",
      "Current j 0\n",
      "Current elem 1\n",
      "Current j 1\n",
      "Current elem 2\n",
      "\n",
      "Current i 1\n",
      "Current row [3, 4]\n",
      "Current j 0\n",
      "Current elem 3\n",
      "Current j 1\n",
      "Current elem 4\n",
      "\n",
      "Current i 2\n",
      "Current row [5, 6]\n",
      "Current j 0\n",
      "Current elem 5\n",
      "Current j 1\n",
      "Current elem 6\n",
      "\n"
     ]
    }
   ],
   "source": [
    "matrix = [[1, 2], [3, 4], [5, 6]]\n",
    "N = len(matrix) #вычисляем длину внешнего списка\n",
    "M = len(matrix[0]) #вычисляем длину вложенного списка\n",
    "#создаём цикл по последовательности чисел от 0 до N (не включая N)\n",
    "for i in range(N): #i — текущий элемент последовательности (индекс строки)\n",
    "    print('Current i', i) #выводим текущее значение i\n",
    "    print('Current row', matrix[i]) #выводим i-е значение внешнего списка\n",
    "    #создаём цикл по последовательности чисел от 0 до M (не включая M)\n",
    "    for j in range(M):#j — текущий элемент последовательности (индекс столбца)\n",
    "        print('Current j', j) #выводим текущее значение j\n",
    "        print('Current elem', matrix[i][j]) #выводим элемент под индексами i и j\n",
    "    print() #отделяем вывод на экран пустой строкой"
   ]
  },
  {
   "cell_type": "code",
   "execution_count": 15,
   "metadata": {},
   "outputs": [
    {
     "name": "stdout",
     "output_type": "stream",
     "text": [
      "Alarm is set 9:0\n",
      "Alarm is set 9:15\n",
      "Alarm is set 9:30\n",
      "Alarm is set 9:45\n",
      "Alarm is set 11:0\n",
      "Alarm is set 11:15\n",
      "Alarm is set 11:30\n",
      "Alarm is set 11:45\n",
      "Alarm is set 13:0\n",
      "Alarm is set 13:15\n",
      "Alarm is set 13:30\n",
      "Alarm is set 13:45\n",
      "Alarm is set 15:0\n",
      "Alarm is set 15:15\n",
      "Alarm is set 15:30\n",
      "Alarm is set 15:45\n",
      "Alarm is set 17:0\n",
      "Alarm is set 17:15\n",
      "Alarm is set 17:30\n",
      "Alarm is set 17:45\n",
      "Alarm is set 19:0\n",
      "Alarm is set 19:15\n",
      "Alarm is set 19:30\n",
      "Alarm is set 19:45\n",
      "Alarm is set 21:0\n",
      "Alarm is set 21:15\n",
      "Alarm is set 21:30\n",
      "Alarm is set 21:45\n",
      "Alarm is set 23:0\n",
      "Alarm is set 23:15\n",
      "Alarm is set 23:30\n",
      "Alarm is set 23:45\n"
     ]
    }
   ],
   "source": [
    "#Пусть пользователь задаёт будильники на каждые два часа, начиная с 9 часов утра. \n",
    "#Причём будильники должны звонить четырежды в указанный час (интервал 15 минут), например в 11:00, 11:15, 11:30 и 11:45. \n",
    "#Напишите вложенный цикл, который будет выводить на экран время, в которое прозвенят будильники.\n",
    "hours = list(range(9, 24, 2)) #создаём список часов\n",
    "minutes = list(range(0, 60, 15)) #создаём список минут\n",
    "#создаём цикл по элементам списка часов\n",
    "for hour in hours: #hour — текущее значение часа (10, 15, 20)\n",
    "    #создаём цикл по элементам списка минут\n",
    "    for minute in minutes: #second — текущее значение минуты\n",
    "        print('Alarm is set {}:{}'.format(hour, minute)) #выводим время"
   ]
  },
  {
   "cell_type": "code",
   "execution_count": 16,
   "metadata": {},
   "outputs": [
    {
     "name": "stdout",
     "output_type": "stream",
     "text": [
      "Count symbol 'e': 5\n"
     ]
    }
   ],
   "source": [
    "str_list = ['text', 'morning', 'notepad', 'television', 'ornament'] #заданный список строк\n",
    "count = 0 #задаём начальное количество символов 'e'\n",
    "#создаём цикл по элементам списка str_list\n",
    "for text in str_list: \n",
    "    #создаём цикл по символам в строке text\n",
    "    for symbol in text:\n",
    "        #проверяем условие, что текущий символ == 'e'\n",
    "        if symbol == 'e': #если условие истинно,\n",
    "            count += 1 #увеличиваем количество символов 'e'\n",
    "print(\"Count symbol 'e':\", count) #выводим результат"
   ]
  },
  {
   "cell_type": "code",
   "execution_count": 17,
   "metadata": {},
   "outputs": [
    {
     "name": "stdout",
     "output_type": "stream",
     "text": [
      "Count symbol 'e': 5\n"
     ]
    }
   ],
   "source": [
    "str_list = ['text', 'morning', 'notepad', 'television', 'ornament'] #заданный список строк\n",
    "count = 0 #задаём начальное количество символов 'e'\n",
    "#создаём цикл по элементам списка str_list\n",
    "for text in str_list:\n",
    "    #увеличиваем количество символов 'e' \n",
    "    count += text.count('e') #.count() считает, сколько раз символ встречается в строке text\n",
    "print(\"Count symbol 'e':\", count) #выводим результат  \n"
   ]
  },
  {
   "cell_type": "code",
   "execution_count": 18,
   "metadata": {},
   "outputs": [
    {
     "name": "stdout",
     "output_type": "stream",
     "text": [
      "Minimal elements: [1, 2, 4]\n"
     ]
    }
   ],
   "source": [
    "random_matrix = [[9, 2, 1],[2, 5, 3],[4, 8, 5]] #заданная матрица\n",
    "min_value_rows = [] #задаём пустой список с минимальными значениями строк\n",
    "#создаём цикл по строкам матрицы random_matrix \n",
    "for row in random_matrix: #row — текущая строка таблицы\n",
    "    min_value = row[0] #начальное значение кандидата на минимум\n",
    "    #создаём цикл по элементам списка row\n",
    "    for elem in row: #elem — текущий элемент из списка row\n",
    "        #проверяем условие, что текущий элемент меньше кандидата на минимум\n",
    "        if elem < min_value: #если условие выполняется,\n",
    "            min_value = elem #заменяем кандидата на минимум\n",
    "    min_value_rows.append(min_value) #добавляем полученный минимум строки в список\n",
    "print(\"Minimal elements:\", min_value_rows) #выводим минимальные элементы"
   ]
  },
  {
   "cell_type": "code",
   "execution_count": 19,
   "metadata": {},
   "outputs": [
    {
     "name": "stdout",
     "output_type": "stream",
     "text": [
      "Minimal elements: [9, 5, 8]\n"
     ]
    }
   ],
   "source": [
    "random_matrix = [[9, 2, 1],[2, 5, 3],[4, 8, 5]]\n",
    "min_value_rows = [] #задаём пустой список с минимальными значениями строк\n",
    "#создаём цикл по строкам матрицы random_matrix \n",
    "for row in random_matrix: #row — текущая строка таблицы\n",
    "    min_value = row[0] #начальное значение кандидата на минимум\n",
    "    #создаём цикл по элементам списка row\n",
    "    for elem in row: #elem — текущий элемент из списка row\n",
    "        #проверяем условие, что текущий элемент меньше кандидата на минимум\n",
    "        if elem > min_value: #если условие выполняется,\n",
    "            min_value = elem #заменяем кандидата на минимум\n",
    "    min_value_rows.append(min_value) #добавляем полученный минимум строки в список\n",
    "print(\"Minimal elements:\", min_value_rows)"
   ]
  },
  {
   "cell_type": "code",
   "execution_count": 20,
   "metadata": {},
   "outputs": [
    {
     "name": "stdout",
     "output_type": "stream",
     "text": [
      "Average math score 76.6\n",
      "Average info score 64.8\n",
      "Average rus score 82.2\n",
      "Average score 74.53333333333333\n"
     ]
    }
   ],
   "source": [
    "student_scores = [\n",
    "    [56, 90, 80],\n",
    "    [80, 86, 92],\n",
    "    [91, 76, 89],\n",
    "    [91, 42, 60],\n",
    "    [65, 30, 90]\n",
    "] #заданная таблица со студентами\n",
    "N = len(student_scores) #задаём число студентов\n",
    "M = len(student_scores[0]) #задаём число экзаменов\n",
    "summa = 0 #задаём начальное значение общего балла\n",
    "math_sum = 0 #задаём начальное значение общего балла по математике\n",
    "info_sum = 0 #задаём начальное значение общего балла по информатике\n",
    "rus_sum = 0 #задаём начальное значение общего балла по русскому языку\n",
    "#создаём цикл по последовательности от 0 до N (не включая N)\n",
    "for i in range(N): #i — индекс строки\n",
    "    math_sum += student_scores[i][0] #добавляем баллы по математике i-го студента\n",
    "    info_sum += student_scores[i][1] #добавляем баллы по информатике i-го студента\n",
    "    rus_sum += student_scores[i][2] #добавляем баллы по русскому i-го студента\n",
    "    #создаём цикл по последовательности от 0 до M (не включая M)\n",
    "    for j in range(M): #j — индекс столбца\n",
    "        summa += student_scores[i][j] #добавляем баллы i-го студента по j-му экзамену\n",
    "print('Average math score', math_sum/N) #выводим средний балл по математике\n",
    "print('Average info score', info_sum/N) #выводим средний балл по информатике\n",
    "print('Average rus score', rus_sum/N) #выводим средний балл по русскому языку\n",
    "print('Average score', summa/(N*M)) #выводим общий средний балл\n"
   ]
  },
  {
   "cell_type": "code",
   "execution_count": 21,
   "metadata": {},
   "outputs": [
    {
     "name": "stdout",
     "output_type": "stream",
     "text": [
      "Minimal elements: [9, 5, 8]\n"
     ]
    }
   ],
   "source": [
    "random_matrix = [[9, 2, 1],[2, 5, 3],[4, 8, 5]]\n",
    "min_value_rows = [] #задаём пустой список с минимальными значениями строк\n",
    "#создаём цикл по строкам матрицы random_matrix \n",
    "for row in random_matrix: #row — текущая строка таблицы\n",
    "    min_value = row[0] #начальное значение кандидата на минимум\n",
    "    #создаём цикл по элементам списка row\n",
    "    for elem in row: #elem — текущий элемент из списка row\n",
    "        #проверяем условие, что текущий элемент меньше кандидата на минимум\n",
    "        if elem > min_value: #если условие выполняется,\n",
    "            min_value = elem #заменяем кандидата на минимум\n",
    "    min_value_rows.append(min_value) #добавляем полученный минимум строки в список\n",
    "print(\"Minimal elements:\", min_value_rows)"
   ]
  },
  {
   "cell_type": "code",
   "execution_count": 22,
   "metadata": {},
   "outputs": [
    {
     "name": "stdout",
     "output_type": "stream",
     "text": [
      "Average math score 76.6\n",
      "Average info score 64.8\n",
      "Average rus score 82.2\n",
      "Average score 74.53333333333333\n"
     ]
    }
   ],
   "source": [
    "student_scores = [\n",
    "    [56, 90, 80],\n",
    "    [80, 86, 92],\n",
    "    [91, 76, 89],\n",
    "    [91, 42, 60],\n",
    "    [65, 30, 90]\n",
    "] #заданная таблица со студентами\n",
    "N = len(student_scores) #задаём число студентов\n",
    "M = len(student_scores[0]) #задаём число экзаменов\n",
    "summa = 0 #задаём начальное значение общего балла\n",
    "math_sum = 0 #задаём начальное значение общего балла по математике\n",
    "info_sum = 0 #задаём начальное значение общего балла по информатике\n",
    "rus_sum = 0 #задаём начальное значение общего балла по русскому языку\n",
    "#создаём цикл по последовательности от 0 до N (не включая N)\n",
    "for i in range(N): #i — индекс строки\n",
    "    math_sum += student_scores[i][0] #добавляем баллы по математике i-го студента\n",
    "    info_sum += student_scores[i][1] #добавляем баллы по информатике i-го студента\n",
    "    rus_sum += student_scores[i][2] #добавляем баллы по русскому i-го студента\n",
    "    #создаём цикл по последовательности от 0 до M (не включая M)\n",
    "    for j in range(M): #j — индекс столбца\n",
    "        summa += student_scores[i][j] #добавляем баллы i-го студента по j-му экзамену\n",
    "print('Average math score', math_sum/N) #выводим средний балл по математике\n",
    "print('Average info score', info_sum/N) #выводим средний балл по информатике\n",
    "print('Average rus score', rus_sum/N) #выводим средний балл по русскому языку\n",
    "print('Average score', summa/(N*M)) #выводим общий средний балл\n"
   ]
  },
  {
   "cell_type": "code",
   "execution_count": 23,
   "metadata": {},
   "outputs": [
    {
     "name": "stdout",
     "output_type": "stream",
     "text": [
      "True\n"
     ]
    }
   ],
   "source": [
    "test_matrix1 = [[1, 2, 3],[7, -1, 2],[123, 2, -1]]\n",
    "test_matrix2 = [[1, 2, 3],[7, -1, 2],[123, 2, -1],[123, 5, 1]]\n",
    "N = len(test_matrix1) #задаём число строк\n",
    "M = len(test_matrix1[0]) #задаём число столбцов\n",
    "print (N==M)"
   ]
  },
  {
   "cell_type": "code",
   "execution_count": 24,
   "metadata": {},
   "outputs": [
    {
     "name": "stdout",
     "output_type": "stream",
     "text": [
      "Day 1 : -5\n",
      "Day 2 : 2\n",
      "Day 3 : 4\n",
      "Day 4 : 8\n",
      "Day 5 : 12\n",
      "Day 6 : -7\n",
      "Day 7 : 5\n"
     ]
    }
   ],
   "source": [
    "user_dynamics = [-5, 2, 4, 8, 12, -7, 5] #заданный список динамики пользователей\n",
    "number = 1 #задаём номер дня\n",
    "#создаём цикл по элементам списка user_dynamics\n",
    "for dynamic in user_dynamics: #dynamic — текущее значение из списка\n",
    "    print(\"Day {} : {}\".format(number, dynamic)) #выводим номер дня и динамику на этот день\n",
    "    number += 1 #увеличиваем номер дня"
   ]
  },
  {
   "cell_type": "code",
   "execution_count": 25,
   "metadata": {},
   "outputs": [
    {
     "name": "stdout",
     "output_type": "stream",
     "text": [
      "Day 1 : -5\n",
      "Day 2 : 2\n",
      "Day 3 : 4\n",
      "Day 4 : 8\n",
      "Day 5 : 12\n",
      "Day 6 : -7\n",
      "Day 7 : 5\n"
     ]
    }
   ],
   "source": [
    "user_dynamics = [-5, 2, 4, 8, 12, -7, 5] #заданный список динамики пользователей\n",
    "N = len(user_dynamics) #вычисляем длину списка\n",
    "#создаём цикл по элементам последовательности от 0 до N (не включая N)\n",
    "for i in range(N): #i — текущий индекс\n",
    "    print(\"Day {} : {}\".format(i+1, user_dynamics[i])) #выводим номер дня и динамику на этот день"
   ]
  },
  {
   "cell_type": "code",
   "execution_count": 26,
   "metadata": {},
   "outputs": [
    {
     "name": "stdout",
     "output_type": "stream",
     "text": [
      "Day 1 : -5\n",
      "Day 2 : 2\n",
      "Day 3 : 4\n",
      "Day 4 : 8\n",
      "Day 5 : 12\n",
      "Day 6 : -7\n",
      "Day 7 : 5\n"
     ]
    }
   ],
   "source": [
    "user_dynamics = [-5, 2, 4, 8, 12, -7, 5] #заданный список динамики пользователей\n",
    "#создаём цикл по индексам и элементам списка \n",
    "for i, dynamic in enumerate(user_dynamics): # i — индекс текущего элемента, dynamic — текущее значение из списка\n",
    "    print(\"Day {} : {}\".format(i+1, dynamic)) #выводим номер дня и динамику на этот день"
   ]
  },
  {
   "cell_type": "code",
   "execution_count": 27,
   "metadata": {},
   "outputs": [
    {
     "name": "stdout",
     "output_type": "stream",
     "text": [
      "Churn value:  -5\n",
      "Number day:  1\n",
      "Churn value:  -7\n",
      "Number day:  6\n"
     ]
    }
   ],
   "source": [
    "user_dynamics = [-5, 2, 4, 8, 12, -7, 5]\n",
    "number_negative = None #объявляем переменную, в которой будем хранить номер последнего дня оттока, изначально она пустая (None)\n",
    "N = len(user_dynamics) #вычисляем длину списка\n",
    "#создаём цикл по элементам последовательности от 0 до N (не включая N)\n",
    "for i, dynamic in enumerate(user_dynamics):\n",
    "#for i in range(N): # i — индекс текущего элемента\n",
    "    #проверяем условие оттока — текущий элемент отрицательный\n",
    "    if dynamic < 0: #если условие истинно,\n",
    "        #number_negative = i+1  #перезаписываем значение номера дня\n",
    "        print(\"Churn value: \", dynamic) # выводим количество ушедших в этот день пользователей\n",
    "        print(\"Number day: \", i+1) # выводим номер дня"
   ]
  },
  {
   "cell_type": "code",
   "execution_count": 28,
   "metadata": {},
   "outputs": [
    {
     "name": "stdout",
     "output_type": "stream",
     "text": [
      "inventory is full!\n",
      "['Blood Moon Sword', 'Sunset-colored sword', 'Bow of Stars']\n"
     ]
    }
   ],
   "source": [
    "# Мы разрабатываем игру, и в ней предусмотрен инвентарь с ограниченным числом ячеек. Переменная inventory описывает список вещей, которые хранятся у игрока в инвентаре. \n",
    "#Пусть изначально инвентарь пуст. У игрока есть только три свободные ячейки инвентаря.\n",
    "#Список вещей, которые он хочет положить, хранится в переменной to_inventory.\n",
    "to_inventory = ['Blood Moon Sword', 'Sunset-colored sword', 'Bow of Stars', 'Gain Stone']\n",
    "inventory = [] #задаём пустой инвентарь\n",
    "#создаём цикл по элементам списка to_inventory\n",
    "for item in to_inventory: #item — текущий элемент списка\n",
    "    #проверяем условие, что инвентарь уже заполнен\n",
    "    if len(inventory) == 3: #если условие выполняется,\n",
    "        print('inventory is full!') #выводим предупреждение об ошибке\n",
    "        break #завершаем работу цикла\n",
    "    else:#в противном случае\n",
    "        inventory.append(item) #добавляем предмет в инвентарь\n",
    "print(inventory)#выводим результирующий инвентарь"
   ]
  },
  {
   "cell_type": "code",
   "execution_count": 29,
   "metadata": {},
   "outputs": [
    {
     "name": "stdout",
     "output_type": "stream",
     "text": [
      "n - is not the power of the number 3!\n"
     ]
    }
   ],
   "source": [
    "#Необходимо написать программу, которая проверяет, что число n является степенью числа 3.\n",
    "n = 28 #задаём число\n",
    "#создаём бесконечный цикл\n",
    "while True:\n",
    "    #проверяем условие, что остаток от деления на 3 равен 0\n",
    "    if n % 3 == 0: #если условие выполняется,\n",
    "        n = n // 3 #новое число — результат целочисленного деления на 3\n",
    "        if n == 1: #если в результате деления получили 1,\n",
    "            print('n - is the power of the number 3!')#выводим утвердительное сообщение\n",
    "            break #выходим из цикла\n",
    "    else: #в противном случае\n",
    "        print('n - is not the power of the number 3!') #выводим сообщение-опровержение\n",
    "        break #выходим из цикла"
   ]
  },
  {
   "cell_type": "code",
   "execution_count": 30,
   "metadata": {},
   "outputs": [
    {
     "name": "stdout",
     "output_type": "stream",
     "text": [
      "14\n"
     ]
    }
   ],
   "source": [
    "#Допишите программу, которая проверяет гипотезу Сиракуз. Гипотеза Сиракуз заключается в том, что любое натуральное число можно свести к 1, если повторять над ним следующие действия:\n",
    "#если число чётное, разделить его пополам, т. е. n = n // 2;\n",
    "#если нечётное — умножить на 3, прибавить 1 и результат разделить на 2, т. е. n = (n * 3 + 1) // 2.\n",
    "n = 19 #задаём число\n",
    "#создаём бесконечный цикл\n",
    "while True:\n",
    "    n = n // 2\n",
    "    if n == 1: #если результат равен 1,\n",
    "        print('Syracuse hypothesis holds') #выводим утвердительное сообщение\n",
    "    else:\n",
    "        n = (n * 3 + 1) // 2\n",
    "    break\n",
    "print(n) "
   ]
  },
  {
   "cell_type": "code",
   "execution_count": 31,
   "metadata": {},
   "outputs": [
    {
     "name": "stdout",
     "output_type": "stream",
     "text": [
      "5\n"
     ]
    }
   ],
   "source": [
    "#Дан словарь my_dict. Его значения могут быть как строками (тип str), так и числами (типы int и float). Посчитайте, сколько значений в словаре my_dict являются числами. Используйте в своём коде оператор continue.\n",
    "my_dict = {'a': 15, 'b': 10.5, 'c': 15, 'd': 50, 'e': 15, 'f': '15'}\n",
    "S=0\n",
    "for n_id in my_dict:\n",
    "     if type(my_dict[n_id])==str:\n",
    "         continue\n",
    "     else:\n",
    "         S+=1\n",
    "print(S)"
   ]
  },
  {
   "cell_type": "code",
   "execution_count": 32,
   "metadata": {},
   "outputs": [
    {
     "name": "stdout",
     "output_type": "stream",
     "text": [
      "{'she': 3, 'sells': 3, 'sea': 6, 'shells': 6, 'on': 2, 'the': 4, 'shore': 3, 'that': 2, 'are': 2, 'i': 2, 'am': 2, 'sure': 2, 'so': 1, 'if': 1}\n"
     ]
    }
   ],
   "source": [
    "#Подсчитать количество вхождений каждого слова в заданном тексте. В результате работы программы должен быть сформирован словарь, ключи которого — слова текста, а значения — количество вхождений слов в тексте.\n",
    "text = \"\"\"\n",
    "She sells sea shells on the sea shore;\n",
    "The shells that she sells are sea shells I am sure.\n",
    "So if she sells sea shells on the sea shore,\n",
    "I am sure that the shells are sea shore shells.\n",
    "\"\"\"\n",
    "text = text.lower() #приводим текст к нижнему регистру\n",
    "text = text.replace(\"\\n\", \" \") #заменяем символы переноса строки на пробелы\n",
    "text = text.replace(\",\", \"\") #заменяем запятые на пустые строки\n",
    "text = text.replace(\".\", \"\") #заменяем точки на пустые строки\n",
    "text = text.replace(\";\", \"\") #заменяем точки с запятыми на пустые строки\n",
    "word_list = text.split()\n",
    "count_dict = {} #создаём пустой словарь для подсчёта количества слов\n",
    "#создаём цикл по словам в списке word_list\n",
    "for word in word_list: #word — текущее слово из списка word_list\n",
    "    #проверяем условие, что слова ещё нет среди ключей словаря\n",
    "    if word not in count_dict: #если условие выполняется,\n",
    "        count_dict[word] = 1 #заносим слово в словарь со значением 1\n",
    "    else: #в противном случае\n",
    "        count_dict[word] += 1 #увеличиваем частоту слова\n",
    "print(count_dict) #выводим результирующий словарь\n"
   ]
  },
  {
   "cell_type": "code",
   "execution_count": 33,
   "metadata": {},
   "outputs": [
    {
     "name": "stdout",
     "output_type": "stream",
     "text": [
      "[8, 5, 5, 5, 9, 7, 5, 10, 4, 7]\n",
      "5 4\n",
      "5 4\n",
      "5 4\n",
      "7 2\n",
      "5 4\n",
      "7 2\n"
     ]
    }
   ],
   "source": [
    "# С помощью цикла for проверьте, есть ли в полученном списке повторяющиеся числа. Для этого пройдитесь в цикле по элементам полученного списка и на каждом шаге проверьте, сколько раз текущий элемент встречается в списке.\n",
    "#Если хотя бы один из элементов встречается больше одного раза, выведите на экран строку 'yes' и прекратите выполнение цикла.\n",
    "import random\n",
    "my_list = []\n",
    "for i in range(0, 10):\n",
    "    my_list.append(random.randint(0, 10))\n",
    "print(my_list)\n",
    "for id in my_list:\n",
    "    if my_list.count(id) > 1:\n",
    "        print(id, my_list.count(id))\n",
    "        #break"
   ]
  },
  {
   "cell_type": "code",
   "execution_count": 34,
   "metadata": {},
   "outputs": [
    {
     "name": "stdout",
     "output_type": "stream",
     "text": [
      "[[0, 'Hel'], [1, 'my'], [2, 'nam'], [3, 'is'], [4, 'Eze'], [5, 'I'], [6, 'lik'], [7, 'kni']]\n"
     ]
    }
   ],
   "source": [
    "# В цикле добавляйте в список cut_str_list списки, состоящие из порядкового номера строки из списка str_list (номер в рамках данной задачи начинается от 0) и 3 первых символа из каждой строки.\n",
    "# Если длина строки меньше Трёх символов, то добавляется вся строка целиком.\n",
    "# В результате работы вашей программы в переменной cut_str_list должен храниться результирующий вложенный список.\n",
    "\n",
    "str_list = [\"Hello\", \"my\", \"name\", \"is\", \"Ezeikel\", \"I\", \"like\", \"knitting\"] #заданный список\n",
    "cut_str_list = [] #задаем новый список\n",
    "N=len(str_list)  \n",
    "#for text in str_list:\n",
    "for i in range(N):\n",
    "    #cut_str_list.append(text[:3])\n",
    "    cut_str_list.append([i, str_list[i][:3]])\n",
    "print(cut_str_list)"
   ]
  }
 ],
 "metadata": {
  "kernelspec": {
   "display_name": "Python 3.10.4 64-bit",
   "language": "python",
   "name": "python3"
  },
  "language_info": {
   "codemirror_mode": {
    "name": "ipython",
    "version": 3
   },
   "file_extension": ".py",
   "mimetype": "text/x-python",
   "name": "python",
   "nbconvert_exporter": "python",
   "pygments_lexer": "ipython3",
   "version": "3.10.4"
  },
  "orig_nbformat": 4,
  "vscode": {
   "interpreter": {
    "hash": "4604fddfbe3ec3d9d385c207fa0ddb9a05dfef66380401ad05b04bbd42d45367"
   }
  }
 },
 "nbformat": 4,
 "nbformat_minor": 2
}
