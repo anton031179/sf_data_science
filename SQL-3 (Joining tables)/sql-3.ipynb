{
 "cells": [
  {
   "cell_type": "markdown",
   "metadata": {},
   "source": [
    "В этом модуле мы будем работать с таблицами о футбольных матчах и командах.\n",
    "Таблицы этого модуля, как и все другие в курсе, лежат в схеме sql в Metabase. Нам понадобятся таблицы teams и matches.\n"
   ]
  },
  {
   "cell_type": "markdown",
   "metadata": {},
   "source": [
    "Задание 1.1\n",
    "Исследуйте данные датасета самостоятельно.\n",
    "→ Сколько различных полных названий команд в таблице teams?\n",
    "\n",
    "    SELECT \n",
    "        COUNT(DISTINCT long_name)\n",
    "    FROM sql.teams\n",
    "\n",
    "→ Сколько в таблице teams команд с коротким названием VAL?\n",
    "\n",
    "    SELECT\n",
    "        COUNT(DISTINCT long_name)\n",
    "    FROM sql.teams\n",
    "    WHERE (short_name = 'VAL')\n",
    "\n",
    "→ Информацию о скольких матчах содержит таблица matches?\n",
    "\n",
    "    SELECT \n",
    "        COUNT(*)\n",
    "    FROM sql.matches\n",
    "\n",
    "→ Данные за какие сезоны даны в таблице matches?\n",
    "\n",
    "    SELECT\n",
    "        season\n",
    "    FROM sql.matches\n",
    "    GROUP BY season\n",
    "    ORDER BY season DESC\n",
    "\n"
   ]
  },
  {
   "cell_type": "markdown",
   "metadata": {},
   "source": [
    "Задание 1.2\n",
    "Напишите запрос, который выведет сезон (season), общее количество забитых мячей домашними (total_home_goals) и гостевыми (total_away_goals) командами.\n",
    "Отсортируйте по столбцу с сезоном в порядке возрастания.\n",
    "\n",
    "    SELECT\n",
    "        season,\n",
    "        SUM(home_team_goals) AS total_home_goals,\n",
    "        SUM(away_team_goals) AS total_away_goals\n",
    "    FROM sql.matches\n",
    "    GROUP BY season\n",
    "    ORDER BY season ASC"
   ]
  },
  {
   "cell_type": "markdown",
   "metadata": {},
   "source": [
    "##  Соединение таблиц по ключу"
   ]
  },
  {
   "cell_type": "markdown",
   "metadata": {},
   "source": [
    "### ОБЪЕДИНЯЕМ ТАБЛИЦЫ БЕЗ ОПЕРАТОРОВ"
   ]
  },
  {
   "cell_type": "markdown",
   "metadata": {},
   "source": [
    "✍ Существует несколько способов соединения таблиц. Мы познакомимся со всеми основными операторами, которые используются для этих нужд, но начнём с простого метода объединения таблиц — без операторов.\n",
    "Чтобы соединить две таблицы между собой, достаточно записать названия таблиц через запятую в разделе from. Что произойдёт в таком случае?\n",
    "\n",
    "    SELECT *\n",
    "    FROM\n",
    "        sql.teams,\n",
    "        sql.matches\n",
    "\n",
    "Каждая запись, которая есть в таблице teams, будет соединена с каждой записью в таблице matches.\n",
    "Это действие также называют декартовым произведением таблиц.\n",
    "\n",
    "Действительно ли это произведение?\n",
    "\n",
    "Легко проверить! В исходных таблицах teams и matches было 299 и 25083 записей соответственно. Если соединить каждую запись одной таблицы с каждой записью другой, получится 299 * 25083 записей в итоговой таблице.\n"
   ]
  },
  {
   "cell_type": "markdown",
   "metadata": {},
   "source": [
    "Задание 2.1\n",
    "Напишите запрос, который выведет количество строк соединённой таблицы.\n",
    "\n",
    "    SELECT \n",
    "        COUNT(*)\n",
    "    FROM\n",
    "        sql.teams,\n",
    "        sql.matches\n",
    "\n"
   ]
  },
  {
   "cell_type": "markdown",
   "metadata": {},
   "source": [
    "В данном случае соединение таблиц не даёт практической пользы: мы получили очень много записей, которые никак не можем интерпретировать, потому что команды не соответствуют матчам.\n",
    "\n",
    "Давайте исправим это. В таблице teams есть столбец api_id, а таблица matches содержит столбцы home_team_api_id и away_team_api_id — это ключи таблиц, по которым они соединяются.\n",
    "\n",
    "Ключ — это поле (столбец) в таблице, которое позволяет однозначно идентифицировать запись (строку).\n",
    "\n",
    "Чтобы соединить таблицы и получить данные о домашней команде по каждому матчу, добавим условие\n",
    "where home_team_api_id = api_id.\n",
    "\n",
    "    SELECT *\n",
    "    FROM\n",
    "        sql.teams,\n",
    "        sql.matches\n",
    "    WHERE home_team_api_id = api_id\n",
    "\n",
    "Аналогично можем получить данные о гостевых командах: необходимо изменить условие на\n",
    "where away_team_api_id = api_id.\n",
    "\n",
    "    SELECT *\n",
    "    FROM\n",
    "        sql.teams,\n",
    "        sql.matches\n",
    "    WHERE away_team_api_id = api_id\n",
    "    \n",
    "Итак, мы только что объединили таблицы по ключу.\n",
    "\n",
    "\n",
    "\n"
   ]
  },
  {
   "cell_type": "markdown",
   "metadata": {},
   "source": [
    "Вы уже знакомы с ключами по таблице pokemon (там в этой роли выступал столбец id). Ключи нужны для того, чтобы иметь возможность не перепутать между собой различные записи.\n",
    "\n",
    "→ Например, у нас есть несколько команд с одинаковым названием: Polonia Bytom, Widzew Łódź и Royal Excel Mouscron — хотя это разные команды, с разными id.\n",
    "Кроме того, как мы уже смогли убедиться, ключи используются для соединения таблиц между собой.\n",
    "\n",
    "Ключи бывают двух основных типов:\n",
    "\n",
    "Primary — первичный ключ — служит для идентификации текущей таблицы и, как правило, идёт первым в списке столбцов. Всегда уникален: повторяющихся значений в основной таблице быть не может.  \n",
    "Foreign — внешний ключ — представляет собой ссылку на другую таблицу.  \n",
    "Как правило, названия ключей имеют «хвост», который позволяет их идентифицировать: например, _id, _rk, _cd, _pk (от primary_key), _fk (от foreign_key) и другие.\n",
    "\n",
    "Обратите внимание! В данном датасете ключ api_id таблицы teams может быть использован в разных значениях. Его можно использовать для того, чтобы получить информацию о домашней (home) или гостевой (away) команде."
   ]
  },
  {
   "cell_type": "markdown",
   "metadata": {},
   "source": [
    "Вы могли заметить, что в последних двух запросах получилось очень много столбцов. Как и при работе с одиночной таблицей, мы можем выбирать, какие столбцы соединённой таблицы выводить.\n",
    "\n",
    "С помощью известного нам запроса получим названия команд, игравших домашние матчи, и счёт матчей.\n",
    "\n",
    "    SELECT \n",
    "        long_name, \n",
    "        home_team_goals,\n",
    "        away_team_goals\n",
    "    FROM\n",
    "        sql.teams,\n",
    "        sql.matches\n",
    "    WHERE home_team_api_id = api_id"
   ]
  },
  {
   "cell_type": "markdown",
   "metadata": {},
   "source": [
    "Задание 2.2  \n",
    "Напишите запрос, который выведет таблицу с результатами матчей, содержащую:\n",
    "названия гостевых команд (long_name);  \n",
    "количество забитых мячей домашней команды (home_team_goals);  \n",
    "количество забитых мячей гостевой команды (away_team_goals).\n",
    "\n",
    "    SELECT \n",
    "        long_name, \n",
    "        home_team_goals,\n",
    "        away_team_goals\n",
    "    FROM\n",
    "        sql.teams,\n",
    "        sql.matches\n",
    "    WHERE away_team_api_id = api_id\n",
    "\n",
    "\n",
    "\n",
    "\n"
   ]
  },
  {
   "cell_type": "markdown",
   "metadata": {},
   "source": [
    "## Знакомимся с JOIN"
   ]
  },
  {
   "cell_type": "markdown",
   "metadata": {},
   "source": [
    "✍ В прошлом юните для соединения таблиц мы использовали условие в разделе where, чтобы показать принцип работы оператора JOIN.  \n",
    "\n",
    "JOIN — это оператор SQL, который позволяет соединять таблицы по условию."
   ]
  },
  {
   "cell_type": "markdown",
   "metadata": {},
   "source": [
    "В качестве примера используем запрос из предыдущего юнита.\n",
    "\n",
    "    SELECT \n",
    "        long_name,\n",
    "        home_team_goals,\n",
    "        away_team_goals\n",
    "    FROM\n",
    "        sql.teams,\n",
    "        sql.matches\n",
    "    WHERE home_team_api_id = api_id\n",
    "\n",
    "и запишем его с использованием JOIN:\n",
    "\n",
    "    SELECT \n",
    "        long_name,\n",
    "        home_team_goals,\n",
    "        away_team_goals\n",
    "    FROM    \n",
    "        sql.teams\n",
    "    JOIN sql.matches on home_team_api_id = api_id"
   ]
  },
  {
   "cell_type": "markdown",
   "metadata": {},
   "source": []
  },
  {
   "cell_type": "markdown",
   "metadata": {},
   "source": [
    "Задание 3.1\n",
    "Перепишите запрос из прошлого юнита\n",
    "\n",
    "    SELECT *\n",
    "    FROM\n",
    "        sql.teams,\n",
    "        sql.matches\n",
    "    WHERE away_team_api_id = api_id\n",
    "\n",
    "с использованием JOIN:\n",
    "    \n",
    "    SELECT *\n",
    "    FROM    \n",
    "        sql.teams\n",
    "    JOIN sql.matches on away_team_api_id = api_id"
   ]
  },
  {
   "cell_type": "markdown",
   "metadata": {},
   "source": [
    "## СИНТАКСИС"
   ]
  },
  {
   "cell_type": "markdown",
   "metadata": {},
   "source": [
    "Оператор JOIN упрощает процесс соединения таблиц.\n",
    "\n",
    "Его синтаксис можно представить следующим образом:\n",
    "\n",
    "    SELECT\n",
    "        столбец1,\n",
    "\t    столбец2,\n",
    "\t    ...\n",
    "    FROM\n",
    "\t    таблица1\n",
    "    JOIN таблица2 ON условие\n",
    "    \n",
    "Порядок присоединения таблиц в данном случае не важен — результат будет одинаковым."
   ]
  },
  {
   "cell_type": "markdown",
   "metadata": {},
   "source": [
    "С помощью JOIN можно соединить и более двух таблиц.\n",
    "\n",
    "    SELECT\n",
    "        столбец1,\n",
    "\t    столбец2,\n",
    "\t    ...\n",
    "    FROM\n",
    "\t    таблица1\n",
    "    JOIN таблица2 ON условие\n",
    "    JOIN таблица3 ON условие"
   ]
  },
  {
   "cell_type": "markdown",
   "metadata": {},
   "source": [
    "В таблицах, которые мы соединяем, могут быть одинаковые названия столбцов.\n",
    "\n",
    "→ К примеру, столбец id есть и в таблице matches, и в таблице teams. Такой запрос не будет обработан.\n",
    "\n",
    "    SELECT\n",
    "        id\n",
    "    FROM \n",
    "        sql.teams\n",
    "    JOIN sql.matches ON home_team_api_id = api_id\n",
    "\n",
    "В результате должно появиться сообщение об ошибке вроде такого: \"... column id is ambiguous ...\".  \n",
    "Что же делать в таком случае?"
   ]
  },
  {
   "cell_type": "markdown",
   "metadata": {},
   "source": [
    "Можно указать, откуда мы хотим запросить данные, записав название таблицы перед столбцом через точку.\n",
    "\n",
    "    SELECT\n",
    "        teams.id\n",
    "    FROM \n",
    "        sql.teams\n",
    "    JOIN sql.matches ON home_team_api_id = api_id\n",
    "\n",
    "Можно также выбрать и столбец из таблицы matches.\n",
    "\n",
    "    SELECT\n",
    "        matches.id\n",
    "    FROM \n",
    "        sql.teams\n",
    "    JOIN sql.matches on home_team_api_id = api_id"
   ]
  },
  {
   "cell_type": "markdown",
   "metadata": {},
   "source": [
    "Зачастую названия таблиц слишком длинные, так что использовать их неудобно.\n",
    "\n",
    "Упростить обращение к различным таблицам можно, присвоив им сокращённые названия — алиасы (от англ. alias).\n",
    "\n",
    "Синтаксис для указания алиаса такой же, как и для названия столбца.\n",
    "\n",
    "    SELECT\n",
    "        столбец1,\n",
    "\t    столбец2,\n",
    "\t    ...\n",
    "    FROM\n",
    "\t    таблица1 AS короткое_название_1\n",
    "    JOIN таблица2 AS короткое_название_2 ON условие\n",
    "    \n",
    "Название записывается без пробелов и операторов."
   ]
  },
  {
   "cell_type": "markdown",
   "metadata": {},
   "source": [
    "Если необходимо записать название на русском языке (\"таблица1\") или с пробелом (\"table 2\"), то алиас можно обернуть в кавычки.\n",
    "\n",
    "Важно! Обращаться по такому алиасу придётся также с помощью кавычек.\n",
    "\n",
    "    SELECT\n",
    "\t    \"таблица1\".столбец1,\n",
    "\t    \"table 2\".столбец2,\n",
    "\t    ...\n",
    "    FROM\n",
    "\t    таблица1 AS \"таблица1\"\n",
    "\tJOIN таблица2 AS \"table 2\" ON условие\n",
    "\n",
    "Использование таких алиасов считается плохой практикой как минимум по двум причинам:\n",
    "\n",
    "обращаться с такими алиасами неудобно;  \n",
    "названия на кириллице можно задать не во всех СУБД.  \n"
   ]
  },
  {
   "cell_type": "markdown",
   "metadata": {},
   "source": [
    "Вместо алиасов с кавычками рекомендуется давать простое короткое название на латинице, без специальных символов и пробелов.   \n",
    "Если таблиц немного и все названия начинаются с разных букв, можно присваивать алиасы по первой букве.\n",
    "\n",
    "Ключевое слово as, как и в названии столбца, можно опустить в большинстве СУБД.\n",
    "\n",
    "    SELECT\n",
    "        столбец1 новое_название_столбца,\n",
    "\t    столбец2 новое_название_столбца,\n",
    "\t    ...\n",
    "    FROM\n",
    "\t    таблица1 короткое_название_1\n",
    "    JOIN таблица2 короткое_название_2 ON условие"
   ]
  },
  {
   "cell_type": "markdown",
   "metadata": {},
   "source": [
    "Задание 3.2\n",
    "\n",
    "Напишите запрос, который выведет два столбца: id матча (match_id) и id домашней команды (team_id), — а затем отсортируйте по id матча в порядке возрастания значений.\n",
    "\n",
    "    SELECT\n",
    "        matches.id match_id,\n",
    "        teams.id team_id\n",
    "    FROM \n",
    "        sql.teams\n",
    "    JOIN sql.matches ON home_team_api_id = api_id\n",
    "    ORDER BY match_id ASC\n",
    "\n",
    "\n"
   ]
  },
  {
   "cell_type": "markdown",
   "metadata": {},
   "source": [
    "Кажется, теперь мы можем соединить таблицы между собой и создать своё табло со счётом матчей, как на спортивных сайтах!\n",
    "\n",
    "\n",
    "Давайте с помощью запроса SQL получим таблицу, содержащую:\n",
    "\n",
    "название домашней команды;  \n",
    "количество забитых домашней командой голов;  \n",
    "количество забитых гостевой командой голов;  \n",
    "название гостевой команды.\n",
    "\n",
    "    SELECT\n",
    "        h.long_name \"домашняя команда\",\n",
    "        m.home_team_goals \"голы домашней команды\",\n",
    "        m.away_team_goals \"голы гостевой команды\",\n",
    "        a.long_name \"гостевая команда\" \n",
    "    FROM\n",
    "        sql.matches m\n",
    "        JOIN sql.teams h ON m.home_team_api_id = h.api_id\n",
    "        JOIN sql.teams a ON m.away_team_api_id = a.api_id"
   ]
  },
  {
   "cell_type": "markdown",
   "metadata": {},
   "source": [
    "Задание 3.3  \n",
    "Напишите запрос, который выведет столбцы: id матча, короткое название домашней команды (home_short), короткое название гостевой команды (away_short).  \n",
    "Отсортируйте запрос по возрастанию id матча.\n",
    "\n",
    "    SELECT\n",
    "        m.id match_id,\n",
    "        h.short_name home_short,\n",
    "        a.short_name away_short  \n",
    "    FROM\n",
    "        sql.matches m\n",
    "        JOIN sql.teams h ON m.home_team_api_id = h.api_id\n",
    "        JOIN sql.teams a ON m.away_team_api_id = a.api_id\n",
    "    ORDER BY match_id ASC\n",
    "\n"
   ]
  },
  {
   "cell_type": "markdown",
   "metadata": {},
   "source": [
    "## Фильтрация и агрегатные функции"
   ]
  },
  {
   "cell_type": "markdown",
   "metadata": {},
   "source": [
    "###  РАБОТА С ОБЪЕДИНЁННЫМИ ТАБЛИЦАМИ"
   ]
  },
  {
   "cell_type": "markdown",
   "metadata": {},
   "source": [
    "✍ Соединять таблицы мы научились, теперь давайте научимся получать необходимые данные из нескольких таблиц ↓\n",
    "\n",
    "Принцип построения запроса и порядок операторов такой же, как и с обычной таблицей.\n",
    "\n",
    "Вспомним его:\n",
    "\n",
    "    SELECT... \n",
    "    FROM... \n",
    "    WHERE... \n",
    "    GROUP BY... \n",
    "    ORDER BY... \n",
    "    LIMIT..."
   ]
  },
  {
   "cell_type": "markdown",
   "metadata": {},
   "source": [
    "### ФИЛЬТРАЦИЯ ДАННЫХ"
   ]
  },
  {
   "cell_type": "markdown",
   "metadata": {},
   "source": [
    "К соединённым таблицам применимы функции фильтрации данных.\n",
    "\n",
    "Например, можно вывести id матчей, в которых команда Arsenal была гостевой.\n",
    "\n",
    "    SELECT \n",
    "        m.id\n",
    "    FROM\n",
    "        sql.teams t\n",
    "        JOIN sql.matches m ON m.away_team_api_id = t.api_id\n",
    "    WHERE long_name = 'Arsenal'"
   ]
  },
  {
   "cell_type": "markdown",
   "metadata": {},
   "source": [
    "Принципиальное отличие фильтрации данных по соединённым таблицам от аналогичного действия по одиночным таблицам заключается в том, что, фильтруя записи одной таблицы, мы также будем фильтровать и записи другой таблицы, поскольку соединённые на уровне запроса таблицы по сути являются единой таблицей.\n",
    "\n",
    "Например, результат запроса\n",
    "\n",
    "    SELECT \n",
    "\t    m.id id_1,\n",
    "\t    m.season,\n",
    "\t    t.id id_2,\n",
    "\t    t.long_name\n",
    "    FROM\n",
    "\t    sql.teams t\n",
    "    JOIN sql.matches m ON m.away_team_api_id = t.api_id\n",
    "\n",
    "можно разделить на две разные части:\n",
    "\n",
    "Одна часть — таблица matches с алиасом m, вторая — teams с алиасом t, но после соединения они являются одной таблицей.\n",
    "\n",
    "Таким образом, если вы отфильтруете данные по одной части таблицы, то другая, соединённая, часть пропадёт вместе с ней."
   ]
  },
  {
   "cell_type": "markdown",
   "metadata": {},
   "source": [
    "Задание 4.1\n",
    "Напишите запрос, который выведет полное название команды (long_name), количество голов домашней команды (home_goal) и количество голов гостевой команды (away_goal) в матчах, где домашней командой были команды с коротким названием ‘GEN’. \n",
    "Отсортируйте запрос по id матча в порядке возрастания.\n",
    "\n",
    "    SELECT \n",
    "        t.long_name long_name,\n",
    "        m.home_team_goals home_goal,\n",
    "        m.away_team_goals away_goal \n",
    "    FROM\n",
    "        sql.teams t\n",
    "        JOIN sql.matches m ON m.home_team_api_id = t.api_id\n",
    "    WHERE t.short_name = 'GEN'\n",
    "    ORDER BY m.id ASC\n",
    "\n"
   ]
  },
  {
   "cell_type": "markdown",
   "metadata": {},
   "source": [
    "Также мы можем отфильтровать записи сразу по двум таблицам.\n",
    "\n",
    "Например, можно оставить только записи, в которых короткое название домашней команды GEN и матчи сезона 2008/2009.\n",
    "\n",
    "    SELECT *\n",
    "    FROM    \n",
    "        sql.matches m\n",
    "        JOIN sql.teams t on t.api_id = m.home_team_api_id\n",
    "    WHERE\n",
    "        t.short_name = 'GEN'\n",
    "        AND m.season = '2008/2009'"
   ]
  },
  {
   "cell_type": "markdown",
   "metadata": {},
   "source": [
    "Задание 4.2\n",
    "Напишите запрос, чтобы вывести id матчей, короткое название домашней команды (home_short), короткое название гостевой команды (away_short) для матчей сезона 2011/2012, в которых участвовала команда с названием Liverpool.  \n",
    "Отсортируйте по id матча в порядке возрастания.\n",
    "\n",
    "    SELECT\n",
    "        m.id,\n",
    "        h.short_name home_short,\n",
    "        a.short_name away_short\n",
    "    FROM\n",
    "        sql.matches m\n",
    "        JOIN sql.teams h ON m.home_team_api_id = h.api_id\n",
    "        JOIN sql.teams a ON m.away_team_api_id = a.api_id\n",
    "    WHERE \n",
    "        (h.long_name = 'Liverpool'\n",
    "        OR a.long_name = 'Liverpool')\n",
    "        AND m.season = '2011/2012'\n",
    "    ORDER BY m.id ASC\n"
   ]
  },
  {
   "cell_type": "markdown",
   "metadata": {},
   "source": [
    "### АГРЕГАЦИЯ ДАННЫХ"
   ]
  },
  {
   "cell_type": "markdown",
   "metadata": {},
   "source": [
    "К соединённым таблицам также применимы любые агрегатные функции — самые важные функции для анализа данных.\n",
    "\n",
    "Например, мы можем вывести сумму голов по командам для матчей, где команда выступала в гостях.\n",
    "\n",
    "    SELECT\n",
    "        t.long_name,\n",
    "        SUM(m.home_team_goals) + SUM(m.away_team_goals) match_goals\n",
    "    FROM\n",
    "        sql.matches m\n",
    "        JOIN sql.teams t ON m.away_team_api_id = t.api_id \n",
    "    GROUP BY t.id\n",
    "    \n",
    "Обратите внимание! В данном запросе была использована группировка по столбцу id таблицы teams, хотя этот столбец не выводится в запросе. Это необходимо для того, чтобы команды с одинаковым названием, если такие найдутся, не группировались между собой. Группировка по названию команды в данном запросе будет неверной, так как есть несколько команд с одинаковым полным названием — мы говорили об этом в начале модуля."
   ]
  },
  {
   "cell_type": "markdown",
   "metadata": {},
   "source": [
    "Также, применяя агрегатные функции к соединённым таблицам, обращайте внимание на указание алиасов (или таблиц) при группировке и указании столбцов агрегатных функций. В нашей соединённой таблице есть два столбца с названием id, и если бы мы сформировали запрос без указания таблицы, как указано ниже, то...\n",
    "\n",
    "    SELECT\n",
    "        t.long_name,\n",
    "        SUM(m.home_team_goals) + SUM(m.away_team_goals) match_goals\n",
    "    FROM \n",
    "        sql.matches m\n",
    "        JOIN sql.teams t ON m.away_team_api_id = t.api_id\n",
    "    GROUP BY id\n",
    "    \n",
    "система выдала бы уже знакомую нам ошибку: \"... column \"id\" is ambiguous ...\"."
   ]
  },
  {
   "cell_type": "markdown",
   "metadata": {},
   "source": [
    "Также, применяя агрегатные функции к соединённым таблицам, обращайте внимание на указание алиасов (или таблиц) при группировке и указании столбцов агрегатных функций. В нашей соединённой таблице есть два столбца с названием id, и если бы мы сформировали запрос без указания таблицы, как указано ниже, то...\n",
    "\n",
    "    SELECT\n",
    "        t.long_name,\n",
    "        SUM(m.home_team_goals) + SUM(m.away_team_goals) match_goals\n",
    "    FROM \n",
    "        sql.matches m\n",
    "        JOIN sql.teams t ON m.away_team_api_id = t.api_id\n",
    "    GROUP BY id\n",
    "    \n",
    "система выдала бы уже знакомую нам ошибку: \"... column \"id\" is ambiguous ...\"."
   ]
  },
  {
   "cell_type": "markdown",
   "metadata": {},
   "source": [
    "\n",
    "Мы можем использовать оператор HAVING для фильтрации сгруппированных данных.\n",
    "\n",
    "Поставим задачу — вывести таблицу с суммарным количеством забитых голов в матчах по командам и сезонам для команд, в которых суммарное количество голов в матчах сезона больше 100.\n",
    "\n",
    "Для начала посчитаем общее количество голов в матчах по сезонам.\n",
    "\n",
    "    SELECT\n",
    "        m.season,\n",
    "        SUM(m.home_team_goals) + SUM(m.away_team_goals) total_goals\n",
    "    FROM sql.matches m\n",
    "    GROUP BY m.season\n",
    "\n",
    "Затем добавим таблицу с командами, группировку по командам и условие фильтрации.\n",
    "\n",
    "    SELECT\n",
    "        m.season,\n",
    "        t.long_name,\n",
    "        SUM(m.home_team_goals) + SUM(m.away_team_goals) total_goals\n",
    "    FROM sql.matches m\n",
    "    JOIN sql.teams t ON t.api_id = m.home_team_api_id OR t.api_id = m.away_team_api_id\n",
    "    GROUP BY m.season, t.id\n",
    "    HAVING SUM(m.home_team_goals) + SUM(m.away_team_goals) > 100"
   ]
  },
  {
   "cell_type": "markdown",
   "metadata": {},
   "source": [
    "Задание 4.3\n",
    "Напишите запрос, с помощью которого можно вывести список полных названий команд, сыгравших в гостях 150 и более матчей.  \n",
    "Отсортируйте список по названию команды.\n",
    "\n",
    "    SELECT\n",
    "        t.long_name,\n",
    "        COUNT (m.away_team_api_id)\n",
    "    FROM sql.matches m\n",
    "    JOIN sql.teams t ON t.api_id = m.away_team_api_id\n",
    "    GROUP BY t.id\n",
    "    HAVING COUNT (m.away_team_api_id) >= 150\n",
    "    ORDER BY t.long_name\n"
   ]
  },
  {
   "cell_type": "markdown",
   "metadata": {},
   "source": [
    "## Способы соединения таблиц"
   ]
  },
  {
   "cell_type": "markdown",
   "metadata": {},
   "source": [
    "### ОПЕРАТОРЫ"
   ]
  },
  {
   "cell_type": "markdown",
   "metadata": {},
   "source": [
    "✍ В прошлых юнитах для соединения таблиц мы использовали один оператор — JOIN. В действительности же он не один: существует несколько различных видов соединений (join’ов) — давайте посмотрим, какие:\n",
    "\n",
    "##### INNER JOIN\n",
    "INNER JOIN — это тот же JOIN (слово inner в операторе можно опустить).\n",
    "Для INNER JOIN работает следующее правило: присоединяются только те строки таблиц, которые удовлетворяют условию соединения. Если в любой из соединяемых таблиц находятся такие строки, которые не удовлетворяют заявленному условию, — они отбрасываются.\n",
    "\n",
    "Рассмотрим на примере нашего датасета. \n",
    "\n",
    "В таблице teams есть данные о 299 различных командах — можем проверить это с помощью запроса.\n",
    "\n",
    "    SELECT \n",
    "    COUNT(DISTINCT id)\n",
    "    FROM sql.teams\n",
    "\n",
    "или\n",
    "\n",
    "    SELECT \n",
    "    COUNT(DISTINCT api_id)\n",
    "    FROM sql.teams\n",
    "\n",
    "Теперь добавим к teams таблицу с матчами.\n",
    "\n",
    "    SELECT \n",
    "    COUNT(DISTINCT t.id) \n",
    "    FROM \n",
    "    sql.teams t\n",
    "    JOIN sql.matches m ON t.api_id = m.home_team_api_id OR t.api_id = m.away_team_api_id\n",
    "\n",
    "И в таблице останется уже не 299 команд, а только 292.\n",
    "\n",
    "Почему?\n",
    "\n",
    "Дело в том, что таблица sql.matches по какой-то причине не содержит информацию о командах Lierse SK, KVC Westerlo, KAS Eupen, Club Brugge KV, KV Oostende, RSC Anderlecht и Hull City, зато они есть в таблице sql.teams. Возможно, эти команды не участвовали ни в одном матче или записи по этим матчам были удалены.\n",
    "\n"
   ]
  },
  {
   "cell_type": "markdown",
   "metadata": {},
   "source": [
    "### LEFT OUTER JOIN И RIGHT OUTER JOIN\n",
    "\n",
    "Также существуют схожие друг с другом типы соединения — LEFT JOIN и RIGHT JOIN (слово outer в операторе можно опустить).\n",
    "\n",
    "Для LEFT JOIN работает следующее правило: из левой (относительно оператора) таблицы сохраняются все строки, а из правой добавляются только те, которые соответствуют условию соединения. Если в правой таблице не находится соответствия, то значения строк второй таблицы будут иметь значение NULL.\n",
    "\n",
    "LEFT JOIN может быть полезен, когда соответствующих записей во второй таблице может не быть, но важно сохранить записи из первой таблицы.\n",
    "\n",
    "Почему соответствий может не быть?\n",
    "\n",
    "Причины могут быть разные, назовём две основные:\n",
    "\n",
    "1. Различная бизнес-логика таблиц.  \n",
    "Пример: в интернет-магазине почти всегда можно оформить заказ с промокодом. Вполне вероятно, что информация о промокодах хранится в отдельной таблице, но при этом не для каждого заказа будет существовать промокод, поскольку покупку можно оформить и без него.\n",
    "\n",
    "2. Разное время обновления таблиц.  \n",
    "Пример: клиент зарегистрировался на сайте интернет-магазина и оформил заказ. Данные о регистрации клиентов могут обновляться в базе данных раз в неделю, а о заказах — раз в сутки."
   ]
  },
  {
   "cell_type": "markdown",
   "metadata": {},
   "source": [
    "→ Поставим следующую задачу: вывести полные названия команд, данных по которым нет в таблице matches.\n",
    "\n",
    "Для начала посмотрим на результат запроса после соединения.\n",
    "\n",
    "    SELECT\n",
    "        t.long_name,\n",
    "        m.id\n",
    "    FROM sql.teams t\n",
    "    LEFT JOIN sql.matches m ON t.api_id = m.home_team_api_id OR t.api_id = m.away_team_api_id\n",
    "    ORDER BY m.id DESC\n",
    "    \n",
    "Вывод: в таблице teams сохранились все записи, а в таблице matches есть пустые строки."
   ]
  },
  {
   "cell_type": "markdown",
   "metadata": {},
   "source": [
    "Теперь, чтобы выбрать такие команды, которые не принимали участия в матчах, достаточно добавить условие where m.id is null (или любое другое поле таблицы matches).\n",
    "\n",
    "    SELECT\n",
    "        t.long_name\n",
    "    FROM \n",
    "        sql.teams t\n",
    "    LEFT JOIN sql.matches m ON t.api_id = m.home_team_api_id OR t.api_id = m.away_team_api_id\n",
    "    WHERE m.id IS NULL"
   ]
  },
  {
   "cell_type": "markdown",
   "metadata": {},
   "source": [
    "Обратите внимание! Если мы добавим какой-либо фильтр по значению для таблицы matches, то LEFT JOIN превратится в INNER JOIN, поскольку для второй таблицы станет необходимым присутствие значения в строке.\n",
    "\n",
    "    SELECT\n",
    "        t.long_name \n",
    "    FROM sql.teams t\n",
    "    LEFT JOIN sql.matches m ON t.api_id = m.home_team_api_id OR t.api_id = m.away_team_api_id\n",
    "    WHERE\n",
    "        m.season = '2008/2009'\n",
    "    AND t.long_name = 'KAS Eupen'\n",
    "    \n",
    "В ответе Metabase получим No results!, так как вместе с фильтром m.season = '2008/2009' исчезли все строки, значения которых NULL."
   ]
  },
  {
   "cell_type": "markdown",
   "metadata": {},
   "source": [
    "Задание 5.1\n",
    "Используя LEFT JOIN, выведите список уникальных названий команд, содержащихся в таблице matches.  \n",
    "Отсортируйте список в алфавитном порядке.  \n",
    "\n",
    "    SELECT\n",
    "        DISTINCT t.long_name\n",
    "    FROM sql.teams t\n",
    "    LEFT JOIN sql.matches m ON t.api_id = m.home_team_api_id or t.api_id = m.away_team_api_id\n",
    "    WHERE m.id is not null\n",
    "    ORDER BY 1\n",
    "\n",
    "\n"
   ]
  },
  {
   "cell_type": "markdown",
   "metadata": {},
   "source": [
    "Задание 5.2\n",
    "Используя LEFT JOIN, напишите запрос, который выведет полное название команды (long_name), количество матчей, в которых участвовала команда, — домашних и гостевых (matches_cnt).\n",
    "Отсортируйте по количеству матчей в порядке возрастания, затем по названию команды в алфавитном порядке.\n",
    "\n",
    "    SELECT\n",
    "        t.long_name long_name,\n",
    "        COUNT (m.id) AS matches_cnt\n",
    "    FROM \n",
    "        sql.teams t\n",
    "    LEFT JOIN sql.matches m ON t.api_id = m.home_team_api_id OR t.api_id = m.away_team_api_id\n",
    "    GROUP BY t.id\n",
    "    ORDER BY 2 ASC, 1\n",
    "\n"
   ]
  },
  {
   "cell_type": "markdown",
   "metadata": {},
   "source": [
    "При использовании RIGHT JOIN сохраняется та же логика, что и для LEFT JOIN, только за основу берётся правая таблица.\n",
    "\n",
    "Чтобы из LEFT JOIN получить RIGHT JOIN, нужно просто поменять порядок соединения таблиц.\n",
    "\n",
    "Вообще, применение RIGHT JOIN считается плохим тоном, так как язык SQL читается и пишется слева направо, а такой оператор усложняет чтение запросов."
   ]
  },
  {
   "cell_type": "markdown",
   "metadata": {},
   "source": [
    "### FULL OUTER JOIN"
   ]
  },
  {
   "cell_type": "markdown",
   "metadata": {},
   "source": [
    "Оператор FULL OUTER JOIN объединяет в себе LEFT и RIGHT JOIN и позволяет сохранить кортежи обеих таблиц. Даже если не будет соответствий, мы сохраним все записи из обеих таблиц.\n",
    "\n",
    "FULL OUTER JOIN может быть полезен в ситуациях, когда схема данных недостаточно нормализована и не хватает таблиц-справочников.\n",
    "\n",
    "Пример: в базе данных интернет-магазина есть две таблицы — с зарегистрированными пользователями и пользователями, оформившими заказ. При этом оформить заказ можно без регистрации, а зарегистрироваться — без оформления заказа.\n",
    "\n",
    "Предположим, что вам необходимо получить полный список пользователей — и оформивших заказ, и зарегистрированных, — но в базе данных этой объединённой таблицы нет. В данном случае можно использовать FULL OUTER JOIN для получения полного списка, соединив таким образом таблицы c заказами и регистрациями по id пользователя.\n",
    "\n",
    "\n",
    "Синтаксис FULL OUTER JOIN аналогичен другим JOIN.\n",
    "\n",
    "    SELECT \n",
    "    …\n",
    "    FROM\n",
    "\t    table1\n",
    "    FULL OUTER JOIN table2 ON условие"
   ]
  },
  {
   "cell_type": "markdown",
   "metadata": {},
   "source": [
    "### CROSS JOIN"
   ]
  },
  {
   "cell_type": "markdown",
   "metadata": {},
   "source": [
    "На самом деле с этим оператором соединения таблиц вы познакомились в самом начале текущего модуля.\n",
    "\n",
    "CROSS JOIN соединяет таблицы так, что каждая запись в первой таблице присоединяется к каждой записи во второй таблице, иначе говоря, даёт декартово произведение.\n",
    "\n",
    "В начале модуля вы использовали этот оператор, записывая таблицы через запятую.\n",
    "\n",
    "    SELECT *\n",
    "    FROM\n",
    "        sql.teams,\n",
    "        sql.matches\n",
    "\n",
    "Этот же запрос можно записать с использованием CROSS JOIN.\n",
    "\n",
    "    SELECT *\n",
    "    FROM\n",
    "        sql.teams\n",
    "        CROSS JOIN sql.matches\n",
    "        \n",
    "Обратите внимание! Условие для CROSS JOIN, в отличие от других операторов, не требуется."
   ]
  },
  {
   "cell_type": "markdown",
   "metadata": {},
   "source": [
    "Также этот запрос можно записать с помощью INNER JOIN с условием on true — результат будет тот же.\n",
    "\n",
    "    SELECT *\n",
    "    FROM\n",
    "        sql.teams\n",
    "        JOIN sql.matches ON TRUE\n",
    "\n",
    "CROSS JOIN может быть полезен, когда необходимо создать таблицу фактов.\n",
    "Например, с помощью такого запроса мы можем получить все возможные комбинации полных названий команд в матчах.\n",
    "\n",
    "    SELECT\n",
    "        DISTINCT\n",
    "        t1.long_name home_team, \n",
    "        t2.long_name away_team\n",
    "    FROM\n",
    "        sql.teams t1\n",
    "        CROSS JOIN sql.teams t2"
   ]
  },
  {
   "cell_type": "markdown",
   "metadata": {},
   "source": [
    "Задание 5.3\n",
    "Напишите запрос, который выведет все возможные уникальные комбинации коротких названий домашней команды (home_team) и коротких названий гостевой команды (away_team).\n",
    "Отсортируйте запрос по первому и второму столбцам.\n",
    "\n",
    "    SELECT\n",
    "        DISTINCT\n",
    "        t1.short_name home_team, \n",
    "        t2.short_name away_team\n",
    "    FROM\n",
    "        sql.teams t1\n",
    "        CROSS JOIN sql.teams t2\n",
    "    ORDER BY 1, 2\n",
    "    \n",
    "\n"
   ]
  },
  {
   "cell_type": "markdown",
   "metadata": {},
   "source": [
    "### NATURAL JOIN"
   ]
  },
  {
   "cell_type": "markdown",
   "metadata": {},
   "source": [
    "Ключевое слово natural в начале оператора JOIN позволяет не указывать условие соединения таблиц — для соединения будут использованы столбцы с одинаковым названием из этих таблиц.\n",
    "\n",
    "NATURAL JOIN можно использовать с любыми видами соединений, которые требуют условия соединения:\n",
    "\n",
    "→ NATURAL INNER JOIN (возможна запись NATURAL JOIN);  \n",
    "→ NATURAL LEFT JOIN;  \n",
    "→ NATURAL RIGHT JOIN;  \n",
    "→ NATURAL FULL OUTER JOIN.  \n",
    "\n",
    "При использовании NATURAL JOIN прежде всего стоит обратить внимание на ключи таблиц. Для наших таблиц teams и matches этот вид соединения не подойдёт, так как общим для обеих таблиц является столбец id, но таблицы соединяются по другим столбцам.\n",
    "\n",
    "Когда у таблиц есть несколько столбцов с одинаковыми именами, при NATURAL JOIN условие соединения будет применено на все столбцы с одинаковыми именами.\n",
    "\n",
    "То есть для таблиц table1 и table2\n",
    "\n",
    "table1: id, name, ...\n",
    "\n",
    "table2: id, name, ...\n",
    "\n",
    "запрос\n",
    "\n",
    "    SELECT \n",
    "    …\n",
    "    FROM \n",
    "            table1 \n",
    "    NATURAL JOIN table2\n",
    "\n",
    "будет равнозначен запросу\n",
    "\n",
    "    SELECT\n",
    "    …\n",
    "    FROM \n",
    "            table1 t1\n",
    "    INNER JOIN table2 t2 ON t1.id = t2.id AND t1.name = t2.name"
   ]
  },
  {
   "cell_type": "markdown",
   "metadata": {},
   "source": [
    "### ОБЩАЯ ЛОГИКА ПОСТРОЕНИЯ ЗАПРОСА С JOIN:"
   ]
  },
  {
   "cell_type": "markdown",
   "metadata": {},
   "source": [
    "При построении запроса с несколькими JOIN старайтесь идти слева направо. Сначала выберите таблицу, которая является центральной в соответствии с поставленной задачей, вопросом. Затем добавляйте таблицы поэтапно в зависимости от бизнес-логики запроса.\n",
    "\n",
    "Например, для ответа на вопрос: «Какая команда сыграла больше всех матчей в сезоне 2010/2011?» в качестве центральной лучше выбрать таблицу с командами.\n",
    "\n",
    "А для ответа на вопрос: «В каком сезоне участвовало больше всего команд?» — таблицу с матчами.\n",
    "\n",
    "Стоит отметить, что из рассмотренных видов соединений чаще всего используются INNER JOIN и LEFT JOIN. Другие операторы используются реже, но стоит помнить об их существовании при решении нестандартных задач."
   ]
  },
  {
   "cell_type": "markdown",
   "metadata": {},
   "source": [
    "### Закрепление знаний"
   ]
  },
  {
   "cell_type": "markdown",
   "metadata": {},
   "source": [
    "Задание 6.1\n",
    "Напишите запрос, который выведет список уникальных полных названий команд (long_name), игравших в гостях в матчах сезона 2012/2013.\n",
    "Отсортируйте список в алфавитном порядке.\n",
    "\n",
    "    SELECT\n",
    "        DISTINCT t.long_name long_name\n",
    "    FROM \n",
    "        sql.teams t\n",
    "        JOIN sql.matches m ON t.api_id = m.away_team_api_id\n",
    "    WHERE\n",
    "        m.season = '2012/2013'\n",
    "    ORDER BY 1 \n",
    "\n"
   ]
  },
  {
   "cell_type": "markdown",
   "metadata": {},
   "source": [
    "Задание 6.2\n",
    "Напишите запрос, который выведет полное название команды (long_name) и общее количество матчей (matches_cnt), сыгранных командой Inter в домашних матчах.\n",
    "\n",
    "    SELECT\n",
    "        t.long_name long_name,\n",
    "        COUNT (m.id) AS matches_cnt\n",
    "    FROM \n",
    "        sql.teams t\n",
    "    JOIN sql.matches m ON t.api_id = m.home_team_api_id \n",
    "    WHERE\n",
    "    t.long_name = 'Inter'\n",
    "    GROUP BY t.long_name \n"
   ]
  },
  {
   "cell_type": "markdown",
   "metadata": {},
   "source": [
    "Задание 6.3\n",
    "Напишите запрос, который выведет ТОП-10 команд (long_name) по суммарному количеству забитых голов в гостевых матчах. Во втором столбце запроса выведите суммарное количество голов в гостевых матчах (total_goals).\n",
    "\n",
    "    SELECT\n",
    "        t.long_name long_name,\n",
    "        SUM(m.away_team_goals) total_goals\n",
    "    FROM \n",
    "        sql.teams t\n",
    "    JOIN sql.matches m ON t.api_id = m.away_team_api_id \n",
    "    GROUP BY t.id\n",
    "    ORDER BY 2 DESC\n",
    "    LIMIT 10\n",
    "    "
   ]
  },
  {
   "cell_type": "markdown",
   "metadata": {},
   "source": [
    "Задание 6.4\n",
    "Выведите количество матчей между командами Real Madrid CF и FC Barcelona.\n",
    "\n",
    "    SELECT\n",
    "        COUNT (m.id)\n",
    "    FROM \n",
    "        sql.matches m\n",
    "    JOIN sql.teams a ON a.api_id = m.away_team_api_id \n",
    "    JOIN sql.teams h ON h.api_id = m.home_team_api_id\n",
    "    WHERE (a.long_name = 'Real Madrid CF' AND h.long_name = 'FC Barcelona') OR (h.long_name = 'Real Madrid CF' AND a.long_name = 'FC Barcelona')\n",
    "\n",
    "\n"
   ]
  },
  {
   "cell_type": "markdown",
   "metadata": {},
   "source": [
    "Задание 6.5\n",
    "Напишите запрос, который выведет название команды (long_name), сезон (season) и суммарное количество забитых голов в домашних матчах (total_goals).\n",
    "Оставьте только те строки, в которых суммарное количество голов менее десяти.\n",
    "Отсортируйте запрос по названию команды, а затем — по сезону.\n",
    "\n",
    "    SELECT\n",
    "        t.long_name long_name,\n",
    "        m.season season,\n",
    "        SUM(m.home_team_goals) total_goals\n",
    "    FROM \n",
    "        sql.teams t\n",
    "    JOIN sql.matches m ON t.api_id = m.home_team_api_id \n",
    "    GROUP BY t.id, m.season\n",
    "    HAVING SUM(m.home_team_goals) < 10\n",
    "    ORDER BY 1, 2 \n",
    "\n"
   ]
  }
 ],
 "metadata": {
  "kernelspec": {
   "display_name": "Python 3.10.4 64-bit",
   "language": "python",
   "name": "python3"
  },
  "language_info": {
   "name": "python",
   "version": "3.10.4"
  },
  "orig_nbformat": 4,
  "vscode": {
   "interpreter": {
    "hash": "4604fddfbe3ec3d9d385c207fa0ddb9a05dfef66380401ad05b04bbd42d45367"
   }
  }
 },
 "nbformat": 4,
 "nbformat_minor": 2
}
