{
 "cells": [
  {
   "cell_type": "code",
   "execution_count": 1,
   "metadata": {},
   "outputs": [],
   "source": [
    "import pandas as pd\n",
    "import matplotlib.pyplot as plt\n",
    "import seaborn as sns\n",
    "import plotly.express as px"
   ]
  },
  {
   "cell_type": "code",
   "execution_count": 13,
   "metadata": {},
   "outputs": [
    {
     "data": {
      "text/html": [
       "<div>\n",
       "<style scoped>\n",
       "    .dataframe tbody tr th:only-of-type {\n",
       "        vertical-align: middle;\n",
       "    }\n",
       "\n",
       "    .dataframe tbody tr th {\n",
       "        vertical-align: top;\n",
       "    }\n",
       "\n",
       "    .dataframe thead th {\n",
       "        text-align: right;\n",
       "    }\n",
       "</style>\n",
       "<table border=\"1\" class=\"dataframe\">\n",
       "  <thead>\n",
       "    <tr style=\"text-align: right;\">\n",
       "      <th></th>\n",
       "      <th>Тип организации</th>\n",
       "      <th>Наименование организации</th>\n",
       "      <th>Служба, дирекция, региональный центр</th>\n",
       "      <th>Подразделение</th>\n",
       "      <th>Предприятие подразделения</th>\n",
       "      <th>Классификация МинТранс</th>\n",
       "      <th>Регион</th>\n",
       "      <th>Год</th>\n",
       "      <th>Виновное предприятие</th>\n",
       "      <th>Дирекция</th>\n",
       "      <th>Риск</th>\n",
       "      <th>Месяц</th>\n",
       "      <th>Председатель</th>\n",
       "      <th>Источник риск-факторов</th>\n",
       "      <th>Ущерб</th>\n",
       "    </tr>\n",
       "  </thead>\n",
       "  <tbody>\n",
       "    <tr>\n",
       "      <th>0</th>\n",
       "      <td>Функциональный филиал</td>\n",
       "      <td>ФФ ЦДРП</td>\n",
       "      <td>ДРП СВЕРД</td>\n",
       "      <td>ПМС-43 ДРП (СМЫЧКА)</td>\n",
       "      <td>NaN</td>\n",
       "      <td>Столкновения железнодорожного подвижного соста...</td>\n",
       "      <td>4. Нижнетагильский</td>\n",
       "      <td>2022</td>\n",
       "      <td>ПМС-43 ДРП (СМЫЧКА)</td>\n",
       "      <td>ДРП</td>\n",
       "      <td>Недопустимый</td>\n",
       "      <td>Декабрь</td>\n",
       "      <td>НЗ-ТЕР</td>\n",
       "      <td>NaN</td>\n",
       "      <td>NaN</td>\n",
       "    </tr>\n",
       "    <tr>\n",
       "      <th>1</th>\n",
       "      <td>Функциональный филиал</td>\n",
       "      <td>ФФ ЦДИ</td>\n",
       "      <td>СВЕРД ДИ</td>\n",
       "      <td>ПЧ-33 ДИ (НОЯБРЬСК I)</td>\n",
       "      <td>NaN</td>\n",
       "      <td>Излом рельса под железнодорожным подвижным сос...</td>\n",
       "      <td>5. Сургутский</td>\n",
       "      <td>2022</td>\n",
       "      <td>ПЧ-33 ДИ (НОЯБРЬСК I)</td>\n",
       "      <td>ДИ (П)</td>\n",
       "      <td>Допустимый</td>\n",
       "      <td>ноябрь</td>\n",
       "      <td>Дирекция</td>\n",
       "      <td>NaN</td>\n",
       "      <td>NaN</td>\n",
       "    </tr>\n",
       "    <tr>\n",
       "      <th>2</th>\n",
       "      <td>Функциональный филиал</td>\n",
       "      <td>ФФ ЦДИ</td>\n",
       "      <td>СВЕРД ДИ</td>\n",
       "      <td>ПЧ-12 ДИ (ТЮМЕНЬ)</td>\n",
       "      <td>NaN</td>\n",
       "      <td>Излом рельса под железнодорожным подвижным сос...</td>\n",
       "      <td>3. Тюменский</td>\n",
       "      <td>2022</td>\n",
       "      <td>ПЧ-12 ДИ (ТЮМЕНЬ)</td>\n",
       "      <td>ДИ (П)</td>\n",
       "      <td>Нежелательный</td>\n",
       "      <td>ноябрь</td>\n",
       "      <td>Дирекция</td>\n",
       "      <td>NaN</td>\n",
       "      <td>NaN</td>\n",
       "    </tr>\n",
       "    <tr>\n",
       "      <th>3</th>\n",
       "      <td>Функциональный филиал</td>\n",
       "      <td>ФФ ЦДИ</td>\n",
       "      <td>СВЕРД ДИ</td>\n",
       "      <td>ПЧ-33 ДИ (НОЯБРЬСК I)</td>\n",
       "      <td>NaN</td>\n",
       "      <td>Излом рельса под железнодорожным подвижным сос...</td>\n",
       "      <td>5. Сургутский</td>\n",
       "      <td>2022</td>\n",
       "      <td>ПЧ-33 ДИ (НОЯБРЬСК I)</td>\n",
       "      <td>ДИ (П)</td>\n",
       "      <td>Допустимый</td>\n",
       "      <td>ноябрь</td>\n",
       "      <td>Дирекция</td>\n",
       "      <td>NaN</td>\n",
       "      <td>NaN</td>\n",
       "    </tr>\n",
       "    <tr>\n",
       "      <th>4</th>\n",
       "      <td>Функциональный филиал</td>\n",
       "      <td>ФФ ЦДИ</td>\n",
       "      <td>СВЕРД ДИ</td>\n",
       "      <td>ПЧ-1 ДИ (ВЕРЕЩАГИНО)</td>\n",
       "      <td>NaN</td>\n",
       "      <td>Излом рельса под железнодорожным подвижным сос...</td>\n",
       "      <td>1. Пермский</td>\n",
       "      <td>2022</td>\n",
       "      <td>ПЧ-1 ДИ (ВЕРЕЩАГИНО)</td>\n",
       "      <td>ДИ (П)</td>\n",
       "      <td>Нежелательный</td>\n",
       "      <td>ноябрь</td>\n",
       "      <td>Дирекция</td>\n",
       "      <td>NaN</td>\n",
       "      <td>NaN</td>\n",
       "    </tr>\n",
       "  </tbody>\n",
       "</table>\n",
       "</div>"
      ],
      "text/plain": [
       "         Тип организации Наименование организации  \\\n",
       "0  Функциональный филиал                  ФФ ЦДРП   \n",
       "1  Функциональный филиал                   ФФ ЦДИ   \n",
       "2  Функциональный филиал                   ФФ ЦДИ   \n",
       "3  Функциональный филиал                   ФФ ЦДИ   \n",
       "4  Функциональный филиал                   ФФ ЦДИ   \n",
       "\n",
       "  Служба, дирекция, региональный центр          Подразделение  \\\n",
       "0                            ДРП СВЕРД    ПМС-43 ДРП (СМЫЧКА)   \n",
       "1                             СВЕРД ДИ  ПЧ-33 ДИ (НОЯБРЬСК I)   \n",
       "2                             СВЕРД ДИ      ПЧ-12 ДИ (ТЮМЕНЬ)   \n",
       "3                             СВЕРД ДИ  ПЧ-33 ДИ (НОЯБРЬСК I)   \n",
       "4                             СВЕРД ДИ   ПЧ-1 ДИ (ВЕРЕЩАГИНО)   \n",
       "\n",
       "   Предприятие подразделения  \\\n",
       "0                        NaN   \n",
       "1                        NaN   \n",
       "2                        NaN   \n",
       "3                        NaN   \n",
       "4                        NaN   \n",
       "\n",
       "                              Классификация МинТранс              Регион  \\\n",
       "0  Столкновения железнодорожного подвижного соста...  4. Нижнетагильский   \n",
       "1  Излом рельса под железнодорожным подвижным сос...       5. Сургутский   \n",
       "2  Излом рельса под железнодорожным подвижным сос...        3. Тюменский   \n",
       "3  Излом рельса под железнодорожным подвижным сос...       5. Сургутский   \n",
       "4  Излом рельса под железнодорожным подвижным сос...         1. Пермский   \n",
       "\n",
       "    Год   Виновное предприятие Дирекция           Риск    Месяц Председатель  \\\n",
       "0  2022    ПМС-43 ДРП (СМЫЧКА)      ДРП   Недопустимый  Декабрь       НЗ-ТЕР   \n",
       "1  2022  ПЧ-33 ДИ (НОЯБРЬСК I)   ДИ (П)     Допустимый   ноябрь     Дирекция   \n",
       "2  2022      ПЧ-12 ДИ (ТЮМЕНЬ)   ДИ (П)  Нежелательный   ноябрь     Дирекция   \n",
       "3  2022  ПЧ-33 ДИ (НОЯБРЬСК I)   ДИ (П)     Допустимый   ноябрь     Дирекция   \n",
       "4  2022   ПЧ-1 ДИ (ВЕРЕЩАГИНО)   ДИ (П)  Нежелательный   ноябрь     Дирекция   \n",
       "\n",
       "  Источник риск-факторов  Ущерб  \n",
       "0                    NaN    NaN  \n",
       "1                    NaN    NaN  \n",
       "2                    NaN    NaN  \n",
       "3                    NaN    NaN  \n",
       "4                    NaN    NaN  "
      ]
     },
     "metadata": {},
     "output_type": "display_data"
    }
   ],
   "source": [
    "df = pd.read_excel('data/events22.xlsx')\n",
    "display(df.head())"
   ]
  },
  {
   "cell_type": "code",
   "execution_count": 15,
   "metadata": {},
   "outputs": [
    {
     "data": {
      "application/vnd.plotly.v1+json": {
       "config": {
        "plotlyServerURL": "https://plot.ly"
       },
       "data": [
        {
         "alignmentgroup": "True",
         "bingroup": "x",
         "hovertemplate": "Риск=Недопустимый<br>Классификация МинТранс=%{x}<br>count=%{y}<extra></extra>",
         "legendgroup": "Недопустимый",
         "marker": {
          "color": "#636efa",
          "pattern": {
           "shape": ""
          }
         },
         "name": "Недопустимый",
         "offsetgroup": "Недопустимый",
         "orientation": "v",
         "showlegend": true,
         "type": "histogram",
         "x": [
          "Столкновения железнодорожного подвижного состава с другим железнодорожным подвижным составом при маневровой работе, экипировке или других передвижениях, не имеющие последствий крушений и аварий",
          "Излом рельса под железнодорожным подвижным составом",
          "Излом рельса под железнодорожным подвижным составом"
         ],
         "xaxis": "x",
         "yaxis": "y"
        },
        {
         "alignmentgroup": "True",
         "bingroup": "x",
         "hovertemplate": "Риск=Допустимый<br>Классификация МинТранс=%{x}<br>count=%{y}<extra></extra>",
         "legendgroup": "Допустимый",
         "marker": {
          "color": "#EF553B",
          "pattern": {
           "shape": ""
          }
         },
         "name": "Допустимый",
         "offsetgroup": "Допустимый",
         "orientation": "v",
         "showlegend": true,
         "type": "histogram",
         "x": [
          "Излом рельса под железнодорожным подвижным составом",
          "Излом рельса под железнодорожным подвижным составом",
          "Сход железнодорожного подвижного состава при маневровой работе, экипировке или других передвижениях, не имеющие последствий крушений и аварий",
          "Сход железнодорожного подвижного состава при маневровой работе, экипировке или других передвижениях, не имеющие последствий крушений и аварий",
          "Сход железнодорожного подвижного состава при маневровой работе, экипировке или других передвижениях, не имеющие последствий крушений и аварий",
          "Сход железнодорожного подвижного состава при маневровой работе, экипировке или других передвижениях, не имеющие последствий крушений и аварий",
          "Излом рельса под железнодорожным подвижным составом",
          "Излом рельса под железнодорожным подвижным составом",
          "Излом рельса под железнодорожным подвижным составом",
          "Саморасцеп автосцепок в поездах"
         ],
         "xaxis": "x",
         "yaxis": "y"
        },
        {
         "alignmentgroup": "True",
         "bingroup": "x",
         "hovertemplate": "Риск=Нежелательный<br>Классификация МинТранс=%{x}<br>count=%{y}<extra></extra>",
         "legendgroup": "Нежелательный",
         "marker": {
          "color": "#00cc96",
          "pattern": {
           "shape": ""
          }
         },
         "name": "Нежелательный",
         "offsetgroup": "Нежелательный",
         "orientation": "v",
         "showlegend": true,
         "type": "histogram",
         "x": [
          "Излом рельса под железнодорожным подвижным составом",
          "Излом рельса под железнодорожным подвижным составом",
          "Излом рельса под железнодорожным подвижным составом",
          "Сход железнодорожного подвижного состава при маневровой работе, экипировке или других передвижениях, не имеющие последствий крушений и аварий",
          "Излом рельса под железнодорожным подвижным составом",
          "Саморасцеп автосцепок в поездах",
          "Проезд железнодорожным подвижным составом запрещающего сигнала светофора",
          "Сход железнодорожного подвижного состава при маневровой работе, экипировке или других передвижениях, не имеющие последствий крушений и аварий",
          "Сход железнодорожного подвижного состава при маневровой работе, экипировке или других передвижениях, не имеющие последствий крушений и аварий",
          "Излом рельса под железнодорожным подвижным составом",
          "Проезд железнодорожным подвижным составом запрещающего сигнала светофора",
          "Излом рельса под железнодорожным подвижным составом",
          "Излом рельса под железнодорожным подвижным составом",
          "Проезд железнодорожным подвижным составом запрещающего сигнала светофора",
          "Наезд железнодорожного подвижного состава на механизмы, оборудование и посторонние предметы (объекты)",
          "Сход железнодорожного подвижного состава при маневровой работе, экипировке или других передвижениях, не имеющие последствий крушений и аварий",
          "Сход железнодорожного подвижного состава при маневровой работе, экипировке или других передвижениях, не имеющие последствий крушений и аварий",
          "Проезд железнодорожным подвижным составом запрещающего сигнала светофора",
          "Излом рельса под железнодорожным подвижным составом",
          "Излом рельса под железнодорожным подвижным составом",
          "Излом рельса под железнодорожным подвижным составом",
          "Крушение при сходе железнодорожного подвижного состава на перегонах и станциях при поездной работе в результате которых поврежден железнодорожный подвижной состав до степени исключения из инвентаря"
         ],
         "xaxis": "x",
         "yaxis": "y"
        },
        {
         "alignmentgroup": "True",
         "bingroup": "x",
         "hovertemplate": "Риск=Не принимаемый в расчет<br>Классификация МинТранс=%{x}<br>count=%{y}<extra></extra>",
         "legendgroup": "Не принимаемый в расчет",
         "marker": {
          "color": "#ab63fa",
          "pattern": {
           "shape": ""
          }
         },
         "name": "Не принимаемый в расчет",
         "offsetgroup": "Не принимаемый в расчет",
         "orientation": "v",
         "showlegend": true,
         "type": "histogram",
         "x": [
          "Сход железнодорожного подвижного состава при маневровой работе, экипировке или других передвижениях, не имеющие последствий крушений и аварий",
          "Сход железнодорожного подвижного состава при маневровой работе, экипировке или других передвижениях, не имеющие последствий крушений и аварий",
          "Сход железнодорожного подвижного состава при маневровой работе, экипировке или других передвижениях, не имеющие последствий крушений и аварий",
          "Излом рельса под железнодорожным подвижным составом",
          "Сход железнодорожного подвижного состава при маневровой работе, экипировке или других передвижениях, не имеющие последствий крушений и аварий",
          "Падение на путь деталей железнодорожного подвижного состава"
         ],
         "xaxis": "x",
         "yaxis": "y"
        }
       ],
       "layout": {
        "barmode": "relative",
        "legend": {
         "title": {
          "text": "Риск"
         },
         "tracegroupgap": 0
        },
        "margin": {
         "t": 60
        },
        "template": {
         "data": {
          "bar": [
           {
            "error_x": {
             "color": "#2a3f5f"
            },
            "error_y": {
             "color": "#2a3f5f"
            },
            "marker": {
             "line": {
              "color": "#E5ECF6",
              "width": 0.5
             },
             "pattern": {
              "fillmode": "overlay",
              "size": 10,
              "solidity": 0.2
             }
            },
            "type": "bar"
           }
          ],
          "barpolar": [
           {
            "marker": {
             "line": {
              "color": "#E5ECF6",
              "width": 0.5
             },
             "pattern": {
              "fillmode": "overlay",
              "size": 10,
              "solidity": 0.2
             }
            },
            "type": "barpolar"
           }
          ],
          "carpet": [
           {
            "aaxis": {
             "endlinecolor": "#2a3f5f",
             "gridcolor": "white",
             "linecolor": "white",
             "minorgridcolor": "white",
             "startlinecolor": "#2a3f5f"
            },
            "baxis": {
             "endlinecolor": "#2a3f5f",
             "gridcolor": "white",
             "linecolor": "white",
             "minorgridcolor": "white",
             "startlinecolor": "#2a3f5f"
            },
            "type": "carpet"
           }
          ],
          "choropleth": [
           {
            "colorbar": {
             "outlinewidth": 0,
             "ticks": ""
            },
            "type": "choropleth"
           }
          ],
          "contour": [
           {
            "colorbar": {
             "outlinewidth": 0,
             "ticks": ""
            },
            "colorscale": [
             [
              0,
              "#0d0887"
             ],
             [
              0.1111111111111111,
              "#46039f"
             ],
             [
              0.2222222222222222,
              "#7201a8"
             ],
             [
              0.3333333333333333,
              "#9c179e"
             ],
             [
              0.4444444444444444,
              "#bd3786"
             ],
             [
              0.5555555555555556,
              "#d8576b"
             ],
             [
              0.6666666666666666,
              "#ed7953"
             ],
             [
              0.7777777777777778,
              "#fb9f3a"
             ],
             [
              0.8888888888888888,
              "#fdca26"
             ],
             [
              1,
              "#f0f921"
             ]
            ],
            "type": "contour"
           }
          ],
          "contourcarpet": [
           {
            "colorbar": {
             "outlinewidth": 0,
             "ticks": ""
            },
            "type": "contourcarpet"
           }
          ],
          "heatmap": [
           {
            "colorbar": {
             "outlinewidth": 0,
             "ticks": ""
            },
            "colorscale": [
             [
              0,
              "#0d0887"
             ],
             [
              0.1111111111111111,
              "#46039f"
             ],
             [
              0.2222222222222222,
              "#7201a8"
             ],
             [
              0.3333333333333333,
              "#9c179e"
             ],
             [
              0.4444444444444444,
              "#bd3786"
             ],
             [
              0.5555555555555556,
              "#d8576b"
             ],
             [
              0.6666666666666666,
              "#ed7953"
             ],
             [
              0.7777777777777778,
              "#fb9f3a"
             ],
             [
              0.8888888888888888,
              "#fdca26"
             ],
             [
              1,
              "#f0f921"
             ]
            ],
            "type": "heatmap"
           }
          ],
          "heatmapgl": [
           {
            "colorbar": {
             "outlinewidth": 0,
             "ticks": ""
            },
            "colorscale": [
             [
              0,
              "#0d0887"
             ],
             [
              0.1111111111111111,
              "#46039f"
             ],
             [
              0.2222222222222222,
              "#7201a8"
             ],
             [
              0.3333333333333333,
              "#9c179e"
             ],
             [
              0.4444444444444444,
              "#bd3786"
             ],
             [
              0.5555555555555556,
              "#d8576b"
             ],
             [
              0.6666666666666666,
              "#ed7953"
             ],
             [
              0.7777777777777778,
              "#fb9f3a"
             ],
             [
              0.8888888888888888,
              "#fdca26"
             ],
             [
              1,
              "#f0f921"
             ]
            ],
            "type": "heatmapgl"
           }
          ],
          "histogram": [
           {
            "marker": {
             "pattern": {
              "fillmode": "overlay",
              "size": 10,
              "solidity": 0.2
             }
            },
            "type": "histogram"
           }
          ],
          "histogram2d": [
           {
            "colorbar": {
             "outlinewidth": 0,
             "ticks": ""
            },
            "colorscale": [
             [
              0,
              "#0d0887"
             ],
             [
              0.1111111111111111,
              "#46039f"
             ],
             [
              0.2222222222222222,
              "#7201a8"
             ],
             [
              0.3333333333333333,
              "#9c179e"
             ],
             [
              0.4444444444444444,
              "#bd3786"
             ],
             [
              0.5555555555555556,
              "#d8576b"
             ],
             [
              0.6666666666666666,
              "#ed7953"
             ],
             [
              0.7777777777777778,
              "#fb9f3a"
             ],
             [
              0.8888888888888888,
              "#fdca26"
             ],
             [
              1,
              "#f0f921"
             ]
            ],
            "type": "histogram2d"
           }
          ],
          "histogram2dcontour": [
           {
            "colorbar": {
             "outlinewidth": 0,
             "ticks": ""
            },
            "colorscale": [
             [
              0,
              "#0d0887"
             ],
             [
              0.1111111111111111,
              "#46039f"
             ],
             [
              0.2222222222222222,
              "#7201a8"
             ],
             [
              0.3333333333333333,
              "#9c179e"
             ],
             [
              0.4444444444444444,
              "#bd3786"
             ],
             [
              0.5555555555555556,
              "#d8576b"
             ],
             [
              0.6666666666666666,
              "#ed7953"
             ],
             [
              0.7777777777777778,
              "#fb9f3a"
             ],
             [
              0.8888888888888888,
              "#fdca26"
             ],
             [
              1,
              "#f0f921"
             ]
            ],
            "type": "histogram2dcontour"
           }
          ],
          "mesh3d": [
           {
            "colorbar": {
             "outlinewidth": 0,
             "ticks": ""
            },
            "type": "mesh3d"
           }
          ],
          "parcoords": [
           {
            "line": {
             "colorbar": {
              "outlinewidth": 0,
              "ticks": ""
             }
            },
            "type": "parcoords"
           }
          ],
          "pie": [
           {
            "automargin": true,
            "type": "pie"
           }
          ],
          "scatter": [
           {
            "fillpattern": {
             "fillmode": "overlay",
             "size": 10,
             "solidity": 0.2
            },
            "type": "scatter"
           }
          ],
          "scatter3d": [
           {
            "line": {
             "colorbar": {
              "outlinewidth": 0,
              "ticks": ""
             }
            },
            "marker": {
             "colorbar": {
              "outlinewidth": 0,
              "ticks": ""
             }
            },
            "type": "scatter3d"
           }
          ],
          "scattercarpet": [
           {
            "marker": {
             "colorbar": {
              "outlinewidth": 0,
              "ticks": ""
             }
            },
            "type": "scattercarpet"
           }
          ],
          "scattergeo": [
           {
            "marker": {
             "colorbar": {
              "outlinewidth": 0,
              "ticks": ""
             }
            },
            "type": "scattergeo"
           }
          ],
          "scattergl": [
           {
            "marker": {
             "colorbar": {
              "outlinewidth": 0,
              "ticks": ""
             }
            },
            "type": "scattergl"
           }
          ],
          "scattermapbox": [
           {
            "marker": {
             "colorbar": {
              "outlinewidth": 0,
              "ticks": ""
             }
            },
            "type": "scattermapbox"
           }
          ],
          "scatterpolar": [
           {
            "marker": {
             "colorbar": {
              "outlinewidth": 0,
              "ticks": ""
             }
            },
            "type": "scatterpolar"
           }
          ],
          "scatterpolargl": [
           {
            "marker": {
             "colorbar": {
              "outlinewidth": 0,
              "ticks": ""
             }
            },
            "type": "scatterpolargl"
           }
          ],
          "scatterternary": [
           {
            "marker": {
             "colorbar": {
              "outlinewidth": 0,
              "ticks": ""
             }
            },
            "type": "scatterternary"
           }
          ],
          "surface": [
           {
            "colorbar": {
             "outlinewidth": 0,
             "ticks": ""
            },
            "colorscale": [
             [
              0,
              "#0d0887"
             ],
             [
              0.1111111111111111,
              "#46039f"
             ],
             [
              0.2222222222222222,
              "#7201a8"
             ],
             [
              0.3333333333333333,
              "#9c179e"
             ],
             [
              0.4444444444444444,
              "#bd3786"
             ],
             [
              0.5555555555555556,
              "#d8576b"
             ],
             [
              0.6666666666666666,
              "#ed7953"
             ],
             [
              0.7777777777777778,
              "#fb9f3a"
             ],
             [
              0.8888888888888888,
              "#fdca26"
             ],
             [
              1,
              "#f0f921"
             ]
            ],
            "type": "surface"
           }
          ],
          "table": [
           {
            "cells": {
             "fill": {
              "color": "#EBF0F8"
             },
             "line": {
              "color": "white"
             }
            },
            "header": {
             "fill": {
              "color": "#C8D4E3"
             },
             "line": {
              "color": "white"
             }
            },
            "type": "table"
           }
          ]
         },
         "layout": {
          "annotationdefaults": {
           "arrowcolor": "#2a3f5f",
           "arrowhead": 0,
           "arrowwidth": 1
          },
          "autotypenumbers": "strict",
          "coloraxis": {
           "colorbar": {
            "outlinewidth": 0,
            "ticks": ""
           }
          },
          "colorscale": {
           "diverging": [
            [
             0,
             "#8e0152"
            ],
            [
             0.1,
             "#c51b7d"
            ],
            [
             0.2,
             "#de77ae"
            ],
            [
             0.3,
             "#f1b6da"
            ],
            [
             0.4,
             "#fde0ef"
            ],
            [
             0.5,
             "#f7f7f7"
            ],
            [
             0.6,
             "#e6f5d0"
            ],
            [
             0.7,
             "#b8e186"
            ],
            [
             0.8,
             "#7fbc41"
            ],
            [
             0.9,
             "#4d9221"
            ],
            [
             1,
             "#276419"
            ]
           ],
           "sequential": [
            [
             0,
             "#0d0887"
            ],
            [
             0.1111111111111111,
             "#46039f"
            ],
            [
             0.2222222222222222,
             "#7201a8"
            ],
            [
             0.3333333333333333,
             "#9c179e"
            ],
            [
             0.4444444444444444,
             "#bd3786"
            ],
            [
             0.5555555555555556,
             "#d8576b"
            ],
            [
             0.6666666666666666,
             "#ed7953"
            ],
            [
             0.7777777777777778,
             "#fb9f3a"
            ],
            [
             0.8888888888888888,
             "#fdca26"
            ],
            [
             1,
             "#f0f921"
            ]
           ],
           "sequentialminus": [
            [
             0,
             "#0d0887"
            ],
            [
             0.1111111111111111,
             "#46039f"
            ],
            [
             0.2222222222222222,
             "#7201a8"
            ],
            [
             0.3333333333333333,
             "#9c179e"
            ],
            [
             0.4444444444444444,
             "#bd3786"
            ],
            [
             0.5555555555555556,
             "#d8576b"
            ],
            [
             0.6666666666666666,
             "#ed7953"
            ],
            [
             0.7777777777777778,
             "#fb9f3a"
            ],
            [
             0.8888888888888888,
             "#fdca26"
            ],
            [
             1,
             "#f0f921"
            ]
           ]
          },
          "colorway": [
           "#636efa",
           "#EF553B",
           "#00cc96",
           "#ab63fa",
           "#FFA15A",
           "#19d3f3",
           "#FF6692",
           "#B6E880",
           "#FF97FF",
           "#FECB52"
          ],
          "font": {
           "color": "#2a3f5f"
          },
          "geo": {
           "bgcolor": "white",
           "lakecolor": "white",
           "landcolor": "#E5ECF6",
           "showlakes": true,
           "showland": true,
           "subunitcolor": "white"
          },
          "hoverlabel": {
           "align": "left"
          },
          "hovermode": "closest",
          "mapbox": {
           "style": "light"
          },
          "paper_bgcolor": "white",
          "plot_bgcolor": "#E5ECF6",
          "polar": {
           "angularaxis": {
            "gridcolor": "white",
            "linecolor": "white",
            "ticks": ""
           },
           "bgcolor": "#E5ECF6",
           "radialaxis": {
            "gridcolor": "white",
            "linecolor": "white",
            "ticks": ""
           }
          },
          "scene": {
           "xaxis": {
            "backgroundcolor": "#E5ECF6",
            "gridcolor": "white",
            "gridwidth": 2,
            "linecolor": "white",
            "showbackground": true,
            "ticks": "",
            "zerolinecolor": "white"
           },
           "yaxis": {
            "backgroundcolor": "#E5ECF6",
            "gridcolor": "white",
            "gridwidth": 2,
            "linecolor": "white",
            "showbackground": true,
            "ticks": "",
            "zerolinecolor": "white"
           },
           "zaxis": {
            "backgroundcolor": "#E5ECF6",
            "gridcolor": "white",
            "gridwidth": 2,
            "linecolor": "white",
            "showbackground": true,
            "ticks": "",
            "zerolinecolor": "white"
           }
          },
          "shapedefaults": {
           "line": {
            "color": "#2a3f5f"
           }
          },
          "ternary": {
           "aaxis": {
            "gridcolor": "white",
            "linecolor": "white",
            "ticks": ""
           },
           "baxis": {
            "gridcolor": "white",
            "linecolor": "white",
            "ticks": ""
           },
           "bgcolor": "#E5ECF6",
           "caxis": {
            "gridcolor": "white",
            "linecolor": "white",
            "ticks": ""
           }
          },
          "title": {
           "x": 0.05
          },
          "xaxis": {
           "automargin": true,
           "gridcolor": "white",
           "linecolor": "white",
           "ticks": "",
           "title": {
            "standoff": 15
           },
           "zerolinecolor": "white",
           "zerolinewidth": 2
          },
          "yaxis": {
           "automargin": true,
           "gridcolor": "white",
           "linecolor": "white",
           "ticks": "",
           "title": {
            "standoff": 15
           },
           "zerolinecolor": "white",
           "zerolinewidth": 2
          }
         }
        },
        "xaxis": {
         "anchor": "y",
         "domain": [
          0,
          1
         ],
         "title": {
          "text": "Классификация МинТранс"
         }
        },
        "yaxis": {
         "anchor": "x",
         "domain": [
          0,
          1
         ],
         "title": {
          "text": "count"
         }
        }
       }
      }
     },
     "metadata": {},
     "output_type": "display_data"
    }
   ],
   "source": [
    "import plotly.express as px\n",
    "#df = px.data.tips()\n",
    "fig = px.histogram(df, x=\"Классификация МинТранс\", color=\"Риск\")\n",
    "fig.show()"
   ]
  }
 ],
 "metadata": {
  "kernelspec": {
   "display_name": "Python 3",
   "language": "python",
   "name": "python3"
  },
  "language_info": {
   "codemirror_mode": {
    "name": "ipython",
    "version": 3
   },
   "file_extension": ".py",
   "mimetype": "text/x-python",
   "name": "python",
   "nbconvert_exporter": "python",
   "pygments_lexer": "ipython3",
   "version": "3.10.4"
  },
  "orig_nbformat": 4,
  "vscode": {
   "interpreter": {
    "hash": "4604fddfbe3ec3d9d385c207fa0ddb9a05dfef66380401ad05b04bbd42d45367"
   }
  }
 },
 "nbformat": 4,
 "nbformat_minor": 2
}
