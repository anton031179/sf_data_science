{
 "cells": [
  {
   "cell_type": "code",
   "execution_count": 1,
   "metadata": {},
   "outputs": [
    {
     "ename": "NameError",
     "evalue": "name 'nan' is not defined",
     "output_type": "error",
     "traceback": [
      "\u001b[1;31m---------------------------------------------------------------------------\u001b[0m",
      "\u001b[1;31mNameError\u001b[0m                                 Traceback (most recent call last)",
      "\u001b[1;32mc:\\Users\\anton\\source\\IDE\\test\\test.ipynb Cell 1'\u001b[0m in \u001b[0;36m<cell line: 3>\u001b[1;34m()\u001b[0m\n\u001b[0;32m      <a href='vscode-notebook-cell:/c%3A/Users/anton/source/IDE/test/test.ipynb#ch0000000?line=0'>1</a>\u001b[0m \u001b[39m# Выполните все действия, указанные в комментариях в файле\u001b[39;00m\n\u001b[0;32m      <a href='vscode-notebook-cell:/c%3A/Users/anton/source/IDE/test/test.ipynb#ch0000000?line=1'>2</a>\u001b[0m \u001b[39mimport\u001b[39;00m \u001b[39mnumpy\u001b[39;00m \u001b[39mas\u001b[39;00m \u001b[39mnp\u001b[39;00m\n\u001b[1;32m----> <a href='vscode-notebook-cell:/c%3A/Users/anton/source/IDE/test/test.ipynb#ch0000000?line=2'>3</a>\u001b[0m mystery \u001b[39m=\u001b[39m np\u001b[39m.\u001b[39marray([\u001b[39m12279.\u001b[39m, \u001b[39m-\u001b[39m\u001b[39m26024.\u001b[39m, \u001b[39m28745.\u001b[39m, nan, \u001b[39m31244.\u001b[39m, \u001b[39m-\u001b[39m\u001b[39m2365.\u001b[39m, \u001b[39m-\u001b[39m\u001b[39m6974.\u001b[39m, \u001b[39m-\u001b[39m\u001b[39m9212.\u001b[39m, nan, \u001b[39m-\u001b[39m\u001b[39m17722.\u001b[39m, \u001b[39m16132.\u001b[39m, \u001b[39m25933.\u001b[39m, nan, \u001b[39m-\u001b[39m\u001b[39m16431.\u001b[39m, \u001b[39m29810.\u001b[39m])\n\u001b[0;32m      <a href='vscode-notebook-cell:/c%3A/Users/anton/source/IDE/test/test.ipynb#ch0000000?line=3'>4</a>\u001b[0m \u001b[39mprint\u001b[39m (mystery)\n\u001b[0;32m      <a href='vscode-notebook-cell:/c%3A/Users/anton/source/IDE/test/test.ipynb#ch0000000?line=4'>5</a>\u001b[0m \u001b[39m# Получите булевый массив с информацией о np.nan в массиве mystery\u001b[39;00m\n\u001b[0;32m      <a href='vscode-notebook-cell:/c%3A/Users/anton/source/IDE/test/test.ipynb#ch0000000?line=5'>6</a>\u001b[0m \u001b[39m# True - значение пропущено, False - значение не пропущено\u001b[39;00m\n",
      "\u001b[1;31mNameError\u001b[0m: name 'nan' is not defined"
     ]
    }
   ],
   "source": [
    "# Выполните все действия, указанные в комментариях в файле\n",
    "import numpy as np\n",
    "mystery = np.array([12279., -26024., 28745., nan, 31244., -2365., -6974., -9212., nan, -17722., 16132., 25933., nan, -16431., 29810.])\n",
    "print (mystery)\n",
    "# Получите булевый массив с информацией о np.nan в массиве mystery\n",
    "# True - значение пропущено, False - значение не пропущено\n",
    "nans_index = np.isnan(mystery)\n",
    "print(nans_index)\n",
    "# В переменную n_nan сохраните число пропущенных значений\n",
    "n_nan = 3\n",
    "\n",
    "# Заполните пропущенные значения в массиве mystery нулями\n",
    "mystery[np.isnan(mystery)] = 0\n",
    "print(mystery)\n",
    "\n",
    "# Поменяйте тип данных в массиве mystery на int32\n",
    "mystery=np.int32(mystery)\n",
    "print(mystery)\n",
    "\n",
    "# Отсортируйте значения в массиве по возрастанию и сохраните\n",
    "# результат в переменную array\n",
    "array = np.sort(mystery)\n",
    "\n",
    "# Сохраните в массив table двухмерный массив, полученный из массива array\n",
    "# В нём должно быть 5 строк и 3 столбца. Причём порядок заполнения должен быть\n",
    "# по столбцам! Например, 1, 2, 3, 4 -> 1    3\n",
    "#                                      2    4\n",
    "table = array.reshape((5, 3), order='F')\n",
    "print(table)\n",
    "#  Сохраните в переменную col средний столбец из table\n",
    "col = table[:,1]\n",
    "print(col)"
   ]
  }
 ],
 "metadata": {
  "interpreter": {
   "hash": "4604fddfbe3ec3d9d385c207fa0ddb9a05dfef66380401ad05b04bbd42d45367"
  },
  "kernelspec": {
   "display_name": "Python 3.10.4 64-bit",
   "language": "python",
   "name": "python3"
  },
  "language_info": {
   "codemirror_mode": {
    "name": "ipython",
    "version": 3
   },
   "file_extension": ".py",
   "mimetype": "text/x-python",
   "name": "python",
   "nbconvert_exporter": "python",
   "pygments_lexer": "ipython3",
   "version": "3.10.4"
  },
  "orig_nbformat": 4
 },
 "nbformat": 4,
 "nbformat_minor": 2
}
