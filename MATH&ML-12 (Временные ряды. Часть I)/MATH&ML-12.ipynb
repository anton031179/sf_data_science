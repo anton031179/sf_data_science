{
 "cells": [
  {
   "attachments": {},
   "cell_type": "markdown",
   "metadata": {},
   "source": [
    "###  1. Введение"
   ]
  },
  {
   "attachments": {},
   "cell_type": "markdown",
   "metadata": {},
   "source": [
    "##### ПРИВЕТСТВУЕМ ВАС В ПЕРВОМ МОДУЛЕ ПО РАБОТЕ С ВРЕМЕННЫМИ РЯДАМИ! ⭐"
   ]
  },
  {
   "attachments": {},
   "cell_type": "markdown",
   "metadata": {},
   "source": [
    "**Временные ряды** — это отдельный класс задач, характеризующийся определённым типом данных и инструментов, подходящих для решения таких задач.\n",
    "\n",
    "Начнём наше знакомство с темой с небольшого примера.\n",
    "\n",
    "Представьте, что вы — климатолог и хотите проанализировать скорость и направление ветра в разных точках земного шара.\n",
    "\n",
    "Если вы берёте измерения климатических показателей с разных точек планеты в одно и то же время (точки расположены достаточно далеко друг от друга), то можете считать эти измерения независимыми и применять для их анализа классические ML-модели. В этом случае счётчиком для наблюдений будет номер конкретной метеостанции в вашей выборке.\n",
    "\n",
    "<img src=\"data\\MATHML_md12_1_1.png\" alt=\"drawing\" width=\"300\"/>\n",
    "<img src=\"data\\MATHML_md12_1_2.png\" alt=\"drawing\" width=\"300\"/>\n"
   ]
  },
  {
   "attachments": {},
   "cell_type": "markdown",
   "metadata": {},
   "source": [
    "Но что если вы хотите проанализировать климатические характеристики в одной и той же точке планеты, например измеренные на одной метеорологической станции? Здесь счётчиком будет время, и в данных появится зависимость, так как погода через час зависит от текущей погоды."
   ]
  },
  {
   "attachments": {},
   "cell_type": "markdown",
   "metadata": {},
   "source": [
    "С появлением зависимости наблюдений от времени вся математическая структура данных поменялась — наблюдения одной и той же переменной в разные моменты времени стали зависимыми друг от друга. Мы получили **временной ряд**.\n",
    "\n",
    "Примеры временных рядов:\n",
    "\n",
    "- всевозможные экономические индексы (RTS, DJIA и др.);\n",
    "- стоимость активов на бирже (курсы нефти, ценных бумаг, валют и криптовалют);\n",
    "- физические показатели спортсмена во время тренировок или специальных нагрузочных тестов;\n",
    "- средняя дневная скорость интернета;\n",
    "- регулярные измерения роста, веса, давления;\n",
    "- температура воды в Красном море по дням в июле.\n",
    "  \n",
    "Умение работать с временными рядами является отличным навыком, который откроет перед вами множество дверей: финансовая отрасль, маркетинг и продажи, анализ производственных показателей и другие сферы."
   ]
  },
  {
   "attachments": {},
   "cell_type": "markdown",
   "metadata": {},
   "source": [
    "**В ЭТОМ МОДУЛЕ ВЫ УЗНАЕТЕ:**\n",
    "\n",
    "- что такое шум во временном ряду;\n",
    "\n",
    "- как определять тренд и выделять сезонность;\n",
    "\n",
    "- как сглаживать ряды экспоненциально;\n",
    "\n",
    "- какой ряд можно считать стационарным и на что это влияет;\n",
    "\n",
    "- как определять корреляцию, автокорреляцию и читать коррелограмму.\n",
    "\n",
    "Кроме того, в итоговой практике вы проведёте полное аналитическое исследование временного ряда.  \n",
    "Прежде чем углубляться в ещё не знакомые термины, давайте узнаем, какими особенностями обладают временные ряды →"
   ]
  },
  {
   "attachments": {},
   "cell_type": "markdown",
   "metadata": {},
   "source": [
    "____________________________"
   ]
  },
  {
   "attachments": {},
   "cell_type": "markdown",
   "metadata": {},
   "source": [
    "### 2. Временной ряд и его основные свойства"
   ]
  },
  {
   "attachments": {},
   "cell_type": "markdown",
   "metadata": {},
   "source": [
    "Как вы, вероятно, уже догадались, **временной ряд** — это измерения одной и той же случайной величины в разные моменты времени.\n",
    "\n",
    "В бизнесе временные ряды ценятся за возможность прогнозировать значение целевой переменной на будущее. Самые очевидные примеры использования временных рядов в бизнесе — финансовое моделирование и прогнозирование спроса или выручки.\n",
    "\n",
    "Ниже приведено ещё несколько примеров применения временных рядов в бизнесе."
   ]
  },
  {
   "attachments": {},
   "cell_type": "markdown",
   "metadata": {},
   "source": [
    "<img src=\"data\\pic-1.png\" alt=\"drawing\" width=\"600\"/>"
   ]
  },
  {
   "attachments": {},
   "cell_type": "markdown",
   "metadata": {},
   "source": [
    "Теперь выделим несколько формальных свойств временного ряда:\n",
    "\n",
    "1. Данные временного ряда **структурированы**, а атрибуты (так иногда называют признаки) **зависимы от времени**.\n",
    "На графике ниже визуализирован временной ряд фактического дохода компании. Данные структурированы (упорядочены и находятся в таблице), а фактический доход — это атрибут, зависящий от времени."
   ]
  },
  {
   "attachments": {},
   "cell_type": "markdown",
   "metadata": {},
   "source": [
    "<img src=\"data\\MATHML_md12_2_4.png\" alt=\"drawing\" width=\"700\"/>"
   ]
  },
  {
   "attachments": {},
   "cell_type": "markdown",
   "metadata": {},
   "source": [
    "2. Данные временного ряда, в отличие от любых других данных, имеют определённую последовательность.\n",
    "На графиках ниже отображены продажи мороженого с января по декабрь."
   ]
  },
  {
   "attachments": {},
   "cell_type": "markdown",
   "metadata": {},
   "source": [
    "<img src=\"data\\MATHML_md12_2_5.png\" alt=\"drawing\" width=\"700\"/>"
   ]
  },
  {
   "attachments": {},
   "cell_type": "markdown",
   "metadata": {},
   "source": [
    "3. В отличие от анализа других данных, в анализе временных рядов важно, чтобы последовательные значения в данных наблюдались **через равные промежутки времени**, например каждый час, неделю, год, каждый понедельник и так далее.\n",
    "На графике ниже визуализирован временной ряд с получением данных за равные промежутки времени (дни)."
   ]
  },
  {
   "attachments": {},
   "cell_type": "markdown",
   "metadata": {},
   "source": [
    "<img src=\"data\\MATHML_md12_2_6.png\" alt=\"drawing\" width=\"400\"/>"
   ]
  },
  {
   "attachments": {},
   "cell_type": "markdown",
   "metadata": {},
   "source": [
    "Итак, теперь мы знаем, что отличительной особенностью временного ряда является наличие временного измерения или номер измерения по порядку, а также что при анализе данных временного ряда учитывается зависимость атрибутов от времени.\n",
    "\n",
    "В следующем юните мы познакомимся с неотъемлемыми составляющими временного ряда — **трендом, сезонностью и шумом**. А пока давайте закрепим полученные знания с помощью небольшого теста ↓"
   ]
  },
  {
   "attachments": {},
   "cell_type": "markdown",
   "metadata": {},
   "source": [
    "_____________________"
   ]
  },
  {
   "attachments": {},
   "cell_type": "markdown",
   "metadata": {},
   "source": [
    "### 3. Тренд, сезонность, шум. Инструменты для декомпозиции временного ряда"
   ]
  },
  {
   "attachments": {},
   "cell_type": "markdown",
   "metadata": {},
   "source": [
    "**Анализ временных рядов** следует стандартному плану:\n",
    "\n",
    "1. Выявление тренда\n",
    "\n",
    "**Тренд** — это основная тенденция изменения величины со временем.\n",
    "\n",
    "Если повезёт, тренд будет линейным и предсказать его будет проще."
   ]
  },
  {
   "attachments": {},
   "cell_type": "markdown",
   "metadata": {},
   "source": [
    "Справа на графике с измерениями пульса тренд нелинейный, и здесь можно выделить:\n",
    "\n",
    "- участок старта, когда пульс растёт до более стабильного значения;\n",
    "- более-менее линейный участок основной дистанции;\n",
    "- участок финиша, когда пульс быстро и нелинейно идёт вверх.  \n",
    "<img src=\"data\\MATHML_md12_3_1.png\" alt=\"drawing\" width=\"600\"/>"
   ]
  },
  {
   "attachments": {},
   "cell_type": "markdown",
   "metadata": {},
   "source": [
    "**Большое преимущество тренда** — его можно прогнозировать как функцию времени, не учитывая предыдущие значения временного ряда."
   ]
  },
  {
   "attachments": {},
   "cell_type": "markdown",
   "metadata": {},
   "source": [
    "2. Анализ сезонности и цикличности\n",
    "\n",
    "Сезонность задаёт периодические колебания ряда вокруг тренда. Сезонность есть не всегда, но очень часто.\n",
    "\n",
    "Например, **продажи автомобилей** каждый год немного растут в декабре и падают в январе следующего года."
   ]
  },
  {
   "attachments": {},
   "cell_type": "markdown",
   "metadata": {},
   "source": [
    "<img src=\"data\\MATHML_md12_3_2.png\" alt=\"drawing\" width=\"600\"/>"
   ]
  },
  {
   "attachments": {},
   "cell_type": "markdown",
   "metadata": {},
   "source": [
    "Затем необходимо оценить цикличность.\n",
    "\n",
    "Цикличность — это колебания временного ряда относительно тренда.\n",
    "\n",
    "Отличием цикличности от сезонности является то, что сезонность возникает из периода в период (каждый декабрь, каждые выходные и т. д.), а цикличность проявляется на более длительных дистанциях и может слегка меняться от цикла к циклу.\n",
    "\n",
    "На графике ниже показан цикл изменения объёма валового национального продукта в зависимости от времени. Такая цикличность скорее зависит не от сезона/квартала, а от внешних факторов."
   ]
  },
  {
   "attachments": {},
   "cell_type": "markdown",
   "metadata": {},
   "source": [
    "<img src=\"data\\MATHML_md12_3_3.png\" alt=\"drawing\" width=\"600\"/>"
   ]
  },
  {
   "attachments": {},
   "cell_type": "markdown",
   "metadata": {},
   "source": [
    "3. Проверка на шум\n",
    "\n",
    "**Белый шум** — это значения, которые являются независимыми друг от друга и одинаково распределены в районе нуля на протяжении всего временного интервала.\n",
    "\n",
    "Как только мы получили белый шум в остатке ряда, дальше прогнозировать бессмысленно.\n",
    "\n",
    "Обратите внимание на схему ниже и сравните все компоненты. Нерегулярность отвечает за шум."
   ]
  },
  {
   "attachments": {},
   "cell_type": "markdown",
   "metadata": {},
   "source": [
    "<img src=\"data\\MATHML_md12_3_4.png\" alt=\"drawing\" width=\"600\"/>"
   ]
  },
  {
   "attachments": {},
   "cell_type": "markdown",
   "metadata": {},
   "source": [
    "Самый простой вариант предсказания данных для временного ряда:\n",
    "-  линейный тренд — остался белый шум.\n",
    "\n",
    "Более сложный вариант:\n",
    "- Убрали тренд — осталась сезонность.\n",
    "- Убрали сезонность — остался белый шум.\n",
    "\n",
    "Самый сложный вариант:\n",
    "- Убрали тренд и сезонность — остался всё ещё не белый шум.  \n",
    "Что делать в таком случае?\n",
    "Зависит от задачи: возможно, для магазина достаточно учесть нестандартное поведение в праздничные дни, а для средств в банкомате — еженедельную инкассацию."
   ]
  },
  {
   "attachments": {},
   "cell_type": "markdown",
   "metadata": {},
   "source": [
    "Давайте сведём основную информацию в небольшую таблицу:\n",
    "\n",
    "**Тренд**\tОписывает чистое влияние долговременных факторов, изменяется плавно.\n",
    "Пример: рост численности населения.\n",
    "\n",
    "**Цикличность**\tСостоит из циклов, меняющихся по длительности и амплитуде, описывает периоды подъёма и спада.\n",
    "Пример: циклы в экономике, связанные с изменением спроса и предложения или с переменами в финансовой и налоговой политике.\n",
    "\n",
    "**Сезонность**\tПредставляет собой последовательность почти повторяющихся циклов.\n",
    "Пример: объёмы продаж цветов накануне 8 марта или авиабилетов в сезон отпусков летом.\n",
    "\n",
    "**Шум (случайная компонента)**\tОстанется после вычитания всех вышеперечисленных компонентов. Не несёт никакого глубокого смысла."
   ]
  },
  {
   "attachments": {},
   "cell_type": "markdown",
   "metadata": {},
   "source": [
    "### ИНСТРУМЕНТЫ ДЛЯ ДЕКОМПОЗИЦИИ ВРЕМЕННОГО РЯДА"
   ]
  },
  {
   "attachments": {},
   "cell_type": "markdown",
   "metadata": {},
   "source": [
    "Разделить ряд на компоненты в Python можно с помощью библиотеки statsmodels. Если вы не устанавливали её ранее, это можно сделать стандартным способом (pip install statsmodels) или следуя рекомендациям в официальной документации https://www.statsmodels.org/devel/install.html.\n",
    "\n",
    "В этом датасете https://lms.skillfactory.ru/assets/courseware/v1/172fc6caf5a28881a6fec7e2ad50800a/asset-v1:SkillFactory+DSPR-2.0+14JULY2021+type@asset+block/AirPassengers.zip представлены данные о количестве авиапассажиров в 1949-1960 годах. Рассмотрим некоторый временной ряд df из данного датасета."
   ]
  },
  {
   "cell_type": "code",
   "execution_count": 13,
   "metadata": {},
   "outputs": [
    {
     "name": "stdout",
     "output_type": "stream",
     "text": [
      "Requirement already satisfied: statsmodels in c:\\users\\anton\\appdata\\local\\programs\\python\\python310\\lib\\site-packages (0.13.2)\n",
      "Requirement already satisfied: numpy>=1.17 in c:\\users\\anton\\appdata\\local\\programs\\python\\python310\\lib\\site-packages (from statsmodels) (1.24.1)\n",
      "Requirement already satisfied: pandas>=0.25 in c:\\users\\anton\\appdata\\local\\programs\\python\\python310\\lib\\site-packages (from statsmodels) (1.5.3)\n",
      "Requirement already satisfied: patsy>=0.5.2 in c:\\users\\anton\\appdata\\local\\programs\\python\\python310\\lib\\site-packages (from statsmodels) (0.5.2)\n",
      "Requirement already satisfied: packaging>=21.3 in c:\\users\\anton\\appdata\\local\\programs\\python\\python310\\lib\\site-packages (from statsmodels) (21.3)\n",
      "Requirement already satisfied: scipy>=1.3 in c:\\users\\anton\\appdata\\local\\programs\\python\\python310\\lib\\site-packages (from statsmodels) (1.8.1)\n",
      "Requirement already satisfied: pyparsing!=3.0.5,>=2.0.2 in c:\\users\\anton\\appdata\\local\\programs\\python\\python310\\lib\\site-packages (from packaging>=21.3->statsmodels) (3.0.8)\n",
      "Requirement already satisfied: pytz>=2020.1 in c:\\users\\anton\\appdata\\local\\programs\\python\\python310\\lib\\site-packages (from pandas>=0.25->statsmodels) (2022.1)\n",
      "Requirement already satisfied: python-dateutil>=2.8.1 in c:\\users\\anton\\appdata\\local\\programs\\python\\python310\\lib\\site-packages (from pandas>=0.25->statsmodels) (2.8.2)\n",
      "Requirement already satisfied: six in c:\\users\\anton\\appdata\\local\\programs\\python\\python310\\lib\\site-packages (from patsy>=0.5.2->statsmodels) (1.16.0)\n"
     ]
    },
    {
     "name": "stderr",
     "output_type": "stream",
     "text": [
      "WARNING: Ignoring invalid distribution -atplotlib (c:\\users\\anton\\appdata\\local\\programs\\python\\python310\\lib\\site-packages)\n",
      "WARNING: Ignoring invalid distribution -atplotlib (c:\\users\\anton\\appdata\\local\\programs\\python\\python310\\lib\\site-packages)\n",
      "WARNING: Ignoring invalid distribution -atplotlib (c:\\users\\anton\\appdata\\local\\programs\\python\\python310\\lib\\site-packages)\n",
      "WARNING: Ignoring invalid distribution -atplotlib (c:\\users\\anton\\appdata\\local\\programs\\python\\python310\\lib\\site-packages)\n",
      "WARNING: Ignoring invalid distribution -atplotlib (c:\\users\\anton\\appdata\\local\\programs\\python\\python310\\lib\\site-packages)\n",
      "WARNING: Ignoring invalid distribution -atplotlib (c:\\users\\anton\\appdata\\local\\programs\\python\\python310\\lib\\site-packages)\n",
      "\n",
      "[notice] A new release of pip available: 22.3 -> 23.1.2\n",
      "[notice] To update, run: python.exe -m pip install --upgrade pip\n"
     ]
    }
   ],
   "source": [
    "!pip install statsmodels"
   ]
  },
  {
   "cell_type": "code",
   "execution_count": 14,
   "metadata": {},
   "outputs": [],
   "source": [
    "import pandas as pd\n",
    "import numpy as np\n",
    "df = pd.read_csv(\"data\\AirPassengers.csv\", index_col='Month', parse_dates=['Month'])"
   ]
  },
  {
   "attachments": {},
   "cell_type": "markdown",
   "metadata": {},
   "source": [
    "<img src=\"data\\MATHML_md12_3_5.png\" alt=\"drawing\" width=\"500\"/>"
   ]
  },
  {
   "attachments": {},
   "cell_type": "markdown",
   "metadata": {},
   "source": [
    "Теперь рассмотрим код, в котором демонстрируется, как применять декомпозицию к временному ряду df.\n",
    "\n",
    "Декомпозиция выполняется методом seasonal_decompose() https://www.statsmodels.org/dev/generated/statsmodels.tsa.seasonal.seasonal_decompose.html, который принимает на вход временной ряд с одним признаком. Индексом ряда должна быть дата или время. Именно поэтому, считывая датасет, мы указываем индексом столбец month и приводим его к формату даты. Также, если вы знаете, что в вашем временном ряду присутствует период, его вы также можете передать в качестве параметра в seasonal_decompose(). Более подробно о необязательных параметрах можно узнать в документации https://www.statsmodels.org/dev/generated/statsmodels.tsa.seasonal.seasonal_decompose.html."
   ]
  },
  {
   "attachments": {},
   "cell_type": "markdown",
   "metadata": {},
   "source": [
    "В результате выполнения кода мы увидим примерно следующий результат:"
   ]
  },
  {
   "cell_type": "code",
   "execution_count": 15,
   "metadata": {},
   "outputs": [
    {
     "data": {
      "image/png": "[encoded data removed]",
      "text/plain": [
       "<Figure size 432x288 with 4 Axes>"
      ]
     },
     "metadata": {
      "needs_background": "light"
     },
     "output_type": "display_data"
    }
   ],
   "source": [
    "import matplotlib.pyplot as plt\n",
    "#импортируем библиотеку \n",
    "from statsmodels.tsa.seasonal import seasonal_decompose\n",
    "#производим декомпозицию временного ряда \n",
    "decomposition = seasonal_decompose(df)\n",
    "fig = decomposition.plot()\n",
    "plt.show()"
   ]
  },
  {
   "attachments": {},
   "cell_type": "markdown",
   "metadata": {},
   "source": [
    "Как можно увидеть, по исходному ряду был получен тренд, выявлена некоторая сезонность и шум.\n",
    "\n",
    "Отрабатывать навыки определения тренда, сезонности и шума и делать дальнейший анализ мы будем в итоговой практике, а пока давайте выполним несколько заданий и двинемся дальше ↓"
   ]
  },
  {
   "attachments": {},
   "cell_type": "markdown",
   "metadata": {},
   "source": [
    "__________________________"
   ]
  },
  {
   "attachments": {},
   "cell_type": "markdown",
   "metadata": {},
   "source": [
    "### 4. Экспоненциальное сглаживание"
   ]
  },
  {
   "attachments": {},
   "cell_type": "markdown",
   "metadata": {},
   "source": [
    "Одним из интересных способов анализа временного ряда является экспоненциальное сглаживание. Давайте разберёмся, что это такое и чем оно отличается от других методов прогнозирования.\n",
    "\n",
    "**Экспоненциальное сглаживание** — это метод прогнозирования временных рядов для одномерных данных с трендом или сезонным компонентом. Оно также известно как метод простого экспоненциального сглаживания, или метод Брауна.\n",
    "\n",
    "Формула для получения экспоненциального сглаживания выглядит так:\n",
    "\n",
    "$S_0=X_0$  \n",
    "$S_t=\\alpha \\cdot X_{t}+(1-\\alpha) \\cdot S_{t-1}$,\n",
    "\n",
    "где:\n",
    "\n",
    "$S_t$ — сглаженное значение в момент времени $t$;\n",
    "\n",
    "$X_{t}$ — фактическое наблюдение в момент времени $t$;\n",
    "\n",
    "$\\alpha$ — коэффициент сглаживания, который выбирается априори $(0<\\alpha <1)$."
   ]
  },
  {
   "attachments": {},
   "cell_type": "markdown",
   "metadata": {},
   "source": [
    "Обратите внимание, что формулу необязательно заучивать: главное — чтобы вы понимали принцип работы алгоритма.\n",
    "\n",
    "В случае с этой формулой каждый новый элемент временного ряда рассчитывается от предыдущего и от сглаженного исходного.\n",
    "\n",
    "Рассмотрим пример.\n",
    "\n",
    "Нам известны значения температуры за прошедший месяц, и мы хотим предсказать погоду на следующий день. Мы можем предположить, что в этом случае погода завтра в большей степени будет зависеть от погоды вчера и сегодня, чем от погоды 30 дней назад. Если мы хотим учитывать удалённость значений от текущего момента, то экспоненциальное сглаживание пригодится тут как нельзя кстати.\n",
    "\n",
    "Проще говоря, под экспоненциальным сглаживанием понимается взвешенная линейная сумма наблюдений, при этом веса для наблюдений экспоненциально уменьшаются для более старых наблюдений. Тем самым мы не обращаем особого внимания на поведение в прошлом, а недавнему поведению присваиваем больший вес. Если быть точнее, наблюдения взвешиваются с геометрически уменьшающимся коэффициентом.\n",
    "\n",
    "Так, если значения температуры за последние пять дней были data = np.array([15, 20,25,30,25,27]) (в формуле это будет ряд $X_t$ , при этом $X_0=15$, $X_1=20$ и т. д.), а коэффициент сглаживания $\\alpha$ будет равен 0.7, то, подставив значения в формулу, получим значения сглаженного экспоненциального ряда: [15, 15, 18.5, 23, 27.9, 25.8]."
   ]
  },
  {
   "cell_type": "code",
   "execution_count": 16,
   "metadata": {},
   "outputs": [
    {
     "name": "stdout",
     "output_type": "stream",
     "text": [
      "[15.      18.5     23.05    27.915   25.8745  26.66235  0.     ]\n"
     ]
    }
   ],
   "source": [
    "def exp_smth(x_t, a, s_t_1):\n",
    "    return a * x_t + (1 - a) * s_t_1\n",
    "\n",
    "data = np.array([15, 20, 25, 30, 25, 27])\n",
    "a = 0.7\n",
    "s = np.zeros(7)\n",
    "s[0] = data[0]\n",
    "\n",
    "for i in range(1, len(data)):\n",
    "    s[i] = exp_smth(data[i], a, s[i-1])\n",
    "\n",
    "print(s)"
   ]
  },
  {
   "attachments": {},
   "cell_type": "markdown",
   "metadata": {},
   "source": [
    "Так как по формуле значение для следующего дня рассчитывается от значения для текущего, мы можем продолжить получать следующие значения для экспоненциально сглаженного ряда, таким образом совершая прогноз (день за днём). В нашем примере для шестого дня мы получили прогнозируемое значение температуры в 26.6 градусов (26.66235, если быть точнее):"
   ]
  },
  {
   "attachments": {},
   "cell_type": "markdown",
   "metadata": {},
   "source": [
    "<img src=\"data\\MATHML_md12_4_1.png\" alt=\"drawing\" width=\"500\"/>"
   ]
  },
  {
   "attachments": {},
   "cell_type": "markdown",
   "metadata": {},
   "source": [
    "Коэффициент экспоненциального сглаживания подбирается интуитивно. Чем выше коэффициент, тем меньше внимания мы обращаем на старые данные. Если коэффициент близок к 0, данным в далёком прошлом будет уделено больше внимания. Так, при коэффициенте, равном 0.1, значения экспоненциально сглаженного ряда будут выглядеть так (сравните с предыдущим графиком):"
   ]
  },
  {
   "attachments": {},
   "cell_type": "markdown",
   "metadata": {},
   "source": [
    "<img src=\"data\\MATHML_md12_4_2.png\" alt=\"drawing\" width=\"500\"/>"
   ]
  },
  {
   "attachments": {},
   "cell_type": "markdown",
   "metadata": {},
   "source": [
    "В примере выше сглаженный ряд мы рассчитывали «вручную» по формуле, но делать это каждый раз нет необходимости, так как эта возможность уже встроена в библиотеку statsmodels. Для совершения предсказания методом простого экспоненциального сглаживания воспользуемся методом SimpleExpSmoothing https://www.statsmodels.org/dev/generated/statsmodels.tsa.holtwinters.SimpleExpSmoothing.html из statsmodels.tsa.api.\n",
    "\n",
    "Попробуйте запустить код ниже:"
   ]
  },
  {
   "cell_type": "code",
   "execution_count": 17,
   "metadata": {},
   "outputs": [
    {
     "name": "stdout",
     "output_type": "stream",
     "text": [
      "[26.66235]\n"
     ]
    }
   ],
   "source": [
    "from statsmodels.tsa.api import SimpleExpSmoothing\n",
    "\n",
    "ses = SimpleExpSmoothing(data)\n",
    "alpha = 0.7\n",
    "model = ses.fit(smoothing_level = alpha, optimized = False)\n",
    "forecast = model.forecast(1)\n",
    "print(forecast)"
   ]
  },
  {
   "attachments": {},
   "cell_type": "markdown",
   "metadata": {},
   "source": [
    "Простое экспоненциальное сглаживание используется в задачах сглаживания и краткосрочного прогнозирования временных рядов.\n",
    "\n",
    "В следующем юните мы познакомимся с ещё одной важной характеристикой временного ряда, а пока предлагаем вам ознакомиться с дополнительной литературой по изученной теме и выполнить несколько заданий."
   ]
  },
  {
   "attachments": {},
   "cell_type": "markdown",
   "metadata": {},
   "source": [
    "ДОПОЛНИТЕЛЬНО\n",
    "\n",
    "- Статья про типы экспоненциального сглаживания (и её перевод на русский язык) https://machinelearningmastery.com/exponential-smoothing-for-time-series-forecasting-in-python/.\n",
    "- Лекция 9. Экспоненциальное сглаживание. Распознавание образов: метод k-го ближайшего соседа (первая половина лекции) https://youtu.be/M0Hz1u59Ysw."
   ]
  },
  {
   "attachments": {},
   "cell_type": "markdown",
   "metadata": {},
   "source": [
    "__________________________"
   ]
  },
  {
   "attachments": {},
   "cell_type": "markdown",
   "metadata": {},
   "source": [
    "### 5. Стационарность"
   ]
  },
  {
   "attachments": {},
   "cell_type": "markdown",
   "metadata": {},
   "source": [
    "Прежде чем погрузиться в формальные определения стационарности и связанные с ней концепции, разберёмся, почему они важны.\n",
    "\n",
    "Стационарность означает, что сам временной ряд может меняться с течением времени, однако статистические свойства генерирующего его процесса не меняются."
   ]
  },
  {
   "attachments": {},
   "cell_type": "markdown",
   "metadata": {},
   "source": [
    "<img src=\"data\\MATHML_md12_5_1.png\" alt=\"drawing\" width=\"400\"/>"
   ]
  },
  {
   "attachments": {},
   "cell_type": "markdown",
   "metadata": {},
   "source": [
    "Почему это важно? Потому что стационарные процессы легче анализировать, а ещё их можно предсказывать, поскольку предсказуем способ их изменения.\n",
    "\n",
    "Говоря простым языком, стационарный процесс (стационарный временной ряд) — это процесс, который не меняет свои основные характеристики со временем (обратите внимание на графики стационарного и нестационарного временного ряда выше). Это значит, что при сдвиге во времени не меняются математическое ожидание https://ru.wikipedia.org/wiki/%D0%9C%D0%B0%D1%82%D0%B5%D0%BC%D0%B0%D1%82%D0%B8%D1%87%D0%B5%D1%81%D0%BA%D0%BE%D0%B5_%D0%BE%D0%B6%D0%B8%D0%B4%D0%B0%D0%BD%D0%B8%D0%B5, дисперсия https://ru.wikipedia.org/wiki/%D0%94%D0%B8%D1%81%D0%BF%D0%B5%D1%80%D1%81%D0%B8%D1%8F_%D1%81%D0%BB%D1%83%D1%87%D0%B0%D0%B9%D0%BD%D0%BE%D0%B9_%D0%B2%D0%B5%D0%BB%D0%B8%D1%87%D0%B8%D0%BD%D1%8B и совместное распределение вероятности https://ru.wikipedia.org/wiki/%D0%A1%D0%BE%D0%B2%D0%BC%D0%B5%D1%81%D1%82%D0%BD%D0%BE%D0%B5_%D1%80%D0%B0%D1%81%D0%BF%D1%80%D0%B5%D0%B4%D0%B5%D0%BB%D0%B5%D0%BD%D0%B8%D0%B5.\n",
    "\n",
    "Примером стационарного процесса является маятник без трения, который колеблется назад и вперёд. Из-за отсутствия трения его амплитуда и частота остаются неизменными.\n",
    "\n",
    "- В нашем же случае временной ряд будет **стационарным**, если у него отсутствуют тренд и сезонность, а математическое ожидание и дисперсия при этом остаются постоянными на протяжении всего периода времени.\n",
    "- У **нестационарного** временного ряда статистики (математическое ожидание и дисперсия) будут изменяться со временем, а сам ряд будет иметь сезонность и/или тренд.\n",
    "  \n",
    "Так как нестационарный ряд анализировать труднее, в анализе временных рядов принято приводить любой временной ряд к стационарности. Это можно сделать путём выявления и устранения тренда и сезонности.\n",
    "\n",
    "Существует несколько методов проверки временного ряда на стационарность:\n",
    "\n",
    "1. Визуально оценить по графику данных, есть ли какие-либо очевидные тенденции или сезонность. Например, на графике ниже нет ни выраженного тренда, ни сезонности."
   ]
  },
  {
   "attachments": {},
   "cell_type": "markdown",
   "metadata": {},
   "source": [
    "<img src=\"data\\MATHML_md12_5_2.png\" alt=\"drawing\" width=\"600\"/>"
   ]
  },
  {
   "attachments": {},
   "cell_type": "markdown",
   "metadata": {},
   "source": [
    "2. Просмотреть сводную статистику для данных по сезонам, чтобы понять, есть ли очевидные и существенные различия.  \n",
    "3. Использовать статистические тесты, чтобы проверить, выполняются ли ожидания стационарности. О статистических тестах пойдёт речь ниже."
   ]
  },
  {
   "attachments": {},
   "cell_type": "markdown",
   "metadata": {},
   "source": [
    "### СТАТИСТИЧЕСКИЕ ТЕСТЫ НА PYTHON"
   ]
  },
  {
   "attachments": {},
   "cell_type": "markdown",
   "metadata": {},
   "source": [
    "Одним из наиболее распространённых тестов на проверку временного ряда на стационарность является **расширенный тест Дики — Фуллера**. В тесте формулируется две гипотезы:\n",
    "\n",
    "- нулевая гипотеза (H0): временной ряд нестационарный, то есть имеет некоторый тренд и сезонную компоненту;\n",
    "- альтернативная гипотеза (H1): временной ряд стационарный, то есть не имеет тренда и сезонной компоненты, и данные скорее случайны.\n",
    "  \n",
    "В результате проведения теста мы получим несколько значений: значение статистики из теста и критические значения разных уровней значимости (1 %, 2 %, 3 %). Уровень значимости означает допустимую  для данной задачи вероятность ошибки, то есть чем ниже уровень значимости, тем ниже вероятность ошибочного результата теста.\n",
    "\n",
    "- Если значение статистики ниже критического значения выбранного уровня значимости, отвергаем гипотезу H0 и принимаем гипотезу H1 (ряд стационарный).\n",
    "- Если значение статистики выше критического значения выбранного уровня значимости, принимаем гипотезу H0 (ряд нестационарный)."
   ]
  },
  {
   "attachments": {},
   "cell_type": "markdown",
   "metadata": {},
   "source": [
    "Рассмотрим пример проведения теста Дики — Фуллера на данных временного ряда Daily Total Female Births https://lms.skillfactory.ru/assets/courseware/v1/f7de143aeb66cc671df078ea4c9742d2/asset-v1:SkillFactory+DSPR-2.0+14JULY2021+type@asset+block/daily-total-female-births.zip. В данных содержится количественная информация о девочках, рождённых за несколько месяцев. Для проведения теста будем использовать функцию adfuller() https://www.statsmodels.org/dev/generated/statsmodels.tsa.stattools.adfuller.html из пакета statsmodels."
   ]
  },
  {
   "cell_type": "code",
   "execution_count": 18,
   "metadata": {},
   "outputs": [
    {
     "name": "stdout",
     "output_type": "stream",
     "text": [
      "ADF Statistic: -4.808291253559765\n",
      "p-value: 5.2434129901498554e-05\n",
      "Critical Values:\n",
      "\t1%: -3.449\n",
      "\t5%: -2.870\n",
      "\t10%: -2.571\n"
     ]
    }
   ],
   "source": [
    "import pandas as pd\n",
    "from statsmodels.tsa.stattools import adfuller\n",
    "\n",
    "df = pd.read_csv(\n",
    "\t\"data\\daily-total-female-births.csv\", \n",
    "    header=0, \n",
    "    index_col=0\n",
    ").squeeze(\"columns\")\n",
    "\n",
    "result = adfuller(df.values)\n",
    "\n",
    "print(f\"ADF Statistic: {result[0]}\")\n",
    "print(f\"p-value: {result[1]}\")\n",
    "print(\"Critical Values:\")\n",
    "\n",
    "for key, value in result[4].items():\n",
    "\tprint(f\"\\t{key}: {value:.3f}\")"
   ]
  },
  {
   "attachments": {},
   "cell_type": "markdown",
   "metadata": {},
   "source": [
    "### ЧТО ДЕЛАТЬ, ЕСЛИ РЯД НЕСТАЦИОНАРНЫЙ?"
   ]
  },
  {
   "attachments": {},
   "cell_type": "markdown",
   "metadata": {},
   "source": [
    "Если тест на стационарность показал, что ряд нестационарный и в нём присутствуют тренд и сезонность, необходимо избавиться от них.\n",
    "\n",
    "Обычно для этого достаточно взять разность рядов. Разность выполняется путём дифференцирования ряда, для этого вычисляется разность между двумя соседними наблюдениями ряда. Если полученная первая разность ряда окажется стационарной, то этот ряд называется **интегрированным рядом первого порядка**.\n",
    "\n",
    "Для определения **порядка интегрированного ряда** необходимо сделать следующее:\n",
    "\n",
    "Получить новый ряд посредством взятия разности (применяем к необходимому датафрейму):"
   ]
  },
  {
   "cell_type": "code",
   "execution_count": 19,
   "metadata": {},
   "outputs": [],
   "source": [
    "df_diff_1 = df.diff().dropna()"
   ]
  },
  {
   "attachments": {},
   "cell_type": "markdown",
   "metadata": {},
   "source": [
    "Провести для нового ряда тест на стационарность (например, тест Дики — Фуллера):"
   ]
  },
  {
   "cell_type": "code",
   "execution_count": 20,
   "metadata": {},
   "outputs": [
    {
     "name": "stdout",
     "output_type": "stream",
     "text": [
      "adf:  -12.625178633871347\n",
      "p-value:  1.5472400091969558e-23\n",
      "Critical values:  {'1%': -3.44880082033912, '5%': -2.869670179576637, '10%': -2.5711012838861036}\n",
      "ряд стационарен\n"
     ]
    }
   ],
   "source": [
    "test1 = adfuller(df_diff_1)\n",
    "print ('adf: ', test1[0])\n",
    "print ('p-value: ', test1[1])\n",
    "print ('Critical values: ', test1[4])\n",
    "if test1[0]> test1[4]['5%']: \n",
    "    print ('ряд нестационарен')\n",
    "else:\n",
    "    print ('ряд стационарен')"
   ]
  },
  {
   "attachments": {},
   "cell_type": "markdown",
   "metadata": {},
   "source": [
    "Если полученный ряд нестационарен, можно провести эту процедуру ещё раз, то есть ещё раз дифференцировать разность ряда, полученную на предыдущем этапе.\n",
    "\n",
    "Если после двукратного дифференцирования результат окажется стационарным временным рядом, то исходный временной ряд будет называться интегрированным рядом второго порядка, и так далее.\n",
    "\n",
    "Запомните этот момент: в юните об авторегрессии нам пригодится порядок разности, приводящий ряд к стационарности"
   ]
  },
  {
   "attachments": {},
   "cell_type": "markdown",
   "metadata": {},
   "source": [
    "______________________"
   ]
  },
  {
   "attachments": {},
   "cell_type": "markdown",
   "metadata": {},
   "source": [
    "###  6. Автокорреляция"
   ]
  },
  {
   "attachments": {},
   "cell_type": "markdown",
   "metadata": {},
   "source": [
    "Раньше вы уже встречались с понятием «корреляция».\n",
    "\n",
    "**Корреляция** — это статистическая взаимосвязь, присутствующая между двумя и более величинами, то есть некоторая линейная зависимость (например, между признаками).\n",
    "\n",
    "Что же такое автокорреляция временного ряда?\n",
    "\n",
    "**Автокорреляция** — это статистическая взаимосвязь между последовательностями значений одного временного ряда, взятыми со сдвигом. Другими словами, автокорреляция говорит нам о том, насколько значение во временном ряду похоже на предыдущее значение.\n",
    "\n",
    "Таким образом, автокорреляция — это корреляция ряда с самим собой (отсюда приставка «авто»), но со сдвигом во времени. Она помогает выявлять тенденции в данных и оценивать влияние ранее наблюдаемых значений на текущее наблюдение.\n",
    "\n",
    "У автокорреляции много применений, но в первую очередь её используют для обработки сигналов, прогнозирования погоды и анализа рынка ценных бумаг. Иногда автокорреляция позволяет обнаружить скрытые тенденции.\n",
    "\n",
    "Научиться находить автокорреляцию в Python довольно просто — далее мы разберём, когда и как можно применять эту функцию, а когда она может оказаться неэффективной. Но сначала рассмотрим несколько определений — чтобы построить график автокорреляции на Python, необязательно знать эти термины, однако их понимание позволит вам значительно лучше интерпретировать результаты.\n",
    "\n",
    "- **Лаг** — это предыдущее наблюдение (например, лаг в шесть дней относительно сегодняшнего дня указывает на значение чего-либо, полученное шесть дней назад).\n",
    "- **Положительная корреляция** — это отношение, при котором увеличение одного значения предсказывает увеличение другого.\n",
    "- **Отрицательная корреляция** — это отношение, при котором увеличение одного значения предсказывает уменьшение другого.\n",
    "- **Доверительный интервал** — это рассчитанный диапазон значений, в котором, вероятно, будет содержаться неизвестное (предсказанное) значение для наших данных.\n",
    "- **Уровень достоверности** — это вероятность того, что доверительный интервал будет содержать наблюдаемое значение (фактическое значение для предсказания).\n",
    "  \n",
    "Рассмотрим формулу автокорреляции. Мы уже знаем, что простой линейный коэффициент корреляции определяется по формуле:\n",
    "\n",
    "$r_{xy}=\\frac{\\sum(x_j-\\bar{x})\\cdot(y_j-\\bar{y})}{\\sqrt{\\sum(x_j-\\bar{x})^2(y_j-\\bar{y})^2}}$  \n",
    "Как мы уже сказали, автокорреляция — это корреляция ряда с самим собой, сдвинутым во времени, а значит, в формуле автокорреляции вместо $x$ и $y$ будет сам временной ряд и значения этого сдвинутого временного ряда:\n",
    "\n",
    "$r_{1}= \\frac {\\ sum_{t=2}^{n}(x_t-\\bar {x_1}) \\cdot (x_{t-1}- \\bar{x_2})}{\\sqrt {\\sum_{t=2}^{n}(x_t- \\bar {x_1})^2 \\cdot \\sum_{t=2}^{n}(x_{t-1}- \\bar {x_2})^2}}$,\n",
    "где $\\bar{x_1} = \\frac{\\sum_{t=2}^n x_t}{n-1}; \\ \\bar{x_2} = \\frac{\\sum_{t=2}^n x_{t-1}}{n-1}$.\n",
    "\n",
    "Так будет рассчитываться коэффициент автокорреляции первого порядка (он рассчитывает зависимость между уровнями ряда $t-1$ и $t$).\n",
    "\n",
    "График автокорреляций разного порядка называется коррелограмма. Его довольно просто построить с помощью метода plot_acf https://www.statsmodels.org/dev/generated/statsmodels.graphics.tsaplots.plot_acf.html из пакета statsmodels.graphics.tsaplots. Методу необходимо передать всё тот же временной ряд с индексом-датой."
   ]
  },
  {
   "attachments": {},
   "cell_type": "markdown",
   "metadata": {},
   "source": [
    "Воспользуемся датасетом https://lms.skillfactory.ru/assets/courseware/v1/172fc6caf5a28881a6fec7e2ad50800a/asset-v1:SkillFactory+DSPR-2.0+14JULY2021+type@asset+block/AirPassengers.zip из примера сезонной декомпозиции, в котором представлены данные о количестве авиапассажиров в 1949–1960 годах."
   ]
  },
  {
   "cell_type": "code",
   "execution_count": 21,
   "metadata": {},
   "outputs": [
    {
     "data": {
      "image/png": "[encoded data removed]",
      "text/plain": [
       "<Figure size 432x288 with 1 Axes>"
      ]
     },
     "metadata": {
      "needs_background": "light"
     },
     "output_type": "display_data"
    }
   ],
   "source": [
    "from statsmodels.graphics.tsaplots import plot_acf\n",
    "df = pd.read_csv(\"data\\AirPassengers.csv\", index_col='Month', parse_dates=['Month'])\n",
    "plot_acf(df)\n",
    "plt.show()"
   ]
  },
  {
   "attachments": {},
   "cell_type": "markdown",
   "metadata": {},
   "source": [
    "На оси х коррелограммы расположен лаг (порядок), при котором вычисляется автокорреляция. Ось y показывает значение корреляции (от -1 до 1). Чем ближе значение корреляции к 1 или -1, тем выше зависимость, например:\n",
    "\n",
    "- пик при лаге, равном 1, показывает сильную зависимость между значениям ряда и предыдущим значением;\n",
    "- пик при лаге, равном 2, показывает сильную корреляцию между каждым значением и значением в более ранний момент на расстоянии 2 от данного."
   ]
  },
  {
   "attachments": {},
   "cell_type": "markdown",
   "metadata": {},
   "source": [
    "Также можно встретить коррелограммы, похожие на гистограммы, но их смысл от этого не меняется."
   ]
  },
  {
   "attachments": {},
   "cell_type": "markdown",
   "metadata": {},
   "source": [
    "<img src=\"data\\MATHML_md12_6_2.png\" alt=\"drawing\" width=\"500\"/>"
   ]
  },
  {
   "attachments": {},
   "cell_type": "markdown",
   "metadata": {},
   "source": [
    "Для совершения предсказаний по данным временного ряда статистическими моделями, необходимо, чтобы во временном ряду присутствовала зависимость, а коррелограмма — хороший способ визуально определить наличие такой зависимости. Значения на коррелограмме будут близки к 0 в случае, если данные ряда не зависят от себя в прошлом. Если скрытая зависимость всё-таки имеется, то одно или несколько значений будут значительно отличаться."
   ]
  },
  {
   "attachments": {},
   "cell_type": "markdown",
   "metadata": {},
   "source": [
    "#### КАК ЧИТАТЬ КОРРЕЛОГРАММУ?"
   ]
  },
  {
   "attachments": {},
   "cell_type": "markdown",
   "metadata": {},
   "source": [
    "<img src=\"data\\MATHML_md12_6_3.png\" alt=\"drawing\" width=\"300\"/>\n",
    "\n",
    "Если максимальное значение коррелограммы (не считая значения в нуле) оказывается выраженным для лага, равного k (на рисунке выше k=3), то временной ряд содержит циклическую компоненту с периодом k. То есть данные являются зависимыми/схожими с данными, находящимися на расстоянии k дней/недель и т. д."
   ]
  },
  {
   "attachments": {},
   "cell_type": "markdown",
   "metadata": {},
   "source": [
    "<img src=\"data\\MATHML_md12_6_4.png\" alt=\"drawing\" width=\"300\"/>\n",
    "\n",
    "Если максимальное значение на коррелограмме находится в k=1, то ряд содержит только тенденцию (тренд)."
   ]
  },
  {
   "attachments": {},
   "cell_type": "markdown",
   "metadata": {},
   "source": [
    "<img src=\"data\\MATHML_md12_6_5.png\" alt=\"drawing\" width=\"300\"/>\n",
    "\n",
    "А если все значения на графике автокорреляции колеблются в районе 0, то ряд не содержит циклической компоненты и тренда либо содержит нелинейный тренд, который не видно на коррелограмме (так как нелинейный тренд не может быть выражен линейным коэффициентом корреляции)."
   ]
  },
  {
   "attachments": {},
   "cell_type": "markdown",
   "metadata": {},
   "source": [
    " #### ЧАСТИЧНАЯ АВТОКОРРЕЛЯЦИЯ"
   ]
  },
  {
   "attachments": {},
   "cell_type": "markdown",
   "metadata": {},
   "source": [
    "Для определения сезонного периода используется **частичная автокорреляция**. Она похожа на классическую автокорреляцию, однако дополнительно избавляется от линейной зависимости между сдвинутыми рядами. График частичной автокорреляции читается так же, как и коррелограмма.\n",
    "\n",
    "Частичная автокорреляция строится с помощью метода plot_pacf https://www.statsmodels.org/dev/generated/statsmodels.graphics.tsaplots.plot_pacf.html из пакета statsmodels.graphics.tsaplots.\n",
    "\n",
    "Если вы хотите узнать больше про частичную автокорреляцию, рекомендуем обратиться к этой статье https://machinelearningmastery.com/gentle-introduction-autocorrelation-partial-autocorrelation/?__cf_chl_tk=Hf5sX1kEDNj.gepnQq2pPs4icSy2FPJUpr0RRZVtKOs-1662130047-0-gaNycGzNCZE (перевод её основной части на русский язык) https://www.helenkapatsa.ru/chastichnaia-avtokorrieliatsiia/."
   ]
  },
  {
   "attachments": {},
   "cell_type": "markdown",
   "metadata": {},
   "source": [
    "#### АВТОКОРРЕЛЯЦИЯ ОСТАТКОВ"
   ]
  },
  {
   "attachments": {},
   "cell_type": "markdown",
   "metadata": {},
   "source": [
    "Помимо анализа временного ряда на наличие или отсутствие взаимозависимости, иногда смотрят **автокорреляцию остатков** модели. В хорошей модели остатки (ошибки) должны иметь случайный характер — это означает, что модель уловила все существующие зависимости.\n",
    "\n",
    "Рассмотрим, как определять автокорреляцию остатков по графикам остатков (ошибок предсказания):"
   ]
  },
  {
   "attachments": {},
   "cell_type": "markdown",
   "metadata": {},
   "source": [
    "<img src=\"data\\MATHML_md12_6_8.png\" alt=\"drawing\" width=\"500\"/>"
   ]
  },
  {
   "attachments": {},
   "cell_type": "markdown",
   "metadata": {},
   "source": [
    "На графике выше в большинстве случаев после положительных остатков следуют положительные, а после отрицательных — отрицательные. Это пример положительной автокорреляции."
   ]
  },
  {
   "attachments": {},
   "cell_type": "markdown",
   "metadata": {},
   "source": [
    "<img src=\"data\\MATHML_md12_6_9.png\" alt=\"drawing\" width=\"500\"/>"
   ]
  },
  {
   "attachments": {},
   "cell_type": "markdown",
   "metadata": {},
   "source": [
    "А в этом случае после положительных остатков чаще всего следуют отрицательные и наоборот, на графике — отрицательная автокорреляция."
   ]
  },
  {
   "attachments": {},
   "cell_type": "markdown",
   "metadata": {},
   "source": [
    "#### ПРИЧИНЫ АВТОКОРРЕЛЯЦИИ ОСТАТКОВ:"
   ]
  },
  {
   "attachments": {},
   "cell_type": "markdown",
   "metadata": {},
   "source": [
    "- Если в остатках имеется автокорреляция (наличие зависимости), это значит, что какая-то зависимость осталась незамеченной для вашей модели — возможно, какие-то важные признаки не были учтены.\n",
    "- На появление автокорреляции в остатках может повлиять предварительное сглаживание данных, так как вы искусственно сглаживаете значения (накладывая соседние друг на друга, добавляя зависимость).\n",
    "  \n",
    "Остатки будут случайными, если автокорреляции нет. Статистически, а не только визуально проверить её наличие или отсутствие можно с помощью **теста Дарбина — Уотсона** https://www.statology.org/durbin-watson-test-python/. Пример применения теста на автокорреляцию остатков приведён в статье https://www.statology.org/durbin-watson-test-python/."
   ]
  },
  {
   "attachments": {},
   "cell_type": "markdown",
   "metadata": {},
   "source": [
    "Если в остатках присутствует автокорреляция, скорее всего, предсказания будут далеки от реальных значений и лучше доработать модель, исправив перечисленные выше недочёты.\n",
    "\n",
    "В следующем юните вы узнаете, как автокорреляция используется для предсказания →\n",
    "\n",
    "Если вы хотите глубже изучить теорию по автокорреляции, предлагаем вам разобрать эту статью https://www.itl.nist.gov/div898/handbook/eda/section3/eda35c.htm."
   ]
  },
  {
   "attachments": {},
   "cell_type": "markdown",
   "metadata": {},
   "source": [
    "_____________________"
   ]
  },
  {
   "attachments": {},
   "cell_type": "markdown",
   "metadata": {},
   "source": [
    "### 7. Авторегрессия"
   ]
  },
  {
   "attachments": {},
   "cell_type": "markdown",
   "metadata": {},
   "source": [
    "Модель авторегрессии использует методы регрессии и полагается на уже известную нам автокорреляцию.\n",
    "\n",
    "**Авторегрессионная модель** — это модель временных рядов, которая описывает, как прошлые значения временного ряда влияют на его текущее значение. Как можно понять из значений частей слова, авторегрессия представляет собой линейную регрессию на себя.\n",
    "\n",
    "В контексте прогнозирования временных рядов авторегрессионное моделирование будет означать создание модели, в которой переменная Y будет зависеть от предыдущих значений Y с заранее определённой постоянной задержкой во времени. Временной лаг может быть ежедневным (или два, три, четыре дня и т. д.), еженедельным, ежемесячным и т. п.\n",
    "\n",
    "Модели AR (autoregressive models) можно использовать для моделирования всего, что имеет некоторую степень автокорреляции, то есть имеет корреляцию между наблюдениями на соседних временных шагах. Наиболее распространённый вариант применения этого типа моделирования — цены на фондовом рынке, где сегодняшняя цена (t) сильно коррелирует с ценой вчера (t-1).\n",
    "\n",
    "$Y_t=\\beta_0+\\beta_1\\times Y_{t-1}+error_t$  \n",
    "\n",
    "В приведённой выше формуле берётся значение последнего временного лага (лаг = 1). Если выбрать лаг, равный неделе, то $Y_{t-1}$ будет представлять значение Y за последнюю неделю, а $Y_{t}$ — за текущую. Коэффициенты $\\beta_1$ и $\\beta_0$ — это настраиваемые коэффициенты (как в линейной регрессии), которые мы получим после обучения модели, а error— это ошибка, которую мы, скорее всего, не сможем предсказать, но будем иметь в виду, что итоговое значение включает в себя предсказание и некоторую ошибку.\n",
    "\n",
    "Модель, в которой для расчёта следующего значения используется только предыдущее, называется **моделью первого порядка**, или **AR(1)**.\n",
    "\n",
    "Давайте разберёмся с концепцией модели AR на примере следующего графика:"
   ]
  },
  {
   "attachments": {},
   "cell_type": "markdown",
   "metadata": {},
   "source": [
    "<img src=\"data\\MATHML_md12_7_1.png\" alt=\"drawing\" width=\"600\"/>"
   ]
  },
  {
   "attachments": {},
   "cell_type": "markdown",
   "metadata": {},
   "source": [
    "Здесь представлена динамика потребления электроэнергии в жилых домах в разные месяцы с 2003 по 2010 год.\n",
    "\n",
    "Задача — спрогнозировать потребление на ближайшие месяцы, используя имеющиеся данные.\n",
    "\n",
    "При временном лаге в один месяц модель $AR(1)$, или модель AR первого порядка, будет выглядеть следующим образом:\n",
    "\n",
    "$Y_t=\\beta_0+\\beta_1\\times Y_{t-1}+error_t$\n",
    "\n",
    "Модель AR второго порядка будет рассчитывать значение переменной в любое конкретное время в зависимости от значений последних двух задержек. Таким образом, модель AR(2) будет выглядеть следующим образом:\n",
    "\n",
    "$Y_t=\\beta_0+\\beta_1\\times Y_{t-1}+\\beta_2\\times Y_{t-2}+error_t$\n",
    "\n",
    "1 и 2 в $AR(1)$ и $AR(2)$ — это параметр, который обозначается как p. Таким образом, обобщённая формула для AR-модели с параметром p будет выглядеть следующим образом:\n",
    "\n",
    "$Y_t=\\beta_0+\\beta_1\\times Y_{t-1}+...+\\beta_p\\times Y_{t-p}+error_t$\n",
    "\n",
    "Одним из основных методов оценивания вектора неизвестных параметров $\\beta=(\\beta_0, \\beta_1, . . . ,\\beta_p)$ является метод наименьших квадратов (МНК). Если ошибки модели имеют нормальное распределение, то данный метод также эквивалентен условному методу максимального правдоподобия. Так как коэффициенты настраиваются в процессе обучения модели, вам необходимо лишь верно определить параметр модели p.\n",
    "\n",
    "С методом наименьших квадратов мы уже знакомились, когда изучали линейную регрессию в модуле MATH&ML-2 https://lms.skillfactory.ru/courses/course-v1:SkillFactory+DSPR-2.0+14JULY2021/jump_to_id/ca5781c8d1f146d2b82bceebda7e4e20."
   ]
  },
  {
   "attachments": {},
   "cell_type": "markdown",
   "metadata": {},
   "source": [
    "#### КАК ВЫБИРАТЬ P?\n",
    "\n",
    "В предыдущем юните мы познакомились с автокорреляцией и частичной автокорреляцией. Для определения значения p будем использовать график частичной автокорреляции — будем обращать внимание на последний лаг, сильно отличный от нуля, при условии, что ряд стационарный.\n",
    "\n",
    "Давайте научимся определять p. Перед нами график частичной автокорреляции (pacf). Нам необходимо найти последний лаг, отличный от нуля. В данном случае такими лагами являются лаги 1, 2, 3, 4. Остальные лаги колеблются в районе нуля. Поэтому на этом графике выберем p=4."
   ]
  },
  {
   "attachments": {},
   "cell_type": "markdown",
   "metadata": {},
   "source": [
    "<img src=\"data\\MATHML_md12_7_2.png\" alt=\"drawing\" width=\"600\"/>"
   ]
  },
  {
   "attachments": {},
   "cell_type": "markdown",
   "metadata": {},
   "source": [
    "Обратите внимание на следующий график:"
   ]
  },
  {
   "attachments": {},
   "cell_type": "markdown",
   "metadata": {},
   "source": [
    "<img src=\"data\\MATHML_md12_7_4.png\" alt=\"drawing\" width=\"600\"/>"
   ]
  },
  {
   "attachments": {},
   "cell_type": "markdown",
   "metadata": {},
   "source": [
    "Здесь p будет равно 1, так как сильнее всего от нуля отличен первый лаг. Но если у вас возникают сомнения, вы можете проверить модель с разными параметрами и выбрать лучшую."
   ]
  },
  {
   "attachments": {},
   "cell_type": "markdown",
   "metadata": {},
   "source": [
    "### AR-МОДЕЛИРОВАНИЕ НА PYTHON"
   ]
  },
  {
   "attachments": {},
   "cell_type": "markdown",
   "metadata": {},
   "source": [
    "Для загрузки класса ar_model.AutoReg, который применяется для обучения одномерной авторегрессионной модели порядка p, используется пакет statsmodels.tsa.\n",
    "\n",
    "Ниже приведены некоторые из ключевых шагов, которые необходимо выполнить для обучения AR-модели:\n",
    "\n",
    "1. Отобразить временной ряд.\n",
    "2. Проверить ряд на стационарность (модель AR можно применять только к стационарному временному ряду).\n",
    "3. Выбрать параметр p (порядок модели AR).\n",
    "4. Обучить модель.\n",
    "   \n",
    "Все эти шаги вы будете выполнять в итоговой практике, а пока давайте перейдём к самому инструменту моделирования.\n",
    "\n",
    "Применим авторегрессионную модель к датасету https://raw.githubusercontent.com/jenfly/opsd/master/opsd_germany_daily.csv по производству возобновляемой энергии в Германии. Набор данных включает общую информацию о потреблении электроэнергии в стране, а также о производстве ветровой и солнечной энергии за 2006–2017 годы.\n",
    "\n",
    "Признаки в данных:\n",
    "\n",
    "- Date — дата (в формате гггг-мм-дд);\n",
    "- Consumption — потребление электроэнергии (ГВтч);\n",
    "- Wind — производство ветровой энергии (ГВтч);\n",
    "- Solar — производство солнечной энергии (ГВтч);\n",
    "- Wind+Solar — сумма производства ветровой и солнечной энергии (ГВтч).\n",
    "  \n",
    "В качестве примера построим предсказание объёма потребления электроэнергии на три месяца (возьмём последние 100 дней).\n",
    "Импортируем необходимые библиотеки и загрузим датасет с данными."
   ]
  },
  {
   "cell_type": "code",
   "execution_count": 22,
   "metadata": {},
   "outputs": [],
   "source": [
    "import pandas as pd\n",
    "import numpy as np\n",
    "from statsmodels.tsa.ar_model import AutoReg\n",
    "\n",
    "url='https://raw.githubusercontent.com/jenfly/opsd/master/opsd_germany_daily.csv'\n",
    "df = pd.read_csv(url, sep=\",\")"
   ]
  },
  {
   "attachments": {},
   "cell_type": "markdown",
   "metadata": {},
   "source": [
    "При использовании статистических моделей временные ряды нельзя делить на обучающую и тестовую выборки случайным образом. Так как нам важно сохранять последовательность, разделим данные на обучающую и тестовую выборки упорядоченно, то есть возьмём в качестве тестовой выборки последние 100 значений. Остальные данные будем использовать для обучения."
   ]
  },
  {
   "cell_type": "code",
   "execution_count": 23,
   "metadata": {},
   "outputs": [],
   "source": [
    "train_data = df['Consumption'][:len(df)-100]\n",
    "test_data = df['Consumption'][len(df)-100:]"
   ]
  },
  {
   "attachments": {},
   "cell_type": "markdown",
   "metadata": {},
   "source": [
    "Инициализируем и обучим модель. Возьмём lags=8 (AR(8)) — на практике же будем определять это значение по графику частичной автокорреляции:"
   ]
  },
  {
   "cell_type": "code",
   "execution_count": 24,
   "metadata": {},
   "outputs": [
    {
     "name": "stdout",
     "output_type": "stream",
     "text": [
      "                            AutoReg Model Results                             \n",
      "==============================================================================\n",
      "Dep. Variable:            Consumption   No. Observations:                 4283\n",
      "Model:                     AutoReg(8)   Log Likelihood              -24231.812\n",
      "Method:               Conditional MLE   S.D. of innovations             70.058\n",
      "Date:                Sat, 06 May 2023   AIC                          48483.625\n",
      "Time:                        23:32:41   BIC                          48547.230\n",
      "Sample:                             8   HQIC                         48506.095\n",
      "                                 4283                                         \n",
      "==================================================================================\n",
      "                     coef    std err          z      P>|z|      [0.025      0.975]\n",
      "----------------------------------------------------------------------------------\n",
      "const            121.2792     14.444      8.397      0.000      92.969     149.589\n",
      "Consumption.L1     0.6393      0.013     47.751      0.000       0.613       0.666\n",
      "Consumption.L2    -0.0966      0.011     -8.424      0.000      -0.119      -0.074\n",
      "Consumption.L3     0.0677      0.012      5.879      0.000       0.045       0.090\n",
      "Consumption.L4    -0.0538      0.012     -4.653      0.000      -0.076      -0.031\n",
      "Consumption.L5    -0.0092      0.012     -0.793      0.428      -0.032       0.014\n",
      "Consumption.L6     0.0619      0.012      5.371      0.000       0.039       0.085\n",
      "Consumption.L7     0.7832      0.011     68.283      0.000       0.761       0.806\n",
      "Consumption.L8    -0.4833      0.013    -36.107      0.000      -0.510      -0.457\n",
      "                                    Roots                                    \n",
      "=============================================================================\n",
      "                  Real          Imaginary           Modulus         Frequency\n",
      "-----------------------------------------------------------------------------\n",
      "AR.1           -0.9434           -0.4695j            1.0538           -0.4265\n",
      "AR.2           -0.9434           +0.4695j            1.0538            0.4265\n",
      "AR.3           -0.2332           -0.9929j            1.0199           -0.2867\n",
      "AR.4           -0.2332           +0.9929j            1.0199            0.2867\n",
      "AR.5            0.6323           -0.7958j            1.0164           -0.1431\n",
      "AR.6            0.6323           +0.7958j            1.0164            0.1431\n",
      "AR.7            1.0362           -0.0000j            1.0362           -0.0000\n",
      "AR.8            1.6730           -0.0000j            1.6730           -0.0000\n",
      "-----------------------------------------------------------------------------\n"
     ]
    }
   ],
   "source": [
    "ar_model = AutoReg(train_data, lags=8).fit()\n",
    "print(ar_model.summary())"
   ]
  },
  {
   "attachments": {},
   "cell_type": "markdown",
   "metadata": {},
   "source": [
    "Сделаем предсказание. Метод predict требует два обязательных параметра — метки начала и окончания предсказания. Метка начала предсказания будет равна количеству данных в обучающей выборке, так как нас интересует прогноз со следующего дня. Метка окончания в нашем случае будет равна len(train_data)+100, что эквивалентно len(df)-1, так как len(df) = len(train_data) + len(test_data)."
   ]
  },
  {
   "cell_type": "code",
   "execution_count": 25,
   "metadata": {},
   "outputs": [],
   "source": [
    "pred = ar_model.predict(start=len(train_data), end=(len(df)-1), dynamic=False)"
   ]
  },
  {
   "attachments": {},
   "cell_type": "markdown",
   "metadata": {},
   "source": [
    "Существуют и альтернативные AR-методы прогнозирования временных рядов:\n",
    "\n",
    "- МА (скользящее среднее),\n",
    "- ARMA (авторегрессионное скользящее среднее),\n",
    "- ARIMA (авторегрессионное интегрированное скользящее среднее),\n",
    "- SARIMA (сезонное авторегрессионное интегрированное скользящее среднее),\n",
    "- VAR (векторная авторегрессия),\n",
    "- VARMA (скользящее среднее векторной авторегрессии),\n",
    "- SES (простое экспоненциальное сглаживание, которое мы рассмотрели в юните 4).\n",
    "  \n",
    "В следующем модуле мы рассмотрим самые известные методы прогнозирования, а сейчас самое время закрепить полученные знания на практике →"
   ]
  },
  {
   "attachments": {},
   "cell_type": "markdown",
   "metadata": {},
   "source": [
    "_______________________"
   ]
  },
  {
   "attachments": {},
   "cell_type": "markdown",
   "metadata": {},
   "source": [
    "### 8. Итоговая практика"
   ]
  },
  {
   "attachments": {},
   "cell_type": "markdown",
   "metadata": {},
   "source": [
    "В скринкасте представлено пошаговое решение задачи на прогнозирование временного ряда — предлагаем вам потренироваться и разобрать её вместе с автором модуля. Под скринкастом вы найдёте кейс, который вам нужно будет решить уже полностью самостоятельно."
   ]
  },
  {
   "attachments": {},
   "cell_type": "markdown",
   "metadata": {},
   "source": [
    "- Ноутбук из скринкаста https://lms.skillfactory.ru/assets/courseware/v1/142590ff456bad565161b233140b8e8d/asset-v1:SkillFactory+DSPR-2.0+14JULY2021+type@asset+block/Exp_AR_TS.ipynb;\n",
    "- Данные из скринкаста https://lms.skillfactory.ru/assets/courseware/v1/390fc7e7f4f06ee3f5c629ccfcc9e411/asset-v1:SkillFactory+DSPR-2.0+14JULY2021+type@asset+block/southern_osc.zip.\n",
    "  \n",
    "Книжному интернет-магазину необходимо уметь предсказывать объём заказов, чтобы выделить необходимое количество сотрудников на сбор и упаковку и уменьшить задержки. Вам предстоит решить задачу предсказания товарооборота этого магазина.\n",
    "\n",
    "Датасет состоит из двух столбцов:\n",
    "\n",
    "- date — дата заказа;\n",
    "- quantity (qty) — количество книг, заказанных в этот день.\n",
    "  \n",
    "Загрузите датасет https://lms.skillfactory.ru/assets/courseware/v1/262764505005e364b4078d30886b2f34/asset-v1:SkillFactory+DSPR-2.0+14JULY2021+type@asset+block/tovar_moving.zip и выполните следующие шаги. После вам необходимо будет ответить на вопросы по выполненному заданию.\n",
    "\n",
    "1. Отложите в test последнее значение временного ряда.\n",
    "2. Проанализируйте временной ряд на наличие тренда и сезонности.\n",
    "3. Постройте прогноз на одно последнее значение с помощью экспоненциального сглаживания ($\\alpha=0.7$). Сравните результат с фактическим значением, которое вы отложили вначале.\n",
    "4. Проверьте ряд на стационарность, определите порядок интегрирования.\n",
    "5. Определите порядок модели AR по графику частичной автокорреляции.\n",
    "6. Постройте модель AR и предскажите последнее значение ряда.\n",
    "7. Обратите внимание: модель строится на исходном временном ряду.\n",
    "\n",
    "Сравните полученные результаты."
   ]
  },
  {
   "cell_type": "code",
   "execution_count": 26,
   "metadata": {},
   "outputs": [
    {
     "data": {
      "text/html": [
       "<div>\n",
       "<style scoped>\n",
       "    .dataframe tbody tr th:only-of-type {\n",
       "        vertical-align: middle;\n",
       "    }\n",
       "\n",
       "    .dataframe tbody tr th {\n",
       "        vertical-align: top;\n",
       "    }\n",
       "\n",
       "    .dataframe thead th {\n",
       "        text-align: right;\n",
       "    }\n",
       "</style>\n",
       "<table border=\"1\" class=\"dataframe\">\n",
       "  <thead>\n",
       "    <tr style=\"text-align: right;\">\n",
       "      <th></th>\n",
       "      <th>qty</th>\n",
       "    </tr>\n",
       "    <tr>\n",
       "      <th>date</th>\n",
       "      <th></th>\n",
       "    </tr>\n",
       "  </thead>\n",
       "  <tbody>\n",
       "    <tr>\n",
       "      <th>2009-12-25</th>\n",
       "      <td>72314.0</td>\n",
       "    </tr>\n",
       "    <tr>\n",
       "      <th>2009-12-26</th>\n",
       "      <td>66586.0</td>\n",
       "    </tr>\n",
       "    <tr>\n",
       "      <th>2009-12-27</th>\n",
       "      <td>125199.0</td>\n",
       "    </tr>\n",
       "    <tr>\n",
       "      <th>2009-12-28</th>\n",
       "      <td>91544.0</td>\n",
       "    </tr>\n",
       "    <tr>\n",
       "      <th>2009-12-29</th>\n",
       "      <td>76995.0</td>\n",
       "    </tr>\n",
       "  </tbody>\n",
       "</table>\n",
       "</div>"
      ],
      "text/plain": [
       "                 qty\n",
       "date                \n",
       "2009-12-25   72314.0\n",
       "2009-12-26   66586.0\n",
       "2009-12-27  125199.0\n",
       "2009-12-28   91544.0\n",
       "2009-12-29   76995.0"
      ]
     },
     "execution_count": 26,
     "metadata": {},
     "output_type": "execute_result"
    }
   ],
   "source": [
    "import pandas as pd\n",
    "import numpy as np\n",
    "from statsmodels.tsa.seasonal import seasonal_decompose\n",
    "from matplotlib import pyplot\n",
    "import statsmodels.api as sm\n",
    "\n",
    "from datetime import datetime\n",
    "\n",
    "df = pd.read_csv(\"data/tovar_moving.csv\",parse_dates=['date'], index_col=['date']) # считываем датасет\n",
    "df.head() "
   ]
  },
  {
   "cell_type": "code",
   "execution_count": 27,
   "metadata": {},
   "outputs": [
    {
     "data": {
      "text/plain": [
       "<AxesSubplot:xlabel='date'>"
      ]
     },
     "execution_count": 27,
     "metadata": {},
     "output_type": "execute_result"
    },
    {
     "data": {
      "image/png": "[encoded data removed]",
      "text/plain": [
       "<Figure size 432x288 with 1 Axes>"
      ]
     },
     "metadata": {
      "needs_background": "light"
     },
     "output_type": "display_data"
    }
   ],
   "source": [
    "df.plot()"
   ]
  },
  {
   "cell_type": "code",
   "execution_count": 28,
   "metadata": {},
   "outputs": [
    {
     "data": {
      "image/png": "[encoded data removed]",
      "text/plain": [
       "<Figure size 432x288 with 4 Axes>"
      ]
     },
     "metadata": {
      "needs_background": "light"
     },
     "output_type": "display_data"
    }
   ],
   "source": [
    "decomposition = seasonal_decompose(df, model='additive') \n",
    "decomposition.plot()\n",
    "pyplot.show() "
   ]
  },
  {
   "cell_type": "code",
   "execution_count": 29,
   "metadata": {},
   "outputs": [
    {
     "data": {
      "text/plain": [
       "qty    423846.0\n",
       "Name: 2013-12-02 00:00:00, dtype: float64"
      ]
     },
     "execution_count": 29,
     "metadata": {},
     "output_type": "execute_result"
    }
   ],
   "source": [
    "test_df = df.iloc[-1]\n",
    "train_df = df.iloc[:-1]\n",
    "test_df"
   ]
  },
  {
   "cell_type": "code",
   "execution_count": 30,
   "metadata": {},
   "outputs": [
    {
     "name": "stderr",
     "output_type": "stream",
     "text": [
      "c:\\Users\\anton\\AppData\\Local\\Programs\\Python\\Python310\\lib\\site-packages\\statsmodels\\tsa\\base\\tsa_model.py:471: ValueWarning: No frequency information was provided, so inferred frequency D will be used.\n",
      "  self._init_dates(dates, freq)\n"
     ]
    },
    {
     "data": {
      "text/plain": [
       "2013-12-02    225015.522647\n",
       "Freq: D, dtype: float64"
      ]
     },
     "execution_count": 30,
     "metadata": {},
     "output_type": "execute_result"
    }
   ],
   "source": [
    "from statsmodels.tsa.api import SimpleExpSmoothing\n",
    "ses = SimpleExpSmoothing(train_df)\n",
    "alpha = 0.7\n",
    "model = ses.fit(smoothing_level = alpha, optimized = False)\n",
    "exp_pred = model.forecast(1)\n",
    "exp_pred"
   ]
  },
  {
   "cell_type": "code",
   "execution_count": 31,
   "metadata": {},
   "outputs": [
    {
     "data": {
      "text/plain": [
       "2013-12-02    225015.522647\n",
       "2013-12-03    225015.522647\n",
       "2013-12-04    225015.522647\n",
       "2013-12-05    225015.522647\n",
       "Freq: D, dtype: float64"
      ]
     },
     "execution_count": 31,
     "metadata": {},
     "output_type": "execute_result"
    }
   ],
   "source": [
    "model.forecast(4)"
   ]
  },
  {
   "cell_type": "code",
   "execution_count": 32,
   "metadata": {},
   "outputs": [
    {
     "name": "stdout",
     "output_type": "stream",
     "text": [
      "adf:  -2.2553026410337966\n",
      "p-value:  0.18678903123416574\n",
      "Critical values:  {'1%': -3.434973278556316, '5%': -2.8635818545830376, '10%': -2.567857072940785}\n",
      "есть единичные корни, ряд не стационарен\n"
     ]
    }
   ],
   "source": [
    "def stat_test(df):\n",
    "    test = sm.tsa.adfuller(df)\n",
    "    print ('adf: ', test[0] )\n",
    "    print ('p-value: ', test[1])\n",
    "    print('Critical values: ', test[4])\n",
    "    if test[0]> test[4]['5%']: \n",
    "        print ('есть единичные корни, ряд не стационарен')\n",
    "    else:\n",
    "        print ('единичных корней нет, ряд стационарен')\n",
    "\n",
    "stat_test(train_df)"
   ]
  },
  {
   "cell_type": "code",
   "execution_count": 33,
   "metadata": {},
   "outputs": [],
   "source": [
    "otg1diff = df.diff(periods=1).dropna()"
   ]
  },
  {
   "cell_type": "code",
   "execution_count": 34,
   "metadata": {},
   "outputs": [
    {
     "name": "stdout",
     "output_type": "stream",
     "text": [
      "adf:  -13.821839865226677\n",
      "p-value:  7.878856681049184e-26\n",
      "Critical values:  {'1%': -3.4349700122033804, '5%': -2.8635804131233096, '10%': -2.567856305330816}\n",
      "единичных корней нет, ряд стационарен\n"
     ]
    }
   ],
   "source": [
    "stat_test(otg1diff)"
   ]
  },
  {
   "cell_type": "code",
   "execution_count": 35,
   "metadata": {},
   "outputs": [
    {
     "name": "stderr",
     "output_type": "stream",
     "text": [
      "c:\\Users\\anton\\AppData\\Local\\Programs\\Python\\Python310\\lib\\site-packages\\statsmodels\\graphics\\tsaplots.py:348: FutureWarning: The default method 'yw' can produce PACF values outside of the [-1,1] interval. After 0.13, the default will change tounadjusted Yule-Walker ('ywm'). You can use this method now by setting method='ywm'.\n",
      "  warnings.warn(\n"
     ]
    },
    {
     "data": {
      "image/png": "[encoded data removed]",
      "text/plain": [
       "<Figure size 864x576 with 2 Axes>"
      ]
     },
     "metadata": {
      "needs_background": "light"
     },
     "output_type": "display_data"
    }
   ],
   "source": [
    "from matplotlib import pyplot as plt\n",
    "%matplotlib inline \n",
    "\n",
    "fig = plt.figure(figsize=(12,8))\n",
    "ax1 = fig.add_subplot(211)\n",
    "fig = sm.graphics.tsa.plot_acf(otg1diff.values.squeeze(), lags=25, ax=ax1)\n",
    "ax2 = fig.add_subplot(212)\n",
    "fig = sm.graphics.tsa.plot_pacf(otg1diff, lags=25, ax=ax2)"
   ]
  },
  {
   "attachments": {},
   "cell_type": "markdown",
   "metadata": {},
   "source": [
    "по pacf видим что последним лагом, отличным от нуля является 6 лаг."
   ]
  },
  {
   "cell_type": "code",
   "execution_count": 36,
   "metadata": {},
   "outputs": [
    {
     "data": {
      "text/plain": [
       "1438"
      ]
     },
     "execution_count": 36,
     "metadata": {},
     "output_type": "execute_result"
    }
   ],
   "source": [
    "p =6\n",
    "len(train_df)"
   ]
  },
  {
   "cell_type": "code",
   "execution_count": 37,
   "metadata": {},
   "outputs": [
    {
     "name": "stdout",
     "output_type": "stream",
     "text": [
      "                            AutoReg Model Results                             \n",
      "==============================================================================\n",
      "Dep. Variable:                    qty   No. Observations:                 1438\n",
      "Model:                     AutoReg(6)   Log Likelihood              -18221.056\n",
      "Method:               Conditional MLE   S.D. of innovations          81248.064\n",
      "Date:                Sat, 06 May 2023   AIC                          36458.111\n",
      "Time:                        23:37:59   BIC                          36500.246\n",
      "Sample:                    12-31-2009   HQIC                         36473.844\n",
      "                         - 12-01-2013                                         \n",
      "==============================================================================\n",
      "                 coef    std err          z      P>|z|      [0.025      0.975]\n",
      "------------------------------------------------------------------------------\n",
      "const       3.047e+04   6160.175      4.946      0.000    1.84e+04    4.25e+04\n",
      "qty.L1         0.3074      0.026     11.654      0.000       0.256       0.359\n",
      "qty.L2         0.1582      0.027      5.835      0.000       0.105       0.211\n",
      "qty.L3         0.1074      0.027      3.915      0.000       0.054       0.161\n",
      "qty.L4         0.0376      0.027      1.372      0.170      -0.016       0.091\n",
      "qty.L5         0.1933      0.027      7.127      0.000       0.140       0.246\n",
      "qty.L6         0.0894      0.026      3.388      0.001       0.038       0.141\n",
      "                                    Roots                                    \n",
      "=============================================================================\n",
      "                  Real          Imaginary           Modulus         Frequency\n",
      "-----------------------------------------------------------------------------\n",
      "AR.1            1.0386           -0.0000j            1.0386           -0.0000\n",
      "AR.2            0.6176           -1.2386j            1.3840           -0.1764\n",
      "AR.3            0.6176           +1.2386j            1.3840            0.1764\n",
      "AR.4           -1.0487           -1.1420j            1.5505           -0.3682\n",
      "AR.5           -1.0487           +1.1420j            1.5505            0.3682\n",
      "AR.6           -2.3378           -0.0000j            2.3378           -0.5000\n",
      "-----------------------------------------------------------------------------\n"
     ]
    },
    {
     "name": "stderr",
     "output_type": "stream",
     "text": [
      "c:\\Users\\anton\\AppData\\Local\\Programs\\Python\\Python310\\lib\\site-packages\\statsmodels\\tsa\\base\\tsa_model.py:471: ValueWarning: No frequency information was provided, so inferred frequency D will be used.\n",
      "  self._init_dates(dates, freq)\n",
      "c:\\Users\\anton\\AppData\\Local\\Programs\\Python\\Python310\\lib\\site-packages\\statsmodels\\tsa\\deterministic.py:302: UserWarning: Only PeriodIndexes, DatetimeIndexes with a frequency set, RangesIndexes, and Index with a unit increment support extending. The index is set will contain the position relative to the data length.\n",
      "  fcast_index = self._extend_index(index, steps, forecast_index)\n"
     ]
    },
    {
     "data": {
      "text/plain": [
       "2013-12-02    318174.284553\n",
       "Freq: D, dtype: float64"
      ]
     },
     "execution_count": 37,
     "metadata": {},
     "output_type": "execute_result"
    }
   ],
   "source": [
    "import pandas as pd\n",
    "import numpy as np\n",
    "from statsmodels.tsa.ar_model import AutoReg\n",
    "\n",
    "ar_model = AutoReg(train_df, lags=p).fit()\n",
    "print(ar_model.summary())\n",
    "\n",
    "ar_pred = ar_model.predict(start=len(train_df), end=(len(train_df)), dynamic=False)\n",
    "ar_pred"
   ]
  },
  {
   "cell_type": "code",
   "execution_count": 38,
   "metadata": {},
   "outputs": [
    {
     "data": {
      "text/plain": [
       "True"
      ]
     },
     "execution_count": 38,
     "metadata": {},
     "output_type": "execute_result"
    }
   ],
   "source": [
    "from sklearn.metrics import mean_squared_error\n",
    "\n",
    "mean_squared_error(test_df, ar_pred) < mean_squared_error(test_df, exp_pred)"
   ]
  },
  {
   "attachments": {},
   "cell_type": "markdown",
   "metadata": {},
   "source": [
    "_____________________________"
   ]
  },
  {
   "attachments": {},
   "cell_type": "markdown",
   "metadata": {},
   "source": [
    "### 9. Итоги"
   ]
  },
  {
   "attachments": {},
   "cell_type": "markdown",
   "metadata": {},
   "source": [
    "⭐ Поздравляем, вы завершили модуль по введению в работу с временными рядами!\n",
    "\n",
    "В этом модуле мы познакомились с базовыми понятиями и статистическими методами анализа временных рядов. Как уже отмечалось ранее, временной ряд — это особый вид данных, поэтому перед работой очень важно познакомиться с рядом, анализ которого вам предстоит сделать, и проанализировать его свойства. Таким образом, знание и умение пользоваться изученными инструментами является неотъемлемой частью базового набора дата-сайентиста.\n",
    "\n",
    "Однако для эффективного анализа данных этих методов далеко не всегда бывает достаточно — обычно они используются для первичного анализа и позволяют сделать предварительные выводы. После этого в ход идут более сложные модели машинного обучения, с которыми мы будем знакомиться в следующем модуле.\n",
    "\n",
    "ПОЛЕЗНЫЕ ССЫЛКИ МОДУЛЯ:\n",
    "\n",
    "- Installing statsmodels https://www.statsmodels.org/devel/install.html  \n",
    "- “A Gentle Introduction to Exponential Smoothing for Time Series Forecasting in Python” («Нежное введение в экспоненциальное сглаживание для прогнозирования временных рядов в Python») https://machinelearningmastery.com/exponential-smoothing-for-time-series-forecasting-in-python/  \n",
    "- Лекция 9. Экспоненциальное сглаживание. Распознавание образов: метод -го ближайшего соседа https://youtu.be/M0Hz1u59Ysw  \n",
    "- “A Gentle Introduction to Autocorrelation and Partial Autocorrelation” («Частичная автокорреляция (PACF)») https://machinelearningmastery.com/gentle-introduction-autocorrelation-partial-autocorrelation/   \n",
    "https://www.helenkapatsa.ru/chastichnaia-avtokorrieliatsiia/  \n",
    "- “How to Perform a Durbin-Watson Test in Python” https://www.statology.org/durbin-watson-test-python/\n",
    "- “Autocorrelation” https://www.itl.nist.gov/div898/handbook/eda/section3/eda35c.htm  "
   ]
  },
  {
   "attachments": {},
   "cell_type": "markdown",
   "metadata": {},
   "source": [
    "__________________________________"
   ]
  }
 ],
 "metadata": {
  "kernelspec": {
   "display_name": "Python 3",
   "language": "python",
   "name": "python3"
  },
  "language_info": {
   "codemirror_mode": {
    "name": "ipython",
    "version": 3
   },
   "file_extension": ".py",
   "mimetype": "text/x-python",
   "name": "python",
   "nbconvert_exporter": "python",
   "pygments_lexer": "ipython3",
   "version": "3.10.4"
  },
  "orig_nbformat": 4
 },
 "nbformat": 4,
 "nbformat_minor": 2
}
