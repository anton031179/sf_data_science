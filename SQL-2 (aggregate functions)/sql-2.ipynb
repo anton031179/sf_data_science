{
 "cells": [
  {
   "cell_type": "markdown",
   "metadata": {},
   "source": [
    "## Убираем повторяющиеся значения"
   ]
  },
  {
   "cell_type": "markdown",
   "metadata": {},
   "source": [
    "Для начала получим все основные типы покемонов\n",
    "\n",
    "    SELECT\n",
    "        type1\n",
    "    FROM sql.pokemon"
   ]
  },
  {
   "cell_type": "markdown",
   "metadata": {},
   "source": [
    "Видно, что типы повторяются, потому что в результате запроса вы получаете все строки, которые подходят под заданные условия.\n",
    "Чтобы получить уникальные значения из столбца, воспользуемся ключевым словом DISTINCT.\n",
    "\n",
    "    SELECT DISTINCT\n",
    "        type1\n",
    "    FROM sql.pokemon"
   ]
  },
  {
   "cell_type": "markdown",
   "metadata": {},
   "source": [
    "Мы можем применять DISTINCT и для нескольких столбцов.\n",
    "Получим, например, все уникальные пары основного и дополнительного типов для покемонов.\n",
    "\n",
    "    SELECT DISTINCT\n",
    "        type1,\n",
    "        type2\n",
    "    FROM sql.pokemon"
   ]
  },
  {
   "cell_type": "markdown",
   "metadata": {},
   "source": [
    "Обратите внимание! DISTINCT пишется только один раз, в начале списка получаемых столбцов."
   ]
  },
  {
   "cell_type": "markdown",
   "metadata": {},
   "source": [
    "## Агрегатные функции"
   ]
  },
  {
   "cell_type": "markdown",
   "metadata": {},
   "source": [
    "✍ Кроме простых математических операций, которые мы использовали в предыдущем модуле, СУБД позволяет проводить статистические вычисления для нескольких строк.\n",
    "Давайте посчитаем количество строк в таблице. Для этого применим агрегатную функцию COUNT.\n",
    "\n",
    "    SELECT\n",
    "        COUNT(*)\n",
    "    FROM sql.pokemon"
   ]
  },
  {
   "cell_type": "markdown",
   "metadata": {},
   "source": [
    "COUNT считает строки, а звёздочка (*) в аргументе функции означает, что считаются все строки, которые возвращает запрос.\n",
    "Если в аргументе функции указать название столбца, функция обработает только строки с непустым значением."
   ]
  },
  {
   "cell_type": "markdown",
   "metadata": {},
   "source": [
    "Задание 3.1\n",
    "Сколько покемонов имеет дополнительный тип?\n",
    "\n",
    "    SELECT \n",
    "        COUNT(type2)\n",
    "    FROM sql.pokemon"
   ]
  },
  {
   "cell_type": "markdown",
   "metadata": {},
   "source": [
    "Внутри функции COUNT мы можем также применять DISTINCT, чтобы вычислить количество уникальных значений.\n",
    "\n",
    "    SELECT\n",
    "        COUNT(DISTINCT type1)\n",
    "    FROM sql.pokemon"
   ]
  },
  {
   "cell_type": "markdown",
   "metadata": {},
   "source": [
    "Задание 3.2\n",
    "Совпадает ли количество различных основных и дополнительных типов?\n",
    "\n",
    "    SELECT\n",
    "        COUNT(DISTINCT type1)\n",
    "    FROM sql.pokemon\n",
    "\n",
    "    SELECT\n",
    "        COUNT(DISTINCT type2)\n",
    "    FROM sql.pokemon"
   ]
  },
  {
   "cell_type": "markdown",
   "metadata": {},
   "source": [
    "Назовём основные агрегатные функции, с которыми нам предстоит работать:\n",
    "\n",
    "COUNT — вычисляет число непустых строк;  \n",
    "SUM — вычисляет сумму;  \n",
    "AVG — вычисляет среднее;  \n",
    "MAX — вычисляет максимум;  \n",
    "MIN — вычисляет минимум.  \n",
    "Присмотримся к ним внимательнее.  "
   ]
  },
  {
   "cell_type": "markdown",
   "metadata": {},
   "source": [
    "Задание 3.3\n",
    "Найдите максимальное значение атаки среди всех покемонов.\n",
    "\n",
    "    SELECT\n",
    "        MAX(attack)\n",
    "    FROM sql.pokemon\n"
   ]
  },
  {
   "cell_type": "markdown",
   "metadata": {},
   "source": [
    "Разумеется, вы можете использовать в запросе фильтрацию строк с помощью WHERE, чтобы получить агрегированное значение только для отдельных строк."
   ]
  },
  {
   "cell_type": "markdown",
   "metadata": {},
   "source": [
    "Задание 3.4\n",
    "Какое среднее количество очков здоровья у покемонов-драконов (то есть тех, у кого основной тип — Dragon)?\n",
    "Введите целое число, округлив в сторону уменьшения.\n",
    "\n",
    "    SELECT\n",
    "        AVG(hp)\n",
    "    FROM sql.pokemon\n",
    "    WHERE (type1 = 'Dragon')\n",
    "\n"
   ]
  },
  {
   "cell_type": "markdown",
   "metadata": {},
   "source": [
    "Кроме того, мы можем применять несколько агрегатных функций в одном запросе.\n",
    "\n",
    "    SELECT\n",
    "        COUNT(*) AS \"всего травяных покемонов\",\n",
    "        COUNT(type2) AS \"покемонов с дополнительным типом\",\n",
    "        AVG(attack) AS \"средняя атака\",\n",
    "        AVG(defense) AS \"средняя защита\"\n",
    "    FROM sql.pokemon\n",
    "    WHERE type1 = 'Grass'"
   ]
  },
  {
   "cell_type": "markdown",
   "metadata": {},
   "source": [
    "⚡ Важно! Если платформа не принимает ваш вариант кода, обращайте внимание на выпадающий пункт меню See full output: там иногда могут быть подсказки о причине ошибки."
   ]
  },
  {
   "cell_type": "markdown",
   "metadata": {},
   "source": [
    "Задание 3.5\n",
    "Напишите запрос, который выведет:\n",
    "\n",
    "количество покемонов (столбец pokemon_count);  \n",
    "среднюю скорость (столбец avg_speed);  \n",
    "максимальное и минимальное число очков здоровья (столбцы max_hp и min_hp)  \n",
    "для электрических (Electric) покемонов, имеющих дополнительный тип и показатели атаки или защиты больше 50.  \n",
    "\n",
    "    SELECT\n",
    "        COUNT(*) AS \"pokemon_count\",\n",
    "        AVG(speed) AS \"avg_speed\",\n",
    "        MAX(hp) AS \"max_hp\",\n",
    "        MIN(hp) AS \"min_hp\"\n",
    "    FROM sql.pokemon\n",
    "    WHERE (type1 = 'Electric') AND (type2 IS NOT NULL) AND (attack > 50 OR defense > 50)\n",
    "\n"
   ]
  },
  {
   "cell_type": "markdown",
   "metadata": {},
   "source": [
    "## Группировка"
   ]
  },
  {
   "cell_type": "markdown",
   "metadata": {},
   "source": [
    "✍ Как мы помним, агрегатные функции вычисляют какой-то параметр для набора строк.\n",
    "Прежде мы применяли агрегатные функции для всего вывода, а сейчас используем для различных групп строк. Поможет нам в этом ключевое слово GROUP BY."
   ]
  },
  {
   "cell_type": "markdown",
   "metadata": {},
   "source": [
    "GROUP BY используется для определения групп выходных строк, к которым могут применяться агрегатные функции.\n",
    "Выведем число покемонов каждого типа.\n",
    "\n",
    "    SELECT /*выбор*/\n",
    "        type1 AS pokemon_type, \n",
    "        COUNT(*) AS pokemon_count \n",
    "    FROM sql.pokemon \n",
    "    GROUP BY type1 \n",
    "    ORDER BY type1 "
   ]
  },
  {
   "cell_type": "markdown",
   "metadata": {},
   "source": [
    "Вывод, конечно же, можно сортировать по столбцу с агрегированием.\n",
    "Представим ТОП существующих типов покемонов.\n",
    "\n",
    "    SELECT\n",
    "        type1 AS pokemon_type,\n",
    "        COUNT(*) AS pokemon_count\n",
    "    FROM sql.pokemon\n",
    "    GROUP BY pokemon_type\n",
    "    ORDER BY COUNT(*) DESC"
   ]
  },
  {
   "cell_type": "markdown",
   "metadata": {},
   "source": [
    "Обратите внимание! Мы использовали в группировке не название столбца, а его алиас."
   ]
  },
  {
   "cell_type": "markdown",
   "metadata": {},
   "source": [
    "Задание 4.1\n",
    "Напишите запрос, который выведет:\n",
    "\n",
    "число различных дополнительных типов (столбец additional_types_count);\n",
    "среднее число очков здоровья (столбец avg_hp);\n",
    "сумму показателей атаки (столбец attack_sum) в разбивке по основным типам (столбец primary_type).\n",
    "Отсортируйте результат по числу дополнительных типов в порядке убывания, при равенстве — по основному типу в алфавитном порядке.\n",
    "Столбцы к выводу (обратите внимание на порядок!): primary_type, additional_types_count, avg_hp, attack_sum.\n",
    "\n",
    "    SELECT\n",
    "        type1 AS primary_type,\n",
    "        COUNT(DISTINCT type2) AS additional_types_count,\n",
    "        AVG(hp) AS avg_hp,\n",
    "        SUM(attack) AS attack_sum\n",
    "    FROM sql.pokemon\n",
    "    GROUP BY primary_type\n",
    "    ORDER BY additional_types_count DESC, primary_type"
   ]
  },
  {
   "cell_type": "markdown",
   "metadata": {},
   "source": [
    "Мы можем осуществлять группировку по нескольким столбцам.\n",
    "\n",
    "    SELECT\n",
    "        type1 AS primary_type,\n",
    "        type2 AS additional_type,\n",
    "        COUNT(*) AS pokemon_count\n",
    "    FROM sql.pokemon\n",
    "    GROUP BY 1, 2\n",
    "    ORDER BY 1, 2 NULLS FIRST\n",
    "\n",
    "Обратите внимание! В группировке можно указывать порядковый номер столбца так же, как мы делали это в прошлом модуле для сортировки."
   ]
  },
  {
   "cell_type": "markdown",
   "metadata": {},
   "source": [
    "GROUP BY можно использовать и без агрегатных функций. Тогда его действие будет равносильно действию DISTINCT.\n",
    "Сравните выводы двух запросов:\n",
    "\n",
    "\n",
    "    SELECT DISTINCT \n",
    "        type1\n",
    "    FROM sql.pokemon\n",
    "\n",
    "\n",
    "    SELECT\n",
    "        type1\n",
    "    FROM sql.pokemon\n",
    "    GROUP BY type1\n",
    "\n",
    "\n"
   ]
  },
  {
   "cell_type": "markdown",
   "metadata": {},
   "source": [
    "## Фильтрация агрегированных строк"
   ]
  },
  {
   "cell_type": "markdown",
   "metadata": {},
   "source": [
    "✍ Если ключевое слово WHERE определяет фильтрацию строк до агрегирования, то для фильтрации уже агрегированных данных применяется ключевое слово HAVING.  \n",
    "Важно! HAVING обязательно пишется после GROUP BY."
   ]
  },
  {
   "cell_type": "markdown",
   "metadata": {},
   "source": [
    "Выведем типы покемонов и их средний показатель атаки, при этом оставим только тех, у кого средняя атака больше 90.\n",
    "\n",
    "    SELECT\n",
    "        type1 AS primary_type,\n",
    "        AVG(attack) AS avg_attack\n",
    "    FROM sql.pokemon\n",
    "    GROUP BY primary_type \n",
    "    HAVING AVG(attack) > 90\n",
    "Попробуйте удалить из запроса вывод второго столбца (со средним показателем атаки).\n",
    "\n",
    "Что получилось?\n",
    "\n",
    "Запрос работает и выводит только названия типов, у которых средний показатель атаки выше 90."
   ]
  },
  {
   "cell_type": "markdown",
   "metadata": {},
   "source": [
    "В HAVING вы можете использовать все те же условия, что и в WHERE."
   ]
  },
  {
   "cell_type": "markdown",
   "metadata": {},
   "source": [
    "## ВМЕСТО РЕЗЮМЕ\n",
    "\n",
    "В общем виде синтаксис оператора SELECT, с учётом имеющихся на данный момент знаний, представляем следующим образом:\n",
    "\n",
    "    SELECT [ALL | DISTINCT] список_столбцов|*\n",
    "    FROM список_имён_таблиц\n",
    "    [WHERE условие_поиска]\n",
    "    [GROUP BY список_имён_столбцов]\n",
    "    [HAVING условие_поиска]\n",
    "    [ORDER BY имя_столбца [ASC | DESC],…]\n",
    "\n",
    "Обратите внимание! В квадратных скобках указаны необязательные предложения: они могут отсутствовать в операторе SELECT."
   ]
  },
  {
   "cell_type": "markdown",
   "metadata": {},
   "source": [
    "Задание 5.1\n",
    "Напишите запрос, который выведет основной и дополнительный типы покемонов (столбцы primary_type и additional_type) для тех типов, у которых средний показатель атаки больше 100 и максимальный показатель очков здоровья меньше 80.\n",
    "\n",
    "    SELECT\n",
    "        type1 AS primary_type,\n",
    "        type2 AS additional_type   \n",
    "    FROM sql.pokemon\n",
    "    GROUP BY primary_type, additional_type  /*column \"pokemon.type1\" must appear in the GROUP BY clause or be used in an aggregate function */\n",
    "    HAVING AVG(attack)>100 AND MAX(hp)<80\n",
    "\n"
   ]
  },
  {
   "cell_type": "markdown",
   "metadata": {},
   "source": [
    "Задание 5.2\n",
    "Напишите запрос, который выводит столбцы с основным типом (primary_type) и числом покемонов этого типа (pokemon_count) для тех покемонов, чьё имя (name) начинается с S.\n",
    "Оставьте только типы, у которых средний показатель защиты больше 80.\n",
    "Выведите только ТОП-3 типов по числу покемонов в них.\n",
    "\n",
    "    SELECT\n",
    "        type1 AS primary_type,\n",
    "        COUNT(*) AS pokemon_count\n",
    "    FROM sql.pokemon\n",
    "    WHERE name LIKE 'S%'\n",
    "    GROUP BY primary_type\n",
    "    HAVING AVG(defense)>80\n",
    "    ORDER BY COUNT(*) DESC\n",
    "    LIMIT 3\n",
    "\n",
    "\n"
   ]
  },
  {
   "cell_type": "markdown",
   "metadata": {},
   "source": [
    "И в довершение итогов напомним структуру запроса, который мы можем составить с учётом новых знаний:\n",
    "\n",
    "    SELECT\n",
    "        столбец1 AS новое_название,\n",
    "        столбец2,\n",
    "        АГРЕГАТ(столбец3)\n",
    "    FROM таблица\n",
    "    WHERE (условие1 OR условие2)\n",
    "        AND условие3\n",
    "    GROUP BY столбец1, столбец2\n",
    "    HAVING АГРЕГАТ(столбец3) > 5\n",
    "    ORDER BY сортировка1 \n",
    "    OFFSET 1 LIMIT 2"
   ]
  },
  {
   "cell_type": "markdown",
   "metadata": {},
   "source": [
    "Задание 6.1\n",
    "Сколько различных значений показателей атаки есть у покемонов с типом Water (основным или дополнительным)?\n",
    "\n",
    "    SELECT\n",
    "        COUNT(DISTINCT attack) AS attack_types_count\n",
    "    FROM sql.pokemon\n",
    "    WHERE type1='Water' OR type2='Water'\n",
    "\n",
    "\n"
   ]
  },
  {
   "cell_type": "markdown",
   "metadata": {},
   "source": [
    "Задание 6.2\n",
    "Напишите запрос, который выведет основной и дополнительный типы покемонов и средние значения по каждому показателю (столбцы avg_hp, avg_attack, avg_defense, avg_speed).  \n",
    "Оставьте только те пары типов, у которых сумма этих четырёх показателей более 400.\n",
    "\n",
    "    SELECT\n",
    "        type1 AS primary_type,\n",
    "        type2 AS additional_type,\n",
    "        AVG(hp) AS \"avg_hp\",\n",
    "        AVG(attack) AS \"avg_attack\",\n",
    "        AVG(defense) AS \"avg_defense\",\n",
    "        AVG(speed) AS \"avg_speed\"\n",
    "    FROM sql.pokemon\n",
    "    GROUP BY 1, 2\n",
    "    HAVING (AVG(hp)+AVG(attack)+AVG(defense)+AVG(speed)) > 400\n",
    "\n",
    "\n",
    "\n"
   ]
  },
  {
   "cell_type": "markdown",
   "metadata": {},
   "source": [
    "Задание 6.3\n",
    "Напишите запрос, который выведет столбцы с основным типом покемона и общим количеством покемонов этого типа.  \n",
    "Учитывайте только тех покемонов, у которых или показатель атаки, или показатель защиты принимает значение между 50 и 100 включительно.  \n",
    "Оставьте только те типы покемонов, у которых максимальный показатель здоровья не больше 125.  \n",
    "Выведите только тот тип, который находится на пятом месте по количеству покемонов.\n",
    "\n",
    "    SELECT\n",
    "        type1 AS primary_type,\n",
    "        COUNT(type1) AS pokemon_count\n",
    "    FROM sql.pokemon\n",
    "    WHERE (attack BETWEEN 50 AND 100) OR (defense BETWEEN 50 AND 100)\n",
    "    GROUP BY 1\n",
    "    HAVING MAX(hp) <= 125\n",
    "    ORDER BY 2 DESC\n",
    "    OFFSET 4 LIMIT 1\n",
    "\n",
    " "
   ]
  }
 ],
 "metadata": {
  "kernelspec": {
   "display_name": "Python 3.10.5 64-bit",
   "language": "python",
   "name": "python3"
  },
  "language_info": {
   "name": "python",
   "version": "3.10.5"
  },
  "orig_nbformat": 4,
  "vscode": {
   "interpreter": {
    "hash": "722ef51a401571ea5d31114c5f39d03026e92f336ebdc61df902fc724a2c7297"
   }
  }
 },
 "nbformat": 4,
 "nbformat_minor": 2
}
