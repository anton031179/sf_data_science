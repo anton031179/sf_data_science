{
 "cells": [
  {
   "cell_type": "markdown",
   "metadata": {},
   "source": [
    "### ЗНАКОМСТВО С ДАТАСЕТОМ"
   ]
  },
  {
   "cell_type": "markdown",
   "metadata": {},
   "source": [
    "Напоминаем, что датасет, с которым мы будем работать, уже вам знаком. Мы взяли те же данные HeadHunter, только разбили их по таблицам и перенесли в БД SQL. Такой процесс называется нормализацией (вы можете почитать про неё дополнительно, если вам понадобятся знания по проектированию баз данных)."
   ]
  },
  {
   "cell_type": "markdown",
   "metadata": {},
   "source": [
    "Мы видим четыре таблицы:\n",
    "\n",
    "#### CANDIDATE\n",
    "\n",
    "Таблица хранит в себе общие данные по кандидатам: id, пол, возраст, желаемая должность, город, вид занятости, текущая должность, дата обновления записи и зарплата.\n",
    "\n",
    "#### CITY\n",
    "\n",
    "city — таблица-справочник для наших кандидатов — хранит код города и его название.\n",
    "\n",
    "#### CANDIDATE_TIMETABLE_TYPE\n",
    "\n",
    "Это дополнительная таблица. Она существует для организации связи многие-ко-многим, так как у нас есть много кандидатов и у них может быть несколько подходящих типов рабочего графика.\n",
    "\n",
    "Примечание. Нам стоило бы вынести в дополнительную таблицу и колонку employment_type из таблицы candidate, так как вид связи здесь одинаковый, но мы решили оставить всё как есть, так как это даст нам дополнительные возможности для постановки интересных задач и проведения изысканий.\n",
    "\n",
    "#### TIMETABLE_TYPE\n",
    "\n",
    "Это таблица-справочник вариантов рабочего графика, подходящего кандидату.\n",
    "\n"
   ]
  },
  {
   "cell_type": "markdown",
   "metadata": {},
   "source": [
    "✍ Для начала давайте познакомимся с общей информацией по кандидатам и попытаемся оценить адекватность данных. Начнём с возраста."
   ]
  },
  {
   "cell_type": "markdown",
   "metadata": {},
   "source": [
    "Задание 2.1\n",
    "\n",
    "Рассчитайте максимальный возраст (max_age) кандидата в таблице.\n",
    "\n",
    "    SELECT\n",
    "        MAX(c.age) max_age\n",
    "    FROM \n",
    "        hh.CANDIDATE c\n",
    "\n",
    "\n"
   ]
  },
  {
   "cell_type": "markdown",
   "metadata": {},
   "source": [
    "Задание 2.2\n",
    "\n",
    "Теперь давайте рассчитаем минимальный возраст (min_age) кандидата в таблице\n",
    "\n",
    "    SELECT\n",
    "        MIN(c.age) min_age\n",
    "    FROM \n",
    "        hh.CANDIDATE c"
   ]
  },
  {
   "cell_type": "markdown",
   "metadata": {},
   "source": [
    "Задание 2.3\n",
    "\n",
    "Попробуем «почистить» данные. Напишите запрос, который позволит посчитать для каждого возраста (age) сколько (cnt) человек этого возраста у нас есть.\n",
    "Отсортируйте результат по возрасту в обратном порядке.\n",
    "\n",
    "    SELECT\n",
    "        c.age age,\n",
    "        COUNT (c.id) cnt\n",
    "    FROM \n",
    "        hh.CANDIDATE c\n",
    "    GROUP BY c.age\n",
    "    ORDER BY 1 DESC\n",
    "\n"
   ]
  },
  {
   "cell_type": "markdown",
   "metadata": {},
   "source": [
    "Задание 2.4\n",
    "\n",
    "По данным Росстата, средний возраст занятых в экономике России составляет 39.7 лет. Мы округлим это значение до 40. Найдите количество кандидатов, которые старше данного возраста. Не забудьте отфильтровать «ошибочный» возраст 100.\n",
    "\n",
    "    SELECT\n",
    "        COUNT (c.id) cnt\n",
    "    FROM \n",
    "        hh.CANDIDATE c\n",
    "    WHERE    \n",
    "        c.age > 40\n",
    "        AND c.age !=100\n",
    "\n"
   ]
  },
  {
   "cell_type": "markdown",
   "metadata": {},
   "source": [
    "### 3. Глобальный анализ показателей"
   ]
  },
  {
   "cell_type": "markdown",
   "metadata": {},
   "source": [
    "✍ Теперь нам хотелось бы получить общие показатели по данным.\n",
    "\n",
    "Задание 3.1\n",
    "\n",
    "Для начала напишите запрос, который позволит узнать, сколько (cnt) у нас кандидатов из каждого города (city).\n",
    "Формат выборки: city, cnt.\n",
    "Группировку таблицы необходимо провести по столбцу title, результат отсортируйте по количеству в обратном порядке.\n",
    "\n",
    "    SELECT \n",
    "        ct.title city,\n",
    "        COUNT(cd.id) cnt \n",
    "    FROM\n",
    "        hh.CANDIDATE cd\n",
    "        JOIN hh.city ct ON cd.city_id = ct.id\n",
    "    GROUP BY city\n",
    "    ORDER BY 2 DESC"
   ]
  },
  {
   "cell_type": "markdown",
   "metadata": {},
   "source": [
    "Задание 3.2\n",
    "\n",
    "Москва бросается в глаза как, пожалуй, самый активный рынок труда. Напишите запрос, который позволит понять, каких кандидатов из Москвы устроит «проектная работа».\n",
    "Формат выборки: gender, age, desirable_occupation, city, employment_type.\n",
    "Отсортируйте результат по id кандидата\n",
    "\n",
    "    SELECT\n",
    "        cd.gender gender,\n",
    "        cd.age age,\n",
    "        cd.desirable_occupation desirable_occupation,\n",
    "        ct.title city,\n",
    "        cd.employment_type employment_type\n",
    "    FROM hh.CANDIDATE cd\n",
    "        JOIN hh.city ct ON cd.city_id = ct.id\n",
    "    WHERE (ct.title = 'Москва') AND (cd.employment_type LIKE '%проектная работа%')\n",
    "    ORDER BY cd.id\n",
    "\n"
   ]
  },
  {
   "cell_type": "markdown",
   "metadata": {},
   "source": [
    "Задание 3.3\n",
    "\n",
    "Данных оказалось многовато. Отфильтруйте только самые популярные IT-профессии — разработчик, аналитик, программист.\n",
    "Обратите внимание, что данные названия могут быть написаны как с большой, так и с маленькой буквы.\n",
    "Отсортируйте результат по id кандидата.\n",
    "\n",
    "    SELECT\n",
    "        cd.gender gender,\n",
    "        cd.age age,\n",
    "        cd.desirable_occupation desirable_occupation,\n",
    "        ct.title city,\n",
    "        cd.employment_type employment_type\n",
    "    FROM hh.CANDIDATE cd\n",
    "        JOIN hh.city ct ON cd.city_id = ct.id\n",
    "    WHERE (ct.title = 'Москва') AND (cd.employment_type LIKE '%проектная работа%') AND (lower(desirable_occupation) LIKE '%разработчик%' OR desirable_occupation LIKE '%аналитик%' OR desirable_occupation LIKE '%программист%')\n",
    "    ORDER BY cd.id\n",
    "\n"
   ]
  },
  {
   "cell_type": "markdown",
   "metadata": {},
   "source": [
    "Задание 3.4\n",
    "\n",
    "Для общей информации попробуйте выбрать номера и города кандидатов, у которых занимаемая должность совпадает с желаемой.\n",
    "Формат выборки: id, city.\n",
    "Отсортируйте результат по городу и id кандидата.\n",
    "\n",
    "    SELECT\n",
    "        cd.id,\n",
    "        ct.title city\n",
    "    FROM hh.CANDIDATE cd\n",
    "        JOIN hh.city ct ON cd.city_id = ct.id\n",
    "    WHERE cd.current_occupation = cd.desirable_occupation \n",
    "    ORDER BY 2,1\n",
    "\n"
   ]
  },
  {
   "cell_type": "markdown",
   "metadata": {},
   "source": [
    "Задание 3.5\n",
    "\n",
    "Определите количество кандидатов пенсионного возраста.\n",
    "Пенсионный возраст для мужчин наступает в 65 лет, для женщин — в 60 лет.\n",
    "\n",
    "    SELECT\n",
    "        COUNT(c.id) \n",
    "    FROM\n",
    "        hh.CANDIDATE c\n",
    "    WHERE (c.gender = 'F' AND c.age>=60) OR (c.gender = 'M' AND c.age>=65) AND c.age !=100\n",
    "\n",
    "\n"
   ]
  },
  {
   "cell_type": "markdown",
   "metadata": {},
   "source": [
    "Задание 4.1\n",
    "\n",
    "Для добывающей компании нам необходимо подобрать кандидатов из Новосибирска, Омска, Томска и Тюмени, которые готовы работать вахтовым методом.\n",
    "Формат выборки: gender, age, desirable_occupation, city, employment_type, timetable_type.\n",
    "Отсортируйте результат по городу и номеру кандидата.\n",
    "\n",
    "\n",
    "    SELECT\n",
    "        cd.gender,\n",
    "        cd.age,\n",
    "        cd.desirable_occupation,\n",
    "        ct.title city,\n",
    "        cd.employment_type,\n",
    "        tt.title timetable_type\n",
    "    FROM hh.CANDIDATE cd\n",
    "        JOIN hh.city ct ON cd.city_id = ct.id\n",
    "        JOIN hh.candidate_timetable_type ctt ON cd.id = ctt.candidate_id\n",
    "        JOIN hh.timetable_type tt ON ctt.timetable_id = tt.id\n",
    "    WHERE (ct.title IN ('Новосибирск', 'Омск', 'Томск', 'Тюмень')) AND (tt.title ='вахтовый метод')\n",
    "    ORDER BY 4, cd.id\n",
    "    "
   ]
  },
  {
   "cell_type": "markdown",
   "metadata": {},
   "source": [
    "Задание 4.2\n",
    "\n",
    "Для заказчиков из Санкт-Петербурга нам необходимо собрать список из 10 желаемых профессий кандидатов из того же города от 16 до 21 года (в выборку включается 16 и 21, сортировка производится по возрасту) с указанием их возраста, а также добавить строку Total с общим количеством таких кандидатов.\n",
    "\n",
    "    (SELECT\n",
    "        cd.desirable_occupation,\n",
    "        cd.age age\n",
    "    FROM hh.CANDIDATE cd\n",
    "        JOIN hh.city ct ON cd.city_id = ct.id  \n",
    "    WHERE (ct.title = 'Санкт-Петербург') AND (cd.age BETWEEN 16 AND 21)\n",
    "    ORDER BY 2\n",
    "    LIMIT 10)\n",
    "\n",
    "    UNION ALL\n",
    "\n",
    "    (SELECT\n",
    "        'Total', COUNT(cd.id)\n",
    "    FROM\n",
    "        hh.CANDIDATE cd\n",
    "        JOIN hh.city ct ON cd.city_id = ct.id \n",
    "    WHERE (ct.title = 'Санкт-Петербург') AND (cd.age BETWEEN 16 AND 21))\n",
    " \n"
   ]
  }
 ],
 "metadata": {
  "kernelspec": {
   "display_name": "Python 3.10.5 64-bit",
   "language": "python",
   "name": "python3"
  },
  "language_info": {
   "name": "python",
   "version": "3.10.5"
  },
  "orig_nbformat": 4,
  "vscode": {
   "interpreter": {
    "hash": "722ef51a401571ea5d31114c5f39d03026e92f336ebdc61df902fc724a2c7297"
   }
  }
 },
 "nbformat": 4,
 "nbformat_minor": 2
}
