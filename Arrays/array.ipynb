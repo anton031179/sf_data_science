{
 "cells": [
  {
   "cell_type": "code",
   "execution_count": 2,
   "metadata": {},
   "outputs": [
    {
     "name": "stdout",
     "output_type": "stream",
     "text": [
      "<class 'numpy.bool_'>\n",
      "<class 'numpy.bytes_'>\n",
      "<class 'numpy.clongdouble'>\n",
      "<class 'numpy.complex128'>\n",
      "<class 'numpy.complex64'>\n",
      "<class 'numpy.datetime64'>\n",
      "<class 'numpy.float16'>\n",
      "<class 'numpy.float32'>\n",
      "<class 'numpy.float64'>\n",
      "<class 'numpy.int16'>\n",
      "<class 'numpy.int32'>\n",
      "<class 'numpy.int64'>\n",
      "<class 'numpy.int8'>\n",
      "<class 'numpy.intc'>\n",
      "<class 'numpy.longdouble'>\n",
      "<class 'numpy.object_'>\n",
      "<class 'numpy.str_'>\n",
      "<class 'numpy.timedelta64'>\n",
      "<class 'numpy.uint16'>\n",
      "<class 'numpy.uint32'>\n",
      "<class 'numpy.uint64'>\n",
      "<class 'numpy.uint8'>\n",
      "<class 'numpy.uintc'>\n",
      "<class 'numpy.void'>\n",
      "2\n",
      "(3, 3)\n",
      "9\n",
      "int16\n",
      "2\n"
     ]
    }
   ],
   "source": [
    "import numpy as np\n",
    "\n",
    "print(*sorted(map(str, set(np.sctypeDict.values()))), sep='\\n') # все типы данных numpy\n",
    "\n",
    "mystery = np.array([\n",
    "               [12, 45, 78],\n",
    "               [34, 56, 13],\n",
    "               [12, 98, 76]\n",
    "               ], dtype=np.int16)\n",
    "print(mystery.ndim) # размерность массива\n",
    "print(mystery.shape) # максимальная протяжённость по одной из осей массива\n",
    "print(mystery.size) # число элементов массива\n",
    "print(mystery.dtype) # тип данных у элементов массива\n",
    "print(mystery.itemsize) # вес элемента в массива в байтах\n"
   ]
  },
  {
   "cell_type": "code",
   "execution_count": 3,
   "metadata": {},
   "outputs": [
    {
     "name": "stdout",
     "output_type": "stream",
     "text": [
      "30305\n",
      "-32037\n",
      "[13240  7994 32592 20149 13754 11795  -564]\n",
      "[-17182  15790  25397  11795  12578    -47]\n",
      "[[-1297 -4593  6451]\n",
      " [28655 -6012 21762]\n",
      " [32592 20149 13754]]\n",
      "[-32037  29943   -564   8225   7181 -18049]\n",
      "[[-13586  25936  13348  13240 -21725 -16841]\n",
      " [ 15203 -30968  28049   7994  -8681 -25392]\n",
      " [ 28445  -1297  28655  32592  30305 -17278]\n",
      " [-27117  -4593  -6012  20149  22260  11740]\n",
      " [ -1781   6451  21762  13754 -17918   5916]\n",
      " [-17182  15790  25397  11795  12578    -47]\n",
      " [-18049   7181   8225   -564  29943 -32037]]\n"
     ]
    }
   ],
   "source": [
    "# Выполните все действия с массивом\n",
    "mystery2 = np.array([\n",
    "            [-13586, 15203, 28445, -27117, -1781, -17182, -18049],\n",
    "            [25936, -30968,  -1297,  -4593,   6451,  15790,   7181],\n",
    "            [13348, 28049, 28655, -6012, 21762, 25397,  8225],\n",
    "            [13240, 7994, 32592, 20149, 13754, 11795, -564],\n",
    "            [-21725, -8681, 30305, 22260, -17918, 12578, 29943],\n",
    "            [-16841, -25392, -17278, 11740, 5916, -47, -32037]])\n",
    "# В переменную elem_5_3 сохраните элемент из 5 строки и 3 столбца:\n",
    "elem_5_3 = mystery2[4, 2]\n",
    "print(elem_5_3)\n",
    "# В переменную last сохраните элемент из последней строки последнего столбца\n",
    "last = mystery2[5, 6]\n",
    "print(last)\n",
    "# В переменную line_4 сохраните строку 4\n",
    "line_4 = mystery2[3]\n",
    "print(line_4)\n",
    "# В переменную col_2 сохраните предпоследний столбец\n",
    "col_2 = mystery2[:, -2]\n",
    "print(col_2)\n",
    "# Из строк 2-4 (включительно) получите столбцы 3-5 (включительно)\n",
    "# Результат сохраните в переменную part\n",
    "part = mystery2[1:4, 2:5]\n",
    "print(part)\n",
    "#  Сохраните в переменную rev последний столбец в обратном порядке\n",
    "rev = mystery2[:, 6][::-1]\n",
    "print(rev)\n",
    "# Сохраните в переменную trans транспонированный массив\n",
    "trans = mystery2.transpose()\n",
    "print(trans)"
   ]
  },
  {
   "cell_type": "code",
   "execution_count": 5,
   "metadata": {},
   "outputs": [
    {
     "ename": "NameError",
     "evalue": "name 'nan' is not defined",
     "output_type": "error",
     "traceback": [
      "\u001b[1;31m---------------------------------------------------------------------------\u001b[0m",
      "\u001b[1;31mNameError\u001b[0m                                 Traceback (most recent call last)",
      "\u001b[1;32mc:\\Users\\anton\\source\\IDE\\test\\Массивы\\array.ipynb Ячейка 3\u001b[0m in \u001b[0;36m<cell line: 3>\u001b[1;34m()\u001b[0m\n\u001b[0;32m      <a href='vscode-notebook-cell:/c%3A/Users/anton/source/IDE/test/%D0%9C%D0%B0%D1%81%D1%81%D0%B8%D0%B2%D1%8B/array.ipynb#ch0000009?line=0'>1</a>\u001b[0m \u001b[39m# Выполните все действия, указанные в комментариях в файле\u001b[39;00m\n\u001b[0;32m      <a href='vscode-notebook-cell:/c%3A/Users/anton/source/IDE/test/%D0%9C%D0%B0%D1%81%D1%81%D0%B8%D0%B2%D1%8B/array.ipynb#ch0000009?line=1'>2</a>\u001b[0m \u001b[39mimport\u001b[39;00m \u001b[39mnumpy\u001b[39;00m \u001b[39mas\u001b[39;00m \u001b[39mnp\u001b[39;00m\n\u001b[1;32m----> <a href='vscode-notebook-cell:/c%3A/Users/anton/source/IDE/test/%D0%9C%D0%B0%D1%81%D1%81%D0%B8%D0%B2%D1%8B/array.ipynb#ch0000009?line=2'>3</a>\u001b[0m mystery \u001b[39m=\u001b[39m np\u001b[39m.\u001b[39marray ([ \u001b[39m12279.\u001b[39m, \u001b[39m-\u001b[39m\u001b[39m26024.\u001b[39m, \u001b[39m28745.\u001b[39m, nan, \u001b[39m31244.\u001b[39m, \u001b[39m-\u001b[39m\u001b[39m2365.\u001b[39m, \u001b[39m-\u001b[39m\u001b[39m6974.\u001b[39m, \u001b[39m-\u001b[39m\u001b[39m9212.\u001b[39m, nan, \u001b[39m-\u001b[39m\u001b[39m17722.\u001b[39m, \u001b[39m16132.\u001b[39m, \u001b[39m25933.\u001b[39m, nan, \u001b[39m-\u001b[39m\u001b[39m16431.\u001b[39m, \u001b[39m29810.\u001b[39m])\n\u001b[0;32m      <a href='vscode-notebook-cell:/c%3A/Users/anton/source/IDE/test/%D0%9C%D0%B0%D1%81%D1%81%D0%B8%D0%B2%D1%8B/array.ipynb#ch0000009?line=3'>4</a>\u001b[0m \u001b[39mprint\u001b[39m (mystery)\n\u001b[0;32m      <a href='vscode-notebook-cell:/c%3A/Users/anton/source/IDE/test/%D0%9C%D0%B0%D1%81%D1%81%D0%B8%D0%B2%D1%8B/array.ipynb#ch0000009?line=4'>5</a>\u001b[0m \u001b[39m# Получите булевый массив с информацией о np.nan в массиве mystery\u001b[39;00m\n\u001b[0;32m      <a href='vscode-notebook-cell:/c%3A/Users/anton/source/IDE/test/%D0%9C%D0%B0%D1%81%D1%81%D0%B8%D0%B2%D1%8B/array.ipynb#ch0000009?line=5'>6</a>\u001b[0m \u001b[39m# True - значение пропущено, False - значение не пропущено\u001b[39;00m\n",
      "\u001b[1;31mNameError\u001b[0m: name 'nan' is not defined"
     ]
    }
   ],
   "source": [
    "# Выполните все действия, указанные в комментариях в файле\n",
    "import numpy as np\n",
    "mystery = np.array ([ 12279., -26024., 28745., nan, 31244., -2365., -6974., -9212., nan, -17722., 16132., 25933., nan, -16431., 29810.])\n",
    "print (mystery)\n",
    "# Получите булевый массив с информацией о np.nan в массиве mystery\n",
    "# True - значение пропущено, False - значение не пропущено\n",
    "nans_index = np.isnan(mystery)\n",
    "print(nans_index)\n",
    "# В переменную n_nan сохраните число пропущенных значений\n",
    "n_nan = 3\n",
    "\n",
    "# Заполните пропущенные значения в массиве mystery нулями\n",
    "mystery[np.isnan(mystery)] = 0\n",
    "print(mystery)\n",
    "\n",
    "# Поменяйте тип данных в массиве mystery на int32\n",
    "mystery=np.int32(mystery)\n",
    "print(mystery)\n",
    "\n",
    "# Отсортируйте значения в массиве по возрастанию и сохраните\n",
    "# результат в переменную array\n",
    "array = np.sort(mystery)\n",
    "\n",
    "# Сохраните в массив table двухмерный массив, полученный из массива array\n",
    "# В нём должно быть 5 строк и 3 столбца. Причём порядок заполнения должен быть\n",
    "# по столбцам! Например, 1, 2, 3, 4 -> 1    3\n",
    "#                                      2    4\n",
    "table = array.reshape((5, 3), order='F')\n",
    "print(table)\n",
    "#  Сохраните в переменную col средний столбец из table\n",
    "col = table[:,1]\n",
    "print(col)\n"
   ]
  },
  {
   "cell_type": "code",
   "execution_count": 6,
   "metadata": {},
   "outputs": [
    {
     "name": "stdout",
     "output_type": "stream",
     "text": [
      "False\n",
      "True\n",
      "False\n",
      "85.901105930017\n",
      "49.13247398615299\n",
      "120.6358155772986\n",
      "34\n",
      "4828\n",
      "68\n"
     ]
    }
   ],
   "source": [
    "#Векторы в геометрии, которые параллельны друг другу, называются сонаправленными\n",
    "#Также векторы могут быть параллельны и в пространстве. На практике есть несколько способов определить сонаправленность векторов. \n",
    "#Один из них: сумма длин сонаправленных векторов должна быть равной длине суммы двух векторов.\n",
    "#С помощью этого критерия найдите пару сонаправленных векторов:\n",
    "import numpy as np\n",
    "a = np.array([23, 34, 27])\n",
    "b = np.array([-54, 1,  46])\n",
    "c = np.array([46, 68, 54])\n",
    "length_a = np.linalg.norm(a)\n",
    "length_b = np.linalg.norm(b)\n",
    "length_c = np.linalg.norm(c)\n",
    "print (length_a + length_b==np.linalg.norm(a + b))\n",
    "print (length_a + length_c==np.linalg.norm(a + c))\n",
    "print (length_b + length_c==np.linalg.norm(b + c))\n",
    "# Найдите пару векторов, расстояние между которыми больше 100\n",
    "print (np.linalg.norm(a - b))\n",
    "print (np.linalg.norm(a - c))\n",
    "print (np.linalg.norm(b - c))\n",
    "#Найдите пару перпендикулярных векторов с помощью скалярного произведения (оно должно быть равно нулю)\n",
    "print(np.dot(a, b))\n",
    "print(np.dot(a, c))\n",
    "print(np.dot(c, b))\n"
   ]
  },
  {
   "cell_type": "code",
   "execution_count": 7,
   "metadata": {},
   "outputs": [
    {
     "name": "stdout",
     "output_type": "stream",
     "text": [
      "12\n",
      "98\n",
      "47.111111111111114\n",
      "45.0\n",
      "30.3\n"
     ]
    }
   ],
   "source": [
    "#Найдите минимальное значение в массиве mystery\n",
    "print(mystery.min())\n",
    "#Найдите максимальное значение в массиве mystery\n",
    "print(np.max(mystery))\n",
    "#Найдите среднее значение массива. Ответ не округляйте.\n",
    "print(mystery.mean())\n",
    "#Найдите медиану массива.\n",
    "print(np.median(mystery))\n",
    "#Найдите стандартное отклонение значений в массиве. Ответ округлите до сотых.\n",
    "print(round(np.std(mystery),2))\n"
   ]
  },
  {
   "cell_type": "code",
   "execution_count": 8,
   "metadata": {},
   "outputs": [
    {
     "name": "stdout",
     "output_type": "stream",
     "text": [
      "0.6059782788074047\n",
      "[ 1.44214488e+03  1.51654277e+02  5.28813265e+02  2.01501516e+03\n",
      "  1.28240517e+02  2.38594033e+02  1.48460111e+03  1.28755048e+03\n",
      "  1.55273730e+03  6.03577336e+01 -2.28417401e+01  1.93936169e+03\n",
      "  1.18854621e+03  3.80736459e+01  1.06852230e+03  1.18847514e+03\n",
      "  1.94250320e+03  1.09681462e+03  6.55790201e+02  8.31607324e+02\n",
      "  2.88216888e+02  1.08596141e+03  2.73553360e+02  1.11722142e+03\n",
      "  8.84076551e+02  9.74175063e+02  1.63694713e+03  1.43966053e+03\n",
      " -7.88273550e-02  1.30919192e+03  1.24700551e+03  1.64761920e+03\n",
      "  2.93903055e+02  1.19056852e+03  1.19102890e+03  5.03619976e+02\n",
      "  1.74254881e+03  1.13013901e+03  1.98142287e+03  8.10086179e+02\n",
      "  1.24235695e+02  9.54671885e+02  7.87407805e+02  1.83850479e+03\n",
      "  1.38927296e+03  1.78361285e+03  1.12847065e+03  1.23255777e+03\n",
      "  5.92935602e+02  1.63845066e+03  5.12482326e+02  5.17676863e+02\n",
      "  2.87071500e+02  4.25673103e+02  1.26315547e+03  1.85668749e+02\n",
      "  6.93866612e+02  1.25597031e+03  1.69165738e+03 -1.14109610e+01\n",
      "  7.49751798e+02  5.71302264e+02  1.41598784e+03  8.78722492e+02\n",
      "  1.58385034e+03  4.72720431e+01  1.74866286e+03  1.53681677e+03\n",
      "  1.52507069e+03 -1.30026693e+01  1.14052595e+03  1.57050607e+03\n",
      "  4.45144214e+02  6.55484014e+02  1.70211167e+03  1.32352048e+03\n",
      "  1.48775347e+03  7.55865456e+02  5.46671153e+02  6.58255417e+02\n",
      "  4.47789576e+02  1.32531521e+03  1.11271101e+03  1.95630157e+03\n",
      "  7.52065787e+02  5.67491766e+02  1.94873645e+03  1.64302682e+03\n",
      "  5.13023798e+02  1.63733634e+03  1.05905257e+03  1.40986573e+03\n",
      "  1.76034306e+03  9.26837823e+02  9.61739380e+02  1.25799224e+03\n",
      "  5.95362077e+02  1.20174562e+03  8.58645865e+02  1.18856546e+02\n",
      "  1.97784238e+03  8.32199760e+02  1.05091750e+02  1.63022440e+03\n",
      "  2.30207657e+02  3.50845784e+02  1.38015863e+03  1.40801317e+03\n",
      "  1.71847049e+02  7.04684178e+02  1.59248393e+03  1.60891952e+03\n",
      "  1.57812208e+03  1.71269509e+03  4.94223069e+02  1.94849514e+02\n",
      "  1.33961669e+03  1.44252669e+03  1.71320327e+02  4.28962033e+02]\n",
      "[[46 93]\n",
      " [35 41]\n",
      " [17 45]]\n",
      "[ 2  4  6  8 10 12 14 16]\n",
      "[ 6 10  2  8 14 16  4 12]\n",
      "[ 4  6 10]\n",
      "[ 6 10  4]\n"
     ]
    }
   ],
   "source": [
    "#Задайте seed равным 2021.Сохраните в переменные необходимые значения.\n",
    "import numpy as np\n",
    "# Не забудьте импортировать numpy и сразу задать seed 2021\n",
    "np.random.seed(2021)\n",
    "# В simple сохранте случайное число в диапазоне от 0 до 1\n",
    "simple = np.random.rand() \n",
    "print(simple)\n",
    "# Сгенерируйте 120 чисел в диапазоне от -150 до 2021, сохраните их\n",
    "# в переменную randoms\n",
    "randoms = np.random.uniform(-150, 2021, size=120)\n",
    "print(randoms)\n",
    "# Получите массив из случайных целых чисел от 1 до 100 (включительно)\n",
    "# из 3 строк и 2 столбцов. Сохраните результат в table\n",
    "#table = np.random.uniform(1, 101, size=(3,2))\n",
    "table = np.random.randint(1, 101, size=(3,2))\n",
    "print(table)\n",
    "# В переменную even сохраните четные числа от 2 до 16 (включительно)\n",
    "#even = np.random.randint(1, 9, size=8)*2\n",
    "even = np.arange(1,9)*2\n",
    "print(even)\n",
    "# Перемешайте числа в even так, чтобы массив even изменился\n",
    "np.random.shuffle(even)\n",
    "print(even)\n",
    "# Получите из even 3 числа без повторений. Сохраните их в переменную select\n",
    "select = np.random.choice(even, size=3, replace=False)\n",
    "print(select)\n",
    "# Получите переменную triplet, которая должна содержать перемешанные\n",
    "# значения из массива select (сам select измениться не должен)\n",
    "triplet = np.random.permutation(select)\n",
    "print(triplet)"
   ]
  },
  {
   "cell_type": "code",
   "execution_count": 9,
   "metadata": {},
   "outputs": [],
   "source": [
    "#Напишите функцию min_max_dist, которая принимает на вход неограниченное число векторов через запятую. \n",
    "#Гарантируется, что все векторы, которые передаются, одинаковой длины.\n",
    "#Функция возвращает минимальное и максимальное расстояние между векторами в виде кортежа.\n",
    "import numpy as np\n",
    "def min_max_dist(*vectors):\n",
    "    dists = list()\n",
    "    for i in range(len(vectors)):\n",
    "        for j in range(i + 1, len(vectors)):\n",
    "            dists.append(np.linalg.norm(vectors[i] - vectors[j]))\n",
    "    return (min(dists), max(dists))"
   ]
  },
  {
   "cell_type": "code",
   "execution_count": 10,
   "metadata": {},
   "outputs": [],
   "source": [
    "#Напишите функцию any_normal, которая принимает на вход неограниченное число векторов через запятую. \n",
    "#Гарантируется, что все векторы, которые передаются, одинаковой длины.\n",
    "#Функция возвращает True, если есть хотя бы одна пара перпендикулярных векторов. Иначе возвращает False.\n",
    "import numpy as np\n",
    "def any_normal(*vectors):\n",
    "    for i in range(len(vectors)):\n",
    "        for j in range(i + 1, len(vectors)):\n",
    "            if np.dot(vectors[i], vectors[j]) == 0:\n",
    "                return True\n",
    "    return False"
   ]
  },
  {
   "cell_type": "code",
   "execution_count": 11,
   "metadata": {},
   "outputs": [],
   "source": [
    "#Напишите функцию get_loto(num), генерирующую трёхмерный массив случайных целых чисел от 1 до 100 (включительно). \n",
    "#Это поля для игры в лото.\n",
    "#Трёхмерный массив должен состоять из таблиц чисел формы 5х5, то есть итоговая форма — (num, 5, 5).\n",
    "#Функция возвращает полученный массив.\n",
    "import numpy as np\n",
    "def get_loto(num):\n",
    "    loto = np.random.randint(1, 101, size=(num, 5, 5))\n",
    "    return loto"
   ]
  },
  {
   "cell_type": "code",
   "execution_count": 12,
   "metadata": {},
   "outputs": [],
   "source": [
    "#Напишите функцию get_unique_loto(num). \n",
    "#Она так же, как и функция в задании 10.10, генерирует num полей для игры в лото, однако теперь на каждом поле 5х5 числа не могут повторяться.\n",
    "#Функция также должна возвращать массив формы num x 5 x 5.\n",
    "import numpy as np\n",
    "def get_unique_loto(num):\n",
    "    sample = np.arange(1, 101)\n",
    "    res = list()\n",
    "    for i in range(num):\n",
    "        res.append(np.random.choice(sample, replace=False, size=(5, 5)))\n",
    "    res = np.array(res)\n",
    "    return res"
   ]
  }
 ],
 "metadata": {
  "kernelspec": {
   "display_name": "Python 3.10.4 64-bit",
   "language": "python",
   "name": "python3"
  },
  "language_info": {
   "codemirror_mode": {
    "name": "ipython",
    "version": 3
   },
   "file_extension": ".py",
   "mimetype": "text/x-python",
   "name": "python",
   "nbconvert_exporter": "python",
   "pygments_lexer": "ipython3",
   "version": "3.10.4"
  },
  "orig_nbformat": 4,
  "vscode": {
   "interpreter": {
    "hash": "4604fddfbe3ec3d9d385c207fa0ddb9a05dfef66380401ad05b04bbd42d45367"
   }
  }
 },
 "nbformat": 4,
 "nbformat_minor": 2
}
