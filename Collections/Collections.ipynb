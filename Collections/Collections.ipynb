{
 "cells": [
  {
   "cell_type": "code",
   "execution_count": 1,
   "metadata": {},
   "outputs": [
    {
     "name": "stdout",
     "output_type": "stream",
     "text": [
      "Counter({'red': 3, 'black': 3, 'blue': 2, 'white': 1})\n",
      "3\n",
      "dict_values([3, 2, 3, 1])\n"
     ]
    }
   ],
   "source": [
    "# Импортируем объект Counter из модуля collections\n",
    "from collections import Counter\n",
    "# Создаём пустой объект Counter\n",
    "cars = ['red', 'blue', 'black', 'black', 'black', 'red', 'blue', 'red', 'white']\n",
    "c = Counter(cars)\n",
    "print(c)\n",
    "# Counter({'red': 3, 'black': 3, 'blue': 2, 'white': 1})\n",
    "#Узнать, сколько раз встретился конкретный элемент, можно, обратившись к счётчику по ключу как к обычному словарю:\n",
    "print(c['black'])\n",
    "# 3\n",
    "#Узнать сумму всех значений в объекте Counter можно, воспользовавшись следующей конструкцией:\n",
    "print(c.values())\n",
    "# dict_values([3, 2, 3, 1])\n"
   ]
  },
  {
   "cell_type": "code",
   "execution_count": 2,
   "metadata": {},
   "outputs": [
    {
     "name": "stdout",
     "output_type": "stream",
     "text": [
      "Counter({'black': 4, 'yellow': 3, 'white': 2})\n",
      "Counter({'white': 3, 'red': 2, 'black': 2, 'yellow': 2})\n",
      "Counter({'black': 6, 'white': 5, 'yellow': 5, 'red': 2})\n",
      "Counter({'black': 4, 'yellow': 3, 'white': 2})\n",
      "Counter({'white': 3, 'red': 2, 'black': 2, 'yellow': 2})\n",
      "Counter({'black': 2, 'yellow': 1, 'white': -1, 'red': -2})\n",
      "black black yellow\n",
      "['black', 'white', 'yellow', 'red']\n",
      "{'black': 2, 'white': -1, 'yellow': 1, 'red': -2}\n",
      "[('black', 2), ('yellow', 1), ('white', -1), ('red', -2)]\n",
      "[('black', 2), ('yellow', 1)]\n",
      "Counter()\n"
     ]
    }
   ],
   "source": [
    "#ОПЕРАЦИИ С COUNTER\n",
    "#Допустим, вы с другом из другого города решили посчитать количество цветов встреченных на дороге машин. \n",
    "#У вас получились такие списки цветов:\n",
    "cars_moscow = ['black', 'black', 'white', 'black', 'black', 'white', 'yellow', 'yellow', 'yellow']\n",
    "cars_spb = ['red', 'black', 'black', 'white', 'white', 'yellow', 'yellow', 'red', 'white']\n",
    "counter_moscow = Counter(cars_moscow)\n",
    "counter_spb = Counter(cars_spb)\n",
    "print(counter_moscow)\n",
    "print(counter_spb)\n",
    "# Counter({'black': 4, 'yellow': 3, 'white': 2})\n",
    "# Counter({'white': 3, 'red': 2, 'black': 2, 'yellow': 2})\n",
    "#Чтобы узнать, сколько машин разных цветов встретилось в двух городах, можно сложить два исходных счётчика и получить новый счётчик:\n",
    "print(counter_moscow + counter_spb)\n",
    "# Counter({'black': 6, 'white': 5, 'yellow': 5, 'red': 2})\n",
    "#Чтобы узнать разницу между объектами Counter, необходимо воспользоваться функцией subtract, которая меняет тот объект, к которому применяется. \n",
    "#В примере выше из значений, посчитанных для Москвы, вычитаются значения, посчитанные для Санкт-Петербурга:\n",
    "print(counter_moscow)\n",
    "print(counter_spb)\n",
    "# Counter({'black': 4, 'yellow': 3, 'white': 2})\n",
    "# Counter({'white': 3, 'red': 2, 'black': 2, 'yellow': 2})\n",
    "counter_moscow.subtract(counter_spb)\n",
    "print(counter_moscow)\n",
    "# Counter({'black': 2, 'yellow': 1, 'white': -1, 'red': -2})\n",
    "\n",
    "#Чтобы получить список всех элементов, которые содержатся в Counter, используется функция elements(). \n",
    "#Она возвращает итератор, поэтому, чтобы напечатать все элементы, распакуем их с помощью *:\n",
    "print(*counter_moscow.elements())\n",
    "# black black black black white white yellow yellow yellow\n",
    "\n",
    "#Чтобы получить список уникальных элементов, достаточно воспользоваться функцией list():\n",
    "print(list(counter_moscow))\n",
    "# ['black', 'white', 'yellow']\n",
    "\n",
    "#С помощью функции dict() можно превратить Counter в обычный словарь:\n",
    "print(dict(counter_moscow))\n",
    "# {'black': 4, 'white': 2, 'yellow': 3}\n",
    "\n",
    "#Функция most_common() позволяет получить список из кортежей элементов в порядке убывания их встречаемости:\n",
    "print(counter_moscow.most_common())\n",
    "# [('black', 4), ('yellow', 3), ('white', 2)]\n",
    "#В неё также можно передать значение, которое задаёт желаемое число первых наиболее частых элементов, например, 2:\n",
    "print(counter_moscow.most_common(2))\n",
    "# [('black', 4), ('yellow', 3)]\n",
    "\n",
    "#Наконец, функция clear() позволяет полностью обнулить счётчик:\n",
    "counter_moscow.clear()\n",
    "print(counter_moscow)\n",
    "# Counter()"
   ]
  },
  {
   "cell_type": "code",
   "execution_count": 5,
   "metadata": {},
   "outputs": [
    {
     "ename": "NameError",
     "evalue": "name 'defaultdict' is not defined",
     "output_type": "error",
     "traceback": [
      "\u001b[1;31m---------------------------------------------------------------------------\u001b[0m",
      "\u001b[1;31mNameError\u001b[0m                                 Traceback (most recent call last)",
      "\u001b[1;32mc:\\Users\\anton\\source\\IDE\\Collections\\Collections.ipynb Ячейка 3\u001b[0m in \u001b[0;36m<cell line: 7>\u001b[1;34m()\u001b[0m\n\u001b[0;32m      <a href='vscode-notebook-cell:/c%3A/Users/anton/source/IDE/Collections/Collections.ipynb#ch0000007?line=4'>5</a>\u001b[0m \u001b[39m#Создадим defaultdict, в котором при обращении по несуществующему ключу будет автоматически создаваться новый список. \u001b[39;00m\n\u001b[0;32m      <a href='vscode-notebook-cell:/c%3A/Users/anton/source/IDE/Collections/Collections.ipynb#ch0000007?line=5'>6</a>\u001b[0m \u001b[39m#Для этого при создании объекта defaultdict в круглых скобках передадим параметр list:\u001b[39;00m\n\u001b[0;32m      <a href='vscode-notebook-cell:/c%3A/Users/anton/source/IDE/Collections/Collections.ipynb#ch0000007?line=6'>7</a>\u001b[0m \u001b[39mfor\u001b[39;00m student, group \u001b[39min\u001b[39;00m students:\n\u001b[1;32m----> <a href='vscode-notebook-cell:/c%3A/Users/anton/source/IDE/Collections/Collections.ipynb#ch0000007?line=7'>8</a>\u001b[0m     defaultdict[group]\u001b[39m.\u001b[39mappend(student)\n\u001b[0;32m      <a href='vscode-notebook-cell:/c%3A/Users/anton/source/IDE/Collections/Collections.ipynb#ch0000007?line=8'>9</a>\u001b[0m \u001b[39mprint\u001b[39m(defaultdict)\n\u001b[0;32m     <a href='vscode-notebook-cell:/c%3A/Users/anton/source/IDE/Collections/Collections.ipynb#ch0000007?line=9'>10</a>\u001b[0m \u001b[39m# defaultdict(<class 'list'>, {1: ['Ivanov', 'Kuznetsova'], 4: ['Smirnov'], 3: ['Petrov', 'Markov'], 2: ['Nikitina', 'Pavlov']})\u001b[39;00m\n",
      "\u001b[1;31mNameError\u001b[0m: name 'defaultdict' is not defined"
     ]
    }
   ],
   "source": [
    "\n",
    "#необходимо было создать словарь, в котором по ключам расположены списки. \n",
    "#Например, у нас есть список из кортежей с фамилиями студентов и их учебными группами:\n",
    "students = [('Ivanov',1),('Smirnov',4),('Petrov',3),('Kuznetsova',1),\n",
    "            ('Nikitina',2),('Markov',3),('Pavlov',2)]\n",
    "#Создадим defaultdict, в котором при обращении по несуществующему ключу будет автоматически создаваться новый список. \n",
    "#Для этого при создании объекта defaultdict в круглых скобках передадим параметр list:\n",
    "for student, group in students:\n",
    "    groups[group].append(student)\n",
    "print(groups)\n",
    "# defaultdict(<class 'list'>, {1: ['Ivanov', 'Kuznetsova'], 4: ['Smirnov'], 3: ['Petrov', 'Markov'], 2: ['Nikitina', 'Pavlov']})\n",
    "print(groups[3])\n",
    "# ['Petrov', 'Markov']\n",
    "print(groups)\n",
    "# defaultdict(<class 'list'>, {1: ['Ivanov', 'Kuznetsova'], 4: ['Smirnov'], 3: ['Petrov', 'Markov'], 2: ['Nikitina', 'Pavlov'], 2021: []})\n",
    "\n",
    "#Узнать, с каким именно словарём мы имеем дело в коде, можно с помощью встроенной функции type:\n",
    "dict_object = dict()\n",
    "defaultdict_object = defaultdict()\n",
    "print(type(dict_object))\n",
    "# <class 'dict'>\n",
    "print(type(defaultdict_object))\n",
    "# <class 'collections.defaultdict'>\n"
   ]
  },
  {
   "cell_type": "code",
   "execution_count": null,
   "metadata": {},
   "outputs": [],
   "source": [
    "#Дан список из кортежей temps. На первом месте в кортеже указан год в виде строки, а на втором — средняя температура января в Петербурге в указанном году.\n",
    "#Необходимо напечатать словарь, в котором ключи — годы, а значения — показатели температуры. \n",
    "#Ключи необходимо отсортировать в порядке убывания соответствующих им температур.\n",
    "from collections import OrderedDict\n",
    "temps = [('2000', -4.4), ('2001', -2.5), ('2002', -4.4), ('2003', -9.5),\n",
    "        ('2004', -8.2), ('2005', -1.6), ('2006', -5.9), ('2007', -2.4),\n",
    "        ('2008', -1.7), ('2009', -3.5), ('2010', -12.1), ('2011', -5.8),\n",
    "        ('2012', -4.9), ('2013', -6.1), ('2014', -6.9), ('2015', -2.7),\n",
    "        ('2016', -11.2), ('2017', -3.9), ('2018', -2.9), ('2019', -6.5),\n",
    "        ('2020', 1.5)]    \n",
    "# Напечатайте словарь из температур, отсортированный по уменьшению температуры\n",
    "ordered_temps = OrderedDict(sorted(temps, key=lambda x: x[1], reverse=True))\n",
    "print(ordered_temps)"
   ]
  },
  {
   "cell_type": "code",
   "execution_count": 6,
   "metadata": {},
   "outputs": [
    {
     "ename": "ModuleNotFoundError",
     "evalue": "No module named 'hidden'",
     "output_type": "error",
     "traceback": [
      "\u001b[1;31m---------------------------------------------------------------------------\u001b[0m",
      "\u001b[1;31mModuleNotFoundError\u001b[0m                       Traceback (most recent call last)",
      "\u001b[1;32mc:\\Users\\anton\\source\\IDE\\Collections\\Collections.ipynb Ячейка 5\u001b[0m in \u001b[0;36m<cell line: 4>\u001b[1;34m()\u001b[0m\n\u001b[0;32m      <a href='vscode-notebook-cell:/c%3A/Users/anton/source/IDE/Collections/Collections.ipynb#ch0000005?line=0'>1</a>\u001b[0m \u001b[39m# в списке users содержатся номера пользователей, которые ожидают ответа от сервера (номера могут повторяться). \u001b[39;00m\n\u001b[0;32m      <a href='vscode-notebook-cell:/c%3A/Users/anton/source/IDE/Collections/Collections.ipynb#ch0000005?line=1'>2</a>\u001b[0m \u001b[39m# Превратите этот список в очередь и выполните задания 3.5-3.7.\u001b[39;00m\n\u001b[0;32m      <a href='vscode-notebook-cell:/c%3A/Users/anton/source/IDE/Collections/Collections.ipynb#ch0000005?line=2'>3</a>\u001b[0m \u001b[39mfrom\u001b[39;00m \u001b[39mcollections\u001b[39;00m \u001b[39mimport\u001b[39;00m deque\n\u001b[1;32m----> <a href='vscode-notebook-cell:/c%3A/Users/anton/source/IDE/Collections/Collections.ipynb#ch0000005?line=3'>4</a>\u001b[0m \u001b[39mfrom\u001b[39;00m \u001b[39mhidden\u001b[39;00m \u001b[39mimport\u001b[39;00m users\n\u001b[0;32m      <a href='vscode-notebook-cell:/c%3A/Users/anton/source/IDE/Collections/Collections.ipynb#ch0000005?line=4'>5</a>\u001b[0m \u001b[39m# Пишите здесь команды, который помогут\u001b[39;00m\n\u001b[0;32m      <a href='vscode-notebook-cell:/c%3A/Users/anton/source/IDE/Collections/Collections.ipynb#ch0000005?line=5'>6</a>\u001b[0m \u001b[39m# найти ответы на вопросы\u001b[39;00m\n\u001b[0;32m      <a href='vscode-notebook-cell:/c%3A/Users/anton/source/IDE/Collections/Collections.ipynb#ch0000005?line=6'>7</a>\u001b[0m dq \u001b[39m=\u001b[39m deque(users)\n",
      "\u001b[1;31mModuleNotFoundError\u001b[0m: No module named 'hidden'"
     ]
    }
   ],
   "source": [
    "# в списке users содержатся номера пользователей, которые ожидают ответа от сервера (номера могут повторяться). \n",
    "# Превратите этот список в очередь и выполните задания 3.5-3.7.\n",
    "from collections import deque\n",
    "from hidden import users\n",
    "# Пишите здесь команды, который помогут\n",
    "# найти ответы на вопросы\n",
    "dq = deque(users)\n",
    "print(dq)\n",
    "# Извлеките элемент из начала очереди. \n",
    "first_user = dq.popleft()\n",
    "print(first_user)\n",
    "# В уже модифицированной очереди переместите пять элементов из начала очереди в её конец. \n",
    "# Извлеките последний элемент из очереди. Запишите полученное число в качестве ответа.\n",
    "dq.rotate(-5)\n",
    "print(dq)\n",
    "last_user = dq.pop()\n",
    "print(last_user)\n",
    "# Сколько задач с тем номером, что был извлечён в предыдущем задании, осталось в модифицированной очереди? \n",
    "# Запишите ответ в числовой форме.\n",
    "print(dq.count(last_user))"
   ]
  },
  {
   "cell_type": "code",
   "execution_count": 7,
   "metadata": {},
   "outputs": [
    {
     "name": "stdout",
     "output_type": "stream",
     "text": [
      "False\n",
      "False\n"
     ]
    }
   ],
   "source": [
    "#Напишите функцию brackets(line), которая определяет, является ли последовательность из круглых скобок правильной.\n",
    "#Для решения этой задачи потребуется использовать стек.\n",
    "#Посимвольно переберите строку. Если встретилась открывающаяся скобка, положите её в стек. \n",
    "#Если встретилась закрывающаяся скобка, извлеките скобку из стека.\n",
    "#Если стек пустой, то есть извлечь скобку нельзя, последовательность неправильная.\n",
    "#Если строка закончилась и стек стал пустым, последовательность правильная.\n",
    "#Если в стеке остались скобки, последовательность неправильная.\n",
    "\n",
    "from collections import deque\n",
    "def brackets(line):\n",
    "    dq = deque()\n",
    "    for symb in line:\n",
    "        if symb == '(':\n",
    "            dq.append(symb)\n",
    "        elif symb == ')':\n",
    "            if len(dq) == 0:\n",
    "                return False\n",
    "            else: \n",
    "                dq.pop()\n",
    "    if len(dq) == 0:\n",
    "        return True\n",
    "    return False          \n",
    "print(brackets(\"(()()))\"))\n",
    "\n",
    "\n",
    "from collections import deque\n",
    "def brackets(line):\n",
    "# Напишите тело функции\n",
    "    stack = deque()\n",
    "    for i in line:\n",
    "        if i == \"(\":\n",
    "            stack.append(i)\n",
    "        elif i == \")\":\n",
    "            if len(stack) == 0:\n",
    "                return False\n",
    "        stack.pop()\n",
    "    if len(stack) == 0:\n",
    "        return True\n",
    "    return False\n",
    "print(brackets(\"(()()))\"))"
   ]
  },
  {
   "cell_type": "code",
   "execution_count": 8,
   "metadata": {},
   "outputs": [
    {
     "ename": "ModuleNotFoundError",
     "evalue": "No module named 'hidden'",
     "output_type": "error",
     "traceback": [
      "\u001b[1;31m---------------------------------------------------------------------------\u001b[0m",
      "\u001b[1;31mModuleNotFoundError\u001b[0m                       Traceback (most recent call last)",
      "\u001b[1;32mc:\\Users\\anton\\source\\IDE\\Collections\\Collections.ipynb Ячейка 7\u001b[0m in \u001b[0;36m<cell line: 6>\u001b[1;34m()\u001b[0m\n\u001b[0;32m      <a href='vscode-notebook-cell:/c%3A/Users/anton/source/IDE/Collections/Collections.ipynb#ch0000003?line=3'>4</a>\u001b[0m \u001b[39mfrom\u001b[39;00m \u001b[39mcollections\u001b[39;00m \u001b[39mimport\u001b[39;00m deque\n\u001b[0;32m      <a href='vscode-notebook-cell:/c%3A/Users/anton/source/IDE/Collections/Collections.ipynb#ch0000003?line=4'>5</a>\u001b[0m \u001b[39mfrom\u001b[39;00m \u001b[39mcollections\u001b[39;00m \u001b[39mimport\u001b[39;00m Counter\n\u001b[1;32m----> <a href='vscode-notebook-cell:/c%3A/Users/anton/source/IDE/Collections/Collections.ipynb#ch0000003?line=5'>6</a>\u001b[0m \u001b[39mfrom\u001b[39;00m \u001b[39mhidden\u001b[39;00m \u001b[39mimport\u001b[39;00m north, center, south\n\u001b[0;32m      <a href='vscode-notebook-cell:/c%3A/Users/anton/source/IDE/Collections/Collections.ipynb#ch0000003?line=6'>7</a>\u001b[0m \u001b[39mprint\u001b[39m(north)\n\u001b[0;32m      <a href='vscode-notebook-cell:/c%3A/Users/anton/source/IDE/Collections/Collections.ipynb#ch0000003?line=7'>8</a>\u001b[0m north_list \u001b[39m=\u001b[39m [elem \u001b[39mfor\u001b[39;00m bill \u001b[39min\u001b[39;00m north \u001b[39mfor\u001b[39;00m elem \u001b[39min\u001b[39;00m bill]\n",
      "\u001b[1;31mModuleNotFoundError\u001b[0m: No module named 'hidden'"
     ]
    }
   ],
   "source": [
    "#В переменных center, south и north хранятся списки из перечней купленных позиций в трёх торговых точках, расположенных в разных районах города.\n",
    "#Вначале избавьтесь от излишней вложенности: в каждой переменной (center, south, north) должен храниться объединённый список купленных товаров без разбиения по чекам.\n",
    "from collections import OrderedDict\n",
    "from collections import deque\n",
    "from collections import Counter\n",
    "from hidden import north, center, south\n",
    "print(north)\n",
    "north_list = [elem for bill in north for elem in bill]\n",
    "south_list = [elem for bill in south for elem in bill]\n",
    "center_list = [elem for bill in center for elem in bill]\n",
    "print(len(north_list))\n",
    "print(len(south_list))\n",
    "print(len(center_list))\n",
    "#Сколько раз покупали самый редкий товар в магазине north? Запишите ответ в числовой форме.\n",
    "counter_north = Counter(north_list)\n",
    "counter_south = Counter(south_list)\n",
    "counter_center = Counter(center_list)\n",
    "print(counter_north)\n",
    "print(counter_north.most_common()[-1])\n",
    "#Выберите товар, который в магазине center покупали чаще, чем в магазине north:\n",
    "print(counter_center - counter_north)\n",
    "#Есть ли такой товар, который в одном из магазинов покупали чаще, чем в двух других вместе взятых? \n",
    "#Если да, выберите магазин с настолько популярным товаром:\n",
    "print(counter_center - (counter_north + counter_south))\n",
    "print(counter_north - (counter_south + counter_center))\n",
    "print(counter_south - (counter_center + counter_north))\n",
    "#Определите суммарное число продаж каждого товара во всех магазинах, сложив все объекты-счётчики. \n",
    "#Сколько раз был куплен второй по популярности товар? \n",
    "print((counter_center + counter_north + counter_south).most_common()[1])"
   ]
  },
  {
   "cell_type": "code",
   "execution_count": 9,
   "metadata": {},
   "outputs": [
    {
     "name": "stdout",
     "output_type": "stream",
     "text": [
      "[('WokAndRice', 4.9), ('WokToWork', 4.9), ('General Foods', 4.8), ('New Age', 4.6), ('Belissimo', 4.5), ('CakeAndCoffee', 4.2), ('CakeOClock', 4.2), ('CakeTime', 4.1), ('Nice Cakes', 3.9), ('Old Gold', 3.3), ('Old Wine Cellar', 3.3), ('Old York', 3.3)]\n",
      "OrderedDict([('WokAndRice', 4.9), ('WokToWork', 4.9), ('General Foods', 4.8), ('New Age', 4.6), ('Belissimo', 4.5), ('CakeAndCoffee', 4.2), ('CakeOClock', 4.2), ('CakeTime', 4.1), ('Nice Cakes', 3.9), ('Old Gold', 3.3), ('Old Wine Cellar', 3.3), ('Old York', 3.3)])\n"
     ]
    }
   ],
   "source": [
    "# Отсортируйте список ratings по убыванию рейтинга. \n",
    "#Для кафе с одинаковым рейтингом отсортируйте кортежи по названию.\n",
    "from collections import OrderedDict\n",
    "from collections import deque\n",
    "from collections import Counter\n",
    "ratings = [('Old York', 3.3), ('New Age', 4.6), ('Old Gold', 3.3), ('General Foods', 4.8),\n",
    "           ('Belissimo', 4.5), ('CakeAndCoffee', 4.2), ('CakeOClock', 4.2), ('CakeTime', 4.1),\n",
    "           ('WokToWork', 4.9), ('WokAndRice', 4.9), ('Old Wine Cellar', 3.3), ('Nice Cakes', 3.9)]\n",
    "# Сохраните данные с рейтингом в словарь cafes, где ключами являются названия кафе, а значениями - их рейтинг.\n",
    "#cafes = None\n",
    "ratings.sort(key=lambda x:(-x[1], x[0]))\n",
    "print(ratings)\n",
    "cafes = OrderedDict(ratings)\n",
    "print(cafes)"
   ]
  },
  {
   "cell_type": "code",
   "execution_count": 10,
   "metadata": {},
   "outputs": [
    {
     "name": "stdout",
     "output_type": "stream",
     "text": [
      "defaultdict(<class 'collections.deque'>, {'office': deque([36871, 40690, 33850]), 'voltage': deque([41667, 35364])})\n"
     ]
    }
   ],
   "source": [
    "#Напишите функцию task_manager, которая принимает список задач для нескольких серверов. \n",
    "#Каждый элемент списка состоит из кортежа (<номер задачи>, <название сервера>, <высокий приоритет задачи>).\n",
    "#Функция должна создавать словарь и заполнять его задачами по следующему принципу: название сервера — ключ, по которому хранится очередь задач для конкретного сервера. \n",
    "#Если поступает задача без высокого приоритета (последний элемент кортежа — False), добавить номер задачи в конец очереди. Если приоритет высокий, добавить номер в начало.\n",
    "#Для словаря используйте defaultdict, для очереди — deque.\n",
    "#Функция возвращает полученный словарь с задачами.\n",
    "from collections import defaultdict, deque\n",
    "tasks = [(36871, 'office', False), (40690, 'office', False), (35364, 'voltage', False), (41667, 'voltage', True), (33850, 'office', False)]\n",
    "def task_manager(tasks):\n",
    "    servers = defaultdict(deque)\n",
    "    for task in tasks:\n",
    "        if task[-1]:\n",
    "            servers[task[1]].appendleft(task[0])\n",
    "        else:\n",
    "            servers[task[1]].append(task[0])\n",
    "    return servers\n",
    "print(task_manager(tasks))"
   ]
  }
 ],
 "metadata": {
  "kernelspec": {
   "display_name": "Python 3.10.4 64-bit",
   "language": "python",
   "name": "python3"
  },
  "language_info": {
   "codemirror_mode": {
    "name": "ipython",
    "version": 3
   },
   "file_extension": ".py",
   "mimetype": "text/x-python",
   "name": "python",
   "nbconvert_exporter": "python",
   "pygments_lexer": "ipython3",
   "version": "3.10.4"
  },
  "orig_nbformat": 4,
  "vscode": {
   "interpreter": {
    "hash": "4604fddfbe3ec3d9d385c207fa0ddb9a05dfef66380401ad05b04bbd42d45367"
   }
  }
 },
 "nbformat": 4,
 "nbformat_minor": 2
}
