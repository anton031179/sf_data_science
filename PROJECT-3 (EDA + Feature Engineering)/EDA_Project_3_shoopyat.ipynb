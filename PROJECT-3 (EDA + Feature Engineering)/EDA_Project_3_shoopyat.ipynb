{
 "cells": [
  {
   "cell_type": "markdown",
   "metadata": {},
   "source": [
    "## PROJECT-3 (EDA + Feature Engineering)"
   ]
  },
  {
   "cell_type": "markdown",
   "metadata": {},
   "source": [
    "### КАКОЙ КЕЙС РЕШАЕМ?"
   ]
  },
  {
   "cell_type": "markdown",
   "metadata": {},
   "source": [
    "Представьте, что вы работаете дата-сайентистом в компании Booking. Одна из проблем компании — это нечестные отели, которые накручивают себе рейтинг. Одним из способов обнаружения таких отелей является построение модели, которая предсказывает рейтинг отеля. Если предсказания модели сильно отличаются от фактического результата, то, возможно, отель ведёт себя нечестно, и его стоит проверить."
   ]
  },
  {
   "cell_type": "code",
   "execution_count": 1,
   "metadata": {},
   "outputs": [
    {
     "name": "stderr",
     "output_type": "stream",
     "text": [
      "[nltk_data] Downloading package vader_lexicon to\n",
      "[nltk_data]     C:\\Users\\anton\\AppData\\Roaming\\nltk_data...\n",
      "[nltk_data]   Package vader_lexicon is already up-to-date!\n"
     ]
    }
   ],
   "source": [
    "# This Python 3 environment comes with many helpful analytics libraries installed\n",
    "# It is defined by the kaggle/python Docker image: https://github.com/kaggle/docker-python\n",
    "# For example, here's several helpful packages to load\n",
    "\n",
    "import numpy as np # linear algebra\n",
    "import pandas as pd # data processing, CSV file I/O (e.g. pd.read_csv)\n",
    "\n",
    "# импортируем библиотеки для визуализации\n",
    "import matplotlib.pyplot as plt\n",
    "import seaborn as sns \n",
    "import plotly.express as px\n",
    "%matplotlib inline\n",
    "\n",
    "# Загружаем специальный удобный инструмент для разделения датасета:\n",
    "from sklearn.model_selection import train_test_split\n",
    "# Загружаем библиотеку для оценки значимости переменных (ANOVA):\n",
    "from sklearn.feature_selection import f_classif\n",
    "\n",
    "# Input data files are available in the read-only \"../input/\" directory\n",
    "# For example, running this (by clicking run or pressing Shift+Enter) will list all files under the input directory\n",
    "\n",
    "import os\n",
    "for dirname, _, filenames in os.walk('/kaggle/input'):\n",
    "    for filename in filenames:\n",
    "        print(os.path.join(dirname, filename))\n",
    "\n",
    "# You can write up to 20GB to the current directory (/kaggle/working/) that gets preserved as output when you create a version using \"Save & Run All\" \n",
    "# You can also write temporary files to /kaggle/temp/, but they won't be saved outside of the current session\n",
    "\n",
    "# импортируем библиотеки для лингвистического анализа\n",
    "import nltk\n",
    "from nltk.sentiment.vader import SentimentIntensityAnalyzer\n",
    "import time\n",
    "nltk.downloader.download('vader_lexicon')\n",
    "\n",
    "# импортируем библиотеку математических функций\n",
    "import math"
   ]
  },
  {
   "cell_type": "code",
   "execution_count": 2,
   "metadata": {},
   "outputs": [],
   "source": [
    "# всегда фиксируйте RANDOM_SEED, чтобы ваши эксперименты были воспроизводимы!\n",
    "RANDOM_SEED = 42"
   ]
  },
  {
   "cell_type": "code",
   "execution_count": 3,
   "metadata": {},
   "outputs": [
    {
     "name": "stderr",
     "output_type": "stream",
     "text": [
      "WARNING: Ignoring invalid distribution -atplotlib (c:\\users\\anton\\appdata\\local\\programs\\python\\python310\\lib\\site-packages)\n"
     ]
    }
   ],
   "source": [
    "# зафиксируем версию пакетов, чтобы эксперименты были воспроизводимы:\n",
    "!pip freeze > requirements.txt"
   ]
  },
  {
   "cell_type": "code",
   "execution_count": 4,
   "metadata": {},
   "outputs": [],
   "source": [
    "# Подгрузим наши данные из соревнования\n",
    "\n",
    "# DATA_DIR = '/kaggle/input/sf-booking/'\n",
    "# df_train = pd.read_csv(DATA_DIR+'/hotels_train.csv') # датасет для обучения\n",
    "# df_test = pd.read_csv(DATA_DIR+'hotels_test.csv') # датасет для предсказания\n",
    "# sample_submission = pd.read_csv(DATA_DIR+'/submission.csv') # самбмишн\n",
    "\n",
    "DATA_DIR = 'data'\n",
    "df_train = pd.read_csv(DATA_DIR + '\\\\hotels_train.csv') # тренировочный датасет \n",
    "df_test = pd.read_csv(DATA_DIR+'\\\\hotels_test.csv') # датасет для предсказания\n",
    "sample_submission = pd.read_csv(DATA_DIR+'\\\\submission.csv') # самбмишн"
   ]
  },
  {
   "cell_type": "markdown",
   "metadata": {},
   "source": [
    "### КРАТКАЯ ИНФОРМАЦИЯ О ДАННЫХ"
   ]
  },
  {
   "cell_type": "code",
   "execution_count": 5,
   "metadata": {},
   "outputs": [
    {
     "name": "stdout",
     "output_type": "stream",
     "text": [
      "<class 'pandas.core.frame.DataFrame'>\n",
      "RangeIndex: 386803 entries, 0 to 386802\n",
      "Data columns (total 17 columns):\n",
      " #   Column                                      Non-Null Count   Dtype  \n",
      "---  ------                                      --------------   -----  \n",
      " 0   hotel_address                               386803 non-null  object \n",
      " 1   additional_number_of_scoring                386803 non-null  int64  \n",
      " 2   review_date                                 386803 non-null  object \n",
      " 3   average_score                               386803 non-null  float64\n",
      " 4   hotel_name                                  386803 non-null  object \n",
      " 5   reviewer_nationality                        386803 non-null  object \n",
      " 6   negative_review                             386803 non-null  object \n",
      " 7   review_total_negative_word_counts           386803 non-null  int64  \n",
      " 8   total_number_of_reviews                     386803 non-null  int64  \n",
      " 9   positive_review                             386803 non-null  object \n",
      " 10  review_total_positive_word_counts           386803 non-null  int64  \n",
      " 11  total_number_of_reviews_reviewer_has_given  386803 non-null  int64  \n",
      " 12  reviewer_score                              386803 non-null  float64\n",
      " 13  tags                                        386803 non-null  object \n",
      " 14  days_since_review                           386803 non-null  object \n",
      " 15  lat                                         384355 non-null  float64\n",
      " 16  lng                                         384355 non-null  float64\n",
      "dtypes: float64(4), int64(5), object(8)\n",
      "memory usage: 50.2+ MB\n"
     ]
    }
   ],
   "source": [
    "df_train.info()"
   ]
  },
  {
   "cell_type": "code",
   "execution_count": 6,
   "metadata": {},
   "outputs": [
    {
     "data": {
      "text/html": [
       "<div>\n",
       "<style scoped>\n",
       "    .dataframe tbody tr th:only-of-type {\n",
       "        vertical-align: middle;\n",
       "    }\n",
       "\n",
       "    .dataframe tbody tr th {\n",
       "        vertical-align: top;\n",
       "    }\n",
       "\n",
       "    .dataframe thead th {\n",
       "        text-align: right;\n",
       "    }\n",
       "</style>\n",
       "<table border=\"1\" class=\"dataframe\">\n",
       "  <thead>\n",
       "    <tr style=\"text-align: right;\">\n",
       "      <th></th>\n",
       "      <th>hotel_address</th>\n",
       "      <th>additional_number_of_scoring</th>\n",
       "      <th>review_date</th>\n",
       "      <th>average_score</th>\n",
       "      <th>hotel_name</th>\n",
       "      <th>reviewer_nationality</th>\n",
       "      <th>negative_review</th>\n",
       "      <th>review_total_negative_word_counts</th>\n",
       "      <th>total_number_of_reviews</th>\n",
       "      <th>positive_review</th>\n",
       "      <th>review_total_positive_word_counts</th>\n",
       "      <th>total_number_of_reviews_reviewer_has_given</th>\n",
       "      <th>reviewer_score</th>\n",
       "      <th>tags</th>\n",
       "      <th>days_since_review</th>\n",
       "      <th>lat</th>\n",
       "      <th>lng</th>\n",
       "    </tr>\n",
       "  </thead>\n",
       "  <tbody>\n",
       "    <tr>\n",
       "      <th>0</th>\n",
       "      <td>Stratton Street Mayfair Westminster Borough Lo...</td>\n",
       "      <td>581</td>\n",
       "      <td>2/19/2016</td>\n",
       "      <td>8.4</td>\n",
       "      <td>The May Fair Hotel</td>\n",
       "      <td>United Kingdom</td>\n",
       "      <td>Leaving</td>\n",
       "      <td>3</td>\n",
       "      <td>1994</td>\n",
       "      <td>Staff were amazing</td>\n",
       "      <td>4</td>\n",
       "      <td>7</td>\n",
       "      <td>10.0</td>\n",
       "      <td>[' Leisure trip ', ' Couple ', ' Studio Suite ...</td>\n",
       "      <td>531 day</td>\n",
       "      <td>51.507894</td>\n",
       "      <td>-0.143671</td>\n",
       "    </tr>\n",
       "    <tr>\n",
       "      <th>1</th>\n",
       "      <td>130 134 Southampton Row Camden London WC1B 5AF...</td>\n",
       "      <td>299</td>\n",
       "      <td>1/12/2017</td>\n",
       "      <td>8.3</td>\n",
       "      <td>Mercure London Bloomsbury Hotel</td>\n",
       "      <td>United Kingdom</td>\n",
       "      <td>poor breakfast</td>\n",
       "      <td>3</td>\n",
       "      <td>1361</td>\n",
       "      <td>location</td>\n",
       "      <td>2</td>\n",
       "      <td>14</td>\n",
       "      <td>6.3</td>\n",
       "      <td>[' Business trip ', ' Couple ', ' Standard Dou...</td>\n",
       "      <td>203 day</td>\n",
       "      <td>51.521009</td>\n",
       "      <td>-0.123097</td>\n",
       "    </tr>\n",
       "  </tbody>\n",
       "</table>\n",
       "</div>"
      ],
      "text/plain": [
       "                                       hotel_address  \\\n",
       "0  Stratton Street Mayfair Westminster Borough Lo...   \n",
       "1  130 134 Southampton Row Camden London WC1B 5AF...   \n",
       "\n",
       "   additional_number_of_scoring review_date  average_score  \\\n",
       "0                           581   2/19/2016            8.4   \n",
       "1                           299   1/12/2017            8.3   \n",
       "\n",
       "                        hotel_name reviewer_nationality  negative_review  \\\n",
       "0               The May Fair Hotel      United Kingdom          Leaving    \n",
       "1  Mercure London Bloomsbury Hotel      United Kingdom    poor breakfast   \n",
       "\n",
       "   review_total_negative_word_counts  total_number_of_reviews  \\\n",
       "0                                  3                     1994   \n",
       "1                                  3                     1361   \n",
       "\n",
       "       positive_review  review_total_positive_word_counts  \\\n",
       "0   Staff were amazing                                  4   \n",
       "1             location                                  2   \n",
       "\n",
       "   total_number_of_reviews_reviewer_has_given  reviewer_score  \\\n",
       "0                                           7            10.0   \n",
       "1                                          14             6.3   \n",
       "\n",
       "                                                tags days_since_review  \\\n",
       "0  [' Leisure trip ', ' Couple ', ' Studio Suite ...           531 day   \n",
       "1  [' Business trip ', ' Couple ', ' Standard Dou...           203 day   \n",
       "\n",
       "         lat       lng  \n",
       "0  51.507894 -0.143671  \n",
       "1  51.521009 -0.123097  "
      ]
     },
     "execution_count": 6,
     "metadata": {},
     "output_type": "execute_result"
    }
   ],
   "source": [
    "df_train.head(2)"
   ]
  },
  {
   "cell_type": "code",
   "execution_count": 7,
   "metadata": {},
   "outputs": [
    {
     "name": "stdout",
     "output_type": "stream",
     "text": [
      "<class 'pandas.core.frame.DataFrame'>\n",
      "RangeIndex: 128935 entries, 0 to 128934\n",
      "Data columns (total 16 columns):\n",
      " #   Column                                      Non-Null Count   Dtype  \n",
      "---  ------                                      --------------   -----  \n",
      " 0   hotel_address                               128935 non-null  object \n",
      " 1   additional_number_of_scoring                128935 non-null  int64  \n",
      " 2   review_date                                 128935 non-null  object \n",
      " 3   average_score                               128935 non-null  float64\n",
      " 4   hotel_name                                  128935 non-null  object \n",
      " 5   reviewer_nationality                        128935 non-null  object \n",
      " 6   negative_review                             128935 non-null  object \n",
      " 7   review_total_negative_word_counts           128935 non-null  int64  \n",
      " 8   total_number_of_reviews                     128935 non-null  int64  \n",
      " 9   positive_review                             128935 non-null  object \n",
      " 10  review_total_positive_word_counts           128935 non-null  int64  \n",
      " 11  total_number_of_reviews_reviewer_has_given  128935 non-null  int64  \n",
      " 12  tags                                        128935 non-null  object \n",
      " 13  days_since_review                           128935 non-null  object \n",
      " 14  lat                                         128115 non-null  float64\n",
      " 15  lng                                         128115 non-null  float64\n",
      "dtypes: float64(3), int64(5), object(8)\n",
      "memory usage: 15.7+ MB\n"
     ]
    }
   ],
   "source": [
    "df_test.info()"
   ]
  },
  {
   "cell_type": "code",
   "execution_count": 8,
   "metadata": {},
   "outputs": [
    {
     "data": {
      "text/html": [
       "<div>\n",
       "<style scoped>\n",
       "    .dataframe tbody tr th:only-of-type {\n",
       "        vertical-align: middle;\n",
       "    }\n",
       "\n",
       "    .dataframe tbody tr th {\n",
       "        vertical-align: top;\n",
       "    }\n",
       "\n",
       "    .dataframe thead th {\n",
       "        text-align: right;\n",
       "    }\n",
       "</style>\n",
       "<table border=\"1\" class=\"dataframe\">\n",
       "  <thead>\n",
       "    <tr style=\"text-align: right;\">\n",
       "      <th></th>\n",
       "      <th>hotel_address</th>\n",
       "      <th>additional_number_of_scoring</th>\n",
       "      <th>review_date</th>\n",
       "      <th>average_score</th>\n",
       "      <th>hotel_name</th>\n",
       "      <th>reviewer_nationality</th>\n",
       "      <th>negative_review</th>\n",
       "      <th>review_total_negative_word_counts</th>\n",
       "      <th>total_number_of_reviews</th>\n",
       "      <th>positive_review</th>\n",
       "      <th>review_total_positive_word_counts</th>\n",
       "      <th>total_number_of_reviews_reviewer_has_given</th>\n",
       "      <th>tags</th>\n",
       "      <th>days_since_review</th>\n",
       "      <th>lat</th>\n",
       "      <th>lng</th>\n",
       "    </tr>\n",
       "  </thead>\n",
       "  <tbody>\n",
       "    <tr>\n",
       "      <th>0</th>\n",
       "      <td>Via Senigallia 6 20161 Milan Italy</td>\n",
       "      <td>904</td>\n",
       "      <td>7/21/2017</td>\n",
       "      <td>8.1</td>\n",
       "      <td>Hotel Da Vinci</td>\n",
       "      <td>United Kingdom</td>\n",
       "      <td>Would have appreciated a shop in the hotel th...</td>\n",
       "      <td>52</td>\n",
       "      <td>16670</td>\n",
       "      <td>Hotel was great clean friendly staff free bre...</td>\n",
       "      <td>62</td>\n",
       "      <td>1</td>\n",
       "      <td>[' Leisure trip ', ' Couple ', ' Double Room '...</td>\n",
       "      <td>13 days</td>\n",
       "      <td>45.533137</td>\n",
       "      <td>9.171102</td>\n",
       "    </tr>\n",
       "    <tr>\n",
       "      <th>1</th>\n",
       "      <td>Arlandaweg 10 Westpoort 1043 EW Amsterdam Neth...</td>\n",
       "      <td>612</td>\n",
       "      <td>12/12/2016</td>\n",
       "      <td>8.6</td>\n",
       "      <td>Urban Lodge Hotel</td>\n",
       "      <td>Belgium</td>\n",
       "      <td>No tissue paper box was present at the room</td>\n",
       "      <td>10</td>\n",
       "      <td>5018</td>\n",
       "      <td>No Positive</td>\n",
       "      <td>0</td>\n",
       "      <td>7</td>\n",
       "      <td>[' Leisure trip ', ' Group ', ' Triple Room ',...</td>\n",
       "      <td>234 day</td>\n",
       "      <td>52.385649</td>\n",
       "      <td>4.834443</td>\n",
       "    </tr>\n",
       "  </tbody>\n",
       "</table>\n",
       "</div>"
      ],
      "text/plain": [
       "                                       hotel_address  \\\n",
       "0                 Via Senigallia 6 20161 Milan Italy   \n",
       "1  Arlandaweg 10 Westpoort 1043 EW Amsterdam Neth...   \n",
       "\n",
       "   additional_number_of_scoring review_date  average_score         hotel_name  \\\n",
       "0                           904   7/21/2017            8.1     Hotel Da Vinci   \n",
       "1                           612  12/12/2016            8.6  Urban Lodge Hotel   \n",
       "\n",
       "  reviewer_nationality                                    negative_review  \\\n",
       "0      United Kingdom    Would have appreciated a shop in the hotel th...   \n",
       "1             Belgium         No tissue paper box was present at the room   \n",
       "\n",
       "   review_total_negative_word_counts  total_number_of_reviews  \\\n",
       "0                                 52                    16670   \n",
       "1                                 10                     5018   \n",
       "\n",
       "                                     positive_review  \\\n",
       "0   Hotel was great clean friendly staff free bre...   \n",
       "1                                        No Positive   \n",
       "\n",
       "   review_total_positive_word_counts  \\\n",
       "0                                 62   \n",
       "1                                  0   \n",
       "\n",
       "   total_number_of_reviews_reviewer_has_given  \\\n",
       "0                                           1   \n",
       "1                                           7   \n",
       "\n",
       "                                                tags days_since_review  \\\n",
       "0  [' Leisure trip ', ' Couple ', ' Double Room '...           13 days   \n",
       "1  [' Leisure trip ', ' Group ', ' Triple Room ',...           234 day   \n",
       "\n",
       "         lat       lng  \n",
       "0  45.533137  9.171102  \n",
       "1  52.385649  4.834443  "
      ]
     },
     "execution_count": 8,
     "metadata": {},
     "output_type": "execute_result"
    }
   ],
   "source": [
    "df_test.head(2)"
   ]
  },
  {
   "cell_type": "code",
   "execution_count": 9,
   "metadata": {},
   "outputs": [
    {
     "name": "stderr",
     "output_type": "stream",
     "text": [
      "C:\\Users\\anton\\AppData\\Local\\Temp\\ipykernel_7320\\3925405557.py:6: FutureWarning: The frame.append method is deprecated and will be removed from pandas in a future version. Use pandas.concat instead.\n",
      "  hotels = df_test.append(df_train, sort=False).reset_index(drop=True) # объединяем\n"
     ]
    }
   ],
   "source": [
    "# ВАЖНО! дря корректной обработки признаков объединяем трейн и тест в один датасет\n",
    "df_train['sample'] = 1 # помечаем где у нас трейн\n",
    "df_test['sample'] = 0 # помечаем где у нас тест\n",
    "df_test['reviewer_score'] = 0 # в тесте у нас нет значения reviewer_score, мы его должны предсказать, по этому пока просто заполняем нулями\n",
    "\n",
    "hotels = df_test.append(df_train, sort=False).reset_index(drop=True) # объединяем"
   ]
  },
  {
   "cell_type": "code",
   "execution_count": 10,
   "metadata": {},
   "outputs": [
    {
     "name": "stdout",
     "output_type": "stream",
     "text": [
      "<class 'pandas.core.frame.DataFrame'>\n",
      "RangeIndex: 515738 entries, 0 to 515737\n",
      "Data columns (total 18 columns):\n",
      " #   Column                                      Non-Null Count   Dtype  \n",
      "---  ------                                      --------------   -----  \n",
      " 0   hotel_address                               515738 non-null  object \n",
      " 1   additional_number_of_scoring                515738 non-null  int64  \n",
      " 2   review_date                                 515738 non-null  object \n",
      " 3   average_score                               515738 non-null  float64\n",
      " 4   hotel_name                                  515738 non-null  object \n",
      " 5   reviewer_nationality                        515738 non-null  object \n",
      " 6   negative_review                             515738 non-null  object \n",
      " 7   review_total_negative_word_counts           515738 non-null  int64  \n",
      " 8   total_number_of_reviews                     515738 non-null  int64  \n",
      " 9   positive_review                             515738 non-null  object \n",
      " 10  review_total_positive_word_counts           515738 non-null  int64  \n",
      " 11  total_number_of_reviews_reviewer_has_given  515738 non-null  int64  \n",
      " 12  tags                                        515738 non-null  object \n",
      " 13  days_since_review                           515738 non-null  object \n",
      " 14  lat                                         512470 non-null  float64\n",
      " 15  lng                                         512470 non-null  float64\n",
      " 16  sample                                      515738 non-null  int64  \n",
      " 17  reviewer_score                              515738 non-null  float64\n",
      "dtypes: float64(4), int64(6), object(8)\n",
      "memory usage: 70.8+ MB\n"
     ]
    }
   ],
   "source": [
    "hotels.info()"
   ]
  },
  {
   "cell_type": "markdown",
   "metadata": {},
   "source": [
    "### ДУБЛИРУЮЩИЕСЯ ЗАПИСИ"
   ]
  },
  {
   "cell_type": "code",
   "execution_count": 11,
   "metadata": {},
   "outputs": [
    {
     "name": "stdout",
     "output_type": "stream",
     "text": [
      "Число найденных дубликатов: 307\n"
     ]
    }
   ],
   "source": [
    "# Проанализируем датасет на наличие дублирующихся записей\n",
    "data = df_train\n",
    "dupl_columns = list(data.columns)\n",
    "#dupl_columns.remove('id')\n",
    "\n",
    "mask = data.duplicated(subset=dupl_columns)\n",
    "data_duplicates = data[mask]\n",
    "print(f'Число найденных дубликатов: {data_duplicates.shape[0]}')"
   ]
  },
  {
   "cell_type": "code",
   "execution_count": 12,
   "metadata": {},
   "outputs": [],
   "source": [
    "# # удалять дубликаты не будем по совету ментора\n",
    "# df_train = df_train.drop_duplicates(subset=dupl_columns)\n",
    "# print(f'Результирующее число записей: {df_train.shape[0]}')"
   ]
  },
  {
   "cell_type": "markdown",
   "metadata": {},
   "source": [
    "____________________________________________"
   ]
  },
  {
   "cell_type": "markdown",
   "metadata": {},
   "source": [
    "### ПРОПУЩЕННЫЕ ЗНАЧЕНИЯ"
   ]
  },
  {
   "cell_type": "code",
   "execution_count": 13,
   "metadata": {},
   "outputs": [
    {
     "data": {
      "text/plain": [
       "lat    0.633655\n",
       "lng    0.633655\n",
       "dtype: float64"
      ]
     },
     "metadata": {},
     "output_type": "display_data"
    }
   ],
   "source": [
    "# Проверим датасет на наличие пропусков в данных\n",
    "data = hotels\n",
    "cols_null_percent = data.isnull().mean() * 100\n",
    "cols_with_null = cols_null_percent[cols_null_percent>0].sort_values(ascending=False)\n",
    "display(cols_with_null)"
   ]
  },
  {
   "cell_type": "code",
   "execution_count": 14,
   "metadata": {},
   "outputs": [
    {
     "name": "stdout",
     "output_type": "stream",
     "text": [
      "Britannia International Hotel Canary Wharf           4789\n",
      "Strand Palace Hotel                                  4256\n",
      "Park Plaza Westminster Bridge London                 4169\n",
      "Copthorne Tara Hotel London Kensington               3578\n",
      "DoubleTree by Hilton Hotel London Tower of London    3212\n",
      "                                                     ... \n",
      "Hotel Eitlj rg                                         12\n",
      "Hotel Daniel Paris                                     12\n",
      "Mercure Paris Porte d Orleans                          10\n",
      "Hotel Wagner                                           10\n",
      "Hotel Gallitzinberg                                     8\n",
      "Name: hotel_name, Length: 1492, dtype: int64\n",
      "1492\n"
     ]
    }
   ],
   "source": [
    "# Сколько всего отелей представоено в выборке?\n",
    "data = hotels\n",
    "print(data['hotel_name'].value_counts())\n",
    "print(len(pd.unique(data['hotel_name'])) )"
   ]
  },
  {
   "cell_type": "code",
   "execution_count": 15,
   "metadata": {},
   "outputs": [
    {
     "name": "stdout",
     "output_type": "stream",
     "text": [
      "163 Marsh Wall Docklands Tower Hamlets London E14 9SJ United Kingdom              4789\n",
      "372 Strand Westminster Borough London WC2R 0JJ United Kingdom                     4256\n",
      "Westminster Bridge Road Lambeth London SE1 7UT United Kingdom                     4169\n",
      "Scarsdale Place Kensington Kensington and Chelsea London W8 5SY United Kingdom    3578\n",
      "7 Pepys Street City of London London EC3N 4AF United Kingdom                      3212\n",
      "                                                                                  ... \n",
      "8 rue Fr d ric Bastiat 8th arr 75008 Paris France                                   12\n",
      "2 4 Boundary Street Hackney London E2 7DD United Kingdom                            12\n",
      "Via M Buonarroti 13 Fiera Milano City 20149 Milan Italy                             10\n",
      "13 Rue Fran ois Ory 92120 Paris France                                              10\n",
      "Johann Staud Stra e 32 16 Ottakring 1160 Vienna Austria                              8\n",
      "Name: hotel_address, Length: 1493, dtype: int64\n",
      "1493\n"
     ]
    }
   ],
   "source": [
    "# # Сколько всего адресов отелей представоено в выборке?\n",
    "data = hotels\n",
    "print(data['hotel_address'].value_counts())\n",
    "print(len(pd.unique(data['hotel_address'])) )"
   ]
  },
  {
   "cell_type": "markdown",
   "metadata": {},
   "source": [
    "___________________________________________"
   ]
  },
  {
   "cell_type": "markdown",
   "metadata": {},
   "source": [
    "### СТРОКОВЫЕ ДАННЫЕ И НОВЫЕ ПРИЗНАКИ "
   ]
  },
  {
   "cell_type": "markdown",
   "metadata": {},
   "source": [
    "### hotel_address (адрес отеля)"
   ]
  },
  {
   "cell_type": "code",
   "execution_count": 16,
   "metadata": {},
   "outputs": [
    {
     "data": {
      "text/html": [
       "<div>\n",
       "<style scoped>\n",
       "    .dataframe tbody tr th:only-of-type {\n",
       "        vertical-align: middle;\n",
       "    }\n",
       "\n",
       "    .dataframe tbody tr th {\n",
       "        vertical-align: top;\n",
       "    }\n",
       "\n",
       "    .dataframe thead th {\n",
       "        text-align: right;\n",
       "    }\n",
       "</style>\n",
       "<table border=\"1\" class=\"dataframe\">\n",
       "  <thead>\n",
       "    <tr style=\"text-align: right;\">\n",
       "      <th></th>\n",
       "      <th>hotel_address</th>\n",
       "      <th>additional_number_of_scoring</th>\n",
       "      <th>review_date</th>\n",
       "      <th>average_score</th>\n",
       "      <th>hotel_name</th>\n",
       "      <th>reviewer_nationality</th>\n",
       "      <th>negative_review</th>\n",
       "      <th>review_total_negative_word_counts</th>\n",
       "      <th>total_number_of_reviews</th>\n",
       "      <th>positive_review</th>\n",
       "      <th>review_total_positive_word_counts</th>\n",
       "      <th>total_number_of_reviews_reviewer_has_given</th>\n",
       "      <th>tags</th>\n",
       "      <th>days_since_review</th>\n",
       "      <th>lat</th>\n",
       "      <th>lng</th>\n",
       "      <th>sample</th>\n",
       "      <th>reviewer_score</th>\n",
       "      <th>hotel_country</th>\n",
       "      <th>hotel_city</th>\n",
       "    </tr>\n",
       "  </thead>\n",
       "  <tbody>\n",
       "    <tr>\n",
       "      <th>0</th>\n",
       "      <td>Via Senigallia 6 20161 Milan Italy</td>\n",
       "      <td>904</td>\n",
       "      <td>7/21/2017</td>\n",
       "      <td>8.1</td>\n",
       "      <td>Hotel Da Vinci</td>\n",
       "      <td>United Kingdom</td>\n",
       "      <td>Would have appreciated a shop in the hotel th...</td>\n",
       "      <td>52</td>\n",
       "      <td>16670</td>\n",
       "      <td>Hotel was great clean friendly staff free bre...</td>\n",
       "      <td>62</td>\n",
       "      <td>1</td>\n",
       "      <td>[' Leisure trip ', ' Couple ', ' Double Room '...</td>\n",
       "      <td>13 days</td>\n",
       "      <td>45.533137</td>\n",
       "      <td>9.171102</td>\n",
       "      <td>0</td>\n",
       "      <td>0.0</td>\n",
       "      <td>Italy</td>\n",
       "      <td>Milan</td>\n",
       "    </tr>\n",
       "    <tr>\n",
       "      <th>1</th>\n",
       "      <td>Arlandaweg 10 Westpoort 1043 EW Amsterdam Neth...</td>\n",
       "      <td>612</td>\n",
       "      <td>12/12/2016</td>\n",
       "      <td>8.6</td>\n",
       "      <td>Urban Lodge Hotel</td>\n",
       "      <td>Belgium</td>\n",
       "      <td>No tissue paper box was present at the room</td>\n",
       "      <td>10</td>\n",
       "      <td>5018</td>\n",
       "      <td>No Positive</td>\n",
       "      <td>0</td>\n",
       "      <td>7</td>\n",
       "      <td>[' Leisure trip ', ' Group ', ' Triple Room ',...</td>\n",
       "      <td>234 day</td>\n",
       "      <td>52.385649</td>\n",
       "      <td>4.834443</td>\n",
       "      <td>0</td>\n",
       "      <td>0.0</td>\n",
       "      <td>Netherlands</td>\n",
       "      <td>Amsterdam</td>\n",
       "    </tr>\n",
       "  </tbody>\n",
       "</table>\n",
       "</div>"
      ],
      "text/plain": [
       "                                       hotel_address  \\\n",
       "0                 Via Senigallia 6 20161 Milan Italy   \n",
       "1  Arlandaweg 10 Westpoort 1043 EW Amsterdam Neth...   \n",
       "\n",
       "   additional_number_of_scoring review_date  average_score         hotel_name  \\\n",
       "0                           904   7/21/2017            8.1     Hotel Da Vinci   \n",
       "1                           612  12/12/2016            8.6  Urban Lodge Hotel   \n",
       "\n",
       "  reviewer_nationality                                    negative_review  \\\n",
       "0      United Kingdom    Would have appreciated a shop in the hotel th...   \n",
       "1             Belgium         No tissue paper box was present at the room   \n",
       "\n",
       "   review_total_negative_word_counts  total_number_of_reviews  \\\n",
       "0                                 52                    16670   \n",
       "1                                 10                     5018   \n",
       "\n",
       "                                     positive_review  \\\n",
       "0   Hotel was great clean friendly staff free bre...   \n",
       "1                                        No Positive   \n",
       "\n",
       "   review_total_positive_word_counts  \\\n",
       "0                                 62   \n",
       "1                                  0   \n",
       "\n",
       "   total_number_of_reviews_reviewer_has_given  \\\n",
       "0                                           1   \n",
       "1                                           7   \n",
       "\n",
       "                                                tags days_since_review  \\\n",
       "0  [' Leisure trip ', ' Couple ', ' Double Room '...           13 days   \n",
       "1  [' Leisure trip ', ' Group ', ' Triple Room ',...           234 day   \n",
       "\n",
       "         lat       lng  sample  reviewer_score hotel_country hotel_city  \n",
       "0  45.533137  9.171102       0             0.0         Italy      Milan  \n",
       "1  52.385649  4.834443       0             0.0   Netherlands  Amsterdam  "
      ]
     },
     "execution_count": 16,
     "metadata": {},
     "output_type": "execute_result"
    }
   ],
   "source": [
    "# выделяем признаки страны и города отеля из признака hotel_address \n",
    "hotels['hotel_country'] = hotels['hotel_address'].apply(lambda x: 'United Kingdom' if x.split()[-1] == 'Kingdom' else x.split()[-1])\n",
    "hotels['hotel_city'] = hotels['hotel_address'].apply(lambda x: 'London' if x.split()[-2] == 'United' else x.split()[-2])\n",
    "hotels.head(2)"
   ]
  },
  {
   "cell_type": "code",
   "execution_count": 17,
   "metadata": {},
   "outputs": [
    {
     "name": "stderr",
     "output_type": "stream",
     "text": [
      "C:\\Users\\anton\\AppData\\Local\\Temp\\ipykernel_7320\\67807271.py:2: FutureWarning: Indexing with multiple keys (implicitly converted to a tuple of keys) will be deprecated, use a list instead.\n",
      "  display(hotels.groupby(['hotel_country', 'hotel_city'])['hotel_country', 'hotel_city'].count())\n"
     ]
    },
    {
     "data": {
      "text/html": [
       "<div>\n",
       "<style scoped>\n",
       "    .dataframe tbody tr th:only-of-type {\n",
       "        vertical-align: middle;\n",
       "    }\n",
       "\n",
       "    .dataframe tbody tr th {\n",
       "        vertical-align: top;\n",
       "    }\n",
       "\n",
       "    .dataframe thead th {\n",
       "        text-align: right;\n",
       "    }\n",
       "</style>\n",
       "<table border=\"1\" class=\"dataframe\">\n",
       "  <thead>\n",
       "    <tr style=\"text-align: right;\">\n",
       "      <th></th>\n",
       "      <th></th>\n",
       "      <th>hotel_country</th>\n",
       "      <th>hotel_city</th>\n",
       "    </tr>\n",
       "    <tr>\n",
       "      <th>hotel_country</th>\n",
       "      <th>hotel_city</th>\n",
       "      <th></th>\n",
       "      <th></th>\n",
       "    </tr>\n",
       "  </thead>\n",
       "  <tbody>\n",
       "    <tr>\n",
       "      <th>Austria</th>\n",
       "      <th>Vienna</th>\n",
       "      <td>38939</td>\n",
       "      <td>38939</td>\n",
       "    </tr>\n",
       "    <tr>\n",
       "      <th>France</th>\n",
       "      <th>Paris</th>\n",
       "      <td>59928</td>\n",
       "      <td>59928</td>\n",
       "    </tr>\n",
       "    <tr>\n",
       "      <th>Italy</th>\n",
       "      <th>Milan</th>\n",
       "      <td>37207</td>\n",
       "      <td>37207</td>\n",
       "    </tr>\n",
       "    <tr>\n",
       "      <th>Netherlands</th>\n",
       "      <th>Amsterdam</th>\n",
       "      <td>57214</td>\n",
       "      <td>57214</td>\n",
       "    </tr>\n",
       "    <tr>\n",
       "      <th>Spain</th>\n",
       "      <th>Barcelona</th>\n",
       "      <td>60149</td>\n",
       "      <td>60149</td>\n",
       "    </tr>\n",
       "    <tr>\n",
       "      <th>United Kingdom</th>\n",
       "      <th>London</th>\n",
       "      <td>262301</td>\n",
       "      <td>262301</td>\n",
       "    </tr>\n",
       "  </tbody>\n",
       "</table>\n",
       "</div>"
      ],
      "text/plain": [
       "                           hotel_country  hotel_city\n",
       "hotel_country  hotel_city                           \n",
       "Austria        Vienna              38939       38939\n",
       "France         Paris               59928       59928\n",
       "Italy          Milan               37207       37207\n",
       "Netherlands    Amsterdam           57214       57214\n",
       "Spain          Barcelona           60149       60149\n",
       "United Kingdom London             262301      262301"
      ]
     },
     "metadata": {},
     "output_type": "display_data"
    }
   ],
   "source": [
    "# выясним сколько городов и стран расположения отелей представлено в выборке:\n",
    "display(hotels.groupby(['hotel_country', 'hotel_city'])['hotel_country', 'hotel_city'].count())"
   ]
  },
  {
   "cell_type": "markdown",
   "metadata": {},
   "source": [
    "В каждой стране отели представлены только из одного города.  \n",
    "В дальнейшем (после анализа остальных признаков) Можно оставить в выборке один из признаков - страну."
   ]
  },
  {
   "cell_type": "code",
   "execution_count": 18,
   "metadata": {},
   "outputs": [
    {
     "data": {
      "text/html": [
       "<div>\n",
       "<style scoped>\n",
       "    .dataframe tbody tr th:only-of-type {\n",
       "        vertical-align: middle;\n",
       "    }\n",
       "\n",
       "    .dataframe tbody tr th {\n",
       "        vertical-align: top;\n",
       "    }\n",
       "\n",
       "    .dataframe thead th {\n",
       "        text-align: right;\n",
       "    }\n",
       "</style>\n",
       "<table border=\"1\" class=\"dataframe\">\n",
       "  <thead>\n",
       "    <tr style=\"text-align: right;\">\n",
       "      <th></th>\n",
       "      <th>hotel_address</th>\n",
       "      <th>additional_number_of_scoring</th>\n",
       "      <th>review_date</th>\n",
       "      <th>average_score</th>\n",
       "      <th>hotel_name</th>\n",
       "      <th>reviewer_nationality</th>\n",
       "      <th>negative_review</th>\n",
       "      <th>review_total_negative_word_counts</th>\n",
       "      <th>total_number_of_reviews</th>\n",
       "      <th>positive_review</th>\n",
       "      <th>...</th>\n",
       "      <th>total_number_of_reviews_reviewer_has_given</th>\n",
       "      <th>tags</th>\n",
       "      <th>days_since_review</th>\n",
       "      <th>lat</th>\n",
       "      <th>lng</th>\n",
       "      <th>sample</th>\n",
       "      <th>reviewer_score</th>\n",
       "      <th>hotel_country</th>\n",
       "      <th>hotel_city</th>\n",
       "      <th>hotel_country_code</th>\n",
       "    </tr>\n",
       "  </thead>\n",
       "  <tbody>\n",
       "    <tr>\n",
       "      <th>0</th>\n",
       "      <td>Via Senigallia 6 20161 Milan Italy</td>\n",
       "      <td>904</td>\n",
       "      <td>7/21/2017</td>\n",
       "      <td>8.1</td>\n",
       "      <td>Hotel Da Vinci</td>\n",
       "      <td>United Kingdom</td>\n",
       "      <td>Would have appreciated a shop in the hotel th...</td>\n",
       "      <td>52</td>\n",
       "      <td>16670</td>\n",
       "      <td>Hotel was great clean friendly staff free bre...</td>\n",
       "      <td>...</td>\n",
       "      <td>1</td>\n",
       "      <td>[' Leisure trip ', ' Couple ', ' Double Room '...</td>\n",
       "      <td>13 days</td>\n",
       "      <td>45.533137</td>\n",
       "      <td>9.171102</td>\n",
       "      <td>0</td>\n",
       "      <td>0.0</td>\n",
       "      <td>Italy</td>\n",
       "      <td>Milan</td>\n",
       "      <td>2</td>\n",
       "    </tr>\n",
       "    <tr>\n",
       "      <th>1</th>\n",
       "      <td>Arlandaweg 10 Westpoort 1043 EW Amsterdam Neth...</td>\n",
       "      <td>612</td>\n",
       "      <td>12/12/2016</td>\n",
       "      <td>8.6</td>\n",
       "      <td>Urban Lodge Hotel</td>\n",
       "      <td>Belgium</td>\n",
       "      <td>No tissue paper box was present at the room</td>\n",
       "      <td>10</td>\n",
       "      <td>5018</td>\n",
       "      <td>No Positive</td>\n",
       "      <td>...</td>\n",
       "      <td>7</td>\n",
       "      <td>[' Leisure trip ', ' Group ', ' Triple Room ',...</td>\n",
       "      <td>234 day</td>\n",
       "      <td>52.385649</td>\n",
       "      <td>4.834443</td>\n",
       "      <td>0</td>\n",
       "      <td>0.0</td>\n",
       "      <td>Netherlands</td>\n",
       "      <td>Amsterdam</td>\n",
       "      <td>3</td>\n",
       "    </tr>\n",
       "    <tr>\n",
       "      <th>2</th>\n",
       "      <td>Mallorca 251 Eixample 08008 Barcelona Spain</td>\n",
       "      <td>46</td>\n",
       "      <td>11/26/2015</td>\n",
       "      <td>8.3</td>\n",
       "      <td>Alexandra Barcelona A DoubleTree by Hilton</td>\n",
       "      <td>Sweden</td>\n",
       "      <td>Pillows</td>\n",
       "      <td>3</td>\n",
       "      <td>351</td>\n",
       "      <td>Nice welcoming and service</td>\n",
       "      <td>...</td>\n",
       "      <td>15</td>\n",
       "      <td>[' Business trip ', ' Solo traveler ', ' Twin ...</td>\n",
       "      <td>616 day</td>\n",
       "      <td>41.393192</td>\n",
       "      <td>2.161520</td>\n",
       "      <td>0</td>\n",
       "      <td>0.0</td>\n",
       "      <td>Spain</td>\n",
       "      <td>Barcelona</td>\n",
       "      <td>4</td>\n",
       "    </tr>\n",
       "    <tr>\n",
       "      <th>3</th>\n",
       "      <td>Piazza Della Repubblica 17 Central Station 201...</td>\n",
       "      <td>241</td>\n",
       "      <td>10/17/2015</td>\n",
       "      <td>9.1</td>\n",
       "      <td>Hotel Principe Di Savoia</td>\n",
       "      <td>United States of America</td>\n",
       "      <td>No Negative</td>\n",
       "      <td>0</td>\n",
       "      <td>1543</td>\n",
       "      <td>Everything including the nice upgrade The Hot...</td>\n",
       "      <td>...</td>\n",
       "      <td>9</td>\n",
       "      <td>[' Leisure trip ', ' Couple ', ' Ambassador Ju...</td>\n",
       "      <td>656 day</td>\n",
       "      <td>45.479888</td>\n",
       "      <td>9.196298</td>\n",
       "      <td>0</td>\n",
       "      <td>0.0</td>\n",
       "      <td>Italy</td>\n",
       "      <td>Milan</td>\n",
       "      <td>2</td>\n",
       "    </tr>\n",
       "    <tr>\n",
       "      <th>4</th>\n",
       "      <td>Singel 303 309 Amsterdam City Center 1012 WJ A...</td>\n",
       "      <td>834</td>\n",
       "      <td>5/16/2016</td>\n",
       "      <td>9.1</td>\n",
       "      <td>Hotel Esther a</td>\n",
       "      <td>United Kingdom</td>\n",
       "      <td>No Negative</td>\n",
       "      <td>0</td>\n",
       "      <td>4687</td>\n",
       "      <td>Lovely hotel v welcoming staff</td>\n",
       "      <td>...</td>\n",
       "      <td>2</td>\n",
       "      <td>[' Business trip ', ' Solo traveler ', ' Class...</td>\n",
       "      <td>444 day</td>\n",
       "      <td>52.370545</td>\n",
       "      <td>4.888644</td>\n",
       "      <td>0</td>\n",
       "      <td>0.0</td>\n",
       "      <td>Netherlands</td>\n",
       "      <td>Amsterdam</td>\n",
       "      <td>3</td>\n",
       "    </tr>\n",
       "  </tbody>\n",
       "</table>\n",
       "<p>5 rows × 21 columns</p>\n",
       "</div>"
      ],
      "text/plain": [
       "                                       hotel_address  \\\n",
       "0                 Via Senigallia 6 20161 Milan Italy   \n",
       "1  Arlandaweg 10 Westpoort 1043 EW Amsterdam Neth...   \n",
       "2        Mallorca 251 Eixample 08008 Barcelona Spain   \n",
       "3  Piazza Della Repubblica 17 Central Station 201...   \n",
       "4  Singel 303 309 Amsterdam City Center 1012 WJ A...   \n",
       "\n",
       "   additional_number_of_scoring review_date  average_score  \\\n",
       "0                           904   7/21/2017            8.1   \n",
       "1                           612  12/12/2016            8.6   \n",
       "2                            46  11/26/2015            8.3   \n",
       "3                           241  10/17/2015            9.1   \n",
       "4                           834   5/16/2016            9.1   \n",
       "\n",
       "                                   hotel_name        reviewer_nationality  \\\n",
       "0                              Hotel Da Vinci             United Kingdom    \n",
       "1                           Urban Lodge Hotel                    Belgium    \n",
       "2  Alexandra Barcelona A DoubleTree by Hilton                     Sweden    \n",
       "3                    Hotel Principe Di Savoia   United States of America    \n",
       "4                              Hotel Esther a             United Kingdom    \n",
       "\n",
       "                                     negative_review  \\\n",
       "0   Would have appreciated a shop in the hotel th...   \n",
       "1        No tissue paper box was present at the room   \n",
       "2                                           Pillows    \n",
       "3                                        No Negative   \n",
       "4                                        No Negative   \n",
       "\n",
       "   review_total_negative_word_counts  total_number_of_reviews  \\\n",
       "0                                 52                    16670   \n",
       "1                                 10                     5018   \n",
       "2                                  3                      351   \n",
       "3                                  0                     1543   \n",
       "4                                  0                     4687   \n",
       "\n",
       "                                     positive_review  ...  \\\n",
       "0   Hotel was great clean friendly staff free bre...  ...   \n",
       "1                                        No Positive  ...   \n",
       "2                         Nice welcoming and service  ...   \n",
       "3   Everything including the nice upgrade The Hot...  ...   \n",
       "4                    Lovely hotel v welcoming staff   ...   \n",
       "\n",
       "   total_number_of_reviews_reviewer_has_given  \\\n",
       "0                                           1   \n",
       "1                                           7   \n",
       "2                                          15   \n",
       "3                                           9   \n",
       "4                                           2   \n",
       "\n",
       "                                                tags days_since_review  \\\n",
       "0  [' Leisure trip ', ' Couple ', ' Double Room '...           13 days   \n",
       "1  [' Leisure trip ', ' Group ', ' Triple Room ',...           234 day   \n",
       "2  [' Business trip ', ' Solo traveler ', ' Twin ...           616 day   \n",
       "3  [' Leisure trip ', ' Couple ', ' Ambassador Ju...           656 day   \n",
       "4  [' Business trip ', ' Solo traveler ', ' Class...           444 day   \n",
       "\n",
       "         lat       lng  sample  reviewer_score  hotel_country hotel_city  \\\n",
       "0  45.533137  9.171102       0             0.0          Italy      Milan   \n",
       "1  52.385649  4.834443       0             0.0    Netherlands  Amsterdam   \n",
       "2  41.393192  2.161520       0             0.0          Spain  Barcelona   \n",
       "3  45.479888  9.196298       0             0.0          Italy      Milan   \n",
       "4  52.370545  4.888644       0             0.0    Netherlands  Amsterdam   \n",
       "\n",
       "  hotel_country_code  \n",
       "0                  2  \n",
       "1                  3  \n",
       "2                  4  \n",
       "3                  2  \n",
       "4                  3  \n",
       "\n",
       "[5 rows x 21 columns]"
      ]
     },
     "execution_count": 18,
     "metadata": {},
     "output_type": "execute_result"
    }
   ],
   "source": [
    "# кодируем информацию о стране с помощью метода доступа (accessor) cat.codes:\n",
    "hotels['hotel_country'] = hotels['hotel_country'].astype('category')\n",
    "hotels['hotel_country_code'] = hotels['hotel_country'].cat.codes\n",
    "hotels.head()"
   ]
  },
  {
   "cell_type": "code",
   "execution_count": 19,
   "metadata": {},
   "outputs": [],
   "source": [
    "# удалим нечисловой признак hotel_address\n",
    "hotels = hotels.drop(['hotel_address'], axis=1) "
   ]
  },
  {
   "cell_type": "markdown",
   "metadata": {},
   "source": [
    "___________________________________________"
   ]
  },
  {
   "cell_type": "markdown",
   "metadata": {},
   "source": [
    "### reviewer_nationality (национальность рецензента)"
   ]
  },
  {
   "cell_type": "markdown",
   "metadata": {},
   "source": [
    "Создадаим новый признак резиденства рецензента (вероятно это оказывает влияние на итоговоую оценку), а также закодируем информацию о стране рецензента."
   ]
  },
  {
   "cell_type": "code",
   "execution_count": 20,
   "metadata": {},
   "outputs": [],
   "source": [
    "# добавим признак резидентства туриста по отношению к стране, в которой находится отель:\n",
    "hotels['reviewer_nationality'] = hotels['reviewer_nationality'].apply(lambda x: x.strip())\n",
    "hotels['hotel_country'] = hotels['hotel_country'].apply(lambda x: x.strip())\n",
    "hotels['reviewer_resident'] = hotels.apply(lambda row: 1 if row['reviewer_nationality'] == row['hotel_country'] else 0, axis=1)"
   ]
  },
  {
   "cell_type": "code",
   "execution_count": 21,
   "metadata": {},
   "outputs": [
    {
     "data": {
      "text/html": [
       "<div>\n",
       "<style scoped>\n",
       "    .dataframe tbody tr th:only-of-type {\n",
       "        vertical-align: middle;\n",
       "    }\n",
       "\n",
       "    .dataframe tbody tr th {\n",
       "        vertical-align: top;\n",
       "    }\n",
       "\n",
       "    .dataframe thead th {\n",
       "        text-align: right;\n",
       "    }\n",
       "</style>\n",
       "<table border=\"1\" class=\"dataframe\">\n",
       "  <thead>\n",
       "    <tr style=\"text-align: right;\">\n",
       "      <th></th>\n",
       "      <th>additional_number_of_scoring</th>\n",
       "      <th>review_date</th>\n",
       "      <th>average_score</th>\n",
       "      <th>hotel_name</th>\n",
       "      <th>reviewer_nationality</th>\n",
       "      <th>negative_review</th>\n",
       "      <th>review_total_negative_word_counts</th>\n",
       "      <th>total_number_of_reviews</th>\n",
       "      <th>positive_review</th>\n",
       "      <th>review_total_positive_word_counts</th>\n",
       "      <th>...</th>\n",
       "      <th>days_since_review</th>\n",
       "      <th>lat</th>\n",
       "      <th>lng</th>\n",
       "      <th>sample</th>\n",
       "      <th>reviewer_score</th>\n",
       "      <th>hotel_country</th>\n",
       "      <th>hotel_city</th>\n",
       "      <th>hotel_country_code</th>\n",
       "      <th>reviewer_resident</th>\n",
       "      <th>reviewer_nationality_code</th>\n",
       "    </tr>\n",
       "  </thead>\n",
       "  <tbody>\n",
       "    <tr>\n",
       "      <th>0</th>\n",
       "      <td>904</td>\n",
       "      <td>7/21/2017</td>\n",
       "      <td>8.1</td>\n",
       "      <td>Hotel Da Vinci</td>\n",
       "      <td>United Kingdom</td>\n",
       "      <td>Would have appreciated a shop in the hotel th...</td>\n",
       "      <td>52</td>\n",
       "      <td>16670</td>\n",
       "      <td>Hotel was great clean friendly staff free bre...</td>\n",
       "      <td>62</td>\n",
       "      <td>...</td>\n",
       "      <td>13 days</td>\n",
       "      <td>45.533137</td>\n",
       "      <td>9.171102</td>\n",
       "      <td>0</td>\n",
       "      <td>0.0</td>\n",
       "      <td>Italy</td>\n",
       "      <td>Milan</td>\n",
       "      <td>2</td>\n",
       "      <td>0</td>\n",
       "      <td>214</td>\n",
       "    </tr>\n",
       "    <tr>\n",
       "      <th>1</th>\n",
       "      <td>612</td>\n",
       "      <td>12/12/2016</td>\n",
       "      <td>8.6</td>\n",
       "      <td>Urban Lodge Hotel</td>\n",
       "      <td>Belgium</td>\n",
       "      <td>No tissue paper box was present at the room</td>\n",
       "      <td>10</td>\n",
       "      <td>5018</td>\n",
       "      <td>No Positive</td>\n",
       "      <td>0</td>\n",
       "      <td>...</td>\n",
       "      <td>234 day</td>\n",
       "      <td>52.385649</td>\n",
       "      <td>4.834443</td>\n",
       "      <td>0</td>\n",
       "      <td>0.0</td>\n",
       "      <td>Netherlands</td>\n",
       "      <td>Amsterdam</td>\n",
       "      <td>3</td>\n",
       "      <td>0</td>\n",
       "      <td>22</td>\n",
       "    </tr>\n",
       "  </tbody>\n",
       "</table>\n",
       "<p>2 rows × 22 columns</p>\n",
       "</div>"
      ],
      "text/plain": [
       "   additional_number_of_scoring review_date  average_score         hotel_name  \\\n",
       "0                           904   7/21/2017            8.1     Hotel Da Vinci   \n",
       "1                           612  12/12/2016            8.6  Urban Lodge Hotel   \n",
       "\n",
       "  reviewer_nationality                                    negative_review  \\\n",
       "0       United Kingdom   Would have appreciated a shop in the hotel th...   \n",
       "1              Belgium        No tissue paper box was present at the room   \n",
       "\n",
       "   review_total_negative_word_counts  total_number_of_reviews  \\\n",
       "0                                 52                    16670   \n",
       "1                                 10                     5018   \n",
       "\n",
       "                                     positive_review  \\\n",
       "0   Hotel was great clean friendly staff free bre...   \n",
       "1                                        No Positive   \n",
       "\n",
       "   review_total_positive_word_counts  ...  days_since_review        lat  \\\n",
       "0                                 62  ...            13 days  45.533137   \n",
       "1                                  0  ...            234 day  52.385649   \n",
       "\n",
       "        lng  sample  reviewer_score  hotel_country  hotel_city  \\\n",
       "0  9.171102       0             0.0          Italy       Milan   \n",
       "1  4.834443       0             0.0    Netherlands   Amsterdam   \n",
       "\n",
       "  hotel_country_code reviewer_resident  reviewer_nationality_code  \n",
       "0                  2                 0                        214  \n",
       "1                  3                 0                         22  \n",
       "\n",
       "[2 rows x 22 columns]"
      ]
     },
     "execution_count": 21,
     "metadata": {},
     "output_type": "execute_result"
    }
   ],
   "source": [
    "# кодируем информацию о стране рецензента:\n",
    "hotels['reviewer_nationality_code'] = hotels['reviewer_nationality'].astype('category').cat.codes\n",
    "hotels.head(2)"
   ]
  },
  {
   "cell_type": "code",
   "execution_count": 22,
   "metadata": {},
   "outputs": [],
   "source": [
    "# удалим нечисловой признак\treviewer_nationality:\n",
    "hotels.drop('reviewer_nationality', axis=1, inplace=True)"
   ]
  },
  {
   "cell_type": "markdown",
   "metadata": {},
   "source": [
    "____________________________________________________"
   ]
  },
  {
   "cell_type": "markdown",
   "metadata": {},
   "source": [
    "### tags (теги)"
   ]
  },
  {
   "cell_type": "markdown",
   "metadata": {},
   "source": [
    "Определим количество и состав групп тегов:"
   ]
  },
  {
   "cell_type": "code",
   "execution_count": 23,
   "metadata": {},
   "outputs": [
    {
     "data": {
      "text/html": [
       "<div>\n",
       "<style scoped>\n",
       "    .dataframe tbody tr th:only-of-type {\n",
       "        vertical-align: middle;\n",
       "    }\n",
       "\n",
       "    .dataframe tbody tr th {\n",
       "        vertical-align: top;\n",
       "    }\n",
       "\n",
       "    .dataframe thead th {\n",
       "        text-align: right;\n",
       "    }\n",
       "</style>\n",
       "<table border=\"1\" class=\"dataframe\">\n",
       "  <thead>\n",
       "    <tr style=\"text-align: right;\">\n",
       "      <th></th>\n",
       "      <th>0</th>\n",
       "      <th>1</th>\n",
       "      <th>2</th>\n",
       "      <th>3</th>\n",
       "      <th>4</th>\n",
       "      <th>5</th>\n",
       "    </tr>\n",
       "  </thead>\n",
       "  <tbody>\n",
       "    <tr>\n",
       "      <th>0</th>\n",
       "      <td>Leisure trip</td>\n",
       "      <td>Couple</td>\n",
       "      <td>Double Room</td>\n",
       "      <td>Stayed 2 nights</td>\n",
       "      <td>None</td>\n",
       "      <td>None</td>\n",
       "    </tr>\n",
       "    <tr>\n",
       "      <th>1</th>\n",
       "      <td>Leisure trip</td>\n",
       "      <td>Group</td>\n",
       "      <td>Triple Room</td>\n",
       "      <td>Stayed 1 night</td>\n",
       "      <td>None</td>\n",
       "      <td>None</td>\n",
       "    </tr>\n",
       "    <tr>\n",
       "      <th>2</th>\n",
       "      <td>Business trip</td>\n",
       "      <td>Solo traveler</td>\n",
       "      <td>Twin Room</td>\n",
       "      <td>Stayed 1 night</td>\n",
       "      <td>Submitted from a mobile device</td>\n",
       "      <td>None</td>\n",
       "    </tr>\n",
       "    <tr>\n",
       "      <th>3</th>\n",
       "      <td>Leisure trip</td>\n",
       "      <td>Couple</td>\n",
       "      <td>Ambassador Junior Suite</td>\n",
       "      <td>Stayed 1 night</td>\n",
       "      <td>None</td>\n",
       "      <td>None</td>\n",
       "    </tr>\n",
       "    <tr>\n",
       "      <th>4</th>\n",
       "      <td>Business trip</td>\n",
       "      <td>Solo traveler</td>\n",
       "      <td>Classic Double or Twin Room</td>\n",
       "      <td>Stayed 2 nights</td>\n",
       "      <td>Submitted from a mobile device</td>\n",
       "      <td>None</td>\n",
       "    </tr>\n",
       "    <tr>\n",
       "      <th>...</th>\n",
       "      <td>...</td>\n",
       "      <td>...</td>\n",
       "      <td>...</td>\n",
       "      <td>...</td>\n",
       "      <td>...</td>\n",
       "      <td>...</td>\n",
       "    </tr>\n",
       "    <tr>\n",
       "      <th>515733</th>\n",
       "      <td>Leisure trip</td>\n",
       "      <td>Group</td>\n",
       "      <td>Club Double or Twin Room</td>\n",
       "      <td>Stayed 2 nights</td>\n",
       "      <td>Submitted from a mobile device</td>\n",
       "      <td>None</td>\n",
       "    </tr>\n",
       "    <tr>\n",
       "      <th>515734</th>\n",
       "      <td>Leisure trip</td>\n",
       "      <td>Couple</td>\n",
       "      <td>Standard Double Room</td>\n",
       "      <td>Stayed 4 nights</td>\n",
       "      <td>Submitted from a mobile device</td>\n",
       "      <td>None</td>\n",
       "    </tr>\n",
       "    <tr>\n",
       "      <th>515735</th>\n",
       "      <td>Business trip</td>\n",
       "      <td>Solo traveler</td>\n",
       "      <td>Single Room</td>\n",
       "      <td>Stayed 1 night</td>\n",
       "      <td>None</td>\n",
       "      <td>None</td>\n",
       "    </tr>\n",
       "    <tr>\n",
       "      <th>515736</th>\n",
       "      <td>Leisure trip</td>\n",
       "      <td>Solo traveler</td>\n",
       "      <td>Deluxe Double Room</td>\n",
       "      <td>Stayed 2 nights</td>\n",
       "      <td>None</td>\n",
       "      <td>None</td>\n",
       "    </tr>\n",
       "    <tr>\n",
       "      <th>515737</th>\n",
       "      <td>Leisure trip</td>\n",
       "      <td>Couple</td>\n",
       "      <td>Bunk Bed Room</td>\n",
       "      <td>Stayed 4 nights</td>\n",
       "      <td>None</td>\n",
       "      <td>None</td>\n",
       "    </tr>\n",
       "  </tbody>\n",
       "</table>\n",
       "<p>515738 rows × 6 columns</p>\n",
       "</div>"
      ],
      "text/plain": [
       "                    0              1                            2  \\\n",
       "0        Leisure trip         Couple                  Double Room   \n",
       "1        Leisure trip          Group                  Triple Room   \n",
       "2       Business trip  Solo traveler                    Twin Room   \n",
       "3        Leisure trip         Couple      Ambassador Junior Suite   \n",
       "4       Business trip  Solo traveler  Classic Double or Twin Room   \n",
       "...               ...            ...                          ...   \n",
       "515733   Leisure trip          Group     Club Double or Twin Room   \n",
       "515734   Leisure trip         Couple         Standard Double Room   \n",
       "515735  Business trip  Solo traveler                  Single Room   \n",
       "515736   Leisure trip  Solo traveler           Deluxe Double Room   \n",
       "515737   Leisure trip         Couple                Bunk Bed Room   \n",
       "\n",
       "                      3                               4     5  \n",
       "0       Stayed 2 nights                            None  None  \n",
       "1        Stayed 1 night                            None  None  \n",
       "2        Stayed 1 night  Submitted from a mobile device  None  \n",
       "3        Stayed 1 night                            None  None  \n",
       "4       Stayed 2 nights  Submitted from a mobile device  None  \n",
       "...                 ...                             ...   ...  \n",
       "515733  Stayed 2 nights  Submitted from a mobile device  None  \n",
       "515734  Stayed 4 nights  Submitted from a mobile device  None  \n",
       "515735   Stayed 1 night                            None  None  \n",
       "515736  Stayed 2 nights                            None  None  \n",
       "515737  Stayed 4 nights                            None  None  \n",
       "\n",
       "[515738 rows x 6 columns]"
      ]
     },
     "metadata": {},
     "output_type": "display_data"
    }
   ],
   "source": [
    "# определим функцию для выделения отдельных тегов из признака tags:\n",
    "def tags(string):\n",
    "    string = string.replace('[', '').replace(']', '')\n",
    "    string = string.replace(\"' \", '').replace(\" '\", '')\n",
    "    tags_list = string.split(',')\n",
    "    tags_list = list(map(lambda x: x.strip(), tags_list))\n",
    "    return tags_list\n",
    "# применим данную функцию к значениям признака tags:  \n",
    "df = pd.DataFrame(hotels['tags'].apply(tags).to_list(), index=hotels.index)\n",
    "display(df)"
   ]
  },
  {
   "cell_type": "markdown",
   "metadata": {},
   "source": [
    "Видим, что максимальное количество тэгов = 6.   \n",
    "Считаю, что оказывающими влияние на оценку рецензента являются первые два, характерезующие тип путешествия и состав группы путешественников.  \n",
    "Создадим для них отдельные признаки."
   ]
  },
  {
   "cell_type": "code",
   "execution_count": 24,
   "metadata": {},
   "outputs": [
    {
     "data": {
      "text/html": [
       "<div>\n",
       "<style scoped>\n",
       "    .dataframe tbody tr th:only-of-type {\n",
       "        vertical-align: middle;\n",
       "    }\n",
       "\n",
       "    .dataframe tbody tr th {\n",
       "        vertical-align: top;\n",
       "    }\n",
       "\n",
       "    .dataframe thead th {\n",
       "        text-align: right;\n",
       "    }\n",
       "</style>\n",
       "<table border=\"1\" class=\"dataframe\">\n",
       "  <thead>\n",
       "    <tr style=\"text-align: right;\">\n",
       "      <th></th>\n",
       "      <th>additional_number_of_scoring</th>\n",
       "      <th>review_date</th>\n",
       "      <th>average_score</th>\n",
       "      <th>hotel_name</th>\n",
       "      <th>negative_review</th>\n",
       "      <th>review_total_negative_word_counts</th>\n",
       "      <th>total_number_of_reviews</th>\n",
       "      <th>positive_review</th>\n",
       "      <th>review_total_positive_word_counts</th>\n",
       "      <th>total_number_of_reviews_reviewer_has_given</th>\n",
       "      <th>...</th>\n",
       "      <th>hotel_country</th>\n",
       "      <th>hotel_city</th>\n",
       "      <th>hotel_country_code</th>\n",
       "      <th>reviewer_resident</th>\n",
       "      <th>reviewer_nationality_code</th>\n",
       "      <th>Leisure trip</th>\n",
       "      <th>Business trip</th>\n",
       "      <th>Couple</th>\n",
       "      <th>Group</th>\n",
       "      <th>Solo traveler</th>\n",
       "    </tr>\n",
       "  </thead>\n",
       "  <tbody>\n",
       "    <tr>\n",
       "      <th>0</th>\n",
       "      <td>904</td>\n",
       "      <td>7/21/2017</td>\n",
       "      <td>8.1</td>\n",
       "      <td>Hotel Da Vinci</td>\n",
       "      <td>Would have appreciated a shop in the hotel th...</td>\n",
       "      <td>52</td>\n",
       "      <td>16670</td>\n",
       "      <td>Hotel was great clean friendly staff free bre...</td>\n",
       "      <td>62</td>\n",
       "      <td>1</td>\n",
       "      <td>...</td>\n",
       "      <td>Italy</td>\n",
       "      <td>Milan</td>\n",
       "      <td>2</td>\n",
       "      <td>0</td>\n",
       "      <td>214</td>\n",
       "      <td>1</td>\n",
       "      <td>0</td>\n",
       "      <td>1</td>\n",
       "      <td>0</td>\n",
       "      <td>0</td>\n",
       "    </tr>\n",
       "    <tr>\n",
       "      <th>1</th>\n",
       "      <td>612</td>\n",
       "      <td>12/12/2016</td>\n",
       "      <td>8.6</td>\n",
       "      <td>Urban Lodge Hotel</td>\n",
       "      <td>No tissue paper box was present at the room</td>\n",
       "      <td>10</td>\n",
       "      <td>5018</td>\n",
       "      <td>No Positive</td>\n",
       "      <td>0</td>\n",
       "      <td>7</td>\n",
       "      <td>...</td>\n",
       "      <td>Netherlands</td>\n",
       "      <td>Amsterdam</td>\n",
       "      <td>3</td>\n",
       "      <td>0</td>\n",
       "      <td>22</td>\n",
       "      <td>1</td>\n",
       "      <td>0</td>\n",
       "      <td>0</td>\n",
       "      <td>1</td>\n",
       "      <td>0</td>\n",
       "    </tr>\n",
       "    <tr>\n",
       "      <th>2</th>\n",
       "      <td>46</td>\n",
       "      <td>11/26/2015</td>\n",
       "      <td>8.3</td>\n",
       "      <td>Alexandra Barcelona A DoubleTree by Hilton</td>\n",
       "      <td>Pillows</td>\n",
       "      <td>3</td>\n",
       "      <td>351</td>\n",
       "      <td>Nice welcoming and service</td>\n",
       "      <td>5</td>\n",
       "      <td>15</td>\n",
       "      <td>...</td>\n",
       "      <td>Spain</td>\n",
       "      <td>Barcelona</td>\n",
       "      <td>4</td>\n",
       "      <td>0</td>\n",
       "      <td>196</td>\n",
       "      <td>0</td>\n",
       "      <td>1</td>\n",
       "      <td>0</td>\n",
       "      <td>0</td>\n",
       "      <td>1</td>\n",
       "    </tr>\n",
       "    <tr>\n",
       "      <th>3</th>\n",
       "      <td>241</td>\n",
       "      <td>10/17/2015</td>\n",
       "      <td>9.1</td>\n",
       "      <td>Hotel Principe Di Savoia</td>\n",
       "      <td>No Negative</td>\n",
       "      <td>0</td>\n",
       "      <td>1543</td>\n",
       "      <td>Everything including the nice upgrade The Hot...</td>\n",
       "      <td>27</td>\n",
       "      <td>9</td>\n",
       "      <td>...</td>\n",
       "      <td>Italy</td>\n",
       "      <td>Milan</td>\n",
       "      <td>2</td>\n",
       "      <td>0</td>\n",
       "      <td>216</td>\n",
       "      <td>1</td>\n",
       "      <td>0</td>\n",
       "      <td>1</td>\n",
       "      <td>0</td>\n",
       "      <td>0</td>\n",
       "    </tr>\n",
       "    <tr>\n",
       "      <th>4</th>\n",
       "      <td>834</td>\n",
       "      <td>5/16/2016</td>\n",
       "      <td>9.1</td>\n",
       "      <td>Hotel Esther a</td>\n",
       "      <td>No Negative</td>\n",
       "      <td>0</td>\n",
       "      <td>4687</td>\n",
       "      <td>Lovely hotel v welcoming staff</td>\n",
       "      <td>7</td>\n",
       "      <td>2</td>\n",
       "      <td>...</td>\n",
       "      <td>Netherlands</td>\n",
       "      <td>Amsterdam</td>\n",
       "      <td>3</td>\n",
       "      <td>0</td>\n",
       "      <td>214</td>\n",
       "      <td>0</td>\n",
       "      <td>1</td>\n",
       "      <td>0</td>\n",
       "      <td>0</td>\n",
       "      <td>1</td>\n",
       "    </tr>\n",
       "  </tbody>\n",
       "</table>\n",
       "<p>5 rows × 26 columns</p>\n",
       "</div>"
      ],
      "text/plain": [
       "   additional_number_of_scoring review_date  average_score  \\\n",
       "0                           904   7/21/2017            8.1   \n",
       "1                           612  12/12/2016            8.6   \n",
       "2                            46  11/26/2015            8.3   \n",
       "3                           241  10/17/2015            9.1   \n",
       "4                           834   5/16/2016            9.1   \n",
       "\n",
       "                                   hotel_name  \\\n",
       "0                              Hotel Da Vinci   \n",
       "1                           Urban Lodge Hotel   \n",
       "2  Alexandra Barcelona A DoubleTree by Hilton   \n",
       "3                    Hotel Principe Di Savoia   \n",
       "4                              Hotel Esther a   \n",
       "\n",
       "                                     negative_review  \\\n",
       "0   Would have appreciated a shop in the hotel th...   \n",
       "1        No tissue paper box was present at the room   \n",
       "2                                           Pillows    \n",
       "3                                        No Negative   \n",
       "4                                        No Negative   \n",
       "\n",
       "   review_total_negative_word_counts  total_number_of_reviews  \\\n",
       "0                                 52                    16670   \n",
       "1                                 10                     5018   \n",
       "2                                  3                      351   \n",
       "3                                  0                     1543   \n",
       "4                                  0                     4687   \n",
       "\n",
       "                                     positive_review  \\\n",
       "0   Hotel was great clean friendly staff free bre...   \n",
       "1                                        No Positive   \n",
       "2                         Nice welcoming and service   \n",
       "3   Everything including the nice upgrade The Hot...   \n",
       "4                    Lovely hotel v welcoming staff    \n",
       "\n",
       "   review_total_positive_word_counts  \\\n",
       "0                                 62   \n",
       "1                                  0   \n",
       "2                                  5   \n",
       "3                                 27   \n",
       "4                                  7   \n",
       "\n",
       "   total_number_of_reviews_reviewer_has_given  ... hotel_country hotel_city  \\\n",
       "0                                           1  ...         Italy      Milan   \n",
       "1                                           7  ...   Netherlands  Amsterdam   \n",
       "2                                          15  ...         Spain  Barcelona   \n",
       "3                                           9  ...         Italy      Milan   \n",
       "4                                           2  ...   Netherlands  Amsterdam   \n",
       "\n",
       "   hotel_country_code  reviewer_resident  reviewer_nationality_code  \\\n",
       "0                   2                  0                        214   \n",
       "1                   3                  0                         22   \n",
       "2                   4                  0                        196   \n",
       "3                   2                  0                        216   \n",
       "4                   3                  0                        214   \n",
       "\n",
       "   Leisure trip Business trip Couple  Group  Solo traveler  \n",
       "0             1             0      1      0              0  \n",
       "1             1             0      0      1              0  \n",
       "2             0             1      0      0              1  \n",
       "3             1             0      1      0              0  \n",
       "4             0             1      0      0              1  \n",
       "\n",
       "[5 rows x 26 columns]"
      ]
     },
     "execution_count": 24,
     "metadata": {},
     "output_type": "execute_result"
    }
   ],
   "source": [
    "# воспользуемся функцией-мигалкой для поиска ключевых слов в признаке tags:  \n",
    "def get_flasher(data, key):\n",
    "    \"\"\"Алгоритм проверки наличия ключевого слова в исходном признаке ('tags')\n",
    "\n",
    "    Args:\n",
    "        data (object): исходный признак потенциально содержащий ключевое слово\n",
    "        key (str): ключевое слово\n",
    "\n",
    "    Returns:\n",
    "        int: признак наличия ключевого слова в признаке\n",
    "    \"\"\"  \n",
    "    # Получение признака-мигалки:   \n",
    "    if key in str(data):\n",
    "        return 1\n",
    "    else:\n",
    "        return 0\n",
    "    \n",
    "# Теперь применим эту функцию к столбцу tags \n",
    "# в качестве аргумента передадим ключевое слово:  \n",
    "key_words = ['Leisure trip','Business trip', 'Couple', 'Group', 'Solo traveler']\n",
    "for key_word in key_words:\n",
    "    hotels[key_word] = hotels['tags'].apply(get_flasher, key=key_word) \n",
    "hotels.head()"
   ]
  },
  {
   "cell_type": "code",
   "execution_count": 25,
   "metadata": {},
   "outputs": [],
   "source": [
    "# удалим нечисловой признак tags\n",
    "hotels = hotels.drop(['tags'], axis=1) "
   ]
  },
  {
   "cell_type": "markdown",
   "metadata": {},
   "source": [
    "_____________________________________________"
   ]
  },
  {
   "cell_type": "markdown",
   "metadata": {},
   "source": [
    "### lat, lng (географическая широта и долгота отеля)"
   ]
  },
  {
   "cell_type": "markdown",
   "metadata": {},
   "source": [
    "Одной из основных характеристик отеля является удаленрность от центра города (соответственно удаленность от основаных достопримечательностей).\n"
   ]
  },
  {
   "cell_type": "markdown",
   "metadata": {},
   "source": [
    "Выясним у каких отелей отсуствуют координаты:"
   ]
  },
  {
   "cell_type": "code",
   "execution_count": 26,
   "metadata": {},
   "outputs": [
    {
     "name": "stdout",
     "output_type": "stream",
     "text": [
      "Fleming s Selection Hotel Wien City                 658\n",
      "Hotel City Central                                  563\n",
      "Hotel Atlanta                                       389\n",
      "Maison Albar Hotel Paris Op ra Diamond              290\n",
      "Hotel Daniel Vienna                                 245\n",
      "Hotel Pension Baron am Schottentor                  223\n",
      "Austria Trend Hotel Schloss Wilhelminenberg Wien    194\n",
      "Derag Livinghotel Kaiser Franz Joseph Vienna        147\n",
      "NH Collection Barcelona Podium                      146\n",
      "City Hotel Deutschmeister                            93\n",
      "Hotel Park Villa                                     61\n",
      "Cordial Theaterhotel Wien                            57\n",
      "Holiday Inn Paris Montmartre                         55\n",
      "Roomz Vienna                                         49\n",
      "Mercure Paris Gare Montparnasse                      37\n",
      "Renaissance Barcelona Hotel                          33\n",
      "Hotel Advance                                        28\n",
      "Name: hotel_name, dtype: int64\n"
     ]
    }
   ],
   "source": [
    "print (hotels[(hotels['lat'].isnull() == True) | (hotels['lng'].isnull() == True)]['hotel_name'].value_counts())"
   ]
  },
  {
   "cell_type": "markdown",
   "metadata": {},
   "source": [
    "Для поиска географических координат по названию отеля воспользуемся сервисом \n",
    "https://yandex.ru/maps/"
   ]
  },
  {
   "cell_type": "code",
   "execution_count": 27,
   "metadata": {},
   "outputs": [
    {
     "data": {
      "text/html": [
       "<div>\n",
       "<style scoped>\n",
       "    .dataframe tbody tr th:only-of-type {\n",
       "        vertical-align: middle;\n",
       "    }\n",
       "\n",
       "    .dataframe tbody tr th {\n",
       "        vertical-align: top;\n",
       "    }\n",
       "\n",
       "    .dataframe thead th {\n",
       "        text-align: right;\n",
       "    }\n",
       "</style>\n",
       "<table border=\"1\" class=\"dataframe\">\n",
       "  <thead>\n",
       "    <tr style=\"text-align: right;\">\n",
       "      <th></th>\n",
       "      <th>hotel_name</th>\n",
       "      <th>lat</th>\n",
       "      <th>lng</th>\n",
       "    </tr>\n",
       "  </thead>\n",
       "  <tbody>\n",
       "    <tr>\n",
       "      <th>0</th>\n",
       "      <td>Fleming s Selection Hotel Wien City</td>\n",
       "      <td>48.209912</td>\n",
       "      <td>16.353475</td>\n",
       "    </tr>\n",
       "    <tr>\n",
       "      <th>1</th>\n",
       "      <td>Hotel City Central</td>\n",
       "      <td>48.213820</td>\n",
       "      <td>16.379940</td>\n",
       "    </tr>\n",
       "    <tr>\n",
       "      <th>2</th>\n",
       "      <td>Hotel Atlanta</td>\n",
       "      <td>48.220582</td>\n",
       "      <td>16.355839</td>\n",
       "    </tr>\n",
       "    <tr>\n",
       "      <th>3</th>\n",
       "      <td>Maison Albar Hotel Paris Op ra Diamond</td>\n",
       "      <td>48.875552</td>\n",
       "      <td>2.323406</td>\n",
       "    </tr>\n",
       "    <tr>\n",
       "      <th>4</th>\n",
       "      <td>Hotel Daniel Vienna</td>\n",
       "      <td>48.201786</td>\n",
       "      <td>16.383623</td>\n",
       "    </tr>\n",
       "  </tbody>\n",
       "</table>\n",
       "</div>"
      ],
      "text/plain": [
       "                               hotel_name        lat        lng\n",
       "0     Fleming s Selection Hotel Wien City  48.209912  16.353475\n",
       "1                      Hotel City Central  48.213820  16.379940\n",
       "2                           Hotel Atlanta  48.220582  16.355839\n",
       "3  Maison Albar Hotel Paris Op ra Diamond  48.875552   2.323406\n",
       "4                     Hotel Daniel Vienna  48.201786  16.383623"
      ]
     },
     "execution_count": 27,
     "metadata": {},
     "output_type": "execute_result"
    }
   ],
   "source": [
    "# сформируем датафрейм с координатами данных отелей\n",
    "hotels_coord = pd.DataFrame(\n",
    "    data = [\n",
    "        ['Fleming s Selection Hotel Wien City', 48.209912, 16.353475],\n",
    "        ['Hotel City Central', 48.213820, 16.379940],\n",
    "        ['Hotel Atlanta', 48.220582, 16.355839],\n",
    "        ['Maison Albar Hotel Paris Op ra Diamond', 48.875552, 2.323406],\n",
    "        ['Hotel Daniel Vienna', 48.201786, 16.383623],\n",
    "        ['Hotel Pension Baron am Schottentor', 48.217565, 16.359898],\n",
    "        ['Austria Trend Hotel Schloss Wilhelminenberg Wien', 48.230262, 16.288146],\n",
    "        ['Derag Livinghotel Kaiser Franz Joseph Vienna', 48.247220, 16.341362],\n",
    "        ['NH Collection Barcelona Podium', 41.391870, 2.177931],\n",
    "        ['City Hotel Deutschmeister', 48.221165, 16.366697],\n",
    "        ['Hotel Park Villa', 48.233680, 16.345611],\n",
    "        ['Cordial Theaterhotel Wien', 48.209970, 16.351540],\n",
    "        ['Holiday Inn Paris Montmartre', 48.889344, 2.333228],\n",
    "        ['Roomz Vienna', 48.227727, 16.394500],\n",
    "        ['Mercure Paris Gare Montparnasse', 48.839648, 2.323477],\n",
    "        ['Renaissance Barcelona Hotel', 41.392344, 2.167550],\n",
    "        ['Hotel Advance', 41.383836, 2.163012]\n",
    "    ],\n",
    "    columns= ['hotel_name', 'lat', 'lng']\n",
    ")\n",
    "hotels_coord.head()"
   ]
  },
  {
   "cell_type": "markdown",
   "metadata": {},
   "source": [
    "Дополним данными о координатах этих отелей основной датасет:"
   ]
  },
  {
   "cell_type": "code",
   "execution_count": 28,
   "metadata": {},
   "outputs": [],
   "source": [
    "for index_1, hotel_name_1 in enumerate (hotels_coord['hotel_name']):\n",
    "    for index_2, hotel_name_2 in enumerate (hotels['hotel_name']):\n",
    "        if hotel_name_1 == hotel_name_2:\n",
    "            hotels.loc[index_2,'lat'] = hotels_coord.loc[index_1,'lat']\n",
    "            hotels.loc[index_2,'lng'] = hotels_coord.loc[index_1,'lng']"
   ]
  },
  {
   "cell_type": "markdown",
   "metadata": {},
   "source": [
    "Проверим еще раз остались ли отели с резаполненными координатами:"
   ]
  },
  {
   "cell_type": "code",
   "execution_count": 29,
   "metadata": {},
   "outputs": [
    {
     "name": "stdout",
     "output_type": "stream",
     "text": [
      "Series([], Name: hotel_name, dtype: int64)\n"
     ]
    }
   ],
   "source": [
    "print (hotels[(hotels['lat'].isnull() == True) | (hotels['lng'].isnull() == True)]['hotel_name'].value_counts())"
   ]
  },
  {
   "cell_type": "code",
   "execution_count": 30,
   "metadata": {},
   "outputs": [
    {
     "data": {
      "text/html": [
       "<div>\n",
       "<style scoped>\n",
       "    .dataframe tbody tr th:only-of-type {\n",
       "        vertical-align: middle;\n",
       "    }\n",
       "\n",
       "    .dataframe tbody tr th {\n",
       "        vertical-align: top;\n",
       "    }\n",
       "\n",
       "    .dataframe thead th {\n",
       "        text-align: right;\n",
       "    }\n",
       "</style>\n",
       "<table border=\"1\" class=\"dataframe\">\n",
       "  <thead>\n",
       "    <tr style=\"text-align: right;\">\n",
       "      <th></th>\n",
       "      <th>additional_number_of_scoring</th>\n",
       "      <th>review_date</th>\n",
       "      <th>average_score</th>\n",
       "      <th>hotel_name</th>\n",
       "      <th>negative_review</th>\n",
       "      <th>review_total_negative_word_counts</th>\n",
       "      <th>total_number_of_reviews</th>\n",
       "      <th>positive_review</th>\n",
       "      <th>review_total_positive_word_counts</th>\n",
       "      <th>total_number_of_reviews_reviewer_has_given</th>\n",
       "      <th>...</th>\n",
       "      <th>hotel_country</th>\n",
       "      <th>hotel_city</th>\n",
       "      <th>hotel_country_code</th>\n",
       "      <th>reviewer_resident</th>\n",
       "      <th>reviewer_nationality_code</th>\n",
       "      <th>Leisure trip</th>\n",
       "      <th>Business trip</th>\n",
       "      <th>Couple</th>\n",
       "      <th>Group</th>\n",
       "      <th>Solo traveler</th>\n",
       "    </tr>\n",
       "  </thead>\n",
       "  <tbody>\n",
       "    <tr>\n",
       "      <th>35</th>\n",
       "      <td>214</td>\n",
       "      <td>10/13/2016</td>\n",
       "      <td>7.8</td>\n",
       "      <td>Hotel Atlanta</td>\n",
       "      <td>The reception staff are somewhat dour and cou...</td>\n",
       "      <td>21</td>\n",
       "      <td>2724</td>\n",
       "      <td>The hotel is pretty from the outside and quai...</td>\n",
       "      <td>60</td>\n",
       "      <td>64</td>\n",
       "      <td>...</td>\n",
       "      <td>Austria</td>\n",
       "      <td>Vienna</td>\n",
       "      <td>0</td>\n",
       "      <td>0</td>\n",
       "      <td>14</td>\n",
       "      <td>1</td>\n",
       "      <td>0</td>\n",
       "      <td>1</td>\n",
       "      <td>0</td>\n",
       "      <td>0</td>\n",
       "    </tr>\n",
       "    <tr>\n",
       "      <th>293</th>\n",
       "      <td>214</td>\n",
       "      <td>8/20/2015</td>\n",
       "      <td>7.8</td>\n",
       "      <td>Hotel Atlanta</td>\n",
       "      <td>It is an old hotel with old furniture The roo...</td>\n",
       "      <td>26</td>\n",
       "      <td>2724</td>\n",
       "      <td>The price and the service</td>\n",
       "      <td>7</td>\n",
       "      <td>17</td>\n",
       "      <td>...</td>\n",
       "      <td>Austria</td>\n",
       "      <td>Vienna</td>\n",
       "      <td>0</td>\n",
       "      <td>0</td>\n",
       "      <td>196</td>\n",
       "      <td>1</td>\n",
       "      <td>0</td>\n",
       "      <td>0</td>\n",
       "      <td>0</td>\n",
       "      <td>0</td>\n",
       "    </tr>\n",
       "    <tr>\n",
       "      <th>476</th>\n",
       "      <td>44</td>\n",
       "      <td>5/1/2017</td>\n",
       "      <td>8.0</td>\n",
       "      <td>City Hotel Deutschmeister</td>\n",
       "      <td>WIFI is low speed</td>\n",
       "      <td>5</td>\n",
       "      <td>675</td>\n",
       "      <td>Good room good breakfast and good service</td>\n",
       "      <td>9</td>\n",
       "      <td>1</td>\n",
       "      <td>...</td>\n",
       "      <td>Austria</td>\n",
       "      <td>Vienna</td>\n",
       "      <td>0</td>\n",
       "      <td>0</td>\n",
       "      <td>199</td>\n",
       "      <td>1</td>\n",
       "      <td>0</td>\n",
       "      <td>0</td>\n",
       "      <td>1</td>\n",
       "      <td>0</td>\n",
       "    </tr>\n",
       "    <tr>\n",
       "      <th>526</th>\n",
       "      <td>21</td>\n",
       "      <td>9/14/2015</td>\n",
       "      <td>8.3</td>\n",
       "      <td>Holiday Inn Paris Montmartre</td>\n",
       "      <td>No Negative</td>\n",
       "      <td>0</td>\n",
       "      <td>298</td>\n",
       "      <td>Helpful staff Breakfast plenty of choice Nice...</td>\n",
       "      <td>9</td>\n",
       "      <td>1</td>\n",
       "      <td>...</td>\n",
       "      <td>France</td>\n",
       "      <td>Paris</td>\n",
       "      <td>1</td>\n",
       "      <td>0</td>\n",
       "      <td>216</td>\n",
       "      <td>1</td>\n",
       "      <td>0</td>\n",
       "      <td>1</td>\n",
       "      <td>0</td>\n",
       "      <td>0</td>\n",
       "    </tr>\n",
       "    <tr>\n",
       "      <th>569</th>\n",
       "      <td>333</td>\n",
       "      <td>6/4/2016</td>\n",
       "      <td>8.3</td>\n",
       "      <td>Fleming s Selection Hotel Wien City</td>\n",
       "      <td>Food quality and price private shower bathroo...</td>\n",
       "      <td>25</td>\n",
       "      <td>3672</td>\n",
       "      <td>Location was good for walking into Vienna cen...</td>\n",
       "      <td>10</td>\n",
       "      <td>9</td>\n",
       "      <td>...</td>\n",
       "      <td>Austria</td>\n",
       "      <td>Vienna</td>\n",
       "      <td>0</td>\n",
       "      <td>0</td>\n",
       "      <td>214</td>\n",
       "      <td>1</td>\n",
       "      <td>0</td>\n",
       "      <td>1</td>\n",
       "      <td>0</td>\n",
       "      <td>0</td>\n",
       "    </tr>\n",
       "    <tr>\n",
       "      <th>...</th>\n",
       "      <td>...</td>\n",
       "      <td>...</td>\n",
       "      <td>...</td>\n",
       "      <td>...</td>\n",
       "      <td>...</td>\n",
       "      <td>...</td>\n",
       "      <td>...</td>\n",
       "      <td>...</td>\n",
       "      <td>...</td>\n",
       "      <td>...</td>\n",
       "      <td>...</td>\n",
       "      <td>...</td>\n",
       "      <td>...</td>\n",
       "      <td>...</td>\n",
       "      <td>...</td>\n",
       "      <td>...</td>\n",
       "      <td>...</td>\n",
       "      <td>...</td>\n",
       "      <td>...</td>\n",
       "      <td>...</td>\n",
       "      <td>...</td>\n",
       "    </tr>\n",
       "    <tr>\n",
       "      <th>515027</th>\n",
       "      <td>211</td>\n",
       "      <td>3/19/2017</td>\n",
       "      <td>8.6</td>\n",
       "      <td>Hotel City Central</td>\n",
       "      <td>Room could have been bigger slightly cramped ...</td>\n",
       "      <td>11</td>\n",
       "      <td>2923</td>\n",
       "      <td>Friendly and very helpful staff</td>\n",
       "      <td>7</td>\n",
       "      <td>2</td>\n",
       "      <td>...</td>\n",
       "      <td>Austria</td>\n",
       "      <td>Vienna</td>\n",
       "      <td>0</td>\n",
       "      <td>0</td>\n",
       "      <td>94</td>\n",
       "      <td>0</td>\n",
       "      <td>1</td>\n",
       "      <td>0</td>\n",
       "      <td>0</td>\n",
       "      <td>1</td>\n",
       "    </tr>\n",
       "    <tr>\n",
       "      <th>515400</th>\n",
       "      <td>211</td>\n",
       "      <td>7/4/2017</td>\n",
       "      <td>8.6</td>\n",
       "      <td>Hotel City Central</td>\n",
       "      <td>Very expensive parking We thought it was 24 f...</td>\n",
       "      <td>24</td>\n",
       "      <td>2923</td>\n",
       "      <td>Central location and excellent breakfast</td>\n",
       "      <td>6</td>\n",
       "      <td>10</td>\n",
       "      <td>...</td>\n",
       "      <td>Austria</td>\n",
       "      <td>Vienna</td>\n",
       "      <td>0</td>\n",
       "      <td>0</td>\n",
       "      <td>214</td>\n",
       "      <td>1</td>\n",
       "      <td>0</td>\n",
       "      <td>1</td>\n",
       "      <td>0</td>\n",
       "      <td>0</td>\n",
       "    </tr>\n",
       "    <tr>\n",
       "      <th>515439</th>\n",
       "      <td>172</td>\n",
       "      <td>7/10/2017</td>\n",
       "      <td>8.8</td>\n",
       "      <td>Maison Albar Hotel Paris Op ra Diamond</td>\n",
       "      <td>The rooms were a little small</td>\n",
       "      <td>7</td>\n",
       "      <td>1524</td>\n",
       "      <td>The staff were extremely helpful and friendly...</td>\n",
       "      <td>20</td>\n",
       "      <td>4</td>\n",
       "      <td>...</td>\n",
       "      <td>France</td>\n",
       "      <td>Paris</td>\n",
       "      <td>1</td>\n",
       "      <td>0</td>\n",
       "      <td>19</td>\n",
       "      <td>1</td>\n",
       "      <td>0</td>\n",
       "      <td>0</td>\n",
       "      <td>0</td>\n",
       "      <td>0</td>\n",
       "    </tr>\n",
       "    <tr>\n",
       "      <th>515637</th>\n",
       "      <td>211</td>\n",
       "      <td>11/7/2016</td>\n",
       "      <td>8.6</td>\n",
       "      <td>Hotel City Central</td>\n",
       "      <td>No Negative</td>\n",
       "      <td>0</td>\n",
       "      <td>2923</td>\n",
       "      <td>Great location close to a metro station and c...</td>\n",
       "      <td>19</td>\n",
       "      <td>6</td>\n",
       "      <td>...</td>\n",
       "      <td>Austria</td>\n",
       "      <td>Vienna</td>\n",
       "      <td>0</td>\n",
       "      <td>0</td>\n",
       "      <td>101</td>\n",
       "      <td>0</td>\n",
       "      <td>1</td>\n",
       "      <td>0</td>\n",
       "      <td>0</td>\n",
       "      <td>1</td>\n",
       "    </tr>\n",
       "    <tr>\n",
       "      <th>515699</th>\n",
       "      <td>214</td>\n",
       "      <td>7/10/2017</td>\n",
       "      <td>7.8</td>\n",
       "      <td>Hotel Atlanta</td>\n",
       "      <td>the only suggestion is to gradually introduce...</td>\n",
       "      <td>14</td>\n",
       "      <td>2724</td>\n",
       "      <td>The one staff member mr P was extremely helpf...</td>\n",
       "      <td>34</td>\n",
       "      <td>10</td>\n",
       "      <td>...</td>\n",
       "      <td>Austria</td>\n",
       "      <td>Vienna</td>\n",
       "      <td>0</td>\n",
       "      <td>0</td>\n",
       "      <td>185</td>\n",
       "      <td>0</td>\n",
       "      <td>1</td>\n",
       "      <td>0</td>\n",
       "      <td>0</td>\n",
       "      <td>0</td>\n",
       "    </tr>\n",
       "  </tbody>\n",
       "</table>\n",
       "<p>3268 rows × 25 columns</p>\n",
       "</div>"
      ],
      "text/plain": [
       "        additional_number_of_scoring review_date  average_score  \\\n",
       "35                               214  10/13/2016            7.8   \n",
       "293                              214   8/20/2015            7.8   \n",
       "476                               44    5/1/2017            8.0   \n",
       "526                               21   9/14/2015            8.3   \n",
       "569                              333    6/4/2016            8.3   \n",
       "...                              ...         ...            ...   \n",
       "515027                           211   3/19/2017            8.6   \n",
       "515400                           211    7/4/2017            8.6   \n",
       "515439                           172   7/10/2017            8.8   \n",
       "515637                           211   11/7/2016            8.6   \n",
       "515699                           214   7/10/2017            7.8   \n",
       "\n",
       "                                    hotel_name  \\\n",
       "35                               Hotel Atlanta   \n",
       "293                              Hotel Atlanta   \n",
       "476                  City Hotel Deutschmeister   \n",
       "526               Holiday Inn Paris Montmartre   \n",
       "569        Fleming s Selection Hotel Wien City   \n",
       "...                                        ...   \n",
       "515027                      Hotel City Central   \n",
       "515400                      Hotel City Central   \n",
       "515439  Maison Albar Hotel Paris Op ra Diamond   \n",
       "515637                      Hotel City Central   \n",
       "515699                           Hotel Atlanta   \n",
       "\n",
       "                                          negative_review  \\\n",
       "35       The reception staff are somewhat dour and cou...   \n",
       "293      It is an old hotel with old furniture The roo...   \n",
       "476                                     WIFI is low speed   \n",
       "526                                           No Negative   \n",
       "569      Food quality and price private shower bathroo...   \n",
       "...                                                   ...   \n",
       "515027   Room could have been bigger slightly cramped ...   \n",
       "515400   Very expensive parking We thought it was 24 f...   \n",
       "515439                      The rooms were a little small   \n",
       "515637                                        No Negative   \n",
       "515699   the only suggestion is to gradually introduce...   \n",
       "\n",
       "        review_total_negative_word_counts  total_number_of_reviews  \\\n",
       "35                                     21                     2724   \n",
       "293                                    26                     2724   \n",
       "476                                     5                      675   \n",
       "526                                     0                      298   \n",
       "569                                    25                     3672   \n",
       "...                                   ...                      ...   \n",
       "515027                                 11                     2923   \n",
       "515400                                 24                     2923   \n",
       "515439                                  7                     1524   \n",
       "515637                                  0                     2923   \n",
       "515699                                 14                     2724   \n",
       "\n",
       "                                          positive_review  \\\n",
       "35       The hotel is pretty from the outside and quai...   \n",
       "293                            The price and the service    \n",
       "476            Good room good breakfast and good service    \n",
       "526      Helpful staff Breakfast plenty of choice Nice...   \n",
       "569      Location was good for walking into Vienna cen...   \n",
       "...                                                   ...   \n",
       "515027                   Friendly and very helpful staff    \n",
       "515400           Central location and excellent breakfast   \n",
       "515439   The staff were extremely helpful and friendly...   \n",
       "515637   Great location close to a metro station and c...   \n",
       "515699   The one staff member mr P was extremely helpf...   \n",
       "\n",
       "        review_total_positive_word_counts  \\\n",
       "35                                     60   \n",
       "293                                     7   \n",
       "476                                     9   \n",
       "526                                     9   \n",
       "569                                    10   \n",
       "...                                   ...   \n",
       "515027                                  7   \n",
       "515400                                  6   \n",
       "515439                                 20   \n",
       "515637                                 19   \n",
       "515699                                 34   \n",
       "\n",
       "        total_number_of_reviews_reviewer_has_given  ... hotel_country  \\\n",
       "35                                              64  ...       Austria   \n",
       "293                                             17  ...       Austria   \n",
       "476                                              1  ...       Austria   \n",
       "526                                              1  ...        France   \n",
       "569                                              9  ...       Austria   \n",
       "...                                            ...  ...           ...   \n",
       "515027                                           2  ...       Austria   \n",
       "515400                                          10  ...       Austria   \n",
       "515439                                           4  ...        France   \n",
       "515637                                           6  ...       Austria   \n",
       "515699                                          10  ...       Austria   \n",
       "\n",
       "        hotel_city  hotel_country_code  reviewer_resident  \\\n",
       "35          Vienna                   0                  0   \n",
       "293         Vienna                   0                  0   \n",
       "476         Vienna                   0                  0   \n",
       "526          Paris                   1                  0   \n",
       "569         Vienna                   0                  0   \n",
       "...            ...                 ...                ...   \n",
       "515027      Vienna                   0                  0   \n",
       "515400      Vienna                   0                  0   \n",
       "515439       Paris                   1                  0   \n",
       "515637      Vienna                   0                  0   \n",
       "515699      Vienna                   0                  0   \n",
       "\n",
       "        reviewer_nationality_code Leisure trip Business trip  Couple  Group  \\\n",
       "35                             14            1             0       1      0   \n",
       "293                           196            1             0       0      0   \n",
       "476                           199            1             0       0      1   \n",
       "526                           216            1             0       1      0   \n",
       "569                           214            1             0       1      0   \n",
       "...                           ...          ...           ...     ...    ...   \n",
       "515027                         94            0             1       0      0   \n",
       "515400                        214            1             0       1      0   \n",
       "515439                         19            1             0       0      0   \n",
       "515637                        101            0             1       0      0   \n",
       "515699                        185            0             1       0      0   \n",
       "\n",
       "        Solo traveler  \n",
       "35                  0  \n",
       "293                 0  \n",
       "476                 0  \n",
       "526                 0  \n",
       "569                 0  \n",
       "...               ...  \n",
       "515027              1  \n",
       "515400              0  \n",
       "515439              0  \n",
       "515637              1  \n",
       "515699              0  \n",
       "\n",
       "[3268 rows x 25 columns]"
      ]
     },
     "execution_count": 30,
     "metadata": {},
     "output_type": "execute_result"
    }
   ],
   "source": [
    "hotels[hotels['hotel_name'].isin(hotels_coord['hotel_name'].to_list())]"
   ]
  },
  {
   "cell_type": "markdown",
   "metadata": {},
   "source": [
    "Для расчета расстояния от отеля до воспользуемся данными о координатах центров городов с сайта  \n",
    "https://time-in.ru/coordinates/  \n",
    "а также формулу:  \n",
    "d = arccos {sin(Фa)·sin(Фb) + cos(Фa)·cos(Фb)·cos(Лa - Лb)}, где Фa и Фb — широты, Лa, Лb — долготы данных пунктов, d — расстояние между пунктами, измеряемое в радианах длиной дуги большого круга земного шара.  \n",
    "Расстояние между пунктами, измеряемое в километрах, определяется по формуле:\n",
    "L = d·R, где R = 6371 км — средний радиус земного шара."
   ]
  },
  {
   "cell_type": "code",
   "execution_count": 31,
   "metadata": {},
   "outputs": [],
   "source": [
    "def km_to_center(hotel_city, lat, lng):\n",
    "    \"\"\"Алгоритм получения расстояния между географическими координатами отеля и центра города\n",
    "\n",
    "    Args:\n",
    "        hotel_city (object): город, в котором раходится отель;\n",
    "        lat (object): географическая широта отеля\n",
    "        lng (object): географическая долгота отеля\n",
    "\n",
    "    Returns:\n",
    "        int: расстояние в км\n",
    "    \"\"\" \n",
    "    # сформируем датафрейм с координатами центров городов\n",
    "    centers = pd.DataFrame(\n",
    "    data = [\n",
    "        ['Austria', 'Vienna', 48.20849, 16.37208],\n",
    "        ['Italy', 'Milan', 45.46427, 9.18951],\n",
    "        ['United Kingdom', 'London', 51.50853, -0.12574],\n",
    "        ['France', 'Paris', 48.85341, 2.34880],\n",
    "        ['Spain', 'Barcelona', 41.38879, 2.15899],\n",
    "        ['Netherlands', 'Amsterdam', 52.37403, 4.88969]\n",
    "    ],\n",
    "    columns= ['country', 'hotel_city', 'lat', 'lng']).set_index('country')\n",
    "    \n",
    "    # зададим формулу для расчета расстояния\n",
    "    d = math.acos((math.sin(centers[centers['hotel_city'] == hotel_city]['lat']*math.pi/180)*math.sin(lat*math.pi/180)) + (math.cos(centers[centers['hotel_city'] == hotel_city]['lat']*math.pi/180)*math.cos(lat*math.pi/180)*math.cos(centers[centers['hotel_city'] == hotel_city]['lng']*math.pi/180-lng*math.pi/180)))\n",
    "    L = round(d*6371, 1)\n",
    "    return L\n",
    "   \n",
    "# применим функцию km_to_center к столбцу 'hotel_city':  \n",
    "hotels['km_to_center'] = hotels.apply(lambda row: km_to_center(row['hotel_city'], row['lat'], row['lng']), axis=1)\n"
   ]
  },
  {
   "cell_type": "code",
   "execution_count": 32,
   "metadata": {},
   "outputs": [
    {
     "data": {
      "text/html": [
       "<div>\n",
       "<style scoped>\n",
       "    .dataframe tbody tr th:only-of-type {\n",
       "        vertical-align: middle;\n",
       "    }\n",
       "\n",
       "    .dataframe tbody tr th {\n",
       "        vertical-align: top;\n",
       "    }\n",
       "\n",
       "    .dataframe thead th {\n",
       "        text-align: right;\n",
       "    }\n",
       "</style>\n",
       "<table border=\"1\" class=\"dataframe\">\n",
       "  <thead>\n",
       "    <tr style=\"text-align: right;\">\n",
       "      <th></th>\n",
       "      <th>additional_number_of_scoring</th>\n",
       "      <th>review_date</th>\n",
       "      <th>average_score</th>\n",
       "      <th>hotel_name</th>\n",
       "      <th>negative_review</th>\n",
       "      <th>review_total_negative_word_counts</th>\n",
       "      <th>total_number_of_reviews</th>\n",
       "      <th>positive_review</th>\n",
       "      <th>review_total_positive_word_counts</th>\n",
       "      <th>total_number_of_reviews_reviewer_has_given</th>\n",
       "      <th>...</th>\n",
       "      <th>hotel_city</th>\n",
       "      <th>hotel_country_code</th>\n",
       "      <th>reviewer_resident</th>\n",
       "      <th>reviewer_nationality_code</th>\n",
       "      <th>Leisure trip</th>\n",
       "      <th>Business trip</th>\n",
       "      <th>Couple</th>\n",
       "      <th>Group</th>\n",
       "      <th>Solo traveler</th>\n",
       "      <th>km_to_center</th>\n",
       "    </tr>\n",
       "  </thead>\n",
       "  <tbody>\n",
       "    <tr>\n",
       "      <th>0</th>\n",
       "      <td>904</td>\n",
       "      <td>7/21/2017</td>\n",
       "      <td>8.1</td>\n",
       "      <td>Hotel Da Vinci</td>\n",
       "      <td>Would have appreciated a shop in the hotel th...</td>\n",
       "      <td>52</td>\n",
       "      <td>16670</td>\n",
       "      <td>Hotel was great clean friendly staff free bre...</td>\n",
       "      <td>62</td>\n",
       "      <td>1</td>\n",
       "      <td>...</td>\n",
       "      <td>Milan</td>\n",
       "      <td>2</td>\n",
       "      <td>0</td>\n",
       "      <td>214</td>\n",
       "      <td>1</td>\n",
       "      <td>0</td>\n",
       "      <td>1</td>\n",
       "      <td>0</td>\n",
       "      <td>0</td>\n",
       "      <td>7.8</td>\n",
       "    </tr>\n",
       "    <tr>\n",
       "      <th>1</th>\n",
       "      <td>612</td>\n",
       "      <td>12/12/2016</td>\n",
       "      <td>8.6</td>\n",
       "      <td>Urban Lodge Hotel</td>\n",
       "      <td>No tissue paper box was present at the room</td>\n",
       "      <td>10</td>\n",
       "      <td>5018</td>\n",
       "      <td>No Positive</td>\n",
       "      <td>0</td>\n",
       "      <td>7</td>\n",
       "      <td>...</td>\n",
       "      <td>Amsterdam</td>\n",
       "      <td>3</td>\n",
       "      <td>0</td>\n",
       "      <td>22</td>\n",
       "      <td>1</td>\n",
       "      <td>0</td>\n",
       "      <td>0</td>\n",
       "      <td>1</td>\n",
       "      <td>0</td>\n",
       "      <td>4.0</td>\n",
       "    </tr>\n",
       "  </tbody>\n",
       "</table>\n",
       "<p>2 rows × 26 columns</p>\n",
       "</div>"
      ],
      "text/plain": [
       "   additional_number_of_scoring review_date  average_score         hotel_name  \\\n",
       "0                           904   7/21/2017            8.1     Hotel Da Vinci   \n",
       "1                           612  12/12/2016            8.6  Urban Lodge Hotel   \n",
       "\n",
       "                                     negative_review  \\\n",
       "0   Would have appreciated a shop in the hotel th...   \n",
       "1        No tissue paper box was present at the room   \n",
       "\n",
       "   review_total_negative_word_counts  total_number_of_reviews  \\\n",
       "0                                 52                    16670   \n",
       "1                                 10                     5018   \n",
       "\n",
       "                                     positive_review  \\\n",
       "0   Hotel was great clean friendly staff free bre...   \n",
       "1                                        No Positive   \n",
       "\n",
       "   review_total_positive_word_counts  \\\n",
       "0                                 62   \n",
       "1                                  0   \n",
       "\n",
       "   total_number_of_reviews_reviewer_has_given  ... hotel_city  \\\n",
       "0                                           1  ...      Milan   \n",
       "1                                           7  ...  Amsterdam   \n",
       "\n",
       "   hotel_country_code  reviewer_resident  reviewer_nationality_code  \\\n",
       "0                   2                  0                        214   \n",
       "1                   3                  0                         22   \n",
       "\n",
       "   Leisure trip Business trip Couple  Group  Solo traveler  km_to_center  \n",
       "0             1             0      1      0              0           7.8  \n",
       "1             1             0      0      1              0           4.0  \n",
       "\n",
       "[2 rows x 26 columns]"
      ]
     },
     "execution_count": 32,
     "metadata": {},
     "output_type": "execute_result"
    }
   ],
   "source": [
    "hotels.head(2)"
   ]
  },
  {
   "cell_type": "code",
   "execution_count": 33,
   "metadata": {},
   "outputs": [],
   "source": [
    "# теперь столбцы с координатами можно удалить:\n",
    "hotels.drop(['lng', 'lat'], axis=1, inplace=True)"
   ]
  },
  {
   "cell_type": "code",
   "execution_count": 34,
   "metadata": {},
   "outputs": [],
   "source": [
    "# также можно удалить нечисловые признаки hotel_city, hotel_country (далее они не используются):\n",
    "hotels = hotels.drop(['hotel_city', 'hotel_country'], axis=1) "
   ]
  },
  {
   "cell_type": "markdown",
   "metadata": {},
   "source": [
    "______________________________________"
   ]
  },
  {
   "cell_type": "markdown",
   "metadata": {},
   "source": [
    "### negative_review, positive_review (отзывы)"
   ]
  },
  {
   "cell_type": "markdown",
   "metadata": {},
   "source": [
    "Для проведения лингвистического анализа отзывов используем модуль Vader."
   ]
  },
  {
   "cell_type": "markdown",
   "metadata": {},
   "source": [
    "В связи с некорректной трактовкой анализатором таких слов как \"No Negative\" и \"No Positive\" и т.д. необходимо внести дополнения в словари рнегативного и позитивного лексикона."
   ]
  },
  {
   "cell_type": "code",
   "execution_count": 35,
   "metadata": {},
   "outputs": [
    {
     "name": "stdout",
     "output_type": "stream",
     "text": [
      "CPU times: total: 3min 4s\n",
      "Wall time: 3min 7s\n"
     ]
    }
   ],
   "source": [
    "%%time\n",
    "# создаем два экземпляра анализатора для  оценки положительных и отрицательных отзывов:\n",
    "sia_positive = SentimentIntensityAnalyzer()\n",
    "sia_negative = SentimentIntensityAnalyzer()\n",
    "\n",
    "# добавим контекст в словари:\n",
    "neg_words = {'small': -1, 'nothing': 10, 'no negative':10, 'none':10, 'all good':10, 'liked everything':10, 'everything was great':10, 'everything was perfect':10, 'no':10, 'non':10, 'can t think of anything':10, 'nil':10, 'na':10}\n",
    "pos_words = {'nothing': -10, 'everything': 10, }\n",
    "sia_negative.lexicon.update(neg_words)\n",
    "sia_positive.lexicon.update(pos_words)\n",
    "\n",
    "# формируем новые признаки c общими результатами оценки:\n",
    "hotels['negative_review_sentiments'] = hotels['negative_review'].apply(lambda x: sia_negative.polarity_scores(x))\n",
    "hotels['positive_review_sentiments'] = hotels['positive_review'].apply(lambda x: sia_positive.polarity_scores(x))\n",
    "\n",
    "# формируем новые признаки для негативного отзыва:\n",
    "hotels['n_review_sentiments_neg'] = hotels['negative_review_sentiments'].apply(lambda x: x['neg'])\n",
    "hotels['n_review_sentiments_neu'] = hotels['negative_review_sentiments'].apply(lambda x: x['neu'])\n",
    "hotels['n_review_sentiments_pos'] = hotels['negative_review_sentiments'].apply(lambda x: x['pos'])\n",
    "hotels['n_review_sentiments_compound'] = hotels['negative_review_sentiments'].apply(lambda x: x['compound'])\n",
    "\n",
    "# формируем новые признаки для позитивного отзыва:\n",
    "hotels['p_review_sentiments_neg'] = hotels['positive_review_sentiments'].apply(lambda x: x['neg'])\n",
    "hotels['p_review_sentiments_neu'] = hotels['positive_review_sentiments'].apply(lambda x: x['neu'])\n",
    "hotels['p_review_sentiments_pos'] = hotels['positive_review_sentiments'].apply(lambda x: x['pos'])\n",
    "hotels['p_review_sentiments_compound'] = hotels['positive_review_sentiments'].apply(lambda x: x['compound'])\n",
    "\n"
   ]
  },
  {
   "cell_type": "code",
   "execution_count": 36,
   "metadata": {},
   "outputs": [],
   "source": [
    "# теперь столбцы с нечисловыми общими результатами оценки:\n",
    "hotels.drop(['positive_review', 'negative_review', 'negative_review_sentiments', 'positive_review_sentiments'], axis=1, inplace=True)"
   ]
  },
  {
   "cell_type": "code",
   "execution_count": 37,
   "metadata": {},
   "outputs": [
    {
     "data": {
      "text/html": [
       "<div>\n",
       "<style scoped>\n",
       "    .dataframe tbody tr th:only-of-type {\n",
       "        vertical-align: middle;\n",
       "    }\n",
       "\n",
       "    .dataframe tbody tr th {\n",
       "        vertical-align: top;\n",
       "    }\n",
       "\n",
       "    .dataframe thead th {\n",
       "        text-align: right;\n",
       "    }\n",
       "</style>\n",
       "<table border=\"1\" class=\"dataframe\">\n",
       "  <thead>\n",
       "    <tr style=\"text-align: right;\">\n",
       "      <th></th>\n",
       "      <th>additional_number_of_scoring</th>\n",
       "      <th>review_date</th>\n",
       "      <th>average_score</th>\n",
       "      <th>hotel_name</th>\n",
       "      <th>review_total_negative_word_counts</th>\n",
       "      <th>total_number_of_reviews</th>\n",
       "      <th>review_total_positive_word_counts</th>\n",
       "      <th>total_number_of_reviews_reviewer_has_given</th>\n",
       "      <th>days_since_review</th>\n",
       "      <th>sample</th>\n",
       "      <th>...</th>\n",
       "      <th>Solo traveler</th>\n",
       "      <th>km_to_center</th>\n",
       "      <th>n_review_sentiments_neg</th>\n",
       "      <th>n_review_sentiments_neu</th>\n",
       "      <th>n_review_sentiments_pos</th>\n",
       "      <th>n_review_sentiments_compound</th>\n",
       "      <th>p_review_sentiments_neg</th>\n",
       "      <th>p_review_sentiments_neu</th>\n",
       "      <th>p_review_sentiments_pos</th>\n",
       "      <th>p_review_sentiments_compound</th>\n",
       "    </tr>\n",
       "  </thead>\n",
       "  <tbody>\n",
       "    <tr>\n",
       "      <th>0</th>\n",
       "      <td>904</td>\n",
       "      <td>7/21/2017</td>\n",
       "      <td>8.1</td>\n",
       "      <td>Hotel Da Vinci</td>\n",
       "      <td>52</td>\n",
       "      <td>16670</td>\n",
       "      <td>62</td>\n",
       "      <td>1</td>\n",
       "      <td>13 days</td>\n",
       "      <td>0</td>\n",
       "      <td>...</td>\n",
       "      <td>0</td>\n",
       "      <td>7.8</td>\n",
       "      <td>0.063</td>\n",
       "      <td>0.602</td>\n",
       "      <td>0.335</td>\n",
       "      <td>0.9738</td>\n",
       "      <td>0.000</td>\n",
       "      <td>0.671</td>\n",
       "      <td>0.329</td>\n",
       "      <td>0.9615</td>\n",
       "    </tr>\n",
       "    <tr>\n",
       "      <th>1</th>\n",
       "      <td>612</td>\n",
       "      <td>12/12/2016</td>\n",
       "      <td>8.6</td>\n",
       "      <td>Urban Lodge Hotel</td>\n",
       "      <td>10</td>\n",
       "      <td>5018</td>\n",
       "      <td>0</td>\n",
       "      <td>7</td>\n",
       "      <td>234 day</td>\n",
       "      <td>0</td>\n",
       "      <td>...</td>\n",
       "      <td>0</td>\n",
       "      <td>4.0</td>\n",
       "      <td>0.000</td>\n",
       "      <td>0.421</td>\n",
       "      <td>0.579</td>\n",
       "      <td>0.9325</td>\n",
       "      <td>0.379</td>\n",
       "      <td>0.000</td>\n",
       "      <td>0.621</td>\n",
       "      <td>0.3400</td>\n",
       "    </tr>\n",
       "  </tbody>\n",
       "</table>\n",
       "<p>2 rows × 28 columns</p>\n",
       "</div>"
      ],
      "text/plain": [
       "   additional_number_of_scoring review_date  average_score         hotel_name  \\\n",
       "0                           904   7/21/2017            8.1     Hotel Da Vinci   \n",
       "1                           612  12/12/2016            8.6  Urban Lodge Hotel   \n",
       "\n",
       "   review_total_negative_word_counts  total_number_of_reviews  \\\n",
       "0                                 52                    16670   \n",
       "1                                 10                     5018   \n",
       "\n",
       "   review_total_positive_word_counts  \\\n",
       "0                                 62   \n",
       "1                                  0   \n",
       "\n",
       "   total_number_of_reviews_reviewer_has_given days_since_review  sample  ...  \\\n",
       "0                                           1           13 days       0  ...   \n",
       "1                                           7           234 day       0  ...   \n",
       "\n",
       "   Solo traveler  km_to_center  n_review_sentiments_neg  \\\n",
       "0              0           7.8                    0.063   \n",
       "1              0           4.0                    0.000   \n",
       "\n",
       "   n_review_sentiments_neu  n_review_sentiments_pos  \\\n",
       "0                    0.602                    0.335   \n",
       "1                    0.421                    0.579   \n",
       "\n",
       "   n_review_sentiments_compound  p_review_sentiments_neg  \\\n",
       "0                        0.9738                    0.000   \n",
       "1                        0.9325                    0.379   \n",
       "\n",
       "   p_review_sentiments_neu  p_review_sentiments_pos  \\\n",
       "0                    0.671                    0.329   \n",
       "1                    0.000                    0.621   \n",
       "\n",
       "   p_review_sentiments_compound  \n",
       "0                        0.9615  \n",
       "1                        0.3400  \n",
       "\n",
       "[2 rows x 28 columns]"
      ]
     },
     "execution_count": 37,
     "metadata": {},
     "output_type": "execute_result"
    }
   ],
   "source": [
    "hotels.head(2)"
   ]
  },
  {
   "cell_type": "markdown",
   "metadata": {},
   "source": [
    "___________________________________"
   ]
  },
  {
   "cell_type": "markdown",
   "metadata": {},
   "source": [
    "### review_date (дата размещения отзыва) "
   ]
  },
  {
   "cell_type": "markdown",
   "metadata": {},
   "source": [
    "Предполагаю, что ни дата размещения отзыва как таковая, ни сезонность даты не влияют на итоговую оценку. Удалим данный признак. "
   ]
  },
  {
   "cell_type": "code",
   "execution_count": 38,
   "metadata": {},
   "outputs": [],
   "source": [
    "# удалим столбец review_date:\n",
    "hotels.drop('review_date', axis=1, inplace=True)"
   ]
  },
  {
   "cell_type": "markdown",
   "metadata": {},
   "source": [
    "____________________________________________"
   ]
  },
  {
   "cell_type": "markdown",
   "metadata": {},
   "source": [
    "### days_since_review (количество дней после отзыва)"
   ]
  },
  {
   "cell_type": "markdown",
   "metadata": {},
   "source": [
    "Предположим, что время прошедшее после отзыва должно оказывать влияние на итоговую оценку т.к. владельцы и персонал отеля в разные периоды времени могли как улучшить его привлекательность, так и снизить ее, таким образом для точности предсказания оценки количество дней после отзыва может оказаться значимым.  \n",
    "Выделим количество дней из признака days_since_review:"
   ]
  },
  {
   "cell_type": "code",
   "execution_count": 39,
   "metadata": {},
   "outputs": [
    {
     "data": {
      "text/plain": [
       "0          13\n",
       "1         234\n",
       "2         616\n",
       "3         656\n",
       "4         444\n",
       "         ... \n",
       "515733    106\n",
       "515734    171\n",
       "515735    543\n",
       "515736     74\n",
       "515737    363\n",
       "Name: days_since_review, Length: 515738, dtype: int64"
      ]
     },
     "execution_count": 39,
     "metadata": {},
     "output_type": "execute_result"
    }
   ],
   "source": [
    "hotels_copy  = hotels.copy()\n",
    "# определим функцию для выделения количества дней из признака days_since_review:\n",
    "def days (string):\n",
    "    \"\"\"Алгоритм получения количества дней из признака days_since_review\n",
    "\n",
    "    Args:\n",
    "        string (object): исходное значение признака;\n",
    "\n",
    "    Returns:\n",
    "        int: количество дней\n",
    "    \"\"\"    \n",
    "    list = string.split(' ')\n",
    "    days_str = list[0] \n",
    "    days_int = int(days_str.strip())\n",
    "    return days_int\n",
    "# применим данную функцию к значениям признака ays_since_review:  \n",
    "hotels['days_since_review'] = hotels['days_since_review'].apply(days)\n",
    "hotels['days_since_review']"
   ]
  },
  {
   "cell_type": "markdown",
   "metadata": {},
   "source": [
    "_______________________________________________________"
   ]
  },
  {
   "cell_type": "markdown",
   "metadata": {},
   "source": [
    "### review_total_positive_word_counts, review_total_negative_word_counts (количество позитивных и негативных слов в отзыве)"
   ]
  },
  {
   "cell_type": "markdown",
   "metadata": {},
   "source": [
    "Вероятно, что на итоговую оценку в большей мере влияет не количество негативных (позитивных) слов в отзыве, а их доля в общем количестве слов отзыва (насыщенность отзыва такими словами)"
   ]
  },
  {
   "cell_type": "code",
   "execution_count": 40,
   "metadata": {},
   "outputs": [],
   "source": [
    "# добавим признаки доли позитивных и негативных слов в расчете на один отзыв\n",
    "hotels['positive_words_per_review'] = hotels['review_total_positive_word_counts'] / hotels['total_number_of_reviews_reviewer_has_given']\n",
    "hotels['negative_words_per_review'] = hotels['review_total_negative_word_counts'] / hotels['total_number_of_reviews_reviewer_has_given']"
   ]
  },
  {
   "cell_type": "markdown",
   "metadata": {},
   "source": [
    "_________________________________________________________________________"
   ]
  },
  {
   "cell_type": "markdown",
   "metadata": {},
   "source": [
    "### hotel_name (название отеля)"
   ]
  },
  {
   "cell_type": "markdown",
   "metadata": {},
   "source": [
    "Название отеля врядли несет какую-то полезную информацию для обучения модели (скорее наоборот). Удалим данный признак из датасета."
   ]
  },
  {
   "cell_type": "code",
   "execution_count": 41,
   "metadata": {},
   "outputs": [],
   "source": [
    "# удалим столбец hotel_name:\n",
    "hotels.drop('hotel_name', axis=1, inplace=True)"
   ]
  },
  {
   "cell_type": "code",
   "execution_count": 42,
   "metadata": {},
   "outputs": [
    {
     "data": {
      "text/html": [
       "<div>\n",
       "<style scoped>\n",
       "    .dataframe tbody tr th:only-of-type {\n",
       "        vertical-align: middle;\n",
       "    }\n",
       "\n",
       "    .dataframe tbody tr th {\n",
       "        vertical-align: top;\n",
       "    }\n",
       "\n",
       "    .dataframe thead th {\n",
       "        text-align: right;\n",
       "    }\n",
       "</style>\n",
       "<table border=\"1\" class=\"dataframe\">\n",
       "  <thead>\n",
       "    <tr style=\"text-align: right;\">\n",
       "      <th></th>\n",
       "      <th>additional_number_of_scoring</th>\n",
       "      <th>average_score</th>\n",
       "      <th>review_total_negative_word_counts</th>\n",
       "      <th>total_number_of_reviews</th>\n",
       "      <th>review_total_positive_word_counts</th>\n",
       "      <th>total_number_of_reviews_reviewer_has_given</th>\n",
       "      <th>days_since_review</th>\n",
       "      <th>sample</th>\n",
       "      <th>reviewer_score</th>\n",
       "      <th>hotel_country_code</th>\n",
       "      <th>...</th>\n",
       "      <th>n_review_sentiments_neg</th>\n",
       "      <th>n_review_sentiments_neu</th>\n",
       "      <th>n_review_sentiments_pos</th>\n",
       "      <th>n_review_sentiments_compound</th>\n",
       "      <th>p_review_sentiments_neg</th>\n",
       "      <th>p_review_sentiments_neu</th>\n",
       "      <th>p_review_sentiments_pos</th>\n",
       "      <th>p_review_sentiments_compound</th>\n",
       "      <th>positive_words_per_review</th>\n",
       "      <th>negative_words_per_review</th>\n",
       "    </tr>\n",
       "  </thead>\n",
       "  <tbody>\n",
       "    <tr>\n",
       "      <th>0</th>\n",
       "      <td>904</td>\n",
       "      <td>8.1</td>\n",
       "      <td>52</td>\n",
       "      <td>16670</td>\n",
       "      <td>62</td>\n",
       "      <td>1</td>\n",
       "      <td>13</td>\n",
       "      <td>0</td>\n",
       "      <td>0.0</td>\n",
       "      <td>2</td>\n",
       "      <td>...</td>\n",
       "      <td>0.063</td>\n",
       "      <td>0.602</td>\n",
       "      <td>0.335</td>\n",
       "      <td>0.9738</td>\n",
       "      <td>0.000</td>\n",
       "      <td>0.671</td>\n",
       "      <td>0.329</td>\n",
       "      <td>0.9615</td>\n",
       "      <td>62.0</td>\n",
       "      <td>52.000000</td>\n",
       "    </tr>\n",
       "    <tr>\n",
       "      <th>1</th>\n",
       "      <td>612</td>\n",
       "      <td>8.6</td>\n",
       "      <td>10</td>\n",
       "      <td>5018</td>\n",
       "      <td>0</td>\n",
       "      <td>7</td>\n",
       "      <td>234</td>\n",
       "      <td>0</td>\n",
       "      <td>0.0</td>\n",
       "      <td>3</td>\n",
       "      <td>...</td>\n",
       "      <td>0.000</td>\n",
       "      <td>0.421</td>\n",
       "      <td>0.579</td>\n",
       "      <td>0.9325</td>\n",
       "      <td>0.379</td>\n",
       "      <td>0.000</td>\n",
       "      <td>0.621</td>\n",
       "      <td>0.3400</td>\n",
       "      <td>0.0</td>\n",
       "      <td>1.428571</td>\n",
       "    </tr>\n",
       "  </tbody>\n",
       "</table>\n",
       "<p>2 rows × 28 columns</p>\n",
       "</div>"
      ],
      "text/plain": [
       "   additional_number_of_scoring  average_score  \\\n",
       "0                           904            8.1   \n",
       "1                           612            8.6   \n",
       "\n",
       "   review_total_negative_word_counts  total_number_of_reviews  \\\n",
       "0                                 52                    16670   \n",
       "1                                 10                     5018   \n",
       "\n",
       "   review_total_positive_word_counts  \\\n",
       "0                                 62   \n",
       "1                                  0   \n",
       "\n",
       "   total_number_of_reviews_reviewer_has_given  days_since_review  sample  \\\n",
       "0                                           1                 13       0   \n",
       "1                                           7                234       0   \n",
       "\n",
       "   reviewer_score  hotel_country_code  ...  n_review_sentiments_neg  \\\n",
       "0             0.0                   2  ...                    0.063   \n",
       "1             0.0                   3  ...                    0.000   \n",
       "\n",
       "   n_review_sentiments_neu  n_review_sentiments_pos  \\\n",
       "0                    0.602                    0.335   \n",
       "1                    0.421                    0.579   \n",
       "\n",
       "   n_review_sentiments_compound  p_review_sentiments_neg  \\\n",
       "0                        0.9738                    0.000   \n",
       "1                        0.9325                    0.379   \n",
       "\n",
       "   p_review_sentiments_neu  p_review_sentiments_pos  \\\n",
       "0                    0.671                    0.329   \n",
       "1                    0.000                    0.621   \n",
       "\n",
       "   p_review_sentiments_compound  positive_words_per_review  \\\n",
       "0                        0.9615                       62.0   \n",
       "1                        0.3400                        0.0   \n",
       "\n",
       "   negative_words_per_review  \n",
       "0                  52.000000  \n",
       "1                   1.428571  \n",
       "\n",
       "[2 rows x 28 columns]"
      ]
     },
     "execution_count": 42,
     "metadata": {},
     "output_type": "execute_result"
    }
   ],
   "source": [
    "hotels.head(2)"
   ]
  },
  {
   "cell_type": "markdown",
   "metadata": {},
   "source": [
    "______________________________________________________"
   ]
  },
  {
   "cell_type": "markdown",
   "metadata": {},
   "source": [
    "## ОТБОР ПРИЗНАКОВ"
   ]
  },
  {
   "cell_type": "code",
   "execution_count": 43,
   "metadata": {},
   "outputs": [
    {
     "name": "stdout",
     "output_type": "stream",
     "text": [
      "<class 'pandas.core.frame.DataFrame'>\n",
      "RangeIndex: 515738 entries, 0 to 515737\n",
      "Data columns (total 27 columns):\n",
      " #   Column                                      Non-Null Count   Dtype  \n",
      "---  ------                                      --------------   -----  \n",
      " 0   additional_number_of_scoring                515738 non-null  int64  \n",
      " 1   average_score                               515738 non-null  float64\n",
      " 2   hotel_name                                  515738 non-null  object \n",
      " 3   review_total_negative_word_counts           515738 non-null  int64  \n",
      " 4   total_number_of_reviews                     515738 non-null  int64  \n",
      " 5   review_total_positive_word_counts           515738 non-null  int64  \n",
      " 6   total_number_of_reviews_reviewer_has_given  515738 non-null  int64  \n",
      " 7   days_since_review                           515738 non-null  object \n",
      " 8   sample                                      515738 non-null  int64  \n",
      " 9   reviewer_score                              515738 non-null  float64\n",
      " 10  hotel_country_code                          515738 non-null  int8   \n",
      " 11  reviewer_resident                           515738 non-null  int64  \n",
      " 12  reviewer_nationality_code                   515738 non-null  int16  \n",
      " 13  Leisure trip                                515738 non-null  int64  \n",
      " 14  Business trip                               515738 non-null  int64  \n",
      " 15  Couple                                      515738 non-null  int64  \n",
      " 16  Group                                       515738 non-null  int64  \n",
      " 17  Solo traveler                               515738 non-null  int64  \n",
      " 18  km_to_center                                515738 non-null  float64\n",
      " 19  n_review_sentiments_neg                     515738 non-null  float64\n",
      " 20  n_review_sentiments_neu                     515738 non-null  float64\n",
      " 21  n_review_sentiments_pos                     515738 non-null  float64\n",
      " 22  n_review_sentiments_compound                515738 non-null  float64\n",
      " 23  p_review_sentiments_neg                     515738 non-null  float64\n",
      " 24  p_review_sentiments_neu                     515738 non-null  float64\n",
      " 25  p_review_sentiments_pos                     515738 non-null  float64\n",
      " 26  p_review_sentiments_compound                515738 non-null  float64\n",
      "dtypes: float64(11), int16(1), int64(12), int8(1), object(2)\n",
      "memory usage: 99.8+ MB\n"
     ]
    }
   ],
   "source": [
    "hotels_copy.info()"
   ]
  },
  {
   "cell_type": "markdown",
   "metadata": {},
   "source": [
    "Проверим наличие столбцов с нечисловыми признаками:"
   ]
  },
  {
   "cell_type": "code",
   "execution_count": 44,
   "metadata": {},
   "outputs": [
    {
     "name": "stdout",
     "output_type": "stream",
     "text": [
      "Текущее получившееся количество признаков: 27\n",
      "(включая целевой столбец и метку тест/трейн)\n",
      "Удалим 0 столбцов с нечисловыми данными\n"
     ]
    }
   ],
   "source": [
    "print(f'Текущее получившееся количество признаков: {len(hotels_copy.columns)}')\n",
    "print('(включая целевой столбец и метку тест/трейн)')\n",
    "\n",
    "# удалим нечисловые данные:\n",
    "object_columns = [s for s in hotels.columns\n",
    "                  if ((hotels[s].dtypes == 'object') | \\\n",
    "                      (hotels[s].dtype.name == 'category') | \\\n",
    "                      (hotels[s].dtypes == 'datetime64[ns]'))]\n",
    "\n",
    "print(f'Удалим {len(object_columns)} столбцов с нечисловыми данными')\n",
    "# hotels = hotels.drop(object_columns, axis = 1)"
   ]
  },
  {
   "cell_type": "markdown",
   "metadata": {},
   "source": [
    "_________________________________"
   ]
  },
  {
   "cell_type": "markdown",
   "metadata": {},
   "source": [
    "### АНАЛИЗ МУЛЬТИКОЛЛИНЕАРНОСТИ ПРИЗНАКОВ"
   ]
  },
  {
   "cell_type": "code",
   "execution_count": 45,
   "metadata": {},
   "outputs": [
    {
     "data": {
      "application/vnd.plotly.v1+json": {
       "config": {
        "plotlyServerURL": "https://plot.ly"
       },
       "data": [
        {
         "coloraxis": "coloraxis",
         "hovertemplate": "x: %{x}<br>y: %{y}<br>color: %{z}<extra></extra>",
         "name": "0",
         "type": "heatmap",
         "x": [
          "additional_number_of_scoring",
          "average_score",
          "review_total_negative_word_counts",
          "total_number_of_reviews",
          "review_total_positive_word_counts",
          "total_number_of_reviews_reviewer_has_given",
          "days_since_review",
          "reviewer_score",
          "hotel_country_code",
          "reviewer_resident",
          "reviewer_nationality_code",
          "Leisure trip",
          "Business trip",
          "Couple",
          "Group",
          "Solo traveler",
          "km_to_center",
          "n_review_sentiments_neg",
          "n_review_sentiments_neu",
          "n_review_sentiments_pos",
          "n_review_sentiments_compound",
          "p_review_sentiments_neg",
          "p_review_sentiments_neu",
          "p_review_sentiments_pos",
          "p_review_sentiments_compound",
          "positive_words_per_review",
          "negative_words_per_review"
         ],
         "xaxis": "x",
         "y": [
          "additional_number_of_scoring",
          "average_score",
          "review_total_negative_word_counts",
          "total_number_of_reviews",
          "review_total_positive_word_counts",
          "total_number_of_reviews_reviewer_has_given",
          "days_since_review",
          "sample",
          "reviewer_score",
          "hotel_country_code",
          "reviewer_resident",
          "reviewer_nationality_code",
          "Leisure trip",
          "Business trip",
          "Couple",
          "Group",
          "Solo traveler",
          "km_to_center",
          "n_review_sentiments_neg",
          "n_review_sentiments_neu",
          "n_review_sentiments_pos",
          "n_review_sentiments_compound",
          "p_review_sentiments_neg",
          "p_review_sentiments_neu",
          "p_review_sentiments_pos",
          "p_review_sentiments_compound",
          "positive_words_per_review",
          "negative_words_per_review"
         ],
         "yaxis": "y",
         "z": [
          [
           1,
           -0.1528461803623177,
           0.029195329853153595,
           0.8248837781012298,
           -0.053087099617051534,
           -0.07196936580969374,
           0.01181757819105993,
           -0.018882418758916372,
           0.4106095936689862,
           0.32432172653978036,
           0.1321316957150585,
           0.00020533127301537016,
           -0.00421626798638443,
           0.010989225067751136,
           0.003720695885597114,
           -0.006449405564726047,
           0.17573445873394528,
           -0.018016116976556775,
           0.05165031251938818,
           -0.05127272718668387,
           -0.0481797486862187,
           0.031900028733644364,
           -0.00241718000310266,
           -0.013745932406829541,
           -0.058555775839997735,
           0.002216746749578169,
           0.05408194835688722
          ],
          [
           -0.1528461803623177,
           1,
           -0.11232304174264561,
           -0.17956835110973796,
           0.10671880073666144,
           0.0364537823543393,
           -0.013993429318810374,
           0.11364307816375466,
           -0.08908405334476138,
           -0.06053668046996196,
           -0.0023670892534089255,
           0.0823070876753117,
           -0.07176883087473462,
           0.09450067989679126,
           -0.028148794705392555,
           -0.08258040565042314,
           -0.16481326515077488,
           -0.006878247789554458,
           -0.1500585771915139,
           0.16986256574080136,
           0.14627591938706047,
           -0.10713819025252745,
           -0.007156509717506293,
           0.06365429860609169,
           0.1733681997909914,
           0.05752890530036403,
           -0.10311577258757396
          ],
          [
           0.029195329853153595,
           -0.11232304174264561,
           1,
           0.03512356950060391,
           0.11961330060545704,
           0.0031989544180686036,
           -0.04328285211258485,
           -0.12063725192509028,
           0.02863666262052063,
           0.009884012267005226,
           0.01208682026495874,
           -0.0068839888498713146,
           0.0045726642146161605,
           -0.0046441756319214765,
           -0.0045424981279614226,
           0.0026980528736058234,
           0.035296346297962175,
           -0.2203833158442654,
           0.4008598173427057,
           -0.3581159562481782,
           -0.1375928691288448,
           0.08145316161696649,
           0.031298755275442985,
           -0.07745204286818405,
           -0.020451294111229607,
           0.0697007000362312,
           0.7116935325587626
          ],
          [
           0.8248837781012298,
           -0.17956835110973796,
           0.03512356950060391,
           1,
           -0.030132381818797172,
           -0.02491026516932466,
           0.0071574424575107385,
           -0.022894114400269457,
           0.1442808953728116,
           0.08291302474534128,
           0.02853922279518513,
           0.013729304870574043,
           -0.015051980742357859,
           -0.014227599755858215,
           0.022847333685842373,
           -0.017315155952187425,
           0.10425904006340835,
           -0.019605237065147087,
           0.05240648333276559,
           -0.051279118136322896,
           -0.043569395924308495,
           0.03002039396610993,
           0.007038627249172478,
           -0.023536334001608764,
           -0.050548496227089436,
           -0.009365537013630186,
           0.034403790511475886
          ],
          [
           -0.053087099617051534,
           0.10671880073666144,
           0.11961330060545704,
           -0.030132381818797172,
           1,
           0.02653468543416719,
           -0.04493647041721537,
           0.06906177375622351,
           -0.04449391733364493,
           -0.05005259331839055,
           0.0005901340378937573,
           0.07616961890785987,
           -0.07449645854031986,
           0.03634339304727334,
           -0.006897346538081695,
           -0.04054967273206737,
           -0.021596004893788087,
           -0.045542151294004025,
           -0.05643165057986038,
           0.08138946579978149,
           0.12690725471630765,
           -0.15850951925105436,
           0.263826350577696,
           -0.22068703701315276,
           0.3716884177928636,
           0.6583863965651916,
           0.05856356857000483
          ],
          [
           -0.07196936580969374,
           0.0364537823543393,
           0.0031989544180686036,
           -0.02491026516932466,
           0.02653468543416719,
           1,
           0.035024601796933896,
           0.0024309193430505954,
           -0.10336639081024078,
           -0.11879212860495837,
           -0.1297972863413665,
           -0.11549728486885552,
           0.1296312039078984,
           -0.04365302438442091,
           -0.03445730224543047,
           0.11474399332071414,
           -0.04470510506826904,
           -0.0030482720913354083,
           0.0016986186608764617,
           -0.00029488038370964725,
           -0.004213801518634871,
           -0.03825125865957584,
           0.03925650538746765,
           -0.025217665314428976,
           0.014976865025234098,
           -0.24718078407537322,
           -0.19946158395562724
          ],
          [
           0.01181757819105993,
           -0.013993429318810374,
           -0.04328285211258485,
           0.0071574424575107385,
           -0.04493647041721537,
           0.035024601796933896,
           1,
           0.0003406499448777846,
           -0.005302836052869284,
           0.016311860351340805,
           0.0052440576937785146,
           -0.00628213771094703,
           0.011331455038881826,
           0.045972874814787776,
           -0.03326751157445306,
           0.009507486571176105,
           -0.01979925712491993,
           0.0455043028652555,
           -0.04231316355759739,
           0.03182077790357247,
           0.014390633193035624,
           -0.031795490362215253,
           0.008544712116189495,
           0.006791182305909199,
           -0.0002955634404311333,
           -0.03273573805755013,
           -0.038015507692395784
          ],
          [
           0.000569923621870658,
           -0.0008090991083915036,
           -0.000026993109365789808,
           0.00018542636457193572,
           0.00004182053073675959,
           0.0017648767566239237,
           -0.0004472865459230984,
           0.9317530774180254,
           0.001162714366841561,
           0.001307799145030243,
           -0.00016243698532415003,
           0.00296699158461294,
           -0.00262275169938288,
           -0.00007395023578100488,
           0.0005929817238899303,
           -0.001907460002235757,
           -0.00005093930999463126,
           -0.001605406018949553,
           0.00017542777077544854,
           0.0004017199029796103,
           0.0008493978373926739,
           -0.0011639573081460761,
           0.002343150337852205,
           -0.0019523977325716746,
           -0.0007753327309834423,
           -0.000049449025116456644,
           0.0016386817625244478
          ],
          [
           -0.018882418758916372,
           0.11364307816375466,
           -0.12063725192509028,
           -0.022894114400269457,
           0.06906177375622351,
           0.0024309193430505954,
           0.0003406499448777846,
           1,
           -0.008973009136782633,
           0.004137101473556125,
           0.010751136501888869,
           0.03981453109322043,
           -0.03806086771522594,
           0.021946558513896104,
           0.0042577546423764765,
           -0.027928109847787305,
           -0.021674348549326965,
           0.0031960771796800238,
           -0.11293346752025525,
           0.12326358124686503,
           0.10239318635363723,
           -0.10328119329097286,
           0.009738737776610766,
           0.04217782848213753,
           0.129850006547684,
           0.04956888187149956,
           -0.08847456417816531
          ],
          [
           0.4106095936689862,
           -0.08908405334476138,
           0.02863666262052063,
           0.1442808953728116,
           -0.04449391733364493,
           -0.10336639081024078,
           -0.005302836052869284,
           -0.008973009136782633,
           1,
           0.5352177741728714,
           0.22031130351032172,
           -0.013754241784782434,
           0.004515825604261393,
           0.03061006804133181,
           -0.013472746047230316,
           0.014378674852610135,
           0.2258069228341275,
           -0.01313017716581669,
           0.0413107750124793,
           -0.04146434446793117,
           -0.03687802181183326,
           0.013256794046542331,
           -0.012558581552323742,
           0.007701503690480382,
           -0.0276407649550849,
           0.025382183598502632,
           0.06689510907250784
          ],
          [
           0.32432172653978036,
           -0.06053668046996196,
           0.009884012267005226,
           0.08291302474534128,
           -0.05005259331839055,
           -0.11879212860495837,
           0.016311860351340805,
           0.004137101473556125,
           0.5352177741728714,
           1,
           0.45855626888014744,
           0.0025888234504281523,
           -0.013971063071506369,
           0.11343781281757473,
           -0.0192001070197479,
           -0.04628575042279996,
           0.27632294427716403,
           -0.01923869111599627,
           0.01635446317116849,
           -0.012912408901836182,
           -0.012295577917031892,
           0.00596346095310434,
           -0.028675659084652336,
           0.029991547761564145,
           -0.009169353200588867,
           0.03512160860464264,
           0.06781522586751687
          ],
          [
           0.1321316957150585,
           -0.0023670892534089255,
           0.01208682026495874,
           0.02853922279518513,
           0.0005901340378937573,
           -0.1297972863413665,
           0.0052440576937785146,
           0.010751136501888869,
           0.22031130351032172,
           0.45855626888014744,
           1,
           0.059468777561301166,
           -0.062226447823470685,
           0.07081949885407526,
           0.024850451743078636,
           -0.07397689875280904,
           0.10068575847453244,
           -0.028954103530336322,
           0.010134773128831277,
           -0.0020418926703043984,
           0.004483532939929213,
           -0.004185713404834622,
           -0.015309616542201252,
           0.01973840704717611,
           0.016525772054888577,
           0.08379223965613512,
           0.0680314737250111
          ],
          [
           0.00020533127301537016,
           0.0823070876753117,
           -0.0068839888498713146,
           0.013729304870574043,
           0.07616961890785987,
           -0.11549728486885552,
           -0.00628213771094703,
           0.03981453109322043,
           -0.013754241784782434,
           0.0025888234504281523,
           0.059468777561301166,
           1,
           -0.9040337997914786,
           0.27537819511416456,
           0.05273292021580353,
           -0.5091187502973663,
           -0.03179841303905421,
           -0.018843564418581538,
           -0.03156998120442337,
           0.042545905318520226,
           0.04587745363353729,
           -0.06024808572224777,
           0.02520330617449664,
           0.002434766536717418,
           0.08817013724929519,
           0.08294052692639355,
           0.018449851997058443
          ],
          [
           -0.00421626798638443,
           -0.07176883087473462,
           0.0045726642146161605,
           -0.015051980742357859,
           -0.07449645854031986,
           0.1296312039078984,
           0.011331455038881826,
           -0.03806086771522594,
           0.004515825604261393,
           -0.013971063071506369,
           -0.062226447823470685,
           -0.9040337997914786,
           1,
           -0.2782202828150692,
           -0.0516655276299624,
           0.5285775425903703,
           0.01691589850818586,
           0.021356140885209166,
           0.03006928524522834,
           -0.0412201123509446,
           -0.04474676626903756,
           0.05570621881161041,
           -0.026568763494987307,
           0.0016381093510741778,
           -0.08039499402050447,
           -0.0880709375260756,
           -0.024366954612520666
          ],
          [
           0.010989225067751136,
           0.09450067989679126,
           -0.0046441756319214765,
           -0.014227599755858215,
           0.03634339304727334,
           -0.04365302438442091,
           0.045972874814787776,
           0.021946558513896104,
           0.03061006804133181,
           0.11343781281757473,
           0.07081949885407526,
           0.27537819511416456,
           -0.2782202828150692,
           1,
           -0.3729052181534718,
           -0.5052590079032241,
           0.007246735210955813,
           -0.010317774131665292,
           -0.015953130559132802,
           0.021207822838370183,
           0.023800154297010583,
           -0.032990457122364425,
           0.008920519666934109,
           0.006875620772229492,
           0.0537109193356496,
           0.04115583336836033,
           0.009301012917186432
          ],
          [
           0.003720695885597114,
           -0.028148794705392555,
           -0.0045424981279614226,
           0.022847333685842373,
           -0.006897346538081695,
           -0.03445730224543047,
           -0.03326751157445306,
           0.0042577546423764765,
           -0.013472746047230316,
           -0.0192001070197479,
           0.024850451743078636,
           0.05273292021580353,
           -0.0516655276299624,
           -0.3729052181534718,
           1,
           -0.196740565375424,
           0.001852317527427583,
           -0.0022765113344140626,
           -0.005045765188635645,
           0.006655781095552247,
           0.006397082534426478,
           0.0037940794972121006,
           -0.011836130314268544,
           0.011449522329628085,
           0.003823993579607872,
           0.012016220709402751,
           0.011074474827095563
          ],
          [
           -0.006449405564726047,
           -0.08258040565042314,
           0.0026980528736058234,
           -0.017315155952187425,
           -0.04054967273206737,
           0.11474399332071414,
           0.009507486571176105,
           -0.027928109847787305,
           0.014378674852610135,
           -0.04628575042279996,
           -0.07397689875280904,
           -0.5091187502973663,
           0.5285775425903703,
           -0.5052590079032241,
           -0.196740565375424,
           1,
           0.006239100675171529,
           0.014534621976316137,
           0.019548243284586604,
           -0.02752219588125892,
           -0.02848511825237011,
           0.03899976869842524,
           -0.015378558332091409,
           -0.002509002283983091,
           -0.05491300328444411,
           -0.06635072680259138,
           -0.024911956940295917
          ],
          [
           0.17573445873394528,
           -0.16481326515077488,
           0.035296346297962175,
           0.10425904006340835,
           -0.021596004893788087,
           -0.04470510506826904,
           -0.01979925712491993,
           -0.021674348549326965,
           0.2258069228341275,
           0.27632294427716403,
           0.10068575847453244,
           -0.03179841303905421,
           0.01691589850818586,
           0.007246735210955813,
           0.001852317527427583,
           0.006239100675171529,
           1,
           -0.022233993338774447,
           0.047481798986330453,
           -0.046440070861073456,
           -0.035158903590684035,
           0.030487705330856804,
           -0.003685061174874608,
           -0.011725197066797175,
           -0.03448250707239827,
           0.01325214693664193,
           0.04885146256912805
          ],
          [
           -0.018016116976556775,
           -0.006878247789554458,
           -0.2203833158442654,
           -0.019605237065147087,
           -0.045542151294004025,
           -0.0030482720913354083,
           0.0455043028652555,
           0.0031960771796800238,
           -0.01313017716581669,
           -0.01923869111599627,
           -0.028954103530336322,
           -0.018843564418581538,
           0.021356140885209166,
           -0.010317774131665292,
           -0.0022765113344140626,
           0.014534621976316137,
           -0.022233993338774447,
           1,
           -0.47111729304503186,
           0.1529710412041623,
           -0.11459095707473993,
           -0.004728362938773773,
           -0.016313465771166023,
           0.02156468875110546,
           -0.017789817742149477,
           -0.021044701791015023,
           -0.1590603033013513
          ],
          [
           0.05165031251938818,
           -0.1500585771915139,
           0.4008598173427057,
           0.05240648333276559,
           -0.05643165057986038,
           0.0016986186608764617,
           -0.04231316355759739,
           -0.11293346752025525,
           0.0413107750124793,
           0.01635446317116849,
           0.010134773128831277,
           -0.03156998120442337,
           0.03006928524522834,
           -0.015953130559132802,
           -0.005045765188635645,
           0.019548243284586604,
           0.047481798986330453,
           -0.47111729304503186,
           1,
           -0.9244775853328829,
           -0.6780515521598822,
           0.13261219876279196,
           -0.0019176346763999435,
           -0.06453734081652204,
           -0.13465815753674715,
           -0.04975388622203141,
           0.28727411295576016
          ],
          [
           -0.05127272718668387,
           0.16986256574080136,
           -0.3581159562481782,
           -0.051279118136322896,
           0.08138946579978149,
           -0.00029488038370964725,
           0.03182077790357247,
           0.12326358124686503,
           -0.04146434446793117,
           -0.012912408901836182,
           -0.0020418926703043984,
           0.042545905318520226,
           -0.0412201123509446,
           0.021207822838370183,
           0.006655781095552247,
           -0.02752219588125892,
           -0.046440070861073456,
           0.1529710412041623,
           -0.9244775853328829,
           1,
           0.8220967321295819,
           -0.14505723215551036,
           0.009139048480078286,
           0.0642412441300191,
           0.15787225840067548,
           0.06341602175863323,
           -0.256366842942475
          ],
          [
           -0.0481797486862187,
           0.14627591938706047,
           -0.1375928691288448,
           -0.043569395924308495,
           0.12690725471630765,
           -0.004213801518634871,
           0.014390633193035624,
           0.10239318635363723,
           -0.03687802181183326,
           -0.012295577917031892,
           0.004483532939929213,
           0.04587745363353729,
           -0.04474676626903756,
           0.023800154297010583,
           0.006397082534426478,
           -0.02848511825237011,
           -0.035158903590684035,
           -0.11459095707473993,
           -0.6780515521598822,
           0.8220967321295819,
           1,
           -0.13119705861952932,
           0.028941715776187954,
           0.03431362711106319,
           0.1619135320847714,
           0.09477296097807567,
           -0.09960444351990705
          ],
          [
           0.031900028733644364,
           -0.10713819025252745,
           0.08145316161696649,
           0.03002039396610993,
           -0.15850951925105436,
           -0.03825125865957584,
           -0.031795490362215253,
           -0.10328119329097286,
           0.013256794046542331,
           0.00596346095310434,
           -0.004185713404834622,
           -0.06024808572224777,
           0.05570621881161041,
           -0.032990457122364425,
           0.0037940794972121006,
           0.03899976869842524,
           0.030487705330856804,
           -0.004728362938773773,
           0.13261219876279196,
           -0.14505723215551036,
           -0.13119705861952932,
           1,
           -0.4953751696765651,
           0.05929324288012136,
           -0.43123582559596757,
           -0.10433586931073792,
           0.0840759275185065
          ],
          [
           -0.00241718000310266,
           -0.007156509717506293,
           0.031298755275442985,
           0.007038627249172478,
           0.263826350577696,
           0.03925650538746765,
           0.008544712116189495,
           0.009738737776610766,
           -0.012558581552323742,
           -0.028675659084652336,
           -0.015309616542201252,
           0.02520330617449664,
           -0.026568763494987307,
           0.008920519666934109,
           -0.011836130314268544,
           -0.015378558332091409,
           -0.003685061174874608,
           -0.016313465771166023,
           -0.0019176346763999435,
           0.009139048480078286,
           0.028941715776187954,
           -0.4953751696765651,
           1,
           -0.8921548178580858,
           -0.2886685788622961,
           0.17137743632657637,
           -0.0040228009492112955
          ],
          [
           -0.013745932406829541,
           0.06365429860609169,
           -0.07745204286818405,
           -0.023536334001608764,
           -0.22068703701315276,
           -0.025217665314428976,
           0.006791182305909199,
           0.04217782848213753,
           0.007701503690480382,
           0.029991547761564145,
           0.01973840704717611,
           0.002434766536717418,
           0.0016381093510741778,
           0.006875620772229492,
           0.011449522329628085,
           -0.002509002283983091,
           -0.011725197066797175,
           0.02156468875110546,
           -0.06453734081652204,
           0.0642412441300191,
           0.03431362711106319,
           0.05929324288012136,
           -0.8921548178580858,
           1,
           0.5565265397941233,
           -0.14262520917222368,
           -0.03825236118837162
          ],
          [
           -0.058555775839997735,
           0.1733681997909914,
           -0.020451294111229607,
           -0.050548496227089436,
           0.3716884177928636,
           0.014976865025234098,
           -0.0002955634404311333,
           0.129850006547684,
           -0.0276407649550849,
           -0.009169353200588867,
           0.016525772054888577,
           0.08817013724929519,
           -0.08039499402050447,
           0.0537109193356496,
           0.003823993579607872,
           -0.05491300328444411,
           -0.03448250707239827,
           -0.017789817742149477,
           -0.13465815753674715,
           0.15787225840067548,
           0.1619135320847714,
           -0.43123582559596757,
           -0.2886685788622961,
           0.5565265397941233,
           1,
           0.24471584434408314,
           -0.02585180402248707
          ],
          [
           0.002216746749578169,
           0.05752890530036403,
           0.0697007000362312,
           -0.009365537013630186,
           0.6583863965651916,
           -0.24718078407537322,
           -0.03273573805755013,
           0.04956888187149956,
           0.025382183598502632,
           0.03512160860464264,
           0.08379223965613512,
           0.08294052692639355,
           -0.0880709375260756,
           0.04115583336836033,
           0.012016220709402751,
           -0.06635072680259138,
           0.01325214693664193,
           -0.021044701791015023,
           -0.04975388622203141,
           0.06341602175863323,
           0.09477296097807567,
           -0.10433586931073792,
           0.17137743632657637,
           -0.14262520917222368,
           0.24471584434408314,
           1,
           0.24832098036825542
          ],
          [
           0.05408194835688722,
           -0.10311577258757396,
           0.7116935325587626,
           0.034403790511475886,
           0.05856356857000483,
           -0.19946158395562724,
           -0.038015507692395784,
           -0.08847456417816531,
           0.06689510907250784,
           0.06781522586751687,
           0.0680314737250111,
           0.018449851997058443,
           -0.024366954612520666,
           0.009301012917186432,
           0.011074474827095563,
           -0.024911956940295917,
           0.04885146256912805,
           -0.1590603033013513,
           0.28727411295576016,
           -0.256366842942475,
           -0.09960444351990705,
           0.0840759275185065,
           -0.0040228009492112955,
           -0.03825236118837162,
           -0.02585180402248707,
           0.24832098036825542,
           1
          ]
         ]
        }
       ],
       "layout": {
        "coloraxis": {
         "colorscale": [
          [
           0,
           "#0d0887"
          ],
          [
           0.1111111111111111,
           "#46039f"
          ],
          [
           0.2222222222222222,
           "#7201a8"
          ],
          [
           0.3333333333333333,
           "#9c179e"
          ],
          [
           0.4444444444444444,
           "#bd3786"
          ],
          [
           0.5555555555555556,
           "#d8576b"
          ],
          [
           0.6666666666666666,
           "#ed7953"
          ],
          [
           0.7777777777777778,
           "#fb9f3a"
          ],
          [
           0.8888888888888888,
           "#fdca26"
          ],
          [
           1,
           "#f0f921"
          ]
         ]
        },
        "height": 1100,
        "margin": {
         "t": 60
        },
        "template": {
         "data": {
          "bar": [
           {
            "error_x": {
             "color": "#2a3f5f"
            },
            "error_y": {
             "color": "#2a3f5f"
            },
            "marker": {
             "line": {
              "color": "#E5ECF6",
              "width": 0.5
             },
             "pattern": {
              "fillmode": "overlay",
              "size": 10,
              "solidity": 0.2
             }
            },
            "type": "bar"
           }
          ],
          "barpolar": [
           {
            "marker": {
             "line": {
              "color": "#E5ECF6",
              "width": 0.5
             },
             "pattern": {
              "fillmode": "overlay",
              "size": 10,
              "solidity": 0.2
             }
            },
            "type": "barpolar"
           }
          ],
          "carpet": [
           {
            "aaxis": {
             "endlinecolor": "#2a3f5f",
             "gridcolor": "white",
             "linecolor": "white",
             "minorgridcolor": "white",
             "startlinecolor": "#2a3f5f"
            },
            "baxis": {
             "endlinecolor": "#2a3f5f",
             "gridcolor": "white",
             "linecolor": "white",
             "minorgridcolor": "white",
             "startlinecolor": "#2a3f5f"
            },
            "type": "carpet"
           }
          ],
          "choropleth": [
           {
            "colorbar": {
             "outlinewidth": 0,
             "ticks": ""
            },
            "type": "choropleth"
           }
          ],
          "contour": [
           {
            "colorbar": {
             "outlinewidth": 0,
             "ticks": ""
            },
            "colorscale": [
             [
              0,
              "#0d0887"
             ],
             [
              0.1111111111111111,
              "#46039f"
             ],
             [
              0.2222222222222222,
              "#7201a8"
             ],
             [
              0.3333333333333333,
              "#9c179e"
             ],
             [
              0.4444444444444444,
              "#bd3786"
             ],
             [
              0.5555555555555556,
              "#d8576b"
             ],
             [
              0.6666666666666666,
              "#ed7953"
             ],
             [
              0.7777777777777778,
              "#fb9f3a"
             ],
             [
              0.8888888888888888,
              "#fdca26"
             ],
             [
              1,
              "#f0f921"
             ]
            ],
            "type": "contour"
           }
          ],
          "contourcarpet": [
           {
            "colorbar": {
             "outlinewidth": 0,
             "ticks": ""
            },
            "type": "contourcarpet"
           }
          ],
          "heatmap": [
           {
            "colorbar": {
             "outlinewidth": 0,
             "ticks": ""
            },
            "colorscale": [
             [
              0,
              "#0d0887"
             ],
             [
              0.1111111111111111,
              "#46039f"
             ],
             [
              0.2222222222222222,
              "#7201a8"
             ],
             [
              0.3333333333333333,
              "#9c179e"
             ],
             [
              0.4444444444444444,
              "#bd3786"
             ],
             [
              0.5555555555555556,
              "#d8576b"
             ],
             [
              0.6666666666666666,
              "#ed7953"
             ],
             [
              0.7777777777777778,
              "#fb9f3a"
             ],
             [
              0.8888888888888888,
              "#fdca26"
             ],
             [
              1,
              "#f0f921"
             ]
            ],
            "type": "heatmap"
           }
          ],
          "heatmapgl": [
           {
            "colorbar": {
             "outlinewidth": 0,
             "ticks": ""
            },
            "colorscale": [
             [
              0,
              "#0d0887"
             ],
             [
              0.1111111111111111,
              "#46039f"
             ],
             [
              0.2222222222222222,
              "#7201a8"
             ],
             [
              0.3333333333333333,
              "#9c179e"
             ],
             [
              0.4444444444444444,
              "#bd3786"
             ],
             [
              0.5555555555555556,
              "#d8576b"
             ],
             [
              0.6666666666666666,
              "#ed7953"
             ],
             [
              0.7777777777777778,
              "#fb9f3a"
             ],
             [
              0.8888888888888888,
              "#fdca26"
             ],
             [
              1,
              "#f0f921"
             ]
            ],
            "type": "heatmapgl"
           }
          ],
          "histogram": [
           {
            "marker": {
             "pattern": {
              "fillmode": "overlay",
              "size": 10,
              "solidity": 0.2
             }
            },
            "type": "histogram"
           }
          ],
          "histogram2d": [
           {
            "colorbar": {
             "outlinewidth": 0,
             "ticks": ""
            },
            "colorscale": [
             [
              0,
              "#0d0887"
             ],
             [
              0.1111111111111111,
              "#46039f"
             ],
             [
              0.2222222222222222,
              "#7201a8"
             ],
             [
              0.3333333333333333,
              "#9c179e"
             ],
             [
              0.4444444444444444,
              "#bd3786"
             ],
             [
              0.5555555555555556,
              "#d8576b"
             ],
             [
              0.6666666666666666,
              "#ed7953"
             ],
             [
              0.7777777777777778,
              "#fb9f3a"
             ],
             [
              0.8888888888888888,
              "#fdca26"
             ],
             [
              1,
              "#f0f921"
             ]
            ],
            "type": "histogram2d"
           }
          ],
          "histogram2dcontour": [
           {
            "colorbar": {
             "outlinewidth": 0,
             "ticks": ""
            },
            "colorscale": [
             [
              0,
              "#0d0887"
             ],
             [
              0.1111111111111111,
              "#46039f"
             ],
             [
              0.2222222222222222,
              "#7201a8"
             ],
             [
              0.3333333333333333,
              "#9c179e"
             ],
             [
              0.4444444444444444,
              "#bd3786"
             ],
             [
              0.5555555555555556,
              "#d8576b"
             ],
             [
              0.6666666666666666,
              "#ed7953"
             ],
             [
              0.7777777777777778,
              "#fb9f3a"
             ],
             [
              0.8888888888888888,
              "#fdca26"
             ],
             [
              1,
              "#f0f921"
             ]
            ],
            "type": "histogram2dcontour"
           }
          ],
          "mesh3d": [
           {
            "colorbar": {
             "outlinewidth": 0,
             "ticks": ""
            },
            "type": "mesh3d"
           }
          ],
          "parcoords": [
           {
            "line": {
             "colorbar": {
              "outlinewidth": 0,
              "ticks": ""
             }
            },
            "type": "parcoords"
           }
          ],
          "pie": [
           {
            "automargin": true,
            "type": "pie"
           }
          ],
          "scatter": [
           {
            "fillpattern": {
             "fillmode": "overlay",
             "size": 10,
             "solidity": 0.2
            },
            "type": "scatter"
           }
          ],
          "scatter3d": [
           {
            "line": {
             "colorbar": {
              "outlinewidth": 0,
              "ticks": ""
             }
            },
            "marker": {
             "colorbar": {
              "outlinewidth": 0,
              "ticks": ""
             }
            },
            "type": "scatter3d"
           }
          ],
          "scattercarpet": [
           {
            "marker": {
             "colorbar": {
              "outlinewidth": 0,
              "ticks": ""
             }
            },
            "type": "scattercarpet"
           }
          ],
          "scattergeo": [
           {
            "marker": {
             "colorbar": {
              "outlinewidth": 0,
              "ticks": ""
             }
            },
            "type": "scattergeo"
           }
          ],
          "scattergl": [
           {
            "marker": {
             "colorbar": {
              "outlinewidth": 0,
              "ticks": ""
             }
            },
            "type": "scattergl"
           }
          ],
          "scattermapbox": [
           {
            "marker": {
             "colorbar": {
              "outlinewidth": 0,
              "ticks": ""
             }
            },
            "type": "scattermapbox"
           }
          ],
          "scatterpolar": [
           {
            "marker": {
             "colorbar": {
              "outlinewidth": 0,
              "ticks": ""
             }
            },
            "type": "scatterpolar"
           }
          ],
          "scatterpolargl": [
           {
            "marker": {
             "colorbar": {
              "outlinewidth": 0,
              "ticks": ""
             }
            },
            "type": "scatterpolargl"
           }
          ],
          "scatterternary": [
           {
            "marker": {
             "colorbar": {
              "outlinewidth": 0,
              "ticks": ""
             }
            },
            "type": "scatterternary"
           }
          ],
          "surface": [
           {
            "colorbar": {
             "outlinewidth": 0,
             "ticks": ""
            },
            "colorscale": [
             [
              0,
              "#0d0887"
             ],
             [
              0.1111111111111111,
              "#46039f"
             ],
             [
              0.2222222222222222,
              "#7201a8"
             ],
             [
              0.3333333333333333,
              "#9c179e"
             ],
             [
              0.4444444444444444,
              "#bd3786"
             ],
             [
              0.5555555555555556,
              "#d8576b"
             ],
             [
              0.6666666666666666,
              "#ed7953"
             ],
             [
              0.7777777777777778,
              "#fb9f3a"
             ],
             [
              0.8888888888888888,
              "#fdca26"
             ],
             [
              1,
              "#f0f921"
             ]
            ],
            "type": "surface"
           }
          ],
          "table": [
           {
            "cells": {
             "fill": {
              "color": "#EBF0F8"
             },
             "line": {
              "color": "white"
             }
            },
            "header": {
             "fill": {
              "color": "#C8D4E3"
             },
             "line": {
              "color": "white"
             }
            },
            "type": "table"
           }
          ]
         },
         "layout": {
          "annotationdefaults": {
           "arrowcolor": "#2a3f5f",
           "arrowhead": 0,
           "arrowwidth": 1
          },
          "autotypenumbers": "strict",
          "coloraxis": {
           "colorbar": {
            "outlinewidth": 0,
            "ticks": ""
           }
          },
          "colorscale": {
           "diverging": [
            [
             0,
             "#8e0152"
            ],
            [
             0.1,
             "#c51b7d"
            ],
            [
             0.2,
             "#de77ae"
            ],
            [
             0.3,
             "#f1b6da"
            ],
            [
             0.4,
             "#fde0ef"
            ],
            [
             0.5,
             "#f7f7f7"
            ],
            [
             0.6,
             "#e6f5d0"
            ],
            [
             0.7,
             "#b8e186"
            ],
            [
             0.8,
             "#7fbc41"
            ],
            [
             0.9,
             "#4d9221"
            ],
            [
             1,
             "#276419"
            ]
           ],
           "sequential": [
            [
             0,
             "#0d0887"
            ],
            [
             0.1111111111111111,
             "#46039f"
            ],
            [
             0.2222222222222222,
             "#7201a8"
            ],
            [
             0.3333333333333333,
             "#9c179e"
            ],
            [
             0.4444444444444444,
             "#bd3786"
            ],
            [
             0.5555555555555556,
             "#d8576b"
            ],
            [
             0.6666666666666666,
             "#ed7953"
            ],
            [
             0.7777777777777778,
             "#fb9f3a"
            ],
            [
             0.8888888888888888,
             "#fdca26"
            ],
            [
             1,
             "#f0f921"
            ]
           ],
           "sequentialminus": [
            [
             0,
             "#0d0887"
            ],
            [
             0.1111111111111111,
             "#46039f"
            ],
            [
             0.2222222222222222,
             "#7201a8"
            ],
            [
             0.3333333333333333,
             "#9c179e"
            ],
            [
             0.4444444444444444,
             "#bd3786"
            ],
            [
             0.5555555555555556,
             "#d8576b"
            ],
            [
             0.6666666666666666,
             "#ed7953"
            ],
            [
             0.7777777777777778,
             "#fb9f3a"
            ],
            [
             0.8888888888888888,
             "#fdca26"
            ],
            [
             1,
             "#f0f921"
            ]
           ]
          },
          "colorway": [
           "#636efa",
           "#EF553B",
           "#00cc96",
           "#ab63fa",
           "#FFA15A",
           "#19d3f3",
           "#FF6692",
           "#B6E880",
           "#FF97FF",
           "#FECB52"
          ],
          "font": {
           "color": "#2a3f5f"
          },
          "geo": {
           "bgcolor": "white",
           "lakecolor": "white",
           "landcolor": "#E5ECF6",
           "showlakes": true,
           "showland": true,
           "subunitcolor": "white"
          },
          "hoverlabel": {
           "align": "left"
          },
          "hovermode": "closest",
          "mapbox": {
           "style": "light"
          },
          "paper_bgcolor": "white",
          "plot_bgcolor": "#E5ECF6",
          "polar": {
           "angularaxis": {
            "gridcolor": "white",
            "linecolor": "white",
            "ticks": ""
           },
           "bgcolor": "#E5ECF6",
           "radialaxis": {
            "gridcolor": "white",
            "linecolor": "white",
            "ticks": ""
           }
          },
          "scene": {
           "xaxis": {
            "backgroundcolor": "#E5ECF6",
            "gridcolor": "white",
            "gridwidth": 2,
            "linecolor": "white",
            "showbackground": true,
            "ticks": "",
            "zerolinecolor": "white"
           },
           "yaxis": {
            "backgroundcolor": "#E5ECF6",
            "gridcolor": "white",
            "gridwidth": 2,
            "linecolor": "white",
            "showbackground": true,
            "ticks": "",
            "zerolinecolor": "white"
           },
           "zaxis": {
            "backgroundcolor": "#E5ECF6",
            "gridcolor": "white",
            "gridwidth": 2,
            "linecolor": "white",
            "showbackground": true,
            "ticks": "",
            "zerolinecolor": "white"
           }
          },
          "shapedefaults": {
           "line": {
            "color": "#2a3f5f"
           }
          },
          "ternary": {
           "aaxis": {
            "gridcolor": "white",
            "linecolor": "white",
            "ticks": ""
           },
           "baxis": {
            "gridcolor": "white",
            "linecolor": "white",
            "ticks": ""
           },
           "bgcolor": "#E5ECF6",
           "caxis": {
            "gridcolor": "white",
            "linecolor": "white",
            "ticks": ""
           }
          },
          "title": {
           "x": 0.05
          },
          "xaxis": {
           "automargin": true,
           "gridcolor": "white",
           "linecolor": "white",
           "ticks": "",
           "title": {
            "standoff": 15
           },
           "zerolinecolor": "white",
           "zerolinewidth": 2
          },
          "yaxis": {
           "automargin": true,
           "gridcolor": "white",
           "linecolor": "white",
           "ticks": "",
           "title": {
            "standoff": 15
           },
           "zerolinecolor": "white",
           "zerolinewidth": 2
          }
         }
        },
        "width": 1100,
        "xaxis": {
         "anchor": "y",
         "constrain": "domain",
         "domain": [
          0,
          1
         ],
         "scaleanchor": "y"
        },
        "yaxis": {
         "anchor": "x",
         "autorange": "reversed",
         "constrain": "domain",
         "domain": [
          0,
          1
         ]
        }
       }
      }
     },
     "metadata": {},
     "output_type": "display_data"
    }
   ],
   "source": [
    "# построим тепловую диаграму корреляции признаков\n",
    "pivot = hotels.corr()\n",
    "pivot = pivot.drop('sample', axis=1)\n",
    "fig = px.imshow(pivot, width=1100, height=1100)\n",
    "fig.show()"
   ]
  },
  {
   "cell_type": "markdown",
   "metadata": {},
   "source": [
    "Удалим признаки, сильно коррелирующие с другими признаками (с коэффициентом корреляции более 0,80):"
   ]
  },
  {
   "cell_type": "code",
   "execution_count": 46,
   "metadata": {},
   "outputs": [],
   "source": [
    "hotels = hotels.drop(['additional_number_of_scoring', 'Leisure trip', 'n_review_sentiments_neu', 'p_review_sentiments_pos'] , axis = 1)"
   ]
  },
  {
   "cell_type": "markdown",
   "metadata": {},
   "source": [
    "______________________________________________"
   ]
  },
  {
   "cell_type": "markdown",
   "metadata": {},
   "source": [
    "### ОЦЕНКА ЗНАЧИМОСТИ ПРИЗНАКОВ"
   ]
  },
  {
   "cell_type": "markdown",
   "metadata": {},
   "source": [
    "Для оценки значимости непрерывных переменных будем использовать функцию f_classif из библиотеки sklearn (в основе метода оценки значимости переменных лежит анализ ANOVA)"
   ]
  },
  {
   "cell_type": "code",
   "execution_count": 47,
   "metadata": {},
   "outputs": [
    {
     "data": {
      "image/png": "[encoded data removed]",
      "text/plain": [
       "<Figure size 1080x1440 with 1 Axes>"
      ]
     },
     "metadata": {
      "needs_background": "light"
     },
     "output_type": "display_data"
    }
   ],
   "source": [
    "hotels_copy = hotels.copy()\n",
    "y = hotels_copy.query('sample == 1').drop(['sample'], axis=1).reviewer_score.values\n",
    "X = hotels_copy.query('sample == 1').drop(['sample', 'reviewer_score'], axis=1)\n",
    "\n",
    "# визуализируем результат анализа значимости:\n",
    "imp_num = pd.Series(f_classif(X[X.columns], y)[0], index = X.columns)\n",
    "imp_num.sort_values(inplace = True)\n",
    "\n",
    "fig5, ax5 = plt.subplots(figsize=(15, 20))\n",
    "imp_num.plot(kind = 'barh', color='green');"
   ]
  },
  {
   "cell_type": "markdown",
   "metadata": {},
   "source": [
    "Удалим признак, у которого отсутствует корреляция с целевым (Group):"
   ]
  },
  {
   "cell_type": "code",
   "execution_count": 48,
   "metadata": {},
   "outputs": [],
   "source": [
    "hotels = hotels.drop('Group', axis = 1)"
   ]
  },
  {
   "cell_type": "markdown",
   "metadata": {},
   "source": [
    "______________________________________"
   ]
  },
  {
   "cell_type": "markdown",
   "metadata": {},
   "source": [
    "###  ОБУЧЕНИЕ МОДЕЛИ И ПОЛУЧЕНИЕ ПРЕДСКАЗАНИЯ "
   ]
  },
  {
   "cell_type": "code",
   "execution_count": 49,
   "metadata": {},
   "outputs": [],
   "source": [
    "# Теперь выделим тестовую часть\n",
    "train_data = hotels.query('sample == 1').drop(['sample'], axis=1)\n",
    "test_data = hotels.query('sample == 0').drop(['sample'], axis=1)\n",
    "\n",
    "y = train_data.reviewer_score.values # наш таргет\n",
    "X = train_data.drop(['reviewer_score'], axis=1)"
   ]
  },
  {
   "cell_type": "code",
   "execution_count": 50,
   "metadata": {},
   "outputs": [],
   "source": [
    "# Загружаем специальный инструмент для разбивки:  \n",
    "from sklearn.model_selection import train_test_split  "
   ]
  },
  {
   "cell_type": "code",
   "execution_count": 51,
   "metadata": {},
   "outputs": [],
   "source": [
    "# Наборы данных с меткой \"train\" будут использоваться для обучения модели, \"test\" - для тестирования.  \n",
    "# Для тестирования мы будем использовать 25% от исходного датасета.  \n",
    "X_train, X_test, y_train, y_test = train_test_split(X, y, test_size=0.25, random_state=42)"
   ]
  },
  {
   "cell_type": "code",
   "execution_count": 52,
   "metadata": {},
   "outputs": [],
   "source": [
    "# Импортируем необходимые библиотеки:  \n",
    "from sklearn.ensemble import RandomForestRegressor # инструмент для создания и обучения модели  \n",
    "from sklearn import metrics # инструменты для оценки точности модели  \n",
    "  \n",
    "# Создаём модель  \n",
    "regr = RandomForestRegressor(n_estimators=100)  \n",
    "      \n",
    "# Обучаем модель на тестовом наборе данных  \n",
    "regr.fit(X_train, y_train)  \n",
    "      \n",
    "# Используем обученную модель для предсказания рейтинга отелей в тестовой выборке.  \n",
    "# Предсказанные значения записываем в переменную y_pred  \n",
    "y_pred = regr.predict(X_test)  \n"
   ]
  },
  {
   "cell_type": "code",
   "execution_count": 53,
   "metadata": {},
   "outputs": [
    {
     "name": "stdout",
     "output_type": "stream",
     "text": [
      "MAPE: 0.1215346466477859\n"
     ]
    }
   ],
   "source": [
    "# Сравниваем предсказанные значения (y_pred) с реальными (y_test), и смотрим насколько они отличаются  \n",
    "# Метрика называется Mean Absolute Percentage Error (MAPE) и показывает среднюю абсолютную процентную ошибку предсказанных значений от фактических.  \n",
    "print('MAPE:', metrics.mean_absolute_percentage_error(y_test, y_pred))"
   ]
  },
  {
   "cell_type": "code",
   "execution_count": 54,
   "metadata": {},
   "outputs": [
    {
     "data": {
      "text/plain": [
       "<AxesSubplot:>"
      ]
     },
     "execution_count": 54,
     "metadata": {},
     "output_type": "execute_result"
    },
    {
     "data": {
      "image/png": "[encoded data removed]",
      "text/plain": [
       "<Figure size 720x720 with 1 Axes>"
      ]
     },
     "metadata": {
      "needs_background": "light"
     },
     "output_type": "display_data"
    }
   ],
   "source": [
    "# Выведем самые важные признаки для модели\n",
    "plt.rcParams['figure.figsize'] = (10,10)\n",
    "feat_importances = pd.Series(regr.feature_importances_, index=X.columns)\n",
    "feat_importances.nlargest(15).plot(kind='barh')"
   ]
  },
  {
   "cell_type": "code",
   "execution_count": 55,
   "metadata": {},
   "outputs": [
    {
     "data": {
      "text/html": [
       "<div>\n",
       "<style scoped>\n",
       "    .dataframe tbody tr th:only-of-type {\n",
       "        vertical-align: middle;\n",
       "    }\n",
       "\n",
       "    .dataframe tbody tr th {\n",
       "        vertical-align: top;\n",
       "    }\n",
       "\n",
       "    .dataframe thead th {\n",
       "        text-align: right;\n",
       "    }\n",
       "</style>\n",
       "<table border=\"1\" class=\"dataframe\">\n",
       "  <thead>\n",
       "    <tr style=\"text-align: right;\">\n",
       "      <th></th>\n",
       "      <th>reviewer_score</th>\n",
       "      <th>id</th>\n",
       "    </tr>\n",
       "  </thead>\n",
       "  <tbody>\n",
       "    <tr>\n",
       "      <th>0</th>\n",
       "      <td>8.612</td>\n",
       "      <td>488440</td>\n",
       "    </tr>\n",
       "    <tr>\n",
       "      <th>1</th>\n",
       "      <td>7.400</td>\n",
       "      <td>274649</td>\n",
       "    </tr>\n",
       "    <tr>\n",
       "      <th>2</th>\n",
       "      <td>7.944</td>\n",
       "      <td>374688</td>\n",
       "    </tr>\n",
       "    <tr>\n",
       "      <th>3</th>\n",
       "      <td>9.810</td>\n",
       "      <td>404352</td>\n",
       "    </tr>\n",
       "    <tr>\n",
       "      <th>4</th>\n",
       "      <td>9.445</td>\n",
       "      <td>451596</td>\n",
       "    </tr>\n",
       "    <tr>\n",
       "      <th>5</th>\n",
       "      <td>8.762</td>\n",
       "      <td>302161</td>\n",
       "    </tr>\n",
       "    <tr>\n",
       "      <th>6</th>\n",
       "      <td>7.512</td>\n",
       "      <td>317079</td>\n",
       "    </tr>\n",
       "    <tr>\n",
       "      <th>7</th>\n",
       "      <td>7.997</td>\n",
       "      <td>13963</td>\n",
       "    </tr>\n",
       "    <tr>\n",
       "      <th>8</th>\n",
       "      <td>7.946</td>\n",
       "      <td>159785</td>\n",
       "    </tr>\n",
       "    <tr>\n",
       "      <th>9</th>\n",
       "      <td>7.639</td>\n",
       "      <td>195089</td>\n",
       "    </tr>\n",
       "  </tbody>\n",
       "</table>\n",
       "</div>"
      ],
      "text/plain": [
       "   reviewer_score      id\n",
       "0           8.612  488440\n",
       "1           7.400  274649\n",
       "2           7.944  374688\n",
       "3           9.810  404352\n",
       "4           9.445  451596\n",
       "5           8.762  302161\n",
       "6           7.512  317079\n",
       "7           7.997   13963\n",
       "8           7.946  159785\n",
       "9           7.639  195089"
      ]
     },
     "execution_count": 55,
     "metadata": {},
     "output_type": "execute_result"
    }
   ],
   "source": [
    "test_data = test_data.drop(['reviewer_score'], axis=1)\n",
    "predict_submission = regr.predict(test_data)\n",
    "sample_submission['reviewer_score'] = predict_submission\n",
    "\n",
    "#  сохраняем результат:\n",
    "sample_submission.to_csv('data\\submission.csv', index=False)\n",
    "sample_submission.head(10)"
   ]
  },
  {
   "cell_type": "markdown",
   "metadata": {},
   "source": [
    "По итогам моделирования среди 15 наиболее значимых признаков 5 остались в первоначальном виде, 8 признаков спроектированы вновь и 2 признака подверглись дополнительной обработке и кодированию. Ожидаемо по степени влияния на результат моделирования лидируют признаки полученные в ходе лингвистического анализа отзывов. Итоговая средняя абсолютная процентная ошибка снижена на 14%."
   ]
  }
 ],
 "metadata": {
  "kernelspec": {
   "display_name": "Python 3.10.4 64-bit",
   "language": "python",
   "name": "python3"
  },
  "language_info": {
   "codemirror_mode": {
    "name": "ipython",
    "version": 3
   },
   "file_extension": ".py",
   "mimetype": "text/x-python",
   "name": "python",
   "nbconvert_exporter": "python",
   "pygments_lexer": "ipython3",
   "version": "3.10.4"
  },
  "vscode": {
   "interpreter": {
    "hash": "4604fddfbe3ec3d9d385c207fa0ddb9a05dfef66380401ad05b04bbd42d45367"
   }
  }
 },
 "nbformat": 4,
 "nbformat_minor": 2
}
