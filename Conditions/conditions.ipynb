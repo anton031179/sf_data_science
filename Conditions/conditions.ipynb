{
 "cells": [
  {
   "cell_type": "code",
   "execution_count": null,
   "metadata": {},
   "outputs": [],
   "source": [
    "return ((2000 % 4 == 0 or 2000 % 400 == 0) and 2000 % 100 != 0)\n",
    "year % 4 == 0 and year % 100 != 0 or year % 400 == 0"
   ]
  },
  {
   "cell_type": "code",
   "execution_count": 1,
   "metadata": {},
   "outputs": [
    {
     "name": "stdout",
     "output_type": "stream",
     "text": [
      "You entered a right number\n",
      "You enterd 22\n",
      "Exit\n"
     ]
    }
   ],
   "source": [
    "try:\n",
    "   # print(\"Before exception\") # перед исключением\n",
    "    a = int(input(\"a: \"))\n",
    "    #b = int(input(\"b: \"))\n",
    "   # c = a / b\n",
    "   # print(c) # печатаем c = a / b, если всё хорошо\n",
    "except ValueError as e:\n",
    "    print(\"You entered a wrong number\") # после исключения\n",
    "else: # код в блоке else выполняется только в том случае, если код в блоке try выполнился успешно (т. е. не произошло никакого исключения)\n",
    "    print(\"You entered a right number\") # всё отлично!\n",
    "    print(\"You enterd {}\".format(a))\n",
    "finally: # код в блоке finally выполнится в любом случае при выходе из try-except\n",
    "    print(\"Exit\") # наконец-то завершено!"
   ]
  },
  {
   "cell_type": "code",
   "execution_count": 2,
   "metadata": {},
   "outputs": [],
   "source": [
    "# Запишите вместо вопросительных знаков выражение, которое вернет True,\n",
    "# когда каждое из чисел А и В нечетное.\n",
    "def are_both_odd(A, B):\n",
    "    return not(A%2==0 and B%2==0)\n"
   ]
  },
  {
   "cell_type": "code",
   "execution_count": 3,
   "metadata": {},
   "outputs": [
    {
     "name": "stdout",
     "output_type": "stream",
     "text": [
      "Sweak [1]\n"
     ]
    }
   ],
   "source": [
    "# У вас есть заготовка функции — def get_wind_class(speed):\n",
    "# Вам нужно вместо \"???\" написать цикл, который возвращает из функции класс ветра в зависимости от его характера:\n",
    "# от 1 до 4 м/с - \"weak [1]\"\n",
    "# от 5-10 м/c - \"moderate [2]\"\n",
    "# от 11-18 м/c - \"strong [3]\"\n",
    "# от 19 м/c - \"hurricane [4]\"\n",
    "# В последней строке мы просим программу напечатать результат (в зависимости от цифры в скобках) — \n",
    "def get_wind_class(speed):  # Объявление функции\n",
    "    if 1<speed<=4:\n",
    "        return(\"Sweak [1]\")\n",
    "    elif 5<speed<=10:\n",
    "        return(\"moderate [2]\")\n",
    "    elif 11<speed<=18:\n",
    "        return(\"strong [3]\")\n",
    "    elif speed>19:\n",
    "        return(\"hurricane [4]\")\n",
    "print(get_wind_class(3))  # Печатаем результат выполнения"
   ]
  },
  {
   "cell_type": "code",
   "execution_count": 6,
   "metadata": {},
   "outputs": [
    {
     "name": "stdout",
     "output_type": "stream",
     "text": [
      "True\n"
     ]
    }
   ],
   "source": [
    "# 5.4\n",
    "user_database={'user': 'password','iseedeadpeople': 'greedisgood','hesoyam': 'tgm'}\n",
    "def check_user(username, password):\n",
    "    if username in user_database: \n",
    "        #print(\"yessss!\")\n",
    "        if password==user_database[username]:\n",
    "            return True\n",
    "        else: \n",
    "            return False\n",
    "    else: \n",
    "        return False\n",
    "log=input(\"enter login\")\n",
    "pas=input(\"enter password\")\n",
    "print(check_user(str(log),str(pas)))"
   ]
  }
 ],
 "metadata": {
  "kernelspec": {
   "display_name": "Python 3.10.4 64-bit",
   "language": "python",
   "name": "python3"
  },
  "language_info": {
   "codemirror_mode": {
    "name": "ipython",
    "version": 3
   },
   "file_extension": ".py",
   "mimetype": "text/x-python",
   "name": "python",
   "nbconvert_exporter": "python",
   "pygments_lexer": "ipython3",
   "version": "3.10.4"
  },
  "orig_nbformat": 4,
  "vscode": {
   "interpreter": {
    "hash": "4604fddfbe3ec3d9d385c207fa0ddb9a05dfef66380401ad05b04bbd42d45367"
   }
  }
 },
 "nbformat": 4,
 "nbformat_minor": 2
}
