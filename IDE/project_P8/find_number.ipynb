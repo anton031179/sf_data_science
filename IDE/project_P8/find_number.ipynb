{
 "cells": [
  {
   "cell_type": "code",
   "execution_count": 6,
   "metadata": {},
   "outputs": [],
   "source": [
    "import numpy as np"
   ]
  },
  {
   "cell_type": "code",
   "execution_count": 38,
   "metadata": {},
   "outputs": [],
   "source": [
    "def optimal_predict(number: int = 1) -> int:\n",
    "#'''Игра компьютер угадает число меньше чем за 20 попыток'''\n",
    "\n",
    "\n",
    "    min = 1\n",
    "    max = 1001\n",
    "    #number = np.random.randint(min, max)\n",
    "    count = 0\n",
    "\n",
    "    while True:\n",
    "        count+=1\n",
    "        mid = (min+max) // 2\n",
    "    \n",
    "        if mid > number:\n",
    "            max = mid\n",
    "    \n",
    "        elif mid < number:\n",
    "          min = mid\n",
    "\n",
    "        else:\n",
    "            #print(f\"Компьютер угадал число за {count} попыток. Это число {number}\")\n",
    "            break #конец игры выход из цикла\n",
    "    return count"
   ]
  },
  {
   "cell_type": "code",
   "execution_count": 14,
   "metadata": {},
   "outputs": [
    {
     "name": "stdout",
     "output_type": "stream",
     "text": [
      "Количество попыток: 9\n"
     ]
    }
   ],
   "source": [
    "def random_predict7(number: int = 1) -> int:\n",
    "    \"\"\"Компьютер угадывает рандомное число\n",
    "\n",
    "    Args:\n",
    "        number (int, optional): Загаданное число.\n",
    "        \n",
    "    Returns:\n",
    "        int: Число попыток\n",
    "    \"\"\"\n",
    "    #number = np.random.randint(1, 1000) # загадываем рандомное число, используя генератор рандомных чисел\n",
    "    count = 0\n",
    "    mn = 1\n",
    "    mx = 1000\n",
    "    \n",
    "    while True:\n",
    "        count += 1\n",
    "        md = round((mn + mx)/2)\n",
    "        \n",
    "        if md > number:\n",
    "            mx = md\n",
    "        elif md < number:\n",
    "            mn = md\n",
    "        else:\n",
    "            #print(f'Компьютер угадал загаданное число за {count} попыток. Это число {number}')\n",
    "            break # конец игры и выход из цикла\n",
    "        \n",
    "    return count\n",
    "print(f'Количество попыток: {random_predict7(474)}') \n",
    "    "
   ]
  },
  {
   "cell_type": "code",
   "execution_count": 4,
   "metadata": {},
   "outputs": [],
   "source": [
    "def random_predict2(number: int=1) -> int:\n",
    "    \"\"\"Угадываем число ограничивая рамки подбора\n",
    "    \n",
    "    Args:\n",
    "        number (int, optional): Загаданное число. Defaults to 1.\n",
    "\n",
    "    Returns:\n",
    "        int: Число попыток\n",
    "    \"\"\"\n",
    "    count = 0 \n",
    "    \n",
    "    min, max = 1, 1000\n",
    "    predict_number = max / 2\n",
    "    \n",
    "    while number != predict_number:\n",
    "        count+=1\n",
    "        # сужаем рамки поиска\n",
    "        if number > predict_number: \n",
    "            min = predict_number + 1.5\n",
    "        \n",
    "        elif number < predict_number: \n",
    "            max = predict_number - 1.5\n",
    "        \n",
    "        predict_number = round((max + min ) / 2) # разбиваем по полам новые рамки поиска\n",
    "        \n",
    "            \n",
    "    return(count)\n",
    "#random_predict2(99)"
   ]
  },
  {
   "cell_type": "code",
   "execution_count": 5,
   "metadata": {},
   "outputs": [],
   "source": [
    "#import numpy as np\n",
    "'''Игра компьютер угадает число меньше чем за 20 попыток'''\n",
    "def game_core_v31(number: int = 1) -> int:\n",
    "\n",
    "    min = 1\n",
    "    max = 1001\n",
    "\n",
    "    #number = np.random.randint(min, max)\n",
    "    #number = 99\n",
    "    count = 0\n",
    "\n",
    "    while True:\n",
    "        count+=1\n",
    "        mid = round((min+max) / 2)\n",
    "    \n",
    "        if mid > number:\n",
    "            max = mid\n",
    "    \n",
    "        elif mid < number:\n",
    "            min = mid\n",
    "\n",
    "        else:\n",
    "            #print(f\"Компьютер угадал число за {count} попыток. Это число {number}\")\n",
    "            break #конец игры выход из цикла\n",
    "    return count  \n",
    "    "
   ]
  },
  {
   "cell_type": "code",
   "execution_count": 6,
   "metadata": {},
   "outputs": [],
   "source": [
    "#import numpy as np\n",
    "def game_core_v20(number: int = 1) -> int:\n",
    "    \"\"\"Сначала устанавливаем любое random число, а потом уменьшаем\n",
    "    или увеличиваем его в зависимости от того, больше оно или меньше нужного.\n",
    "       Функция принимает загаданное число и возвращает число попыток arrow_up в readme\n",
    "       \n",
    "    Args:\n",
    "        number (int, optional): Загаданное число. Defaults to 1.\n",
    "\n",
    "    Returns:\n",
    "        int: Число попыток\n",
    "    \"\"\"\n",
    "    count = 0\n",
    "    predict = np.random.randint(1, 1001)\n",
    "    \n",
    "    while number != predict:\n",
    "        count += 1\n",
    "        if number > predict:\n",
    "            predict += 1\n",
    "        elif number < predict:\n",
    "            predict -= 1\n",
    "        else: \n",
    "            break\n",
    "\n",
    "    return count\n",
    "\n",
    "#game_core_v20(999)"
   ]
  },
  {
   "cell_type": "code",
   "execution_count": 22,
   "metadata": {},
   "outputs": [],
   "source": [
    "def game_core_v21(number: int = 1) -> int:\n",
    "    limit_a = 0\n",
    "    count = 0\n",
    "    limit_b = 1001\n",
    "    predict = np.random.randint(limit_a, limit_b)\n",
    "    \n",
    "    while number != predict:\n",
    "        count += 1\n",
    "        if number > predict:\n",
    "            limit_b = number\n",
    "            predict = np.random.randint(limit_a, limit_b)\n",
    "\n",
    "        elif number < predict:\n",
    "            limit_a = number\n",
    "            predict = np.random.randint(limit_a, limit_b)\n",
    "        #else: \n",
    "        #break\n",
    "\n",
    "    return count\n",
    "#game_core_v21(148)"
   ]
  },
  {
   "cell_type": "code",
   "execution_count": 29,
   "metadata": {},
   "outputs": [],
   "source": [
    "def game_core_v2(number: int = 1) -> int:\n",
    "    \"\"\"Сначала устанавливаем любое random число, а потом уменьшаем\n",
    "    или увеличиваем его в зависимости от того, больше оно или меньше нужного.\n",
    "       Функция принимает загаданное число и возвращает число попыток arrow_up в readme\n",
    "       \n",
    "    Args:\n",
    "        number (int, optional): Загаданное число. Defaults to 1.\n",
    "\n",
    "    Returns:\n",
    "        int: Число попыток\n",
    "    \"\"\"\n",
    "    limit_a = 1\n",
    "    count = 0\n",
    "    limit_b = 1001\n",
    "    predict = np.random.randint(limit_a, limit_b)\n",
    "    \n",
    "    while number != predict:\n",
    "        count += 1\n",
    "        if number > predict:\n",
    "            predict += 1\n",
    "            limit_b = number\n",
    "\n",
    "        elif number < predict:\n",
    "            predict -= 1\n",
    "            limit_a = number\n",
    "\n",
    "    return count\n",
    "#game_core_v2(35)"
   ]
  },
  {
   "cell_type": "code",
   "execution_count": 8,
   "metadata": {},
   "outputs": [],
   "source": [
    "def random_predict3(number) -> int:\n",
    "    \"\"\"Компьютер угадывает рандомное число\n",
    "    Args:\n",
    "        number (int, optional): Загаданное число.\n",
    "    Returns:\n",
    "        int: Число попыток\n",
    "    \"\"\"\n",
    "    predict_number = np.random.randint(1, 1001) # загадываем рандомное число, используя генератор рандомных чисел\n",
    "    count = 0 # Переменная счетчик\n",
    "    mn = 1 # Минимальное значение рассматриваемого интервала\n",
    "    mx = 1000 # Максимальное значение рассматриваемого интервала\n",
    "    while True:\n",
    "        count += 1\n",
    "        if predict_number > number:\n",
    "            mx = predict_number - 1\n",
    "            predict_number = (mx + mn) // 2\n",
    "        elif predict_number < number:\n",
    "            mn = predict_number + 1\n",
    "            predict_number = (mx + mn) // 2\n",
    "        else:\n",
    "            # print(f'Компьютер угадал загаданное число за {count} попыток. Это число {number}')\n",
    "            break # конец игры и выход из цикла\n",
    "    return count\n",
    "#print(f'Количество попыток: {random_predict3(number)}')"
   ]
  },
  {
   "cell_type": "code",
   "execution_count": 13,
   "metadata": {},
   "outputs": [],
   "source": [
    "def score_game(random_predict) -> int:\n",
    "    \"\"\" За какое количество попыток в среднем за 1000 подходов угадывает наш алгоритм\n",
    "    Args:\n",
    "        random_predict ([type]): функция угадывания\n",
    "    Returns:\n",
    "        int: среднее количество попыток\n",
    "    \"\"\"\n",
    "    count_ls = []\n",
    "    #np.random.seed(1)  # фиксируем сид для воспроизводимости\n",
    "    random_array = np.random.randint(1, 1000, size=(1000))  # загадали список чисел\n",
    "    for number in random_array:\n",
    "        count_ls.append(random_predict(number))\n",
    "        #print(random_predict(number))\n",
    "        #print (count_ls)\n",
    "        #print(int(np.mean(count_ls)))\n",
    "    score = int(np.mean(count_ls))\n",
    "    print(f\"Ваш алгоритм угадывает число в среднем за: {score} попытки\")\n",
    "\n"
   ]
  },
  {
   "cell_type": "code",
   "execution_count": 47,
   "metadata": {},
   "outputs": [
    {
     "name": "stdout",
     "output_type": "stream",
     "text": [
      "Ваш алгоритм угадывает число в среднем за: 354 попытки\n"
     ]
    }
   ],
   "source": [
    "score_game(game_core_v2)"
   ]
  },
  {
   "cell_type": "code",
   "execution_count": 9,
   "metadata": {},
   "outputs": [
    {
     "name": "stdout",
     "output_type": "stream",
     "text": [
      "Ваш алгоритм угадывает число в среднем за: 9 попытки\n"
     ]
    }
   ],
   "source": [
    "score_game(random_predict3)"
   ]
  },
  {
   "cell_type": "code",
   "execution_count": 15,
   "metadata": {},
   "outputs": [
    {
     "ename": "KeyboardInterrupt",
     "evalue": "",
     "output_type": "error",
     "traceback": [
      "\u001b[1;31m---------------------------------------------------------------------------\u001b[0m",
      "\u001b[1;31mKeyboardInterrupt\u001b[0m                         Traceback (most recent call last)",
      "\u001b[1;32mc:\\Users\\anton\\source\\IDE\\project_P8\\find_number.ipynb Cell 13'\u001b[0m in \u001b[0;36m<cell line: 1>\u001b[1;34m()\u001b[0m\n\u001b[1;32m----> <a href='vscode-notebook-cell:/c%3A/Users/anton/source/IDE/project_P8/find_number.ipynb#ch0000012?line=0'>1</a>\u001b[0m score_game(random_predict7)\n",
      "\u001b[1;32mc:\\Users\\anton\\source\\IDE\\project_P8\\find_number.ipynb Cell 10'\u001b[0m in \u001b[0;36mscore_game\u001b[1;34m(random_predict)\u001b[0m\n\u001b[0;32m     <a href='vscode-notebook-cell:/c%3A/Users/anton/source/IDE/project_P8/find_number.ipynb#ch0000009?line=9'>10</a>\u001b[0m random_array \u001b[39m=\u001b[39m np\u001b[39m.\u001b[39mrandom\u001b[39m.\u001b[39mrandint(\u001b[39m1\u001b[39m, \u001b[39m1000\u001b[39m, size\u001b[39m=\u001b[39m(\u001b[39m1000\u001b[39m))  \u001b[39m# загадали список чисел\u001b[39;00m\n\u001b[0;32m     <a href='vscode-notebook-cell:/c%3A/Users/anton/source/IDE/project_P8/find_number.ipynb#ch0000009?line=10'>11</a>\u001b[0m \u001b[39mfor\u001b[39;00m number \u001b[39min\u001b[39;00m random_array:\n\u001b[1;32m---> <a href='vscode-notebook-cell:/c%3A/Users/anton/source/IDE/project_P8/find_number.ipynb#ch0000009?line=11'>12</a>\u001b[0m     count_ls\u001b[39m.\u001b[39mappend(random_predict(number))\n\u001b[0;32m     <a href='vscode-notebook-cell:/c%3A/Users/anton/source/IDE/project_P8/find_number.ipynb#ch0000009?line=12'>13</a>\u001b[0m     \u001b[39m#print(random_predict(number))\u001b[39;00m\n\u001b[0;32m     <a href='vscode-notebook-cell:/c%3A/Users/anton/source/IDE/project_P8/find_number.ipynb#ch0000009?line=13'>14</a>\u001b[0m     \u001b[39m#print (count_ls)\u001b[39;00m\n\u001b[0;32m     <a href='vscode-notebook-cell:/c%3A/Users/anton/source/IDE/project_P8/find_number.ipynb#ch0000009?line=14'>15</a>\u001b[0m     \u001b[39m#print(int(np.mean(count_ls)))\u001b[39;00m\n\u001b[0;32m     <a href='vscode-notebook-cell:/c%3A/Users/anton/source/IDE/project_P8/find_number.ipynb#ch0000009?line=15'>16</a>\u001b[0m score \u001b[39m=\u001b[39m \u001b[39mint\u001b[39m(np\u001b[39m.\u001b[39mmean(count_ls))\n",
      "\u001b[1;32mc:\\Users\\anton\\source\\IDE\\project_P8\\find_number.ipynb Cell 3'\u001b[0m in \u001b[0;36mrandom_predict7\u001b[1;34m(number)\u001b[0m\n\u001b[0;32m     <a href='vscode-notebook-cell:/c%3A/Users/anton/source/IDE/project_P8/find_number.ipynb#ch0000002?line=11'>12</a>\u001b[0m mn \u001b[39m=\u001b[39m \u001b[39m1\u001b[39m\n\u001b[0;32m     <a href='vscode-notebook-cell:/c%3A/Users/anton/source/IDE/project_P8/find_number.ipynb#ch0000002?line=12'>13</a>\u001b[0m mx \u001b[39m=\u001b[39m \u001b[39m1000\u001b[39m\n\u001b[1;32m---> <a href='vscode-notebook-cell:/c%3A/Users/anton/source/IDE/project_P8/find_number.ipynb#ch0000002?line=14'>15</a>\u001b[0m \u001b[39mwhile\u001b[39;00m \u001b[39mTrue\u001b[39;00m:\n\u001b[0;32m     <a href='vscode-notebook-cell:/c%3A/Users/anton/source/IDE/project_P8/find_number.ipynb#ch0000002?line=15'>16</a>\u001b[0m     count \u001b[39m+\u001b[39m\u001b[39m=\u001b[39m \u001b[39m1\u001b[39m\n\u001b[0;32m     <a href='vscode-notebook-cell:/c%3A/Users/anton/source/IDE/project_P8/find_number.ipynb#ch0000002?line=16'>17</a>\u001b[0m     md \u001b[39m=\u001b[39m \u001b[39mround\u001b[39m((mn \u001b[39m+\u001b[39m mx)\u001b[39m/\u001b[39m\u001b[39m2\u001b[39m)\n",
      "\u001b[1;31mKeyboardInterrupt\u001b[0m: "
     ]
    }
   ],
   "source": [
    "score_game(random_predict7)"
   ]
  },
  {
   "cell_type": "code",
   "execution_count": 34,
   "metadata": {},
   "outputs": [
    {
     "ename": "KeyboardInterrupt",
     "evalue": "",
     "output_type": "error",
     "traceback": [
      "\u001b[1;31m---------------------------------------------------------------------------\u001b[0m",
      "\u001b[1;31mKeyboardInterrupt\u001b[0m                         Traceback (most recent call last)",
      "\u001b[1;32mc:\\Users\\engineer1\\Documents\\IDE\\task_8_1\\find_number.ipynb Cell 14'\u001b[0m in \u001b[0;36m<cell line: 1>\u001b[1;34m()\u001b[0m\n\u001b[1;32m----> <a href='vscode-notebook-cell:/c%3A/Users/engineer1/Documents/IDE/task_8_1/find_number.ipynb#ch0000014?line=0'>1</a>\u001b[0m score_game(game_core_v21)\n",
      "\u001b[1;32mc:\\Users\\engineer1\\Documents\\IDE\\task_8_1\\find_number.ipynb Cell 10'\u001b[0m in \u001b[0;36mscore_game\u001b[1;34m(random_predict)\u001b[0m\n\u001b[0;32m     <a href='vscode-notebook-cell:/c%3A/Users/engineer1/Documents/IDE/task_8_1/find_number.ipynb#ch0000010?line=9'>10</a>\u001b[0m random_array \u001b[39m=\u001b[39m np\u001b[39m.\u001b[39mrandom\u001b[39m.\u001b[39mrandint(\u001b[39m1\u001b[39m, \u001b[39m1001\u001b[39m, size\u001b[39m=\u001b[39m(\u001b[39m1000\u001b[39m))  \u001b[39m# загадали список чисел\u001b[39;00m\n\u001b[0;32m     <a href='vscode-notebook-cell:/c%3A/Users/engineer1/Documents/IDE/task_8_1/find_number.ipynb#ch0000010?line=10'>11</a>\u001b[0m \u001b[39mfor\u001b[39;00m number \u001b[39min\u001b[39;00m random_array:\n\u001b[1;32m---> <a href='vscode-notebook-cell:/c%3A/Users/engineer1/Documents/IDE/task_8_1/find_number.ipynb#ch0000010?line=11'>12</a>\u001b[0m     count_ls\u001b[39m.\u001b[39mappend(random_predict(number))\n\u001b[0;32m     <a href='vscode-notebook-cell:/c%3A/Users/engineer1/Documents/IDE/task_8_1/find_number.ipynb#ch0000010?line=12'>13</a>\u001b[0m     \u001b[39m#print(random_predict(number))\u001b[39;00m\n\u001b[0;32m     <a href='vscode-notebook-cell:/c%3A/Users/engineer1/Documents/IDE/task_8_1/find_number.ipynb#ch0000010?line=13'>14</a>\u001b[0m     \u001b[39m#print (count_ls)\u001b[39;00m\n\u001b[0;32m     <a href='vscode-notebook-cell:/c%3A/Users/engineer1/Documents/IDE/task_8_1/find_number.ipynb#ch0000010?line=14'>15</a>\u001b[0m     \u001b[39m#print(int(np.mean(count_ls)))\u001b[39;00m\n\u001b[0;32m     <a href='vscode-notebook-cell:/c%3A/Users/engineer1/Documents/IDE/task_8_1/find_number.ipynb#ch0000010?line=15'>16</a>\u001b[0m score \u001b[39m=\u001b[39m \u001b[39mint\u001b[39m(np\u001b[39m.\u001b[39mmean(count_ls))\n",
      "\u001b[1;32mc:\\Users\\engineer1\\Documents\\IDE\\task_8_1\\find_number.ipynb Cell 7'\u001b[0m in \u001b[0;36mgame_core_v21\u001b[1;34m(number)\u001b[0m\n\u001b[0;32m      <a href='vscode-notebook-cell:/c%3A/Users/engineer1/Documents/IDE/task_8_1/find_number.ipynb#ch0000007?line=3'>4</a>\u001b[0m limit_b \u001b[39m=\u001b[39m \u001b[39m1001\u001b[39m\n\u001b[0;32m      <a href='vscode-notebook-cell:/c%3A/Users/engineer1/Documents/IDE/task_8_1/find_number.ipynb#ch0000007?line=4'>5</a>\u001b[0m predict \u001b[39m=\u001b[39m np\u001b[39m.\u001b[39mrandom\u001b[39m.\u001b[39mrandint(limit_a, limit_b)\n\u001b[1;32m----> <a href='vscode-notebook-cell:/c%3A/Users/engineer1/Documents/IDE/task_8_1/find_number.ipynb#ch0000007?line=6'>7</a>\u001b[0m \u001b[39mwhile\u001b[39;00m number \u001b[39m!=\u001b[39;49m predict:\n\u001b[0;32m      <a href='vscode-notebook-cell:/c%3A/Users/engineer1/Documents/IDE/task_8_1/find_number.ipynb#ch0000007?line=7'>8</a>\u001b[0m     count \u001b[39m+\u001b[39m\u001b[39m=\u001b[39m \u001b[39m1\u001b[39m\n\u001b[0;32m      <a href='vscode-notebook-cell:/c%3A/Users/engineer1/Documents/IDE/task_8_1/find_number.ipynb#ch0000007?line=8'>9</a>\u001b[0m     \u001b[39mif\u001b[39;00m number \u001b[39m>\u001b[39m predict:\n",
      "\u001b[1;31mKeyboardInterrupt\u001b[0m: "
     ]
    }
   ],
   "source": [
    "score_game(game_core_v21)"
   ]
  },
  {
   "cell_type": "code",
   "execution_count": 35,
   "metadata": {},
   "outputs": [
    {
     "ename": "KeyboardInterrupt",
     "evalue": "",
     "output_type": "error",
     "traceback": [
      "\u001b[1;31m---------------------------------------------------------------------------\u001b[0m",
      "\u001b[1;31mKeyboardInterrupt\u001b[0m                         Traceback (most recent call last)",
      "\u001b[1;32mc:\\Users\\engineer1\\Documents\\IDE\\task_8_1\\find_number.ipynb Cell 15'\u001b[0m in \u001b[0;36m<cell line: 1>\u001b[1;34m()\u001b[0m\n\u001b[1;32m----> <a href='vscode-notebook-cell:/c%3A/Users/engineer1/Documents/IDE/task_8_1/find_number.ipynb#ch0000015?line=0'>1</a>\u001b[0m score_game(game_core_v31)\n",
      "\u001b[1;32mc:\\Users\\engineer1\\Documents\\IDE\\task_8_1\\find_number.ipynb Cell 10'\u001b[0m in \u001b[0;36mscore_game\u001b[1;34m(random_predict)\u001b[0m\n\u001b[0;32m     <a href='vscode-notebook-cell:/c%3A/Users/engineer1/Documents/IDE/task_8_1/find_number.ipynb#ch0000010?line=9'>10</a>\u001b[0m random_array \u001b[39m=\u001b[39m np\u001b[39m.\u001b[39mrandom\u001b[39m.\u001b[39mrandint(\u001b[39m1\u001b[39m, \u001b[39m1001\u001b[39m, size\u001b[39m=\u001b[39m(\u001b[39m1000\u001b[39m))  \u001b[39m# загадали список чисел\u001b[39;00m\n\u001b[0;32m     <a href='vscode-notebook-cell:/c%3A/Users/engineer1/Documents/IDE/task_8_1/find_number.ipynb#ch0000010?line=10'>11</a>\u001b[0m \u001b[39mfor\u001b[39;00m number \u001b[39min\u001b[39;00m random_array:\n\u001b[1;32m---> <a href='vscode-notebook-cell:/c%3A/Users/engineer1/Documents/IDE/task_8_1/find_number.ipynb#ch0000010?line=11'>12</a>\u001b[0m     count_ls\u001b[39m.\u001b[39mappend(random_predict(number))\n\u001b[0;32m     <a href='vscode-notebook-cell:/c%3A/Users/engineer1/Documents/IDE/task_8_1/find_number.ipynb#ch0000010?line=12'>13</a>\u001b[0m     \u001b[39m#print(random_predict(number))\u001b[39;00m\n\u001b[0;32m     <a href='vscode-notebook-cell:/c%3A/Users/engineer1/Documents/IDE/task_8_1/find_number.ipynb#ch0000010?line=13'>14</a>\u001b[0m     \u001b[39m#print (count_ls)\u001b[39;00m\n\u001b[0;32m     <a href='vscode-notebook-cell:/c%3A/Users/engineer1/Documents/IDE/task_8_1/find_number.ipynb#ch0000010?line=14'>15</a>\u001b[0m     \u001b[39m#print(int(np.mean(count_ls)))\u001b[39;00m\n\u001b[0;32m     <a href='vscode-notebook-cell:/c%3A/Users/engineer1/Documents/IDE/task_8_1/find_number.ipynb#ch0000010?line=15'>16</a>\u001b[0m score \u001b[39m=\u001b[39m \u001b[39mint\u001b[39m(np\u001b[39m.\u001b[39mmean(count_ls))\n",
      "\u001b[1;32mc:\\Users\\engineer1\\Documents\\IDE\\task_8_1\\find_number.ipynb Cell 5'\u001b[0m in \u001b[0;36mgame_core_v31\u001b[1;34m(number)\u001b[0m\n\u001b[0;32m      <a href='vscode-notebook-cell:/c%3A/Users/engineer1/Documents/IDE/task_8_1/find_number.ipynb#ch0000005?line=8'>9</a>\u001b[0m \u001b[39m#number = np.random.randint(min, max)\u001b[39;00m\n\u001b[0;32m     <a href='vscode-notebook-cell:/c%3A/Users/engineer1/Documents/IDE/task_8_1/find_number.ipynb#ch0000005?line=9'>10</a>\u001b[0m \u001b[39m#number = 99\u001b[39;00m\n\u001b[0;32m     <a href='vscode-notebook-cell:/c%3A/Users/engineer1/Documents/IDE/task_8_1/find_number.ipynb#ch0000005?line=10'>11</a>\u001b[0m count \u001b[39m=\u001b[39m \u001b[39m0\u001b[39m\n\u001b[1;32m---> <a href='vscode-notebook-cell:/c%3A/Users/engineer1/Documents/IDE/task_8_1/find_number.ipynb#ch0000005?line=12'>13</a>\u001b[0m \u001b[39mwhile\u001b[39;00m \u001b[39mTrue\u001b[39;00m:\n\u001b[0;32m     <a href='vscode-notebook-cell:/c%3A/Users/engineer1/Documents/IDE/task_8_1/find_number.ipynb#ch0000005?line=13'>14</a>\u001b[0m     count\u001b[39m+\u001b[39m\u001b[39m=\u001b[39m\u001b[39m1\u001b[39m\n\u001b[0;32m     <a href='vscode-notebook-cell:/c%3A/Users/engineer1/Documents/IDE/task_8_1/find_number.ipynb#ch0000005?line=14'>15</a>\u001b[0m     mid \u001b[39m=\u001b[39m \u001b[39mround\u001b[39m((\u001b[39mmin\u001b[39m\u001b[39m+\u001b[39m\u001b[39mmax\u001b[39m) \u001b[39m/\u001b[39m \u001b[39m2\u001b[39m)\n",
      "\u001b[1;31mKeyboardInterrupt\u001b[0m: "
     ]
    }
   ],
   "source": [
    "score_game(game_core_v31)"
   ]
  },
  {
   "cell_type": "code",
   "execution_count": 44,
   "metadata": {},
   "outputs": [
    {
     "name": "stdout",
     "output_type": "stream",
     "text": [
      "Ваш алгоритм угадывает число в среднем за: 8 попытки\n"
     ]
    }
   ],
   "source": [
    "score_game(random_predict2)"
   ]
  },
  {
   "cell_type": "code",
   "execution_count": null,
   "metadata": {},
   "outputs": [],
   "source": []
  },
  {
   "cell_type": "code",
   "execution_count": 42,
   "metadata": {},
   "outputs": [
    {
     "name": "stdout",
     "output_type": "stream",
     "text": [
      "Ваш алгоритм угадывает число в среднем за: 9 попытки\n"
     ]
    }
   ],
   "source": [
    "score_game(optimal_predict)"
   ]
  }
 ],
 "metadata": {
  "interpreter": {
   "hash": "4604fddfbe3ec3d9d385c207fa0ddb9a05dfef66380401ad05b04bbd42d45367"
  },
  "kernelspec": {
   "display_name": "Python 3.10.4 64-bit",
   "language": "python",
   "name": "python3"
  },
  "language_info": {
   "codemirror_mode": {
    "name": "ipython",
    "version": 3
   },
   "file_extension": ".py",
   "mimetype": "text/x-python",
   "name": "python",
   "nbconvert_exporter": "python",
   "pygments_lexer": "ipython3",
   "version": "3.10.4"
  },
  "orig_nbformat": 4
 },
 "nbformat": 4,
 "nbformat_minor": 2
}
